{
 "cells": [
  {
   "cell_type": "code",
   "execution_count": 1,
   "outputs": [],
   "source": [
    "import pandas as pd\n",
    "import requests\n",
    "from pprint import pprint\n",
    "import plotly_express as px\n",
    "from fouronetwo import Fetch\n",
    "fetch = Fetch()\n",
    "\n"
   ],
   "metadata": {
    "collapsed": false,
    "ExecuteTime": {
     "end_time": "2024-10-05T05:27:02.987491Z",
     "start_time": "2024-10-05T05:27:02.607258Z"
    }
   },
   "id": "81466365851f1193"
  },
  {
   "cell_type": "code",
   "execution_count": 8,
   "id": "initial_id",
   "metadata": {
    "collapsed": true,
    "ExecuteTime": {
     "end_time": "2024-10-05T05:36:35.711577Z",
     "start_time": "2024-10-05T05:36:35.701054Z"
    }
   },
   "outputs": [],
   "source": [
    "# fetch.completed_games(year = 2024, week=1)\n",
    "# fetch.scheduled_games(year = 2024, week=18)\n",
    "# fetch.in_progress_games(year = 2024, week=1)\n",
    "#fetch.completed_games(year=2024, team = 'Pittsburgh Steelers')\n",
    "#data = fetch.boxscore(year=2023, team='Pittsburgh Steelers')\n",
    "#fetch.passing_boxscore(year=2024, pivot=True)\n",
    "#fetch.rushing_boxscore(year=2024, pivot=True)\n",
    "#fetch.receiving_boxscore(year=2024, pivot=True)\n",
    "#fetch.fumble_boxscore(year=2024, pivot=True)\n",
    "#fetch.defensive_boxscore(year=2024, pivot=True)\n",
    "#fetch.interception_boxscore(year=2024, pivot=True)\n",
    "#fetch.kick_return_boxscore(year=2024)\n",
    "#fetch.punt_return_boxscore(year=2024, pivot=True)\n",
    "#fetch.field_goal_boxscore(year=2024, pivot=True)\n",
    "#fetch.punt_boxscore(year=2024)\n",
    "#fetch.drives(year=2024, team='Pittsburgh Steelers')\n",
    "#fetch.plays(year=2024)\n",
    "#fetch.drives(year=2024)\n",
    "#fetch.offensive_drive_summary(year=2024, agg_method='weekly', team='Pittsburgh Steelers')\n",
    "#fetch.defensive_drive_summary(year=2024)\n",
    "#fetch.videos(year=2024, team='Pittsburgh Steelers')\n",
    "#fetch.officials(year=2024, team='Pittsburgh Steelers')\n",
    "#wp = fetch.win_probability(year = 2024, team='Pittsburgh Steelers')\n"
   ]
  },
  {
   "cell_type": "code",
   "execution_count": 8,
   "outputs": [],
   "source": [],
   "metadata": {
    "collapsed": false,
    "ExecuteTime": {
     "end_time": "2024-10-05T05:36:36.336667Z",
     "start_time": "2024-10-05T05:36:36.331625Z"
    }
   },
   "id": "d6e3068182196ee2"
  },
  {
   "cell_type": "code",
   "execution_count": 8,
   "outputs": [],
   "source": [
    "\n"
   ],
   "metadata": {
    "collapsed": false,
    "ExecuteTime": {
     "end_time": "2024-10-05T05:36:39.726219Z",
     "start_time": "2024-10-05T05:36:39.613597Z"
    }
   },
   "id": "2485d885eeb3950c"
  },
  {
   "cell_type": "code",
   "execution_count": 8,
   "outputs": [],
   "source": [],
   "metadata": {
    "collapsed": false,
    "ExecuteTime": {
     "end_time": "2024-10-05T05:36:44.044295Z",
     "start_time": "2024-10-05T05:36:44.034890Z"
    }
   },
   "id": "6ee67305f8d9cd25"
  },
  {
   "cell_type": "code",
   "execution_count": 8,
   "outputs": [],
   "source": [],
   "metadata": {
    "collapsed": false,
    "ExecuteTime": {
     "end_time": "2024-10-05T05:36:46.663692Z",
     "start_time": "2024-10-05T05:36:46.660183Z"
    }
   },
   "id": "a4fe83b60321f83c"
  },
  {
   "cell_type": "markdown",
   "source": [],
   "metadata": {
    "collapsed": false
   },
   "id": "6e10abc99689289"
  },
  {
   "cell_type": "markdown",
   "source": [
    "    "
   ],
   "metadata": {
    "collapsed": false
   },
   "id": "a91e9209662b90a7"
  },
  {
   "cell_type": "code",
   "execution_count": 2,
   "outputs": [],
   "source": [],
   "metadata": {
    "collapsed": false,
    "ExecuteTime": {
     "end_time": "2024-10-03T19:50:53.428152Z",
     "start_time": "2024-10-03T19:50:53.409308Z"
    }
   },
   "id": "361f6053062a4b60"
  },
  {
   "cell_type": "code",
   "execution_count": 2,
   "outputs": [],
   "source": [],
   "metadata": {
    "collapsed": false,
    "ExecuteTime": {
     "end_time": "2024-10-03T19:50:55.764418Z",
     "start_time": "2024-10-03T19:50:55.757631Z"
    }
   },
   "id": "b25283740375e06b"
  },
  {
   "cell_type": "markdown",
   "source": [
    " "
   ],
   "metadata": {
    "collapsed": false
   },
   "id": "79d354ce0fd944e1"
  },
  {
   "cell_type": "code",
   "execution_count": 2,
   "outputs": [],
   "source": [],
   "metadata": {
    "collapsed": false,
    "ExecuteTime": {
     "end_time": "2024-10-03T19:50:59.753461Z",
     "start_time": "2024-10-03T19:50:59.742772Z"
    }
   },
   "id": "10712f09d0cffe03"
  },
  {
   "cell_type": "code",
   "execution_count": 1,
   "outputs": [],
   "source": [],
   "metadata": {
    "collapsed": false,
    "ExecuteTime": {
     "end_time": "2024-09-25T00:47:13.889717Z",
     "start_time": "2024-09-25T00:47:13.875425Z"
    }
   },
   "id": "4e220234adac7230"
  },
  {
   "cell_type": "code",
   "execution_count": 4,
   "outputs": [],
   "source": [],
   "metadata": {
    "collapsed": false,
    "ExecuteTime": {
     "end_time": "2024-09-25T00:50:53.156956Z",
     "start_time": "2024-09-25T00:50:53.139245Z"
    }
   },
   "id": "d9416f8526b1f4e6"
  },
  {
   "cell_type": "code",
   "execution_count": 4,
   "outputs": [],
   "source": [],
   "metadata": {
    "collapsed": false,
    "ExecuteTime": {
     "end_time": "2024-09-25T00:50:56.152345Z",
     "start_time": "2024-09-25T00:50:56.137888Z"
    }
   },
   "id": "13c65fcc74a78f60"
  },
  {
   "cell_type": "markdown",
   "source": [],
   "metadata": {
    "collapsed": false
   },
   "id": "13333f6b73df185b"
  },
  {
   "cell_type": "code",
   "execution_count": null,
   "outputs": [],
   "source": [],
   "metadata": {
    "collapsed": false
   },
   "id": "bbd06cd5dbb7fd55"
  },
  {
   "cell_type": "markdown",
   "source": [],
   "metadata": {
    "collapsed": false
   },
   "id": "cd6265fa45cd1f24"
  },
  {
   "cell_type": "markdown",
   "source": [],
   "metadata": {
    "collapsed": false
   },
   "id": "97bd8c6ebb380f1f"
  },
  {
   "cell_type": "code",
   "execution_count": 17,
   "outputs": [],
   "source": [],
   "metadata": {
    "collapsed": false,
    "ExecuteTime": {
     "end_time": "2024-09-20T03:49:17.737822Z",
     "start_time": "2024-09-20T03:49:17.708221Z"
    }
   },
   "id": "2bb6f3f919127843"
  },
  {
   "cell_type": "code",
   "execution_count": 17,
   "outputs": [],
   "source": [
    "\n"
   ],
   "metadata": {
    "collapsed": false,
    "ExecuteTime": {
     "end_time": "2024-09-20T03:49:17.738092Z",
     "start_time": "2024-09-20T03:49:17.714221Z"
    }
   },
   "id": "18d71cd4ab791960"
  },
  {
   "cell_type": "code",
   "execution_count": 3,
   "outputs": [],
   "source": [],
   "metadata": {
    "collapsed": false,
    "ExecuteTime": {
     "end_time": "2024-09-18T22:20:12.157898Z",
     "start_time": "2024-09-18T22:20:12.147192Z"
    }
   },
   "id": "7b91c464307da466"
  },
  {
   "cell_type": "code",
   "execution_count": 3,
   "outputs": [],
   "source": [],
   "metadata": {
    "collapsed": false,
    "ExecuteTime": {
     "end_time": "2024-09-18T22:20:12.379652Z",
     "start_time": "2024-09-18T22:20:12.370993Z"
    }
   },
   "id": "f9bfcca282d7537c"
  },
  {
   "cell_type": "code",
   "execution_count": 3,
   "outputs": [],
   "source": [],
   "metadata": {
    "collapsed": false,
    "ExecuteTime": {
     "end_time": "2024-09-18T22:20:12.596969Z",
     "start_time": "2024-09-18T22:20:12.556415Z"
    }
   },
   "id": "b912049296c01ed5"
  },
  {
   "cell_type": "code",
   "execution_count": 3,
   "outputs": [],
   "source": [],
   "metadata": {
    "collapsed": false,
    "ExecuteTime": {
     "end_time": "2024-09-18T22:20:12.942709Z",
     "start_time": "2024-09-18T22:20:12.907338Z"
    }
   },
   "id": "7311cfc949aaa8ac"
  },
  {
   "cell_type": "code",
   "execution_count": 3,
   "outputs": [],
   "source": [],
   "metadata": {
    "collapsed": false,
    "ExecuteTime": {
     "end_time": "2024-09-18T22:20:13.131142Z",
     "start_time": "2024-09-18T22:20:13.107989Z"
    }
   },
   "id": "f71e1b3bf3eab20a"
  },
  {
   "cell_type": "code",
   "execution_count": 3,
   "outputs": [],
   "source": [],
   "metadata": {
    "collapsed": false,
    "ExecuteTime": {
     "end_time": "2024-09-18T22:20:13.366260Z",
     "start_time": "2024-09-18T22:20:13.331571Z"
    }
   },
   "id": "25e1c8e4674f4f68"
  },
  {
   "cell_type": "code",
   "execution_count": 3,
   "outputs": [],
   "source": [],
   "metadata": {
    "collapsed": false,
    "ExecuteTime": {
     "end_time": "2024-09-18T22:20:13.545226Z",
     "start_time": "2024-09-18T22:20:13.514217Z"
    }
   },
   "id": "f6e442163c078cee"
  },
  {
   "cell_type": "code",
   "execution_count": 3,
   "outputs": [],
   "source": [],
   "metadata": {
    "collapsed": false,
    "ExecuteTime": {
     "end_time": "2024-09-18T22:20:13.713336Z",
     "start_time": "2024-09-18T22:20:13.681178Z"
    }
   },
   "id": "28e7905afd34ee3b"
  },
  {
   "cell_type": "code",
   "execution_count": null,
   "outputs": [],
   "source": [],
   "metadata": {
    "collapsed": false
   },
   "id": "edaed07d571eff52"
  }
 ],
 "metadata": {
  "kernelspec": {
   "display_name": "Python 3",
   "language": "python",
   "name": "python3"
  },
  "language_info": {
   "codemirror_mode": {
    "name": "ipython",
    "version": 2
   },
   "file_extension": ".py",
   "mimetype": "text/x-python",
   "name": "python",
   "nbconvert_exporter": "python",
   "pygments_lexer": "ipython2",
   "version": "2.7.6"
  }
 },
 "nbformat": 4,
 "nbformat_minor": 5
}
