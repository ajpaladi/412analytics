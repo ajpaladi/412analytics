{
 "cells": [
  {
   "cell_type": "code",
   "execution_count": 1,
   "outputs": [],
   "source": [
    "import pandas as pd\n",
    "import requests\n",
    "from pprint import pprint\n",
    "from fouronetwo import Fetch\n",
    "fetch = Fetch()\n",
    "\n"
   ],
   "metadata": {
    "collapsed": false,
    "ExecuteTime": {
     "end_time": "2024-09-20T02:33:01.825649Z",
     "start_time": "2024-09-20T02:33:00.919732Z"
    }
   },
   "id": "81466365851f1193"
  },
  {
   "cell_type": "code",
   "execution_count": 2,
   "id": "initial_id",
   "metadata": {
    "collapsed": true,
    "ExecuteTime": {
     "end_time": "2024-09-20T02:33:02.261524Z",
     "start_time": "2024-09-20T02:33:02.236192Z"
    }
   },
   "outputs": [],
   "source": [
    "# fetch.completed_games(year = 2024, week=1)\n",
    "# fetch.scheduled_games(year = 2024, week=18)\n",
    "# fetch.in_progress_games(year = 2024, week=1)\n",
    "#fetch.completed_games(year=2024, team = 'Pittsburgh Steelers')\n",
    "#data = fetch.boxscore(year=2023, team='Pittsburgh Steelers')\n",
    "#fetch.passing_boxscore(year=2024, pivot=True)\n",
    "#fetch.rushing_boxscore(year=2024, pivot=True)\n",
    "#fetch.receiving_boxscore(year=2024, pivot=True)\n",
    "#fetch.fumble_boxscore(year=2024, pivot=True)\n"
   ]
  },
  {
   "cell_type": "markdown",
   "source": [],
   "metadata": {
    "collapsed": false
   },
   "id": "a91e9209662b90a7"
  },
  {
   "cell_type": "code",
   "execution_count": 4,
   "outputs": [
    {
     "name": "stderr",
     "output_type": "stream",
     "text": [
      "/Users/andrewpaladino/Documents/projects/412analytics/fouronetwo.py:94: FutureWarning: Behavior when concatenating bool-dtype and numeric-dtype arrays is deprecated; in a future version these will cast to object dtype (instead of coercing bools to numeric values). To retain the old behavior, explicitly cast bool-dtype arrays to numeric dtype.\n",
      "  total_completed = pd.concat([events_merged, total_completed])\n",
      "100%|██████████| 32/32 [00:07<00:00,  4.18it/s]\n"
     ]
    },
    {
     "data": {
      "text/plain": "                opponent_  points_mean  points_sum  points_allowed_mean  \\\n0       Arizona Cardinals         22.0          44                 34.5   \n1         Atlanta Falcons         19.5          39                 16.0   \n2        Baltimore Ravens         26.5          53                 21.5   \n3           Buffalo Bills         19.0          38                 32.5   \n4       Carolina Panthers         36.5          73                  6.5   \n5           Chicago Bears         18.0          36                 18.5   \n6      Cincinnati Bengals         21.0          42                 17.5   \n7        Cleveland Browns         23.0          46                 17.5   \n8          Dallas Cowboys         30.5          61                 26.0   \n9          Denver Broncos         19.5          39                 13.0   \n10          Detroit Lions         20.0          40                 21.0   \n11      Green Bay Packers         22.0          44                 22.5   \n12         Houston Texans         20.0          40                 24.0   \n13     Indianapolis Colts         22.5          45                 18.5   \n14   Jacksonville Jaguars         19.0          38                 15.0   \n15     Kansas City Chiefs         22.5          45                 26.5   \n16      Las Vegas Raiders         22.5          45                 18.0   \n17   Los Angeles Chargers          6.5          13                 24.0   \n18       Los Angeles Rams         33.5          67                 15.0   \n19         Miami Dolphins         24.0          48                 15.0   \n20      Minnesota Vikings         11.5          23                 25.5   \n21   New England Patriots         16.5          33                 18.0   \n22     New Orleans Saints         14.5          29                 45.5   \n23        New York Giants         24.5          49                 12.0   \n24          New York Jets         24.5          49                 21.5   \n25    Philadelphia Eagles         25.5          51                 27.5   \n26    Pittsburgh Steelers          8.0          16                 15.5   \n27    San Francisco 49ers         21.0          42                 24.5   \n28       Seattle Seahawks         20.0          40                 24.5   \n29   Tampa Bay Buccaneers         18.0          36                 28.5   \n30       Tennessee Titans         24.0          48                 17.0   \n31  Washington Commanders         27.5          55                 20.5   \n\n    points_allowed_sum  first_downs_mean  first_downs_sum  \\\n0                   69              18.5               37   \n1                   32              19.0               38   \n2                   43              19.5               39   \n3                   65              19.0               38   \n4                   13              21.5               43   \n5                   37              15.5               31   \n6                   35              18.0               36   \n7                   35              16.5               33   \n8                   52              19.5               39   \n9                   26              17.5               35   \n10                  42              20.0               40   \n11                  45              22.0               44   \n12                  48              14.5               29   \n13                  37              22.5               45   \n14                  30              17.5               35   \n15                  53              21.5               43   \n16                  36              16.0               32   \n17                  48              10.5               21   \n18                  30              22.5               45   \n19                  30              15.0               30   \n20                  51              19.0               38   \n21                  36              15.5               31   \n22                  91              15.5               31   \n23                  24              19.5               39   \n24                  43              22.0               44   \n25                  55              20.5               41   \n26                  31              14.0               28   \n27                  49              15.5               31   \n28                  49              16.0               32   \n29                  57              24.0               48   \n30                  34              13.5               27   \n31                  41              20.0               40   \n\n    passing_first_downs_mean  passing_first_downs_sum  \\\n0                       10.0                       20   \n1                        9.0                       18   \n2                       14.5                       29   \n3                       11.0                       22   \n4                        7.5                       15   \n5                        8.5                       17   \n6                        6.5                       13   \n7                        8.5                       17   \n8                        8.0                       16   \n9                        9.0                       18   \n10                      12.0                       24   \n11                      12.0                       24   \n12                       5.5                       11   \n13                       9.5                       19   \n14                       9.0                       18   \n15                      11.0                       22   \n16                      10.0                       20   \n17                       7.5                       15   \n18                       8.0                       16   \n19                       6.5                       13   \n20                      12.5                       25   \n21                       9.0                       18   \n22                      10.0                       20   \n23                       9.5                       19   \n24                       9.5                       19   \n25                      10.0                       20   \n26                       8.0                       16   \n27                      10.0                       20   \n28                       7.5                       15   \n29                      11.5                       23   \n30                       7.0                       14   \n31                      13.0                       26   \n\n    rushing_first_downs_mean  ...  fourth_down_success_%_mean  \\\n0                        6.0  ...                   66.666667   \n1                        9.5  ...                   33.333333   \n2                        2.5  ...                    0.000000   \n3                        7.5  ...                   10.000000   \n4                       11.5  ...                         NaN   \n5                        6.5  ...                   75.000000   \n6                       10.0  ...                  100.000000   \n7                        7.0  ...                         NaN   \n8                       10.0  ...                   60.000000   \n9                        4.5  ...                         NaN   \n10                       5.5  ...                   50.000000   \n11                       8.0  ...                   75.000000   \n12                       6.0  ...                   50.000000   \n13                      12.0  ...                  100.000000   \n14                       6.0  ...                   50.000000   \n15                       9.5  ...                   75.000000   \n16                       5.0  ...                  100.000000   \n17                       2.5  ...                   16.666667   \n18                      13.0  ...                  100.000000   \n19                       7.0  ...                   50.000000   \n20                       5.0  ...                   33.333333   \n21                       5.0  ...                   25.000000   \n22                       3.5  ...                   33.333333   \n23                       8.0  ...                  100.000000   \n24                       9.5  ...                    0.000000   \n25                       8.0  ...                   75.000000   \n26                       5.5  ...                   75.000000   \n27                       5.5  ...                    0.000000   \n28                       7.5  ...                  100.000000   \n29                       9.5  ...                   80.000000   \n30                       6.0  ...                  100.000000   \n31                       4.5  ...                   50.000000   \n\n    red_zone_success_%_mean  times_sacked_mean  times_sacked_sum  \\\n0                 50.000000                3.5                 7   \n1                 20.000000                1.5                 3   \n2                 50.000000                3.5                 7   \n3                 37.500000                3.0                 6   \n4                 75.000000                1.0                 2   \n5                 50.000000                3.0                 6   \n6                 37.500000                1.5                 3   \n7                 62.500000                3.5                 7   \n8                 90.000000                3.5                 7   \n9                 25.000000                2.0                 4   \n10                45.000000                3.5                 7   \n11                50.000000                1.5                 3   \n12                83.333333                4.5                 9   \n13                66.666667                2.0                 4   \n14                75.000000                2.5                 5   \n15                37.500000                2.0                 4   \n16                58.333333                1.5                 3   \n17                 0.000000                3.0                 6   \n18                62.500000                1.5                 3   \n19                83.333333                1.5                 3   \n20                25.000000                5.5                11   \n21                41.666667                3.0                 6   \n22                25.000000                3.5                 7   \n23                50.000000                3.0                 6   \n24                32.500000                3.5                 7   \n25                29.166667                1.5                 3   \n26                25.000000                2.0                 4   \n27                66.666667                2.5                 5   \n28                37.500000                2.5                 5   \n29                57.142857                1.0                 2   \n30                25.000000                2.0                 4   \n31                80.000000                1.0                 2   \n\n    sack_yards_mean  sack_yards_sum  penalties_mean  penalties_sum  \\\n0              17.0              34             5.5             11   \n1              13.5              27             9.0             18   \n2              26.5              53             4.5              9   \n3              14.5              29             6.0             12   \n4               0.5               1             6.5             13   \n5              24.0              48            10.0             20   \n6               7.5              15             4.5              9   \n7              20.0              40             8.5             17   \n8              16.5              33             8.0             16   \n9              10.0              20             8.0             16   \n10             26.0              52             5.0             10   \n11              9.0              18             5.0             10   \n12             26.5              53             6.5             13   \n13             15.0              30             5.5             11   \n14             16.5              33            11.0             22   \n15              9.0              18             7.5             15   \n16              9.5              19             9.0             18   \n17             23.5              47             5.5             11   \n18             12.5              25             5.5             11   \n19             11.5              23             4.5              9   \n20             22.5              45             6.5             13   \n21             12.5              25             4.0              8   \n22             20.0              40             5.0             10   \n23             11.5              23             8.5             17   \n24             16.0              32             4.5              9   \n25              8.5              17             6.5             13   \n26             16.5              33             7.0             14   \n27              8.0              16             5.0             10   \n28             15.0              30             5.5             11   \n29             11.5              23             5.5             11   \n30             20.5              41             7.0             14   \n31              6.0              12             6.0             12   \n\n    penalty_yards_mean  penalty_yards_sum  \n0                 37.5                 75  \n1                 56.5                113  \n2                 30.0                 60  \n3                 40.5                 81  \n4                 55.0                110  \n5                 82.5                165  \n6                 42.0                 84  \n7                 68.5                137  \n8                 52.0                104  \n9                 59.5                119  \n10                42.5                 85  \n11                38.5                 77  \n12                40.0                 80  \n13                40.0                 80  \n14               101.5                203  \n15                71.5                143  \n16                79.5                159  \n17                52.5                105  \n18                54.0                108  \n19                38.0                 76  \n20                62.5                125  \n21                30.0                 60  \n22                53.0                106  \n23                66.0                132  \n24                42.5                 85  \n25                55.5                111  \n26                79.0                158  \n27                31.5                 63  \n28                51.0                102  \n29                61.0                122  \n30                62.5                125  \n31                33.0                 66  \n\n[32 rows x 49 columns]",
      "text/html": "<div>\n<style scoped>\n    .dataframe tbody tr th:only-of-type {\n        vertical-align: middle;\n    }\n\n    .dataframe tbody tr th {\n        vertical-align: top;\n    }\n\n    .dataframe thead th {\n        text-align: right;\n    }\n</style>\n<table border=\"1\" class=\"dataframe\">\n  <thead>\n    <tr style=\"text-align: right;\">\n      <th></th>\n      <th>opponent_</th>\n      <th>points_mean</th>\n      <th>points_sum</th>\n      <th>points_allowed_mean</th>\n      <th>points_allowed_sum</th>\n      <th>first_downs_mean</th>\n      <th>first_downs_sum</th>\n      <th>passing_first_downs_mean</th>\n      <th>passing_first_downs_sum</th>\n      <th>rushing_first_downs_mean</th>\n      <th>...</th>\n      <th>fourth_down_success_%_mean</th>\n      <th>red_zone_success_%_mean</th>\n      <th>times_sacked_mean</th>\n      <th>times_sacked_sum</th>\n      <th>sack_yards_mean</th>\n      <th>sack_yards_sum</th>\n      <th>penalties_mean</th>\n      <th>penalties_sum</th>\n      <th>penalty_yards_mean</th>\n      <th>penalty_yards_sum</th>\n    </tr>\n  </thead>\n  <tbody>\n    <tr>\n      <th>0</th>\n      <td>Arizona Cardinals</td>\n      <td>22.0</td>\n      <td>44</td>\n      <td>34.5</td>\n      <td>69</td>\n      <td>18.5</td>\n      <td>37</td>\n      <td>10.0</td>\n      <td>20</td>\n      <td>6.0</td>\n      <td>...</td>\n      <td>66.666667</td>\n      <td>50.000000</td>\n      <td>3.5</td>\n      <td>7</td>\n      <td>17.0</td>\n      <td>34</td>\n      <td>5.5</td>\n      <td>11</td>\n      <td>37.5</td>\n      <td>75</td>\n    </tr>\n    <tr>\n      <th>1</th>\n      <td>Atlanta Falcons</td>\n      <td>19.5</td>\n      <td>39</td>\n      <td>16.0</td>\n      <td>32</td>\n      <td>19.0</td>\n      <td>38</td>\n      <td>9.0</td>\n      <td>18</td>\n      <td>9.5</td>\n      <td>...</td>\n      <td>33.333333</td>\n      <td>20.000000</td>\n      <td>1.5</td>\n      <td>3</td>\n      <td>13.5</td>\n      <td>27</td>\n      <td>9.0</td>\n      <td>18</td>\n      <td>56.5</td>\n      <td>113</td>\n    </tr>\n    <tr>\n      <th>2</th>\n      <td>Baltimore Ravens</td>\n      <td>26.5</td>\n      <td>53</td>\n      <td>21.5</td>\n      <td>43</td>\n      <td>19.5</td>\n      <td>39</td>\n      <td>14.5</td>\n      <td>29</td>\n      <td>2.5</td>\n      <td>...</td>\n      <td>0.000000</td>\n      <td>50.000000</td>\n      <td>3.5</td>\n      <td>7</td>\n      <td>26.5</td>\n      <td>53</td>\n      <td>4.5</td>\n      <td>9</td>\n      <td>30.0</td>\n      <td>60</td>\n    </tr>\n    <tr>\n      <th>3</th>\n      <td>Buffalo Bills</td>\n      <td>19.0</td>\n      <td>38</td>\n      <td>32.5</td>\n      <td>65</td>\n      <td>19.0</td>\n      <td>38</td>\n      <td>11.0</td>\n      <td>22</td>\n      <td>7.5</td>\n      <td>...</td>\n      <td>10.000000</td>\n      <td>37.500000</td>\n      <td>3.0</td>\n      <td>6</td>\n      <td>14.5</td>\n      <td>29</td>\n      <td>6.0</td>\n      <td>12</td>\n      <td>40.5</td>\n      <td>81</td>\n    </tr>\n    <tr>\n      <th>4</th>\n      <td>Carolina Panthers</td>\n      <td>36.5</td>\n      <td>73</td>\n      <td>6.5</td>\n      <td>13</td>\n      <td>21.5</td>\n      <td>43</td>\n      <td>7.5</td>\n      <td>15</td>\n      <td>11.5</td>\n      <td>...</td>\n      <td>NaN</td>\n      <td>75.000000</td>\n      <td>1.0</td>\n      <td>2</td>\n      <td>0.5</td>\n      <td>1</td>\n      <td>6.5</td>\n      <td>13</td>\n      <td>55.0</td>\n      <td>110</td>\n    </tr>\n    <tr>\n      <th>5</th>\n      <td>Chicago Bears</td>\n      <td>18.0</td>\n      <td>36</td>\n      <td>18.5</td>\n      <td>37</td>\n      <td>15.5</td>\n      <td>31</td>\n      <td>8.5</td>\n      <td>17</td>\n      <td>6.5</td>\n      <td>...</td>\n      <td>75.000000</td>\n      <td>50.000000</td>\n      <td>3.0</td>\n      <td>6</td>\n      <td>24.0</td>\n      <td>48</td>\n      <td>10.0</td>\n      <td>20</td>\n      <td>82.5</td>\n      <td>165</td>\n    </tr>\n    <tr>\n      <th>6</th>\n      <td>Cincinnati Bengals</td>\n      <td>21.0</td>\n      <td>42</td>\n      <td>17.5</td>\n      <td>35</td>\n      <td>18.0</td>\n      <td>36</td>\n      <td>6.5</td>\n      <td>13</td>\n      <td>10.0</td>\n      <td>...</td>\n      <td>100.000000</td>\n      <td>37.500000</td>\n      <td>1.5</td>\n      <td>3</td>\n      <td>7.5</td>\n      <td>15</td>\n      <td>4.5</td>\n      <td>9</td>\n      <td>42.0</td>\n      <td>84</td>\n    </tr>\n    <tr>\n      <th>7</th>\n      <td>Cleveland Browns</td>\n      <td>23.0</td>\n      <td>46</td>\n      <td>17.5</td>\n      <td>35</td>\n      <td>16.5</td>\n      <td>33</td>\n      <td>8.5</td>\n      <td>17</td>\n      <td>7.0</td>\n      <td>...</td>\n      <td>NaN</td>\n      <td>62.500000</td>\n      <td>3.5</td>\n      <td>7</td>\n      <td>20.0</td>\n      <td>40</td>\n      <td>8.5</td>\n      <td>17</td>\n      <td>68.5</td>\n      <td>137</td>\n    </tr>\n    <tr>\n      <th>8</th>\n      <td>Dallas Cowboys</td>\n      <td>30.5</td>\n      <td>61</td>\n      <td>26.0</td>\n      <td>52</td>\n      <td>19.5</td>\n      <td>39</td>\n      <td>8.0</td>\n      <td>16</td>\n      <td>10.0</td>\n      <td>...</td>\n      <td>60.000000</td>\n      <td>90.000000</td>\n      <td>3.5</td>\n      <td>7</td>\n      <td>16.5</td>\n      <td>33</td>\n      <td>8.0</td>\n      <td>16</td>\n      <td>52.0</td>\n      <td>104</td>\n    </tr>\n    <tr>\n      <th>9</th>\n      <td>Denver Broncos</td>\n      <td>19.5</td>\n      <td>39</td>\n      <td>13.0</td>\n      <td>26</td>\n      <td>17.5</td>\n      <td>35</td>\n      <td>9.0</td>\n      <td>18</td>\n      <td>4.5</td>\n      <td>...</td>\n      <td>NaN</td>\n      <td>25.000000</td>\n      <td>2.0</td>\n      <td>4</td>\n      <td>10.0</td>\n      <td>20</td>\n      <td>8.0</td>\n      <td>16</td>\n      <td>59.5</td>\n      <td>119</td>\n    </tr>\n    <tr>\n      <th>10</th>\n      <td>Detroit Lions</td>\n      <td>20.0</td>\n      <td>40</td>\n      <td>21.0</td>\n      <td>42</td>\n      <td>20.0</td>\n      <td>40</td>\n      <td>12.0</td>\n      <td>24</td>\n      <td>5.5</td>\n      <td>...</td>\n      <td>50.000000</td>\n      <td>45.000000</td>\n      <td>3.5</td>\n      <td>7</td>\n      <td>26.0</td>\n      <td>52</td>\n      <td>5.0</td>\n      <td>10</td>\n      <td>42.5</td>\n      <td>85</td>\n    </tr>\n    <tr>\n      <th>11</th>\n      <td>Green Bay Packers</td>\n      <td>22.0</td>\n      <td>44</td>\n      <td>22.5</td>\n      <td>45</td>\n      <td>22.0</td>\n      <td>44</td>\n      <td>12.0</td>\n      <td>24</td>\n      <td>8.0</td>\n      <td>...</td>\n      <td>75.000000</td>\n      <td>50.000000</td>\n      <td>1.5</td>\n      <td>3</td>\n      <td>9.0</td>\n      <td>18</td>\n      <td>5.0</td>\n      <td>10</td>\n      <td>38.5</td>\n      <td>77</td>\n    </tr>\n    <tr>\n      <th>12</th>\n      <td>Houston Texans</td>\n      <td>20.0</td>\n      <td>40</td>\n      <td>24.0</td>\n      <td>48</td>\n      <td>14.5</td>\n      <td>29</td>\n      <td>5.5</td>\n      <td>11</td>\n      <td>6.0</td>\n      <td>...</td>\n      <td>50.000000</td>\n      <td>83.333333</td>\n      <td>4.5</td>\n      <td>9</td>\n      <td>26.5</td>\n      <td>53</td>\n      <td>6.5</td>\n      <td>13</td>\n      <td>40.0</td>\n      <td>80</td>\n    </tr>\n    <tr>\n      <th>13</th>\n      <td>Indianapolis Colts</td>\n      <td>22.5</td>\n      <td>45</td>\n      <td>18.5</td>\n      <td>37</td>\n      <td>22.5</td>\n      <td>45</td>\n      <td>9.5</td>\n      <td>19</td>\n      <td>12.0</td>\n      <td>...</td>\n      <td>100.000000</td>\n      <td>66.666667</td>\n      <td>2.0</td>\n      <td>4</td>\n      <td>15.0</td>\n      <td>30</td>\n      <td>5.5</td>\n      <td>11</td>\n      <td>40.0</td>\n      <td>80</td>\n    </tr>\n    <tr>\n      <th>14</th>\n      <td>Jacksonville Jaguars</td>\n      <td>19.0</td>\n      <td>38</td>\n      <td>15.0</td>\n      <td>30</td>\n      <td>17.5</td>\n      <td>35</td>\n      <td>9.0</td>\n      <td>18</td>\n      <td>6.0</td>\n      <td>...</td>\n      <td>50.000000</td>\n      <td>75.000000</td>\n      <td>2.5</td>\n      <td>5</td>\n      <td>16.5</td>\n      <td>33</td>\n      <td>11.0</td>\n      <td>22</td>\n      <td>101.5</td>\n      <td>203</td>\n    </tr>\n    <tr>\n      <th>15</th>\n      <td>Kansas City Chiefs</td>\n      <td>22.5</td>\n      <td>45</td>\n      <td>26.5</td>\n      <td>53</td>\n      <td>21.5</td>\n      <td>43</td>\n      <td>11.0</td>\n      <td>22</td>\n      <td>9.5</td>\n      <td>...</td>\n      <td>75.000000</td>\n      <td>37.500000</td>\n      <td>2.0</td>\n      <td>4</td>\n      <td>9.0</td>\n      <td>18</td>\n      <td>7.5</td>\n      <td>15</td>\n      <td>71.5</td>\n      <td>143</td>\n    </tr>\n    <tr>\n      <th>16</th>\n      <td>Las Vegas Raiders</td>\n      <td>22.5</td>\n      <td>45</td>\n      <td>18.0</td>\n      <td>36</td>\n      <td>16.0</td>\n      <td>32</td>\n      <td>10.0</td>\n      <td>20</td>\n      <td>5.0</td>\n      <td>...</td>\n      <td>100.000000</td>\n      <td>58.333333</td>\n      <td>1.5</td>\n      <td>3</td>\n      <td>9.5</td>\n      <td>19</td>\n      <td>9.0</td>\n      <td>18</td>\n      <td>79.5</td>\n      <td>159</td>\n    </tr>\n    <tr>\n      <th>17</th>\n      <td>Los Angeles Chargers</td>\n      <td>6.5</td>\n      <td>13</td>\n      <td>24.0</td>\n      <td>48</td>\n      <td>10.5</td>\n      <td>21</td>\n      <td>7.5</td>\n      <td>15</td>\n      <td>2.5</td>\n      <td>...</td>\n      <td>16.666667</td>\n      <td>0.000000</td>\n      <td>3.0</td>\n      <td>6</td>\n      <td>23.5</td>\n      <td>47</td>\n      <td>5.5</td>\n      <td>11</td>\n      <td>52.5</td>\n      <td>105</td>\n    </tr>\n    <tr>\n      <th>18</th>\n      <td>Los Angeles Rams</td>\n      <td>33.5</td>\n      <td>67</td>\n      <td>15.0</td>\n      <td>30</td>\n      <td>22.5</td>\n      <td>45</td>\n      <td>8.0</td>\n      <td>16</td>\n      <td>13.0</td>\n      <td>...</td>\n      <td>100.000000</td>\n      <td>62.500000</td>\n      <td>1.5</td>\n      <td>3</td>\n      <td>12.5</td>\n      <td>25</td>\n      <td>5.5</td>\n      <td>11</td>\n      <td>54.0</td>\n      <td>108</td>\n    </tr>\n    <tr>\n      <th>19</th>\n      <td>Miami Dolphins</td>\n      <td>24.0</td>\n      <td>48</td>\n      <td>15.0</td>\n      <td>30</td>\n      <td>15.0</td>\n      <td>30</td>\n      <td>6.5</td>\n      <td>13</td>\n      <td>7.0</td>\n      <td>...</td>\n      <td>50.000000</td>\n      <td>83.333333</td>\n      <td>1.5</td>\n      <td>3</td>\n      <td>11.5</td>\n      <td>23</td>\n      <td>4.5</td>\n      <td>9</td>\n      <td>38.0</td>\n      <td>76</td>\n    </tr>\n    <tr>\n      <th>20</th>\n      <td>Minnesota Vikings</td>\n      <td>11.5</td>\n      <td>23</td>\n      <td>25.5</td>\n      <td>51</td>\n      <td>19.0</td>\n      <td>38</td>\n      <td>12.5</td>\n      <td>25</td>\n      <td>5.0</td>\n      <td>...</td>\n      <td>33.333333</td>\n      <td>25.000000</td>\n      <td>5.5</td>\n      <td>11</td>\n      <td>22.5</td>\n      <td>45</td>\n      <td>6.5</td>\n      <td>13</td>\n      <td>62.5</td>\n      <td>125</td>\n    </tr>\n    <tr>\n      <th>21</th>\n      <td>New England Patriots</td>\n      <td>16.5</td>\n      <td>33</td>\n      <td>18.0</td>\n      <td>36</td>\n      <td>15.5</td>\n      <td>31</td>\n      <td>9.0</td>\n      <td>18</td>\n      <td>5.0</td>\n      <td>...</td>\n      <td>25.000000</td>\n      <td>41.666667</td>\n      <td>3.0</td>\n      <td>6</td>\n      <td>12.5</td>\n      <td>25</td>\n      <td>4.0</td>\n      <td>8</td>\n      <td>30.0</td>\n      <td>60</td>\n    </tr>\n    <tr>\n      <th>22</th>\n      <td>New Orleans Saints</td>\n      <td>14.5</td>\n      <td>29</td>\n      <td>45.5</td>\n      <td>91</td>\n      <td>15.5</td>\n      <td>31</td>\n      <td>10.0</td>\n      <td>20</td>\n      <td>3.5</td>\n      <td>...</td>\n      <td>33.333333</td>\n      <td>25.000000</td>\n      <td>3.5</td>\n      <td>7</td>\n      <td>20.0</td>\n      <td>40</td>\n      <td>5.0</td>\n      <td>10</td>\n      <td>53.0</td>\n      <td>106</td>\n    </tr>\n    <tr>\n      <th>23</th>\n      <td>New York Giants</td>\n      <td>24.5</td>\n      <td>49</td>\n      <td>12.0</td>\n      <td>24</td>\n      <td>19.5</td>\n      <td>39</td>\n      <td>9.5</td>\n      <td>19</td>\n      <td>8.0</td>\n      <td>...</td>\n      <td>100.000000</td>\n      <td>50.000000</td>\n      <td>3.0</td>\n      <td>6</td>\n      <td>11.5</td>\n      <td>23</td>\n      <td>8.5</td>\n      <td>17</td>\n      <td>66.0</td>\n      <td>132</td>\n    </tr>\n    <tr>\n      <th>24</th>\n      <td>New York Jets</td>\n      <td>24.5</td>\n      <td>49</td>\n      <td>21.5</td>\n      <td>43</td>\n      <td>22.0</td>\n      <td>44</td>\n      <td>9.5</td>\n      <td>19</td>\n      <td>9.5</td>\n      <td>...</td>\n      <td>0.000000</td>\n      <td>32.500000</td>\n      <td>3.5</td>\n      <td>7</td>\n      <td>16.0</td>\n      <td>32</td>\n      <td>4.5</td>\n      <td>9</td>\n      <td>42.5</td>\n      <td>85</td>\n    </tr>\n    <tr>\n      <th>25</th>\n      <td>Philadelphia Eagles</td>\n      <td>25.5</td>\n      <td>51</td>\n      <td>27.5</td>\n      <td>55</td>\n      <td>20.5</td>\n      <td>41</td>\n      <td>10.0</td>\n      <td>20</td>\n      <td>8.0</td>\n      <td>...</td>\n      <td>75.000000</td>\n      <td>29.166667</td>\n      <td>1.5</td>\n      <td>3</td>\n      <td>8.5</td>\n      <td>17</td>\n      <td>6.5</td>\n      <td>13</td>\n      <td>55.5</td>\n      <td>111</td>\n    </tr>\n    <tr>\n      <th>26</th>\n      <td>Pittsburgh Steelers</td>\n      <td>8.0</td>\n      <td>16</td>\n      <td>15.5</td>\n      <td>31</td>\n      <td>14.0</td>\n      <td>28</td>\n      <td>8.0</td>\n      <td>16</td>\n      <td>5.5</td>\n      <td>...</td>\n      <td>75.000000</td>\n      <td>25.000000</td>\n      <td>2.0</td>\n      <td>4</td>\n      <td>16.5</td>\n      <td>33</td>\n      <td>7.0</td>\n      <td>14</td>\n      <td>79.0</td>\n      <td>158</td>\n    </tr>\n    <tr>\n      <th>27</th>\n      <td>San Francisco 49ers</td>\n      <td>21.0</td>\n      <td>42</td>\n      <td>24.5</td>\n      <td>49</td>\n      <td>15.5</td>\n      <td>31</td>\n      <td>10.0</td>\n      <td>20</td>\n      <td>5.5</td>\n      <td>...</td>\n      <td>0.000000</td>\n      <td>66.666667</td>\n      <td>2.5</td>\n      <td>5</td>\n      <td>8.0</td>\n      <td>16</td>\n      <td>5.0</td>\n      <td>10</td>\n      <td>31.5</td>\n      <td>63</td>\n    </tr>\n    <tr>\n      <th>28</th>\n      <td>Seattle Seahawks</td>\n      <td>20.0</td>\n      <td>40</td>\n      <td>24.5</td>\n      <td>49</td>\n      <td>16.0</td>\n      <td>32</td>\n      <td>7.5</td>\n      <td>15</td>\n      <td>7.5</td>\n      <td>...</td>\n      <td>100.000000</td>\n      <td>37.500000</td>\n      <td>2.5</td>\n      <td>5</td>\n      <td>15.0</td>\n      <td>30</td>\n      <td>5.5</td>\n      <td>11</td>\n      <td>51.0</td>\n      <td>102</td>\n    </tr>\n    <tr>\n      <th>29</th>\n      <td>Tampa Bay Buccaneers</td>\n      <td>18.0</td>\n      <td>36</td>\n      <td>28.5</td>\n      <td>57</td>\n      <td>24.0</td>\n      <td>48</td>\n      <td>11.5</td>\n      <td>23</td>\n      <td>9.5</td>\n      <td>...</td>\n      <td>80.000000</td>\n      <td>57.142857</td>\n      <td>1.0</td>\n      <td>2</td>\n      <td>11.5</td>\n      <td>23</td>\n      <td>5.5</td>\n      <td>11</td>\n      <td>61.0</td>\n      <td>122</td>\n    </tr>\n    <tr>\n      <th>30</th>\n      <td>Tennessee Titans</td>\n      <td>24.0</td>\n      <td>48</td>\n      <td>17.0</td>\n      <td>34</td>\n      <td>13.5</td>\n      <td>27</td>\n      <td>7.0</td>\n      <td>14</td>\n      <td>6.0</td>\n      <td>...</td>\n      <td>100.000000</td>\n      <td>25.000000</td>\n      <td>2.0</td>\n      <td>4</td>\n      <td>20.5</td>\n      <td>41</td>\n      <td>7.0</td>\n      <td>14</td>\n      <td>62.5</td>\n      <td>125</td>\n    </tr>\n    <tr>\n      <th>31</th>\n      <td>Washington Commanders</td>\n      <td>27.5</td>\n      <td>55</td>\n      <td>20.5</td>\n      <td>41</td>\n      <td>20.0</td>\n      <td>40</td>\n      <td>13.0</td>\n      <td>26</td>\n      <td>4.5</td>\n      <td>...</td>\n      <td>50.000000</td>\n      <td>80.000000</td>\n      <td>1.0</td>\n      <td>2</td>\n      <td>6.0</td>\n      <td>12</td>\n      <td>6.0</td>\n      <td>12</td>\n      <td>33.0</td>\n      <td>66</td>\n    </tr>\n  </tbody>\n</table>\n<p>32 rows × 49 columns</p>\n</div>"
     },
     "execution_count": 4,
     "metadata": {},
     "output_type": "execute_result"
    }
   ],
   "source": [
    "fetch.team_boxscore(year=2024, pivot='defense')"
   ],
   "metadata": {
    "collapsed": false,
    "ExecuteTime": {
     "end_time": "2024-09-20T02:33:45.994130Z",
     "start_time": "2024-09-20T02:33:34.658034Z"
    }
   },
   "id": "361f6053062a4b60"
  },
  {
   "cell_type": "markdown",
   "source": [
    " "
   ],
   "metadata": {
    "collapsed": false
   },
   "id": "79d354ce0fd944e1"
  },
  {
   "cell_type": "code",
   "execution_count": 5,
   "outputs": [],
   "source": [],
   "metadata": {
    "collapsed": false,
    "ExecuteTime": {
     "end_time": "2024-09-20T01:49:37.617221Z",
     "start_time": "2024-09-20T01:49:37.598819Z"
    }
   },
   "id": "10712f09d0cffe03"
  },
  {
   "cell_type": "code",
   "execution_count": 2,
   "outputs": [],
   "source": [],
   "metadata": {
    "collapsed": false,
    "ExecuteTime": {
     "end_time": "2024-09-18T22:20:02.739259Z",
     "start_time": "2024-09-18T22:20:02.714048Z"
    }
   },
   "id": "d9416f8526b1f4e6"
  },
  {
   "cell_type": "code",
   "execution_count": 3,
   "outputs": [],
   "source": [],
   "metadata": {
    "collapsed": false,
    "ExecuteTime": {
     "end_time": "2024-09-18T22:20:07.535620Z",
     "start_time": "2024-09-18T22:20:07.528770Z"
    }
   },
   "id": "13c65fcc74a78f60"
  },
  {
   "cell_type": "markdown",
   "source": [],
   "metadata": {
    "collapsed": false
   },
   "id": "13333f6b73df185b"
  },
  {
   "cell_type": "markdown",
   "source": [],
   "metadata": {
    "collapsed": false
   },
   "id": "cd6265fa45cd1f24"
  },
  {
   "cell_type": "markdown",
   "source": [],
   "metadata": {
    "collapsed": false
   },
   "id": "97bd8c6ebb380f1f"
  },
  {
   "cell_type": "code",
   "execution_count": 31,
   "outputs": [
    {
     "name": "stderr",
     "output_type": "stream",
     "text": [
      "100%|██████████| 17/17 [00:04<00:00,  3.57it/s]\n"
     ]
    }
   ],
   "source": [],
   "metadata": {
    "collapsed": false,
    "ExecuteTime": {
     "end_time": "2024-09-17T02:27:51.673068Z",
     "start_time": "2024-09-17T02:27:41.885031Z"
    }
   },
   "id": "2bb6f3f919127843"
  },
  {
   "cell_type": "code",
   "execution_count": 3,
   "outputs": [],
   "source": [
    "\n"
   ],
   "metadata": {
    "collapsed": false,
    "ExecuteTime": {
     "end_time": "2024-09-18T22:20:09.908114Z",
     "start_time": "2024-09-18T22:20:09.895045Z"
    }
   },
   "id": "18d71cd4ab791960"
  },
  {
   "cell_type": "code",
   "execution_count": 3,
   "outputs": [],
   "source": [],
   "metadata": {
    "collapsed": false,
    "ExecuteTime": {
     "end_time": "2024-09-18T22:20:12.157898Z",
     "start_time": "2024-09-18T22:20:12.147192Z"
    }
   },
   "id": "7b91c464307da466"
  },
  {
   "cell_type": "code",
   "execution_count": 3,
   "outputs": [],
   "source": [],
   "metadata": {
    "collapsed": false,
    "ExecuteTime": {
     "end_time": "2024-09-18T22:20:12.379652Z",
     "start_time": "2024-09-18T22:20:12.370993Z"
    }
   },
   "id": "f9bfcca282d7537c"
  },
  {
   "cell_type": "code",
   "execution_count": 3,
   "outputs": [],
   "source": [],
   "metadata": {
    "collapsed": false,
    "ExecuteTime": {
     "end_time": "2024-09-18T22:20:12.596969Z",
     "start_time": "2024-09-18T22:20:12.556415Z"
    }
   },
   "id": "b912049296c01ed5"
  },
  {
   "cell_type": "code",
   "execution_count": 3,
   "outputs": [],
   "source": [],
   "metadata": {
    "collapsed": false,
    "ExecuteTime": {
     "end_time": "2024-09-18T22:20:12.942709Z",
     "start_time": "2024-09-18T22:20:12.907338Z"
    }
   },
   "id": "7311cfc949aaa8ac"
  },
  {
   "cell_type": "code",
   "execution_count": 3,
   "outputs": [],
   "source": [],
   "metadata": {
    "collapsed": false,
    "ExecuteTime": {
     "end_time": "2024-09-18T22:20:13.131142Z",
     "start_time": "2024-09-18T22:20:13.107989Z"
    }
   },
   "id": "f71e1b3bf3eab20a"
  },
  {
   "cell_type": "code",
   "execution_count": 3,
   "outputs": [],
   "source": [],
   "metadata": {
    "collapsed": false,
    "ExecuteTime": {
     "end_time": "2024-09-18T22:20:13.366260Z",
     "start_time": "2024-09-18T22:20:13.331571Z"
    }
   },
   "id": "25e1c8e4674f4f68"
  },
  {
   "cell_type": "code",
   "execution_count": 3,
   "outputs": [],
   "source": [],
   "metadata": {
    "collapsed": false,
    "ExecuteTime": {
     "end_time": "2024-09-18T22:20:13.545226Z",
     "start_time": "2024-09-18T22:20:13.514217Z"
    }
   },
   "id": "f6e442163c078cee"
  },
  {
   "cell_type": "code",
   "execution_count": 3,
   "outputs": [],
   "source": [],
   "metadata": {
    "collapsed": false,
    "ExecuteTime": {
     "end_time": "2024-09-18T22:20:13.713336Z",
     "start_time": "2024-09-18T22:20:13.681178Z"
    }
   },
   "id": "28e7905afd34ee3b"
  },
  {
   "cell_type": "code",
   "execution_count": null,
   "outputs": [],
   "source": [],
   "metadata": {
    "collapsed": false
   },
   "id": "edaed07d571eff52"
  }
 ],
 "metadata": {
  "kernelspec": {
   "display_name": "Python 3",
   "language": "python",
   "name": "python3"
  },
  "language_info": {
   "codemirror_mode": {
    "name": "ipython",
    "version": 2
   },
   "file_extension": ".py",
   "mimetype": "text/x-python",
   "name": "python",
   "nbconvert_exporter": "python",
   "pygments_lexer": "ipython2",
   "version": "2.7.6"
  }
 },
 "nbformat": 4,
 "nbformat_minor": 5
}
