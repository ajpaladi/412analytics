{
 "cells": [
  {
   "cell_type": "code",
   "execution_count": 1,
   "outputs": [],
   "source": [
    "import pandas as pd\n",
    "import requests\n",
    "from pprint import pprint\n",
    "from fouronetwo import Fetch\n",
    "fetch = Fetch()\n",
    "\n"
   ],
   "metadata": {
    "collapsed": false,
    "ExecuteTime": {
     "end_time": "2024-09-25T00:47:44.841719Z",
     "start_time": "2024-09-25T00:47:43.791440Z"
    }
   },
   "id": "81466365851f1193"
  },
  {
   "cell_type": "code",
   "execution_count": 2,
   "id": "initial_id",
   "metadata": {
    "collapsed": true,
    "ExecuteTime": {
     "end_time": "2024-09-25T00:47:46.386317Z",
     "start_time": "2024-09-25T00:47:46.372456Z"
    }
   },
   "outputs": [],
   "source": [
    "# fetch.completed_games(year = 2024, week=1)\n",
    "# fetch.scheduled_games(year = 2024, week=18)\n",
    "# fetch.in_progress_games(year = 2024, week=1)\n",
    "#fetch.completed_games(year=2024, team = 'Pittsburgh Steelers')\n",
    "#data = fetch.boxscore(year=2023, team='Pittsburgh Steelers')\n",
    "#fetch.passing_boxscore(year=2024, pivot=True)\n",
    "#fetch.rushing_boxscore(year=2024, pivot=True)\n",
    "#fetch.receiving_boxscore(year=2024, pivot=True)\n",
    "#fetch.fumble_boxscore(year=2024, pivot=True)\n",
    "#fetch.defensive_boxscore(year=2024, pivot=True)\n",
    "#fetch.interception_boxscore(year=2024, pivot=True)\n",
    "#fetch.kick_return_boxscore(year=2024)\n",
    "#fetch.punt_return_boxscore(year=2024, pivot=True)\n",
    "#fetch.field_goal_boxscore(year=2024, pivot=True)\n",
    "#fetch.punt_boxscore(year=2024)\n",
    "#fetch.drives(year=2024, team='Pittsburgh Steelers')\n",
    "#fetch.plays(year=2024)\n",
    "\n"
   ]
  },
  {
   "cell_type": "markdown",
   "source": [],
   "metadata": {
    "collapsed": false
   },
   "id": "a91e9209662b90a7"
  },
  {
   "cell_type": "code",
   "execution_count": 17,
   "outputs": [
    {
     "name": "stderr",
     "output_type": "stream",
     "text": [
      "100%|██████████| 48/48 [00:10<00:00,  4.69it/s]\n"
     ]
    },
    {
     "data": {
      "text/plain": "               name_  receptions_mean  receptions_sum  yards_mean  yards_sum  \\\n0         A.J. Brown         5.000000               5  119.000000        119   \n1          AJ Barner         3.000000               3   13.000000         13   \n2        Aaron Jones         4.000000              12   32.333333         97   \n3      Adam Prentice         0.000000               0    0.000000          0   \n4       Adam Thielen         2.666667               8   36.333333        109   \n..               ...              ...             ...         ...        ...   \n326  Zach Charbonnet         3.333333              10   25.333333         76   \n327        Zach Ertz         4.000000              12   42.666667        128   \n328        Zack Moss         2.666667               8   23.000000         69   \n329      Zamir White         2.500000               5    8.000000         16   \n330      Zay Flowers         5.333333              16   49.333333        148   \n\n     yards_per_reception_mean  touchdowns_mean  touchdowns_sum  \\\n0                   23.800000         1.000000               1   \n1                    4.300000         0.000000               0   \n2                    7.966667         0.333333               1   \n3                    0.000000         0.000000               0   \n4                   13.200000         0.333333               1   \n..                        ...              ...             ...   \n326                  8.666667         0.333333               1   \n327                 10.800000         0.000000               0   \n328                  9.766667         0.000000               0   \n329                  2.850000         0.000000               0   \n330                  8.633333         0.333333               1   \n\n     longest_reception_mean  longest_reception_sum  targets_mean  targets_sum  \\\n0                 67.000000                     67     10.000000           10   \n1                  8.000000                      8      3.000000            3   \n2                 15.666667                     47      4.666667           14   \n3                  0.000000                      0      1.000000            1   \n4                 24.333333                     73      4.000000           12   \n..                      ...                    ...           ...          ...   \n326               15.666667                     47      4.000000           12   \n327               15.000000                     45      4.333333           13   \n328               12.666667                     38      3.666667           11   \n329                6.000000                     12      3.000000            6   \n330               16.333333                     49      8.333333           25   \n\n     catch_%_mean  \n0       50.000000  \n1      100.000000  \n2       88.888889  \n3        0.000000  \n4       67.222222  \n..            ...  \n326     80.555556  \n327     91.666667  \n328     77.777778  \n329     87.500000  \n330     66.212121  \n\n[331 rows x 13 columns]",
      "text/html": "<div>\n<style scoped>\n    .dataframe tbody tr th:only-of-type {\n        vertical-align: middle;\n    }\n\n    .dataframe tbody tr th {\n        vertical-align: top;\n    }\n\n    .dataframe thead th {\n        text-align: right;\n    }\n</style>\n<table border=\"1\" class=\"dataframe\">\n  <thead>\n    <tr style=\"text-align: right;\">\n      <th></th>\n      <th>name_</th>\n      <th>receptions_mean</th>\n      <th>receptions_sum</th>\n      <th>yards_mean</th>\n      <th>yards_sum</th>\n      <th>yards_per_reception_mean</th>\n      <th>touchdowns_mean</th>\n      <th>touchdowns_sum</th>\n      <th>longest_reception_mean</th>\n      <th>longest_reception_sum</th>\n      <th>targets_mean</th>\n      <th>targets_sum</th>\n      <th>catch_%_mean</th>\n    </tr>\n  </thead>\n  <tbody>\n    <tr>\n      <th>0</th>\n      <td>A.J. Brown</td>\n      <td>5.000000</td>\n      <td>5</td>\n      <td>119.000000</td>\n      <td>119</td>\n      <td>23.800000</td>\n      <td>1.000000</td>\n      <td>1</td>\n      <td>67.000000</td>\n      <td>67</td>\n      <td>10.000000</td>\n      <td>10</td>\n      <td>50.000000</td>\n    </tr>\n    <tr>\n      <th>1</th>\n      <td>AJ Barner</td>\n      <td>3.000000</td>\n      <td>3</td>\n      <td>13.000000</td>\n      <td>13</td>\n      <td>4.300000</td>\n      <td>0.000000</td>\n      <td>0</td>\n      <td>8.000000</td>\n      <td>8</td>\n      <td>3.000000</td>\n      <td>3</td>\n      <td>100.000000</td>\n    </tr>\n    <tr>\n      <th>2</th>\n      <td>Aaron Jones</td>\n      <td>4.000000</td>\n      <td>12</td>\n      <td>32.333333</td>\n      <td>97</td>\n      <td>7.966667</td>\n      <td>0.333333</td>\n      <td>1</td>\n      <td>15.666667</td>\n      <td>47</td>\n      <td>4.666667</td>\n      <td>14</td>\n      <td>88.888889</td>\n    </tr>\n    <tr>\n      <th>3</th>\n      <td>Adam Prentice</td>\n      <td>0.000000</td>\n      <td>0</td>\n      <td>0.000000</td>\n      <td>0</td>\n      <td>0.000000</td>\n      <td>0.000000</td>\n      <td>0</td>\n      <td>0.000000</td>\n      <td>0</td>\n      <td>1.000000</td>\n      <td>1</td>\n      <td>0.000000</td>\n    </tr>\n    <tr>\n      <th>4</th>\n      <td>Adam Thielen</td>\n      <td>2.666667</td>\n      <td>8</td>\n      <td>36.333333</td>\n      <td>109</td>\n      <td>13.200000</td>\n      <td>0.333333</td>\n      <td>1</td>\n      <td>24.333333</td>\n      <td>73</td>\n      <td>4.000000</td>\n      <td>12</td>\n      <td>67.222222</td>\n    </tr>\n    <tr>\n      <th>...</th>\n      <td>...</td>\n      <td>...</td>\n      <td>...</td>\n      <td>...</td>\n      <td>...</td>\n      <td>...</td>\n      <td>...</td>\n      <td>...</td>\n      <td>...</td>\n      <td>...</td>\n      <td>...</td>\n      <td>...</td>\n      <td>...</td>\n    </tr>\n    <tr>\n      <th>326</th>\n      <td>Zach Charbonnet</td>\n      <td>3.333333</td>\n      <td>10</td>\n      <td>25.333333</td>\n      <td>76</td>\n      <td>8.666667</td>\n      <td>0.333333</td>\n      <td>1</td>\n      <td>15.666667</td>\n      <td>47</td>\n      <td>4.000000</td>\n      <td>12</td>\n      <td>80.555556</td>\n    </tr>\n    <tr>\n      <th>327</th>\n      <td>Zach Ertz</td>\n      <td>4.000000</td>\n      <td>12</td>\n      <td>42.666667</td>\n      <td>128</td>\n      <td>10.800000</td>\n      <td>0.000000</td>\n      <td>0</td>\n      <td>15.000000</td>\n      <td>45</td>\n      <td>4.333333</td>\n      <td>13</td>\n      <td>91.666667</td>\n    </tr>\n    <tr>\n      <th>328</th>\n      <td>Zack Moss</td>\n      <td>2.666667</td>\n      <td>8</td>\n      <td>23.000000</td>\n      <td>69</td>\n      <td>9.766667</td>\n      <td>0.000000</td>\n      <td>0</td>\n      <td>12.666667</td>\n      <td>38</td>\n      <td>3.666667</td>\n      <td>11</td>\n      <td>77.777778</td>\n    </tr>\n    <tr>\n      <th>329</th>\n      <td>Zamir White</td>\n      <td>2.500000</td>\n      <td>5</td>\n      <td>8.000000</td>\n      <td>16</td>\n      <td>2.850000</td>\n      <td>0.000000</td>\n      <td>0</td>\n      <td>6.000000</td>\n      <td>12</td>\n      <td>3.000000</td>\n      <td>6</td>\n      <td>87.500000</td>\n    </tr>\n    <tr>\n      <th>330</th>\n      <td>Zay Flowers</td>\n      <td>5.333333</td>\n      <td>16</td>\n      <td>49.333333</td>\n      <td>148</td>\n      <td>8.633333</td>\n      <td>0.333333</td>\n      <td>1</td>\n      <td>16.333333</td>\n      <td>49</td>\n      <td>8.333333</td>\n      <td>25</td>\n      <td>66.212121</td>\n    </tr>\n  </tbody>\n</table>\n<p>331 rows × 13 columns</p>\n</div>"
     },
     "execution_count": 17,
     "metadata": {},
     "output_type": "execute_result"
    }
   ],
   "source": [
    "fetch.receiving_boxscore(year=2024, pivot=True)"
   ],
   "metadata": {
    "collapsed": false,
    "ExecuteTime": {
     "end_time": "2024-09-25T01:10:11.371494Z",
     "start_time": "2024-09-25T01:09:57.654054Z"
    }
   },
   "id": "361f6053062a4b60"
  },
  {
   "cell_type": "code",
   "execution_count": 139,
   "outputs": [
    {
     "name": "stderr",
     "output_type": "stream",
     "text": [
      "100%|██████████| 48/48 [00:10<00:00,  4.59it/s]\n"
     ]
    }
   ],
   "source": [
    "games = fetch.team_boxscore(year=2024)"
   ],
   "metadata": {
    "collapsed": false,
    "ExecuteTime": {
     "end_time": "2024-09-24T23:59:43.400429Z",
     "start_time": "2024-09-24T23:59:28.899848Z"
    }
   },
   "id": "b25283740375e06b"
  },
  {
   "cell_type": "markdown",
   "source": [
    " "
   ],
   "metadata": {
    "collapsed": false
   },
   "id": "79d354ce0fd944e1"
  },
  {
   "cell_type": "code",
   "execution_count": 15,
   "outputs": [
    {
     "name": "stderr",
     "output_type": "stream",
     "text": [
      "100%|██████████| 3/3 [00:00<00:00,  5.61it/s]\n"
     ]
    },
    {
     "data": {
      "text/plain": "          id  video_id               date         home_team       away_team  \\\n0  401671761  41191692  2024-09-08T20:25Z  Cleveland Browns  Dallas Cowboys   \n\n                                            headline  \\\n0  Rex Ryan slams Deshaun Watson, Browns in loss ...   \n\n                                         description  \\\n0  Rex Ryan criticizes Deshaun Watson, Kevin Stef...   \n\n                                                link  duration  \\\n0  http://media.video-origin.espn.com/espnvideo/2...       124   \n\n           publish_date source  \\\n0  2024-09-09T12:33:51Z   espn   \n\n                                           thumbnail coverage_type  \n0  https://a.espncdn.com/media/motion/2024/0909/d...      Analysis  ",
      "text/html": "<div>\n<style scoped>\n    .dataframe tbody tr th:only-of-type {\n        vertical-align: middle;\n    }\n\n    .dataframe tbody tr th {\n        vertical-align: top;\n    }\n\n    .dataframe thead th {\n        text-align: right;\n    }\n</style>\n<table border=\"1\" class=\"dataframe\">\n  <thead>\n    <tr style=\"text-align: right;\">\n      <th></th>\n      <th>id</th>\n      <th>video_id</th>\n      <th>date</th>\n      <th>home_team</th>\n      <th>away_team</th>\n      <th>headline</th>\n      <th>description</th>\n      <th>link</th>\n      <th>duration</th>\n      <th>publish_date</th>\n      <th>source</th>\n      <th>thumbnail</th>\n      <th>coverage_type</th>\n    </tr>\n  </thead>\n  <tbody>\n    <tr>\n      <th>0</th>\n      <td>401671761</td>\n      <td>41191692</td>\n      <td>2024-09-08T20:25Z</td>\n      <td>Cleveland Browns</td>\n      <td>Dallas Cowboys</td>\n      <td>Rex Ryan slams Deshaun Watson, Browns in loss ...</td>\n      <td>Rex Ryan criticizes Deshaun Watson, Kevin Stef...</td>\n      <td>http://media.video-origin.espn.com/espnvideo/2...</td>\n      <td>124</td>\n      <td>2024-09-09T12:33:51Z</td>\n      <td>espn</td>\n      <td>https://a.espncdn.com/media/motion/2024/0909/d...</td>\n      <td>Analysis</td>\n    </tr>\n  </tbody>\n</table>\n</div>"
     },
     "execution_count": 15,
     "metadata": {},
     "output_type": "execute_result"
    }
   ],
   "source": [
    "fetch.videos(year=2024, team='Cleveland Browns')"
   ],
   "metadata": {
    "collapsed": false,
    "ExecuteTime": {
     "end_time": "2024-09-25T01:08:15.619986Z",
     "start_time": "2024-09-25T01:08:11.590982Z"
    }
   },
   "id": "10712f09d0cffe03"
  },
  {
   "cell_type": "code",
   "execution_count": 1,
   "outputs": [],
   "source": [],
   "metadata": {
    "collapsed": false,
    "ExecuteTime": {
     "end_time": "2024-09-25T00:47:13.889717Z",
     "start_time": "2024-09-25T00:47:13.875425Z"
    }
   },
   "id": "4e220234adac7230"
  },
  {
   "cell_type": "code",
   "execution_count": 4,
   "outputs": [],
   "source": [],
   "metadata": {
    "collapsed": false,
    "ExecuteTime": {
     "end_time": "2024-09-25T00:50:53.156956Z",
     "start_time": "2024-09-25T00:50:53.139245Z"
    }
   },
   "id": "d9416f8526b1f4e6"
  },
  {
   "cell_type": "code",
   "execution_count": 4,
   "outputs": [],
   "source": [],
   "metadata": {
    "collapsed": false,
    "ExecuteTime": {
     "end_time": "2024-09-25T00:50:56.152345Z",
     "start_time": "2024-09-25T00:50:56.137888Z"
    }
   },
   "id": "13c65fcc74a78f60"
  },
  {
   "cell_type": "markdown",
   "source": [],
   "metadata": {
    "collapsed": false
   },
   "id": "13333f6b73df185b"
  },
  {
   "cell_type": "code",
   "execution_count": null,
   "outputs": [],
   "source": [],
   "metadata": {
    "collapsed": false
   },
   "id": "bbd06cd5dbb7fd55"
  },
  {
   "cell_type": "markdown",
   "source": [],
   "metadata": {
    "collapsed": false
   },
   "id": "cd6265fa45cd1f24"
  },
  {
   "cell_type": "markdown",
   "source": [],
   "metadata": {
    "collapsed": false
   },
   "id": "97bd8c6ebb380f1f"
  },
  {
   "cell_type": "code",
   "execution_count": 17,
   "outputs": [],
   "source": [],
   "metadata": {
    "collapsed": false,
    "ExecuteTime": {
     "end_time": "2024-09-20T03:49:17.737822Z",
     "start_time": "2024-09-20T03:49:17.708221Z"
    }
   },
   "id": "2bb6f3f919127843"
  },
  {
   "cell_type": "code",
   "execution_count": 17,
   "outputs": [],
   "source": [
    "\n"
   ],
   "metadata": {
    "collapsed": false,
    "ExecuteTime": {
     "end_time": "2024-09-20T03:49:17.738092Z",
     "start_time": "2024-09-20T03:49:17.714221Z"
    }
   },
   "id": "18d71cd4ab791960"
  },
  {
   "cell_type": "code",
   "execution_count": 3,
   "outputs": [],
   "source": [],
   "metadata": {
    "collapsed": false,
    "ExecuteTime": {
     "end_time": "2024-09-18T22:20:12.157898Z",
     "start_time": "2024-09-18T22:20:12.147192Z"
    }
   },
   "id": "7b91c464307da466"
  },
  {
   "cell_type": "code",
   "execution_count": 3,
   "outputs": [],
   "source": [],
   "metadata": {
    "collapsed": false,
    "ExecuteTime": {
     "end_time": "2024-09-18T22:20:12.379652Z",
     "start_time": "2024-09-18T22:20:12.370993Z"
    }
   },
   "id": "f9bfcca282d7537c"
  },
  {
   "cell_type": "code",
   "execution_count": 3,
   "outputs": [],
   "source": [],
   "metadata": {
    "collapsed": false,
    "ExecuteTime": {
     "end_time": "2024-09-18T22:20:12.596969Z",
     "start_time": "2024-09-18T22:20:12.556415Z"
    }
   },
   "id": "b912049296c01ed5"
  },
  {
   "cell_type": "code",
   "execution_count": 3,
   "outputs": [],
   "source": [],
   "metadata": {
    "collapsed": false,
    "ExecuteTime": {
     "end_time": "2024-09-18T22:20:12.942709Z",
     "start_time": "2024-09-18T22:20:12.907338Z"
    }
   },
   "id": "7311cfc949aaa8ac"
  },
  {
   "cell_type": "code",
   "execution_count": 3,
   "outputs": [],
   "source": [],
   "metadata": {
    "collapsed": false,
    "ExecuteTime": {
     "end_time": "2024-09-18T22:20:13.131142Z",
     "start_time": "2024-09-18T22:20:13.107989Z"
    }
   },
   "id": "f71e1b3bf3eab20a"
  },
  {
   "cell_type": "code",
   "execution_count": 3,
   "outputs": [],
   "source": [],
   "metadata": {
    "collapsed": false,
    "ExecuteTime": {
     "end_time": "2024-09-18T22:20:13.366260Z",
     "start_time": "2024-09-18T22:20:13.331571Z"
    }
   },
   "id": "25e1c8e4674f4f68"
  },
  {
   "cell_type": "code",
   "execution_count": 3,
   "outputs": [],
   "source": [],
   "metadata": {
    "collapsed": false,
    "ExecuteTime": {
     "end_time": "2024-09-18T22:20:13.545226Z",
     "start_time": "2024-09-18T22:20:13.514217Z"
    }
   },
   "id": "f6e442163c078cee"
  },
  {
   "cell_type": "code",
   "execution_count": 3,
   "outputs": [],
   "source": [],
   "metadata": {
    "collapsed": false,
    "ExecuteTime": {
     "end_time": "2024-09-18T22:20:13.713336Z",
     "start_time": "2024-09-18T22:20:13.681178Z"
    }
   },
   "id": "28e7905afd34ee3b"
  },
  {
   "cell_type": "code",
   "execution_count": null,
   "outputs": [],
   "source": [],
   "metadata": {
    "collapsed": false
   },
   "id": "edaed07d571eff52"
  }
 ],
 "metadata": {
  "kernelspec": {
   "display_name": "Python 3",
   "language": "python",
   "name": "python3"
  },
  "language_info": {
   "codemirror_mode": {
    "name": "ipython",
    "version": 2
   },
   "file_extension": ".py",
   "mimetype": "text/x-python",
   "name": "python",
   "nbconvert_exporter": "python",
   "pygments_lexer": "ipython2",
   "version": "2.7.6"
  }
 },
 "nbformat": 4,
 "nbformat_minor": 5
}
