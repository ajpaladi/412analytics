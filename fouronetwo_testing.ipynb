{
 "cells": [
  {
   "cell_type": "code",
   "execution_count": 3,
   "outputs": [],
   "source": [
    "import pandas as pd\n",
    "import requests\n",
    "from pprint import pprint\n",
    "from fouronetwo import Fetch\n",
    "fetch = Fetch()\n",
    "\n"
   ],
   "metadata": {
    "collapsed": false,
    "ExecuteTime": {
     "end_time": "2024-09-21T17:46:15.280166Z",
     "start_time": "2024-09-21T17:46:14.368327Z"
    }
   },
   "id": "81466365851f1193"
  },
  {
   "cell_type": "code",
   "execution_count": 4,
   "id": "initial_id",
   "metadata": {
    "collapsed": true,
    "ExecuteTime": {
     "end_time": "2024-09-21T17:46:16.994999Z",
     "start_time": "2024-09-21T17:46:16.980221Z"
    }
   },
   "outputs": [],
   "source": [
    "# fetch.completed_games(year = 2024, week=1)\n",
    "# fetch.scheduled_games(year = 2024, week=18)\n",
    "# fetch.in_progress_games(year = 2024, week=1)\n",
    "#fetch.completed_games(year=2024, team = 'Pittsburgh Steelers')\n",
    "#data = fetch.boxscore(year=2023, team='Pittsburgh Steelers')\n",
    "#fetch.passing_boxscore(year=2024, pivot=True)\n",
    "#fetch.rushing_boxscore(year=2024, pivot=True)\n",
    "#fetch.receiving_boxscore(year=2024, pivot=True)\n",
    "#fetch.fumble_boxscore(year=2024, pivot=True)\n",
    "#fetch.defensive_boxscore(year=2024, pivot=True)\n",
    "#fetch.interception_boxscore(year=2024, pivot=True)\n",
    "#fetch.kick_return_boxscore(year=2024)\n",
    "#fetch.punt_return_boxscore(year=2024, pivot=True)\n"
   ]
  },
  {
   "cell_type": "markdown",
   "source": [],
   "metadata": {
    "collapsed": false
   },
   "id": "a91e9209662b90a7"
  },
  {
   "cell_type": "code",
   "execution_count": 5,
   "outputs": [
    {
     "name": "stderr",
     "output_type": "stream",
     "text": [
      "/Users/andrewpaladino/Documents/projects/412analytics/fouronetwo.py:94: FutureWarning: Behavior when concatenating bool-dtype and numeric-dtype arrays is deprecated; in a future version these will cast to object dtype (instead of coercing bools to numeric values). To retain the old behavior, explicitly cast bool-dtype arrays to numeric dtype.\n",
      "  total_completed = pd.concat([events_merged, total_completed])\n",
      "100%|██████████| 33/33 [00:09<00:00,  3.55it/s]\n"
     ]
    },
    {
     "data": {
      "text/plain": "               name_  field_goals_made_mean  field_goals_made_sum  \\\n0     Austin Seibert               7.000000                     7   \n1        Blake Grupe               2.500000                     5   \n2     Brandon Aubrey               4.000000                     8   \n3   Brayden Narveson               3.000000                     6   \n4          Cade York               0.000000                     0   \n5       Cairo Santos               2.500000                     5   \n6         Cam Little               1.500000                     3   \n7     Cameron Dicker               2.500000                     5   \n8   Chase McLaughlin               2.500000                     5   \n9      Chris Boswell               4.000000                     8   \n10    Daniel Carlson               2.500000                     5   \n11    Dustin Hopkins               2.000000                     4   \n12      Eddy Pineiro               1.000000                     2   \n13    Evan McPherson               2.500000                     5   \n14       Graham Gano               2.000000                     2   \n15     Greg Zuerlein               0.666667                     2   \n16   Harrison Butker               2.000000                     4   \n17        Jake Bates               2.500000                     5   \n18      Jake Elliott               2.000000                     4   \n19        Jake Moody               3.500000                     7   \n20      Jamie Gillan               0.000000                     0   \n21       Jason Myers               2.500000                     5   \n22     Jason Sanders               1.500000                     3   \n23         Joey Slye               2.000000                     6   \n24      Joshua Karty               1.500000                     3   \n25     Justin Tucker               2.500000                     5   \n26  Ka'imi Fairbairn               3.500000                     7   \n27          Matt Gay               1.000000                     1   \n28       Matt Prater               2.000000                     4   \n29         Nick Folk               1.000000                     2   \n30   Spencer Shrader               0.000000                     0   \n31        Tyler Bass               1.500000                     3   \n32          Wil Lutz               2.500000                     5   \n33     Will Reichard               1.500000                     3   \n34      Younghoe Koo               2.000000                     4   \n\n    field_goals_attempted_mean  field_goals_attempted_sum  field_goal_%_mean  \\\n0                     7.000000                          7              100.0   \n1                     2.500000                          5              100.0   \n2                     4.000000                          8              100.0   \n3                     4.000000                          8               75.0   \n4                     2.000000                          2                0.0   \n5                     2.500000                          5              100.0   \n6                     2.000000                          4               83.5   \n7                     2.500000                          5              100.0   \n8                     2.500000                          5              100.0   \n9                     4.000000                          8              100.0   \n10                    3.000000                          6               75.0   \n11                    2.000000                          4              100.0   \n12                    1.000000                          2              100.0   \n13                    2.500000                          5              100.0   \n14                    2.000000                          2              100.0   \n15                    1.000000                          3               50.0   \n16                    2.000000                          4              100.0   \n17                    2.500000                          5              100.0   \n18                    2.000000                          4              100.0   \n19                    3.500000                          7              100.0   \n20                    0.000000                          0                0.0   \n21                    2.500000                          5              100.0   \n22                    2.000000                          4               83.5   \n23                    2.333333                          7               89.0   \n24                    1.500000                          3              100.0   \n25                    3.500000                          7               71.0   \n26                    3.500000                          7              100.0   \n27                    2.000000                          2               50.0   \n28                    2.000000                          4              100.0   \n29                    1.000000                          2              100.0   \n30                    0.000000                          0                0.0   \n31                    2.000000                          4               75.0   \n32                    2.500000                          5              100.0   \n33                    1.500000                          3               50.0   \n34                    2.000000                          4              100.0   \n\n    long_field_goal_mean  long_field_goal_sum  extra_points_made_mean  \\\n0              45.000000                   45                0.000000   \n1              41.500000                   83                5.000000   \n2              54.500000                  109                2.000000   \n3              38.500000                   77                1.500000   \n4               0.000000                    0                2.000000   \n5              52.000000                  104                1.000000   \n6              39.000000                   78                1.500000   \n7              49.500000                   99                1.500000   \n8              55.500000                  111                3.000000   \n9              55.000000                  110                0.500000   \n10             42.500000                   85                1.500000   \n11             52.000000                  104                1.500000   \n12             40.500000                   81                0.500000   \n13             52.000000                  104                1.000000   \n14             50.000000                   50                0.000000   \n15             20.333333                   61                2.333333   \n16             41.500000                   83                2.500000   \n17             33.500000                   67                1.500000   \n18             33.500000                   67                2.500000   \n19             42.000000                   84                2.000000   \n20              0.000000                    0                0.000000   \n21             47.000000                   94                2.000000   \n22             43.000000                   86                1.500000   \n23             36.666667                  110                1.000000   \n24             35.000000                   70                1.500000   \n25             40.000000                   80                2.000000   \n26             55.000000                  110                1.500000   \n27             34.000000                   34                1.000000   \n28             44.000000                   88                3.500000   \n29             40.500000                   81                2.000000   \n30              0.000000                    0                3.000000   \n31             41.000000                   82                4.000000   \n32             40.000000                   80                0.500000   \n33             19.500000                   39                3.000000   \n34             31.500000                   63                1.000000   \n\n    extra_points_made_sum  extra_points_attempted_mean  \\\n0                       0                     0.000000   \n1                      10                     5.500000   \n2                       4                     2.000000   \n3                       3                     1.500000   \n4                       2                     2.000000   \n5                       2                     1.000000   \n6                       3                     1.500000   \n7                       3                     2.000000   \n8                       6                     3.000000   \n9                       1                     0.500000   \n10                      3                     1.500000   \n11                      3                     1.500000   \n12                      1                     0.500000   \n13                      2                     1.500000   \n14                      0                     0.000000   \n15                      7                     2.333333   \n16                      5                     2.500000   \n17                      3                     1.500000   \n18                      5                     2.500000   \n19                      4                     2.000000   \n20                      0                     1.000000   \n21                      4                     2.000000   \n22                      3                     1.500000   \n23                      3                     1.000000   \n24                      3                     1.500000   \n25                      4                     2.000000   \n26                      3                     1.500000   \n27                      1                     1.000000   \n28                      7                     3.500000   \n29                      4                     2.000000   \n30                      3                     3.000000   \n31                      8                     4.000000   \n32                      1                     0.500000   \n33                      6                     3.000000   \n34                      2                     1.000000   \n\n    extra_points_attempted_sum  extra_point_%_mean  total_kicking_points_mean  \\\n0                            0                 NaN                  21.000000   \n1                           11            0.916667                  12.500000   \n2                            4            1.000000                  14.000000   \n3                            3            1.000000                  10.500000   \n4                            2            1.000000                   2.000000   \n5                            2            1.000000                   8.500000   \n6                            3            1.000000                   6.000000   \n7                            4            0.833333                   9.000000   \n8                            6            1.000000                  10.500000   \n9                            1            1.000000                  12.500000   \n10                           3            1.000000                   9.000000   \n11                           3            1.000000                   7.500000   \n12                           1            1.000000                   3.500000   \n13                           3            0.750000                   8.500000   \n14                           0                 NaN                   6.000000   \n15                           7            1.000000                   4.333333   \n16                           5            1.000000                   8.500000   \n17                           3            1.000000                   9.000000   \n18                           5            1.000000                   8.500000   \n19                           4            1.000000                  12.500000   \n20                           1            0.000000                   0.000000   \n21                           4            1.000000                   9.500000   \n22                           3            1.000000                   6.000000   \n23                           3            1.000000                   7.000000   \n24                           3            1.000000                   6.000000   \n25                           4            1.000000                   9.500000   \n26                           3            1.000000                  12.000000   \n27                           1            1.000000                   4.000000   \n28                           7            1.000000                   9.500000   \n29                           4            1.000000                   5.000000   \n30                           3            1.000000                   3.000000   \n31                           8            1.000000                   8.500000   \n32                           1            1.000000                   8.000000   \n33                           6            1.000000                   7.500000   \n34                           2            1.000000                   7.000000   \n\n    total_kicking_points_sum  \n0                         21  \n1                         25  \n2                         28  \n3                         21  \n4                          2  \n5                         17  \n6                         12  \n7                         18  \n8                         21  \n9                         25  \n10                        18  \n11                        15  \n12                         7  \n13                        17  \n14                         6  \n15                        13  \n16                        17  \n17                        18  \n18                        17  \n19                        25  \n20                         0  \n21                        19  \n22                        12  \n23                        21  \n24                        12  \n25                        19  \n26                        24  \n27                         4  \n28                        19  \n29                        10  \n30                         3  \n31                        17  \n32                        16  \n33                        15  \n34                        14  ",
      "text/html": "<div>\n<style scoped>\n    .dataframe tbody tr th:only-of-type {\n        vertical-align: middle;\n    }\n\n    .dataframe tbody tr th {\n        vertical-align: top;\n    }\n\n    .dataframe thead th {\n        text-align: right;\n    }\n</style>\n<table border=\"1\" class=\"dataframe\">\n  <thead>\n    <tr style=\"text-align: right;\">\n      <th></th>\n      <th>name_</th>\n      <th>field_goals_made_mean</th>\n      <th>field_goals_made_sum</th>\n      <th>field_goals_attempted_mean</th>\n      <th>field_goals_attempted_sum</th>\n      <th>field_goal_%_mean</th>\n      <th>long_field_goal_mean</th>\n      <th>long_field_goal_sum</th>\n      <th>extra_points_made_mean</th>\n      <th>extra_points_made_sum</th>\n      <th>extra_points_attempted_mean</th>\n      <th>extra_points_attempted_sum</th>\n      <th>extra_point_%_mean</th>\n      <th>total_kicking_points_mean</th>\n      <th>total_kicking_points_sum</th>\n    </tr>\n  </thead>\n  <tbody>\n    <tr>\n      <th>0</th>\n      <td>Austin Seibert</td>\n      <td>7.000000</td>\n      <td>7</td>\n      <td>7.000000</td>\n      <td>7</td>\n      <td>100.0</td>\n      <td>45.000000</td>\n      <td>45</td>\n      <td>0.000000</td>\n      <td>0</td>\n      <td>0.000000</td>\n      <td>0</td>\n      <td>NaN</td>\n      <td>21.000000</td>\n      <td>21</td>\n    </tr>\n    <tr>\n      <th>1</th>\n      <td>Blake Grupe</td>\n      <td>2.500000</td>\n      <td>5</td>\n      <td>2.500000</td>\n      <td>5</td>\n      <td>100.0</td>\n      <td>41.500000</td>\n      <td>83</td>\n      <td>5.000000</td>\n      <td>10</td>\n      <td>5.500000</td>\n      <td>11</td>\n      <td>0.916667</td>\n      <td>12.500000</td>\n      <td>25</td>\n    </tr>\n    <tr>\n      <th>2</th>\n      <td>Brandon Aubrey</td>\n      <td>4.000000</td>\n      <td>8</td>\n      <td>4.000000</td>\n      <td>8</td>\n      <td>100.0</td>\n      <td>54.500000</td>\n      <td>109</td>\n      <td>2.000000</td>\n      <td>4</td>\n      <td>2.000000</td>\n      <td>4</td>\n      <td>1.000000</td>\n      <td>14.000000</td>\n      <td>28</td>\n    </tr>\n    <tr>\n      <th>3</th>\n      <td>Brayden Narveson</td>\n      <td>3.000000</td>\n      <td>6</td>\n      <td>4.000000</td>\n      <td>8</td>\n      <td>75.0</td>\n      <td>38.500000</td>\n      <td>77</td>\n      <td>1.500000</td>\n      <td>3</td>\n      <td>1.500000</td>\n      <td>3</td>\n      <td>1.000000</td>\n      <td>10.500000</td>\n      <td>21</td>\n    </tr>\n    <tr>\n      <th>4</th>\n      <td>Cade York</td>\n      <td>0.000000</td>\n      <td>0</td>\n      <td>2.000000</td>\n      <td>2</td>\n      <td>0.0</td>\n      <td>0.000000</td>\n      <td>0</td>\n      <td>2.000000</td>\n      <td>2</td>\n      <td>2.000000</td>\n      <td>2</td>\n      <td>1.000000</td>\n      <td>2.000000</td>\n      <td>2</td>\n    </tr>\n    <tr>\n      <th>5</th>\n      <td>Cairo Santos</td>\n      <td>2.500000</td>\n      <td>5</td>\n      <td>2.500000</td>\n      <td>5</td>\n      <td>100.0</td>\n      <td>52.000000</td>\n      <td>104</td>\n      <td>1.000000</td>\n      <td>2</td>\n      <td>1.000000</td>\n      <td>2</td>\n      <td>1.000000</td>\n      <td>8.500000</td>\n      <td>17</td>\n    </tr>\n    <tr>\n      <th>6</th>\n      <td>Cam Little</td>\n      <td>1.500000</td>\n      <td>3</td>\n      <td>2.000000</td>\n      <td>4</td>\n      <td>83.5</td>\n      <td>39.000000</td>\n      <td>78</td>\n      <td>1.500000</td>\n      <td>3</td>\n      <td>1.500000</td>\n      <td>3</td>\n      <td>1.000000</td>\n      <td>6.000000</td>\n      <td>12</td>\n    </tr>\n    <tr>\n      <th>7</th>\n      <td>Cameron Dicker</td>\n      <td>2.500000</td>\n      <td>5</td>\n      <td>2.500000</td>\n      <td>5</td>\n      <td>100.0</td>\n      <td>49.500000</td>\n      <td>99</td>\n      <td>1.500000</td>\n      <td>3</td>\n      <td>2.000000</td>\n      <td>4</td>\n      <td>0.833333</td>\n      <td>9.000000</td>\n      <td>18</td>\n    </tr>\n    <tr>\n      <th>8</th>\n      <td>Chase McLaughlin</td>\n      <td>2.500000</td>\n      <td>5</td>\n      <td>2.500000</td>\n      <td>5</td>\n      <td>100.0</td>\n      <td>55.500000</td>\n      <td>111</td>\n      <td>3.000000</td>\n      <td>6</td>\n      <td>3.000000</td>\n      <td>6</td>\n      <td>1.000000</td>\n      <td>10.500000</td>\n      <td>21</td>\n    </tr>\n    <tr>\n      <th>9</th>\n      <td>Chris Boswell</td>\n      <td>4.000000</td>\n      <td>8</td>\n      <td>4.000000</td>\n      <td>8</td>\n      <td>100.0</td>\n      <td>55.000000</td>\n      <td>110</td>\n      <td>0.500000</td>\n      <td>1</td>\n      <td>0.500000</td>\n      <td>1</td>\n      <td>1.000000</td>\n      <td>12.500000</td>\n      <td>25</td>\n    </tr>\n    <tr>\n      <th>10</th>\n      <td>Daniel Carlson</td>\n      <td>2.500000</td>\n      <td>5</td>\n      <td>3.000000</td>\n      <td>6</td>\n      <td>75.0</td>\n      <td>42.500000</td>\n      <td>85</td>\n      <td>1.500000</td>\n      <td>3</td>\n      <td>1.500000</td>\n      <td>3</td>\n      <td>1.000000</td>\n      <td>9.000000</td>\n      <td>18</td>\n    </tr>\n    <tr>\n      <th>11</th>\n      <td>Dustin Hopkins</td>\n      <td>2.000000</td>\n      <td>4</td>\n      <td>2.000000</td>\n      <td>4</td>\n      <td>100.0</td>\n      <td>52.000000</td>\n      <td>104</td>\n      <td>1.500000</td>\n      <td>3</td>\n      <td>1.500000</td>\n      <td>3</td>\n      <td>1.000000</td>\n      <td>7.500000</td>\n      <td>15</td>\n    </tr>\n    <tr>\n      <th>12</th>\n      <td>Eddy Pineiro</td>\n      <td>1.000000</td>\n      <td>2</td>\n      <td>1.000000</td>\n      <td>2</td>\n      <td>100.0</td>\n      <td>40.500000</td>\n      <td>81</td>\n      <td>0.500000</td>\n      <td>1</td>\n      <td>0.500000</td>\n      <td>1</td>\n      <td>1.000000</td>\n      <td>3.500000</td>\n      <td>7</td>\n    </tr>\n    <tr>\n      <th>13</th>\n      <td>Evan McPherson</td>\n      <td>2.500000</td>\n      <td>5</td>\n      <td>2.500000</td>\n      <td>5</td>\n      <td>100.0</td>\n      <td>52.000000</td>\n      <td>104</td>\n      <td>1.000000</td>\n      <td>2</td>\n      <td>1.500000</td>\n      <td>3</td>\n      <td>0.750000</td>\n      <td>8.500000</td>\n      <td>17</td>\n    </tr>\n    <tr>\n      <th>14</th>\n      <td>Graham Gano</td>\n      <td>2.000000</td>\n      <td>2</td>\n      <td>2.000000</td>\n      <td>2</td>\n      <td>100.0</td>\n      <td>50.000000</td>\n      <td>50</td>\n      <td>0.000000</td>\n      <td>0</td>\n      <td>0.000000</td>\n      <td>0</td>\n      <td>NaN</td>\n      <td>6.000000</td>\n      <td>6</td>\n    </tr>\n    <tr>\n      <th>15</th>\n      <td>Greg Zuerlein</td>\n      <td>0.666667</td>\n      <td>2</td>\n      <td>1.000000</td>\n      <td>3</td>\n      <td>50.0</td>\n      <td>20.333333</td>\n      <td>61</td>\n      <td>2.333333</td>\n      <td>7</td>\n      <td>2.333333</td>\n      <td>7</td>\n      <td>1.000000</td>\n      <td>4.333333</td>\n      <td>13</td>\n    </tr>\n    <tr>\n      <th>16</th>\n      <td>Harrison Butker</td>\n      <td>2.000000</td>\n      <td>4</td>\n      <td>2.000000</td>\n      <td>4</td>\n      <td>100.0</td>\n      <td>41.500000</td>\n      <td>83</td>\n      <td>2.500000</td>\n      <td>5</td>\n      <td>2.500000</td>\n      <td>5</td>\n      <td>1.000000</td>\n      <td>8.500000</td>\n      <td>17</td>\n    </tr>\n    <tr>\n      <th>17</th>\n      <td>Jake Bates</td>\n      <td>2.500000</td>\n      <td>5</td>\n      <td>2.500000</td>\n      <td>5</td>\n      <td>100.0</td>\n      <td>33.500000</td>\n      <td>67</td>\n      <td>1.500000</td>\n      <td>3</td>\n      <td>1.500000</td>\n      <td>3</td>\n      <td>1.000000</td>\n      <td>9.000000</td>\n      <td>18</td>\n    </tr>\n    <tr>\n      <th>18</th>\n      <td>Jake Elliott</td>\n      <td>2.000000</td>\n      <td>4</td>\n      <td>2.000000</td>\n      <td>4</td>\n      <td>100.0</td>\n      <td>33.500000</td>\n      <td>67</td>\n      <td>2.500000</td>\n      <td>5</td>\n      <td>2.500000</td>\n      <td>5</td>\n      <td>1.000000</td>\n      <td>8.500000</td>\n      <td>17</td>\n    </tr>\n    <tr>\n      <th>19</th>\n      <td>Jake Moody</td>\n      <td>3.500000</td>\n      <td>7</td>\n      <td>3.500000</td>\n      <td>7</td>\n      <td>100.0</td>\n      <td>42.000000</td>\n      <td>84</td>\n      <td>2.000000</td>\n      <td>4</td>\n      <td>2.000000</td>\n      <td>4</td>\n      <td>1.000000</td>\n      <td>12.500000</td>\n      <td>25</td>\n    </tr>\n    <tr>\n      <th>20</th>\n      <td>Jamie Gillan</td>\n      <td>0.000000</td>\n      <td>0</td>\n      <td>0.000000</td>\n      <td>0</td>\n      <td>0.0</td>\n      <td>0.000000</td>\n      <td>0</td>\n      <td>0.000000</td>\n      <td>0</td>\n      <td>1.000000</td>\n      <td>1</td>\n      <td>0.000000</td>\n      <td>0.000000</td>\n      <td>0</td>\n    </tr>\n    <tr>\n      <th>21</th>\n      <td>Jason Myers</td>\n      <td>2.500000</td>\n      <td>5</td>\n      <td>2.500000</td>\n      <td>5</td>\n      <td>100.0</td>\n      <td>47.000000</td>\n      <td>94</td>\n      <td>2.000000</td>\n      <td>4</td>\n      <td>2.000000</td>\n      <td>4</td>\n      <td>1.000000</td>\n      <td>9.500000</td>\n      <td>19</td>\n    </tr>\n    <tr>\n      <th>22</th>\n      <td>Jason Sanders</td>\n      <td>1.500000</td>\n      <td>3</td>\n      <td>2.000000</td>\n      <td>4</td>\n      <td>83.5</td>\n      <td>43.000000</td>\n      <td>86</td>\n      <td>1.500000</td>\n      <td>3</td>\n      <td>1.500000</td>\n      <td>3</td>\n      <td>1.000000</td>\n      <td>6.000000</td>\n      <td>12</td>\n    </tr>\n    <tr>\n      <th>23</th>\n      <td>Joey Slye</td>\n      <td>2.000000</td>\n      <td>6</td>\n      <td>2.333333</td>\n      <td>7</td>\n      <td>89.0</td>\n      <td>36.666667</td>\n      <td>110</td>\n      <td>1.000000</td>\n      <td>3</td>\n      <td>1.000000</td>\n      <td>3</td>\n      <td>1.000000</td>\n      <td>7.000000</td>\n      <td>21</td>\n    </tr>\n    <tr>\n      <th>24</th>\n      <td>Joshua Karty</td>\n      <td>1.500000</td>\n      <td>3</td>\n      <td>1.500000</td>\n      <td>3</td>\n      <td>100.0</td>\n      <td>35.000000</td>\n      <td>70</td>\n      <td>1.500000</td>\n      <td>3</td>\n      <td>1.500000</td>\n      <td>3</td>\n      <td>1.000000</td>\n      <td>6.000000</td>\n      <td>12</td>\n    </tr>\n    <tr>\n      <th>25</th>\n      <td>Justin Tucker</td>\n      <td>2.500000</td>\n      <td>5</td>\n      <td>3.500000</td>\n      <td>7</td>\n      <td>71.0</td>\n      <td>40.000000</td>\n      <td>80</td>\n      <td>2.000000</td>\n      <td>4</td>\n      <td>2.000000</td>\n      <td>4</td>\n      <td>1.000000</td>\n      <td>9.500000</td>\n      <td>19</td>\n    </tr>\n    <tr>\n      <th>26</th>\n      <td>Ka'imi Fairbairn</td>\n      <td>3.500000</td>\n      <td>7</td>\n      <td>3.500000</td>\n      <td>7</td>\n      <td>100.0</td>\n      <td>55.000000</td>\n      <td>110</td>\n      <td>1.500000</td>\n      <td>3</td>\n      <td>1.500000</td>\n      <td>3</td>\n      <td>1.000000</td>\n      <td>12.000000</td>\n      <td>24</td>\n    </tr>\n    <tr>\n      <th>27</th>\n      <td>Matt Gay</td>\n      <td>1.000000</td>\n      <td>1</td>\n      <td>2.000000</td>\n      <td>2</td>\n      <td>50.0</td>\n      <td>34.000000</td>\n      <td>34</td>\n      <td>1.000000</td>\n      <td>1</td>\n      <td>1.000000</td>\n      <td>1</td>\n      <td>1.000000</td>\n      <td>4.000000</td>\n      <td>4</td>\n    </tr>\n    <tr>\n      <th>28</th>\n      <td>Matt Prater</td>\n      <td>2.000000</td>\n      <td>4</td>\n      <td>2.000000</td>\n      <td>4</td>\n      <td>100.0</td>\n      <td>44.000000</td>\n      <td>88</td>\n      <td>3.500000</td>\n      <td>7</td>\n      <td>3.500000</td>\n      <td>7</td>\n      <td>1.000000</td>\n      <td>9.500000</td>\n      <td>19</td>\n    </tr>\n    <tr>\n      <th>29</th>\n      <td>Nick Folk</td>\n      <td>1.000000</td>\n      <td>2</td>\n      <td>1.000000</td>\n      <td>2</td>\n      <td>100.0</td>\n      <td>40.500000</td>\n      <td>81</td>\n      <td>2.000000</td>\n      <td>4</td>\n      <td>2.000000</td>\n      <td>4</td>\n      <td>1.000000</td>\n      <td>5.000000</td>\n      <td>10</td>\n    </tr>\n    <tr>\n      <th>30</th>\n      <td>Spencer Shrader</td>\n      <td>0.000000</td>\n      <td>0</td>\n      <td>0.000000</td>\n      <td>0</td>\n      <td>0.0</td>\n      <td>0.000000</td>\n      <td>0</td>\n      <td>3.000000</td>\n      <td>3</td>\n      <td>3.000000</td>\n      <td>3</td>\n      <td>1.000000</td>\n      <td>3.000000</td>\n      <td>3</td>\n    </tr>\n    <tr>\n      <th>31</th>\n      <td>Tyler Bass</td>\n      <td>1.500000</td>\n      <td>3</td>\n      <td>2.000000</td>\n      <td>4</td>\n      <td>75.0</td>\n      <td>41.000000</td>\n      <td>82</td>\n      <td>4.000000</td>\n      <td>8</td>\n      <td>4.000000</td>\n      <td>8</td>\n      <td>1.000000</td>\n      <td>8.500000</td>\n      <td>17</td>\n    </tr>\n    <tr>\n      <th>32</th>\n      <td>Wil Lutz</td>\n      <td>2.500000</td>\n      <td>5</td>\n      <td>2.500000</td>\n      <td>5</td>\n      <td>100.0</td>\n      <td>40.000000</td>\n      <td>80</td>\n      <td>0.500000</td>\n      <td>1</td>\n      <td>0.500000</td>\n      <td>1</td>\n      <td>1.000000</td>\n      <td>8.000000</td>\n      <td>16</td>\n    </tr>\n    <tr>\n      <th>33</th>\n      <td>Will Reichard</td>\n      <td>1.500000</td>\n      <td>3</td>\n      <td>1.500000</td>\n      <td>3</td>\n      <td>50.0</td>\n      <td>19.500000</td>\n      <td>39</td>\n      <td>3.000000</td>\n      <td>6</td>\n      <td>3.000000</td>\n      <td>6</td>\n      <td>1.000000</td>\n      <td>7.500000</td>\n      <td>15</td>\n    </tr>\n    <tr>\n      <th>34</th>\n      <td>Younghoe Koo</td>\n      <td>2.000000</td>\n      <td>4</td>\n      <td>2.000000</td>\n      <td>4</td>\n      <td>100.0</td>\n      <td>31.500000</td>\n      <td>63</td>\n      <td>1.000000</td>\n      <td>2</td>\n      <td>1.000000</td>\n      <td>2</td>\n      <td>1.000000</td>\n      <td>7.000000</td>\n      <td>14</td>\n    </tr>\n  </tbody>\n</table>\n</div>"
     },
     "execution_count": 5,
     "metadata": {},
     "output_type": "execute_result"
    }
   ],
   "source": [
    "fetch.field_goal_boxscore(year=2024, pivot=True)"
   ],
   "metadata": {
    "collapsed": false,
    "ExecuteTime": {
     "end_time": "2024-09-21T17:46:31.883156Z",
     "start_time": "2024-09-21T17:46:17.653222Z"
    }
   },
   "id": "361f6053062a4b60"
  },
  {
   "cell_type": "markdown",
   "source": [
    " "
   ],
   "metadata": {
    "collapsed": false
   },
   "id": "79d354ce0fd944e1"
  },
  {
   "cell_type": "code",
   "execution_count": 17,
   "outputs": [],
   "source": [],
   "metadata": {
    "collapsed": false,
    "ExecuteTime": {
     "end_time": "2024-09-20T03:49:17.694994Z",
     "start_time": "2024-09-20T03:49:17.688597Z"
    }
   },
   "id": "10712f09d0cffe03"
  },
  {
   "cell_type": "code",
   "execution_count": 17,
   "outputs": [],
   "source": [],
   "metadata": {
    "collapsed": false,
    "ExecuteTime": {
     "end_time": "2024-09-20T03:49:17.701173Z",
     "start_time": "2024-09-20T03:49:17.694493Z"
    }
   },
   "id": "d9416f8526b1f4e6"
  },
  {
   "cell_type": "code",
   "execution_count": 17,
   "outputs": [],
   "source": [],
   "metadata": {
    "collapsed": false,
    "ExecuteTime": {
     "end_time": "2024-09-20T03:49:17.737601Z",
     "start_time": "2024-09-20T03:49:17.703213Z"
    }
   },
   "id": "13c65fcc74a78f60"
  },
  {
   "cell_type": "markdown",
   "source": [],
   "metadata": {
    "collapsed": false
   },
   "id": "13333f6b73df185b"
  },
  {
   "cell_type": "markdown",
   "source": [],
   "metadata": {
    "collapsed": false
   },
   "id": "cd6265fa45cd1f24"
  },
  {
   "cell_type": "markdown",
   "source": [],
   "metadata": {
    "collapsed": false
   },
   "id": "97bd8c6ebb380f1f"
  },
  {
   "cell_type": "code",
   "execution_count": 17,
   "outputs": [],
   "source": [],
   "metadata": {
    "collapsed": false,
    "ExecuteTime": {
     "end_time": "2024-09-20T03:49:17.737822Z",
     "start_time": "2024-09-20T03:49:17.708221Z"
    }
   },
   "id": "2bb6f3f919127843"
  },
  {
   "cell_type": "code",
   "execution_count": 17,
   "outputs": [],
   "source": [
    "\n"
   ],
   "metadata": {
    "collapsed": false,
    "ExecuteTime": {
     "end_time": "2024-09-20T03:49:17.738092Z",
     "start_time": "2024-09-20T03:49:17.714221Z"
    }
   },
   "id": "18d71cd4ab791960"
  },
  {
   "cell_type": "code",
   "execution_count": 3,
   "outputs": [],
   "source": [],
   "metadata": {
    "collapsed": false,
    "ExecuteTime": {
     "end_time": "2024-09-18T22:20:12.157898Z",
     "start_time": "2024-09-18T22:20:12.147192Z"
    }
   },
   "id": "7b91c464307da466"
  },
  {
   "cell_type": "code",
   "execution_count": 3,
   "outputs": [],
   "source": [],
   "metadata": {
    "collapsed": false,
    "ExecuteTime": {
     "end_time": "2024-09-18T22:20:12.379652Z",
     "start_time": "2024-09-18T22:20:12.370993Z"
    }
   },
   "id": "f9bfcca282d7537c"
  },
  {
   "cell_type": "code",
   "execution_count": 3,
   "outputs": [],
   "source": [],
   "metadata": {
    "collapsed": false,
    "ExecuteTime": {
     "end_time": "2024-09-18T22:20:12.596969Z",
     "start_time": "2024-09-18T22:20:12.556415Z"
    }
   },
   "id": "b912049296c01ed5"
  },
  {
   "cell_type": "code",
   "execution_count": 3,
   "outputs": [],
   "source": [],
   "metadata": {
    "collapsed": false,
    "ExecuteTime": {
     "end_time": "2024-09-18T22:20:12.942709Z",
     "start_time": "2024-09-18T22:20:12.907338Z"
    }
   },
   "id": "7311cfc949aaa8ac"
  },
  {
   "cell_type": "code",
   "execution_count": 3,
   "outputs": [],
   "source": [],
   "metadata": {
    "collapsed": false,
    "ExecuteTime": {
     "end_time": "2024-09-18T22:20:13.131142Z",
     "start_time": "2024-09-18T22:20:13.107989Z"
    }
   },
   "id": "f71e1b3bf3eab20a"
  },
  {
   "cell_type": "code",
   "execution_count": 3,
   "outputs": [],
   "source": [],
   "metadata": {
    "collapsed": false,
    "ExecuteTime": {
     "end_time": "2024-09-18T22:20:13.366260Z",
     "start_time": "2024-09-18T22:20:13.331571Z"
    }
   },
   "id": "25e1c8e4674f4f68"
  },
  {
   "cell_type": "code",
   "execution_count": 3,
   "outputs": [],
   "source": [],
   "metadata": {
    "collapsed": false,
    "ExecuteTime": {
     "end_time": "2024-09-18T22:20:13.545226Z",
     "start_time": "2024-09-18T22:20:13.514217Z"
    }
   },
   "id": "f6e442163c078cee"
  },
  {
   "cell_type": "code",
   "execution_count": 3,
   "outputs": [],
   "source": [],
   "metadata": {
    "collapsed": false,
    "ExecuteTime": {
     "end_time": "2024-09-18T22:20:13.713336Z",
     "start_time": "2024-09-18T22:20:13.681178Z"
    }
   },
   "id": "28e7905afd34ee3b"
  },
  {
   "cell_type": "code",
   "execution_count": null,
   "outputs": [],
   "source": [],
   "metadata": {
    "collapsed": false
   },
   "id": "edaed07d571eff52"
  }
 ],
 "metadata": {
  "kernelspec": {
   "display_name": "Python 3",
   "language": "python",
   "name": "python3"
  },
  "language_info": {
   "codemirror_mode": {
    "name": "ipython",
    "version": 2
   },
   "file_extension": ".py",
   "mimetype": "text/x-python",
   "name": "python",
   "nbconvert_exporter": "python",
   "pygments_lexer": "ipython2",
   "version": "2.7.6"
  }
 },
 "nbformat": 4,
 "nbformat_minor": 5
}
