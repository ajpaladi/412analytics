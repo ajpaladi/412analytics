{
 "cells": [
  {
   "cell_type": "code",
   "execution_count": 1,
   "outputs": [],
   "source": [
    "import pandas as pd\n",
    "import requests\n",
    "from pprint import pprint\n",
    "import plotly_express as px\n",
    "from fouronetwo import Fetch\n",
    "fetch = Fetch()\n",
    "import re\n",
    "\n"
   ],
   "metadata": {
    "collapsed": false,
    "ExecuteTime": {
     "end_time": "2024-10-16T04:19:41.499319Z",
     "start_time": "2024-10-16T04:19:41.148243Z"
    }
   },
   "id": "81466365851f1193"
  },
  {
   "cell_type": "code",
   "execution_count": 2,
   "id": "initial_id",
   "metadata": {
    "collapsed": true,
    "ExecuteTime": {
     "end_time": "2024-10-16T04:19:41.897396Z",
     "start_time": "2024-10-16T04:19:41.893155Z"
    }
   },
   "outputs": [],
   "source": [
    "# fetch.completed_games(year = 2024, week=1)\n",
    "# fetch.scheduled_games(year = 2024, week=18)\n",
    "# fetch.in_progress_games(year = 2024, week=1)\n",
    "#fetch.completed_games(year=2024, team = 'Pittsburgh Steelers')\n",
    "#data = fetch.boxscore(year=2023, team='Pittsburgh Steelers')\n",
    "#fetch.passing_boxscore(year=2024, pivot=True)\n",
    "#fetch.rushing_boxscore(year=2024, pivot=True)\n",
    "#fetch.receiving_boxscore(year=2024, pivot=True)\n",
    "#fetch.fumble_boxscore(year=2024, pivot=True)\n",
    "#fetch.defensive_boxscore(year=2024, pivot=True)\n",
    "#fetch.interception_boxscore(year=2024, pivot=True)\n",
    "#fetch.kick_return_boxscore(year=2024)\n",
    "#fetch.punt_return_boxscore(year=2024, pivot=True)\n",
    "#fetch.field_goal_boxscore(year=2024, pivot=True)\n",
    "#fetch.punt_boxscore(year=2024)\n",
    "#fetch.drives(year=2024, team='Pittsburgh Steelers')\n",
    "#fetch.plays(year=2024)\n",
    "#fetch.drives(year=2024)\n",
    "#fetch.offensive_drive_summary(year=2024, agg_method='weekly', team='Pittsburgh Steelers')\n",
    "#fetch.defensive_drive_summary(year=2024)\n",
    "#fetch.videos(year=2024, team='Pittsburgh Steelers')\n",
    "#fetch.officials(year=2024, team='Pittsburgh Steelers')\n",
    "#wp = fetch.win_probability(year = 2024, team='Pittsburgh Steelers', week=4)\n",
    "#da = fetch.drive_analysis(year=2024)\n",
    "#mov = fetch.pd_mov_mod(2024)\n",
    "#fetch.qb_epa(year=2024)\n",
    "\n",
    "\n"
   ]
  },
  {
   "cell_type": "code",
   "execution_count": 3,
   "outputs": [
    {
     "data": {
      "text/plain": "                name                                        description\n0       Points Added  Number of points contributed by a quarterback,...\n1               Pass  Expected points added on pass attempts with lo...\n2           RUSH EPA  Expected points added on rushes with low lever...\n3               SACK  Expected points added on sacks with low levera...\n4            PENALTY  Expected points added on penalties with low le...\n5          TOTAL EPA  Total expected points added with low leverage ...\n6           QB PLAYS  Plays on which the QB has a non-zero expected ...\n7             CW AVG  Average clutch weight on QB action plays. Smal...\n8            RAW QBR  Raw Total Quarterback Rating, which values qua...\n9       EXP PASS EPA  Clutch-weighted expected points added through ...\n10           INT EPA  Clutch-weighted expected points added (lost) t...\n11           YAC EPA  Clutch-weighted expected points added (lost) o...\n12               RUN  Clutch-weighted expected points added through ...\n13         SCRAM EPA  Clutch-weighted expected points added through ...\n14          EXP SACK  Clutch-weighted expected points added (lost) f...\n15           FUM EPA  Clutch-weighted expected points added (lost) t...\n16         DEF FACED                      Difficulty of defenses faced.\n17         TOTAL QBR  Adjusted Total Quarterback Rating, which value...\n18  Unqualified Rank                      Rank in unqualified QBR list.",
      "text/html": "<div>\n<style scoped>\n    .dataframe tbody tr th:only-of-type {\n        vertical-align: middle;\n    }\n\n    .dataframe tbody tr th {\n        vertical-align: top;\n    }\n\n    .dataframe thead th {\n        text-align: right;\n    }\n</style>\n<table border=\"1\" class=\"dataframe\">\n  <thead>\n    <tr style=\"text-align: right;\">\n      <th></th>\n      <th>name</th>\n      <th>description</th>\n    </tr>\n  </thead>\n  <tbody>\n    <tr>\n      <th>0</th>\n      <td>Points Added</td>\n      <td>Number of points contributed by a quarterback,...</td>\n    </tr>\n    <tr>\n      <th>1</th>\n      <td>Pass</td>\n      <td>Expected points added on pass attempts with lo...</td>\n    </tr>\n    <tr>\n      <th>2</th>\n      <td>RUSH EPA</td>\n      <td>Expected points added on rushes with low lever...</td>\n    </tr>\n    <tr>\n      <th>3</th>\n      <td>SACK</td>\n      <td>Expected points added on sacks with low levera...</td>\n    </tr>\n    <tr>\n      <th>4</th>\n      <td>PENALTY</td>\n      <td>Expected points added on penalties with low le...</td>\n    </tr>\n    <tr>\n      <th>5</th>\n      <td>TOTAL EPA</td>\n      <td>Total expected points added with low leverage ...</td>\n    </tr>\n    <tr>\n      <th>6</th>\n      <td>QB PLAYS</td>\n      <td>Plays on which the QB has a non-zero expected ...</td>\n    </tr>\n    <tr>\n      <th>7</th>\n      <td>CW AVG</td>\n      <td>Average clutch weight on QB action plays. Smal...</td>\n    </tr>\n    <tr>\n      <th>8</th>\n      <td>RAW QBR</td>\n      <td>Raw Total Quarterback Rating, which values qua...</td>\n    </tr>\n    <tr>\n      <th>9</th>\n      <td>EXP PASS EPA</td>\n      <td>Clutch-weighted expected points added through ...</td>\n    </tr>\n    <tr>\n      <th>10</th>\n      <td>INT EPA</td>\n      <td>Clutch-weighted expected points added (lost) t...</td>\n    </tr>\n    <tr>\n      <th>11</th>\n      <td>YAC EPA</td>\n      <td>Clutch-weighted expected points added (lost) o...</td>\n    </tr>\n    <tr>\n      <th>12</th>\n      <td>RUN</td>\n      <td>Clutch-weighted expected points added through ...</td>\n    </tr>\n    <tr>\n      <th>13</th>\n      <td>SCRAM EPA</td>\n      <td>Clutch-weighted expected points added through ...</td>\n    </tr>\n    <tr>\n      <th>14</th>\n      <td>EXP SACK</td>\n      <td>Clutch-weighted expected points added (lost) f...</td>\n    </tr>\n    <tr>\n      <th>15</th>\n      <td>FUM EPA</td>\n      <td>Clutch-weighted expected points added (lost) t...</td>\n    </tr>\n    <tr>\n      <th>16</th>\n      <td>DEF FACED</td>\n      <td>Difficulty of defenses faced.</td>\n    </tr>\n    <tr>\n      <th>17</th>\n      <td>TOTAL QBR</td>\n      <td>Adjusted Total Quarterback Rating, which value...</td>\n    </tr>\n    <tr>\n      <th>18</th>\n      <td>Unqualified Rank</td>\n      <td>Rank in unqualified QBR list.</td>\n    </tr>\n  </tbody>\n</table>\n</div>"
     },
     "execution_count": 3,
     "metadata": {},
     "output_type": "execute_result"
    }
   ],
   "source": [
    "fetch.qb_epa_glossary()"
   ],
   "metadata": {
    "collapsed": false,
    "ExecuteTime": {
     "end_time": "2024-10-16T04:19:42.868667Z",
     "start_time": "2024-10-16T04:19:42.439104Z"
    }
   },
   "id": "73ce692178581f95"
  },
  {
   "cell_type": "code",
   "execution_count": 5,
   "outputs": [
    {
     "name": "stdout",
     "output_type": "stream",
     "text": [
      "https://site.api.espn.com/apis/site/v2/sports/football/nfl/scoreboard?limit=1000&dates=2024&seasontype=2&week=1\n",
      "https://site.api.espn.com/apis/site/v2/sports/football/nfl/scoreboard?limit=1000&dates=2024&seasontype=2&week=2\n",
      "https://site.api.espn.com/apis/site/v2/sports/football/nfl/scoreboard?limit=1000&dates=2024&seasontype=2&week=3\n",
      "https://site.api.espn.com/apis/site/v2/sports/football/nfl/scoreboard?limit=1000&dates=2024&seasontype=2&week=4\n",
      "https://site.api.espn.com/apis/site/v2/sports/football/nfl/scoreboard?limit=1000&dates=2024&seasontype=2&week=5\n",
      "https://site.api.espn.com/apis/site/v2/sports/football/nfl/scoreboard?limit=1000&dates=2024&seasontype=2&week=6\n",
      "https://site.api.espn.com/apis/site/v2/sports/football/nfl/scoreboard?limit=1000&dates=2024&seasontype=2&week=7\n",
      "https://site.api.espn.com/apis/site/v2/sports/football/nfl/scoreboard?limit=1000&dates=2024&seasontype=2&week=8\n",
      "https://site.api.espn.com/apis/site/v2/sports/football/nfl/scoreboard?limit=1000&dates=2024&seasontype=2&week=9\n",
      "https://site.api.espn.com/apis/site/v2/sports/football/nfl/scoreboard?limit=1000&dates=2024&seasontype=2&week=10\n",
      "https://site.api.espn.com/apis/site/v2/sports/football/nfl/scoreboard?limit=1000&dates=2024&seasontype=2&week=11\n",
      "https://site.api.espn.com/apis/site/v2/sports/football/nfl/scoreboard?limit=1000&dates=2024&seasontype=2&week=12\n",
      "https://site.api.espn.com/apis/site/v2/sports/football/nfl/scoreboard?limit=1000&dates=2024&seasontype=2&week=13\n",
      "https://site.api.espn.com/apis/site/v2/sports/football/nfl/scoreboard?limit=1000&dates=2024&seasontype=2&week=14\n",
      "https://site.api.espn.com/apis/site/v2/sports/football/nfl/scoreboard?limit=1000&dates=2024&seasontype=2&week=15\n",
      "https://site.api.espn.com/apis/site/v2/sports/football/nfl/scoreboard?limit=1000&dates=2024&seasontype=2&week=16\n",
      "https://site.api.espn.com/apis/site/v2/sports/football/nfl/scoreboard?limit=1000&dates=2024&seasontype=2&week=17\n",
      "https://site.api.espn.com/apis/site/v2/sports/football/nfl/scoreboard?limit=1000&dates=2024&seasontype=2&week=18\n"
     ]
    },
    {
     "name": "stderr",
     "output_type": "stream",
     "text": [
      "100%|██████████| 92/92 [00:27<00:00,  3.39it/s]\n"
     ]
    },
    {
     "name": "stdout",
     "output_type": "stream",
     "text": [
      "https://sports.core.api.espn.com/v2/sports/football/leagues/nfl/seasons/2024/types/2/weeks/1/qbr/10000?page=1\n",
      "https://sports.core.api.espn.com/v2/sports/football/leagues/nfl/seasons/2024/types/2/weeks/1/qbr/10000?page=2\n",
      "https://sports.core.api.espn.com/v2/sports/football/leagues/nfl/seasons/2024/types/2/weeks/2/qbr/10000?page=1\n",
      "https://sports.core.api.espn.com/v2/sports/football/leagues/nfl/seasons/2024/types/2/weeks/2/qbr/10000?page=2\n",
      "https://sports.core.api.espn.com/v2/sports/football/leagues/nfl/seasons/2024/types/2/weeks/3/qbr/10000?page=1\n",
      "https://sports.core.api.espn.com/v2/sports/football/leagues/nfl/seasons/2024/types/2/weeks/3/qbr/10000?page=2\n",
      "https://sports.core.api.espn.com/v2/sports/football/leagues/nfl/seasons/2024/types/2/weeks/4/qbr/10000?page=1\n",
      "https://sports.core.api.espn.com/v2/sports/football/leagues/nfl/seasons/2024/types/2/weeks/4/qbr/10000?page=2\n",
      "https://sports.core.api.espn.com/v2/sports/football/leagues/nfl/seasons/2024/types/2/weeks/5/qbr/10000?page=1\n",
      "https://sports.core.api.espn.com/v2/sports/football/leagues/nfl/seasons/2024/types/2/weeks/5/qbr/10000?page=2\n",
      "https://sports.core.api.espn.com/v2/sports/football/leagues/nfl/seasons/2024/types/2/weeks/6/qbr/10000?page=1\n",
      "https://sports.core.api.espn.com/v2/sports/football/leagues/nfl/seasons/2024/types/2/weeks/6/qbr/10000?page=2\n",
      "https://sports.core.api.espn.com/v2/sports/football/leagues/nfl/seasons/2024/types/2/weeks/7/qbr/10000?page=1\n",
      "https://sports.core.api.espn.com/v2/sports/football/leagues/nfl/seasons/2024/types/2/weeks/8/qbr/10000?page=1\n",
      "https://sports.core.api.espn.com/v2/sports/football/leagues/nfl/seasons/2024/types/2/weeks/9/qbr/10000?page=1\n",
      "https://sports.core.api.espn.com/v2/sports/football/leagues/nfl/seasons/2024/types/2/weeks/10/qbr/10000?page=1\n",
      "https://sports.core.api.espn.com/v2/sports/football/leagues/nfl/seasons/2024/types/2/weeks/11/qbr/10000?page=1\n",
      "https://sports.core.api.espn.com/v2/sports/football/leagues/nfl/seasons/2024/types/2/weeks/12/qbr/10000?page=1\n",
      "https://sports.core.api.espn.com/v2/sports/football/leagues/nfl/seasons/2024/types/2/weeks/13/qbr/10000?page=1\n",
      "https://sports.core.api.espn.com/v2/sports/football/leagues/nfl/seasons/2024/types/2/weeks/14/qbr/10000?page=1\n",
      "https://sports.core.api.espn.com/v2/sports/football/leagues/nfl/seasons/2024/types/2/weeks/15/qbr/10000?page=1\n",
      "https://sports.core.api.espn.com/v2/sports/football/leagues/nfl/seasons/2024/types/2/weeks/16/qbr/10000?page=1\n",
      "https://sports.core.api.espn.com/v2/sports/football/leagues/nfl/seasons/2024/types/2/weeks/17/qbr/10000?page=1\n",
      "https://sports.core.api.espn.com/v2/sports/football/leagues/nfl/seasons/2024/types/2/weeks/18/qbr/10000?page=1\n"
     ]
    }
   ],
   "source": [
    "epa = fetch.qb_epa(2024, pivot=True)"
   ],
   "metadata": {
    "collapsed": false,
    "ExecuteTime": {
     "end_time": "2024-10-16T04:32:43.368791Z",
     "start_time": "2024-10-16T04:32:01.816004Z"
    }
   },
   "id": "2ee50ec98f629330"
  },
  {
   "cell_type": "code",
   "execution_count": 6,
   "outputs": [
    {
     "data": {
      "text/plain": "                 name_  points_added_mean  points_added_sum  pass_epa_mean  \\\n0        Aaron Rodgers          -0.216667              -1.3       2.850000   \n1      Aidan O'Connell          -1.800000              -3.6       1.050000   \n2          Andy Dalton           2.150000               8.6       4.775000   \n3   Anthony Richardson          -0.633333              -1.9      -0.266667   \n4       Baker Mayfield           1.383333               8.3       2.883333   \n5               Bo Nix          -1.150000              -6.9       0.700000   \n6          Brock Purdy           2.400000              14.4       4.716667   \n7          Bryce Young          -6.400000             -12.8      -1.750000   \n8          C.J. Stroud           2.016667              12.1       5.416667   \n9       Caleb Williams           0.350000               2.1       2.616667   \n10        Dak Prescott          -0.783333              -4.7       2.733333   \n11        Daniel Jones          -0.116667              -0.7       3.666667   \n12          Derek Carr           1.025000               4.1       3.175000   \n13      Deshaun Watson          -4.283333             -25.7      -0.050000   \n14          Drake Maye          -2.900000              -2.9      -0.300000   \n15     Gardner Minshew          -1.060000              -5.3       1.240000   \n16          Geno Smith           1.816667              10.9       4.533333   \n17     Jacoby Brissett          -1.380000              -6.9       0.900000   \n18         Jalen Hurts           1.480000               7.4       3.580000   \n19          Jared Goff           0.600000               3.0       3.140000   \n20      Jayden Daniels           3.466667              20.8       4.316667   \n21          Joe Burrow           3.916667              23.5       6.066667   \n22          Joe Flacco           3.100000               9.3       5.800000   \n23         Jordan Love           1.050000               4.2       2.650000   \n24          Josh Allen           3.583333              21.5       4.150000   \n25       Justin Fields           0.466667               2.8       2.350000   \n26      Justin Herbert           0.000000               0.0       2.500000   \n27        Kirk Cousins           1.416667               8.5       5.200000   \n28        Kyler Murray           1.850000              11.1       2.866667   \n29       Lamar Jackson           2.816667              16.9       5.016667   \n30        Malik Willis           3.950000               7.9       2.150000   \n31    Matthew Stafford          -0.060000              -0.3       2.940000   \n32     Patrick Mahomes           1.180000               5.9       2.740000   \n33         Sam Darnold           0.500000               2.5       2.380000   \n34     Skylar Thompson          -5.500000              -5.5      -3.000000   \n35     Spencer Rattler          -2.800000              -2.8      -0.200000   \n36     Trevor Lawrence          -0.033333              -0.2       2.433333   \n37      Tua Tagovailoa          -1.350000              -2.7       0.350000   \n38       Tyler Huntley          -2.850000              -5.7       0.200000   \n39          Will Levis          -3.025000             -12.1      -0.025000   \n\n    pass_epa_sum  rush_epa_mean  rush_epa_sum  sack_epa_mean  sack_epa_sum  \\\n0           17.1       0.050000           0.3      -1.300000          -7.8   \n1            2.1       0.000000           0.0      -0.200000          -0.4   \n2           19.1      -0.050000          -0.2      -0.575000          -2.3   \n3           -0.8       0.533333           1.6      -0.700000          -2.1   \n4           17.3       0.316667           1.9      -1.416667          -8.5   \n5            4.2       0.100000           0.6      -0.566667          -3.4   \n6           28.3       0.033333           0.2      -0.733333          -4.4   \n7           -3.5       0.000000           0.0      -0.950000          -1.9   \n8           32.5       0.000000           0.0      -1.066667          -6.4   \n9           15.7      -0.016667          -0.1      -1.450000          -8.7   \n10          16.4       0.100000           0.6      -0.883333          -5.3   \n11          22.0       0.266667           1.6      -0.733333          -4.4   \n12          12.7      -0.025000          -0.1      -0.425000          -1.7   \n13          -0.3       0.000000           0.0      -2.116667         -12.7   \n14          -0.3       0.000000           0.0      -1.500000          -1.5   \n15           6.2      -0.160000          -0.8      -1.300000          -6.5   \n16          27.2       0.133333           0.8      -1.216667          -7.3   \n17           4.5       0.020000           0.1      -1.380000          -6.9   \n18          17.9       0.380000           1.9      -1.040000          -5.2   \n19          15.7       0.040000           0.2      -0.680000          -3.4   \n20          25.9       0.333333           2.0      -1.033333          -6.2   \n21          36.4      -0.016667          -0.1      -1.050000          -6.3   \n22          17.4       0.033333           0.1      -0.500000          -1.5   \n23          10.6       0.000000           0.0      -0.425000          -1.7   \n24          24.9       1.083333           6.5      -0.533333          -3.2   \n25          14.1       0.350000           2.1      -1.166667          -7.0   \n26          12.5       0.080000           0.4      -0.680000          -3.4   \n27          31.2       0.000000           0.0      -0.733333          -4.4   \n28          17.2       0.483333           2.9      -0.733333          -4.4   \n29          30.1       1.283333           7.7      -0.483333          -2.9   \n30           4.3       1.350000           2.7      -0.500000          -1.0   \n31          14.7       0.000000           0.0      -1.300000          -6.5   \n32          13.7       0.000000           0.0      -0.680000          -3.4   \n33          11.9      -0.100000          -0.5      -0.980000          -4.9   \n34          -3.0       0.000000           0.0      -1.600000          -1.6   \n35          -0.2       0.000000           0.0      -1.800000          -1.8   \n36          14.6       0.033333           0.2      -1.000000          -6.0   \n37           0.7       0.000000           0.0      -1.100000          -2.2   \n38           0.4       0.600000           1.2      -1.250000          -2.5   \n39          -0.1       0.175000           0.7      -1.650000          -6.6   \n\n    penalty_epa_mean  ...  expected_sack_epa_mean  expected_sack_epa_sum  \\\n0           0.116667  ...                     0.0                    0.0   \n1          -0.100000  ...                     0.0                    0.0   \n2           0.275000  ...                     0.0                    0.0   \n3          -0.166667  ...                     0.0                    0.0   \n4           0.300000  ...                     0.0                    0.0   \n5           0.050000  ...                     0.0                    0.0   \n6           0.050000  ...                     0.0                    0.0   \n7          -0.100000  ...                     0.0                    0.0   \n8           0.066667  ...                     0.0                    0.0   \n9           0.416667  ...                     0.0                    0.0   \n10          0.050000  ...                     0.0                    0.0   \n11          0.233333  ...                     0.0                    0.0   \n12          0.150000  ...                     0.0                    0.0   \n13         -0.033333  ...                     0.0                    0.0   \n14         -0.300000  ...                     0.0                    0.0   \n15          0.400000  ...                     0.0                    0.0   \n16          0.216667  ...                     0.0                    0.0   \n17          0.160000  ...                     0.0                    0.0   \n18          0.160000  ...                     0.0                    0.0   \n19         -0.100000  ...                     0.0                    0.0   \n20          0.283333  ...                     0.0                    0.0   \n21          0.116667  ...                     0.0                    0.0   \n22          0.533333  ...                     0.0                    0.0   \n23          0.425000  ...                     0.0                    0.0   \n24          0.050000  ...                     0.0                    0.0   \n25          0.150000  ...                     0.0                    0.0   \n26         -0.020000  ...                     0.0                    0.0   \n27          0.266667  ...                     0.0                    0.0   \n28          0.133333  ...                     0.0                    0.0   \n29          0.066667  ...                     0.0                    0.0   \n30          0.000000  ...                     0.0                    0.0   \n31          0.600000  ...                     0.0                    0.0   \n32          0.200000  ...                     0.0                    0.0   \n33          0.440000  ...                     0.0                    0.0   \n34         -0.100000  ...                     0.0                    0.0   \n35          0.300000  ...                     0.0                    0.0   \n36          0.216667  ...                     0.0                    0.0   \n37          0.000000  ...                     0.0                    0.0   \n38          0.350000  ...                     0.0                    0.0   \n39          0.125000  ...                     0.0                    0.0   \n\n    fumble_epa_mean  fumble_epa_sum  defense_faced_epa_mean  \\\n0          0.000000             0.0               52.100000   \n1          0.000000             0.0               47.900000   \n2          0.000000             0.0               56.500000   \n3          0.000000             0.0               45.433333   \n4         -0.083333            -0.5               55.800000   \n5          0.000000             0.0               50.366667   \n6         -0.433333            -2.6               55.633333   \n7          0.000000             0.0               47.700000   \n8         -0.150000            -0.9               55.333333   \n9         -0.250000            -1.5               60.783333   \n10        -0.316667            -1.9               52.866667   \n11        -0.150000            -0.9               54.716667   \n12         0.000000             0.0               60.875000   \n13        -0.466667            -2.8               58.316667   \n14        -0.700000            -0.7               48.800000   \n15        -0.240000            -1.2               55.340000   \n16         0.000000             0.0               54.150000   \n17        -0.100000            -0.5               52.960000   \n18        -0.700000            -3.5               54.040000   \n19         0.000000             0.0               59.020000   \n20        -0.700000            -4.2               59.016667   \n21        -0.100000            -0.6               60.683333   \n22        -0.133333            -0.4               57.166667   \n23        -0.100000            -0.4               54.925000   \n24        -0.366667            -2.2               56.566667   \n25        -0.566667            -3.4               55.350000   \n26        -0.540000            -2.7               53.660000   \n27        -0.733333            -4.4               54.166667   \n28        -0.583333            -3.5               55.216667   \n29        -0.650000            -3.9               57.133333   \n30         0.000000             0.0               57.050000   \n31        -0.220000            -1.1               52.080000   \n32         0.000000             0.0               56.720000   \n33        -0.760000            -3.8               49.980000   \n34        -1.300000            -1.3               52.700000   \n35         0.000000             0.0               55.600000   \n36        -0.100000            -0.6               51.933333   \n37         0.000000             0.0               62.850000   \n38        -0.750000            -1.5               59.600000   \n39        -0.450000            -1.8               49.075000   \n\n    defense_faced_epa_sum  total_qbr_mean  total_qbr_sum  unq_rank_mean  \\\n0                   312.6       51.983333          311.9      20.500000   \n1                    95.8       34.200000           68.4      28.000000   \n2                   226.0       60.100000          240.4      16.750000   \n3                   136.3       50.000000          150.0      20.666667   \n4                   334.8       61.066667          366.4      15.666667   \n5                   302.2       43.833333          263.0      23.333333   \n6                   333.8       67.883333          407.3      13.500000   \n7                    95.4       10.450000           20.9      37.000000   \n8                   332.0       64.516667          387.1      13.666667   \n9                   364.7       48.816667          292.9      20.833333   \n10                  317.2       47.700000          286.2      19.833333   \n11                  328.3       52.950000          317.7      19.166667   \n12                  243.5       55.500000          222.0      19.250000   \n13                  349.9       23.350000          140.1      30.500000   \n14                   48.8       31.300000           31.3      25.000000   \n15                  276.7       39.800000          199.0      24.400000   \n16                  324.9       60.900000          365.4      15.333333   \n17                  264.8       39.640000          198.2      25.600000   \n18                  270.2       62.060000          310.3      15.400000   \n19                  295.1       54.160000          270.8      19.600000   \n20                  354.1       70.000000          420.0      12.500000   \n21                  364.1       73.650000          441.9      10.166667   \n22                  171.5       70.833333          212.5      12.000000   \n23                  219.7       57.450000          229.8      18.500000   \n24                  339.4       73.750000          442.5      11.666667   \n25                  332.1       53.883333          323.3      18.333333   \n26                  268.3       52.800000          264.0      18.800000   \n27                  325.0       56.933333          341.6      17.333333   \n28                  331.3       62.116667          372.7      17.000000   \n29                  342.8       67.950000          407.7      14.666667   \n30                  114.1       89.200000          178.4       6.500000   \n31                  260.4       52.900000          264.5      20.800000   \n32                  283.6       57.040000          285.2      17.800000   \n33                  249.9       62.960000          314.8      15.400000   \n34                   52.7        5.300000            5.3      39.000000   \n35                   55.6       27.900000           27.9      27.000000   \n36                  311.6       55.133333          330.8      19.166667   \n37                  125.7       25.400000           50.8      31.500000   \n38                  119.2       22.850000           45.7      31.500000   \n39                  196.3       31.800000          127.2      27.500000   \n\n    unq_rank_sum  \n0          123.0  \n1           56.0  \n2           67.0  \n3           62.0  \n4           94.0  \n5          140.0  \n6           81.0  \n7           74.0  \n8           82.0  \n9          125.0  \n10         119.0  \n11         115.0  \n12          77.0  \n13         183.0  \n14          25.0  \n15         122.0  \n16          92.0  \n17         128.0  \n18          77.0  \n19          98.0  \n20          75.0  \n21          61.0  \n22          36.0  \n23          74.0  \n24          70.0  \n25         110.0  \n26          94.0  \n27         104.0  \n28         102.0  \n29          88.0  \n30          13.0  \n31         104.0  \n32          89.0  \n33          77.0  \n34          39.0  \n35          27.0  \n36         115.0  \n37          63.0  \n38          63.0  \n39         110.0  \n\n[40 rows x 39 columns]",
      "text/html": "<div>\n<style scoped>\n    .dataframe tbody tr th:only-of-type {\n        vertical-align: middle;\n    }\n\n    .dataframe tbody tr th {\n        vertical-align: top;\n    }\n\n    .dataframe thead th {\n        text-align: right;\n    }\n</style>\n<table border=\"1\" class=\"dataframe\">\n  <thead>\n    <tr style=\"text-align: right;\">\n      <th></th>\n      <th>name_</th>\n      <th>points_added_mean</th>\n      <th>points_added_sum</th>\n      <th>pass_epa_mean</th>\n      <th>pass_epa_sum</th>\n      <th>rush_epa_mean</th>\n      <th>rush_epa_sum</th>\n      <th>sack_epa_mean</th>\n      <th>sack_epa_sum</th>\n      <th>penalty_epa_mean</th>\n      <th>...</th>\n      <th>expected_sack_epa_mean</th>\n      <th>expected_sack_epa_sum</th>\n      <th>fumble_epa_mean</th>\n      <th>fumble_epa_sum</th>\n      <th>defense_faced_epa_mean</th>\n      <th>defense_faced_epa_sum</th>\n      <th>total_qbr_mean</th>\n      <th>total_qbr_sum</th>\n      <th>unq_rank_mean</th>\n      <th>unq_rank_sum</th>\n    </tr>\n  </thead>\n  <tbody>\n    <tr>\n      <th>0</th>\n      <td>Aaron Rodgers</td>\n      <td>-0.216667</td>\n      <td>-1.3</td>\n      <td>2.850000</td>\n      <td>17.1</td>\n      <td>0.050000</td>\n      <td>0.3</td>\n      <td>-1.300000</td>\n      <td>-7.8</td>\n      <td>0.116667</td>\n      <td>...</td>\n      <td>0.0</td>\n      <td>0.0</td>\n      <td>0.000000</td>\n      <td>0.0</td>\n      <td>52.100000</td>\n      <td>312.6</td>\n      <td>51.983333</td>\n      <td>311.9</td>\n      <td>20.500000</td>\n      <td>123.0</td>\n    </tr>\n    <tr>\n      <th>1</th>\n      <td>Aidan O'Connell</td>\n      <td>-1.800000</td>\n      <td>-3.6</td>\n      <td>1.050000</td>\n      <td>2.1</td>\n      <td>0.000000</td>\n      <td>0.0</td>\n      <td>-0.200000</td>\n      <td>-0.4</td>\n      <td>-0.100000</td>\n      <td>...</td>\n      <td>0.0</td>\n      <td>0.0</td>\n      <td>0.000000</td>\n      <td>0.0</td>\n      <td>47.900000</td>\n      <td>95.8</td>\n      <td>34.200000</td>\n      <td>68.4</td>\n      <td>28.000000</td>\n      <td>56.0</td>\n    </tr>\n    <tr>\n      <th>2</th>\n      <td>Andy Dalton</td>\n      <td>2.150000</td>\n      <td>8.6</td>\n      <td>4.775000</td>\n      <td>19.1</td>\n      <td>-0.050000</td>\n      <td>-0.2</td>\n      <td>-0.575000</td>\n      <td>-2.3</td>\n      <td>0.275000</td>\n      <td>...</td>\n      <td>0.0</td>\n      <td>0.0</td>\n      <td>0.000000</td>\n      <td>0.0</td>\n      <td>56.500000</td>\n      <td>226.0</td>\n      <td>60.100000</td>\n      <td>240.4</td>\n      <td>16.750000</td>\n      <td>67.0</td>\n    </tr>\n    <tr>\n      <th>3</th>\n      <td>Anthony Richardson</td>\n      <td>-0.633333</td>\n      <td>-1.9</td>\n      <td>-0.266667</td>\n      <td>-0.8</td>\n      <td>0.533333</td>\n      <td>1.6</td>\n      <td>-0.700000</td>\n      <td>-2.1</td>\n      <td>-0.166667</td>\n      <td>...</td>\n      <td>0.0</td>\n      <td>0.0</td>\n      <td>0.000000</td>\n      <td>0.0</td>\n      <td>45.433333</td>\n      <td>136.3</td>\n      <td>50.000000</td>\n      <td>150.0</td>\n      <td>20.666667</td>\n      <td>62.0</td>\n    </tr>\n    <tr>\n      <th>4</th>\n      <td>Baker Mayfield</td>\n      <td>1.383333</td>\n      <td>8.3</td>\n      <td>2.883333</td>\n      <td>17.3</td>\n      <td>0.316667</td>\n      <td>1.9</td>\n      <td>-1.416667</td>\n      <td>-8.5</td>\n      <td>0.300000</td>\n      <td>...</td>\n      <td>0.0</td>\n      <td>0.0</td>\n      <td>-0.083333</td>\n      <td>-0.5</td>\n      <td>55.800000</td>\n      <td>334.8</td>\n      <td>61.066667</td>\n      <td>366.4</td>\n      <td>15.666667</td>\n      <td>94.0</td>\n    </tr>\n    <tr>\n      <th>5</th>\n      <td>Bo Nix</td>\n      <td>-1.150000</td>\n      <td>-6.9</td>\n      <td>0.700000</td>\n      <td>4.2</td>\n      <td>0.100000</td>\n      <td>0.6</td>\n      <td>-0.566667</td>\n      <td>-3.4</td>\n      <td>0.050000</td>\n      <td>...</td>\n      <td>0.0</td>\n      <td>0.0</td>\n      <td>0.000000</td>\n      <td>0.0</td>\n      <td>50.366667</td>\n      <td>302.2</td>\n      <td>43.833333</td>\n      <td>263.0</td>\n      <td>23.333333</td>\n      <td>140.0</td>\n    </tr>\n    <tr>\n      <th>6</th>\n      <td>Brock Purdy</td>\n      <td>2.400000</td>\n      <td>14.4</td>\n      <td>4.716667</td>\n      <td>28.3</td>\n      <td>0.033333</td>\n      <td>0.2</td>\n      <td>-0.733333</td>\n      <td>-4.4</td>\n      <td>0.050000</td>\n      <td>...</td>\n      <td>0.0</td>\n      <td>0.0</td>\n      <td>-0.433333</td>\n      <td>-2.6</td>\n      <td>55.633333</td>\n      <td>333.8</td>\n      <td>67.883333</td>\n      <td>407.3</td>\n      <td>13.500000</td>\n      <td>81.0</td>\n    </tr>\n    <tr>\n      <th>7</th>\n      <td>Bryce Young</td>\n      <td>-6.400000</td>\n      <td>-12.8</td>\n      <td>-1.750000</td>\n      <td>-3.5</td>\n      <td>0.000000</td>\n      <td>0.0</td>\n      <td>-0.950000</td>\n      <td>-1.9</td>\n      <td>-0.100000</td>\n      <td>...</td>\n      <td>0.0</td>\n      <td>0.0</td>\n      <td>0.000000</td>\n      <td>0.0</td>\n      <td>47.700000</td>\n      <td>95.4</td>\n      <td>10.450000</td>\n      <td>20.9</td>\n      <td>37.000000</td>\n      <td>74.0</td>\n    </tr>\n    <tr>\n      <th>8</th>\n      <td>C.J. Stroud</td>\n      <td>2.016667</td>\n      <td>12.1</td>\n      <td>5.416667</td>\n      <td>32.5</td>\n      <td>0.000000</td>\n      <td>0.0</td>\n      <td>-1.066667</td>\n      <td>-6.4</td>\n      <td>0.066667</td>\n      <td>...</td>\n      <td>0.0</td>\n      <td>0.0</td>\n      <td>-0.150000</td>\n      <td>-0.9</td>\n      <td>55.333333</td>\n      <td>332.0</td>\n      <td>64.516667</td>\n      <td>387.1</td>\n      <td>13.666667</td>\n      <td>82.0</td>\n    </tr>\n    <tr>\n      <th>9</th>\n      <td>Caleb Williams</td>\n      <td>0.350000</td>\n      <td>2.1</td>\n      <td>2.616667</td>\n      <td>15.7</td>\n      <td>-0.016667</td>\n      <td>-0.1</td>\n      <td>-1.450000</td>\n      <td>-8.7</td>\n      <td>0.416667</td>\n      <td>...</td>\n      <td>0.0</td>\n      <td>0.0</td>\n      <td>-0.250000</td>\n      <td>-1.5</td>\n      <td>60.783333</td>\n      <td>364.7</td>\n      <td>48.816667</td>\n      <td>292.9</td>\n      <td>20.833333</td>\n      <td>125.0</td>\n    </tr>\n    <tr>\n      <th>10</th>\n      <td>Dak Prescott</td>\n      <td>-0.783333</td>\n      <td>-4.7</td>\n      <td>2.733333</td>\n      <td>16.4</td>\n      <td>0.100000</td>\n      <td>0.6</td>\n      <td>-0.883333</td>\n      <td>-5.3</td>\n      <td>0.050000</td>\n      <td>...</td>\n      <td>0.0</td>\n      <td>0.0</td>\n      <td>-0.316667</td>\n      <td>-1.9</td>\n      <td>52.866667</td>\n      <td>317.2</td>\n      <td>47.700000</td>\n      <td>286.2</td>\n      <td>19.833333</td>\n      <td>119.0</td>\n    </tr>\n    <tr>\n      <th>11</th>\n      <td>Daniel Jones</td>\n      <td>-0.116667</td>\n      <td>-0.7</td>\n      <td>3.666667</td>\n      <td>22.0</td>\n      <td>0.266667</td>\n      <td>1.6</td>\n      <td>-0.733333</td>\n      <td>-4.4</td>\n      <td>0.233333</td>\n      <td>...</td>\n      <td>0.0</td>\n      <td>0.0</td>\n      <td>-0.150000</td>\n      <td>-0.9</td>\n      <td>54.716667</td>\n      <td>328.3</td>\n      <td>52.950000</td>\n      <td>317.7</td>\n      <td>19.166667</td>\n      <td>115.0</td>\n    </tr>\n    <tr>\n      <th>12</th>\n      <td>Derek Carr</td>\n      <td>1.025000</td>\n      <td>4.1</td>\n      <td>3.175000</td>\n      <td>12.7</td>\n      <td>-0.025000</td>\n      <td>-0.1</td>\n      <td>-0.425000</td>\n      <td>-1.7</td>\n      <td>0.150000</td>\n      <td>...</td>\n      <td>0.0</td>\n      <td>0.0</td>\n      <td>0.000000</td>\n      <td>0.0</td>\n      <td>60.875000</td>\n      <td>243.5</td>\n      <td>55.500000</td>\n      <td>222.0</td>\n      <td>19.250000</td>\n      <td>77.0</td>\n    </tr>\n    <tr>\n      <th>13</th>\n      <td>Deshaun Watson</td>\n      <td>-4.283333</td>\n      <td>-25.7</td>\n      <td>-0.050000</td>\n      <td>-0.3</td>\n      <td>0.000000</td>\n      <td>0.0</td>\n      <td>-2.116667</td>\n      <td>-12.7</td>\n      <td>-0.033333</td>\n      <td>...</td>\n      <td>0.0</td>\n      <td>0.0</td>\n      <td>-0.466667</td>\n      <td>-2.8</td>\n      <td>58.316667</td>\n      <td>349.9</td>\n      <td>23.350000</td>\n      <td>140.1</td>\n      <td>30.500000</td>\n      <td>183.0</td>\n    </tr>\n    <tr>\n      <th>14</th>\n      <td>Drake Maye</td>\n      <td>-2.900000</td>\n      <td>-2.9</td>\n      <td>-0.300000</td>\n      <td>-0.3</td>\n      <td>0.000000</td>\n      <td>0.0</td>\n      <td>-1.500000</td>\n      <td>-1.5</td>\n      <td>-0.300000</td>\n      <td>...</td>\n      <td>0.0</td>\n      <td>0.0</td>\n      <td>-0.700000</td>\n      <td>-0.7</td>\n      <td>48.800000</td>\n      <td>48.8</td>\n      <td>31.300000</td>\n      <td>31.3</td>\n      <td>25.000000</td>\n      <td>25.0</td>\n    </tr>\n    <tr>\n      <th>15</th>\n      <td>Gardner Minshew</td>\n      <td>-1.060000</td>\n      <td>-5.3</td>\n      <td>1.240000</td>\n      <td>6.2</td>\n      <td>-0.160000</td>\n      <td>-0.8</td>\n      <td>-1.300000</td>\n      <td>-6.5</td>\n      <td>0.400000</td>\n      <td>...</td>\n      <td>0.0</td>\n      <td>0.0</td>\n      <td>-0.240000</td>\n      <td>-1.2</td>\n      <td>55.340000</td>\n      <td>276.7</td>\n      <td>39.800000</td>\n      <td>199.0</td>\n      <td>24.400000</td>\n      <td>122.0</td>\n    </tr>\n    <tr>\n      <th>16</th>\n      <td>Geno Smith</td>\n      <td>1.816667</td>\n      <td>10.9</td>\n      <td>4.533333</td>\n      <td>27.2</td>\n      <td>0.133333</td>\n      <td>0.8</td>\n      <td>-1.216667</td>\n      <td>-7.3</td>\n      <td>0.216667</td>\n      <td>...</td>\n      <td>0.0</td>\n      <td>0.0</td>\n      <td>0.000000</td>\n      <td>0.0</td>\n      <td>54.150000</td>\n      <td>324.9</td>\n      <td>60.900000</td>\n      <td>365.4</td>\n      <td>15.333333</td>\n      <td>92.0</td>\n    </tr>\n    <tr>\n      <th>17</th>\n      <td>Jacoby Brissett</td>\n      <td>-1.380000</td>\n      <td>-6.9</td>\n      <td>0.900000</td>\n      <td>4.5</td>\n      <td>0.020000</td>\n      <td>0.1</td>\n      <td>-1.380000</td>\n      <td>-6.9</td>\n      <td>0.160000</td>\n      <td>...</td>\n      <td>0.0</td>\n      <td>0.0</td>\n      <td>-0.100000</td>\n      <td>-0.5</td>\n      <td>52.960000</td>\n      <td>264.8</td>\n      <td>39.640000</td>\n      <td>198.2</td>\n      <td>25.600000</td>\n      <td>128.0</td>\n    </tr>\n    <tr>\n      <th>18</th>\n      <td>Jalen Hurts</td>\n      <td>1.480000</td>\n      <td>7.4</td>\n      <td>3.580000</td>\n      <td>17.9</td>\n      <td>0.380000</td>\n      <td>1.9</td>\n      <td>-1.040000</td>\n      <td>-5.2</td>\n      <td>0.160000</td>\n      <td>...</td>\n      <td>0.0</td>\n      <td>0.0</td>\n      <td>-0.700000</td>\n      <td>-3.5</td>\n      <td>54.040000</td>\n      <td>270.2</td>\n      <td>62.060000</td>\n      <td>310.3</td>\n      <td>15.400000</td>\n      <td>77.0</td>\n    </tr>\n    <tr>\n      <th>19</th>\n      <td>Jared Goff</td>\n      <td>0.600000</td>\n      <td>3.0</td>\n      <td>3.140000</td>\n      <td>15.7</td>\n      <td>0.040000</td>\n      <td>0.2</td>\n      <td>-0.680000</td>\n      <td>-3.4</td>\n      <td>-0.100000</td>\n      <td>...</td>\n      <td>0.0</td>\n      <td>0.0</td>\n      <td>0.000000</td>\n      <td>0.0</td>\n      <td>59.020000</td>\n      <td>295.1</td>\n      <td>54.160000</td>\n      <td>270.8</td>\n      <td>19.600000</td>\n      <td>98.0</td>\n    </tr>\n    <tr>\n      <th>20</th>\n      <td>Jayden Daniels</td>\n      <td>3.466667</td>\n      <td>20.8</td>\n      <td>4.316667</td>\n      <td>25.9</td>\n      <td>0.333333</td>\n      <td>2.0</td>\n      <td>-1.033333</td>\n      <td>-6.2</td>\n      <td>0.283333</td>\n      <td>...</td>\n      <td>0.0</td>\n      <td>0.0</td>\n      <td>-0.700000</td>\n      <td>-4.2</td>\n      <td>59.016667</td>\n      <td>354.1</td>\n      <td>70.000000</td>\n      <td>420.0</td>\n      <td>12.500000</td>\n      <td>75.0</td>\n    </tr>\n    <tr>\n      <th>21</th>\n      <td>Joe Burrow</td>\n      <td>3.916667</td>\n      <td>23.5</td>\n      <td>6.066667</td>\n      <td>36.4</td>\n      <td>-0.016667</td>\n      <td>-0.1</td>\n      <td>-1.050000</td>\n      <td>-6.3</td>\n      <td>0.116667</td>\n      <td>...</td>\n      <td>0.0</td>\n      <td>0.0</td>\n      <td>-0.100000</td>\n      <td>-0.6</td>\n      <td>60.683333</td>\n      <td>364.1</td>\n      <td>73.650000</td>\n      <td>441.9</td>\n      <td>10.166667</td>\n      <td>61.0</td>\n    </tr>\n    <tr>\n      <th>22</th>\n      <td>Joe Flacco</td>\n      <td>3.100000</td>\n      <td>9.3</td>\n      <td>5.800000</td>\n      <td>17.4</td>\n      <td>0.033333</td>\n      <td>0.1</td>\n      <td>-0.500000</td>\n      <td>-1.5</td>\n      <td>0.533333</td>\n      <td>...</td>\n      <td>0.0</td>\n      <td>0.0</td>\n      <td>-0.133333</td>\n      <td>-0.4</td>\n      <td>57.166667</td>\n      <td>171.5</td>\n      <td>70.833333</td>\n      <td>212.5</td>\n      <td>12.000000</td>\n      <td>36.0</td>\n    </tr>\n    <tr>\n      <th>23</th>\n      <td>Jordan Love</td>\n      <td>1.050000</td>\n      <td>4.2</td>\n      <td>2.650000</td>\n      <td>10.6</td>\n      <td>0.000000</td>\n      <td>0.0</td>\n      <td>-0.425000</td>\n      <td>-1.7</td>\n      <td>0.425000</td>\n      <td>...</td>\n      <td>0.0</td>\n      <td>0.0</td>\n      <td>-0.100000</td>\n      <td>-0.4</td>\n      <td>54.925000</td>\n      <td>219.7</td>\n      <td>57.450000</td>\n      <td>229.8</td>\n      <td>18.500000</td>\n      <td>74.0</td>\n    </tr>\n    <tr>\n      <th>24</th>\n      <td>Josh Allen</td>\n      <td>3.583333</td>\n      <td>21.5</td>\n      <td>4.150000</td>\n      <td>24.9</td>\n      <td>1.083333</td>\n      <td>6.5</td>\n      <td>-0.533333</td>\n      <td>-3.2</td>\n      <td>0.050000</td>\n      <td>...</td>\n      <td>0.0</td>\n      <td>0.0</td>\n      <td>-0.366667</td>\n      <td>-2.2</td>\n      <td>56.566667</td>\n      <td>339.4</td>\n      <td>73.750000</td>\n      <td>442.5</td>\n      <td>11.666667</td>\n      <td>70.0</td>\n    </tr>\n    <tr>\n      <th>25</th>\n      <td>Justin Fields</td>\n      <td>0.466667</td>\n      <td>2.8</td>\n      <td>2.350000</td>\n      <td>14.1</td>\n      <td>0.350000</td>\n      <td>2.1</td>\n      <td>-1.166667</td>\n      <td>-7.0</td>\n      <td>0.150000</td>\n      <td>...</td>\n      <td>0.0</td>\n      <td>0.0</td>\n      <td>-0.566667</td>\n      <td>-3.4</td>\n      <td>55.350000</td>\n      <td>332.1</td>\n      <td>53.883333</td>\n      <td>323.3</td>\n      <td>18.333333</td>\n      <td>110.0</td>\n    </tr>\n    <tr>\n      <th>26</th>\n      <td>Justin Herbert</td>\n      <td>0.000000</td>\n      <td>0.0</td>\n      <td>2.500000</td>\n      <td>12.5</td>\n      <td>0.080000</td>\n      <td>0.4</td>\n      <td>-0.680000</td>\n      <td>-3.4</td>\n      <td>-0.020000</td>\n      <td>...</td>\n      <td>0.0</td>\n      <td>0.0</td>\n      <td>-0.540000</td>\n      <td>-2.7</td>\n      <td>53.660000</td>\n      <td>268.3</td>\n      <td>52.800000</td>\n      <td>264.0</td>\n      <td>18.800000</td>\n      <td>94.0</td>\n    </tr>\n    <tr>\n      <th>27</th>\n      <td>Kirk Cousins</td>\n      <td>1.416667</td>\n      <td>8.5</td>\n      <td>5.200000</td>\n      <td>31.2</td>\n      <td>0.000000</td>\n      <td>0.0</td>\n      <td>-0.733333</td>\n      <td>-4.4</td>\n      <td>0.266667</td>\n      <td>...</td>\n      <td>0.0</td>\n      <td>0.0</td>\n      <td>-0.733333</td>\n      <td>-4.4</td>\n      <td>54.166667</td>\n      <td>325.0</td>\n      <td>56.933333</td>\n      <td>341.6</td>\n      <td>17.333333</td>\n      <td>104.0</td>\n    </tr>\n    <tr>\n      <th>28</th>\n      <td>Kyler Murray</td>\n      <td>1.850000</td>\n      <td>11.1</td>\n      <td>2.866667</td>\n      <td>17.2</td>\n      <td>0.483333</td>\n      <td>2.9</td>\n      <td>-0.733333</td>\n      <td>-4.4</td>\n      <td>0.133333</td>\n      <td>...</td>\n      <td>0.0</td>\n      <td>0.0</td>\n      <td>-0.583333</td>\n      <td>-3.5</td>\n      <td>55.216667</td>\n      <td>331.3</td>\n      <td>62.116667</td>\n      <td>372.7</td>\n      <td>17.000000</td>\n      <td>102.0</td>\n    </tr>\n    <tr>\n      <th>29</th>\n      <td>Lamar Jackson</td>\n      <td>2.816667</td>\n      <td>16.9</td>\n      <td>5.016667</td>\n      <td>30.1</td>\n      <td>1.283333</td>\n      <td>7.7</td>\n      <td>-0.483333</td>\n      <td>-2.9</td>\n      <td>0.066667</td>\n      <td>...</td>\n      <td>0.0</td>\n      <td>0.0</td>\n      <td>-0.650000</td>\n      <td>-3.9</td>\n      <td>57.133333</td>\n      <td>342.8</td>\n      <td>67.950000</td>\n      <td>407.7</td>\n      <td>14.666667</td>\n      <td>88.0</td>\n    </tr>\n    <tr>\n      <th>30</th>\n      <td>Malik Willis</td>\n      <td>3.950000</td>\n      <td>7.9</td>\n      <td>2.150000</td>\n      <td>4.3</td>\n      <td>1.350000</td>\n      <td>2.7</td>\n      <td>-0.500000</td>\n      <td>-1.0</td>\n      <td>0.000000</td>\n      <td>...</td>\n      <td>0.0</td>\n      <td>0.0</td>\n      <td>0.000000</td>\n      <td>0.0</td>\n      <td>57.050000</td>\n      <td>114.1</td>\n      <td>89.200000</td>\n      <td>178.4</td>\n      <td>6.500000</td>\n      <td>13.0</td>\n    </tr>\n    <tr>\n      <th>31</th>\n      <td>Matthew Stafford</td>\n      <td>-0.060000</td>\n      <td>-0.3</td>\n      <td>2.940000</td>\n      <td>14.7</td>\n      <td>0.000000</td>\n      <td>0.0</td>\n      <td>-1.300000</td>\n      <td>-6.5</td>\n      <td>0.600000</td>\n      <td>...</td>\n      <td>0.0</td>\n      <td>0.0</td>\n      <td>-0.220000</td>\n      <td>-1.1</td>\n      <td>52.080000</td>\n      <td>260.4</td>\n      <td>52.900000</td>\n      <td>264.5</td>\n      <td>20.800000</td>\n      <td>104.0</td>\n    </tr>\n    <tr>\n      <th>32</th>\n      <td>Patrick Mahomes</td>\n      <td>1.180000</td>\n      <td>5.9</td>\n      <td>2.740000</td>\n      <td>13.7</td>\n      <td>0.000000</td>\n      <td>0.0</td>\n      <td>-0.680000</td>\n      <td>-3.4</td>\n      <td>0.200000</td>\n      <td>...</td>\n      <td>0.0</td>\n      <td>0.0</td>\n      <td>0.000000</td>\n      <td>0.0</td>\n      <td>56.720000</td>\n      <td>283.6</td>\n      <td>57.040000</td>\n      <td>285.2</td>\n      <td>17.800000</td>\n      <td>89.0</td>\n    </tr>\n    <tr>\n      <th>33</th>\n      <td>Sam Darnold</td>\n      <td>0.500000</td>\n      <td>2.5</td>\n      <td>2.380000</td>\n      <td>11.9</td>\n      <td>-0.100000</td>\n      <td>-0.5</td>\n      <td>-0.980000</td>\n      <td>-4.9</td>\n      <td>0.440000</td>\n      <td>...</td>\n      <td>0.0</td>\n      <td>0.0</td>\n      <td>-0.760000</td>\n      <td>-3.8</td>\n      <td>49.980000</td>\n      <td>249.9</td>\n      <td>62.960000</td>\n      <td>314.8</td>\n      <td>15.400000</td>\n      <td>77.0</td>\n    </tr>\n    <tr>\n      <th>34</th>\n      <td>Skylar Thompson</td>\n      <td>-5.500000</td>\n      <td>-5.5</td>\n      <td>-3.000000</td>\n      <td>-3.0</td>\n      <td>0.000000</td>\n      <td>0.0</td>\n      <td>-1.600000</td>\n      <td>-1.6</td>\n      <td>-0.100000</td>\n      <td>...</td>\n      <td>0.0</td>\n      <td>0.0</td>\n      <td>-1.300000</td>\n      <td>-1.3</td>\n      <td>52.700000</td>\n      <td>52.7</td>\n      <td>5.300000</td>\n      <td>5.3</td>\n      <td>39.000000</td>\n      <td>39.0</td>\n    </tr>\n    <tr>\n      <th>35</th>\n      <td>Spencer Rattler</td>\n      <td>-2.800000</td>\n      <td>-2.8</td>\n      <td>-0.200000</td>\n      <td>-0.2</td>\n      <td>0.000000</td>\n      <td>0.0</td>\n      <td>-1.800000</td>\n      <td>-1.8</td>\n      <td>0.300000</td>\n      <td>...</td>\n      <td>0.0</td>\n      <td>0.0</td>\n      <td>0.000000</td>\n      <td>0.0</td>\n      <td>55.600000</td>\n      <td>55.6</td>\n      <td>27.900000</td>\n      <td>27.9</td>\n      <td>27.000000</td>\n      <td>27.0</td>\n    </tr>\n    <tr>\n      <th>36</th>\n      <td>Trevor Lawrence</td>\n      <td>-0.033333</td>\n      <td>-0.2</td>\n      <td>2.433333</td>\n      <td>14.6</td>\n      <td>0.033333</td>\n      <td>0.2</td>\n      <td>-1.000000</td>\n      <td>-6.0</td>\n      <td>0.216667</td>\n      <td>...</td>\n      <td>0.0</td>\n      <td>0.0</td>\n      <td>-0.100000</td>\n      <td>-0.6</td>\n      <td>51.933333</td>\n      <td>311.6</td>\n      <td>55.133333</td>\n      <td>330.8</td>\n      <td>19.166667</td>\n      <td>115.0</td>\n    </tr>\n    <tr>\n      <th>37</th>\n      <td>Tua Tagovailoa</td>\n      <td>-1.350000</td>\n      <td>-2.7</td>\n      <td>0.350000</td>\n      <td>0.7</td>\n      <td>0.000000</td>\n      <td>0.0</td>\n      <td>-1.100000</td>\n      <td>-2.2</td>\n      <td>0.000000</td>\n      <td>...</td>\n      <td>0.0</td>\n      <td>0.0</td>\n      <td>0.000000</td>\n      <td>0.0</td>\n      <td>62.850000</td>\n      <td>125.7</td>\n      <td>25.400000</td>\n      <td>50.8</td>\n      <td>31.500000</td>\n      <td>63.0</td>\n    </tr>\n    <tr>\n      <th>38</th>\n      <td>Tyler Huntley</td>\n      <td>-2.850000</td>\n      <td>-5.7</td>\n      <td>0.200000</td>\n      <td>0.4</td>\n      <td>0.600000</td>\n      <td>1.2</td>\n      <td>-1.250000</td>\n      <td>-2.5</td>\n      <td>0.350000</td>\n      <td>...</td>\n      <td>0.0</td>\n      <td>0.0</td>\n      <td>-0.750000</td>\n      <td>-1.5</td>\n      <td>59.600000</td>\n      <td>119.2</td>\n      <td>22.850000</td>\n      <td>45.7</td>\n      <td>31.500000</td>\n      <td>63.0</td>\n    </tr>\n    <tr>\n      <th>39</th>\n      <td>Will Levis</td>\n      <td>-3.025000</td>\n      <td>-12.1</td>\n      <td>-0.025000</td>\n      <td>-0.1</td>\n      <td>0.175000</td>\n      <td>0.7</td>\n      <td>-1.650000</td>\n      <td>-6.6</td>\n      <td>0.125000</td>\n      <td>...</td>\n      <td>0.0</td>\n      <td>0.0</td>\n      <td>-0.450000</td>\n      <td>-1.8</td>\n      <td>49.075000</td>\n      <td>196.3</td>\n      <td>31.800000</td>\n      <td>127.2</td>\n      <td>27.500000</td>\n      <td>110.0</td>\n    </tr>\n  </tbody>\n</table>\n<p>40 rows × 39 columns</p>\n</div>"
     },
     "execution_count": 6,
     "metadata": {},
     "output_type": "execute_result"
    }
   ],
   "source": [
    "epa"
   ],
   "metadata": {
    "collapsed": false,
    "ExecuteTime": {
     "end_time": "2024-10-16T04:33:08.747621Z",
     "start_time": "2024-10-16T04:33:08.740960Z"
    }
   },
   "id": "3a43c0e445e5b92"
  },
  {
   "cell_type": "code",
   "execution_count": 14,
   "outputs": [
    {
     "data": {
      "application/vnd.plotly.v1+json": {
       "data": [
        {
         "alignmentgroup": "True",
         "hovertemplate": "name_=%{x}<br>scramble_epa_sum=%{marker.color}<extra></extra>",
         "legendgroup": "",
         "marker": {
          "color": [
           11.700000000000001,
           8.6,
           7.5,
           7.199999999999999,
           6.4,
           6.4,
           6.3,
           6.0,
           5.9,
           5.3,
           5.0,
           4.7,
           4.5,
           3.5,
           3.3,
           3.1,
           3.0,
           2.9000000000000004,
           2.3,
           2.0,
           1.9,
           1.8,
           1.4,
           1.3,
           1.1,
           0.9000000000000001,
           0.8,
           0.7999999999999999,
           0.30000000000000016,
           0.3,
           0.2,
           0.0,
           0.0,
           0.0,
           0.0,
           0.0,
           0.0,
           -0.09999999999999998,
           -0.19999999999999996,
           -0.7
          ],
          "coloraxis": "coloraxis",
          "pattern": {
           "shape": ""
          }
         },
         "name": "",
         "offsetgroup": "",
         "orientation": "v",
         "showlegend": false,
         "textposition": "auto",
         "x": [
          "Jayden Daniels",
          "Justin Fields",
          "Patrick Mahomes",
          "Bo Nix",
          "Anthony Richardson",
          "Jalen Hurts",
          "Kyler Murray",
          "Joe Burrow",
          "Geno Smith",
          "Josh Allen",
          "Baker Mayfield",
          "Caleb Williams",
          "Brock Purdy",
          "Malik Willis",
          "Sam Darnold",
          "Jordan Love",
          "Tua Tagovailoa",
          "Trevor Lawrence",
          "Jacoby Brissett",
          "Lamar Jackson",
          "Deshaun Watson",
          "Will Levis",
          "Gardner Minshew",
          "Spencer Rattler",
          "Drake Maye",
          "Jared Goff",
          "Aaron Rodgers",
          "Joe Flacco",
          "C.J. Stroud",
          "Dak Prescott",
          "Bryce Young",
          "Tyler Huntley",
          "Aidan O'Connell",
          "Derek Carr",
          "Matthew Stafford",
          "Andy Dalton",
          "Skylar Thompson",
          "Daniel Jones",
          "Justin Herbert",
          "Kirk Cousins"
         ],
         "xaxis": "x",
         "y": [
          11.700000000000001,
          8.6,
          7.5,
          7.199999999999999,
          6.4,
          6.4,
          6.3,
          6.0,
          5.9,
          5.3,
          5.0,
          4.7,
          4.5,
          3.5,
          3.3,
          3.1,
          3.0,
          2.9000000000000004,
          2.3,
          2.0,
          1.9,
          1.8,
          1.4,
          1.3,
          1.1,
          0.9000000000000001,
          0.8,
          0.7999999999999999,
          0.30000000000000016,
          0.3,
          0.2,
          0.0,
          0.0,
          0.0,
          0.0,
          0.0,
          0.0,
          -0.09999999999999998,
          -0.19999999999999996,
          -0.7
         ],
         "yaxis": "y",
         "type": "bar"
        }
       ],
       "layout": {
        "template": {
         "data": {
          "histogram2dcontour": [
           {
            "type": "histogram2dcontour",
            "colorbar": {
             "outlinewidth": 0,
             "ticks": ""
            },
            "colorscale": [
             [
              0.0,
              "#0d0887"
             ],
             [
              0.1111111111111111,
              "#46039f"
             ],
             [
              0.2222222222222222,
              "#7201a8"
             ],
             [
              0.3333333333333333,
              "#9c179e"
             ],
             [
              0.4444444444444444,
              "#bd3786"
             ],
             [
              0.5555555555555556,
              "#d8576b"
             ],
             [
              0.6666666666666666,
              "#ed7953"
             ],
             [
              0.7777777777777778,
              "#fb9f3a"
             ],
             [
              0.8888888888888888,
              "#fdca26"
             ],
             [
              1.0,
              "#f0f921"
             ]
            ]
           }
          ],
          "choropleth": [
           {
            "type": "choropleth",
            "colorbar": {
             "outlinewidth": 0,
             "ticks": ""
            }
           }
          ],
          "histogram2d": [
           {
            "type": "histogram2d",
            "colorbar": {
             "outlinewidth": 0,
             "ticks": ""
            },
            "colorscale": [
             [
              0.0,
              "#0d0887"
             ],
             [
              0.1111111111111111,
              "#46039f"
             ],
             [
              0.2222222222222222,
              "#7201a8"
             ],
             [
              0.3333333333333333,
              "#9c179e"
             ],
             [
              0.4444444444444444,
              "#bd3786"
             ],
             [
              0.5555555555555556,
              "#d8576b"
             ],
             [
              0.6666666666666666,
              "#ed7953"
             ],
             [
              0.7777777777777778,
              "#fb9f3a"
             ],
             [
              0.8888888888888888,
              "#fdca26"
             ],
             [
              1.0,
              "#f0f921"
             ]
            ]
           }
          ],
          "heatmap": [
           {
            "type": "heatmap",
            "colorbar": {
             "outlinewidth": 0,
             "ticks": ""
            },
            "colorscale": [
             [
              0.0,
              "#0d0887"
             ],
             [
              0.1111111111111111,
              "#46039f"
             ],
             [
              0.2222222222222222,
              "#7201a8"
             ],
             [
              0.3333333333333333,
              "#9c179e"
             ],
             [
              0.4444444444444444,
              "#bd3786"
             ],
             [
              0.5555555555555556,
              "#d8576b"
             ],
             [
              0.6666666666666666,
              "#ed7953"
             ],
             [
              0.7777777777777778,
              "#fb9f3a"
             ],
             [
              0.8888888888888888,
              "#fdca26"
             ],
             [
              1.0,
              "#f0f921"
             ]
            ]
           }
          ],
          "heatmapgl": [
           {
            "type": "heatmapgl",
            "colorbar": {
             "outlinewidth": 0,
             "ticks": ""
            },
            "colorscale": [
             [
              0.0,
              "#0d0887"
             ],
             [
              0.1111111111111111,
              "#46039f"
             ],
             [
              0.2222222222222222,
              "#7201a8"
             ],
             [
              0.3333333333333333,
              "#9c179e"
             ],
             [
              0.4444444444444444,
              "#bd3786"
             ],
             [
              0.5555555555555556,
              "#d8576b"
             ],
             [
              0.6666666666666666,
              "#ed7953"
             ],
             [
              0.7777777777777778,
              "#fb9f3a"
             ],
             [
              0.8888888888888888,
              "#fdca26"
             ],
             [
              1.0,
              "#f0f921"
             ]
            ]
           }
          ],
          "contourcarpet": [
           {
            "type": "contourcarpet",
            "colorbar": {
             "outlinewidth": 0,
             "ticks": ""
            }
           }
          ],
          "contour": [
           {
            "type": "contour",
            "colorbar": {
             "outlinewidth": 0,
             "ticks": ""
            },
            "colorscale": [
             [
              0.0,
              "#0d0887"
             ],
             [
              0.1111111111111111,
              "#46039f"
             ],
             [
              0.2222222222222222,
              "#7201a8"
             ],
             [
              0.3333333333333333,
              "#9c179e"
             ],
             [
              0.4444444444444444,
              "#bd3786"
             ],
             [
              0.5555555555555556,
              "#d8576b"
             ],
             [
              0.6666666666666666,
              "#ed7953"
             ],
             [
              0.7777777777777778,
              "#fb9f3a"
             ],
             [
              0.8888888888888888,
              "#fdca26"
             ],
             [
              1.0,
              "#f0f921"
             ]
            ]
           }
          ],
          "surface": [
           {
            "type": "surface",
            "colorbar": {
             "outlinewidth": 0,
             "ticks": ""
            },
            "colorscale": [
             [
              0.0,
              "#0d0887"
             ],
             [
              0.1111111111111111,
              "#46039f"
             ],
             [
              0.2222222222222222,
              "#7201a8"
             ],
             [
              0.3333333333333333,
              "#9c179e"
             ],
             [
              0.4444444444444444,
              "#bd3786"
             ],
             [
              0.5555555555555556,
              "#d8576b"
             ],
             [
              0.6666666666666666,
              "#ed7953"
             ],
             [
              0.7777777777777778,
              "#fb9f3a"
             ],
             [
              0.8888888888888888,
              "#fdca26"
             ],
             [
              1.0,
              "#f0f921"
             ]
            ]
           }
          ],
          "mesh3d": [
           {
            "type": "mesh3d",
            "colorbar": {
             "outlinewidth": 0,
             "ticks": ""
            }
           }
          ],
          "scatter": [
           {
            "marker": {
             "line": {
              "color": "#283442"
             }
            },
            "type": "scatter"
           }
          ],
          "parcoords": [
           {
            "type": "parcoords",
            "line": {
             "colorbar": {
              "outlinewidth": 0,
              "ticks": ""
             }
            }
           }
          ],
          "scatterpolargl": [
           {
            "type": "scatterpolargl",
            "marker": {
             "colorbar": {
              "outlinewidth": 0,
              "ticks": ""
             }
            }
           }
          ],
          "bar": [
           {
            "error_x": {
             "color": "#f2f5fa"
            },
            "error_y": {
             "color": "#f2f5fa"
            },
            "marker": {
             "line": {
              "color": "rgb(17,17,17)",
              "width": 0.5
             },
             "pattern": {
              "fillmode": "overlay",
              "size": 10,
              "solidity": 0.2
             }
            },
            "type": "bar"
           }
          ],
          "scattergeo": [
           {
            "type": "scattergeo",
            "marker": {
             "colorbar": {
              "outlinewidth": 0,
              "ticks": ""
             }
            }
           }
          ],
          "scatterpolar": [
           {
            "type": "scatterpolar",
            "marker": {
             "colorbar": {
              "outlinewidth": 0,
              "ticks": ""
             }
            }
           }
          ],
          "histogram": [
           {
            "marker": {
             "pattern": {
              "fillmode": "overlay",
              "size": 10,
              "solidity": 0.2
             }
            },
            "type": "histogram"
           }
          ],
          "scattergl": [
           {
            "marker": {
             "line": {
              "color": "#283442"
             }
            },
            "type": "scattergl"
           }
          ],
          "scatter3d": [
           {
            "type": "scatter3d",
            "line": {
             "colorbar": {
              "outlinewidth": 0,
              "ticks": ""
             }
            },
            "marker": {
             "colorbar": {
              "outlinewidth": 0,
              "ticks": ""
             }
            }
           }
          ],
          "scattermapbox": [
           {
            "type": "scattermapbox",
            "marker": {
             "colorbar": {
              "outlinewidth": 0,
              "ticks": ""
             }
            }
           }
          ],
          "scatterternary": [
           {
            "type": "scatterternary",
            "marker": {
             "colorbar": {
              "outlinewidth": 0,
              "ticks": ""
             }
            }
           }
          ],
          "scattercarpet": [
           {
            "type": "scattercarpet",
            "marker": {
             "colorbar": {
              "outlinewidth": 0,
              "ticks": ""
             }
            }
           }
          ],
          "carpet": [
           {
            "aaxis": {
             "endlinecolor": "#A2B1C6",
             "gridcolor": "#506784",
             "linecolor": "#506784",
             "minorgridcolor": "#506784",
             "startlinecolor": "#A2B1C6"
            },
            "baxis": {
             "endlinecolor": "#A2B1C6",
             "gridcolor": "#506784",
             "linecolor": "#506784",
             "minorgridcolor": "#506784",
             "startlinecolor": "#A2B1C6"
            },
            "type": "carpet"
           }
          ],
          "table": [
           {
            "cells": {
             "fill": {
              "color": "#506784"
             },
             "line": {
              "color": "rgb(17,17,17)"
             }
            },
            "header": {
             "fill": {
              "color": "#2a3f5f"
             },
             "line": {
              "color": "rgb(17,17,17)"
             }
            },
            "type": "table"
           }
          ],
          "barpolar": [
           {
            "marker": {
             "line": {
              "color": "rgb(17,17,17)",
              "width": 0.5
             },
             "pattern": {
              "fillmode": "overlay",
              "size": 10,
              "solidity": 0.2
             }
            },
            "type": "barpolar"
           }
          ],
          "pie": [
           {
            "automargin": true,
            "type": "pie"
           }
          ]
         },
         "layout": {
          "autotypenumbers": "strict",
          "colorway": [
           "#636efa",
           "#EF553B",
           "#00cc96",
           "#ab63fa",
           "#FFA15A",
           "#19d3f3",
           "#FF6692",
           "#B6E880",
           "#FF97FF",
           "#FECB52"
          ],
          "font": {
           "color": "#f2f5fa"
          },
          "hovermode": "closest",
          "hoverlabel": {
           "align": "left"
          },
          "paper_bgcolor": "rgb(17,17,17)",
          "plot_bgcolor": "rgb(17,17,17)",
          "polar": {
           "bgcolor": "rgb(17,17,17)",
           "angularaxis": {
            "gridcolor": "#506784",
            "linecolor": "#506784",
            "ticks": ""
           },
           "radialaxis": {
            "gridcolor": "#506784",
            "linecolor": "#506784",
            "ticks": ""
           }
          },
          "ternary": {
           "bgcolor": "rgb(17,17,17)",
           "aaxis": {
            "gridcolor": "#506784",
            "linecolor": "#506784",
            "ticks": ""
           },
           "baxis": {
            "gridcolor": "#506784",
            "linecolor": "#506784",
            "ticks": ""
           },
           "caxis": {
            "gridcolor": "#506784",
            "linecolor": "#506784",
            "ticks": ""
           }
          },
          "coloraxis": {
           "colorbar": {
            "outlinewidth": 0,
            "ticks": ""
           }
          },
          "colorscale": {
           "sequential": [
            [
             0.0,
             "#0d0887"
            ],
            [
             0.1111111111111111,
             "#46039f"
            ],
            [
             0.2222222222222222,
             "#7201a8"
            ],
            [
             0.3333333333333333,
             "#9c179e"
            ],
            [
             0.4444444444444444,
             "#bd3786"
            ],
            [
             0.5555555555555556,
             "#d8576b"
            ],
            [
             0.6666666666666666,
             "#ed7953"
            ],
            [
             0.7777777777777778,
             "#fb9f3a"
            ],
            [
             0.8888888888888888,
             "#fdca26"
            ],
            [
             1.0,
             "#f0f921"
            ]
           ],
           "sequentialminus": [
            [
             0.0,
             "#0d0887"
            ],
            [
             0.1111111111111111,
             "#46039f"
            ],
            [
             0.2222222222222222,
             "#7201a8"
            ],
            [
             0.3333333333333333,
             "#9c179e"
            ],
            [
             0.4444444444444444,
             "#bd3786"
            ],
            [
             0.5555555555555556,
             "#d8576b"
            ],
            [
             0.6666666666666666,
             "#ed7953"
            ],
            [
             0.7777777777777778,
             "#fb9f3a"
            ],
            [
             0.8888888888888888,
             "#fdca26"
            ],
            [
             1.0,
             "#f0f921"
            ]
           ],
           "diverging": [
            [
             0,
             "#8e0152"
            ],
            [
             0.1,
             "#c51b7d"
            ],
            [
             0.2,
             "#de77ae"
            ],
            [
             0.3,
             "#f1b6da"
            ],
            [
             0.4,
             "#fde0ef"
            ],
            [
             0.5,
             "#f7f7f7"
            ],
            [
             0.6,
             "#e6f5d0"
            ],
            [
             0.7,
             "#b8e186"
            ],
            [
             0.8,
             "#7fbc41"
            ],
            [
             0.9,
             "#4d9221"
            ],
            [
             1,
             "#276419"
            ]
           ]
          },
          "xaxis": {
           "gridcolor": "#283442",
           "linecolor": "#506784",
           "ticks": "",
           "title": {
            "standoff": 15
           },
           "zerolinecolor": "#283442",
           "automargin": true,
           "zerolinewidth": 2
          },
          "yaxis": {
           "gridcolor": "#283442",
           "linecolor": "#506784",
           "ticks": "",
           "title": {
            "standoff": 15
           },
           "zerolinecolor": "#283442",
           "automargin": true,
           "zerolinewidth": 2
          },
          "scene": {
           "xaxis": {
            "backgroundcolor": "rgb(17,17,17)",
            "gridcolor": "#506784",
            "linecolor": "#506784",
            "showbackground": true,
            "ticks": "",
            "zerolinecolor": "#C8D4E3",
            "gridwidth": 2
           },
           "yaxis": {
            "backgroundcolor": "rgb(17,17,17)",
            "gridcolor": "#506784",
            "linecolor": "#506784",
            "showbackground": true,
            "ticks": "",
            "zerolinecolor": "#C8D4E3",
            "gridwidth": 2
           },
           "zaxis": {
            "backgroundcolor": "rgb(17,17,17)",
            "gridcolor": "#506784",
            "linecolor": "#506784",
            "showbackground": true,
            "ticks": "",
            "zerolinecolor": "#C8D4E3",
            "gridwidth": 2
           }
          },
          "shapedefaults": {
           "line": {
            "color": "#f2f5fa"
           }
          },
          "annotationdefaults": {
           "arrowcolor": "#f2f5fa",
           "arrowhead": 0,
           "arrowwidth": 1
          },
          "geo": {
           "bgcolor": "rgb(17,17,17)",
           "landcolor": "rgb(17,17,17)",
           "subunitcolor": "#506784",
           "showland": true,
           "showlakes": true,
           "lakecolor": "rgb(17,17,17)"
          },
          "title": {
           "x": 0.05
          },
          "updatemenudefaults": {
           "bgcolor": "#506784",
           "borderwidth": 0
          },
          "sliderdefaults": {
           "bgcolor": "#C8D4E3",
           "borderwidth": 1,
           "bordercolor": "rgb(17,17,17)",
           "tickwidth": 0
          },
          "mapbox": {
           "style": "dark"
          }
         }
        },
        "xaxis": {
         "anchor": "y",
         "domain": [
          0.0,
          1.0
         ],
         "title": {
          "text": "name_"
         }
        },
        "yaxis": {
         "anchor": "x",
         "domain": [
          0.0,
          1.0
         ],
         "title": {
          "text": "scramble_epa_sum"
         }
        },
        "coloraxis": {
         "colorbar": {
          "title": {
           "text": "scramble_epa_sum"
          }
         },
         "colorscale": [
          [
           0.0,
           "#0d0887"
          ],
          [
           0.1111111111111111,
           "#46039f"
          ],
          [
           0.2222222222222222,
           "#7201a8"
          ],
          [
           0.3333333333333333,
           "#9c179e"
          ],
          [
           0.4444444444444444,
           "#bd3786"
          ],
          [
           0.5555555555555556,
           "#d8576b"
          ],
          [
           0.6666666666666666,
           "#ed7953"
          ],
          [
           0.7777777777777778,
           "#fb9f3a"
          ],
          [
           0.8888888888888888,
           "#fdca26"
          ],
          [
           1.0,
           "#f0f921"
          ]
         ]
        },
        "legend": {
         "tracegroupgap": 0
        },
        "margin": {
         "t": 60
        },
        "barmode": "relative",
        "height": 700
       },
       "config": {
        "plotlyServerURL": "https://plot.ly"
       }
      },
      "text/html": "<div>                            <div id=\"d8919038-4d74-4001-8740-a9551093a518\" class=\"plotly-graph-div\" style=\"height:700px; width:100%;\"></div>            <script type=\"text/javascript\">                require([\"plotly\"], function(Plotly) {                    window.PLOTLYENV=window.PLOTLYENV || {};                                    if (document.getElementById(\"d8919038-4d74-4001-8740-a9551093a518\")) {                    Plotly.newPlot(                        \"d8919038-4d74-4001-8740-a9551093a518\",                        [{\"alignmentgroup\":\"True\",\"hovertemplate\":\"name_=%{x}\\u003cbr\\u003escramble_epa_sum=%{marker.color}\\u003cextra\\u003e\\u003c\\u002fextra\\u003e\",\"legendgroup\":\"\",\"marker\":{\"color\":[11.700000000000001,8.6,7.5,7.199999999999999,6.4,6.4,6.3,6.0,5.9,5.3,5.0,4.7,4.5,3.5,3.3,3.1,3.0,2.9000000000000004,2.3,2.0,1.9,1.8,1.4,1.3,1.1,0.9000000000000001,0.8,0.7999999999999999,0.30000000000000016,0.3,0.2,0.0,0.0,0.0,0.0,0.0,0.0,-0.09999999999999998,-0.19999999999999996,-0.7],\"coloraxis\":\"coloraxis\",\"pattern\":{\"shape\":\"\"}},\"name\":\"\",\"offsetgroup\":\"\",\"orientation\":\"v\",\"showlegend\":false,\"textposition\":\"auto\",\"x\":[\"Jayden Daniels\",\"Justin Fields\",\"Patrick Mahomes\",\"Bo Nix\",\"Anthony Richardson\",\"Jalen Hurts\",\"Kyler Murray\",\"Joe Burrow\",\"Geno Smith\",\"Josh Allen\",\"Baker Mayfield\",\"Caleb Williams\",\"Brock Purdy\",\"Malik Willis\",\"Sam Darnold\",\"Jordan Love\",\"Tua Tagovailoa\",\"Trevor Lawrence\",\"Jacoby Brissett\",\"Lamar Jackson\",\"Deshaun Watson\",\"Will Levis\",\"Gardner Minshew\",\"Spencer Rattler\",\"Drake Maye\",\"Jared Goff\",\"Aaron Rodgers\",\"Joe Flacco\",\"C.J. Stroud\",\"Dak Prescott\",\"Bryce Young\",\"Tyler Huntley\",\"Aidan O'Connell\",\"Derek Carr\",\"Matthew Stafford\",\"Andy Dalton\",\"Skylar Thompson\",\"Daniel Jones\",\"Justin Herbert\",\"Kirk Cousins\"],\"xaxis\":\"x\",\"y\":[11.700000000000001,8.6,7.5,7.199999999999999,6.4,6.4,6.3,6.0,5.9,5.3,5.0,4.7,4.5,3.5,3.3,3.1,3.0,2.9000000000000004,2.3,2.0,1.9,1.8,1.4,1.3,1.1,0.9000000000000001,0.8,0.7999999999999999,0.30000000000000016,0.3,0.2,0.0,0.0,0.0,0.0,0.0,0.0,-0.09999999999999998,-0.19999999999999996,-0.7],\"yaxis\":\"y\",\"type\":\"bar\"}],                        {\"template\":{\"data\":{\"histogram2dcontour\":[{\"type\":\"histogram2dcontour\",\"colorbar\":{\"outlinewidth\":0,\"ticks\":\"\"},\"colorscale\":[[0.0,\"#0d0887\"],[0.1111111111111111,\"#46039f\"],[0.2222222222222222,\"#7201a8\"],[0.3333333333333333,\"#9c179e\"],[0.4444444444444444,\"#bd3786\"],[0.5555555555555556,\"#d8576b\"],[0.6666666666666666,\"#ed7953\"],[0.7777777777777778,\"#fb9f3a\"],[0.8888888888888888,\"#fdca26\"],[1.0,\"#f0f921\"]]}],\"choropleth\":[{\"type\":\"choropleth\",\"colorbar\":{\"outlinewidth\":0,\"ticks\":\"\"}}],\"histogram2d\":[{\"type\":\"histogram2d\",\"colorbar\":{\"outlinewidth\":0,\"ticks\":\"\"},\"colorscale\":[[0.0,\"#0d0887\"],[0.1111111111111111,\"#46039f\"],[0.2222222222222222,\"#7201a8\"],[0.3333333333333333,\"#9c179e\"],[0.4444444444444444,\"#bd3786\"],[0.5555555555555556,\"#d8576b\"],[0.6666666666666666,\"#ed7953\"],[0.7777777777777778,\"#fb9f3a\"],[0.8888888888888888,\"#fdca26\"],[1.0,\"#f0f921\"]]}],\"heatmap\":[{\"type\":\"heatmap\",\"colorbar\":{\"outlinewidth\":0,\"ticks\":\"\"},\"colorscale\":[[0.0,\"#0d0887\"],[0.1111111111111111,\"#46039f\"],[0.2222222222222222,\"#7201a8\"],[0.3333333333333333,\"#9c179e\"],[0.4444444444444444,\"#bd3786\"],[0.5555555555555556,\"#d8576b\"],[0.6666666666666666,\"#ed7953\"],[0.7777777777777778,\"#fb9f3a\"],[0.8888888888888888,\"#fdca26\"],[1.0,\"#f0f921\"]]}],\"heatmapgl\":[{\"type\":\"heatmapgl\",\"colorbar\":{\"outlinewidth\":0,\"ticks\":\"\"},\"colorscale\":[[0.0,\"#0d0887\"],[0.1111111111111111,\"#46039f\"],[0.2222222222222222,\"#7201a8\"],[0.3333333333333333,\"#9c179e\"],[0.4444444444444444,\"#bd3786\"],[0.5555555555555556,\"#d8576b\"],[0.6666666666666666,\"#ed7953\"],[0.7777777777777778,\"#fb9f3a\"],[0.8888888888888888,\"#fdca26\"],[1.0,\"#f0f921\"]]}],\"contourcarpet\":[{\"type\":\"contourcarpet\",\"colorbar\":{\"outlinewidth\":0,\"ticks\":\"\"}}],\"contour\":[{\"type\":\"contour\",\"colorbar\":{\"outlinewidth\":0,\"ticks\":\"\"},\"colorscale\":[[0.0,\"#0d0887\"],[0.1111111111111111,\"#46039f\"],[0.2222222222222222,\"#7201a8\"],[0.3333333333333333,\"#9c179e\"],[0.4444444444444444,\"#bd3786\"],[0.5555555555555556,\"#d8576b\"],[0.6666666666666666,\"#ed7953\"],[0.7777777777777778,\"#fb9f3a\"],[0.8888888888888888,\"#fdca26\"],[1.0,\"#f0f921\"]]}],\"surface\":[{\"type\":\"surface\",\"colorbar\":{\"outlinewidth\":0,\"ticks\":\"\"},\"colorscale\":[[0.0,\"#0d0887\"],[0.1111111111111111,\"#46039f\"],[0.2222222222222222,\"#7201a8\"],[0.3333333333333333,\"#9c179e\"],[0.4444444444444444,\"#bd3786\"],[0.5555555555555556,\"#d8576b\"],[0.6666666666666666,\"#ed7953\"],[0.7777777777777778,\"#fb9f3a\"],[0.8888888888888888,\"#fdca26\"],[1.0,\"#f0f921\"]]}],\"mesh3d\":[{\"type\":\"mesh3d\",\"colorbar\":{\"outlinewidth\":0,\"ticks\":\"\"}}],\"scatter\":[{\"marker\":{\"line\":{\"color\":\"#283442\"}},\"type\":\"scatter\"}],\"parcoords\":[{\"type\":\"parcoords\",\"line\":{\"colorbar\":{\"outlinewidth\":0,\"ticks\":\"\"}}}],\"scatterpolargl\":[{\"type\":\"scatterpolargl\",\"marker\":{\"colorbar\":{\"outlinewidth\":0,\"ticks\":\"\"}}}],\"bar\":[{\"error_x\":{\"color\":\"#f2f5fa\"},\"error_y\":{\"color\":\"#f2f5fa\"},\"marker\":{\"line\":{\"color\":\"rgb(17,17,17)\",\"width\":0.5},\"pattern\":{\"fillmode\":\"overlay\",\"size\":10,\"solidity\":0.2}},\"type\":\"bar\"}],\"scattergeo\":[{\"type\":\"scattergeo\",\"marker\":{\"colorbar\":{\"outlinewidth\":0,\"ticks\":\"\"}}}],\"scatterpolar\":[{\"type\":\"scatterpolar\",\"marker\":{\"colorbar\":{\"outlinewidth\":0,\"ticks\":\"\"}}}],\"histogram\":[{\"marker\":{\"pattern\":{\"fillmode\":\"overlay\",\"size\":10,\"solidity\":0.2}},\"type\":\"histogram\"}],\"scattergl\":[{\"marker\":{\"line\":{\"color\":\"#283442\"}},\"type\":\"scattergl\"}],\"scatter3d\":[{\"type\":\"scatter3d\",\"line\":{\"colorbar\":{\"outlinewidth\":0,\"ticks\":\"\"}},\"marker\":{\"colorbar\":{\"outlinewidth\":0,\"ticks\":\"\"}}}],\"scattermapbox\":[{\"type\":\"scattermapbox\",\"marker\":{\"colorbar\":{\"outlinewidth\":0,\"ticks\":\"\"}}}],\"scatterternary\":[{\"type\":\"scatterternary\",\"marker\":{\"colorbar\":{\"outlinewidth\":0,\"ticks\":\"\"}}}],\"scattercarpet\":[{\"type\":\"scattercarpet\",\"marker\":{\"colorbar\":{\"outlinewidth\":0,\"ticks\":\"\"}}}],\"carpet\":[{\"aaxis\":{\"endlinecolor\":\"#A2B1C6\",\"gridcolor\":\"#506784\",\"linecolor\":\"#506784\",\"minorgridcolor\":\"#506784\",\"startlinecolor\":\"#A2B1C6\"},\"baxis\":{\"endlinecolor\":\"#A2B1C6\",\"gridcolor\":\"#506784\",\"linecolor\":\"#506784\",\"minorgridcolor\":\"#506784\",\"startlinecolor\":\"#A2B1C6\"},\"type\":\"carpet\"}],\"table\":[{\"cells\":{\"fill\":{\"color\":\"#506784\"},\"line\":{\"color\":\"rgb(17,17,17)\"}},\"header\":{\"fill\":{\"color\":\"#2a3f5f\"},\"line\":{\"color\":\"rgb(17,17,17)\"}},\"type\":\"table\"}],\"barpolar\":[{\"marker\":{\"line\":{\"color\":\"rgb(17,17,17)\",\"width\":0.5},\"pattern\":{\"fillmode\":\"overlay\",\"size\":10,\"solidity\":0.2}},\"type\":\"barpolar\"}],\"pie\":[{\"automargin\":true,\"type\":\"pie\"}]},\"layout\":{\"autotypenumbers\":\"strict\",\"colorway\":[\"#636efa\",\"#EF553B\",\"#00cc96\",\"#ab63fa\",\"#FFA15A\",\"#19d3f3\",\"#FF6692\",\"#B6E880\",\"#FF97FF\",\"#FECB52\"],\"font\":{\"color\":\"#f2f5fa\"},\"hovermode\":\"closest\",\"hoverlabel\":{\"align\":\"left\"},\"paper_bgcolor\":\"rgb(17,17,17)\",\"plot_bgcolor\":\"rgb(17,17,17)\",\"polar\":{\"bgcolor\":\"rgb(17,17,17)\",\"angularaxis\":{\"gridcolor\":\"#506784\",\"linecolor\":\"#506784\",\"ticks\":\"\"},\"radialaxis\":{\"gridcolor\":\"#506784\",\"linecolor\":\"#506784\",\"ticks\":\"\"}},\"ternary\":{\"bgcolor\":\"rgb(17,17,17)\",\"aaxis\":{\"gridcolor\":\"#506784\",\"linecolor\":\"#506784\",\"ticks\":\"\"},\"baxis\":{\"gridcolor\":\"#506784\",\"linecolor\":\"#506784\",\"ticks\":\"\"},\"caxis\":{\"gridcolor\":\"#506784\",\"linecolor\":\"#506784\",\"ticks\":\"\"}},\"coloraxis\":{\"colorbar\":{\"outlinewidth\":0,\"ticks\":\"\"}},\"colorscale\":{\"sequential\":[[0.0,\"#0d0887\"],[0.1111111111111111,\"#46039f\"],[0.2222222222222222,\"#7201a8\"],[0.3333333333333333,\"#9c179e\"],[0.4444444444444444,\"#bd3786\"],[0.5555555555555556,\"#d8576b\"],[0.6666666666666666,\"#ed7953\"],[0.7777777777777778,\"#fb9f3a\"],[0.8888888888888888,\"#fdca26\"],[1.0,\"#f0f921\"]],\"sequentialminus\":[[0.0,\"#0d0887\"],[0.1111111111111111,\"#46039f\"],[0.2222222222222222,\"#7201a8\"],[0.3333333333333333,\"#9c179e\"],[0.4444444444444444,\"#bd3786\"],[0.5555555555555556,\"#d8576b\"],[0.6666666666666666,\"#ed7953\"],[0.7777777777777778,\"#fb9f3a\"],[0.8888888888888888,\"#fdca26\"],[1.0,\"#f0f921\"]],\"diverging\":[[0,\"#8e0152\"],[0.1,\"#c51b7d\"],[0.2,\"#de77ae\"],[0.3,\"#f1b6da\"],[0.4,\"#fde0ef\"],[0.5,\"#f7f7f7\"],[0.6,\"#e6f5d0\"],[0.7,\"#b8e186\"],[0.8,\"#7fbc41\"],[0.9,\"#4d9221\"],[1,\"#276419\"]]},\"xaxis\":{\"gridcolor\":\"#283442\",\"linecolor\":\"#506784\",\"ticks\":\"\",\"title\":{\"standoff\":15},\"zerolinecolor\":\"#283442\",\"automargin\":true,\"zerolinewidth\":2},\"yaxis\":{\"gridcolor\":\"#283442\",\"linecolor\":\"#506784\",\"ticks\":\"\",\"title\":{\"standoff\":15},\"zerolinecolor\":\"#283442\",\"automargin\":true,\"zerolinewidth\":2},\"scene\":{\"xaxis\":{\"backgroundcolor\":\"rgb(17,17,17)\",\"gridcolor\":\"#506784\",\"linecolor\":\"#506784\",\"showbackground\":true,\"ticks\":\"\",\"zerolinecolor\":\"#C8D4E3\",\"gridwidth\":2},\"yaxis\":{\"backgroundcolor\":\"rgb(17,17,17)\",\"gridcolor\":\"#506784\",\"linecolor\":\"#506784\",\"showbackground\":true,\"ticks\":\"\",\"zerolinecolor\":\"#C8D4E3\",\"gridwidth\":2},\"zaxis\":{\"backgroundcolor\":\"rgb(17,17,17)\",\"gridcolor\":\"#506784\",\"linecolor\":\"#506784\",\"showbackground\":true,\"ticks\":\"\",\"zerolinecolor\":\"#C8D4E3\",\"gridwidth\":2}},\"shapedefaults\":{\"line\":{\"color\":\"#f2f5fa\"}},\"annotationdefaults\":{\"arrowcolor\":\"#f2f5fa\",\"arrowhead\":0,\"arrowwidth\":1},\"geo\":{\"bgcolor\":\"rgb(17,17,17)\",\"landcolor\":\"rgb(17,17,17)\",\"subunitcolor\":\"#506784\",\"showland\":true,\"showlakes\":true,\"lakecolor\":\"rgb(17,17,17)\"},\"title\":{\"x\":0.05},\"updatemenudefaults\":{\"bgcolor\":\"#506784\",\"borderwidth\":0},\"sliderdefaults\":{\"bgcolor\":\"#C8D4E3\",\"borderwidth\":1,\"bordercolor\":\"rgb(17,17,17)\",\"tickwidth\":0},\"mapbox\":{\"style\":\"dark\"}}},\"xaxis\":{\"anchor\":\"y\",\"domain\":[0.0,1.0],\"title\":{\"text\":\"name_\"}},\"yaxis\":{\"anchor\":\"x\",\"domain\":[0.0,1.0],\"title\":{\"text\":\"scramble_epa_sum\"}},\"coloraxis\":{\"colorbar\":{\"title\":{\"text\":\"scramble_epa_sum\"}},\"colorscale\":[[0.0,\"#0d0887\"],[0.1111111111111111,\"#46039f\"],[0.2222222222222222,\"#7201a8\"],[0.3333333333333333,\"#9c179e\"],[0.4444444444444444,\"#bd3786\"],[0.5555555555555556,\"#d8576b\"],[0.6666666666666666,\"#ed7953\"],[0.7777777777777778,\"#fb9f3a\"],[0.8888888888888888,\"#fdca26\"],[1.0,\"#f0f921\"]]},\"legend\":{\"tracegroupgap\":0},\"margin\":{\"t\":60},\"barmode\":\"relative\",\"height\":700},                        {\"responsive\": true}                    ).then(function(){\n                            \nvar gd = document.getElementById('d8919038-4d74-4001-8740-a9551093a518');\nvar x = new MutationObserver(function (mutations, observer) {{\n        var display = window.getComputedStyle(gd).display;\n        if (!display || display === 'none') {{\n            console.log([gd, 'removed!']);\n            Plotly.purge(gd);\n            observer.disconnect();\n        }}\n}});\n\n// Listen for the removal of the full notebook cells\nvar notebookContainer = gd.closest('#notebook-container');\nif (notebookContainer) {{\n    x.observe(notebookContainer, {childList: true});\n}}\n\n// Listen for the clearing of the current output cell\nvar outputEl = gd.closest('.output');\nif (outputEl) {{\n    x.observe(outputEl, {childList: true});\n}}\n\n                        })                };                });            </script>        </div>"
     },
     "metadata": {},
     "output_type": "display_data"
    }
   ],
   "source": [
    "epa = epa.sort_values(by = 'scramble_epa_sum', ascending=False)\n",
    "px.bar(epa, x = 'name_', y = 'scramble_epa_sum', color = 'scramble_epa_sum', height = 700)"
   ],
   "metadata": {
    "collapsed": false,
    "ExecuteTime": {
     "end_time": "2024-10-16T04:38:34.044999Z",
     "start_time": "2024-10-16T04:38:34.033827Z"
    }
   },
   "id": "f2c8d14d34b0316e"
  },
  {
   "cell_type": "code",
   "execution_count": 62,
   "outputs": [
    {
     "name": "stdout",
     "output_type": "stream",
     "text": [
      "https://site.api.espn.com/apis/site/v2/sports/football/nfl/scoreboard?limit=1000&dates=2024&seasontype=2&week=1\n",
      "https://site.api.espn.com/apis/site/v2/sports/football/nfl/scoreboard?limit=1000&dates=2024&seasontype=2&week=2\n",
      "https://site.api.espn.com/apis/site/v2/sports/football/nfl/scoreboard?limit=1000&dates=2024&seasontype=2&week=3\n",
      "https://site.api.espn.com/apis/site/v2/sports/football/nfl/scoreboard?limit=1000&dates=2024&seasontype=2&week=4\n",
      "https://site.api.espn.com/apis/site/v2/sports/football/nfl/scoreboard?limit=1000&dates=2024&seasontype=2&week=5\n",
      "https://site.api.espn.com/apis/site/v2/sports/football/nfl/scoreboard?limit=1000&dates=2024&seasontype=2&week=6\n",
      "https://site.api.espn.com/apis/site/v2/sports/football/nfl/scoreboard?limit=1000&dates=2024&seasontype=2&week=7\n",
      "https://site.api.espn.com/apis/site/v2/sports/football/nfl/scoreboard?limit=1000&dates=2024&seasontype=2&week=8\n",
      "https://site.api.espn.com/apis/site/v2/sports/football/nfl/scoreboard?limit=1000&dates=2024&seasontype=2&week=9\n",
      "https://site.api.espn.com/apis/site/v2/sports/football/nfl/scoreboard?limit=1000&dates=2024&seasontype=2&week=10\n",
      "https://site.api.espn.com/apis/site/v2/sports/football/nfl/scoreboard?limit=1000&dates=2024&seasontype=2&week=11\n",
      "https://site.api.espn.com/apis/site/v2/sports/football/nfl/scoreboard?limit=1000&dates=2024&seasontype=2&week=12\n",
      "https://site.api.espn.com/apis/site/v2/sports/football/nfl/scoreboard?limit=1000&dates=2024&seasontype=2&week=13\n",
      "https://site.api.espn.com/apis/site/v2/sports/football/nfl/scoreboard?limit=1000&dates=2024&seasontype=2&week=14\n",
      "https://site.api.espn.com/apis/site/v2/sports/football/nfl/scoreboard?limit=1000&dates=2024&seasontype=2&week=15\n",
      "https://site.api.espn.com/apis/site/v2/sports/football/nfl/scoreboard?limit=1000&dates=2024&seasontype=2&week=16\n",
      "https://site.api.espn.com/apis/site/v2/sports/football/nfl/scoreboard?limit=1000&dates=2024&seasontype=2&week=17\n",
      "https://site.api.espn.com/apis/site/v2/sports/football/nfl/scoreboard?limit=1000&dates=2024&seasontype=2&week=18\n"
     ]
    },
    {
     "name": "stderr",
     "output_type": "stream",
     "text": [
      "100%|██████████| 92/92 [00:21<00:00,  4.34it/s]\n"
     ]
    },
    {
     "name": "stdout",
     "output_type": "stream",
     "text": [
      "https://sports.core.api.espn.com/v2/sports/football/leagues/nfl/seasons/2024/types/2/weeks/1/qbr/10000?page=1\n",
      "https://sports.core.api.espn.com/v2/sports/football/leagues/nfl/seasons/2024/types/2/weeks/1/qbr/10000?page=2\n",
      "https://sports.core.api.espn.com/v2/sports/football/leagues/nfl/seasons/2024/types/2/weeks/2/qbr/10000?page=1\n",
      "https://sports.core.api.espn.com/v2/sports/football/leagues/nfl/seasons/2024/types/2/weeks/2/qbr/10000?page=2\n",
      "https://sports.core.api.espn.com/v2/sports/football/leagues/nfl/seasons/2024/types/2/weeks/3/qbr/10000?page=1\n",
      "https://sports.core.api.espn.com/v2/sports/football/leagues/nfl/seasons/2024/types/2/weeks/3/qbr/10000?page=2\n",
      "https://sports.core.api.espn.com/v2/sports/football/leagues/nfl/seasons/2024/types/2/weeks/4/qbr/10000?page=1\n",
      "https://sports.core.api.espn.com/v2/sports/football/leagues/nfl/seasons/2024/types/2/weeks/4/qbr/10000?page=2\n",
      "https://sports.core.api.espn.com/v2/sports/football/leagues/nfl/seasons/2024/types/2/weeks/5/qbr/10000?page=1\n",
      "https://sports.core.api.espn.com/v2/sports/football/leagues/nfl/seasons/2024/types/2/weeks/5/qbr/10000?page=2\n",
      "https://sports.core.api.espn.com/v2/sports/football/leagues/nfl/seasons/2024/types/2/weeks/6/qbr/10000?page=1\n",
      "https://sports.core.api.espn.com/v2/sports/football/leagues/nfl/seasons/2024/types/2/weeks/6/qbr/10000?page=2\n",
      "https://sports.core.api.espn.com/v2/sports/football/leagues/nfl/seasons/2024/types/2/weeks/7/qbr/10000?page=1\n",
      "https://sports.core.api.espn.com/v2/sports/football/leagues/nfl/seasons/2024/types/2/weeks/8/qbr/10000?page=1\n",
      "https://sports.core.api.espn.com/v2/sports/football/leagues/nfl/seasons/2024/types/2/weeks/9/qbr/10000?page=1\n",
      "https://sports.core.api.espn.com/v2/sports/football/leagues/nfl/seasons/2024/types/2/weeks/10/qbr/10000?page=1\n",
      "https://sports.core.api.espn.com/v2/sports/football/leagues/nfl/seasons/2024/types/2/weeks/11/qbr/10000?page=1\n",
      "https://sports.core.api.espn.com/v2/sports/football/leagues/nfl/seasons/2024/types/2/weeks/12/qbr/10000?page=1\n",
      "https://sports.core.api.espn.com/v2/sports/football/leagues/nfl/seasons/2024/types/2/weeks/13/qbr/10000?page=1\n",
      "https://sports.core.api.espn.com/v2/sports/football/leagues/nfl/seasons/2024/types/2/weeks/14/qbr/10000?page=1\n",
      "https://sports.core.api.espn.com/v2/sports/football/leagues/nfl/seasons/2024/types/2/weeks/15/qbr/10000?page=1\n",
      "https://sports.core.api.espn.com/v2/sports/football/leagues/nfl/seasons/2024/types/2/weeks/16/qbr/10000?page=1\n",
      "https://sports.core.api.espn.com/v2/sports/football/leagues/nfl/seasons/2024/types/2/weeks/17/qbr/10000?page=1\n",
      "https://sports.core.api.espn.com/v2/sports/football/leagues/nfl/seasons/2024/types/2/weeks/18/qbr/10000?page=1\n"
     ]
    }
   ],
   "source": [
    "pb = fetch.qb_epa(year = 2024)"
   ],
   "metadata": {
    "collapsed": false,
    "ExecuteTime": {
     "end_time": "2024-10-16T03:42:58.199557Z",
     "start_time": "2024-10-16T03:42:23.935261Z"
    }
   },
   "id": "2eea1dcc23f4134f"
  },
  {
   "cell_type": "code",
   "execution_count": 63,
   "outputs": [
    {
     "data": {
      "text/plain": "    athlete_id         id points_added pass_epa rush_epa sack_epa penalty_epa  \\\n0         8439  401671696         -0.3      1.4      0.0     -0.5         0.0   \n1        12483  401671792          1.8      5.8      0.0     -0.6         1.0   \n2        14880  401671744         -1.7      0.6      0.0     -0.5         0.2   \n3        15864  401671664          3.1      2.8      0.0     -0.6         0.7   \n4        16757  401671734          3.7      3.2      0.1     -0.2         0.3   \n..         ...        ...          ...      ...      ...      ...         ...   \n178    4426339  401671735         -2.8     -0.2      0.0     -1.8         0.3   \n179    4426348  401671625          3.3      6.1     -0.5     -1.2         0.3   \n180    4431452  401671619         -2.9     -0.3      0.0     -1.5        -0.3   \n181    4431611  401671802          7.4      7.6      0.5     -0.9         0.6   \n182    4432577  401671619          3.7      4.4      0.0     -0.5         1.1   \n\n    total_epa qb_plays  cwa  ... int_epa yac_epa run_epa scramble_epa  \\\n0         1.4       22  0.0  ...     0.0     0.2     0.0          0.0   \n1         6.8       56  0.0  ...     0.0     0.0     0.0          0.0   \n2         0.8       29  0.0  ...     0.0    -0.1     0.0          0.0   \n3         6.1       36  0.0  ...     0.0    -0.4     2.6          2.5   \n4         3.8       28  0.0  ...     0.0    -0.4     0.2          0.1   \n..        ...      ...  ...  ...     ...     ...     ...          ...   \n178       1.3       51  0.0  ...     0.0     0.0     1.3          1.3   \n179       7.0       47  0.0  ...     0.0    -0.1     0.6          0.8   \n180       0.8       46  0.0  ...     0.0     0.5     1.4          1.1   \n181       9.7       39  0.0  ...     0.0     0.2     1.5          0.9   \n182       6.2       37  0.0  ...     0.0    -0.4     0.7          0.6   \n\n    expected_sack_epa fumble_epa defense_faced_epa total_qbr unq_rank  \\\n0                 0.0        0.0              52.0      52.5       19   \n1                 0.0        0.0              54.1      65.5       15   \n2                 0.0        0.0              47.0      34.0       26   \n3                 0.0        0.0              48.8      78.8       10   \n4                 0.0        0.0              68.3      76.0       12   \n..                ...        ...               ...       ...      ...   \n178               0.0        0.0              55.6      27.9       27   \n179               0.0        0.0              56.5      74.4       10   \n180               0.0       -0.7              48.8      31.3       25   \n181               0.0        0.0              70.3      88.4        2   \n182               0.0        0.0              65.0      74.6        9   \n\n                 name  \n0       Aaron Rodgers  \n1    Matthew Stafford  \n2        Kirk Cousins  \n3          Geno Smith  \n4          Derek Carr  \n..                ...  \n178   Spencer Rattler  \n179    Jayden Daniels  \n180        Drake Maye  \n181    Caleb Williams  \n182       C.J. Stroud  \n\n[183 rows x 22 columns]",
      "text/html": "<div>\n<style scoped>\n    .dataframe tbody tr th:only-of-type {\n        vertical-align: middle;\n    }\n\n    .dataframe tbody tr th {\n        vertical-align: top;\n    }\n\n    .dataframe thead th {\n        text-align: right;\n    }\n</style>\n<table border=\"1\" class=\"dataframe\">\n  <thead>\n    <tr style=\"text-align: right;\">\n      <th></th>\n      <th>athlete_id</th>\n      <th>id</th>\n      <th>points_added</th>\n      <th>pass_epa</th>\n      <th>rush_epa</th>\n      <th>sack_epa</th>\n      <th>penalty_epa</th>\n      <th>total_epa</th>\n      <th>qb_plays</th>\n      <th>cwa</th>\n      <th>...</th>\n      <th>int_epa</th>\n      <th>yac_epa</th>\n      <th>run_epa</th>\n      <th>scramble_epa</th>\n      <th>expected_sack_epa</th>\n      <th>fumble_epa</th>\n      <th>defense_faced_epa</th>\n      <th>total_qbr</th>\n      <th>unq_rank</th>\n      <th>name</th>\n    </tr>\n  </thead>\n  <tbody>\n    <tr>\n      <th>0</th>\n      <td>8439</td>\n      <td>401671696</td>\n      <td>-0.3</td>\n      <td>1.4</td>\n      <td>0.0</td>\n      <td>-0.5</td>\n      <td>0.0</td>\n      <td>1.4</td>\n      <td>22</td>\n      <td>0.0</td>\n      <td>...</td>\n      <td>0.0</td>\n      <td>0.2</td>\n      <td>0.0</td>\n      <td>0.0</td>\n      <td>0.0</td>\n      <td>0.0</td>\n      <td>52.0</td>\n      <td>52.5</td>\n      <td>19</td>\n      <td>Aaron Rodgers</td>\n    </tr>\n    <tr>\n      <th>1</th>\n      <td>12483</td>\n      <td>401671792</td>\n      <td>1.8</td>\n      <td>5.8</td>\n      <td>0.0</td>\n      <td>-0.6</td>\n      <td>1.0</td>\n      <td>6.8</td>\n      <td>56</td>\n      <td>0.0</td>\n      <td>...</td>\n      <td>0.0</td>\n      <td>0.0</td>\n      <td>0.0</td>\n      <td>0.0</td>\n      <td>0.0</td>\n      <td>0.0</td>\n      <td>54.1</td>\n      <td>65.5</td>\n      <td>15</td>\n      <td>Matthew Stafford</td>\n    </tr>\n    <tr>\n      <th>2</th>\n      <td>14880</td>\n      <td>401671744</td>\n      <td>-1.7</td>\n      <td>0.6</td>\n      <td>0.0</td>\n      <td>-0.5</td>\n      <td>0.2</td>\n      <td>0.8</td>\n      <td>29</td>\n      <td>0.0</td>\n      <td>...</td>\n      <td>0.0</td>\n      <td>-0.1</td>\n      <td>0.0</td>\n      <td>0.0</td>\n      <td>0.0</td>\n      <td>0.0</td>\n      <td>47.0</td>\n      <td>34.0</td>\n      <td>26</td>\n      <td>Kirk Cousins</td>\n    </tr>\n    <tr>\n      <th>3</th>\n      <td>15864</td>\n      <td>401671664</td>\n      <td>3.1</td>\n      <td>2.8</td>\n      <td>0.0</td>\n      <td>-0.6</td>\n      <td>0.7</td>\n      <td>6.1</td>\n      <td>36</td>\n      <td>0.0</td>\n      <td>...</td>\n      <td>0.0</td>\n      <td>-0.4</td>\n      <td>2.6</td>\n      <td>2.5</td>\n      <td>0.0</td>\n      <td>0.0</td>\n      <td>48.8</td>\n      <td>78.8</td>\n      <td>10</td>\n      <td>Geno Smith</td>\n    </tr>\n    <tr>\n      <th>4</th>\n      <td>16757</td>\n      <td>401671734</td>\n      <td>3.7</td>\n      <td>3.2</td>\n      <td>0.1</td>\n      <td>-0.2</td>\n      <td>0.3</td>\n      <td>3.8</td>\n      <td>28</td>\n      <td>0.0</td>\n      <td>...</td>\n      <td>0.0</td>\n      <td>-0.4</td>\n      <td>0.2</td>\n      <td>0.1</td>\n      <td>0.0</td>\n      <td>0.0</td>\n      <td>68.3</td>\n      <td>76.0</td>\n      <td>12</td>\n      <td>Derek Carr</td>\n    </tr>\n    <tr>\n      <th>...</th>\n      <td>...</td>\n      <td>...</td>\n      <td>...</td>\n      <td>...</td>\n      <td>...</td>\n      <td>...</td>\n      <td>...</td>\n      <td>...</td>\n      <td>...</td>\n      <td>...</td>\n      <td>...</td>\n      <td>...</td>\n      <td>...</td>\n      <td>...</td>\n      <td>...</td>\n      <td>...</td>\n      <td>...</td>\n      <td>...</td>\n      <td>...</td>\n      <td>...</td>\n      <td>...</td>\n    </tr>\n    <tr>\n      <th>178</th>\n      <td>4426339</td>\n      <td>401671735</td>\n      <td>-2.8</td>\n      <td>-0.2</td>\n      <td>0.0</td>\n      <td>-1.8</td>\n      <td>0.3</td>\n      <td>1.3</td>\n      <td>51</td>\n      <td>0.0</td>\n      <td>...</td>\n      <td>0.0</td>\n      <td>0.0</td>\n      <td>1.3</td>\n      <td>1.3</td>\n      <td>0.0</td>\n      <td>0.0</td>\n      <td>55.6</td>\n      <td>27.9</td>\n      <td>27</td>\n      <td>Spencer Rattler</td>\n    </tr>\n    <tr>\n      <th>179</th>\n      <td>4426348</td>\n      <td>401671625</td>\n      <td>3.3</td>\n      <td>6.1</td>\n      <td>-0.5</td>\n      <td>-1.2</td>\n      <td>0.3</td>\n      <td>7.0</td>\n      <td>47</td>\n      <td>0.0</td>\n      <td>...</td>\n      <td>0.0</td>\n      <td>-0.1</td>\n      <td>0.6</td>\n      <td>0.8</td>\n      <td>0.0</td>\n      <td>0.0</td>\n      <td>56.5</td>\n      <td>74.4</td>\n      <td>10</td>\n      <td>Jayden Daniels</td>\n    </tr>\n    <tr>\n      <th>180</th>\n      <td>4431452</td>\n      <td>401671619</td>\n      <td>-2.9</td>\n      <td>-0.3</td>\n      <td>0.0</td>\n      <td>-1.5</td>\n      <td>-0.3</td>\n      <td>0.8</td>\n      <td>46</td>\n      <td>0.0</td>\n      <td>...</td>\n      <td>0.0</td>\n      <td>0.5</td>\n      <td>1.4</td>\n      <td>1.1</td>\n      <td>0.0</td>\n      <td>-0.7</td>\n      <td>48.8</td>\n      <td>31.3</td>\n      <td>25</td>\n      <td>Drake Maye</td>\n    </tr>\n    <tr>\n      <th>181</th>\n      <td>4431611</td>\n      <td>401671802</td>\n      <td>7.4</td>\n      <td>7.6</td>\n      <td>0.5</td>\n      <td>-0.9</td>\n      <td>0.6</td>\n      <td>9.7</td>\n      <td>39</td>\n      <td>0.0</td>\n      <td>...</td>\n      <td>0.0</td>\n      <td>0.2</td>\n      <td>1.5</td>\n      <td>0.9</td>\n      <td>0.0</td>\n      <td>0.0</td>\n      <td>70.3</td>\n      <td>88.4</td>\n      <td>2</td>\n      <td>Caleb Williams</td>\n    </tr>\n    <tr>\n      <th>182</th>\n      <td>4432577</td>\n      <td>401671619</td>\n      <td>3.7</td>\n      <td>4.4</td>\n      <td>0.0</td>\n      <td>-0.5</td>\n      <td>1.1</td>\n      <td>6.2</td>\n      <td>37</td>\n      <td>0.0</td>\n      <td>...</td>\n      <td>0.0</td>\n      <td>-0.4</td>\n      <td>0.7</td>\n      <td>0.6</td>\n      <td>0.0</td>\n      <td>0.0</td>\n      <td>65.0</td>\n      <td>74.6</td>\n      <td>9</td>\n      <td>C.J. Stroud</td>\n    </tr>\n  </tbody>\n</table>\n<p>183 rows × 22 columns</p>\n</div>"
     },
     "execution_count": 63,
     "metadata": {},
     "output_type": "execute_result"
    }
   ],
   "source": [
    "pb"
   ],
   "metadata": {
    "collapsed": false,
    "ExecuteTime": {
     "end_time": "2024-10-16T03:43:03.202370Z",
     "start_time": "2024-10-16T03:43:03.196209Z"
    }
   },
   "id": "5668b5b1e0692fad"
  },
  {
   "cell_type": "code",
   "execution_count": 9,
   "outputs": [
    {
     "data": {
      "text/plain": "       name                id\n0   4361741       Brock Purdy\n1     15864        Geno Smith\n2   4360310   Trevor Lawrence\n3   4241464         Mac Jones\n4   4431611    Caleb Williams\n..      ...               ...\n60  4241479    Tua Tagovailoa\n61  3916370          Jack Fox\n62  4242431       Ty Chandler\n63    14163      Tyrod Taylor\n64  3126486  Deebo Samuel Sr.\n\n[65 rows x 2 columns]",
      "text/html": "<div>\n<style scoped>\n    .dataframe tbody tr th:only-of-type {\n        vertical-align: middle;\n    }\n\n    .dataframe tbody tr th {\n        vertical-align: top;\n    }\n\n    .dataframe thead th {\n        text-align: right;\n    }\n</style>\n<table border=\"1\" class=\"dataframe\">\n  <thead>\n    <tr style=\"text-align: right;\">\n      <th></th>\n      <th>name</th>\n      <th>id</th>\n    </tr>\n  </thead>\n  <tbody>\n    <tr>\n      <th>0</th>\n      <td>4361741</td>\n      <td>Brock Purdy</td>\n    </tr>\n    <tr>\n      <th>1</th>\n      <td>15864</td>\n      <td>Geno Smith</td>\n    </tr>\n    <tr>\n      <th>2</th>\n      <td>4360310</td>\n      <td>Trevor Lawrence</td>\n    </tr>\n    <tr>\n      <th>3</th>\n      <td>4241464</td>\n      <td>Mac Jones</td>\n    </tr>\n    <tr>\n      <th>4</th>\n      <td>4431611</td>\n      <td>Caleb Williams</td>\n    </tr>\n    <tr>\n      <th>...</th>\n      <td>...</td>\n      <td>...</td>\n    </tr>\n    <tr>\n      <th>60</th>\n      <td>4241479</td>\n      <td>Tua Tagovailoa</td>\n    </tr>\n    <tr>\n      <th>61</th>\n      <td>3916370</td>\n      <td>Jack Fox</td>\n    </tr>\n    <tr>\n      <th>62</th>\n      <td>4242431</td>\n      <td>Ty Chandler</td>\n    </tr>\n    <tr>\n      <th>63</th>\n      <td>14163</td>\n      <td>Tyrod Taylor</td>\n    </tr>\n    <tr>\n      <th>64</th>\n      <td>3126486</td>\n      <td>Deebo Samuel Sr.</td>\n    </tr>\n  </tbody>\n</table>\n<p>65 rows × 2 columns</p>\n</div>"
     },
     "execution_count": 9,
     "metadata": {},
     "output_type": "execute_result"
    }
   ],
   "source": [
    "athlete_dict = {'name':[], 'id':[]}\n",
    "\n",
    "for id, name in zip(pb.name.unique(), pb.athlete_id.unique()):\n",
    "    athlete_dict['name'].append(name)\n",
    "    athlete_dict['id'].append(id)\n",
    "    \n",
    "athlete_df = pd.DataFrame(athlete_dict)\n",
    "athlete_df"
   ],
   "metadata": {
    "collapsed": false,
    "ExecuteTime": {
     "end_time": "2024-10-14T18:11:29.168672Z",
     "start_time": "2024-10-14T18:11:29.157180Z"
    }
   },
   "id": "f030cde5f6acf5ab"
  },
  {
   "cell_type": "code",
   "execution_count": 6,
   "outputs": [
    {
     "data": {
      "text/plain": "                  date                  team              name athlete_id  \\\n0    2024-10-11T00:15Z   San Francisco 49ers       Brock Purdy    4361741   \n1    2024-10-11T00:15Z      Seattle Seahawks        Geno Smith      15864   \n2    2024-10-13T13:30Z  Jacksonville Jaguars   Trevor Lawrence    4360310   \n3    2024-10-13T13:30Z  Jacksonville Jaguars         Mac Jones    4241464   \n4    2024-10-13T13:30Z         Chicago Bears    Caleb Williams    4431611   \n..                 ...                   ...               ...        ...   \n215  2024-09-09T00:20Z         Detroit Lions        Jared Goff    3046779   \n216  2024-09-10T00:15Z         New York Jets     Aaron Rodgers       8439   \n217  2024-09-10T00:15Z         New York Jets      Tyrod Taylor      14163   \n218  2024-09-10T00:15Z   San Francisco 49ers       Brock Purdy    4361741   \n219  2024-09-10T00:15Z   San Francisco 49ers  Deebo Samuel Sr.    3126486   \n\n    number  yards  yards_per_attempt  touchdowns  interceptions sacks  \\\n0       13    255                9.1           3              0   0-0   \n1        7    312                6.0           1              2   1-6   \n2       16    234                6.7           2              1  3-20   \n3       10      6                6.0           0              0  1-10   \n4       18    226                7.8           4              1   3-5   \n..     ...    ...                ...         ...            ...   ...   \n215     16    217                7.8           1              1  2-17   \n216      8    167                8.0           1              1   1-5   \n217      2     36                4.5           1              0   0-0   \n218     13    231                8.0           0              0   2-6   \n219      1      0                0.0           0              0   1-4   \n\n     adjusted_qbr  passer_rating  completions  attempts  times_sacked  \\\n0            90.5          129.3           18        28             0   \n1            53.1           65.5           30        52             1   \n2            66.6           91.8           23        35             3   \n3             8.1           91.7            1         1             1   \n4            88.4          124.4           23        29             3   \n..            ...            ...          ...       ...           ...   \n215          30.8           85.0           18        28             2   \n216          52.3           82.8           13        21             1   \n217          96.1          122.9            6         8             0   \n218          87.4           89.9           19        29             2   \n219           0.0            0.0            0         0             1   \n\n     sack_yards  completion_%  yards_per_completion  touchdown_%  \n0             0     64.285714             14.166667    10.714286  \n1             6     57.692308             10.400000     1.923077  \n2            20     65.714286             10.173913     5.714286  \n3            10    100.000000              6.000000     0.000000  \n4             5     79.310345              9.826087    13.793103  \n..          ...           ...                   ...          ...  \n215          17     64.285714             12.055556     3.571429  \n216           5     61.904762             12.846154     4.761905  \n217           0     75.000000              6.000000    12.500000  \n218           6     65.517241             12.157895     0.000000  \n219           4           NaN                   NaN          NaN  \n\n[220 rows x 19 columns]",
      "text/html": "<div>\n<style scoped>\n    .dataframe tbody tr th:only-of-type {\n        vertical-align: middle;\n    }\n\n    .dataframe tbody tr th {\n        vertical-align: top;\n    }\n\n    .dataframe thead th {\n        text-align: right;\n    }\n</style>\n<table border=\"1\" class=\"dataframe\">\n  <thead>\n    <tr style=\"text-align: right;\">\n      <th></th>\n      <th>date</th>\n      <th>team</th>\n      <th>name</th>\n      <th>athlete_id</th>\n      <th>number</th>\n      <th>yards</th>\n      <th>yards_per_attempt</th>\n      <th>touchdowns</th>\n      <th>interceptions</th>\n      <th>sacks</th>\n      <th>adjusted_qbr</th>\n      <th>passer_rating</th>\n      <th>completions</th>\n      <th>attempts</th>\n      <th>times_sacked</th>\n      <th>sack_yards</th>\n      <th>completion_%</th>\n      <th>yards_per_completion</th>\n      <th>touchdown_%</th>\n    </tr>\n  </thead>\n  <tbody>\n    <tr>\n      <th>0</th>\n      <td>2024-10-11T00:15Z</td>\n      <td>San Francisco 49ers</td>\n      <td>Brock Purdy</td>\n      <td>4361741</td>\n      <td>13</td>\n      <td>255</td>\n      <td>9.1</td>\n      <td>3</td>\n      <td>0</td>\n      <td>0-0</td>\n      <td>90.5</td>\n      <td>129.3</td>\n      <td>18</td>\n      <td>28</td>\n      <td>0</td>\n      <td>0</td>\n      <td>64.285714</td>\n      <td>14.166667</td>\n      <td>10.714286</td>\n    </tr>\n    <tr>\n      <th>1</th>\n      <td>2024-10-11T00:15Z</td>\n      <td>Seattle Seahawks</td>\n      <td>Geno Smith</td>\n      <td>15864</td>\n      <td>7</td>\n      <td>312</td>\n      <td>6.0</td>\n      <td>1</td>\n      <td>2</td>\n      <td>1-6</td>\n      <td>53.1</td>\n      <td>65.5</td>\n      <td>30</td>\n      <td>52</td>\n      <td>1</td>\n      <td>6</td>\n      <td>57.692308</td>\n      <td>10.400000</td>\n      <td>1.923077</td>\n    </tr>\n    <tr>\n      <th>2</th>\n      <td>2024-10-13T13:30Z</td>\n      <td>Jacksonville Jaguars</td>\n      <td>Trevor Lawrence</td>\n      <td>4360310</td>\n      <td>16</td>\n      <td>234</td>\n      <td>6.7</td>\n      <td>2</td>\n      <td>1</td>\n      <td>3-20</td>\n      <td>66.6</td>\n      <td>91.8</td>\n      <td>23</td>\n      <td>35</td>\n      <td>3</td>\n      <td>20</td>\n      <td>65.714286</td>\n      <td>10.173913</td>\n      <td>5.714286</td>\n    </tr>\n    <tr>\n      <th>3</th>\n      <td>2024-10-13T13:30Z</td>\n      <td>Jacksonville Jaguars</td>\n      <td>Mac Jones</td>\n      <td>4241464</td>\n      <td>10</td>\n      <td>6</td>\n      <td>6.0</td>\n      <td>0</td>\n      <td>0</td>\n      <td>1-10</td>\n      <td>8.1</td>\n      <td>91.7</td>\n      <td>1</td>\n      <td>1</td>\n      <td>1</td>\n      <td>10</td>\n      <td>100.000000</td>\n      <td>6.000000</td>\n      <td>0.000000</td>\n    </tr>\n    <tr>\n      <th>4</th>\n      <td>2024-10-13T13:30Z</td>\n      <td>Chicago Bears</td>\n      <td>Caleb Williams</td>\n      <td>4431611</td>\n      <td>18</td>\n      <td>226</td>\n      <td>7.8</td>\n      <td>4</td>\n      <td>1</td>\n      <td>3-5</td>\n      <td>88.4</td>\n      <td>124.4</td>\n      <td>23</td>\n      <td>29</td>\n      <td>3</td>\n      <td>5</td>\n      <td>79.310345</td>\n      <td>9.826087</td>\n      <td>13.793103</td>\n    </tr>\n    <tr>\n      <th>...</th>\n      <td>...</td>\n      <td>...</td>\n      <td>...</td>\n      <td>...</td>\n      <td>...</td>\n      <td>...</td>\n      <td>...</td>\n      <td>...</td>\n      <td>...</td>\n      <td>...</td>\n      <td>...</td>\n      <td>...</td>\n      <td>...</td>\n      <td>...</td>\n      <td>...</td>\n      <td>...</td>\n      <td>...</td>\n      <td>...</td>\n      <td>...</td>\n    </tr>\n    <tr>\n      <th>215</th>\n      <td>2024-09-09T00:20Z</td>\n      <td>Detroit Lions</td>\n      <td>Jared Goff</td>\n      <td>3046779</td>\n      <td>16</td>\n      <td>217</td>\n      <td>7.8</td>\n      <td>1</td>\n      <td>1</td>\n      <td>2-17</td>\n      <td>30.8</td>\n      <td>85.0</td>\n      <td>18</td>\n      <td>28</td>\n      <td>2</td>\n      <td>17</td>\n      <td>64.285714</td>\n      <td>12.055556</td>\n      <td>3.571429</td>\n    </tr>\n    <tr>\n      <th>216</th>\n      <td>2024-09-10T00:15Z</td>\n      <td>New York Jets</td>\n      <td>Aaron Rodgers</td>\n      <td>8439</td>\n      <td>8</td>\n      <td>167</td>\n      <td>8.0</td>\n      <td>1</td>\n      <td>1</td>\n      <td>1-5</td>\n      <td>52.3</td>\n      <td>82.8</td>\n      <td>13</td>\n      <td>21</td>\n      <td>1</td>\n      <td>5</td>\n      <td>61.904762</td>\n      <td>12.846154</td>\n      <td>4.761905</td>\n    </tr>\n    <tr>\n      <th>217</th>\n      <td>2024-09-10T00:15Z</td>\n      <td>New York Jets</td>\n      <td>Tyrod Taylor</td>\n      <td>14163</td>\n      <td>2</td>\n      <td>36</td>\n      <td>4.5</td>\n      <td>1</td>\n      <td>0</td>\n      <td>0-0</td>\n      <td>96.1</td>\n      <td>122.9</td>\n      <td>6</td>\n      <td>8</td>\n      <td>0</td>\n      <td>0</td>\n      <td>75.000000</td>\n      <td>6.000000</td>\n      <td>12.500000</td>\n    </tr>\n    <tr>\n      <th>218</th>\n      <td>2024-09-10T00:15Z</td>\n      <td>San Francisco 49ers</td>\n      <td>Brock Purdy</td>\n      <td>4361741</td>\n      <td>13</td>\n      <td>231</td>\n      <td>8.0</td>\n      <td>0</td>\n      <td>0</td>\n      <td>2-6</td>\n      <td>87.4</td>\n      <td>89.9</td>\n      <td>19</td>\n      <td>29</td>\n      <td>2</td>\n      <td>6</td>\n      <td>65.517241</td>\n      <td>12.157895</td>\n      <td>0.000000</td>\n    </tr>\n    <tr>\n      <th>219</th>\n      <td>2024-09-10T00:15Z</td>\n      <td>San Francisco 49ers</td>\n      <td>Deebo Samuel Sr.</td>\n      <td>3126486</td>\n      <td>1</td>\n      <td>0</td>\n      <td>0.0</td>\n      <td>0</td>\n      <td>0</td>\n      <td>1-4</td>\n      <td>0.0</td>\n      <td>0.0</td>\n      <td>0</td>\n      <td>0</td>\n      <td>1</td>\n      <td>4</td>\n      <td>NaN</td>\n      <td>NaN</td>\n      <td>NaN</td>\n    </tr>\n  </tbody>\n</table>\n<p>220 rows × 19 columns</p>\n</div>"
     },
     "execution_count": 6,
     "metadata": {},
     "output_type": "execute_result"
    }
   ],
   "source": [
    "\n",
    "pb"
   ],
   "metadata": {
    "collapsed": false,
    "ExecuteTime": {
     "end_time": "2024-10-14T18:09:12.789457Z",
     "start_time": "2024-10-14T18:09:12.764229Z"
    }
   },
   "id": "c0ffb5296df1ef9b"
  },
  {
   "cell_type": "code",
   "execution_count": 52,
   "outputs": [],
   "source": [],
   "metadata": {
    "collapsed": false,
    "ExecuteTime": {
     "end_time": "2024-10-13T04:45:30.291641Z",
     "start_time": "2024-10-13T04:45:30.286383Z"
    }
   },
   "id": "8cfbbba7da203ed5"
  },
  {
   "cell_type": "code",
   "execution_count": 5,
   "outputs": [
    {
     "name": "stdout",
     "output_type": "stream",
     "text": [
      "https://site.api.espn.com/apis/site/v2/sports/football/nfl/scoreboard?limit=1000&dates=2024&seasontype=2&week=1\n",
      "https://site.api.espn.com/apis/site/v2/sports/football/nfl/scoreboard?limit=1000&dates=2024&seasontype=2&week=2\n",
      "https://site.api.espn.com/apis/site/v2/sports/football/nfl/scoreboard?limit=1000&dates=2024&seasontype=2&week=3\n",
      "https://site.api.espn.com/apis/site/v2/sports/football/nfl/scoreboard?limit=1000&dates=2024&seasontype=2&week=4\n",
      "https://site.api.espn.com/apis/site/v2/sports/football/nfl/scoreboard?limit=1000&dates=2024&seasontype=2&week=5\n",
      "https://site.api.espn.com/apis/site/v2/sports/football/nfl/scoreboard?limit=1000&dates=2024&seasontype=2&week=6\n",
      "https://site.api.espn.com/apis/site/v2/sports/football/nfl/scoreboard?limit=1000&dates=2024&seasontype=2&week=7\n",
      "https://site.api.espn.com/apis/site/v2/sports/football/nfl/scoreboard?limit=1000&dates=2024&seasontype=2&week=8\n",
      "https://site.api.espn.com/apis/site/v2/sports/football/nfl/scoreboard?limit=1000&dates=2024&seasontype=2&week=9\n",
      "https://site.api.espn.com/apis/site/v2/sports/football/nfl/scoreboard?limit=1000&dates=2024&seasontype=2&week=10\n",
      "https://site.api.espn.com/apis/site/v2/sports/football/nfl/scoreboard?limit=1000&dates=2024&seasontype=2&week=11\n",
      "https://site.api.espn.com/apis/site/v2/sports/football/nfl/scoreboard?limit=1000&dates=2024&seasontype=2&week=12\n",
      "https://site.api.espn.com/apis/site/v2/sports/football/nfl/scoreboard?limit=1000&dates=2024&seasontype=2&week=13\n",
      "https://site.api.espn.com/apis/site/v2/sports/football/nfl/scoreboard?limit=1000&dates=2024&seasontype=2&week=14\n",
      "https://site.api.espn.com/apis/site/v2/sports/football/nfl/scoreboard?limit=1000&dates=2024&seasontype=2&week=15\n",
      "https://site.api.espn.com/apis/site/v2/sports/football/nfl/scoreboard?limit=1000&dates=2024&seasontype=2&week=16\n",
      "https://site.api.espn.com/apis/site/v2/sports/football/nfl/scoreboard?limit=1000&dates=2024&seasontype=2&week=17\n",
      "https://site.api.espn.com/apis/site/v2/sports/football/nfl/scoreboard?limit=1000&dates=2024&seasontype=2&week=18\n"
     ]
    },
    {
     "name": "stderr",
     "output_type": "stream",
     "text": [
      "100%|██████████| 91/91 [00:18<00:00,  4.97it/s]\n"
     ]
    },
    {
     "name": "stdout",
     "output_type": "stream",
     "text": [
      "https://sports.core.api.espn.com/v2/sports/football/leagues/nfl/seasons/2024/types/2/weeks/1/qbr/10000?page=1\n",
      "https://sports.core.api.espn.com/v2/sports/football/leagues/nfl/seasons/2024/types/2/weeks/1/qbr/10000?page=2\n",
      "https://sports.core.api.espn.com/v2/sports/football/leagues/nfl/seasons/2024/types/2/weeks/2/qbr/10000?page=1\n",
      "https://sports.core.api.espn.com/v2/sports/football/leagues/nfl/seasons/2024/types/2/weeks/2/qbr/10000?page=2\n",
      "https://sports.core.api.espn.com/v2/sports/football/leagues/nfl/seasons/2024/types/2/weeks/3/qbr/10000?page=1\n",
      "https://sports.core.api.espn.com/v2/sports/football/leagues/nfl/seasons/2024/types/2/weeks/3/qbr/10000?page=2\n",
      "https://sports.core.api.espn.com/v2/sports/football/leagues/nfl/seasons/2024/types/2/weeks/4/qbr/10000?page=1\n",
      "https://sports.core.api.espn.com/v2/sports/football/leagues/nfl/seasons/2024/types/2/weeks/4/qbr/10000?page=2\n",
      "https://sports.core.api.espn.com/v2/sports/football/leagues/nfl/seasons/2024/types/2/weeks/5/qbr/10000?page=1\n",
      "https://sports.core.api.espn.com/v2/sports/football/leagues/nfl/seasons/2024/types/2/weeks/5/qbr/10000?page=2\n",
      "https://sports.core.api.espn.com/v2/sports/football/leagues/nfl/seasons/2024/types/2/weeks/6/qbr/10000?page=1\n",
      "https://sports.core.api.espn.com/v2/sports/football/leagues/nfl/seasons/2024/types/2/weeks/6/qbr/10000?page=2\n",
      "https://sports.core.api.espn.com/v2/sports/football/leagues/nfl/seasons/2024/types/2/weeks/7/qbr/10000?page=1\n",
      "https://sports.core.api.espn.com/v2/sports/football/leagues/nfl/seasons/2024/types/2/weeks/8/qbr/10000?page=1\n",
      "https://sports.core.api.espn.com/v2/sports/football/leagues/nfl/seasons/2024/types/2/weeks/9/qbr/10000?page=1\n",
      "https://sports.core.api.espn.com/v2/sports/football/leagues/nfl/seasons/2024/types/2/weeks/10/qbr/10000?page=1\n",
      "https://sports.core.api.espn.com/v2/sports/football/leagues/nfl/seasons/2024/types/2/weeks/11/qbr/10000?page=1\n",
      "https://sports.core.api.espn.com/v2/sports/football/leagues/nfl/seasons/2024/types/2/weeks/12/qbr/10000?page=1\n",
      "https://sports.core.api.espn.com/v2/sports/football/leagues/nfl/seasons/2024/types/2/weeks/13/qbr/10000?page=1\n",
      "https://sports.core.api.espn.com/v2/sports/football/leagues/nfl/seasons/2024/types/2/weeks/14/qbr/10000?page=1\n",
      "https://sports.core.api.espn.com/v2/sports/football/leagues/nfl/seasons/2024/types/2/weeks/15/qbr/10000?page=1\n",
      "https://sports.core.api.espn.com/v2/sports/football/leagues/nfl/seasons/2024/types/2/weeks/16/qbr/10000?page=1\n",
      "https://sports.core.api.espn.com/v2/sports/football/leagues/nfl/seasons/2024/types/2/weeks/17/qbr/10000?page=1\n",
      "https://sports.core.api.espn.com/v2/sports/football/leagues/nfl/seasons/2024/types/2/weeks/18/qbr/10000?page=1\n"
     ]
    },
    {
     "data": {
      "text/plain": "    athlete_id         id points_added pass_epa rush_epa sack_epa penalty_epa  \\\n0         8439  401671696         -0.3      1.4      0.0     -0.5         0.0   \n1        12483  401671792          1.8      5.8      0.0     -0.6         1.0   \n2        14880  401671744         -1.7      0.6      0.0     -0.5         0.2   \n3        15864  401671664          3.1      2.8      0.0     -0.6         0.7   \n4        16757  401671734          3.7      3.2      0.1     -0.2         0.3   \n..         ...        ...          ...      ...      ...      ...         ...   \n176    4426339  401671735         -2.8     -0.2      0.0     -1.8         0.3   \n177    4426348  401671625          3.3      6.1     -0.5     -1.2         0.3   \n178    4431452  401671619         -2.9     -0.3      0.0     -1.5        -0.3   \n179    4431611  401671802          7.4      7.6      0.5     -0.9         0.6   \n180    4432577  401671619          3.7      4.4      0.0     -0.5         1.1   \n\n    total_epa qb_plays  cwa  ... int_epa yac_epa run_epa scramble_epa  \\\n0         1.4       22  0.0  ...     0.0     0.2     0.0          0.0   \n1         6.8       56  0.0  ...     0.0     0.0     0.0          0.0   \n2         0.8       29  0.0  ...     0.0    -0.1     0.0          0.0   \n3         6.1       36  0.0  ...     0.0    -0.4     2.6          2.5   \n4         3.8       28  0.0  ...     0.0    -0.4     0.2          0.1   \n..        ...      ...  ...  ...     ...     ...     ...          ...   \n176       1.3       51  0.0  ...     0.0     0.0     1.3          1.3   \n177       7.0       47  0.0  ...     0.0    -0.1     0.6          0.8   \n178       0.8       46  0.0  ...     0.0     0.5     1.4          1.1   \n179       9.7       39  0.0  ...     0.0     0.2     1.5          0.9   \n180       6.2       37  0.0  ...     0.0    -0.4     0.7          0.6   \n\n    expected_sack_epa fumble_epa defense_faced_epa total_qbr unq_rank  \\\n0                 0.0        0.0              52.0      52.3       19   \n1                 0.0        0.0              54.1      65.3       15   \n2                 0.0        0.0              47.0      33.8       26   \n3                 0.0        0.0              48.8      78.7       10   \n4                 0.0        0.0              68.3      75.9       12   \n..                ...        ...               ...       ...      ...   \n176               0.0        0.0              55.6      27.7       25   \n177               0.0        0.0              56.5      74.2        9   \n178               0.0       -0.7              48.8      31.1       23   \n179               0.0        0.0              70.3      88.4        2   \n180               0.0        0.0              65.0      74.5        8   \n\n                 name  \n0       Aaron Rodgers  \n1    Matthew Stafford  \n2        Kirk Cousins  \n3          Geno Smith  \n4          Derek Carr  \n..                ...  \n176   Spencer Rattler  \n177    Jayden Daniels  \n178        Drake Maye  \n179    Caleb Williams  \n180       C.J. Stroud  \n\n[181 rows x 22 columns]",
      "text/html": "<div>\n<style scoped>\n    .dataframe tbody tr th:only-of-type {\n        vertical-align: middle;\n    }\n\n    .dataframe tbody tr th {\n        vertical-align: top;\n    }\n\n    .dataframe thead th {\n        text-align: right;\n    }\n</style>\n<table border=\"1\" class=\"dataframe\">\n  <thead>\n    <tr style=\"text-align: right;\">\n      <th></th>\n      <th>athlete_id</th>\n      <th>id</th>\n      <th>points_added</th>\n      <th>pass_epa</th>\n      <th>rush_epa</th>\n      <th>sack_epa</th>\n      <th>penalty_epa</th>\n      <th>total_epa</th>\n      <th>qb_plays</th>\n      <th>cwa</th>\n      <th>...</th>\n      <th>int_epa</th>\n      <th>yac_epa</th>\n      <th>run_epa</th>\n      <th>scramble_epa</th>\n      <th>expected_sack_epa</th>\n      <th>fumble_epa</th>\n      <th>defense_faced_epa</th>\n      <th>total_qbr</th>\n      <th>unq_rank</th>\n      <th>name</th>\n    </tr>\n  </thead>\n  <tbody>\n    <tr>\n      <th>0</th>\n      <td>8439</td>\n      <td>401671696</td>\n      <td>-0.3</td>\n      <td>1.4</td>\n      <td>0.0</td>\n      <td>-0.5</td>\n      <td>0.0</td>\n      <td>1.4</td>\n      <td>22</td>\n      <td>0.0</td>\n      <td>...</td>\n      <td>0.0</td>\n      <td>0.2</td>\n      <td>0.0</td>\n      <td>0.0</td>\n      <td>0.0</td>\n      <td>0.0</td>\n      <td>52.0</td>\n      <td>52.3</td>\n      <td>19</td>\n      <td>Aaron Rodgers</td>\n    </tr>\n    <tr>\n      <th>1</th>\n      <td>12483</td>\n      <td>401671792</td>\n      <td>1.8</td>\n      <td>5.8</td>\n      <td>0.0</td>\n      <td>-0.6</td>\n      <td>1.0</td>\n      <td>6.8</td>\n      <td>56</td>\n      <td>0.0</td>\n      <td>...</td>\n      <td>0.0</td>\n      <td>0.0</td>\n      <td>0.0</td>\n      <td>0.0</td>\n      <td>0.0</td>\n      <td>0.0</td>\n      <td>54.1</td>\n      <td>65.3</td>\n      <td>15</td>\n      <td>Matthew Stafford</td>\n    </tr>\n    <tr>\n      <th>2</th>\n      <td>14880</td>\n      <td>401671744</td>\n      <td>-1.7</td>\n      <td>0.6</td>\n      <td>0.0</td>\n      <td>-0.5</td>\n      <td>0.2</td>\n      <td>0.8</td>\n      <td>29</td>\n      <td>0.0</td>\n      <td>...</td>\n      <td>0.0</td>\n      <td>-0.1</td>\n      <td>0.0</td>\n      <td>0.0</td>\n      <td>0.0</td>\n      <td>0.0</td>\n      <td>47.0</td>\n      <td>33.8</td>\n      <td>26</td>\n      <td>Kirk Cousins</td>\n    </tr>\n    <tr>\n      <th>3</th>\n      <td>15864</td>\n      <td>401671664</td>\n      <td>3.1</td>\n      <td>2.8</td>\n      <td>0.0</td>\n      <td>-0.6</td>\n      <td>0.7</td>\n      <td>6.1</td>\n      <td>36</td>\n      <td>0.0</td>\n      <td>...</td>\n      <td>0.0</td>\n      <td>-0.4</td>\n      <td>2.6</td>\n      <td>2.5</td>\n      <td>0.0</td>\n      <td>0.0</td>\n      <td>48.8</td>\n      <td>78.7</td>\n      <td>10</td>\n      <td>Geno Smith</td>\n    </tr>\n    <tr>\n      <th>4</th>\n      <td>16757</td>\n      <td>401671734</td>\n      <td>3.7</td>\n      <td>3.2</td>\n      <td>0.1</td>\n      <td>-0.2</td>\n      <td>0.3</td>\n      <td>3.8</td>\n      <td>28</td>\n      <td>0.0</td>\n      <td>...</td>\n      <td>0.0</td>\n      <td>-0.4</td>\n      <td>0.2</td>\n      <td>0.1</td>\n      <td>0.0</td>\n      <td>0.0</td>\n      <td>68.3</td>\n      <td>75.9</td>\n      <td>12</td>\n      <td>Derek Carr</td>\n    </tr>\n    <tr>\n      <th>...</th>\n      <td>...</td>\n      <td>...</td>\n      <td>...</td>\n      <td>...</td>\n      <td>...</td>\n      <td>...</td>\n      <td>...</td>\n      <td>...</td>\n      <td>...</td>\n      <td>...</td>\n      <td>...</td>\n      <td>...</td>\n      <td>...</td>\n      <td>...</td>\n      <td>...</td>\n      <td>...</td>\n      <td>...</td>\n      <td>...</td>\n      <td>...</td>\n      <td>...</td>\n      <td>...</td>\n    </tr>\n    <tr>\n      <th>176</th>\n      <td>4426339</td>\n      <td>401671735</td>\n      <td>-2.8</td>\n      <td>-0.2</td>\n      <td>0.0</td>\n      <td>-1.8</td>\n      <td>0.3</td>\n      <td>1.3</td>\n      <td>51</td>\n      <td>0.0</td>\n      <td>...</td>\n      <td>0.0</td>\n      <td>0.0</td>\n      <td>1.3</td>\n      <td>1.3</td>\n      <td>0.0</td>\n      <td>0.0</td>\n      <td>55.6</td>\n      <td>27.7</td>\n      <td>25</td>\n      <td>Spencer Rattler</td>\n    </tr>\n    <tr>\n      <th>177</th>\n      <td>4426348</td>\n      <td>401671625</td>\n      <td>3.3</td>\n      <td>6.1</td>\n      <td>-0.5</td>\n      <td>-1.2</td>\n      <td>0.3</td>\n      <td>7.0</td>\n      <td>47</td>\n      <td>0.0</td>\n      <td>...</td>\n      <td>0.0</td>\n      <td>-0.1</td>\n      <td>0.6</td>\n      <td>0.8</td>\n      <td>0.0</td>\n      <td>0.0</td>\n      <td>56.5</td>\n      <td>74.2</td>\n      <td>9</td>\n      <td>Jayden Daniels</td>\n    </tr>\n    <tr>\n      <th>178</th>\n      <td>4431452</td>\n      <td>401671619</td>\n      <td>-2.9</td>\n      <td>-0.3</td>\n      <td>0.0</td>\n      <td>-1.5</td>\n      <td>-0.3</td>\n      <td>0.8</td>\n      <td>46</td>\n      <td>0.0</td>\n      <td>...</td>\n      <td>0.0</td>\n      <td>0.5</td>\n      <td>1.4</td>\n      <td>1.1</td>\n      <td>0.0</td>\n      <td>-0.7</td>\n      <td>48.8</td>\n      <td>31.1</td>\n      <td>23</td>\n      <td>Drake Maye</td>\n    </tr>\n    <tr>\n      <th>179</th>\n      <td>4431611</td>\n      <td>401671802</td>\n      <td>7.4</td>\n      <td>7.6</td>\n      <td>0.5</td>\n      <td>-0.9</td>\n      <td>0.6</td>\n      <td>9.7</td>\n      <td>39</td>\n      <td>0.0</td>\n      <td>...</td>\n      <td>0.0</td>\n      <td>0.2</td>\n      <td>1.5</td>\n      <td>0.9</td>\n      <td>0.0</td>\n      <td>0.0</td>\n      <td>70.3</td>\n      <td>88.4</td>\n      <td>2</td>\n      <td>Caleb Williams</td>\n    </tr>\n    <tr>\n      <th>180</th>\n      <td>4432577</td>\n      <td>401671619</td>\n      <td>3.7</td>\n      <td>4.4</td>\n      <td>0.0</td>\n      <td>-0.5</td>\n      <td>1.1</td>\n      <td>6.2</td>\n      <td>37</td>\n      <td>0.0</td>\n      <td>...</td>\n      <td>0.0</td>\n      <td>-0.4</td>\n      <td>0.7</td>\n      <td>0.6</td>\n      <td>0.0</td>\n      <td>0.0</td>\n      <td>65.0</td>\n      <td>74.5</td>\n      <td>8</td>\n      <td>C.J. Stroud</td>\n    </tr>\n  </tbody>\n</table>\n<p>181 rows × 22 columns</p>\n</div>"
     },
     "execution_count": 5,
     "metadata": {},
     "output_type": "execute_result"
    }
   ],
   "source": [
    "fetch.qb_epa(year = 2024)"
   ],
   "metadata": {
    "collapsed": false,
    "ExecuteTime": {
     "end_time": "2024-10-14T18:25:16.905007Z",
     "start_time": "2024-10-14T18:24:45.401313Z"
    }
   },
   "id": "451640ce07a9e0cd"
  },
  {
   "cell_type": "code",
   "execution_count": 20,
   "outputs": [],
   "source": [
    "|"
   ],
   "metadata": {
    "collapsed": false,
    "ExecuteTime": {
     "end_time": "2024-10-12T22:29:07.606202Z",
     "start_time": "2024-10-12T22:29:07.601539Z"
    }
   },
   "id": "538306549c41f90"
  },
  {
   "cell_type": "code",
   "execution_count": 10,
   "outputs": [],
   "source": [
    "\n"
   ],
   "metadata": {
    "collapsed": false,
    "ExecuteTime": {
     "end_time": "2024-10-12T22:22:45.734399Z",
     "start_time": "2024-10-12T22:22:45.729859Z"
    }
   },
   "id": "3659d4dc0889b87d"
  },
  {
   "cell_type": "code",
   "execution_count": 10,
   "outputs": [],
   "source": [],
   "metadata": {
    "collapsed": false,
    "ExecuteTime": {
     "end_time": "2024-10-12T22:22:45.734486Z",
     "start_time": "2024-10-12T22:22:45.731528Z"
    }
   },
   "id": "786ad06c953129c"
  },
  {
   "cell_type": "code",
   "execution_count": 4,
   "outputs": [],
   "source": [],
   "metadata": {
    "collapsed": false,
    "ExecuteTime": {
     "end_time": "2024-10-12T21:36:00.607449Z",
     "start_time": "2024-10-12T21:36:00.604784Z"
    }
   },
   "id": "aba13dff0c3c7865"
  },
  {
   "cell_type": "code",
   "execution_count": 11,
   "outputs": [],
   "source": [],
   "metadata": {
    "collapsed": false,
    "ExecuteTime": {
     "end_time": "2024-10-12T21:18:33.392569Z",
     "start_time": "2024-10-12T21:18:33.379862Z"
    }
   },
   "id": "d6e3068182196ee2"
  },
  {
   "cell_type": "code",
   "execution_count": 1,
   "outputs": [],
   "source": [],
   "metadata": {
    "collapsed": false,
    "ExecuteTime": {
     "end_time": "2024-10-12T18:34:39.763988Z",
     "start_time": "2024-10-12T18:34:39.748200Z"
    }
   },
   "id": "2485d885eeb3950c"
  },
  {
   "cell_type": "code",
   "execution_count": 9,
   "outputs": [],
   "source": [
    "\n"
   ],
   "metadata": {
    "collapsed": false,
    "ExecuteTime": {
     "end_time": "2024-10-12T20:03:32.894229Z",
     "start_time": "2024-10-12T20:03:32.890420Z"
    }
   },
   "id": "7ccfcfb1834c30c7"
  },
  {
   "cell_type": "code",
   "execution_count": 11,
   "outputs": [],
   "source": [],
   "metadata": {
    "collapsed": false,
    "ExecuteTime": {
     "end_time": "2024-10-12T21:18:35.856916Z",
     "start_time": "2024-10-12T21:18:35.840933Z"
    }
   },
   "id": "573cda8dbfdd2b71"
  },
  {
   "cell_type": "code",
   "execution_count": 11,
   "outputs": [],
   "source": [
    "\n",
    "stat_dict = {'team':[], 'avg_point_differential':[], 'avg_margin_of_victory':[], 'avg_margin_of_defeat':[]}\n",
    "\n",
    "for team in boxscore.team.unique():\n",
    "    team_df = boxscore[boxscore['team'] == team]\n",
    "    wins_df = team_df[team_df['result'] == 'W']\n",
    "    loss_df = team_df[team_df['result'] == 'L']\n",
    "    avg_point_differential = team_df['point_differential'].mean()\n",
    "    avg_margin_of_victory = wins_df['point_differential'].mean()\n",
    "    avg_margin_of_defeat = loss_df['point_differential'].mean()\n",
    "    stat_dict['team'].append(team)\n",
    "    stat_dict['avg_point_differential'].append(avg_point_differential)\n",
    "    stat_dict['avg_margin_of_victory'].append(avg_margin_of_victory)\n",
    "    stat_dict['avg_margin_of_defeat'].append(avg_margin_of_defeat)\n",
    "\n",
    "stat_df = pd.DataFrame(stat_dict)\n",
    "stat_df\n"
   ],
   "metadata": {
    "collapsed": false,
    "ExecuteTime": {
     "end_time": "2024-10-14T16:32:03.543115Z",
     "start_time": "2024-10-14T16:32:03.534723Z"
    }
   },
   "id": "62e5c445bf9e090d"
  },
  {
   "cell_type": "code",
   "execution_count": 11,
   "outputs": [],
   "source": [
    "# Initialize the dictionary to store results\n",
    "\n",
    "epa_dict = {'athlete_id':[], 'id':[], 'points_added':[], 'pass_epa':[], 'rush_epa':[], 'sack_epa':[], \n",
    "            'penalty_epa':[], 'total_epa':[], 'qb_plays':[], 'cwa':[], 'raw_qbr':[], 'expected_pass_epa':[], \n",
    "            'int_epa':[], 'yac_epa':[], 'run_epa':[], 'scramble_epa':[], 'expected_sack_epa':[], 'fumble_epa':[],\n",
    "            'defense_faced_epa':[], 'total_qbr':[], 'unq_rank':[]}\n",
    "\n",
    "base_url = f'https://sports.core.api.espn.com/v2/sports/football/leagues/nfl/seasons/2024/types/2/weeks/5/qbr/10000'\n",
    "\n",
    "\n",
    "def extract_id(url):\n",
    "    match = re.search(r'/(\\d+)(?:\\?|$)', url)\n",
    "    if match:\n",
    "        return match.group(1)\n",
    "    return None\n",
    "\n",
    "\n",
    "page_index = 1 \n",
    "while True:\n",
    "    url = f\"{base_url}?page={page_index}\"\n",
    "    response = requests.get(url)\n",
    "    if response.status_code == 200:\n",
    "        data = response.json()\n",
    "\n",
    "        for x in data['items']:\n",
    "            athlete_url = x['athlete']['$ref']\n",
    "            event_url = x['event']['$ref']\n",
    "            athlete_id = extract_id(athlete_url)\n",
    "            id = extract_id(event_url)\n",
    "            points_added = x['splits']['categories'][0]['stats'][0]['displayValue']\n",
    "            pass_epa = x['splits']['categories'][0]['stats'][1]['displayValue']\n",
    "            rush_epa = x['splits']['categories'][0]['stats'][2]['displayValue']\n",
    "            sack_epa = x['splits']['categories'][0]['stats'][3]['displayValue']\n",
    "            penalty_epa = x['splits']['categories'][0]['stats'][4]['displayValue']\n",
    "            total_epa = x['splits']['categories'][0]['stats'][5]['displayValue']\n",
    "            qb_plays = x['splits']['categories'][0]['stats'][6]['displayValue']\n",
    "            cwa = x['splits']['categories'][0]['stats'][7]['displayValue']\n",
    "            raw_qbr = x['splits']['categories'][0]['stats'][8]['displayValue']\n",
    "            expected_pass_epa = x['splits']['categories'][0]['stats'][9]['displayValue']\n",
    "            int_epa = x['splits']['categories'][0]['stats'][10]['displayValue']\n",
    "            yac_epa = x['splits']['categories'][0]['stats'][11]['displayValue']\n",
    "            run_epa = x['splits']['categories'][0]['stats'][12]['displayValue']\n",
    "            scramble_epa = x['splits']['categories'][0]['stats'][13]['displayValue']\n",
    "            expected_sack_epa = x['splits']['categories'][0]['stats'][14]['displayValue']\n",
    "            fumble_epa = x['splits']['categories'][0]['stats'][15]['displayValue']\n",
    "            defense_faced_epa = x['splits']['categories'][0]['stats'][16]['displayValue']\n",
    "            total_qbr = x['splits']['categories'][0]['stats'][17]['displayValue']\n",
    "            unq_rank = x['splits']['categories'][0]['stats'][18]['displayValue']\n",
    "\n",
    "            epa_dict['athlete_id'].append(athlete_id)\n",
    "            epa_dict['id'].append(id)\n",
    "            epa_dict['points_added'].append(points_added)\n",
    "            epa_dict['pass_epa'].append(pass_epa)\n",
    "            epa_dict['rush_epa'].append(rush_epa)\n",
    "            epa_dict['sack_epa'].append(sack_epa)\n",
    "            epa_dict['penalty_epa'].append(penalty_epa)\n",
    "            epa_dict['total_epa'].append(total_epa)\n",
    "            epa_dict['qb_plays'].append(qb_plays)\n",
    "            epa_dict['cwa'].append(cwa)\n",
    "            epa_dict['raw_qbr'].append(raw_qbr)\n",
    "            epa_dict['expected_pass_epa'].append(expected_pass_epa)\n",
    "            epa_dict['int_epa'].append(int_epa)\n",
    "            epa_dict['yac_epa'].append(yac_epa)\n",
    "            epa_dict['run_epa'].append(run_epa)\n",
    "            epa_dict['scramble_epa'].append(scramble_epa)\n",
    "            epa_dict['expected_sack_epa'].append(expected_sack_epa)\n",
    "            epa_dict['fumble_epa'].append(fumble_epa)\n",
    "            epa_dict['defense_faced_epa'].append(defense_faced_epa)\n",
    "            epa_dict['total_qbr'].append(total_qbr)\n",
    "            epa_dict['unq_rank'].append(unq_rank)\n",
    "\n",
    "        if page_index >= data.get('pageCount', 1):\n",
    "            break \n",
    "        page_index += 1\n",
    "    \n",
    "    else:\n",
    "        print(f\"Failed to fetch data from {url}\")\n",
    "        break\n",
    "\n",
    "epa_df = pd.DataFrame(epa_dict)\n"
   ],
   "metadata": {
    "collapsed": false,
    "ExecuteTime": {
     "end_time": "2024-10-14T16:32:03.992589Z",
     "start_time": "2024-10-14T16:32:03.989888Z"
    }
   },
   "id": "bbc33fe60ac6a0a5"
  },
  {
   "cell_type": "code",
   "execution_count": 11,
   "outputs": [],
   "source": [
    "epa_d"
   ],
   "metadata": {
    "collapsed": false,
    "ExecuteTime": {
     "end_time": "2024-10-14T16:31:58.554419Z",
     "start_time": "2024-10-14T16:31:58.541337Z"
    }
   },
   "id": "247cac0ec9137bb5"
  },
  {
   "cell_type": "code",
   "execution_count": 11,
   "outputs": [],
   "source": [],
   "metadata": {
    "collapsed": false,
    "ExecuteTime": {
     "end_time": "2024-10-14T16:31:59.080835Z",
     "start_time": "2024-10-14T16:31:59.070375Z"
    }
   },
   "id": "88184997be9f2f9e"
  },
  {
   "cell_type": "code",
   "execution_count": 12,
   "outputs": [],
   "source": [],
   "metadata": {
    "collapsed": false,
    "ExecuteTime": {
     "end_time": "2024-10-08T03:26:11.520659Z",
     "start_time": "2024-10-08T03:26:11.496428Z"
    }
   },
   "id": "c06e207bd114ce68"
  },
  {
   "cell_type": "code",
   "execution_count": 24,
   "outputs": [],
   "source": [],
   "metadata": {
    "collapsed": false,
    "ExecuteTime": {
     "end_time": "2024-10-07T23:49:14.862142Z",
     "start_time": "2024-10-07T23:49:14.837809Z"
    }
   },
   "id": "6ee67305f8d9cd25"
  },
  {
   "cell_type": "code",
   "execution_count": 6,
   "outputs": [],
   "source": [],
   "metadata": {
    "collapsed": false,
    "ExecuteTime": {
     "end_time": "2024-10-05T14:16:23.260908Z",
     "start_time": "2024-10-05T14:16:23.254456Z"
    }
   },
   "id": "a4fe83b60321f83c"
  },
  {
   "cell_type": "markdown",
   "source": [],
   "metadata": {
    "collapsed": false
   },
   "id": "6e10abc99689289"
  },
  {
   "cell_type": "markdown",
   "source": [
    "    "
   ],
   "metadata": {
    "collapsed": false
   },
   "id": "a91e9209662b90a7"
  },
  {
   "cell_type": "code",
   "execution_count": 6,
   "outputs": [],
   "source": [],
   "metadata": {
    "collapsed": false,
    "ExecuteTime": {
     "end_time": "2024-10-05T14:16:18.274449Z",
     "start_time": "2024-10-05T14:16:18.271880Z"
    }
   },
   "id": "361f6053062a4b60"
  },
  {
   "cell_type": "code",
   "execution_count": 2,
   "outputs": [],
   "source": [],
   "metadata": {
    "collapsed": false,
    "ExecuteTime": {
     "end_time": "2024-10-03T19:50:55.764418Z",
     "start_time": "2024-10-03T19:50:55.757631Z"
    }
   },
   "id": "b25283740375e06b"
  },
  {
   "cell_type": "markdown",
   "source": [
    " "
   ],
   "metadata": {
    "collapsed": false
   },
   "id": "79d354ce0fd944e1"
  },
  {
   "cell_type": "code",
   "execution_count": 2,
   "outputs": [],
   "source": [],
   "metadata": {
    "collapsed": false,
    "ExecuteTime": {
     "end_time": "2024-10-03T19:50:59.753461Z",
     "start_time": "2024-10-03T19:50:59.742772Z"
    }
   },
   "id": "10712f09d0cffe03"
  },
  {
   "cell_type": "code",
   "execution_count": 1,
   "outputs": [],
   "source": [],
   "metadata": {
    "collapsed": false,
    "ExecuteTime": {
     "end_time": "2024-09-25T00:47:13.889717Z",
     "start_time": "2024-09-25T00:47:13.875425Z"
    }
   },
   "id": "4e220234adac7230"
  },
  {
   "cell_type": "code",
   "execution_count": 4,
   "outputs": [],
   "source": [],
   "metadata": {
    "collapsed": false,
    "ExecuteTime": {
     "end_time": "2024-09-25T00:50:53.156956Z",
     "start_time": "2024-09-25T00:50:53.139245Z"
    }
   },
   "id": "d9416f8526b1f4e6"
  },
  {
   "cell_type": "code",
   "execution_count": 4,
   "outputs": [],
   "source": [],
   "metadata": {
    "collapsed": false,
    "ExecuteTime": {
     "end_time": "2024-09-25T00:50:56.152345Z",
     "start_time": "2024-09-25T00:50:56.137888Z"
    }
   },
   "id": "13c65fcc74a78f60"
  },
  {
   "cell_type": "markdown",
   "source": [],
   "metadata": {
    "collapsed": false
   },
   "id": "13333f6b73df185b"
  },
  {
   "cell_type": "code",
   "execution_count": null,
   "outputs": [],
   "source": [],
   "metadata": {
    "collapsed": false
   },
   "id": "bbd06cd5dbb7fd55"
  },
  {
   "cell_type": "markdown",
   "source": [],
   "metadata": {
    "collapsed": false
   },
   "id": "cd6265fa45cd1f24"
  },
  {
   "cell_type": "markdown",
   "source": [],
   "metadata": {
    "collapsed": false
   },
   "id": "97bd8c6ebb380f1f"
  },
  {
   "cell_type": "code",
   "execution_count": 17,
   "outputs": [],
   "source": [],
   "metadata": {
    "collapsed": false,
    "ExecuteTime": {
     "end_time": "2024-09-20T03:49:17.737822Z",
     "start_time": "2024-09-20T03:49:17.708221Z"
    }
   },
   "id": "2bb6f3f919127843"
  },
  {
   "cell_type": "code",
   "execution_count": 17,
   "outputs": [],
   "source": [
    "\n"
   ],
   "metadata": {
    "collapsed": false,
    "ExecuteTime": {
     "end_time": "2024-09-20T03:49:17.738092Z",
     "start_time": "2024-09-20T03:49:17.714221Z"
    }
   },
   "id": "18d71cd4ab791960"
  },
  {
   "cell_type": "code",
   "execution_count": 3,
   "outputs": [],
   "source": [],
   "metadata": {
    "collapsed": false,
    "ExecuteTime": {
     "end_time": "2024-09-18T22:20:12.157898Z",
     "start_time": "2024-09-18T22:20:12.147192Z"
    }
   },
   "id": "7b91c464307da466"
  },
  {
   "cell_type": "code",
   "execution_count": 3,
   "outputs": [],
   "source": [],
   "metadata": {
    "collapsed": false,
    "ExecuteTime": {
     "end_time": "2024-09-18T22:20:12.379652Z",
     "start_time": "2024-09-18T22:20:12.370993Z"
    }
   },
   "id": "f9bfcca282d7537c"
  },
  {
   "cell_type": "code",
   "execution_count": 3,
   "outputs": [],
   "source": [],
   "metadata": {
    "collapsed": false,
    "ExecuteTime": {
     "end_time": "2024-09-18T22:20:12.596969Z",
     "start_time": "2024-09-18T22:20:12.556415Z"
    }
   },
   "id": "b912049296c01ed5"
  },
  {
   "cell_type": "code",
   "execution_count": 3,
   "outputs": [],
   "source": [],
   "metadata": {
    "collapsed": false,
    "ExecuteTime": {
     "end_time": "2024-09-18T22:20:12.942709Z",
     "start_time": "2024-09-18T22:20:12.907338Z"
    }
   },
   "id": "7311cfc949aaa8ac"
  },
  {
   "cell_type": "code",
   "execution_count": 3,
   "outputs": [],
   "source": [],
   "metadata": {
    "collapsed": false,
    "ExecuteTime": {
     "end_time": "2024-09-18T22:20:13.131142Z",
     "start_time": "2024-09-18T22:20:13.107989Z"
    }
   },
   "id": "f71e1b3bf3eab20a"
  },
  {
   "cell_type": "code",
   "execution_count": 3,
   "outputs": [],
   "source": [],
   "metadata": {
    "collapsed": false,
    "ExecuteTime": {
     "end_time": "2024-09-18T22:20:13.366260Z",
     "start_time": "2024-09-18T22:20:13.331571Z"
    }
   },
   "id": "25e1c8e4674f4f68"
  },
  {
   "cell_type": "code",
   "execution_count": 3,
   "outputs": [],
   "source": [],
   "metadata": {
    "collapsed": false,
    "ExecuteTime": {
     "end_time": "2024-09-18T22:20:13.545226Z",
     "start_time": "2024-09-18T22:20:13.514217Z"
    }
   },
   "id": "f6e442163c078cee"
  },
  {
   "cell_type": "code",
   "execution_count": 3,
   "outputs": [],
   "source": [],
   "metadata": {
    "collapsed": false,
    "ExecuteTime": {
     "end_time": "2024-09-18T22:20:13.713336Z",
     "start_time": "2024-09-18T22:20:13.681178Z"
    }
   },
   "id": "28e7905afd34ee3b"
  },
  {
   "cell_type": "code",
   "execution_count": null,
   "outputs": [],
   "source": [],
   "metadata": {
    "collapsed": false
   },
   "id": "edaed07d571eff52"
  }
 ],
 "metadata": {
  "kernelspec": {
   "display_name": "Python 3",
   "language": "python",
   "name": "python3"
  },
  "language_info": {
   "codemirror_mode": {
    "name": "ipython",
    "version": 2
   },
   "file_extension": ".py",
   "mimetype": "text/x-python",
   "name": "python",
   "nbconvert_exporter": "python",
   "pygments_lexer": "ipython2",
   "version": "2.7.6"
  }
 },
 "nbformat": 4,
 "nbformat_minor": 5
}
