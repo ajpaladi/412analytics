{
 "cells": [
  {
   "cell_type": "code",
   "execution_count": 11,
   "outputs": [],
   "source": [
    "import pandas as pd\n",
    "import requests\n",
    "from pprint import pprint\n",
    "import plotly_express as px\n",
    "from fouronetwo import Fetch\n",
    "fetch = Fetch()\n",
    "import re\n",
    "from tqdm import tqdm\n",
    "\n"
   ],
   "metadata": {
    "collapsed": false,
    "ExecuteTime": {
     "end_time": "2024-10-17T17:12:39.180791Z",
     "start_time": "2024-10-17T17:12:39.171169Z"
    }
   },
   "id": "81466365851f1193"
  },
  {
   "cell_type": "code",
   "execution_count": 11,
   "outputs": [],
   "source": [],
   "metadata": {
    "collapsed": false,
    "ExecuteTime": {
     "end_time": "2024-10-17T17:12:40.192525Z",
     "start_time": "2024-10-17T17:12:40.180212Z"
    }
   },
   "id": "6b4b2c4687722f23"
  },
  {
   "cell_type": "code",
   "execution_count": 12,
   "id": "initial_id",
   "metadata": {
    "collapsed": true,
    "ExecuteTime": {
     "end_time": "2024-10-17T17:12:40.876937Z",
     "start_time": "2024-10-17T17:12:40.869370Z"
    }
   },
   "outputs": [],
   "source": [
    "# fetch.completed_games(year = 2024, week=1)\n",
    "# fetch.scheduled_games(year = 2024, week=18)\n",
    "# fetch.in_progress_games(year = 2024, week=1)\n",
    "#fetch.completed_games(year=2024, team = 'Pittsburgh Steelers')\n",
    "#data = fetch.boxscore(year=2023, team='Pittsburgh Steelers')\n",
    "#fetch.passing_boxscore(year=2024, pivot=True)\n",
    "#fetch.rushing_boxscore(year=2024, pivot=True)\n",
    "#fetch.receiving_boxscore(year=2024, pivot=True)\n",
    "#fetch.fumble_boxscore(year=2024, pivot=True)\n",
    "#fetch.defensive_boxscore(year=2024, pivot=True)\n",
    "#fetch.interception_boxscore(year=2024, pivot=True)\n",
    "#fetch.kick_return_boxscore(year=2024)\n",
    "#fetch.punt_return_boxscore(year=2024, pivot=True)\n",
    "#fetch.field_goal_boxscore(year=2024, pivot=True)\n",
    "#fetch.punt_boxscore(year=2024)\n",
    "#fetch.drives(year=2024, team='Pittsburgh Steelers')\n",
    "#fetch.plays(year=2024)\n",
    "#fetch.drives(year=2024)\n",
    "#fetch.offensive_drive_summary(year=2024, agg_method='weekly', team='Pittsburgh Steelers')\n",
    "#fetch.defensive_drive_summary(year=2024)\n",
    "#fetch.videos(year=2024, team='Pittsburgh Steelers')\n",
    "#fetch.officials(year=2024, team='Pittsburgh Steelers')\n",
    "#wp = fetch.win_probability(year = 2024, team='Pittsburgh Steelers', week=4)\n",
    "#da = fetch.drive_analysis(year=2024)\n",
    "#mov = fetch.pd_mov_mod(2024)\n",
    "#fetch.qb_epa(year=2024, pivot=True)\n",
    "#fetch.qb_epa_glossary()\n",
    "#fetch.futures(year=2024)\n",
    "#fetch.qb_stats_allowed(2024)\n",
    "#athletes = fetch.athletes(year=2024)\n",
    "#fetch.athlete_dict()\n",
    "#fetch.athlete_overview(year=2024,athlete=['Russell Wilson', 'Justin Fields', 'Kenny Pickett'])\n",
    "\n",
    "\n",
    "    \n"
   ]
  },
  {
   "cell_type": "code",
   "execution_count": 19,
   "outputs": [
    {
     "name": "stdout",
     "output_type": "stream",
     "text": [
      "https://sports.core.api.espn.com/v2/sports/football/leagues/nfl/seasons/2024/athletes/14881?lang=en&region=us\n",
      "https://sports.core.api.espn.com/v2/sports/football/leagues/nfl/seasons/2024/athletes/4240703?lang=en&region=us\n"
     ]
    },
    {
     "data": {
      "text/plain": "        id            name  weight  height display_height  age  \\\n0    14881  Russell Wilson   206.0    71.0         5' 11\"   35   \n1  4240703   Kenny Pickett   220.0    75.0          6' 3\"   26   \n\n       date_of_birth  debut_year birth_city birth_state  ... injury_detail  \\\n0  1988-11-29T08:00Z        2012   Richmond          VA  ...          None   \n1  1998-06-06T07:00Z        2022   Oakhurst          NJ  ...          None   \n\n  injury_side                                               team experience  \\\n0        None  http://sports.core.api.espn.com/v2/sports/foot...         13   \n1        None  http://sports.core.api.espn.com/v2/sports/foot...          3   \n\n  active draft_round draft_year draft_selection  \\\n0   True           3       2012              75   \n1   True           1       2022              20   \n\n                                          draft_team  status  \n0  http://sports.core.api.espn.com/v2/sports/foot...  Active  \n1  http://sports.core.api.espn.com/v2/sports/foot...  Active  \n\n[2 rows x 32 columns]",
      "text/html": "<div>\n<style scoped>\n    .dataframe tbody tr th:only-of-type {\n        vertical-align: middle;\n    }\n\n    .dataframe tbody tr th {\n        vertical-align: top;\n    }\n\n    .dataframe thead th {\n        text-align: right;\n    }\n</style>\n<table border=\"1\" class=\"dataframe\">\n  <thead>\n    <tr style=\"text-align: right;\">\n      <th></th>\n      <th>id</th>\n      <th>name</th>\n      <th>weight</th>\n      <th>height</th>\n      <th>display_height</th>\n      <th>age</th>\n      <th>date_of_birth</th>\n      <th>debut_year</th>\n      <th>birth_city</th>\n      <th>birth_state</th>\n      <th>...</th>\n      <th>injury_detail</th>\n      <th>injury_side</th>\n      <th>team</th>\n      <th>experience</th>\n      <th>active</th>\n      <th>draft_round</th>\n      <th>draft_year</th>\n      <th>draft_selection</th>\n      <th>draft_team</th>\n      <th>status</th>\n    </tr>\n  </thead>\n  <tbody>\n    <tr>\n      <th>0</th>\n      <td>14881</td>\n      <td>Russell Wilson</td>\n      <td>206.0</td>\n      <td>71.0</td>\n      <td>5' 11\"</td>\n      <td>35</td>\n      <td>1988-11-29T08:00Z</td>\n      <td>2012</td>\n      <td>Richmond</td>\n      <td>VA</td>\n      <td>...</td>\n      <td>None</td>\n      <td>None</td>\n      <td>http://sports.core.api.espn.com/v2/sports/foot...</td>\n      <td>13</td>\n      <td>True</td>\n      <td>3</td>\n      <td>2012</td>\n      <td>75</td>\n      <td>http://sports.core.api.espn.com/v2/sports/foot...</td>\n      <td>Active</td>\n    </tr>\n    <tr>\n      <th>1</th>\n      <td>4240703</td>\n      <td>Kenny Pickett</td>\n      <td>220.0</td>\n      <td>75.0</td>\n      <td>6' 3\"</td>\n      <td>26</td>\n      <td>1998-06-06T07:00Z</td>\n      <td>2022</td>\n      <td>Oakhurst</td>\n      <td>NJ</td>\n      <td>...</td>\n      <td>None</td>\n      <td>None</td>\n      <td>http://sports.core.api.espn.com/v2/sports/foot...</td>\n      <td>3</td>\n      <td>True</td>\n      <td>1</td>\n      <td>2022</td>\n      <td>20</td>\n      <td>http://sports.core.api.espn.com/v2/sports/foot...</td>\n      <td>Active</td>\n    </tr>\n  </tbody>\n</table>\n<p>2 rows × 32 columns</p>\n</div>"
     },
     "execution_count": 19,
     "metadata": {},
     "output_type": "execute_result"
    }
   ],
   "source": [
    "fetch.athlete_summary(athlete=['Russell Wilson', 'Kenny Pickett']) "
   ],
   "metadata": {
    "collapsed": false,
    "ExecuteTime": {
     "end_time": "2024-10-17T17:27:41.633469Z",
     "start_time": "2024-10-17T17:27:40.818970Z"
    }
   },
   "id": "1d01b3c5cb725a71"
  },
  {
   "cell_type": "code",
   "execution_count": 30,
   "outputs": [
    {
     "data": {
      "text/plain": "14881"
     },
     "execution_count": 30,
     "metadata": {},
     "output_type": "execute_result"
    }
   ],
   "source": [
    "ad = fetch.athlete_dict()\n",
    "ad.get('Russell Wilson')"
   ],
   "metadata": {
    "collapsed": false,
    "ExecuteTime": {
     "end_time": "2024-10-17T16:53:52.295520Z",
     "start_time": "2024-10-17T16:53:52.277622Z"
    }
   },
   "id": "883f2aaac8055e1a"
  },
  {
   "cell_type": "code",
   "execution_count": 46,
   "outputs": [],
   "source": [
    "def athlete_overview(year=None, athlete=None):\n",
    "    \n",
    "    if not isinstance(athlete, list):\n",
    "        athlete = [athlete]\n",
    "    \n",
    "    athlete_overview_dict = {'id':[], 'name':[], 'weight':[], 'height':[], 'display_height':[], 'age':[], 'date_of_birth':[], 'debut_year':[],\n",
    "                'birth_city':[],\n",
    "                'birth_state':[], 'birth_country':[], 'college':[], 'headshot':[], 'jersey':[], 'position':[], 'position_abbv':[],\n",
    "                'injury_status':[], 'injury_date':[], 'injury_link':[], 'injury_type':[], 'injury_return_date':[],\n",
    "                'injury_location':[], 'injury_detail':[], 'injury_side':[], 'team':[],\n",
    "                'experience':[], 'active':[], 'draft_round':[], 'draft_year':[], 'draft_selection':[], 'draft_team':[], 'status':[]}\n",
    "    \n",
    "    for name in athlete:\n",
    "        \n",
    "        athlete_dict = fetch.athlete_dict()\n",
    "        athlete_id = athlete_dict.get(name)\n",
    "\n",
    "        url = f'https://sports.core.api.espn.com/v2/sports/football/leagues/nfl/seasons/{year}/athletes/{athlete_id}?lang=en&region=us'\n",
    "        print(url)\n",
    "        \n",
    "        response = requests.get(url)\n",
    "        if response.status_code == 200:\n",
    "            data = response.json()\n",
    "            name = data['fullName']\n",
    "            weight = data.get('weight', None)\n",
    "            height = data.get('height', None)\n",
    "            display_height = data.get('displayHeight', None)\n",
    "            age = data.get('age', None)\n",
    "            date_of_birth = data.get('dateOfBirth', None)\n",
    "            debut_year = data.get('debutYear', None)\n",
    "        \n",
    "            birth_city = data.get('birthPlace', {}).get('city', None)\n",
    "            birth_state = data.get('birthPlace', {}).get('state', None)\n",
    "            birth_country = data.get('birthPlace', {}).get('country', None)\n",
    "        \n",
    "            college = data.get('college', {}).get('$ref', None)\n",
    "            headshot = data.get('headshot', {}).get('href', None)\n",
    "            jersey = data.get('jersey', None)\n",
    "        \n",
    "            position = data.get('position', {}).get('name', None)\n",
    "            position_abbv = data.get('position', {}).get('abbreviation', None)\n",
    "        \n",
    "            # Check if there are injuries before accessing\n",
    "            if data.get('injuries') and len(data['injuries']) > 0:\n",
    "                injury_status = data['injuries'][0].get('status', None)\n",
    "                injury_date = data['injuries'][0].get('date', None)\n",
    "                injury_link = data['injuries'][0].get('$ref', None)\n",
    "                injury_type = data['injuries'][0].get('details', {}).get('type', None)\n",
    "                injury_return_date = data['injuries'][0].get('details', {}).get('returnDate', None)\n",
    "                injury_location = data['injuries'][0].get('details', {}).get('location', None)\n",
    "                injury_detail = data['injuries'][0].get('details', {}).get('detail', None)\n",
    "                injury_side = data['injuries'][0].get('details', {}).get('side', None)\n",
    "            else:\n",
    "                injury_status = injury_date = injury_link = injury_type = injury_return_date = None\n",
    "                injury_location = injury_detail = injury_side = None\n",
    "        \n",
    "            team = data.get('team', {}).get('$ref', None)\n",
    "            experience = data.get('experience', {}).get('years', None)\n",
    "            active = data.get('active', None)\n",
    "        \n",
    "            draft_round = data.get('draft', {}).get('round', None)\n",
    "            draft_year = data.get('draft', {}).get('year', None)\n",
    "            draft_selection = data.get('draft', {}).get('selection', None)\n",
    "            draft_team = data.get('draft', {}).get('team', {}).get('$ref', None)\n",
    "        \n",
    "            status = data.get('status', {}).get('name', None)\n",
    "            \n",
    "            athlete_overview_dict['id'].append(athlete_id)\n",
    "            athlete_overview_dict['name'].append(name)\n",
    "            athlete_overview_dict['weight'].append(weight)\n",
    "            athlete_overview_dict['height'].append(height)\n",
    "            athlete_overview_dict['display_height'].append(display_height)\n",
    "            athlete_overview_dict['age'].append(age)\n",
    "            athlete_overview_dict['date_of_birth'].append(date_of_birth)\n",
    "            athlete_overview_dict['debut_year'].append(draft_year)\n",
    "            athlete_overview_dict['birth_city'].append(birth_city)\n",
    "            athlete_overview_dict['birth_state'].append(birth_state)\n",
    "            athlete_overview_dict['birth_country'].append(birth_country)\n",
    "            athlete_overview_dict['college'].append(college)\n",
    "            athlete_overview_dict['headshot'].append(headshot)\n",
    "            athlete_overview_dict['jersey'].append(jersey)\n",
    "            athlete_overview_dict['position'].append(position)\n",
    "            athlete_overview_dict['position_abbv'].append(position_abbv)\n",
    "            athlete_overview_dict['injury_status'].append(injury_status)\n",
    "            athlete_overview_dict['injury_date'].append(injury_date)\n",
    "            athlete_overview_dict['injury_link'].append(injury_link)\n",
    "            athlete_overview_dict['injury_type'].append(injury_type)\n",
    "            athlete_overview_dict['injury_return_date'].append(injury_return_date)\n",
    "            athlete_overview_dict['injury_location'].append(injury_location)\n",
    "            athlete_overview_dict['injury_detail'].append(injury_detail)\n",
    "            athlete_overview_dict['injury_side'].append(injury_side)\n",
    "            athlete_overview_dict['team'].append(team)\n",
    "            athlete_overview_dict['experience'].append(experience)\n",
    "            athlete_overview_dict['active'].append(active)\n",
    "            athlete_overview_dict['draft_round'].append(draft_round)\n",
    "            athlete_overview_dict['draft_year'].append(draft_year)\n",
    "            athlete_overview_dict['draft_selection'].append(draft_selection)\n",
    "            athlete_overview_dict['draft_team'].append(draft_team)\n",
    "            athlete_overview_dict['status'].append(status)\n",
    "\n",
    "    athlete_df = pd.DataFrame(athlete_overview_dict)  \n",
    "    return athlete_df"
   ],
   "metadata": {
    "collapsed": false,
    "ExecuteTime": {
     "end_time": "2024-10-17T17:01:54.578477Z",
     "start_time": "2024-10-17T17:01:54.575711Z"
    }
   },
   "id": "11e6d30c8161ecd4"
  },
  {
   "cell_type": "code",
   "execution_count": 46,
   "outputs": [],
   "source": [],
   "metadata": {
    "collapsed": false,
    "ExecuteTime": {
     "end_time": "2024-10-17T17:01:55.346694Z",
     "start_time": "2024-10-17T17:01:55.327824Z"
    }
   },
   "id": "71e517dd615b222f"
  },
  {
   "cell_type": "code",
   "execution_count": 46,
   "outputs": [],
   "source": [],
   "metadata": {
    "collapsed": false,
    "ExecuteTime": {
     "end_time": "2024-10-17T17:01:55.751313Z",
     "start_time": "2024-10-17T17:01:55.745417Z"
    }
   },
   "id": "cc4026738b8b0e61"
  },
  {
   "cell_type": "code",
   "execution_count": 48,
   "outputs": [
    {
     "name": "stdout",
     "output_type": "stream",
     "text": [
      "https://sports.core.api.espn.com/v2/sports/football/leagues/nfl/seasons/2024/athletes/14881?lang=en&region=us\n",
      "https://sports.core.api.espn.com/v2/sports/football/leagues/nfl/seasons/2024/athletes/4362887?lang=en&region=us\n",
      "https://sports.core.api.espn.com/v2/sports/football/leagues/nfl/seasons/2024/athletes/4240703?lang=en&region=us\n"
     ]
    },
    {
     "data": {
      "text/plain": "        id            name  weight  height display_height  age  \\\n0    14881  Russell Wilson   206.0    71.0         5' 11\"   35   \n1  4362887   Justin Fields   227.0    75.0          6' 3\"   25   \n2  4240703   Kenny Pickett   220.0    75.0          6' 3\"   26   \n\n       date_of_birth  debut_year birth_city birth_state  ... injury_detail  \\\n0  1988-11-29T08:00Z        2012   Richmond          VA  ...          None   \n1  1999-03-05T08:00Z        2021   Kennesaw          GA  ...          None   \n2  1998-06-06T07:00Z        2022   Oakhurst          NJ  ...          None   \n\n  injury_side                                               team experience  \\\n0        None  http://sports.core.api.espn.com/v2/sports/foot...         13   \n1        None  http://sports.core.api.espn.com/v2/sports/foot...          4   \n2        None  http://sports.core.api.espn.com/v2/sports/foot...          3   \n\n  active draft_round draft_year draft_selection  \\\n0   True           3       2012              75   \n1   True           1       2021              11   \n2   True           1       2022              20   \n\n                                          draft_team  status  \n0  http://sports.core.api.espn.com/v2/sports/foot...  Active  \n1  http://sports.core.api.espn.com/v2/sports/foot...  Active  \n2  http://sports.core.api.espn.com/v2/sports/foot...  Active  \n\n[3 rows x 32 columns]",
      "text/html": "<div>\n<style scoped>\n    .dataframe tbody tr th:only-of-type {\n        vertical-align: middle;\n    }\n\n    .dataframe tbody tr th {\n        vertical-align: top;\n    }\n\n    .dataframe thead th {\n        text-align: right;\n    }\n</style>\n<table border=\"1\" class=\"dataframe\">\n  <thead>\n    <tr style=\"text-align: right;\">\n      <th></th>\n      <th>id</th>\n      <th>name</th>\n      <th>weight</th>\n      <th>height</th>\n      <th>display_height</th>\n      <th>age</th>\n      <th>date_of_birth</th>\n      <th>debut_year</th>\n      <th>birth_city</th>\n      <th>birth_state</th>\n      <th>...</th>\n      <th>injury_detail</th>\n      <th>injury_side</th>\n      <th>team</th>\n      <th>experience</th>\n      <th>active</th>\n      <th>draft_round</th>\n      <th>draft_year</th>\n      <th>draft_selection</th>\n      <th>draft_team</th>\n      <th>status</th>\n    </tr>\n  </thead>\n  <tbody>\n    <tr>\n      <th>0</th>\n      <td>14881</td>\n      <td>Russell Wilson</td>\n      <td>206.0</td>\n      <td>71.0</td>\n      <td>5' 11\"</td>\n      <td>35</td>\n      <td>1988-11-29T08:00Z</td>\n      <td>2012</td>\n      <td>Richmond</td>\n      <td>VA</td>\n      <td>...</td>\n      <td>None</td>\n      <td>None</td>\n      <td>http://sports.core.api.espn.com/v2/sports/foot...</td>\n      <td>13</td>\n      <td>True</td>\n      <td>3</td>\n      <td>2012</td>\n      <td>75</td>\n      <td>http://sports.core.api.espn.com/v2/sports/foot...</td>\n      <td>Active</td>\n    </tr>\n    <tr>\n      <th>1</th>\n      <td>4362887</td>\n      <td>Justin Fields</td>\n      <td>227.0</td>\n      <td>75.0</td>\n      <td>6' 3\"</td>\n      <td>25</td>\n      <td>1999-03-05T08:00Z</td>\n      <td>2021</td>\n      <td>Kennesaw</td>\n      <td>GA</td>\n      <td>...</td>\n      <td>None</td>\n      <td>None</td>\n      <td>http://sports.core.api.espn.com/v2/sports/foot...</td>\n      <td>4</td>\n      <td>True</td>\n      <td>1</td>\n      <td>2021</td>\n      <td>11</td>\n      <td>http://sports.core.api.espn.com/v2/sports/foot...</td>\n      <td>Active</td>\n    </tr>\n    <tr>\n      <th>2</th>\n      <td>4240703</td>\n      <td>Kenny Pickett</td>\n      <td>220.0</td>\n      <td>75.0</td>\n      <td>6' 3\"</td>\n      <td>26</td>\n      <td>1998-06-06T07:00Z</td>\n      <td>2022</td>\n      <td>Oakhurst</td>\n      <td>NJ</td>\n      <td>...</td>\n      <td>None</td>\n      <td>None</td>\n      <td>http://sports.core.api.espn.com/v2/sports/foot...</td>\n      <td>3</td>\n      <td>True</td>\n      <td>1</td>\n      <td>2022</td>\n      <td>20</td>\n      <td>http://sports.core.api.espn.com/v2/sports/foot...</td>\n      <td>Active</td>\n    </tr>\n  </tbody>\n</table>\n<p>3 rows × 32 columns</p>\n</div>"
     },
     "execution_count": 48,
     "metadata": {},
     "output_type": "execute_result"
    }
   ],
   "source": [],
   "metadata": {
    "collapsed": false,
    "ExecuteTime": {
     "end_time": "2024-10-17T17:03:24.447722Z",
     "start_time": "2024-10-17T17:03:23.208787Z"
    }
   },
   "id": "87909b4a3c2cddcb"
  },
  {
   "cell_type": "code",
   "execution_count": 10,
   "outputs": [],
   "source": [],
   "metadata": {
    "collapsed": false,
    "ExecuteTime": {
     "end_time": "2024-10-17T16:28:07.617282Z",
     "start_time": "2024-10-17T16:28:07.575529Z"
    }
   },
   "id": "556e7714fa299e13"
  },
  {
   "cell_type": "code",
   "execution_count": 10,
   "outputs": [],
   "source": [],
   "metadata": {
    "collapsed": false,
    "ExecuteTime": {
     "end_time": "2024-10-17T16:28:08.242735Z",
     "start_time": "2024-10-17T16:28:08.236794Z"
    }
   },
   "id": "4ae038ea32b50d11"
  },
  {
   "cell_type": "code",
   "execution_count": 10,
   "outputs": [],
   "source": [],
   "metadata": {
    "collapsed": false,
    "ExecuteTime": {
     "end_time": "2024-10-17T16:28:13.383685Z",
     "start_time": "2024-10-17T16:28:13.375415Z"
    }
   },
   "id": "132b107eddbec551"
  },
  {
   "cell_type": "code",
   "execution_count": 8,
   "outputs": [],
   "source": [],
   "metadata": {
    "collapsed": false,
    "ExecuteTime": {
     "end_time": "2024-10-17T05:34:15.144777Z",
     "start_time": "2024-10-17T05:34:15.132046Z"
    }
   },
   "id": "55301ccf2f5c0a44"
  },
  {
   "cell_type": "code",
   "execution_count": 8,
   "outputs": [],
   "source": [],
   "metadata": {
    "collapsed": false,
    "ExecuteTime": {
     "end_time": "2024-10-17T05:34:17.239527Z",
     "start_time": "2024-10-17T05:34:17.230782Z"
    }
   },
   "id": "c7f562ea05d37eb2"
  },
  {
   "cell_type": "code",
   "execution_count": 8,
   "outputs": [],
   "source": [],
   "metadata": {
    "collapsed": false,
    "ExecuteTime": {
     "end_time": "2024-10-17T05:34:19.621200Z",
     "start_time": "2024-10-17T05:34:19.611348Z"
    }
   },
   "id": "b4ed4cbc71f55241"
  },
  {
   "cell_type": "code",
   "execution_count": 8,
   "outputs": [],
   "source": [],
   "metadata": {
    "collapsed": false,
    "ExecuteTime": {
     "end_time": "2024-10-17T05:34:23.451289Z",
     "start_time": "2024-10-17T05:34:23.441454Z"
    }
   },
   "id": "fdf70d6f326c82d4"
  },
  {
   "cell_type": "code",
   "execution_count": 8,
   "outputs": [],
   "source": [],
   "metadata": {
    "collapsed": false,
    "ExecuteTime": {
     "end_time": "2024-10-17T05:34:26.824635Z",
     "start_time": "2024-10-17T05:34:26.815379Z"
    }
   },
   "id": "509164931334e5e4"
  },
  {
   "cell_type": "code",
   "execution_count": null,
   "outputs": [],
   "source": [],
   "metadata": {
    "collapsed": false
   },
   "id": "69154f84958090ef"
  },
  {
   "cell_type": "code",
   "execution_count": null,
   "outputs": [],
   "source": [],
   "metadata": {
    "collapsed": false
   },
   "id": "c09f90a9ff8522b2"
  },
  {
   "cell_type": "code",
   "execution_count": null,
   "outputs": [],
   "source": [],
   "metadata": {
    "collapsed": false
   },
   "id": "2a4a395750cb3bd4"
  },
  {
   "cell_type": "code",
   "execution_count": 10,
   "outputs": [],
   "source": [],
   "metadata": {
    "collapsed": false,
    "ExecuteTime": {
     "end_time": "2024-10-17T16:28:17.343689Z",
     "start_time": "2024-10-17T16:28:17.313578Z"
    }
   },
   "id": "10305eb611d2e2f"
  },
  {
   "cell_type": "code",
   "execution_count": null,
   "outputs": [],
   "source": [],
   "metadata": {
    "collapsed": false
   },
   "id": "3cc33765cfe679b5"
  },
  {
   "cell_type": "code",
   "execution_count": null,
   "outputs": [],
   "source": [],
   "metadata": {
    "collapsed": false
   },
   "id": "ab989c0651a29347"
  },
  {
   "cell_type": "code",
   "execution_count": 15,
   "outputs": [],
   "source": [],
   "metadata": {
    "collapsed": false,
    "ExecuteTime": {
     "end_time": "2024-10-16T04:56:31.234894Z",
     "start_time": "2024-10-16T04:56:31.231177Z"
    }
   },
   "id": "73ce692178581f95"
  },
  {
   "cell_type": "code",
   "execution_count": 15,
   "outputs": [],
   "source": [],
   "metadata": {
    "collapsed": false,
    "ExecuteTime": {
     "end_time": "2024-10-16T04:56:33.032061Z",
     "start_time": "2024-10-16T04:56:33.014652Z"
    }
   },
   "id": "2ee50ec98f629330"
  },
  {
   "cell_type": "code",
   "execution_count": 15,
   "outputs": [],
   "source": [],
   "metadata": {
    "collapsed": false,
    "ExecuteTime": {
     "end_time": "2024-10-16T04:56:34.879847Z",
     "start_time": "2024-10-16T04:56:34.873511Z"
    }
   },
   "id": "3a43c0e445e5b92"
  },
  {
   "cell_type": "code",
   "execution_count": 14,
   "outputs": [
    {
     "data": {
      "application/vnd.plotly.v1+json": {
       "data": [
        {
         "alignmentgroup": "True",
         "hovertemplate": "name_=%{x}<br>scramble_epa_sum=%{marker.color}<extra></extra>",
         "legendgroup": "",
         "marker": {
          "color": [
           11.700000000000001,
           8.6,
           7.5,
           7.199999999999999,
           6.4,
           6.4,
           6.3,
           6.0,
           5.9,
           5.3,
           5.0,
           4.7,
           4.5,
           3.5,
           3.3,
           3.1,
           3.0,
           2.9000000000000004,
           2.3,
           2.0,
           1.9,
           1.8,
           1.4,
           1.3,
           1.1,
           0.9000000000000001,
           0.8,
           0.7999999999999999,
           0.30000000000000016,
           0.3,
           0.2,
           0.0,
           0.0,
           0.0,
           0.0,
           0.0,
           0.0,
           -0.09999999999999998,
           -0.19999999999999996,
           -0.7
          ],
          "coloraxis": "coloraxis",
          "pattern": {
           "shape": ""
          }
         },
         "name": "",
         "offsetgroup": "",
         "orientation": "v",
         "showlegend": false,
         "textposition": "auto",
         "x": [
          "Jayden Daniels",
          "Justin Fields",
          "Patrick Mahomes",
          "Bo Nix",
          "Anthony Richardson",
          "Jalen Hurts",
          "Kyler Murray",
          "Joe Burrow",
          "Geno Smith",
          "Josh Allen",
          "Baker Mayfield",
          "Caleb Williams",
          "Brock Purdy",
          "Malik Willis",
          "Sam Darnold",
          "Jordan Love",
          "Tua Tagovailoa",
          "Trevor Lawrence",
          "Jacoby Brissett",
          "Lamar Jackson",
          "Deshaun Watson",
          "Will Levis",
          "Gardner Minshew",
          "Spencer Rattler",
          "Drake Maye",
          "Jared Goff",
          "Aaron Rodgers",
          "Joe Flacco",
          "C.J. Stroud",
          "Dak Prescott",
          "Bryce Young",
          "Tyler Huntley",
          "Aidan O'Connell",
          "Derek Carr",
          "Matthew Stafford",
          "Andy Dalton",
          "Skylar Thompson",
          "Daniel Jones",
          "Justin Herbert",
          "Kirk Cousins"
         ],
         "xaxis": "x",
         "y": [
          11.700000000000001,
          8.6,
          7.5,
          7.199999999999999,
          6.4,
          6.4,
          6.3,
          6.0,
          5.9,
          5.3,
          5.0,
          4.7,
          4.5,
          3.5,
          3.3,
          3.1,
          3.0,
          2.9000000000000004,
          2.3,
          2.0,
          1.9,
          1.8,
          1.4,
          1.3,
          1.1,
          0.9000000000000001,
          0.8,
          0.7999999999999999,
          0.30000000000000016,
          0.3,
          0.2,
          0.0,
          0.0,
          0.0,
          0.0,
          0.0,
          0.0,
          -0.09999999999999998,
          -0.19999999999999996,
          -0.7
         ],
         "yaxis": "y",
         "type": "bar"
        }
       ],
       "layout": {
        "template": {
         "data": {
          "histogram2dcontour": [
           {
            "type": "histogram2dcontour",
            "colorbar": {
             "outlinewidth": 0,
             "ticks": ""
            },
            "colorscale": [
             [
              0.0,
              "#0d0887"
             ],
             [
              0.1111111111111111,
              "#46039f"
             ],
             [
              0.2222222222222222,
              "#7201a8"
             ],
             [
              0.3333333333333333,
              "#9c179e"
             ],
             [
              0.4444444444444444,
              "#bd3786"
             ],
             [
              0.5555555555555556,
              "#d8576b"
             ],
             [
              0.6666666666666666,
              "#ed7953"
             ],
             [
              0.7777777777777778,
              "#fb9f3a"
             ],
             [
              0.8888888888888888,
              "#fdca26"
             ],
             [
              1.0,
              "#f0f921"
             ]
            ]
           }
          ],
          "choropleth": [
           {
            "type": "choropleth",
            "colorbar": {
             "outlinewidth": 0,
             "ticks": ""
            }
           }
          ],
          "histogram2d": [
           {
            "type": "histogram2d",
            "colorbar": {
             "outlinewidth": 0,
             "ticks": ""
            },
            "colorscale": [
             [
              0.0,
              "#0d0887"
             ],
             [
              0.1111111111111111,
              "#46039f"
             ],
             [
              0.2222222222222222,
              "#7201a8"
             ],
             [
              0.3333333333333333,
              "#9c179e"
             ],
             [
              0.4444444444444444,
              "#bd3786"
             ],
             [
              0.5555555555555556,
              "#d8576b"
             ],
             [
              0.6666666666666666,
              "#ed7953"
             ],
             [
              0.7777777777777778,
              "#fb9f3a"
             ],
             [
              0.8888888888888888,
              "#fdca26"
             ],
             [
              1.0,
              "#f0f921"
             ]
            ]
           }
          ],
          "heatmap": [
           {
            "type": "heatmap",
            "colorbar": {
             "outlinewidth": 0,
             "ticks": ""
            },
            "colorscale": [
             [
              0.0,
              "#0d0887"
             ],
             [
              0.1111111111111111,
              "#46039f"
             ],
             [
              0.2222222222222222,
              "#7201a8"
             ],
             [
              0.3333333333333333,
              "#9c179e"
             ],
             [
              0.4444444444444444,
              "#bd3786"
             ],
             [
              0.5555555555555556,
              "#d8576b"
             ],
             [
              0.6666666666666666,
              "#ed7953"
             ],
             [
              0.7777777777777778,
              "#fb9f3a"
             ],
             [
              0.8888888888888888,
              "#fdca26"
             ],
             [
              1.0,
              "#f0f921"
             ]
            ]
           }
          ],
          "heatmapgl": [
           {
            "type": "heatmapgl",
            "colorbar": {
             "outlinewidth": 0,
             "ticks": ""
            },
            "colorscale": [
             [
              0.0,
              "#0d0887"
             ],
             [
              0.1111111111111111,
              "#46039f"
             ],
             [
              0.2222222222222222,
              "#7201a8"
             ],
             [
              0.3333333333333333,
              "#9c179e"
             ],
             [
              0.4444444444444444,
              "#bd3786"
             ],
             [
              0.5555555555555556,
              "#d8576b"
             ],
             [
              0.6666666666666666,
              "#ed7953"
             ],
             [
              0.7777777777777778,
              "#fb9f3a"
             ],
             [
              0.8888888888888888,
              "#fdca26"
             ],
             [
              1.0,
              "#f0f921"
             ]
            ]
           }
          ],
          "contourcarpet": [
           {
            "type": "contourcarpet",
            "colorbar": {
             "outlinewidth": 0,
             "ticks": ""
            }
           }
          ],
          "contour": [
           {
            "type": "contour",
            "colorbar": {
             "outlinewidth": 0,
             "ticks": ""
            },
            "colorscale": [
             [
              0.0,
              "#0d0887"
             ],
             [
              0.1111111111111111,
              "#46039f"
             ],
             [
              0.2222222222222222,
              "#7201a8"
             ],
             [
              0.3333333333333333,
              "#9c179e"
             ],
             [
              0.4444444444444444,
              "#bd3786"
             ],
             [
              0.5555555555555556,
              "#d8576b"
             ],
             [
              0.6666666666666666,
              "#ed7953"
             ],
             [
              0.7777777777777778,
              "#fb9f3a"
             ],
             [
              0.8888888888888888,
              "#fdca26"
             ],
             [
              1.0,
              "#f0f921"
             ]
            ]
           }
          ],
          "surface": [
           {
            "type": "surface",
            "colorbar": {
             "outlinewidth": 0,
             "ticks": ""
            },
            "colorscale": [
             [
              0.0,
              "#0d0887"
             ],
             [
              0.1111111111111111,
              "#46039f"
             ],
             [
              0.2222222222222222,
              "#7201a8"
             ],
             [
              0.3333333333333333,
              "#9c179e"
             ],
             [
              0.4444444444444444,
              "#bd3786"
             ],
             [
              0.5555555555555556,
              "#d8576b"
             ],
             [
              0.6666666666666666,
              "#ed7953"
             ],
             [
              0.7777777777777778,
              "#fb9f3a"
             ],
             [
              0.8888888888888888,
              "#fdca26"
             ],
             [
              1.0,
              "#f0f921"
             ]
            ]
           }
          ],
          "mesh3d": [
           {
            "type": "mesh3d",
            "colorbar": {
             "outlinewidth": 0,
             "ticks": ""
            }
           }
          ],
          "scatter": [
           {
            "marker": {
             "line": {
              "color": "#283442"
             }
            },
            "type": "scatter"
           }
          ],
          "parcoords": [
           {
            "type": "parcoords",
            "line": {
             "colorbar": {
              "outlinewidth": 0,
              "ticks": ""
             }
            }
           }
          ],
          "scatterpolargl": [
           {
            "type": "scatterpolargl",
            "marker": {
             "colorbar": {
              "outlinewidth": 0,
              "ticks": ""
             }
            }
           }
          ],
          "bar": [
           {
            "error_x": {
             "color": "#f2f5fa"
            },
            "error_y": {
             "color": "#f2f5fa"
            },
            "marker": {
             "line": {
              "color": "rgb(17,17,17)",
              "width": 0.5
             },
             "pattern": {
              "fillmode": "overlay",
              "size": 10,
              "solidity": 0.2
             }
            },
            "type": "bar"
           }
          ],
          "scattergeo": [
           {
            "type": "scattergeo",
            "marker": {
             "colorbar": {
              "outlinewidth": 0,
              "ticks": ""
             }
            }
           }
          ],
          "scatterpolar": [
           {
            "type": "scatterpolar",
            "marker": {
             "colorbar": {
              "outlinewidth": 0,
              "ticks": ""
             }
            }
           }
          ],
          "histogram": [
           {
            "marker": {
             "pattern": {
              "fillmode": "overlay",
              "size": 10,
              "solidity": 0.2
             }
            },
            "type": "histogram"
           }
          ],
          "scattergl": [
           {
            "marker": {
             "line": {
              "color": "#283442"
             }
            },
            "type": "scattergl"
           }
          ],
          "scatter3d": [
           {
            "type": "scatter3d",
            "line": {
             "colorbar": {
              "outlinewidth": 0,
              "ticks": ""
             }
            },
            "marker": {
             "colorbar": {
              "outlinewidth": 0,
              "ticks": ""
             }
            }
           }
          ],
          "scattermapbox": [
           {
            "type": "scattermapbox",
            "marker": {
             "colorbar": {
              "outlinewidth": 0,
              "ticks": ""
             }
            }
           }
          ],
          "scatterternary": [
           {
            "type": "scatterternary",
            "marker": {
             "colorbar": {
              "outlinewidth": 0,
              "ticks": ""
             }
            }
           }
          ],
          "scattercarpet": [
           {
            "type": "scattercarpet",
            "marker": {
             "colorbar": {
              "outlinewidth": 0,
              "ticks": ""
             }
            }
           }
          ],
          "carpet": [
           {
            "aaxis": {
             "endlinecolor": "#A2B1C6",
             "gridcolor": "#506784",
             "linecolor": "#506784",
             "minorgridcolor": "#506784",
             "startlinecolor": "#A2B1C6"
            },
            "baxis": {
             "endlinecolor": "#A2B1C6",
             "gridcolor": "#506784",
             "linecolor": "#506784",
             "minorgridcolor": "#506784",
             "startlinecolor": "#A2B1C6"
            },
            "type": "carpet"
           }
          ],
          "table": [
           {
            "cells": {
             "fill": {
              "color": "#506784"
             },
             "line": {
              "color": "rgb(17,17,17)"
             }
            },
            "header": {
             "fill": {
              "color": "#2a3f5f"
             },
             "line": {
              "color": "rgb(17,17,17)"
             }
            },
            "type": "table"
           }
          ],
          "barpolar": [
           {
            "marker": {
             "line": {
              "color": "rgb(17,17,17)",
              "width": 0.5
             },
             "pattern": {
              "fillmode": "overlay",
              "size": 10,
              "solidity": 0.2
             }
            },
            "type": "barpolar"
           }
          ],
          "pie": [
           {
            "automargin": true,
            "type": "pie"
           }
          ]
         },
         "layout": {
          "autotypenumbers": "strict",
          "colorway": [
           "#636efa",
           "#EF553B",
           "#00cc96",
           "#ab63fa",
           "#FFA15A",
           "#19d3f3",
           "#FF6692",
           "#B6E880",
           "#FF97FF",
           "#FECB52"
          ],
          "font": {
           "color": "#f2f5fa"
          },
          "hovermode": "closest",
          "hoverlabel": {
           "align": "left"
          },
          "paper_bgcolor": "rgb(17,17,17)",
          "plot_bgcolor": "rgb(17,17,17)",
          "polar": {
           "bgcolor": "rgb(17,17,17)",
           "angularaxis": {
            "gridcolor": "#506784",
            "linecolor": "#506784",
            "ticks": ""
           },
           "radialaxis": {
            "gridcolor": "#506784",
            "linecolor": "#506784",
            "ticks": ""
           }
          },
          "ternary": {
           "bgcolor": "rgb(17,17,17)",
           "aaxis": {
            "gridcolor": "#506784",
            "linecolor": "#506784",
            "ticks": ""
           },
           "baxis": {
            "gridcolor": "#506784",
            "linecolor": "#506784",
            "ticks": ""
           },
           "caxis": {
            "gridcolor": "#506784",
            "linecolor": "#506784",
            "ticks": ""
           }
          },
          "coloraxis": {
           "colorbar": {
            "outlinewidth": 0,
            "ticks": ""
           }
          },
          "colorscale": {
           "sequential": [
            [
             0.0,
             "#0d0887"
            ],
            [
             0.1111111111111111,
             "#46039f"
            ],
            [
             0.2222222222222222,
             "#7201a8"
            ],
            [
             0.3333333333333333,
             "#9c179e"
            ],
            [
             0.4444444444444444,
             "#bd3786"
            ],
            [
             0.5555555555555556,
             "#d8576b"
            ],
            [
             0.6666666666666666,
             "#ed7953"
            ],
            [
             0.7777777777777778,
             "#fb9f3a"
            ],
            [
             0.8888888888888888,
             "#fdca26"
            ],
            [
             1.0,
             "#f0f921"
            ]
           ],
           "sequentialminus": [
            [
             0.0,
             "#0d0887"
            ],
            [
             0.1111111111111111,
             "#46039f"
            ],
            [
             0.2222222222222222,
             "#7201a8"
            ],
            [
             0.3333333333333333,
             "#9c179e"
            ],
            [
             0.4444444444444444,
             "#bd3786"
            ],
            [
             0.5555555555555556,
             "#d8576b"
            ],
            [
             0.6666666666666666,
             "#ed7953"
            ],
            [
             0.7777777777777778,
             "#fb9f3a"
            ],
            [
             0.8888888888888888,
             "#fdca26"
            ],
            [
             1.0,
             "#f0f921"
            ]
           ],
           "diverging": [
            [
             0,
             "#8e0152"
            ],
            [
             0.1,
             "#c51b7d"
            ],
            [
             0.2,
             "#de77ae"
            ],
            [
             0.3,
             "#f1b6da"
            ],
            [
             0.4,
             "#fde0ef"
            ],
            [
             0.5,
             "#f7f7f7"
            ],
            [
             0.6,
             "#e6f5d0"
            ],
            [
             0.7,
             "#b8e186"
            ],
            [
             0.8,
             "#7fbc41"
            ],
            [
             0.9,
             "#4d9221"
            ],
            [
             1,
             "#276419"
            ]
           ]
          },
          "xaxis": {
           "gridcolor": "#283442",
           "linecolor": "#506784",
           "ticks": "",
           "title": {
            "standoff": 15
           },
           "zerolinecolor": "#283442",
           "automargin": true,
           "zerolinewidth": 2
          },
          "yaxis": {
           "gridcolor": "#283442",
           "linecolor": "#506784",
           "ticks": "",
           "title": {
            "standoff": 15
           },
           "zerolinecolor": "#283442",
           "automargin": true,
           "zerolinewidth": 2
          },
          "scene": {
           "xaxis": {
            "backgroundcolor": "rgb(17,17,17)",
            "gridcolor": "#506784",
            "linecolor": "#506784",
            "showbackground": true,
            "ticks": "",
            "zerolinecolor": "#C8D4E3",
            "gridwidth": 2
           },
           "yaxis": {
            "backgroundcolor": "rgb(17,17,17)",
            "gridcolor": "#506784",
            "linecolor": "#506784",
            "showbackground": true,
            "ticks": "",
            "zerolinecolor": "#C8D4E3",
            "gridwidth": 2
           },
           "zaxis": {
            "backgroundcolor": "rgb(17,17,17)",
            "gridcolor": "#506784",
            "linecolor": "#506784",
            "showbackground": true,
            "ticks": "",
            "zerolinecolor": "#C8D4E3",
            "gridwidth": 2
           }
          },
          "shapedefaults": {
           "line": {
            "color": "#f2f5fa"
           }
          },
          "annotationdefaults": {
           "arrowcolor": "#f2f5fa",
           "arrowhead": 0,
           "arrowwidth": 1
          },
          "geo": {
           "bgcolor": "rgb(17,17,17)",
           "landcolor": "rgb(17,17,17)",
           "subunitcolor": "#506784",
           "showland": true,
           "showlakes": true,
           "lakecolor": "rgb(17,17,17)"
          },
          "title": {
           "x": 0.05
          },
          "updatemenudefaults": {
           "bgcolor": "#506784",
           "borderwidth": 0
          },
          "sliderdefaults": {
           "bgcolor": "#C8D4E3",
           "borderwidth": 1,
           "bordercolor": "rgb(17,17,17)",
           "tickwidth": 0
          },
          "mapbox": {
           "style": "dark"
          }
         }
        },
        "xaxis": {
         "anchor": "y",
         "domain": [
          0.0,
          1.0
         ],
         "title": {
          "text": "name_"
         }
        },
        "yaxis": {
         "anchor": "x",
         "domain": [
          0.0,
          1.0
         ],
         "title": {
          "text": "scramble_epa_sum"
         }
        },
        "coloraxis": {
         "colorbar": {
          "title": {
           "text": "scramble_epa_sum"
          }
         },
         "colorscale": [
          [
           0.0,
           "#0d0887"
          ],
          [
           0.1111111111111111,
           "#46039f"
          ],
          [
           0.2222222222222222,
           "#7201a8"
          ],
          [
           0.3333333333333333,
           "#9c179e"
          ],
          [
           0.4444444444444444,
           "#bd3786"
          ],
          [
           0.5555555555555556,
           "#d8576b"
          ],
          [
           0.6666666666666666,
           "#ed7953"
          ],
          [
           0.7777777777777778,
           "#fb9f3a"
          ],
          [
           0.8888888888888888,
           "#fdca26"
          ],
          [
           1.0,
           "#f0f921"
          ]
         ]
        },
        "legend": {
         "tracegroupgap": 0
        },
        "margin": {
         "t": 60
        },
        "barmode": "relative",
        "height": 700
       },
       "config": {
        "plotlyServerURL": "https://plot.ly"
       }
      },
      "text/html": "<div>                            <div id=\"d8919038-4d74-4001-8740-a9551093a518\" class=\"plotly-graph-div\" style=\"height:700px; width:100%;\"></div>            <script type=\"text/javascript\">                require([\"plotly\"], function(Plotly) {                    window.PLOTLYENV=window.PLOTLYENV || {};                                    if (document.getElementById(\"d8919038-4d74-4001-8740-a9551093a518\")) {                    Plotly.newPlot(                        \"d8919038-4d74-4001-8740-a9551093a518\",                        [{\"alignmentgroup\":\"True\",\"hovertemplate\":\"name_=%{x}\\u003cbr\\u003escramble_epa_sum=%{marker.color}\\u003cextra\\u003e\\u003c\\u002fextra\\u003e\",\"legendgroup\":\"\",\"marker\":{\"color\":[11.700000000000001,8.6,7.5,7.199999999999999,6.4,6.4,6.3,6.0,5.9,5.3,5.0,4.7,4.5,3.5,3.3,3.1,3.0,2.9000000000000004,2.3,2.0,1.9,1.8,1.4,1.3,1.1,0.9000000000000001,0.8,0.7999999999999999,0.30000000000000016,0.3,0.2,0.0,0.0,0.0,0.0,0.0,0.0,-0.09999999999999998,-0.19999999999999996,-0.7],\"coloraxis\":\"coloraxis\",\"pattern\":{\"shape\":\"\"}},\"name\":\"\",\"offsetgroup\":\"\",\"orientation\":\"v\",\"showlegend\":false,\"textposition\":\"auto\",\"x\":[\"Jayden Daniels\",\"Justin Fields\",\"Patrick Mahomes\",\"Bo Nix\",\"Anthony Richardson\",\"Jalen Hurts\",\"Kyler Murray\",\"Joe Burrow\",\"Geno Smith\",\"Josh Allen\",\"Baker Mayfield\",\"Caleb Williams\",\"Brock Purdy\",\"Malik Willis\",\"Sam Darnold\",\"Jordan Love\",\"Tua Tagovailoa\",\"Trevor Lawrence\",\"Jacoby Brissett\",\"Lamar Jackson\",\"Deshaun Watson\",\"Will Levis\",\"Gardner Minshew\",\"Spencer Rattler\",\"Drake Maye\",\"Jared Goff\",\"Aaron Rodgers\",\"Joe Flacco\",\"C.J. Stroud\",\"Dak Prescott\",\"Bryce Young\",\"Tyler Huntley\",\"Aidan O'Connell\",\"Derek Carr\",\"Matthew Stafford\",\"Andy Dalton\",\"Skylar Thompson\",\"Daniel Jones\",\"Justin Herbert\",\"Kirk Cousins\"],\"xaxis\":\"x\",\"y\":[11.700000000000001,8.6,7.5,7.199999999999999,6.4,6.4,6.3,6.0,5.9,5.3,5.0,4.7,4.5,3.5,3.3,3.1,3.0,2.9000000000000004,2.3,2.0,1.9,1.8,1.4,1.3,1.1,0.9000000000000001,0.8,0.7999999999999999,0.30000000000000016,0.3,0.2,0.0,0.0,0.0,0.0,0.0,0.0,-0.09999999999999998,-0.19999999999999996,-0.7],\"yaxis\":\"y\",\"type\":\"bar\"}],                        {\"template\":{\"data\":{\"histogram2dcontour\":[{\"type\":\"histogram2dcontour\",\"colorbar\":{\"outlinewidth\":0,\"ticks\":\"\"},\"colorscale\":[[0.0,\"#0d0887\"],[0.1111111111111111,\"#46039f\"],[0.2222222222222222,\"#7201a8\"],[0.3333333333333333,\"#9c179e\"],[0.4444444444444444,\"#bd3786\"],[0.5555555555555556,\"#d8576b\"],[0.6666666666666666,\"#ed7953\"],[0.7777777777777778,\"#fb9f3a\"],[0.8888888888888888,\"#fdca26\"],[1.0,\"#f0f921\"]]}],\"choropleth\":[{\"type\":\"choropleth\",\"colorbar\":{\"outlinewidth\":0,\"ticks\":\"\"}}],\"histogram2d\":[{\"type\":\"histogram2d\",\"colorbar\":{\"outlinewidth\":0,\"ticks\":\"\"},\"colorscale\":[[0.0,\"#0d0887\"],[0.1111111111111111,\"#46039f\"],[0.2222222222222222,\"#7201a8\"],[0.3333333333333333,\"#9c179e\"],[0.4444444444444444,\"#bd3786\"],[0.5555555555555556,\"#d8576b\"],[0.6666666666666666,\"#ed7953\"],[0.7777777777777778,\"#fb9f3a\"],[0.8888888888888888,\"#fdca26\"],[1.0,\"#f0f921\"]]}],\"heatmap\":[{\"type\":\"heatmap\",\"colorbar\":{\"outlinewidth\":0,\"ticks\":\"\"},\"colorscale\":[[0.0,\"#0d0887\"],[0.1111111111111111,\"#46039f\"],[0.2222222222222222,\"#7201a8\"],[0.3333333333333333,\"#9c179e\"],[0.4444444444444444,\"#bd3786\"],[0.5555555555555556,\"#d8576b\"],[0.6666666666666666,\"#ed7953\"],[0.7777777777777778,\"#fb9f3a\"],[0.8888888888888888,\"#fdca26\"],[1.0,\"#f0f921\"]]}],\"heatmapgl\":[{\"type\":\"heatmapgl\",\"colorbar\":{\"outlinewidth\":0,\"ticks\":\"\"},\"colorscale\":[[0.0,\"#0d0887\"],[0.1111111111111111,\"#46039f\"],[0.2222222222222222,\"#7201a8\"],[0.3333333333333333,\"#9c179e\"],[0.4444444444444444,\"#bd3786\"],[0.5555555555555556,\"#d8576b\"],[0.6666666666666666,\"#ed7953\"],[0.7777777777777778,\"#fb9f3a\"],[0.8888888888888888,\"#fdca26\"],[1.0,\"#f0f921\"]]}],\"contourcarpet\":[{\"type\":\"contourcarpet\",\"colorbar\":{\"outlinewidth\":0,\"ticks\":\"\"}}],\"contour\":[{\"type\":\"contour\",\"colorbar\":{\"outlinewidth\":0,\"ticks\":\"\"},\"colorscale\":[[0.0,\"#0d0887\"],[0.1111111111111111,\"#46039f\"],[0.2222222222222222,\"#7201a8\"],[0.3333333333333333,\"#9c179e\"],[0.4444444444444444,\"#bd3786\"],[0.5555555555555556,\"#d8576b\"],[0.6666666666666666,\"#ed7953\"],[0.7777777777777778,\"#fb9f3a\"],[0.8888888888888888,\"#fdca26\"],[1.0,\"#f0f921\"]]}],\"surface\":[{\"type\":\"surface\",\"colorbar\":{\"outlinewidth\":0,\"ticks\":\"\"},\"colorscale\":[[0.0,\"#0d0887\"],[0.1111111111111111,\"#46039f\"],[0.2222222222222222,\"#7201a8\"],[0.3333333333333333,\"#9c179e\"],[0.4444444444444444,\"#bd3786\"],[0.5555555555555556,\"#d8576b\"],[0.6666666666666666,\"#ed7953\"],[0.7777777777777778,\"#fb9f3a\"],[0.8888888888888888,\"#fdca26\"],[1.0,\"#f0f921\"]]}],\"mesh3d\":[{\"type\":\"mesh3d\",\"colorbar\":{\"outlinewidth\":0,\"ticks\":\"\"}}],\"scatter\":[{\"marker\":{\"line\":{\"color\":\"#283442\"}},\"type\":\"scatter\"}],\"parcoords\":[{\"type\":\"parcoords\",\"line\":{\"colorbar\":{\"outlinewidth\":0,\"ticks\":\"\"}}}],\"scatterpolargl\":[{\"type\":\"scatterpolargl\",\"marker\":{\"colorbar\":{\"outlinewidth\":0,\"ticks\":\"\"}}}],\"bar\":[{\"error_x\":{\"color\":\"#f2f5fa\"},\"error_y\":{\"color\":\"#f2f5fa\"},\"marker\":{\"line\":{\"color\":\"rgb(17,17,17)\",\"width\":0.5},\"pattern\":{\"fillmode\":\"overlay\",\"size\":10,\"solidity\":0.2}},\"type\":\"bar\"}],\"scattergeo\":[{\"type\":\"scattergeo\",\"marker\":{\"colorbar\":{\"outlinewidth\":0,\"ticks\":\"\"}}}],\"scatterpolar\":[{\"type\":\"scatterpolar\",\"marker\":{\"colorbar\":{\"outlinewidth\":0,\"ticks\":\"\"}}}],\"histogram\":[{\"marker\":{\"pattern\":{\"fillmode\":\"overlay\",\"size\":10,\"solidity\":0.2}},\"type\":\"histogram\"}],\"scattergl\":[{\"marker\":{\"line\":{\"color\":\"#283442\"}},\"type\":\"scattergl\"}],\"scatter3d\":[{\"type\":\"scatter3d\",\"line\":{\"colorbar\":{\"outlinewidth\":0,\"ticks\":\"\"}},\"marker\":{\"colorbar\":{\"outlinewidth\":0,\"ticks\":\"\"}}}],\"scattermapbox\":[{\"type\":\"scattermapbox\",\"marker\":{\"colorbar\":{\"outlinewidth\":0,\"ticks\":\"\"}}}],\"scatterternary\":[{\"type\":\"scatterternary\",\"marker\":{\"colorbar\":{\"outlinewidth\":0,\"ticks\":\"\"}}}],\"scattercarpet\":[{\"type\":\"scattercarpet\",\"marker\":{\"colorbar\":{\"outlinewidth\":0,\"ticks\":\"\"}}}],\"carpet\":[{\"aaxis\":{\"endlinecolor\":\"#A2B1C6\",\"gridcolor\":\"#506784\",\"linecolor\":\"#506784\",\"minorgridcolor\":\"#506784\",\"startlinecolor\":\"#A2B1C6\"},\"baxis\":{\"endlinecolor\":\"#A2B1C6\",\"gridcolor\":\"#506784\",\"linecolor\":\"#506784\",\"minorgridcolor\":\"#506784\",\"startlinecolor\":\"#A2B1C6\"},\"type\":\"carpet\"}],\"table\":[{\"cells\":{\"fill\":{\"color\":\"#506784\"},\"line\":{\"color\":\"rgb(17,17,17)\"}},\"header\":{\"fill\":{\"color\":\"#2a3f5f\"},\"line\":{\"color\":\"rgb(17,17,17)\"}},\"type\":\"table\"}],\"barpolar\":[{\"marker\":{\"line\":{\"color\":\"rgb(17,17,17)\",\"width\":0.5},\"pattern\":{\"fillmode\":\"overlay\",\"size\":10,\"solidity\":0.2}},\"type\":\"barpolar\"}],\"pie\":[{\"automargin\":true,\"type\":\"pie\"}]},\"layout\":{\"autotypenumbers\":\"strict\",\"colorway\":[\"#636efa\",\"#EF553B\",\"#00cc96\",\"#ab63fa\",\"#FFA15A\",\"#19d3f3\",\"#FF6692\",\"#B6E880\",\"#FF97FF\",\"#FECB52\"],\"font\":{\"color\":\"#f2f5fa\"},\"hovermode\":\"closest\",\"hoverlabel\":{\"align\":\"left\"},\"paper_bgcolor\":\"rgb(17,17,17)\",\"plot_bgcolor\":\"rgb(17,17,17)\",\"polar\":{\"bgcolor\":\"rgb(17,17,17)\",\"angularaxis\":{\"gridcolor\":\"#506784\",\"linecolor\":\"#506784\",\"ticks\":\"\"},\"radialaxis\":{\"gridcolor\":\"#506784\",\"linecolor\":\"#506784\",\"ticks\":\"\"}},\"ternary\":{\"bgcolor\":\"rgb(17,17,17)\",\"aaxis\":{\"gridcolor\":\"#506784\",\"linecolor\":\"#506784\",\"ticks\":\"\"},\"baxis\":{\"gridcolor\":\"#506784\",\"linecolor\":\"#506784\",\"ticks\":\"\"},\"caxis\":{\"gridcolor\":\"#506784\",\"linecolor\":\"#506784\",\"ticks\":\"\"}},\"coloraxis\":{\"colorbar\":{\"outlinewidth\":0,\"ticks\":\"\"}},\"colorscale\":{\"sequential\":[[0.0,\"#0d0887\"],[0.1111111111111111,\"#46039f\"],[0.2222222222222222,\"#7201a8\"],[0.3333333333333333,\"#9c179e\"],[0.4444444444444444,\"#bd3786\"],[0.5555555555555556,\"#d8576b\"],[0.6666666666666666,\"#ed7953\"],[0.7777777777777778,\"#fb9f3a\"],[0.8888888888888888,\"#fdca26\"],[1.0,\"#f0f921\"]],\"sequentialminus\":[[0.0,\"#0d0887\"],[0.1111111111111111,\"#46039f\"],[0.2222222222222222,\"#7201a8\"],[0.3333333333333333,\"#9c179e\"],[0.4444444444444444,\"#bd3786\"],[0.5555555555555556,\"#d8576b\"],[0.6666666666666666,\"#ed7953\"],[0.7777777777777778,\"#fb9f3a\"],[0.8888888888888888,\"#fdca26\"],[1.0,\"#f0f921\"]],\"diverging\":[[0,\"#8e0152\"],[0.1,\"#c51b7d\"],[0.2,\"#de77ae\"],[0.3,\"#f1b6da\"],[0.4,\"#fde0ef\"],[0.5,\"#f7f7f7\"],[0.6,\"#e6f5d0\"],[0.7,\"#b8e186\"],[0.8,\"#7fbc41\"],[0.9,\"#4d9221\"],[1,\"#276419\"]]},\"xaxis\":{\"gridcolor\":\"#283442\",\"linecolor\":\"#506784\",\"ticks\":\"\",\"title\":{\"standoff\":15},\"zerolinecolor\":\"#283442\",\"automargin\":true,\"zerolinewidth\":2},\"yaxis\":{\"gridcolor\":\"#283442\",\"linecolor\":\"#506784\",\"ticks\":\"\",\"title\":{\"standoff\":15},\"zerolinecolor\":\"#283442\",\"automargin\":true,\"zerolinewidth\":2},\"scene\":{\"xaxis\":{\"backgroundcolor\":\"rgb(17,17,17)\",\"gridcolor\":\"#506784\",\"linecolor\":\"#506784\",\"showbackground\":true,\"ticks\":\"\",\"zerolinecolor\":\"#C8D4E3\",\"gridwidth\":2},\"yaxis\":{\"backgroundcolor\":\"rgb(17,17,17)\",\"gridcolor\":\"#506784\",\"linecolor\":\"#506784\",\"showbackground\":true,\"ticks\":\"\",\"zerolinecolor\":\"#C8D4E3\",\"gridwidth\":2},\"zaxis\":{\"backgroundcolor\":\"rgb(17,17,17)\",\"gridcolor\":\"#506784\",\"linecolor\":\"#506784\",\"showbackground\":true,\"ticks\":\"\",\"zerolinecolor\":\"#C8D4E3\",\"gridwidth\":2}},\"shapedefaults\":{\"line\":{\"color\":\"#f2f5fa\"}},\"annotationdefaults\":{\"arrowcolor\":\"#f2f5fa\",\"arrowhead\":0,\"arrowwidth\":1},\"geo\":{\"bgcolor\":\"rgb(17,17,17)\",\"landcolor\":\"rgb(17,17,17)\",\"subunitcolor\":\"#506784\",\"showland\":true,\"showlakes\":true,\"lakecolor\":\"rgb(17,17,17)\"},\"title\":{\"x\":0.05},\"updatemenudefaults\":{\"bgcolor\":\"#506784\",\"borderwidth\":0},\"sliderdefaults\":{\"bgcolor\":\"#C8D4E3\",\"borderwidth\":1,\"bordercolor\":\"rgb(17,17,17)\",\"tickwidth\":0},\"mapbox\":{\"style\":\"dark\"}}},\"xaxis\":{\"anchor\":\"y\",\"domain\":[0.0,1.0],\"title\":{\"text\":\"name_\"}},\"yaxis\":{\"anchor\":\"x\",\"domain\":[0.0,1.0],\"title\":{\"text\":\"scramble_epa_sum\"}},\"coloraxis\":{\"colorbar\":{\"title\":{\"text\":\"scramble_epa_sum\"}},\"colorscale\":[[0.0,\"#0d0887\"],[0.1111111111111111,\"#46039f\"],[0.2222222222222222,\"#7201a8\"],[0.3333333333333333,\"#9c179e\"],[0.4444444444444444,\"#bd3786\"],[0.5555555555555556,\"#d8576b\"],[0.6666666666666666,\"#ed7953\"],[0.7777777777777778,\"#fb9f3a\"],[0.8888888888888888,\"#fdca26\"],[1.0,\"#f0f921\"]]},\"legend\":{\"tracegroupgap\":0},\"margin\":{\"t\":60},\"barmode\":\"relative\",\"height\":700},                        {\"responsive\": true}                    ).then(function(){\n                            \nvar gd = document.getElementById('d8919038-4d74-4001-8740-a9551093a518');\nvar x = new MutationObserver(function (mutations, observer) {{\n        var display = window.getComputedStyle(gd).display;\n        if (!display || display === 'none') {{\n            console.log([gd, 'removed!']);\n            Plotly.purge(gd);\n            observer.disconnect();\n        }}\n}});\n\n// Listen for the removal of the full notebook cells\nvar notebookContainer = gd.closest('#notebook-container');\nif (notebookContainer) {{\n    x.observe(notebookContainer, {childList: true});\n}}\n\n// Listen for the clearing of the current output cell\nvar outputEl = gd.closest('.output');\nif (outputEl) {{\n    x.observe(outputEl, {childList: true});\n}}\n\n                        })                };                });            </script>        </div>"
     },
     "metadata": {},
     "output_type": "display_data"
    }
   ],
   "source": [
    "epa = epa.sort_values(by = 'scramble_epa_sum', ascending=False)\n",
    "px.bar(epa, x = 'name_', y = 'scramble_epa_sum', color = 'scramble_epa_sum', height = 700)"
   ],
   "metadata": {
    "collapsed": false,
    "ExecuteTime": {
     "end_time": "2024-10-16T04:38:34.044999Z",
     "start_time": "2024-10-16T04:38:34.033827Z"
    }
   },
   "id": "f2c8d14d34b0316e"
  },
  {
   "cell_type": "code",
   "execution_count": 62,
   "outputs": [
    {
     "name": "stdout",
     "output_type": "stream",
     "text": [
      "https://site.api.espn.com/apis/site/v2/sports/football/nfl/scoreboard?limit=1000&dates=2024&seasontype=2&week=1\n",
      "https://site.api.espn.com/apis/site/v2/sports/football/nfl/scoreboard?limit=1000&dates=2024&seasontype=2&week=2\n",
      "https://site.api.espn.com/apis/site/v2/sports/football/nfl/scoreboard?limit=1000&dates=2024&seasontype=2&week=3\n",
      "https://site.api.espn.com/apis/site/v2/sports/football/nfl/scoreboard?limit=1000&dates=2024&seasontype=2&week=4\n",
      "https://site.api.espn.com/apis/site/v2/sports/football/nfl/scoreboard?limit=1000&dates=2024&seasontype=2&week=5\n",
      "https://site.api.espn.com/apis/site/v2/sports/football/nfl/scoreboard?limit=1000&dates=2024&seasontype=2&week=6\n",
      "https://site.api.espn.com/apis/site/v2/sports/football/nfl/scoreboard?limit=1000&dates=2024&seasontype=2&week=7\n",
      "https://site.api.espn.com/apis/site/v2/sports/football/nfl/scoreboard?limit=1000&dates=2024&seasontype=2&week=8\n",
      "https://site.api.espn.com/apis/site/v2/sports/football/nfl/scoreboard?limit=1000&dates=2024&seasontype=2&week=9\n",
      "https://site.api.espn.com/apis/site/v2/sports/football/nfl/scoreboard?limit=1000&dates=2024&seasontype=2&week=10\n",
      "https://site.api.espn.com/apis/site/v2/sports/football/nfl/scoreboard?limit=1000&dates=2024&seasontype=2&week=11\n",
      "https://site.api.espn.com/apis/site/v2/sports/football/nfl/scoreboard?limit=1000&dates=2024&seasontype=2&week=12\n",
      "https://site.api.espn.com/apis/site/v2/sports/football/nfl/scoreboard?limit=1000&dates=2024&seasontype=2&week=13\n",
      "https://site.api.espn.com/apis/site/v2/sports/football/nfl/scoreboard?limit=1000&dates=2024&seasontype=2&week=14\n",
      "https://site.api.espn.com/apis/site/v2/sports/football/nfl/scoreboard?limit=1000&dates=2024&seasontype=2&week=15\n",
      "https://site.api.espn.com/apis/site/v2/sports/football/nfl/scoreboard?limit=1000&dates=2024&seasontype=2&week=16\n",
      "https://site.api.espn.com/apis/site/v2/sports/football/nfl/scoreboard?limit=1000&dates=2024&seasontype=2&week=17\n",
      "https://site.api.espn.com/apis/site/v2/sports/football/nfl/scoreboard?limit=1000&dates=2024&seasontype=2&week=18\n"
     ]
    },
    {
     "name": "stderr",
     "output_type": "stream",
     "text": [
      "100%|██████████| 92/92 [00:21<00:00,  4.34it/s]\n"
     ]
    },
    {
     "name": "stdout",
     "output_type": "stream",
     "text": [
      "https://sports.core.api.espn.com/v2/sports/football/leagues/nfl/seasons/2024/types/2/weeks/1/qbr/10000?page=1\n",
      "https://sports.core.api.espn.com/v2/sports/football/leagues/nfl/seasons/2024/types/2/weeks/1/qbr/10000?page=2\n",
      "https://sports.core.api.espn.com/v2/sports/football/leagues/nfl/seasons/2024/types/2/weeks/2/qbr/10000?page=1\n",
      "https://sports.core.api.espn.com/v2/sports/football/leagues/nfl/seasons/2024/types/2/weeks/2/qbr/10000?page=2\n",
      "https://sports.core.api.espn.com/v2/sports/football/leagues/nfl/seasons/2024/types/2/weeks/3/qbr/10000?page=1\n",
      "https://sports.core.api.espn.com/v2/sports/football/leagues/nfl/seasons/2024/types/2/weeks/3/qbr/10000?page=2\n",
      "https://sports.core.api.espn.com/v2/sports/football/leagues/nfl/seasons/2024/types/2/weeks/4/qbr/10000?page=1\n",
      "https://sports.core.api.espn.com/v2/sports/football/leagues/nfl/seasons/2024/types/2/weeks/4/qbr/10000?page=2\n",
      "https://sports.core.api.espn.com/v2/sports/football/leagues/nfl/seasons/2024/types/2/weeks/5/qbr/10000?page=1\n",
      "https://sports.core.api.espn.com/v2/sports/football/leagues/nfl/seasons/2024/types/2/weeks/5/qbr/10000?page=2\n",
      "https://sports.core.api.espn.com/v2/sports/football/leagues/nfl/seasons/2024/types/2/weeks/6/qbr/10000?page=1\n",
      "https://sports.core.api.espn.com/v2/sports/football/leagues/nfl/seasons/2024/types/2/weeks/6/qbr/10000?page=2\n",
      "https://sports.core.api.espn.com/v2/sports/football/leagues/nfl/seasons/2024/types/2/weeks/7/qbr/10000?page=1\n",
      "https://sports.core.api.espn.com/v2/sports/football/leagues/nfl/seasons/2024/types/2/weeks/8/qbr/10000?page=1\n",
      "https://sports.core.api.espn.com/v2/sports/football/leagues/nfl/seasons/2024/types/2/weeks/9/qbr/10000?page=1\n",
      "https://sports.core.api.espn.com/v2/sports/football/leagues/nfl/seasons/2024/types/2/weeks/10/qbr/10000?page=1\n",
      "https://sports.core.api.espn.com/v2/sports/football/leagues/nfl/seasons/2024/types/2/weeks/11/qbr/10000?page=1\n",
      "https://sports.core.api.espn.com/v2/sports/football/leagues/nfl/seasons/2024/types/2/weeks/12/qbr/10000?page=1\n",
      "https://sports.core.api.espn.com/v2/sports/football/leagues/nfl/seasons/2024/types/2/weeks/13/qbr/10000?page=1\n",
      "https://sports.core.api.espn.com/v2/sports/football/leagues/nfl/seasons/2024/types/2/weeks/14/qbr/10000?page=1\n",
      "https://sports.core.api.espn.com/v2/sports/football/leagues/nfl/seasons/2024/types/2/weeks/15/qbr/10000?page=1\n",
      "https://sports.core.api.espn.com/v2/sports/football/leagues/nfl/seasons/2024/types/2/weeks/16/qbr/10000?page=1\n",
      "https://sports.core.api.espn.com/v2/sports/football/leagues/nfl/seasons/2024/types/2/weeks/17/qbr/10000?page=1\n",
      "https://sports.core.api.espn.com/v2/sports/football/leagues/nfl/seasons/2024/types/2/weeks/18/qbr/10000?page=1\n"
     ]
    }
   ],
   "source": [
    "pb = fetch.qb_epa(year = 2024)"
   ],
   "metadata": {
    "collapsed": false,
    "ExecuteTime": {
     "end_time": "2024-10-16T03:42:58.199557Z",
     "start_time": "2024-10-16T03:42:23.935261Z"
    }
   },
   "id": "2eea1dcc23f4134f"
  },
  {
   "cell_type": "code",
   "execution_count": 63,
   "outputs": [
    {
     "data": {
      "text/plain": "    athlete_id         id points_added pass_epa rush_epa sack_epa penalty_epa  \\\n0         8439  401671696         -0.3      1.4      0.0     -0.5         0.0   \n1        12483  401671792          1.8      5.8      0.0     -0.6         1.0   \n2        14880  401671744         -1.7      0.6      0.0     -0.5         0.2   \n3        15864  401671664          3.1      2.8      0.0     -0.6         0.7   \n4        16757  401671734          3.7      3.2      0.1     -0.2         0.3   \n..         ...        ...          ...      ...      ...      ...         ...   \n178    4426339  401671735         -2.8     -0.2      0.0     -1.8         0.3   \n179    4426348  401671625          3.3      6.1     -0.5     -1.2         0.3   \n180    4431452  401671619         -2.9     -0.3      0.0     -1.5        -0.3   \n181    4431611  401671802          7.4      7.6      0.5     -0.9         0.6   \n182    4432577  401671619          3.7      4.4      0.0     -0.5         1.1   \n\n    total_epa qb_plays  cwa  ... int_epa yac_epa run_epa scramble_epa  \\\n0         1.4       22  0.0  ...     0.0     0.2     0.0          0.0   \n1         6.8       56  0.0  ...     0.0     0.0     0.0          0.0   \n2         0.8       29  0.0  ...     0.0    -0.1     0.0          0.0   \n3         6.1       36  0.0  ...     0.0    -0.4     2.6          2.5   \n4         3.8       28  0.0  ...     0.0    -0.4     0.2          0.1   \n..        ...      ...  ...  ...     ...     ...     ...          ...   \n178       1.3       51  0.0  ...     0.0     0.0     1.3          1.3   \n179       7.0       47  0.0  ...     0.0    -0.1     0.6          0.8   \n180       0.8       46  0.0  ...     0.0     0.5     1.4          1.1   \n181       9.7       39  0.0  ...     0.0     0.2     1.5          0.9   \n182       6.2       37  0.0  ...     0.0    -0.4     0.7          0.6   \n\n    expected_sack_epa fumble_epa defense_faced_epa total_qbr unq_rank  \\\n0                 0.0        0.0              52.0      52.5       19   \n1                 0.0        0.0              54.1      65.5       15   \n2                 0.0        0.0              47.0      34.0       26   \n3                 0.0        0.0              48.8      78.8       10   \n4                 0.0        0.0              68.3      76.0       12   \n..                ...        ...               ...       ...      ...   \n178               0.0        0.0              55.6      27.9       27   \n179               0.0        0.0              56.5      74.4       10   \n180               0.0       -0.7              48.8      31.3       25   \n181               0.0        0.0              70.3      88.4        2   \n182               0.0        0.0              65.0      74.6        9   \n\n                 name  \n0       Aaron Rodgers  \n1    Matthew Stafford  \n2        Kirk Cousins  \n3          Geno Smith  \n4          Derek Carr  \n..                ...  \n178   Spencer Rattler  \n179    Jayden Daniels  \n180        Drake Maye  \n181    Caleb Williams  \n182       C.J. Stroud  \n\n[183 rows x 22 columns]",
      "text/html": "<div>\n<style scoped>\n    .dataframe tbody tr th:only-of-type {\n        vertical-align: middle;\n    }\n\n    .dataframe tbody tr th {\n        vertical-align: top;\n    }\n\n    .dataframe thead th {\n        text-align: right;\n    }\n</style>\n<table border=\"1\" class=\"dataframe\">\n  <thead>\n    <tr style=\"text-align: right;\">\n      <th></th>\n      <th>athlete_id</th>\n      <th>id</th>\n      <th>points_added</th>\n      <th>pass_epa</th>\n      <th>rush_epa</th>\n      <th>sack_epa</th>\n      <th>penalty_epa</th>\n      <th>total_epa</th>\n      <th>qb_plays</th>\n      <th>cwa</th>\n      <th>...</th>\n      <th>int_epa</th>\n      <th>yac_epa</th>\n      <th>run_epa</th>\n      <th>scramble_epa</th>\n      <th>expected_sack_epa</th>\n      <th>fumble_epa</th>\n      <th>defense_faced_epa</th>\n      <th>total_qbr</th>\n      <th>unq_rank</th>\n      <th>name</th>\n    </tr>\n  </thead>\n  <tbody>\n    <tr>\n      <th>0</th>\n      <td>8439</td>\n      <td>401671696</td>\n      <td>-0.3</td>\n      <td>1.4</td>\n      <td>0.0</td>\n      <td>-0.5</td>\n      <td>0.0</td>\n      <td>1.4</td>\n      <td>22</td>\n      <td>0.0</td>\n      <td>...</td>\n      <td>0.0</td>\n      <td>0.2</td>\n      <td>0.0</td>\n      <td>0.0</td>\n      <td>0.0</td>\n      <td>0.0</td>\n      <td>52.0</td>\n      <td>52.5</td>\n      <td>19</td>\n      <td>Aaron Rodgers</td>\n    </tr>\n    <tr>\n      <th>1</th>\n      <td>12483</td>\n      <td>401671792</td>\n      <td>1.8</td>\n      <td>5.8</td>\n      <td>0.0</td>\n      <td>-0.6</td>\n      <td>1.0</td>\n      <td>6.8</td>\n      <td>56</td>\n      <td>0.0</td>\n      <td>...</td>\n      <td>0.0</td>\n      <td>0.0</td>\n      <td>0.0</td>\n      <td>0.0</td>\n      <td>0.0</td>\n      <td>0.0</td>\n      <td>54.1</td>\n      <td>65.5</td>\n      <td>15</td>\n      <td>Matthew Stafford</td>\n    </tr>\n    <tr>\n      <th>2</th>\n      <td>14880</td>\n      <td>401671744</td>\n      <td>-1.7</td>\n      <td>0.6</td>\n      <td>0.0</td>\n      <td>-0.5</td>\n      <td>0.2</td>\n      <td>0.8</td>\n      <td>29</td>\n      <td>0.0</td>\n      <td>...</td>\n      <td>0.0</td>\n      <td>-0.1</td>\n      <td>0.0</td>\n      <td>0.0</td>\n      <td>0.0</td>\n      <td>0.0</td>\n      <td>47.0</td>\n      <td>34.0</td>\n      <td>26</td>\n      <td>Kirk Cousins</td>\n    </tr>\n    <tr>\n      <th>3</th>\n      <td>15864</td>\n      <td>401671664</td>\n      <td>3.1</td>\n      <td>2.8</td>\n      <td>0.0</td>\n      <td>-0.6</td>\n      <td>0.7</td>\n      <td>6.1</td>\n      <td>36</td>\n      <td>0.0</td>\n      <td>...</td>\n      <td>0.0</td>\n      <td>-0.4</td>\n      <td>2.6</td>\n      <td>2.5</td>\n      <td>0.0</td>\n      <td>0.0</td>\n      <td>48.8</td>\n      <td>78.8</td>\n      <td>10</td>\n      <td>Geno Smith</td>\n    </tr>\n    <tr>\n      <th>4</th>\n      <td>16757</td>\n      <td>401671734</td>\n      <td>3.7</td>\n      <td>3.2</td>\n      <td>0.1</td>\n      <td>-0.2</td>\n      <td>0.3</td>\n      <td>3.8</td>\n      <td>28</td>\n      <td>0.0</td>\n      <td>...</td>\n      <td>0.0</td>\n      <td>-0.4</td>\n      <td>0.2</td>\n      <td>0.1</td>\n      <td>0.0</td>\n      <td>0.0</td>\n      <td>68.3</td>\n      <td>76.0</td>\n      <td>12</td>\n      <td>Derek Carr</td>\n    </tr>\n    <tr>\n      <th>...</th>\n      <td>...</td>\n      <td>...</td>\n      <td>...</td>\n      <td>...</td>\n      <td>...</td>\n      <td>...</td>\n      <td>...</td>\n      <td>...</td>\n      <td>...</td>\n      <td>...</td>\n      <td>...</td>\n      <td>...</td>\n      <td>...</td>\n      <td>...</td>\n      <td>...</td>\n      <td>...</td>\n      <td>...</td>\n      <td>...</td>\n      <td>...</td>\n      <td>...</td>\n      <td>...</td>\n    </tr>\n    <tr>\n      <th>178</th>\n      <td>4426339</td>\n      <td>401671735</td>\n      <td>-2.8</td>\n      <td>-0.2</td>\n      <td>0.0</td>\n      <td>-1.8</td>\n      <td>0.3</td>\n      <td>1.3</td>\n      <td>51</td>\n      <td>0.0</td>\n      <td>...</td>\n      <td>0.0</td>\n      <td>0.0</td>\n      <td>1.3</td>\n      <td>1.3</td>\n      <td>0.0</td>\n      <td>0.0</td>\n      <td>55.6</td>\n      <td>27.9</td>\n      <td>27</td>\n      <td>Spencer Rattler</td>\n    </tr>\n    <tr>\n      <th>179</th>\n      <td>4426348</td>\n      <td>401671625</td>\n      <td>3.3</td>\n      <td>6.1</td>\n      <td>-0.5</td>\n      <td>-1.2</td>\n      <td>0.3</td>\n      <td>7.0</td>\n      <td>47</td>\n      <td>0.0</td>\n      <td>...</td>\n      <td>0.0</td>\n      <td>-0.1</td>\n      <td>0.6</td>\n      <td>0.8</td>\n      <td>0.0</td>\n      <td>0.0</td>\n      <td>56.5</td>\n      <td>74.4</td>\n      <td>10</td>\n      <td>Jayden Daniels</td>\n    </tr>\n    <tr>\n      <th>180</th>\n      <td>4431452</td>\n      <td>401671619</td>\n      <td>-2.9</td>\n      <td>-0.3</td>\n      <td>0.0</td>\n      <td>-1.5</td>\n      <td>-0.3</td>\n      <td>0.8</td>\n      <td>46</td>\n      <td>0.0</td>\n      <td>...</td>\n      <td>0.0</td>\n      <td>0.5</td>\n      <td>1.4</td>\n      <td>1.1</td>\n      <td>0.0</td>\n      <td>-0.7</td>\n      <td>48.8</td>\n      <td>31.3</td>\n      <td>25</td>\n      <td>Drake Maye</td>\n    </tr>\n    <tr>\n      <th>181</th>\n      <td>4431611</td>\n      <td>401671802</td>\n      <td>7.4</td>\n      <td>7.6</td>\n      <td>0.5</td>\n      <td>-0.9</td>\n      <td>0.6</td>\n      <td>9.7</td>\n      <td>39</td>\n      <td>0.0</td>\n      <td>...</td>\n      <td>0.0</td>\n      <td>0.2</td>\n      <td>1.5</td>\n      <td>0.9</td>\n      <td>0.0</td>\n      <td>0.0</td>\n      <td>70.3</td>\n      <td>88.4</td>\n      <td>2</td>\n      <td>Caleb Williams</td>\n    </tr>\n    <tr>\n      <th>182</th>\n      <td>4432577</td>\n      <td>401671619</td>\n      <td>3.7</td>\n      <td>4.4</td>\n      <td>0.0</td>\n      <td>-0.5</td>\n      <td>1.1</td>\n      <td>6.2</td>\n      <td>37</td>\n      <td>0.0</td>\n      <td>...</td>\n      <td>0.0</td>\n      <td>-0.4</td>\n      <td>0.7</td>\n      <td>0.6</td>\n      <td>0.0</td>\n      <td>0.0</td>\n      <td>65.0</td>\n      <td>74.6</td>\n      <td>9</td>\n      <td>C.J. Stroud</td>\n    </tr>\n  </tbody>\n</table>\n<p>183 rows × 22 columns</p>\n</div>"
     },
     "execution_count": 63,
     "metadata": {},
     "output_type": "execute_result"
    }
   ],
   "source": [
    "pb"
   ],
   "metadata": {
    "collapsed": false,
    "ExecuteTime": {
     "end_time": "2024-10-16T03:43:03.202370Z",
     "start_time": "2024-10-16T03:43:03.196209Z"
    }
   },
   "id": "5668b5b1e0692fad"
  },
  {
   "cell_type": "code",
   "execution_count": 9,
   "outputs": [
    {
     "data": {
      "text/plain": "       name                id\n0   4361741       Brock Purdy\n1     15864        Geno Smith\n2   4360310   Trevor Lawrence\n3   4241464         Mac Jones\n4   4431611    Caleb Williams\n..      ...               ...\n60  4241479    Tua Tagovailoa\n61  3916370          Jack Fox\n62  4242431       Ty Chandler\n63    14163      Tyrod Taylor\n64  3126486  Deebo Samuel Sr.\n\n[65 rows x 2 columns]",
      "text/html": "<div>\n<style scoped>\n    .dataframe tbody tr th:only-of-type {\n        vertical-align: middle;\n    }\n\n    .dataframe tbody tr th {\n        vertical-align: top;\n    }\n\n    .dataframe thead th {\n        text-align: right;\n    }\n</style>\n<table border=\"1\" class=\"dataframe\">\n  <thead>\n    <tr style=\"text-align: right;\">\n      <th></th>\n      <th>name</th>\n      <th>id</th>\n    </tr>\n  </thead>\n  <tbody>\n    <tr>\n      <th>0</th>\n      <td>4361741</td>\n      <td>Brock Purdy</td>\n    </tr>\n    <tr>\n      <th>1</th>\n      <td>15864</td>\n      <td>Geno Smith</td>\n    </tr>\n    <tr>\n      <th>2</th>\n      <td>4360310</td>\n      <td>Trevor Lawrence</td>\n    </tr>\n    <tr>\n      <th>3</th>\n      <td>4241464</td>\n      <td>Mac Jones</td>\n    </tr>\n    <tr>\n      <th>4</th>\n      <td>4431611</td>\n      <td>Caleb Williams</td>\n    </tr>\n    <tr>\n      <th>...</th>\n      <td>...</td>\n      <td>...</td>\n    </tr>\n    <tr>\n      <th>60</th>\n      <td>4241479</td>\n      <td>Tua Tagovailoa</td>\n    </tr>\n    <tr>\n      <th>61</th>\n      <td>3916370</td>\n      <td>Jack Fox</td>\n    </tr>\n    <tr>\n      <th>62</th>\n      <td>4242431</td>\n      <td>Ty Chandler</td>\n    </tr>\n    <tr>\n      <th>63</th>\n      <td>14163</td>\n      <td>Tyrod Taylor</td>\n    </tr>\n    <tr>\n      <th>64</th>\n      <td>3126486</td>\n      <td>Deebo Samuel Sr.</td>\n    </tr>\n  </tbody>\n</table>\n<p>65 rows × 2 columns</p>\n</div>"
     },
     "execution_count": 9,
     "metadata": {},
     "output_type": "execute_result"
    }
   ],
   "source": [
    "athlete_dict = {'name':[], 'id':[]}\n",
    "\n",
    "for id, name in zip(pb.name.unique(), pb.athlete_id.unique()):\n",
    "    athlete_dict['name'].append(name)\n",
    "    athlete_dict['id'].append(id)\n",
    "    \n",
    "athlete_df = pd.DataFrame(athlete_dict)\n",
    "athlete_df"
   ],
   "metadata": {
    "collapsed": false,
    "ExecuteTime": {
     "end_time": "2024-10-14T18:11:29.168672Z",
     "start_time": "2024-10-14T18:11:29.157180Z"
    }
   },
   "id": "f030cde5f6acf5ab"
  },
  {
   "cell_type": "code",
   "execution_count": 6,
   "outputs": [
    {
     "data": {
      "text/plain": "                  date                  team              name athlete_id  \\\n0    2024-10-11T00:15Z   San Francisco 49ers       Brock Purdy    4361741   \n1    2024-10-11T00:15Z      Seattle Seahawks        Geno Smith      15864   \n2    2024-10-13T13:30Z  Jacksonville Jaguars   Trevor Lawrence    4360310   \n3    2024-10-13T13:30Z  Jacksonville Jaguars         Mac Jones    4241464   \n4    2024-10-13T13:30Z         Chicago Bears    Caleb Williams    4431611   \n..                 ...                   ...               ...        ...   \n215  2024-09-09T00:20Z         Detroit Lions        Jared Goff    3046779   \n216  2024-09-10T00:15Z         New York Jets     Aaron Rodgers       8439   \n217  2024-09-10T00:15Z         New York Jets      Tyrod Taylor      14163   \n218  2024-09-10T00:15Z   San Francisco 49ers       Brock Purdy    4361741   \n219  2024-09-10T00:15Z   San Francisco 49ers  Deebo Samuel Sr.    3126486   \n\n    number  yards  yards_per_attempt  touchdowns  interceptions sacks  \\\n0       13    255                9.1           3              0   0-0   \n1        7    312                6.0           1              2   1-6   \n2       16    234                6.7           2              1  3-20   \n3       10      6                6.0           0              0  1-10   \n4       18    226                7.8           4              1   3-5   \n..     ...    ...                ...         ...            ...   ...   \n215     16    217                7.8           1              1  2-17   \n216      8    167                8.0           1              1   1-5   \n217      2     36                4.5           1              0   0-0   \n218     13    231                8.0           0              0   2-6   \n219      1      0                0.0           0              0   1-4   \n\n     adjusted_qbr  passer_rating  completions  attempts  times_sacked  \\\n0            90.5          129.3           18        28             0   \n1            53.1           65.5           30        52             1   \n2            66.6           91.8           23        35             3   \n3             8.1           91.7            1         1             1   \n4            88.4          124.4           23        29             3   \n..            ...            ...          ...       ...           ...   \n215          30.8           85.0           18        28             2   \n216          52.3           82.8           13        21             1   \n217          96.1          122.9            6         8             0   \n218          87.4           89.9           19        29             2   \n219           0.0            0.0            0         0             1   \n\n     sack_yards  completion_%  yards_per_completion  touchdown_%  \n0             0     64.285714             14.166667    10.714286  \n1             6     57.692308             10.400000     1.923077  \n2            20     65.714286             10.173913     5.714286  \n3            10    100.000000              6.000000     0.000000  \n4             5     79.310345              9.826087    13.793103  \n..          ...           ...                   ...          ...  \n215          17     64.285714             12.055556     3.571429  \n216           5     61.904762             12.846154     4.761905  \n217           0     75.000000              6.000000    12.500000  \n218           6     65.517241             12.157895     0.000000  \n219           4           NaN                   NaN          NaN  \n\n[220 rows x 19 columns]",
      "text/html": "<div>\n<style scoped>\n    .dataframe tbody tr th:only-of-type {\n        vertical-align: middle;\n    }\n\n    .dataframe tbody tr th {\n        vertical-align: top;\n    }\n\n    .dataframe thead th {\n        text-align: right;\n    }\n</style>\n<table border=\"1\" class=\"dataframe\">\n  <thead>\n    <tr style=\"text-align: right;\">\n      <th></th>\n      <th>date</th>\n      <th>team</th>\n      <th>name</th>\n      <th>athlete_id</th>\n      <th>number</th>\n      <th>yards</th>\n      <th>yards_per_attempt</th>\n      <th>touchdowns</th>\n      <th>interceptions</th>\n      <th>sacks</th>\n      <th>adjusted_qbr</th>\n      <th>passer_rating</th>\n      <th>completions</th>\n      <th>attempts</th>\n      <th>times_sacked</th>\n      <th>sack_yards</th>\n      <th>completion_%</th>\n      <th>yards_per_completion</th>\n      <th>touchdown_%</th>\n    </tr>\n  </thead>\n  <tbody>\n    <tr>\n      <th>0</th>\n      <td>2024-10-11T00:15Z</td>\n      <td>San Francisco 49ers</td>\n      <td>Brock Purdy</td>\n      <td>4361741</td>\n      <td>13</td>\n      <td>255</td>\n      <td>9.1</td>\n      <td>3</td>\n      <td>0</td>\n      <td>0-0</td>\n      <td>90.5</td>\n      <td>129.3</td>\n      <td>18</td>\n      <td>28</td>\n      <td>0</td>\n      <td>0</td>\n      <td>64.285714</td>\n      <td>14.166667</td>\n      <td>10.714286</td>\n    </tr>\n    <tr>\n      <th>1</th>\n      <td>2024-10-11T00:15Z</td>\n      <td>Seattle Seahawks</td>\n      <td>Geno Smith</td>\n      <td>15864</td>\n      <td>7</td>\n      <td>312</td>\n      <td>6.0</td>\n      <td>1</td>\n      <td>2</td>\n      <td>1-6</td>\n      <td>53.1</td>\n      <td>65.5</td>\n      <td>30</td>\n      <td>52</td>\n      <td>1</td>\n      <td>6</td>\n      <td>57.692308</td>\n      <td>10.400000</td>\n      <td>1.923077</td>\n    </tr>\n    <tr>\n      <th>2</th>\n      <td>2024-10-13T13:30Z</td>\n      <td>Jacksonville Jaguars</td>\n      <td>Trevor Lawrence</td>\n      <td>4360310</td>\n      <td>16</td>\n      <td>234</td>\n      <td>6.7</td>\n      <td>2</td>\n      <td>1</td>\n      <td>3-20</td>\n      <td>66.6</td>\n      <td>91.8</td>\n      <td>23</td>\n      <td>35</td>\n      <td>3</td>\n      <td>20</td>\n      <td>65.714286</td>\n      <td>10.173913</td>\n      <td>5.714286</td>\n    </tr>\n    <tr>\n      <th>3</th>\n      <td>2024-10-13T13:30Z</td>\n      <td>Jacksonville Jaguars</td>\n      <td>Mac Jones</td>\n      <td>4241464</td>\n      <td>10</td>\n      <td>6</td>\n      <td>6.0</td>\n      <td>0</td>\n      <td>0</td>\n      <td>1-10</td>\n      <td>8.1</td>\n      <td>91.7</td>\n      <td>1</td>\n      <td>1</td>\n      <td>1</td>\n      <td>10</td>\n      <td>100.000000</td>\n      <td>6.000000</td>\n      <td>0.000000</td>\n    </tr>\n    <tr>\n      <th>4</th>\n      <td>2024-10-13T13:30Z</td>\n      <td>Chicago Bears</td>\n      <td>Caleb Williams</td>\n      <td>4431611</td>\n      <td>18</td>\n      <td>226</td>\n      <td>7.8</td>\n      <td>4</td>\n      <td>1</td>\n      <td>3-5</td>\n      <td>88.4</td>\n      <td>124.4</td>\n      <td>23</td>\n      <td>29</td>\n      <td>3</td>\n      <td>5</td>\n      <td>79.310345</td>\n      <td>9.826087</td>\n      <td>13.793103</td>\n    </tr>\n    <tr>\n      <th>...</th>\n      <td>...</td>\n      <td>...</td>\n      <td>...</td>\n      <td>...</td>\n      <td>...</td>\n      <td>...</td>\n      <td>...</td>\n      <td>...</td>\n      <td>...</td>\n      <td>...</td>\n      <td>...</td>\n      <td>...</td>\n      <td>...</td>\n      <td>...</td>\n      <td>...</td>\n      <td>...</td>\n      <td>...</td>\n      <td>...</td>\n      <td>...</td>\n    </tr>\n    <tr>\n      <th>215</th>\n      <td>2024-09-09T00:20Z</td>\n      <td>Detroit Lions</td>\n      <td>Jared Goff</td>\n      <td>3046779</td>\n      <td>16</td>\n      <td>217</td>\n      <td>7.8</td>\n      <td>1</td>\n      <td>1</td>\n      <td>2-17</td>\n      <td>30.8</td>\n      <td>85.0</td>\n      <td>18</td>\n      <td>28</td>\n      <td>2</td>\n      <td>17</td>\n      <td>64.285714</td>\n      <td>12.055556</td>\n      <td>3.571429</td>\n    </tr>\n    <tr>\n      <th>216</th>\n      <td>2024-09-10T00:15Z</td>\n      <td>New York Jets</td>\n      <td>Aaron Rodgers</td>\n      <td>8439</td>\n      <td>8</td>\n      <td>167</td>\n      <td>8.0</td>\n      <td>1</td>\n      <td>1</td>\n      <td>1-5</td>\n      <td>52.3</td>\n      <td>82.8</td>\n      <td>13</td>\n      <td>21</td>\n      <td>1</td>\n      <td>5</td>\n      <td>61.904762</td>\n      <td>12.846154</td>\n      <td>4.761905</td>\n    </tr>\n    <tr>\n      <th>217</th>\n      <td>2024-09-10T00:15Z</td>\n      <td>New York Jets</td>\n      <td>Tyrod Taylor</td>\n      <td>14163</td>\n      <td>2</td>\n      <td>36</td>\n      <td>4.5</td>\n      <td>1</td>\n      <td>0</td>\n      <td>0-0</td>\n      <td>96.1</td>\n      <td>122.9</td>\n      <td>6</td>\n      <td>8</td>\n      <td>0</td>\n      <td>0</td>\n      <td>75.000000</td>\n      <td>6.000000</td>\n      <td>12.500000</td>\n    </tr>\n    <tr>\n      <th>218</th>\n      <td>2024-09-10T00:15Z</td>\n      <td>San Francisco 49ers</td>\n      <td>Brock Purdy</td>\n      <td>4361741</td>\n      <td>13</td>\n      <td>231</td>\n      <td>8.0</td>\n      <td>0</td>\n      <td>0</td>\n      <td>2-6</td>\n      <td>87.4</td>\n      <td>89.9</td>\n      <td>19</td>\n      <td>29</td>\n      <td>2</td>\n      <td>6</td>\n      <td>65.517241</td>\n      <td>12.157895</td>\n      <td>0.000000</td>\n    </tr>\n    <tr>\n      <th>219</th>\n      <td>2024-09-10T00:15Z</td>\n      <td>San Francisco 49ers</td>\n      <td>Deebo Samuel Sr.</td>\n      <td>3126486</td>\n      <td>1</td>\n      <td>0</td>\n      <td>0.0</td>\n      <td>0</td>\n      <td>0</td>\n      <td>1-4</td>\n      <td>0.0</td>\n      <td>0.0</td>\n      <td>0</td>\n      <td>0</td>\n      <td>1</td>\n      <td>4</td>\n      <td>NaN</td>\n      <td>NaN</td>\n      <td>NaN</td>\n    </tr>\n  </tbody>\n</table>\n<p>220 rows × 19 columns</p>\n</div>"
     },
     "execution_count": 6,
     "metadata": {},
     "output_type": "execute_result"
    }
   ],
   "source": [
    "\n",
    "pb"
   ],
   "metadata": {
    "collapsed": false,
    "ExecuteTime": {
     "end_time": "2024-10-14T18:09:12.789457Z",
     "start_time": "2024-10-14T18:09:12.764229Z"
    }
   },
   "id": "c0ffb5296df1ef9b"
  },
  {
   "cell_type": "code",
   "execution_count": 52,
   "outputs": [],
   "source": [],
   "metadata": {
    "collapsed": false,
    "ExecuteTime": {
     "end_time": "2024-10-13T04:45:30.291641Z",
     "start_time": "2024-10-13T04:45:30.286383Z"
    }
   },
   "id": "8cfbbba7da203ed5"
  },
  {
   "cell_type": "code",
   "execution_count": 5,
   "outputs": [
    {
     "name": "stdout",
     "output_type": "stream",
     "text": [
      "https://site.api.espn.com/apis/site/v2/sports/football/nfl/scoreboard?limit=1000&dates=2024&seasontype=2&week=1\n",
      "https://site.api.espn.com/apis/site/v2/sports/football/nfl/scoreboard?limit=1000&dates=2024&seasontype=2&week=2\n",
      "https://site.api.espn.com/apis/site/v2/sports/football/nfl/scoreboard?limit=1000&dates=2024&seasontype=2&week=3\n",
      "https://site.api.espn.com/apis/site/v2/sports/football/nfl/scoreboard?limit=1000&dates=2024&seasontype=2&week=4\n",
      "https://site.api.espn.com/apis/site/v2/sports/football/nfl/scoreboard?limit=1000&dates=2024&seasontype=2&week=5\n",
      "https://site.api.espn.com/apis/site/v2/sports/football/nfl/scoreboard?limit=1000&dates=2024&seasontype=2&week=6\n",
      "https://site.api.espn.com/apis/site/v2/sports/football/nfl/scoreboard?limit=1000&dates=2024&seasontype=2&week=7\n",
      "https://site.api.espn.com/apis/site/v2/sports/football/nfl/scoreboard?limit=1000&dates=2024&seasontype=2&week=8\n",
      "https://site.api.espn.com/apis/site/v2/sports/football/nfl/scoreboard?limit=1000&dates=2024&seasontype=2&week=9\n",
      "https://site.api.espn.com/apis/site/v2/sports/football/nfl/scoreboard?limit=1000&dates=2024&seasontype=2&week=10\n",
      "https://site.api.espn.com/apis/site/v2/sports/football/nfl/scoreboard?limit=1000&dates=2024&seasontype=2&week=11\n",
      "https://site.api.espn.com/apis/site/v2/sports/football/nfl/scoreboard?limit=1000&dates=2024&seasontype=2&week=12\n",
      "https://site.api.espn.com/apis/site/v2/sports/football/nfl/scoreboard?limit=1000&dates=2024&seasontype=2&week=13\n",
      "https://site.api.espn.com/apis/site/v2/sports/football/nfl/scoreboard?limit=1000&dates=2024&seasontype=2&week=14\n",
      "https://site.api.espn.com/apis/site/v2/sports/football/nfl/scoreboard?limit=1000&dates=2024&seasontype=2&week=15\n",
      "https://site.api.espn.com/apis/site/v2/sports/football/nfl/scoreboard?limit=1000&dates=2024&seasontype=2&week=16\n",
      "https://site.api.espn.com/apis/site/v2/sports/football/nfl/scoreboard?limit=1000&dates=2024&seasontype=2&week=17\n",
      "https://site.api.espn.com/apis/site/v2/sports/football/nfl/scoreboard?limit=1000&dates=2024&seasontype=2&week=18\n"
     ]
    },
    {
     "name": "stderr",
     "output_type": "stream",
     "text": [
      "100%|██████████| 91/91 [00:18<00:00,  4.97it/s]\n"
     ]
    },
    {
     "name": "stdout",
     "output_type": "stream",
     "text": [
      "https://sports.core.api.espn.com/v2/sports/football/leagues/nfl/seasons/2024/types/2/weeks/1/qbr/10000?page=1\n",
      "https://sports.core.api.espn.com/v2/sports/football/leagues/nfl/seasons/2024/types/2/weeks/1/qbr/10000?page=2\n",
      "https://sports.core.api.espn.com/v2/sports/football/leagues/nfl/seasons/2024/types/2/weeks/2/qbr/10000?page=1\n",
      "https://sports.core.api.espn.com/v2/sports/football/leagues/nfl/seasons/2024/types/2/weeks/2/qbr/10000?page=2\n",
      "https://sports.core.api.espn.com/v2/sports/football/leagues/nfl/seasons/2024/types/2/weeks/3/qbr/10000?page=1\n",
      "https://sports.core.api.espn.com/v2/sports/football/leagues/nfl/seasons/2024/types/2/weeks/3/qbr/10000?page=2\n",
      "https://sports.core.api.espn.com/v2/sports/football/leagues/nfl/seasons/2024/types/2/weeks/4/qbr/10000?page=1\n",
      "https://sports.core.api.espn.com/v2/sports/football/leagues/nfl/seasons/2024/types/2/weeks/4/qbr/10000?page=2\n",
      "https://sports.core.api.espn.com/v2/sports/football/leagues/nfl/seasons/2024/types/2/weeks/5/qbr/10000?page=1\n",
      "https://sports.core.api.espn.com/v2/sports/football/leagues/nfl/seasons/2024/types/2/weeks/5/qbr/10000?page=2\n",
      "https://sports.core.api.espn.com/v2/sports/football/leagues/nfl/seasons/2024/types/2/weeks/6/qbr/10000?page=1\n",
      "https://sports.core.api.espn.com/v2/sports/football/leagues/nfl/seasons/2024/types/2/weeks/6/qbr/10000?page=2\n",
      "https://sports.core.api.espn.com/v2/sports/football/leagues/nfl/seasons/2024/types/2/weeks/7/qbr/10000?page=1\n",
      "https://sports.core.api.espn.com/v2/sports/football/leagues/nfl/seasons/2024/types/2/weeks/8/qbr/10000?page=1\n",
      "https://sports.core.api.espn.com/v2/sports/football/leagues/nfl/seasons/2024/types/2/weeks/9/qbr/10000?page=1\n",
      "https://sports.core.api.espn.com/v2/sports/football/leagues/nfl/seasons/2024/types/2/weeks/10/qbr/10000?page=1\n",
      "https://sports.core.api.espn.com/v2/sports/football/leagues/nfl/seasons/2024/types/2/weeks/11/qbr/10000?page=1\n",
      "https://sports.core.api.espn.com/v2/sports/football/leagues/nfl/seasons/2024/types/2/weeks/12/qbr/10000?page=1\n",
      "https://sports.core.api.espn.com/v2/sports/football/leagues/nfl/seasons/2024/types/2/weeks/13/qbr/10000?page=1\n",
      "https://sports.core.api.espn.com/v2/sports/football/leagues/nfl/seasons/2024/types/2/weeks/14/qbr/10000?page=1\n",
      "https://sports.core.api.espn.com/v2/sports/football/leagues/nfl/seasons/2024/types/2/weeks/15/qbr/10000?page=1\n",
      "https://sports.core.api.espn.com/v2/sports/football/leagues/nfl/seasons/2024/types/2/weeks/16/qbr/10000?page=1\n",
      "https://sports.core.api.espn.com/v2/sports/football/leagues/nfl/seasons/2024/types/2/weeks/17/qbr/10000?page=1\n",
      "https://sports.core.api.espn.com/v2/sports/football/leagues/nfl/seasons/2024/types/2/weeks/18/qbr/10000?page=1\n"
     ]
    },
    {
     "data": {
      "text/plain": "    athlete_id         id points_added pass_epa rush_epa sack_epa penalty_epa  \\\n0         8439  401671696         -0.3      1.4      0.0     -0.5         0.0   \n1        12483  401671792          1.8      5.8      0.0     -0.6         1.0   \n2        14880  401671744         -1.7      0.6      0.0     -0.5         0.2   \n3        15864  401671664          3.1      2.8      0.0     -0.6         0.7   \n4        16757  401671734          3.7      3.2      0.1     -0.2         0.3   \n..         ...        ...          ...      ...      ...      ...         ...   \n176    4426339  401671735         -2.8     -0.2      0.0     -1.8         0.3   \n177    4426348  401671625          3.3      6.1     -0.5     -1.2         0.3   \n178    4431452  401671619         -2.9     -0.3      0.0     -1.5        -0.3   \n179    4431611  401671802          7.4      7.6      0.5     -0.9         0.6   \n180    4432577  401671619          3.7      4.4      0.0     -0.5         1.1   \n\n    total_epa qb_plays  cwa  ... int_epa yac_epa run_epa scramble_epa  \\\n0         1.4       22  0.0  ...     0.0     0.2     0.0          0.0   \n1         6.8       56  0.0  ...     0.0     0.0     0.0          0.0   \n2         0.8       29  0.0  ...     0.0    -0.1     0.0          0.0   \n3         6.1       36  0.0  ...     0.0    -0.4     2.6          2.5   \n4         3.8       28  0.0  ...     0.0    -0.4     0.2          0.1   \n..        ...      ...  ...  ...     ...     ...     ...          ...   \n176       1.3       51  0.0  ...     0.0     0.0     1.3          1.3   \n177       7.0       47  0.0  ...     0.0    -0.1     0.6          0.8   \n178       0.8       46  0.0  ...     0.0     0.5     1.4          1.1   \n179       9.7       39  0.0  ...     0.0     0.2     1.5          0.9   \n180       6.2       37  0.0  ...     0.0    -0.4     0.7          0.6   \n\n    expected_sack_epa fumble_epa defense_faced_epa total_qbr unq_rank  \\\n0                 0.0        0.0              52.0      52.3       19   \n1                 0.0        0.0              54.1      65.3       15   \n2                 0.0        0.0              47.0      33.8       26   \n3                 0.0        0.0              48.8      78.7       10   \n4                 0.0        0.0              68.3      75.9       12   \n..                ...        ...               ...       ...      ...   \n176               0.0        0.0              55.6      27.7       25   \n177               0.0        0.0              56.5      74.2        9   \n178               0.0       -0.7              48.8      31.1       23   \n179               0.0        0.0              70.3      88.4        2   \n180               0.0        0.0              65.0      74.5        8   \n\n                 name  \n0       Aaron Rodgers  \n1    Matthew Stafford  \n2        Kirk Cousins  \n3          Geno Smith  \n4          Derek Carr  \n..                ...  \n176   Spencer Rattler  \n177    Jayden Daniels  \n178        Drake Maye  \n179    Caleb Williams  \n180       C.J. Stroud  \n\n[181 rows x 22 columns]",
      "text/html": "<div>\n<style scoped>\n    .dataframe tbody tr th:only-of-type {\n        vertical-align: middle;\n    }\n\n    .dataframe tbody tr th {\n        vertical-align: top;\n    }\n\n    .dataframe thead th {\n        text-align: right;\n    }\n</style>\n<table border=\"1\" class=\"dataframe\">\n  <thead>\n    <tr style=\"text-align: right;\">\n      <th></th>\n      <th>athlete_id</th>\n      <th>id</th>\n      <th>points_added</th>\n      <th>pass_epa</th>\n      <th>rush_epa</th>\n      <th>sack_epa</th>\n      <th>penalty_epa</th>\n      <th>total_epa</th>\n      <th>qb_plays</th>\n      <th>cwa</th>\n      <th>...</th>\n      <th>int_epa</th>\n      <th>yac_epa</th>\n      <th>run_epa</th>\n      <th>scramble_epa</th>\n      <th>expected_sack_epa</th>\n      <th>fumble_epa</th>\n      <th>defense_faced_epa</th>\n      <th>total_qbr</th>\n      <th>unq_rank</th>\n      <th>name</th>\n    </tr>\n  </thead>\n  <tbody>\n    <tr>\n      <th>0</th>\n      <td>8439</td>\n      <td>401671696</td>\n      <td>-0.3</td>\n      <td>1.4</td>\n      <td>0.0</td>\n      <td>-0.5</td>\n      <td>0.0</td>\n      <td>1.4</td>\n      <td>22</td>\n      <td>0.0</td>\n      <td>...</td>\n      <td>0.0</td>\n      <td>0.2</td>\n      <td>0.0</td>\n      <td>0.0</td>\n      <td>0.0</td>\n      <td>0.0</td>\n      <td>52.0</td>\n      <td>52.3</td>\n      <td>19</td>\n      <td>Aaron Rodgers</td>\n    </tr>\n    <tr>\n      <th>1</th>\n      <td>12483</td>\n      <td>401671792</td>\n      <td>1.8</td>\n      <td>5.8</td>\n      <td>0.0</td>\n      <td>-0.6</td>\n      <td>1.0</td>\n      <td>6.8</td>\n      <td>56</td>\n      <td>0.0</td>\n      <td>...</td>\n      <td>0.0</td>\n      <td>0.0</td>\n      <td>0.0</td>\n      <td>0.0</td>\n      <td>0.0</td>\n      <td>0.0</td>\n      <td>54.1</td>\n      <td>65.3</td>\n      <td>15</td>\n      <td>Matthew Stafford</td>\n    </tr>\n    <tr>\n      <th>2</th>\n      <td>14880</td>\n      <td>401671744</td>\n      <td>-1.7</td>\n      <td>0.6</td>\n      <td>0.0</td>\n      <td>-0.5</td>\n      <td>0.2</td>\n      <td>0.8</td>\n      <td>29</td>\n      <td>0.0</td>\n      <td>...</td>\n      <td>0.0</td>\n      <td>-0.1</td>\n      <td>0.0</td>\n      <td>0.0</td>\n      <td>0.0</td>\n      <td>0.0</td>\n      <td>47.0</td>\n      <td>33.8</td>\n      <td>26</td>\n      <td>Kirk Cousins</td>\n    </tr>\n    <tr>\n      <th>3</th>\n      <td>15864</td>\n      <td>401671664</td>\n      <td>3.1</td>\n      <td>2.8</td>\n      <td>0.0</td>\n      <td>-0.6</td>\n      <td>0.7</td>\n      <td>6.1</td>\n      <td>36</td>\n      <td>0.0</td>\n      <td>...</td>\n      <td>0.0</td>\n      <td>-0.4</td>\n      <td>2.6</td>\n      <td>2.5</td>\n      <td>0.0</td>\n      <td>0.0</td>\n      <td>48.8</td>\n      <td>78.7</td>\n      <td>10</td>\n      <td>Geno Smith</td>\n    </tr>\n    <tr>\n      <th>4</th>\n      <td>16757</td>\n      <td>401671734</td>\n      <td>3.7</td>\n      <td>3.2</td>\n      <td>0.1</td>\n      <td>-0.2</td>\n      <td>0.3</td>\n      <td>3.8</td>\n      <td>28</td>\n      <td>0.0</td>\n      <td>...</td>\n      <td>0.0</td>\n      <td>-0.4</td>\n      <td>0.2</td>\n      <td>0.1</td>\n      <td>0.0</td>\n      <td>0.0</td>\n      <td>68.3</td>\n      <td>75.9</td>\n      <td>12</td>\n      <td>Derek Carr</td>\n    </tr>\n    <tr>\n      <th>...</th>\n      <td>...</td>\n      <td>...</td>\n      <td>...</td>\n      <td>...</td>\n      <td>...</td>\n      <td>...</td>\n      <td>...</td>\n      <td>...</td>\n      <td>...</td>\n      <td>...</td>\n      <td>...</td>\n      <td>...</td>\n      <td>...</td>\n      <td>...</td>\n      <td>...</td>\n      <td>...</td>\n      <td>...</td>\n      <td>...</td>\n      <td>...</td>\n      <td>...</td>\n      <td>...</td>\n    </tr>\n    <tr>\n      <th>176</th>\n      <td>4426339</td>\n      <td>401671735</td>\n      <td>-2.8</td>\n      <td>-0.2</td>\n      <td>0.0</td>\n      <td>-1.8</td>\n      <td>0.3</td>\n      <td>1.3</td>\n      <td>51</td>\n      <td>0.0</td>\n      <td>...</td>\n      <td>0.0</td>\n      <td>0.0</td>\n      <td>1.3</td>\n      <td>1.3</td>\n      <td>0.0</td>\n      <td>0.0</td>\n      <td>55.6</td>\n      <td>27.7</td>\n      <td>25</td>\n      <td>Spencer Rattler</td>\n    </tr>\n    <tr>\n      <th>177</th>\n      <td>4426348</td>\n      <td>401671625</td>\n      <td>3.3</td>\n      <td>6.1</td>\n      <td>-0.5</td>\n      <td>-1.2</td>\n      <td>0.3</td>\n      <td>7.0</td>\n      <td>47</td>\n      <td>0.0</td>\n      <td>...</td>\n      <td>0.0</td>\n      <td>-0.1</td>\n      <td>0.6</td>\n      <td>0.8</td>\n      <td>0.0</td>\n      <td>0.0</td>\n      <td>56.5</td>\n      <td>74.2</td>\n      <td>9</td>\n      <td>Jayden Daniels</td>\n    </tr>\n    <tr>\n      <th>178</th>\n      <td>4431452</td>\n      <td>401671619</td>\n      <td>-2.9</td>\n      <td>-0.3</td>\n      <td>0.0</td>\n      <td>-1.5</td>\n      <td>-0.3</td>\n      <td>0.8</td>\n      <td>46</td>\n      <td>0.0</td>\n      <td>...</td>\n      <td>0.0</td>\n      <td>0.5</td>\n      <td>1.4</td>\n      <td>1.1</td>\n      <td>0.0</td>\n      <td>-0.7</td>\n      <td>48.8</td>\n      <td>31.1</td>\n      <td>23</td>\n      <td>Drake Maye</td>\n    </tr>\n    <tr>\n      <th>179</th>\n      <td>4431611</td>\n      <td>401671802</td>\n      <td>7.4</td>\n      <td>7.6</td>\n      <td>0.5</td>\n      <td>-0.9</td>\n      <td>0.6</td>\n      <td>9.7</td>\n      <td>39</td>\n      <td>0.0</td>\n      <td>...</td>\n      <td>0.0</td>\n      <td>0.2</td>\n      <td>1.5</td>\n      <td>0.9</td>\n      <td>0.0</td>\n      <td>0.0</td>\n      <td>70.3</td>\n      <td>88.4</td>\n      <td>2</td>\n      <td>Caleb Williams</td>\n    </tr>\n    <tr>\n      <th>180</th>\n      <td>4432577</td>\n      <td>401671619</td>\n      <td>3.7</td>\n      <td>4.4</td>\n      <td>0.0</td>\n      <td>-0.5</td>\n      <td>1.1</td>\n      <td>6.2</td>\n      <td>37</td>\n      <td>0.0</td>\n      <td>...</td>\n      <td>0.0</td>\n      <td>-0.4</td>\n      <td>0.7</td>\n      <td>0.6</td>\n      <td>0.0</td>\n      <td>0.0</td>\n      <td>65.0</td>\n      <td>74.5</td>\n      <td>8</td>\n      <td>C.J. Stroud</td>\n    </tr>\n  </tbody>\n</table>\n<p>181 rows × 22 columns</p>\n</div>"
     },
     "execution_count": 5,
     "metadata": {},
     "output_type": "execute_result"
    }
   ],
   "source": [
    "fetch.qb_epa(year = 2024)"
   ],
   "metadata": {
    "collapsed": false,
    "ExecuteTime": {
     "end_time": "2024-10-14T18:25:16.905007Z",
     "start_time": "2024-10-14T18:24:45.401313Z"
    }
   },
   "id": "451640ce07a9e0cd"
  },
  {
   "cell_type": "code",
   "execution_count": 20,
   "outputs": [],
   "source": [
    "|"
   ],
   "metadata": {
    "collapsed": false,
    "ExecuteTime": {
     "end_time": "2024-10-12T22:29:07.606202Z",
     "start_time": "2024-10-12T22:29:07.601539Z"
    }
   },
   "id": "538306549c41f90"
  },
  {
   "cell_type": "code",
   "execution_count": 10,
   "outputs": [],
   "source": [
    "\n"
   ],
   "metadata": {
    "collapsed": false,
    "ExecuteTime": {
     "end_time": "2024-10-12T22:22:45.734399Z",
     "start_time": "2024-10-12T22:22:45.729859Z"
    }
   },
   "id": "3659d4dc0889b87d"
  },
  {
   "cell_type": "code",
   "execution_count": 10,
   "outputs": [],
   "source": [],
   "metadata": {
    "collapsed": false,
    "ExecuteTime": {
     "end_time": "2024-10-12T22:22:45.734486Z",
     "start_time": "2024-10-12T22:22:45.731528Z"
    }
   },
   "id": "786ad06c953129c"
  },
  {
   "cell_type": "code",
   "execution_count": 4,
   "outputs": [],
   "source": [],
   "metadata": {
    "collapsed": false,
    "ExecuteTime": {
     "end_time": "2024-10-12T21:36:00.607449Z",
     "start_time": "2024-10-12T21:36:00.604784Z"
    }
   },
   "id": "aba13dff0c3c7865"
  },
  {
   "cell_type": "code",
   "execution_count": 11,
   "outputs": [],
   "source": [],
   "metadata": {
    "collapsed": false,
    "ExecuteTime": {
     "end_time": "2024-10-12T21:18:33.392569Z",
     "start_time": "2024-10-12T21:18:33.379862Z"
    }
   },
   "id": "d6e3068182196ee2"
  },
  {
   "cell_type": "code",
   "execution_count": 1,
   "outputs": [],
   "source": [],
   "metadata": {
    "collapsed": false,
    "ExecuteTime": {
     "end_time": "2024-10-12T18:34:39.763988Z",
     "start_time": "2024-10-12T18:34:39.748200Z"
    }
   },
   "id": "2485d885eeb3950c"
  },
  {
   "cell_type": "code",
   "execution_count": 9,
   "outputs": [],
   "source": [
    "\n"
   ],
   "metadata": {
    "collapsed": false,
    "ExecuteTime": {
     "end_time": "2024-10-12T20:03:32.894229Z",
     "start_time": "2024-10-12T20:03:32.890420Z"
    }
   },
   "id": "7ccfcfb1834c30c7"
  },
  {
   "cell_type": "code",
   "execution_count": 11,
   "outputs": [],
   "source": [],
   "metadata": {
    "collapsed": false,
    "ExecuteTime": {
     "end_time": "2024-10-12T21:18:35.856916Z",
     "start_time": "2024-10-12T21:18:35.840933Z"
    }
   },
   "id": "573cda8dbfdd2b71"
  },
  {
   "cell_type": "code",
   "execution_count": 11,
   "outputs": [],
   "source": [
    "\n",
    "stat_dict = {'team':[], 'avg_point_differential':[], 'avg_margin_of_victory':[], 'avg_margin_of_defeat':[]}\n",
    "\n",
    "for team in boxscore.team.unique():\n",
    "    team_df = boxscore[boxscore['team'] == team]\n",
    "    wins_df = team_df[team_df['result'] == 'W']\n",
    "    loss_df = team_df[team_df['result'] == 'L']\n",
    "    avg_point_differential = team_df['point_differential'].mean()\n",
    "    avg_margin_of_victory = wins_df['point_differential'].mean()\n",
    "    avg_margin_of_defeat = loss_df['point_differential'].mean()\n",
    "    stat_dict['team'].append(team)\n",
    "    stat_dict['avg_point_differential'].append(avg_point_differential)\n",
    "    stat_dict['avg_margin_of_victory'].append(avg_margin_of_victory)\n",
    "    stat_dict['avg_margin_of_defeat'].append(avg_margin_of_defeat)\n",
    "\n",
    "stat_df = pd.DataFrame(stat_dict)\n",
    "stat_df\n"
   ],
   "metadata": {
    "collapsed": false,
    "ExecuteTime": {
     "end_time": "2024-10-14T16:32:03.543115Z",
     "start_time": "2024-10-14T16:32:03.534723Z"
    }
   },
   "id": "62e5c445bf9e090d"
  },
  {
   "cell_type": "code",
   "execution_count": 11,
   "outputs": [],
   "source": [
    "# Initialize the dictionary to store results\n",
    "\n",
    "epa_dict = {'athlete_id':[], 'id':[], 'points_added':[], 'pass_epa':[], 'rush_epa':[], 'sack_epa':[], \n",
    "            'penalty_epa':[], 'total_epa':[], 'qb_plays':[], 'cwa':[], 'raw_qbr':[], 'expected_pass_epa':[], \n",
    "            'int_epa':[], 'yac_epa':[], 'run_epa':[], 'scramble_epa':[], 'expected_sack_epa':[], 'fumble_epa':[],\n",
    "            'defense_faced_epa':[], 'total_qbr':[], 'unq_rank':[]}\n",
    "\n",
    "base_url = f'https://sports.core.api.espn.com/v2/sports/football/leagues/nfl/seasons/2024/types/2/weeks/5/qbr/10000'\n",
    "\n",
    "\n",
    "def extract_id(url):\n",
    "    match = re.search(r'/(\\d+)(?:\\?|$)', url)\n",
    "    if match:\n",
    "        return match.group(1)\n",
    "    return None\n",
    "\n",
    "\n",
    "page_index = 1 \n",
    "while True:\n",
    "    url = f\"{base_url}?page={page_index}\"\n",
    "    response = requests.get(url)\n",
    "    if response.status_code == 200:\n",
    "        data = response.json()\n",
    "\n",
    "        for x in data['items']:\n",
    "            athlete_url = x['athlete']['$ref']\n",
    "            event_url = x['event']['$ref']\n",
    "            athlete_id = extract_id(athlete_url)\n",
    "            id = extract_id(event_url)\n",
    "            points_added = x['splits']['categories'][0]['stats'][0]['displayValue']\n",
    "            pass_epa = x['splits']['categories'][0]['stats'][1]['displayValue']\n",
    "            rush_epa = x['splits']['categories'][0]['stats'][2]['displayValue']\n",
    "            sack_epa = x['splits']['categories'][0]['stats'][3]['displayValue']\n",
    "            penalty_epa = x['splits']['categories'][0]['stats'][4]['displayValue']\n",
    "            total_epa = x['splits']['categories'][0]['stats'][5]['displayValue']\n",
    "            qb_plays = x['splits']['categories'][0]['stats'][6]['displayValue']\n",
    "            cwa = x['splits']['categories'][0]['stats'][7]['displayValue']\n",
    "            raw_qbr = x['splits']['categories'][0]['stats'][8]['displayValue']\n",
    "            expected_pass_epa = x['splits']['categories'][0]['stats'][9]['displayValue']\n",
    "            int_epa = x['splits']['categories'][0]['stats'][10]['displayValue']\n",
    "            yac_epa = x['splits']['categories'][0]['stats'][11]['displayValue']\n",
    "            run_epa = x['splits']['categories'][0]['stats'][12]['displayValue']\n",
    "            scramble_epa = x['splits']['categories'][0]['stats'][13]['displayValue']\n",
    "            expected_sack_epa = x['splits']['categories'][0]['stats'][14]['displayValue']\n",
    "            fumble_epa = x['splits']['categories'][0]['stats'][15]['displayValue']\n",
    "            defense_faced_epa = x['splits']['categories'][0]['stats'][16]['displayValue']\n",
    "            total_qbr = x['splits']['categories'][0]['stats'][17]['displayValue']\n",
    "            unq_rank = x['splits']['categories'][0]['stats'][18]['displayValue']\n",
    "\n",
    "            epa_dict['athlete_id'].append(athlete_id)\n",
    "            epa_dict['id'].append(id)\n",
    "            epa_dict['points_added'].append(points_added)\n",
    "            epa_dict['pass_epa'].append(pass_epa)\n",
    "            epa_dict['rush_epa'].append(rush_epa)\n",
    "            epa_dict['sack_epa'].append(sack_epa)\n",
    "            epa_dict['penalty_epa'].append(penalty_epa)\n",
    "            epa_dict['total_epa'].append(total_epa)\n",
    "            epa_dict['qb_plays'].append(qb_plays)\n",
    "            epa_dict['cwa'].append(cwa)\n",
    "            epa_dict['raw_qbr'].append(raw_qbr)\n",
    "            epa_dict['expected_pass_epa'].append(expected_pass_epa)\n",
    "            epa_dict['int_epa'].append(int_epa)\n",
    "            epa_dict['yac_epa'].append(yac_epa)\n",
    "            epa_dict['run_epa'].append(run_epa)\n",
    "            epa_dict['scramble_epa'].append(scramble_epa)\n",
    "            epa_dict['expected_sack_epa'].append(expected_sack_epa)\n",
    "            epa_dict['fumble_epa'].append(fumble_epa)\n",
    "            epa_dict['defense_faced_epa'].append(defense_faced_epa)\n",
    "            epa_dict['total_qbr'].append(total_qbr)\n",
    "            epa_dict['unq_rank'].append(unq_rank)\n",
    "\n",
    "        if page_index >= data.get('pageCount', 1):\n",
    "            break \n",
    "        page_index += 1\n",
    "    \n",
    "    else:\n",
    "        print(f\"Failed to fetch data from {url}\")\n",
    "        break\n",
    "\n",
    "epa_df = pd.DataFrame(epa_dict)\n"
   ],
   "metadata": {
    "collapsed": false,
    "ExecuteTime": {
     "end_time": "2024-10-14T16:32:03.992589Z",
     "start_time": "2024-10-14T16:32:03.989888Z"
    }
   },
   "id": "bbc33fe60ac6a0a5"
  },
  {
   "cell_type": "code",
   "execution_count": 11,
   "outputs": [],
   "source": [
    "epa_d"
   ],
   "metadata": {
    "collapsed": false,
    "ExecuteTime": {
     "end_time": "2024-10-14T16:31:58.554419Z",
     "start_time": "2024-10-14T16:31:58.541337Z"
    }
   },
   "id": "247cac0ec9137bb5"
  },
  {
   "cell_type": "code",
   "execution_count": 11,
   "outputs": [],
   "source": [],
   "metadata": {
    "collapsed": false,
    "ExecuteTime": {
     "end_time": "2024-10-14T16:31:59.080835Z",
     "start_time": "2024-10-14T16:31:59.070375Z"
    }
   },
   "id": "88184997be9f2f9e"
  },
  {
   "cell_type": "code",
   "execution_count": 12,
   "outputs": [],
   "source": [],
   "metadata": {
    "collapsed": false,
    "ExecuteTime": {
     "end_time": "2024-10-08T03:26:11.520659Z",
     "start_time": "2024-10-08T03:26:11.496428Z"
    }
   },
   "id": "c06e207bd114ce68"
  },
  {
   "cell_type": "code",
   "execution_count": 24,
   "outputs": [],
   "source": [],
   "metadata": {
    "collapsed": false,
    "ExecuteTime": {
     "end_time": "2024-10-07T23:49:14.862142Z",
     "start_time": "2024-10-07T23:49:14.837809Z"
    }
   },
   "id": "6ee67305f8d9cd25"
  },
  {
   "cell_type": "code",
   "execution_count": 6,
   "outputs": [],
   "source": [],
   "metadata": {
    "collapsed": false,
    "ExecuteTime": {
     "end_time": "2024-10-05T14:16:23.260908Z",
     "start_time": "2024-10-05T14:16:23.254456Z"
    }
   },
   "id": "a4fe83b60321f83c"
  },
  {
   "cell_type": "markdown",
   "source": [],
   "metadata": {
    "collapsed": false
   },
   "id": "6e10abc99689289"
  },
  {
   "cell_type": "markdown",
   "source": [
    "    "
   ],
   "metadata": {
    "collapsed": false
   },
   "id": "a91e9209662b90a7"
  },
  {
   "cell_type": "code",
   "execution_count": 6,
   "outputs": [],
   "source": [],
   "metadata": {
    "collapsed": false,
    "ExecuteTime": {
     "end_time": "2024-10-05T14:16:18.274449Z",
     "start_time": "2024-10-05T14:16:18.271880Z"
    }
   },
   "id": "361f6053062a4b60"
  },
  {
   "cell_type": "code",
   "execution_count": 2,
   "outputs": [],
   "source": [],
   "metadata": {
    "collapsed": false,
    "ExecuteTime": {
     "end_time": "2024-10-03T19:50:55.764418Z",
     "start_time": "2024-10-03T19:50:55.757631Z"
    }
   },
   "id": "b25283740375e06b"
  },
  {
   "cell_type": "markdown",
   "source": [
    " "
   ],
   "metadata": {
    "collapsed": false
   },
   "id": "79d354ce0fd944e1"
  },
  {
   "cell_type": "code",
   "execution_count": 2,
   "outputs": [],
   "source": [],
   "metadata": {
    "collapsed": false,
    "ExecuteTime": {
     "end_time": "2024-10-03T19:50:59.753461Z",
     "start_time": "2024-10-03T19:50:59.742772Z"
    }
   },
   "id": "10712f09d0cffe03"
  },
  {
   "cell_type": "code",
   "execution_count": 1,
   "outputs": [],
   "source": [],
   "metadata": {
    "collapsed": false,
    "ExecuteTime": {
     "end_time": "2024-09-25T00:47:13.889717Z",
     "start_time": "2024-09-25T00:47:13.875425Z"
    }
   },
   "id": "4e220234adac7230"
  },
  {
   "cell_type": "code",
   "execution_count": 4,
   "outputs": [],
   "source": [],
   "metadata": {
    "collapsed": false,
    "ExecuteTime": {
     "end_time": "2024-09-25T00:50:53.156956Z",
     "start_time": "2024-09-25T00:50:53.139245Z"
    }
   },
   "id": "d9416f8526b1f4e6"
  },
  {
   "cell_type": "code",
   "execution_count": 4,
   "outputs": [],
   "source": [],
   "metadata": {
    "collapsed": false,
    "ExecuteTime": {
     "end_time": "2024-09-25T00:50:56.152345Z",
     "start_time": "2024-09-25T00:50:56.137888Z"
    }
   },
   "id": "13c65fcc74a78f60"
  },
  {
   "cell_type": "markdown",
   "source": [],
   "metadata": {
    "collapsed": false
   },
   "id": "13333f6b73df185b"
  },
  {
   "cell_type": "code",
   "execution_count": null,
   "outputs": [],
   "source": [],
   "metadata": {
    "collapsed": false
   },
   "id": "bbd06cd5dbb7fd55"
  },
  {
   "cell_type": "markdown",
   "source": [],
   "metadata": {
    "collapsed": false
   },
   "id": "cd6265fa45cd1f24"
  },
  {
   "cell_type": "markdown",
   "source": [],
   "metadata": {
    "collapsed": false
   },
   "id": "97bd8c6ebb380f1f"
  },
  {
   "cell_type": "code",
   "execution_count": 17,
   "outputs": [],
   "source": [],
   "metadata": {
    "collapsed": false,
    "ExecuteTime": {
     "end_time": "2024-09-20T03:49:17.737822Z",
     "start_time": "2024-09-20T03:49:17.708221Z"
    }
   },
   "id": "2bb6f3f919127843"
  },
  {
   "cell_type": "code",
   "execution_count": 17,
   "outputs": [],
   "source": [
    "\n"
   ],
   "metadata": {
    "collapsed": false,
    "ExecuteTime": {
     "end_time": "2024-09-20T03:49:17.738092Z",
     "start_time": "2024-09-20T03:49:17.714221Z"
    }
   },
   "id": "18d71cd4ab791960"
  },
  {
   "cell_type": "code",
   "execution_count": 3,
   "outputs": [],
   "source": [],
   "metadata": {
    "collapsed": false,
    "ExecuteTime": {
     "end_time": "2024-09-18T22:20:12.157898Z",
     "start_time": "2024-09-18T22:20:12.147192Z"
    }
   },
   "id": "7b91c464307da466"
  },
  {
   "cell_type": "code",
   "execution_count": 3,
   "outputs": [],
   "source": [],
   "metadata": {
    "collapsed": false,
    "ExecuteTime": {
     "end_time": "2024-09-18T22:20:12.379652Z",
     "start_time": "2024-09-18T22:20:12.370993Z"
    }
   },
   "id": "f9bfcca282d7537c"
  },
  {
   "cell_type": "code",
   "execution_count": 3,
   "outputs": [],
   "source": [],
   "metadata": {
    "collapsed": false,
    "ExecuteTime": {
     "end_time": "2024-09-18T22:20:12.596969Z",
     "start_time": "2024-09-18T22:20:12.556415Z"
    }
   },
   "id": "b912049296c01ed5"
  },
  {
   "cell_type": "code",
   "execution_count": 3,
   "outputs": [],
   "source": [],
   "metadata": {
    "collapsed": false,
    "ExecuteTime": {
     "end_time": "2024-09-18T22:20:12.942709Z",
     "start_time": "2024-09-18T22:20:12.907338Z"
    }
   },
   "id": "7311cfc949aaa8ac"
  },
  {
   "cell_type": "code",
   "execution_count": 3,
   "outputs": [],
   "source": [],
   "metadata": {
    "collapsed": false,
    "ExecuteTime": {
     "end_time": "2024-09-18T22:20:13.131142Z",
     "start_time": "2024-09-18T22:20:13.107989Z"
    }
   },
   "id": "f71e1b3bf3eab20a"
  },
  {
   "cell_type": "code",
   "execution_count": 3,
   "outputs": [],
   "source": [],
   "metadata": {
    "collapsed": false,
    "ExecuteTime": {
     "end_time": "2024-09-18T22:20:13.366260Z",
     "start_time": "2024-09-18T22:20:13.331571Z"
    }
   },
   "id": "25e1c8e4674f4f68"
  },
  {
   "cell_type": "code",
   "execution_count": 3,
   "outputs": [],
   "source": [],
   "metadata": {
    "collapsed": false,
    "ExecuteTime": {
     "end_time": "2024-09-18T22:20:13.545226Z",
     "start_time": "2024-09-18T22:20:13.514217Z"
    }
   },
   "id": "f6e442163c078cee"
  },
  {
   "cell_type": "code",
   "execution_count": 3,
   "outputs": [],
   "source": [],
   "metadata": {
    "collapsed": false,
    "ExecuteTime": {
     "end_time": "2024-09-18T22:20:13.713336Z",
     "start_time": "2024-09-18T22:20:13.681178Z"
    }
   },
   "id": "28e7905afd34ee3b"
  },
  {
   "cell_type": "code",
   "execution_count": null,
   "outputs": [],
   "source": [],
   "metadata": {
    "collapsed": false
   },
   "id": "edaed07d571eff52"
  }
 ],
 "metadata": {
  "kernelspec": {
   "display_name": "Python 3",
   "language": "python",
   "name": "python3"
  },
  "language_info": {
   "codemirror_mode": {
    "name": "ipython",
    "version": 2
   },
   "file_extension": ".py",
   "mimetype": "text/x-python",
   "name": "python",
   "nbconvert_exporter": "python",
   "pygments_lexer": "ipython2",
   "version": "2.7.6"
  }
 },
 "nbformat": 4,
 "nbformat_minor": 5
}
