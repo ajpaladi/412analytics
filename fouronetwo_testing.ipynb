{
 "cells": [
  {
   "cell_type": "code",
   "execution_count": 3,
   "outputs": [],
   "source": [
    "import pandas as pd\n",
    "import requests\n",
    "from pprint import pprint\n",
    "import plotly_express as px\n",
    "from fouronetwo import Fetch\n",
    "fetch = Fetch()\n",
    "import re\n",
    "\n"
   ],
   "metadata": {
    "collapsed": false,
    "ExecuteTime": {
     "end_time": "2024-10-12T22:35:11.164642Z",
     "start_time": "2024-10-12T22:35:10.847487Z"
    }
   },
   "id": "81466365851f1193"
  },
  {
   "cell_type": "code",
   "execution_count": 4,
   "id": "initial_id",
   "metadata": {
    "collapsed": true,
    "ExecuteTime": {
     "end_time": "2024-10-12T22:35:11.824234Z",
     "start_time": "2024-10-12T22:35:11.821488Z"
    }
   },
   "outputs": [],
   "source": [
    "# fetch.completed_games(year = 2024, week=1)\n",
    "# fetch.scheduled_games(year = 2024, week=18)\n",
    "# fetch.in_progress_games(year = 2024, week=1)\n",
    "#fetch.completed_games(year=2024, team = 'Pittsburgh Steelers')\n",
    "#data = fetch.boxscore(year=2023, team='Pittsburgh Steelers')\n",
    "#fetch.passing_boxscore(year=2024, pivot=True)\n",
    "#fetch.rushing_boxscore(year=2024, pivot=True)\n",
    "#fetch.receiving_boxscore(year=2024, pivot=True)\n",
    "#fetch.fumble_boxscore(year=2024, pivot=True)\n",
    "#fetch.defensive_boxscore(year=2024, pivot=True)\n",
    "#fetch.interception_boxscore(year=2024, pivot=True)\n",
    "#fetch.kick_return_boxscore(year=2024)\n",
    "#fetch.punt_return_boxscore(year=2024, pivot=True)\n",
    "#fetch.field_goal_boxscore(year=2024, pivot=True)\n",
    "#fetch.punt_boxscore(year=2024)\n",
    "#fetch.drives(year=2024, team='Pittsburgh Steelers')\n",
    "#fetch.plays(year=2024)\n",
    "#fetch.drives(year=2024)\n",
    "#fetch.offensive_drive_summary(year=2024, agg_method='weekly', team='Pittsburgh Steelers')\n",
    "#fetch.defensive_drive_summary(year=2024)\n",
    "#fetch.videos(year=2024, team='Pittsburgh Steelers')\n",
    "#fetch.officials(year=2024, team='Pittsburgh Steelers')\n",
    "#wp = fetch.win_probability(year = 2024, team='Pittsburgh Steelers', week=4)\n"
   ]
  },
  {
   "cell_type": "code",
   "execution_count": 7,
   "outputs": [
    {
     "name": "stdout",
     "output_type": "stream",
     "text": [
      "https://site.api.espn.com/apis/site/v2/sports/football/nfl/scoreboard?limit=1000&dates=2024&seasontype=2&week=1\n",
      "https://site.api.espn.com/apis/site/v2/sports/football/nfl/scoreboard?limit=1000&dates=2024&seasontype=2&week=2\n",
      "https://site.api.espn.com/apis/site/v2/sports/football/nfl/scoreboard?limit=1000&dates=2024&seasontype=2&week=3\n",
      "https://site.api.espn.com/apis/site/v2/sports/football/nfl/scoreboard?limit=1000&dates=2024&seasontype=2&week=4\n",
      "https://site.api.espn.com/apis/site/v2/sports/football/nfl/scoreboard?limit=1000&dates=2024&seasontype=2&week=5\n",
      "https://site.api.espn.com/apis/site/v2/sports/football/nfl/scoreboard?limit=1000&dates=2024&seasontype=2&week=6\n",
      "https://site.api.espn.com/apis/site/v2/sports/football/nfl/scoreboard?limit=1000&dates=2024&seasontype=2&week=7\n",
      "https://site.api.espn.com/apis/site/v2/sports/football/nfl/scoreboard?limit=1000&dates=2024&seasontype=2&week=8\n",
      "https://site.api.espn.com/apis/site/v2/sports/football/nfl/scoreboard?limit=1000&dates=2024&seasontype=2&week=9\n",
      "https://site.api.espn.com/apis/site/v2/sports/football/nfl/scoreboard?limit=1000&dates=2024&seasontype=2&week=10\n",
      "https://site.api.espn.com/apis/site/v2/sports/football/nfl/scoreboard?limit=1000&dates=2024&seasontype=2&week=11\n",
      "https://site.api.espn.com/apis/site/v2/sports/football/nfl/scoreboard?limit=1000&dates=2024&seasontype=2&week=12\n",
      "https://site.api.espn.com/apis/site/v2/sports/football/nfl/scoreboard?limit=1000&dates=2024&seasontype=2&week=13\n",
      "https://site.api.espn.com/apis/site/v2/sports/football/nfl/scoreboard?limit=1000&dates=2024&seasontype=2&week=14\n",
      "https://site.api.espn.com/apis/site/v2/sports/football/nfl/scoreboard?limit=1000&dates=2024&seasontype=2&week=15\n",
      "https://site.api.espn.com/apis/site/v2/sports/football/nfl/scoreboard?limit=1000&dates=2024&seasontype=2&week=16\n",
      "https://site.api.espn.com/apis/site/v2/sports/football/nfl/scoreboard?limit=1000&dates=2024&seasontype=2&week=17\n",
      "https://site.api.espn.com/apis/site/v2/sports/football/nfl/scoreboard?limit=1000&dates=2024&seasontype=2&week=18\n"
     ]
    },
    {
     "name": "stderr",
     "output_type": "stream",
     "text": [
      "100%|██████████| 79/79 [00:16<00:00,  4.74it/s]\n"
     ]
    },
    {
     "name": "stdout",
     "output_type": "stream",
     "text": [
      "https://site.api.espn.com/apis/site/v2/sports/football/nfl/scoreboard?limit=1000&dates=2024&seasontype=2&week=1\n",
      "https://site.api.espn.com/apis/site/v2/sports/football/nfl/scoreboard?limit=1000&dates=2024&seasontype=2&week=2\n",
      "https://site.api.espn.com/apis/site/v2/sports/football/nfl/scoreboard?limit=1000&dates=2024&seasontype=2&week=3\n",
      "https://site.api.espn.com/apis/site/v2/sports/football/nfl/scoreboard?limit=1000&dates=2024&seasontype=2&week=4\n",
      "https://site.api.espn.com/apis/site/v2/sports/football/nfl/scoreboard?limit=1000&dates=2024&seasontype=2&week=5\n",
      "https://site.api.espn.com/apis/site/v2/sports/football/nfl/scoreboard?limit=1000&dates=2024&seasontype=2&week=6\n",
      "https://site.api.espn.com/apis/site/v2/sports/football/nfl/scoreboard?limit=1000&dates=2024&seasontype=2&week=7\n",
      "https://site.api.espn.com/apis/site/v2/sports/football/nfl/scoreboard?limit=1000&dates=2024&seasontype=2&week=8\n",
      "https://site.api.espn.com/apis/site/v2/sports/football/nfl/scoreboard?limit=1000&dates=2024&seasontype=2&week=9\n",
      "https://site.api.espn.com/apis/site/v2/sports/football/nfl/scoreboard?limit=1000&dates=2024&seasontype=2&week=10\n",
      "https://site.api.espn.com/apis/site/v2/sports/football/nfl/scoreboard?limit=1000&dates=2024&seasontype=2&week=11\n",
      "https://site.api.espn.com/apis/site/v2/sports/football/nfl/scoreboard?limit=1000&dates=2024&seasontype=2&week=12\n",
      "https://site.api.espn.com/apis/site/v2/sports/football/nfl/scoreboard?limit=1000&dates=2024&seasontype=2&week=13\n",
      "https://site.api.espn.com/apis/site/v2/sports/football/nfl/scoreboard?limit=1000&dates=2024&seasontype=2&week=14\n",
      "https://site.api.espn.com/apis/site/v2/sports/football/nfl/scoreboard?limit=1000&dates=2024&seasontype=2&week=15\n",
      "https://site.api.espn.com/apis/site/v2/sports/football/nfl/scoreboard?limit=1000&dates=2024&seasontype=2&week=16\n",
      "https://site.api.espn.com/apis/site/v2/sports/football/nfl/scoreboard?limit=1000&dates=2024&seasontype=2&week=17\n",
      "https://site.api.espn.com/apis/site/v2/sports/football/nfl/scoreboard?limit=1000&dates=2024&seasontype=2&week=18\n"
     ]
    },
    {
     "name": "stderr",
     "output_type": "stream",
     "text": [
      "100%|██████████| 79/79 [00:16<00:00,  4.82it/s]\n"
     ]
    }
   ],
   "source": [
    "da = fetch.drive_analysis(year=2024)"
   ],
   "metadata": {
    "collapsed": false,
    "ExecuteTime": {
     "end_time": "2024-10-12T22:42:21.550743Z",
     "start_time": "2024-10-12T22:41:41.233103Z"
    }
   },
   "id": "2eea1dcc23f4134f"
  },
  {
   "cell_type": "code",
   "execution_count": 8,
   "outputs": [
    {
     "data": {
      "text/plain": "                     team    punt_%  touchdown_%   point_%  turnover_%  \\\n0       Arizona Cardinals  0.285714     0.265306  0.448980    0.102041   \n1         Atlanta Falcons  0.265306     0.183673  0.428571    0.122449   \n2        Baltimore Ravens  0.298246     0.315789  0.438596    0.070175   \n3           Buffalo Bills  0.377358     0.301887  0.452830    0.037736   \n4       Carolina Panthers  0.372881     0.152542  0.271186    0.135593   \n5           Chicago Bears  0.403509     0.192982  0.333333    0.087719   \n6      Cincinnati Bengals  0.297872     0.340426  0.531915    0.085106   \n7        Cleveland Browns  0.491525     0.118644  0.237288    0.101695   \n8          Dallas Cowboys  0.283019     0.188679  0.452830    0.113208   \n9          Denver Broncos  0.491803     0.114754  0.311475    0.114754   \n10          Detroit Lions  0.318182     0.295455  0.409091    0.090909   \n11      Green Bay Packers  0.315789     0.228070  0.403509    0.122807   \n12         Houston Texans  0.385965     0.175439  0.368421    0.087719   \n13     Indianapolis Colts  0.345455     0.272727  0.363636    0.127273   \n14   Jacksonville Jaguars  0.327273     0.181818  0.345455    0.090909   \n15     Kansas City Chiefs  0.260000     0.220000  0.460000    0.160000   \n16      Las Vegas Raiders  0.366667     0.166667  0.300000    0.150000   \n17   Los Angeles Chargers  0.511111     0.155556  0.311111    0.044444   \n18       Los Angeles Rams  0.291667     0.187500  0.375000    0.125000   \n19         Miami Dolphins  0.315789     0.087719  0.245614    0.105263   \n20      Minnesota Vikings  0.333333     0.233333  0.383333    0.133333   \n21   New England Patriots  0.490566     0.094340  0.264151    0.075472   \n22     New Orleans Saints  0.274510     0.333333  0.490196    0.078431   \n23        New York Giants  0.377358     0.150943  0.339623    0.132075   \n24          New York Jets  0.454545     0.200000  0.309091    0.109091   \n25    Philadelphia Eagles  0.250000     0.250000  0.350000    0.175000   \n26    Pittsburgh Steelers  0.423077     0.153846  0.384615    0.076923   \n27    San Francisco 49ers  0.213115     0.229508  0.508197    0.131148   \n28       Seattle Seahawks  0.342466     0.219178  0.342466    0.123288   \n29   Tampa Bay Buccaneers  0.307692     0.269231  0.461538    0.076923   \n30       Tennessee Titans  0.375000     0.166667  0.312500    0.187500   \n31  Washington Commanders  0.173913     0.369565  0.630435    0.065217   \n\n    splash_allowed_%  forced_punt_%  touchdown_prevention_%  \\\n0           0.122449       0.265306                0.714286   \n1           0.122449       0.265306                0.795918   \n2           0.087719       0.375000                0.750000   \n3           0.037736       0.259259                0.777778   \n4           0.135593       0.298246                0.649123   \n5           0.087719       0.350000                0.866667   \n6           0.085106       0.235294                0.686275   \n7           0.118644       0.393443                0.803279   \n8           0.132075       0.314815                0.740741   \n9           0.114754       0.467742                0.887097   \n10          0.113636       0.372093                0.790698   \n11          0.122807       0.303571                0.767857   \n12          0.105263       0.456140                0.771930   \n13          0.127273       0.218182                0.763636   \n14          0.109091       0.377358                0.698113   \n15          0.160000       0.340000                0.820000   \n16          0.150000       0.448276                0.793103   \n17          0.044444       0.422222                0.888889   \n18          0.125000       0.340000                0.660000   \n19          0.122807       0.421053                0.807018   \n20          0.133333       0.350000                0.850000   \n21          0.075472       0.340000                0.820000   \n22          0.078431       0.211538                0.884615   \n23          0.132075       0.326923                0.846154   \n24          0.109091       0.392857                0.892857   \n25          0.200000       0.292683                0.756098   \n26          0.076923       0.431373                0.862745   \n27          0.147541       0.296875                0.781250   \n28          0.164384       0.424658                0.794521   \n29          0.076923       0.254902                0.764706   \n30          0.229167       0.477273                0.863636   \n31          0.065217       0.311111                0.688889   \n\n    point_prevention_%  forced_turnover_%  splash_forced_%  \\\n0             0.551020           0.142857         0.142857   \n1             0.489796           0.081633         0.081633   \n2             0.589286           0.089286         0.089286   \n3             0.648148           0.166667         0.166667   \n4             0.491228           0.070175         0.070175   \n5             0.700000           0.183333         0.200000   \n6             0.509804           0.098039         0.117647   \n7             0.639344           0.081967         0.098361   \n8             0.592593           0.092593         0.111111   \n9             0.758065           0.112903         0.145161   \n10            0.651163           0.116279         0.116279   \n11            0.696429           0.232143         0.232143   \n12            0.631579           0.052632         0.052632   \n13            0.563636           0.145455         0.163636   \n14            0.509434           0.018868         0.018868   \n15            0.660000           0.080000         0.080000   \n16            0.586207           0.034483         0.034483   \n17            0.777778           0.155556         0.155556   \n18            0.520000           0.080000         0.080000   \n19            0.649123           0.070175         0.070175   \n20            0.783333           0.216667         0.233333   \n21            0.600000           0.100000         0.100000   \n22            0.634615           0.173077         0.192308   \n23            0.634615           0.096154         0.115385   \n24            0.678571           0.107143         0.125000   \n25            0.512195           0.048780         0.048780   \n26            0.705882           0.156863         0.176471   \n27            0.609375           0.171875         0.187500   \n28            0.630137           0.054795         0.068493   \n29            0.568627           0.098039         0.098039   \n30            0.659091           0.022727         0.045455   \n31            0.533333           0.066667         0.066667   \n\n    offensive_performance_metric  defensive_performance_metric  \\\n0                       0.306122                      1.673469   \n1                       0.224490                      1.632653   \n2                       0.368421                      1.803571   \n3                       0.339623                      1.851852   \n4                      -0.084746                      1.508772   \n5                       0.035088                      2.116667   \n6                       0.489362                      1.549020   \n7                      -0.254237                      1.934426   \n8                       0.226415                      1.759259   \n9                      -0.180328                      2.258065   \n10                      0.272727                      1.930233   \n11                      0.192982                      2.000000   \n12                      0.052632                      1.912281   \n13                      0.163636                      1.709091   \n14                      0.090909                      1.603774   \n15                      0.260000                      1.900000   \n16                     -0.050000                      1.862069   \n17                     -0.088889                      2.244444   \n18                      0.145833                      1.600000   \n19                     -0.105263                      1.947368   \n20                      0.150000                      2.216667   \n21                     -0.207547                      1.860000   \n22                      0.470588                      1.923077   \n23                     -0.018868                      1.923077   \n24                     -0.054545                      2.089286   \n25                      0.150000                      1.609756   \n26                      0.038462                      2.176471   \n27                      0.377049                      1.875000   \n28                      0.054795                      1.917808   \n29                      0.346154                      1.686275   \n30                     -0.125000                      2.045455   \n31                      0.760870                      1.600000   \n\n    total_performance_metric  \n0                   1.979592  \n1                   1.857143  \n2                   2.171992  \n3                   2.191474  \n4                   1.424026  \n5                   2.151754  \n6                   2.038381  \n7                   1.680189  \n8                   1.985674  \n9                   2.077737  \n10                  2.202960  \n11                  2.192982  \n12                  1.964912  \n13                  1.872727  \n14                  1.694683  \n15                  2.160000  \n16                  1.812069  \n17                  2.155556  \n18                  1.745833  \n19                  1.842105  \n20                  2.366667  \n21                  1.652453  \n22                  2.393665  \n23                  1.904209  \n24                  2.034740  \n25                  1.759756  \n26                  2.214932  \n27                  2.252049  \n28                  1.972603  \n29                  2.032428  \n30                  1.920455  \n31                  2.360870  ",
      "text/html": "<div>\n<style scoped>\n    .dataframe tbody tr th:only-of-type {\n        vertical-align: middle;\n    }\n\n    .dataframe tbody tr th {\n        vertical-align: top;\n    }\n\n    .dataframe thead th {\n        text-align: right;\n    }\n</style>\n<table border=\"1\" class=\"dataframe\">\n  <thead>\n    <tr style=\"text-align: right;\">\n      <th></th>\n      <th>team</th>\n      <th>punt_%</th>\n      <th>touchdown_%</th>\n      <th>point_%</th>\n      <th>turnover_%</th>\n      <th>splash_allowed_%</th>\n      <th>forced_punt_%</th>\n      <th>touchdown_prevention_%</th>\n      <th>point_prevention_%</th>\n      <th>forced_turnover_%</th>\n      <th>splash_forced_%</th>\n      <th>offensive_performance_metric</th>\n      <th>defensive_performance_metric</th>\n      <th>total_performance_metric</th>\n    </tr>\n  </thead>\n  <tbody>\n    <tr>\n      <th>0</th>\n      <td>Arizona Cardinals</td>\n      <td>0.285714</td>\n      <td>0.265306</td>\n      <td>0.448980</td>\n      <td>0.102041</td>\n      <td>0.122449</td>\n      <td>0.265306</td>\n      <td>0.714286</td>\n      <td>0.551020</td>\n      <td>0.142857</td>\n      <td>0.142857</td>\n      <td>0.306122</td>\n      <td>1.673469</td>\n      <td>1.979592</td>\n    </tr>\n    <tr>\n      <th>1</th>\n      <td>Atlanta Falcons</td>\n      <td>0.265306</td>\n      <td>0.183673</td>\n      <td>0.428571</td>\n      <td>0.122449</td>\n      <td>0.122449</td>\n      <td>0.265306</td>\n      <td>0.795918</td>\n      <td>0.489796</td>\n      <td>0.081633</td>\n      <td>0.081633</td>\n      <td>0.224490</td>\n      <td>1.632653</td>\n      <td>1.857143</td>\n    </tr>\n    <tr>\n      <th>2</th>\n      <td>Baltimore Ravens</td>\n      <td>0.298246</td>\n      <td>0.315789</td>\n      <td>0.438596</td>\n      <td>0.070175</td>\n      <td>0.087719</td>\n      <td>0.375000</td>\n      <td>0.750000</td>\n      <td>0.589286</td>\n      <td>0.089286</td>\n      <td>0.089286</td>\n      <td>0.368421</td>\n      <td>1.803571</td>\n      <td>2.171992</td>\n    </tr>\n    <tr>\n      <th>3</th>\n      <td>Buffalo Bills</td>\n      <td>0.377358</td>\n      <td>0.301887</td>\n      <td>0.452830</td>\n      <td>0.037736</td>\n      <td>0.037736</td>\n      <td>0.259259</td>\n      <td>0.777778</td>\n      <td>0.648148</td>\n      <td>0.166667</td>\n      <td>0.166667</td>\n      <td>0.339623</td>\n      <td>1.851852</td>\n      <td>2.191474</td>\n    </tr>\n    <tr>\n      <th>4</th>\n      <td>Carolina Panthers</td>\n      <td>0.372881</td>\n      <td>0.152542</td>\n      <td>0.271186</td>\n      <td>0.135593</td>\n      <td>0.135593</td>\n      <td>0.298246</td>\n      <td>0.649123</td>\n      <td>0.491228</td>\n      <td>0.070175</td>\n      <td>0.070175</td>\n      <td>-0.084746</td>\n      <td>1.508772</td>\n      <td>1.424026</td>\n    </tr>\n    <tr>\n      <th>5</th>\n      <td>Chicago Bears</td>\n      <td>0.403509</td>\n      <td>0.192982</td>\n      <td>0.333333</td>\n      <td>0.087719</td>\n      <td>0.087719</td>\n      <td>0.350000</td>\n      <td>0.866667</td>\n      <td>0.700000</td>\n      <td>0.183333</td>\n      <td>0.200000</td>\n      <td>0.035088</td>\n      <td>2.116667</td>\n      <td>2.151754</td>\n    </tr>\n    <tr>\n      <th>6</th>\n      <td>Cincinnati Bengals</td>\n      <td>0.297872</td>\n      <td>0.340426</td>\n      <td>0.531915</td>\n      <td>0.085106</td>\n      <td>0.085106</td>\n      <td>0.235294</td>\n      <td>0.686275</td>\n      <td>0.509804</td>\n      <td>0.098039</td>\n      <td>0.117647</td>\n      <td>0.489362</td>\n      <td>1.549020</td>\n      <td>2.038381</td>\n    </tr>\n    <tr>\n      <th>7</th>\n      <td>Cleveland Browns</td>\n      <td>0.491525</td>\n      <td>0.118644</td>\n      <td>0.237288</td>\n      <td>0.101695</td>\n      <td>0.118644</td>\n      <td>0.393443</td>\n      <td>0.803279</td>\n      <td>0.639344</td>\n      <td>0.081967</td>\n      <td>0.098361</td>\n      <td>-0.254237</td>\n      <td>1.934426</td>\n      <td>1.680189</td>\n    </tr>\n    <tr>\n      <th>8</th>\n      <td>Dallas Cowboys</td>\n      <td>0.283019</td>\n      <td>0.188679</td>\n      <td>0.452830</td>\n      <td>0.113208</td>\n      <td>0.132075</td>\n      <td>0.314815</td>\n      <td>0.740741</td>\n      <td>0.592593</td>\n      <td>0.092593</td>\n      <td>0.111111</td>\n      <td>0.226415</td>\n      <td>1.759259</td>\n      <td>1.985674</td>\n    </tr>\n    <tr>\n      <th>9</th>\n      <td>Denver Broncos</td>\n      <td>0.491803</td>\n      <td>0.114754</td>\n      <td>0.311475</td>\n      <td>0.114754</td>\n      <td>0.114754</td>\n      <td>0.467742</td>\n      <td>0.887097</td>\n      <td>0.758065</td>\n      <td>0.112903</td>\n      <td>0.145161</td>\n      <td>-0.180328</td>\n      <td>2.258065</td>\n      <td>2.077737</td>\n    </tr>\n    <tr>\n      <th>10</th>\n      <td>Detroit Lions</td>\n      <td>0.318182</td>\n      <td>0.295455</td>\n      <td>0.409091</td>\n      <td>0.090909</td>\n      <td>0.113636</td>\n      <td>0.372093</td>\n      <td>0.790698</td>\n      <td>0.651163</td>\n      <td>0.116279</td>\n      <td>0.116279</td>\n      <td>0.272727</td>\n      <td>1.930233</td>\n      <td>2.202960</td>\n    </tr>\n    <tr>\n      <th>11</th>\n      <td>Green Bay Packers</td>\n      <td>0.315789</td>\n      <td>0.228070</td>\n      <td>0.403509</td>\n      <td>0.122807</td>\n      <td>0.122807</td>\n      <td>0.303571</td>\n      <td>0.767857</td>\n      <td>0.696429</td>\n      <td>0.232143</td>\n      <td>0.232143</td>\n      <td>0.192982</td>\n      <td>2.000000</td>\n      <td>2.192982</td>\n    </tr>\n    <tr>\n      <th>12</th>\n      <td>Houston Texans</td>\n      <td>0.385965</td>\n      <td>0.175439</td>\n      <td>0.368421</td>\n      <td>0.087719</td>\n      <td>0.105263</td>\n      <td>0.456140</td>\n      <td>0.771930</td>\n      <td>0.631579</td>\n      <td>0.052632</td>\n      <td>0.052632</td>\n      <td>0.052632</td>\n      <td>1.912281</td>\n      <td>1.964912</td>\n    </tr>\n    <tr>\n      <th>13</th>\n      <td>Indianapolis Colts</td>\n      <td>0.345455</td>\n      <td>0.272727</td>\n      <td>0.363636</td>\n      <td>0.127273</td>\n      <td>0.127273</td>\n      <td>0.218182</td>\n      <td>0.763636</td>\n      <td>0.563636</td>\n      <td>0.145455</td>\n      <td>0.163636</td>\n      <td>0.163636</td>\n      <td>1.709091</td>\n      <td>1.872727</td>\n    </tr>\n    <tr>\n      <th>14</th>\n      <td>Jacksonville Jaguars</td>\n      <td>0.327273</td>\n      <td>0.181818</td>\n      <td>0.345455</td>\n      <td>0.090909</td>\n      <td>0.109091</td>\n      <td>0.377358</td>\n      <td>0.698113</td>\n      <td>0.509434</td>\n      <td>0.018868</td>\n      <td>0.018868</td>\n      <td>0.090909</td>\n      <td>1.603774</td>\n      <td>1.694683</td>\n    </tr>\n    <tr>\n      <th>15</th>\n      <td>Kansas City Chiefs</td>\n      <td>0.260000</td>\n      <td>0.220000</td>\n      <td>0.460000</td>\n      <td>0.160000</td>\n      <td>0.160000</td>\n      <td>0.340000</td>\n      <td>0.820000</td>\n      <td>0.660000</td>\n      <td>0.080000</td>\n      <td>0.080000</td>\n      <td>0.260000</td>\n      <td>1.900000</td>\n      <td>2.160000</td>\n    </tr>\n    <tr>\n      <th>16</th>\n      <td>Las Vegas Raiders</td>\n      <td>0.366667</td>\n      <td>0.166667</td>\n      <td>0.300000</td>\n      <td>0.150000</td>\n      <td>0.150000</td>\n      <td>0.448276</td>\n      <td>0.793103</td>\n      <td>0.586207</td>\n      <td>0.034483</td>\n      <td>0.034483</td>\n      <td>-0.050000</td>\n      <td>1.862069</td>\n      <td>1.812069</td>\n    </tr>\n    <tr>\n      <th>17</th>\n      <td>Los Angeles Chargers</td>\n      <td>0.511111</td>\n      <td>0.155556</td>\n      <td>0.311111</td>\n      <td>0.044444</td>\n      <td>0.044444</td>\n      <td>0.422222</td>\n      <td>0.888889</td>\n      <td>0.777778</td>\n      <td>0.155556</td>\n      <td>0.155556</td>\n      <td>-0.088889</td>\n      <td>2.244444</td>\n      <td>2.155556</td>\n    </tr>\n    <tr>\n      <th>18</th>\n      <td>Los Angeles Rams</td>\n      <td>0.291667</td>\n      <td>0.187500</td>\n      <td>0.375000</td>\n      <td>0.125000</td>\n      <td>0.125000</td>\n      <td>0.340000</td>\n      <td>0.660000</td>\n      <td>0.520000</td>\n      <td>0.080000</td>\n      <td>0.080000</td>\n      <td>0.145833</td>\n      <td>1.600000</td>\n      <td>1.745833</td>\n    </tr>\n    <tr>\n      <th>19</th>\n      <td>Miami Dolphins</td>\n      <td>0.315789</td>\n      <td>0.087719</td>\n      <td>0.245614</td>\n      <td>0.105263</td>\n      <td>0.122807</td>\n      <td>0.421053</td>\n      <td>0.807018</td>\n      <td>0.649123</td>\n      <td>0.070175</td>\n      <td>0.070175</td>\n      <td>-0.105263</td>\n      <td>1.947368</td>\n      <td>1.842105</td>\n    </tr>\n    <tr>\n      <th>20</th>\n      <td>Minnesota Vikings</td>\n      <td>0.333333</td>\n      <td>0.233333</td>\n      <td>0.383333</td>\n      <td>0.133333</td>\n      <td>0.133333</td>\n      <td>0.350000</td>\n      <td>0.850000</td>\n      <td>0.783333</td>\n      <td>0.216667</td>\n      <td>0.233333</td>\n      <td>0.150000</td>\n      <td>2.216667</td>\n      <td>2.366667</td>\n    </tr>\n    <tr>\n      <th>21</th>\n      <td>New England Patriots</td>\n      <td>0.490566</td>\n      <td>0.094340</td>\n      <td>0.264151</td>\n      <td>0.075472</td>\n      <td>0.075472</td>\n      <td>0.340000</td>\n      <td>0.820000</td>\n      <td>0.600000</td>\n      <td>0.100000</td>\n      <td>0.100000</td>\n      <td>-0.207547</td>\n      <td>1.860000</td>\n      <td>1.652453</td>\n    </tr>\n    <tr>\n      <th>22</th>\n      <td>New Orleans Saints</td>\n      <td>0.274510</td>\n      <td>0.333333</td>\n      <td>0.490196</td>\n      <td>0.078431</td>\n      <td>0.078431</td>\n      <td>0.211538</td>\n      <td>0.884615</td>\n      <td>0.634615</td>\n      <td>0.173077</td>\n      <td>0.192308</td>\n      <td>0.470588</td>\n      <td>1.923077</td>\n      <td>2.393665</td>\n    </tr>\n    <tr>\n      <th>23</th>\n      <td>New York Giants</td>\n      <td>0.377358</td>\n      <td>0.150943</td>\n      <td>0.339623</td>\n      <td>0.132075</td>\n      <td>0.132075</td>\n      <td>0.326923</td>\n      <td>0.846154</td>\n      <td>0.634615</td>\n      <td>0.096154</td>\n      <td>0.115385</td>\n      <td>-0.018868</td>\n      <td>1.923077</td>\n      <td>1.904209</td>\n    </tr>\n    <tr>\n      <th>24</th>\n      <td>New York Jets</td>\n      <td>0.454545</td>\n      <td>0.200000</td>\n      <td>0.309091</td>\n      <td>0.109091</td>\n      <td>0.109091</td>\n      <td>0.392857</td>\n      <td>0.892857</td>\n      <td>0.678571</td>\n      <td>0.107143</td>\n      <td>0.125000</td>\n      <td>-0.054545</td>\n      <td>2.089286</td>\n      <td>2.034740</td>\n    </tr>\n    <tr>\n      <th>25</th>\n      <td>Philadelphia Eagles</td>\n      <td>0.250000</td>\n      <td>0.250000</td>\n      <td>0.350000</td>\n      <td>0.175000</td>\n      <td>0.200000</td>\n      <td>0.292683</td>\n      <td>0.756098</td>\n      <td>0.512195</td>\n      <td>0.048780</td>\n      <td>0.048780</td>\n      <td>0.150000</td>\n      <td>1.609756</td>\n      <td>1.759756</td>\n    </tr>\n    <tr>\n      <th>26</th>\n      <td>Pittsburgh Steelers</td>\n      <td>0.423077</td>\n      <td>0.153846</td>\n      <td>0.384615</td>\n      <td>0.076923</td>\n      <td>0.076923</td>\n      <td>0.431373</td>\n      <td>0.862745</td>\n      <td>0.705882</td>\n      <td>0.156863</td>\n      <td>0.176471</td>\n      <td>0.038462</td>\n      <td>2.176471</td>\n      <td>2.214932</td>\n    </tr>\n    <tr>\n      <th>27</th>\n      <td>San Francisco 49ers</td>\n      <td>0.213115</td>\n      <td>0.229508</td>\n      <td>0.508197</td>\n      <td>0.131148</td>\n      <td>0.147541</td>\n      <td>0.296875</td>\n      <td>0.781250</td>\n      <td>0.609375</td>\n      <td>0.171875</td>\n      <td>0.187500</td>\n      <td>0.377049</td>\n      <td>1.875000</td>\n      <td>2.252049</td>\n    </tr>\n    <tr>\n      <th>28</th>\n      <td>Seattle Seahawks</td>\n      <td>0.342466</td>\n      <td>0.219178</td>\n      <td>0.342466</td>\n      <td>0.123288</td>\n      <td>0.164384</td>\n      <td>0.424658</td>\n      <td>0.794521</td>\n      <td>0.630137</td>\n      <td>0.054795</td>\n      <td>0.068493</td>\n      <td>0.054795</td>\n      <td>1.917808</td>\n      <td>1.972603</td>\n    </tr>\n    <tr>\n      <th>29</th>\n      <td>Tampa Bay Buccaneers</td>\n      <td>0.307692</td>\n      <td>0.269231</td>\n      <td>0.461538</td>\n      <td>0.076923</td>\n      <td>0.076923</td>\n      <td>0.254902</td>\n      <td>0.764706</td>\n      <td>0.568627</td>\n      <td>0.098039</td>\n      <td>0.098039</td>\n      <td>0.346154</td>\n      <td>1.686275</td>\n      <td>2.032428</td>\n    </tr>\n    <tr>\n      <th>30</th>\n      <td>Tennessee Titans</td>\n      <td>0.375000</td>\n      <td>0.166667</td>\n      <td>0.312500</td>\n      <td>0.187500</td>\n      <td>0.229167</td>\n      <td>0.477273</td>\n      <td>0.863636</td>\n      <td>0.659091</td>\n      <td>0.022727</td>\n      <td>0.045455</td>\n      <td>-0.125000</td>\n      <td>2.045455</td>\n      <td>1.920455</td>\n    </tr>\n    <tr>\n      <th>31</th>\n      <td>Washington Commanders</td>\n      <td>0.173913</td>\n      <td>0.369565</td>\n      <td>0.630435</td>\n      <td>0.065217</td>\n      <td>0.065217</td>\n      <td>0.311111</td>\n      <td>0.688889</td>\n      <td>0.533333</td>\n      <td>0.066667</td>\n      <td>0.066667</td>\n      <td>0.760870</td>\n      <td>1.600000</td>\n      <td>2.360870</td>\n    </tr>\n  </tbody>\n</table>\n</div>"
     },
     "execution_count": 8,
     "metadata": {},
     "output_type": "execute_result"
    }
   ],
   "source": [
    "da"
   ],
   "metadata": {
    "collapsed": false,
    "ExecuteTime": {
     "end_time": "2024-10-12T22:43:10.951687Z",
     "start_time": "2024-10-12T22:43:10.943641Z"
    }
   },
   "id": "f030cde5f6acf5ab"
  },
  {
   "cell_type": "code",
   "execution_count": 21,
   "outputs": [
    {
     "name": "stdout",
     "output_type": "stream",
     "text": [
      "https://site.api.espn.com/apis/site/v2/sports/football/nfl/scoreboard?limit=1000&dates=2024&seasontype=2&week=1\n",
      "https://site.api.espn.com/apis/site/v2/sports/football/nfl/scoreboard?limit=1000&dates=2024&seasontype=2&week=2\n",
      "https://site.api.espn.com/apis/site/v2/sports/football/nfl/scoreboard?limit=1000&dates=2024&seasontype=2&week=3\n",
      "https://site.api.espn.com/apis/site/v2/sports/football/nfl/scoreboard?limit=1000&dates=2024&seasontype=2&week=4\n",
      "https://site.api.espn.com/apis/site/v2/sports/football/nfl/scoreboard?limit=1000&dates=2024&seasontype=2&week=5\n",
      "https://site.api.espn.com/apis/site/v2/sports/football/nfl/scoreboard?limit=1000&dates=2024&seasontype=2&week=6\n",
      "https://site.api.espn.com/apis/site/v2/sports/football/nfl/scoreboard?limit=1000&dates=2024&seasontype=2&week=7\n",
      "https://site.api.espn.com/apis/site/v2/sports/football/nfl/scoreboard?limit=1000&dates=2024&seasontype=2&week=8\n",
      "https://site.api.espn.com/apis/site/v2/sports/football/nfl/scoreboard?limit=1000&dates=2024&seasontype=2&week=9\n",
      "https://site.api.espn.com/apis/site/v2/sports/football/nfl/scoreboard?limit=1000&dates=2024&seasontype=2&week=10\n",
      "https://site.api.espn.com/apis/site/v2/sports/football/nfl/scoreboard?limit=1000&dates=2024&seasontype=2&week=11\n",
      "https://site.api.espn.com/apis/site/v2/sports/football/nfl/scoreboard?limit=1000&dates=2024&seasontype=2&week=12\n",
      "https://site.api.espn.com/apis/site/v2/sports/football/nfl/scoreboard?limit=1000&dates=2024&seasontype=2&week=13\n",
      "https://site.api.espn.com/apis/site/v2/sports/football/nfl/scoreboard?limit=1000&dates=2024&seasontype=2&week=14\n",
      "https://site.api.espn.com/apis/site/v2/sports/football/nfl/scoreboard?limit=1000&dates=2024&seasontype=2&week=15\n",
      "https://site.api.espn.com/apis/site/v2/sports/football/nfl/scoreboard?limit=1000&dates=2024&seasontype=2&week=16\n",
      "https://site.api.espn.com/apis/site/v2/sports/football/nfl/scoreboard?limit=1000&dates=2024&seasontype=2&week=17\n",
      "https://site.api.espn.com/apis/site/v2/sports/football/nfl/scoreboard?limit=1000&dates=2024&seasontype=2&week=18\n"
     ]
    },
    {
     "name": "stderr",
     "output_type": "stream",
     "text": [
      "100%|██████████| 79/79 [00:19<00:00,  4.14it/s]\n"
     ]
    },
    {
     "name": "stdout",
     "output_type": "stream",
     "text": [
      "https://site.api.espn.com/apis/site/v2/sports/football/nfl/scoreboard?limit=1000&dates=2024&seasontype=2&week=1\n",
      "https://site.api.espn.com/apis/site/v2/sports/football/nfl/scoreboard?limit=1000&dates=2024&seasontype=2&week=2\n",
      "https://site.api.espn.com/apis/site/v2/sports/football/nfl/scoreboard?limit=1000&dates=2024&seasontype=2&week=3\n",
      "https://site.api.espn.com/apis/site/v2/sports/football/nfl/scoreboard?limit=1000&dates=2024&seasontype=2&week=4\n",
      "https://site.api.espn.com/apis/site/v2/sports/football/nfl/scoreboard?limit=1000&dates=2024&seasontype=2&week=5\n",
      "https://site.api.espn.com/apis/site/v2/sports/football/nfl/scoreboard?limit=1000&dates=2024&seasontype=2&week=6\n",
      "https://site.api.espn.com/apis/site/v2/sports/football/nfl/scoreboard?limit=1000&dates=2024&seasontype=2&week=7\n",
      "https://site.api.espn.com/apis/site/v2/sports/football/nfl/scoreboard?limit=1000&dates=2024&seasontype=2&week=8\n",
      "https://site.api.espn.com/apis/site/v2/sports/football/nfl/scoreboard?limit=1000&dates=2024&seasontype=2&week=9\n",
      "https://site.api.espn.com/apis/site/v2/sports/football/nfl/scoreboard?limit=1000&dates=2024&seasontype=2&week=10\n",
      "https://site.api.espn.com/apis/site/v2/sports/football/nfl/scoreboard?limit=1000&dates=2024&seasontype=2&week=11\n",
      "https://site.api.espn.com/apis/site/v2/sports/football/nfl/scoreboard?limit=1000&dates=2024&seasontype=2&week=12\n",
      "https://site.api.espn.com/apis/site/v2/sports/football/nfl/scoreboard?limit=1000&dates=2024&seasontype=2&week=13\n",
      "https://site.api.espn.com/apis/site/v2/sports/football/nfl/scoreboard?limit=1000&dates=2024&seasontype=2&week=14\n",
      "https://site.api.espn.com/apis/site/v2/sports/football/nfl/scoreboard?limit=1000&dates=2024&seasontype=2&week=15\n",
      "https://site.api.espn.com/apis/site/v2/sports/football/nfl/scoreboard?limit=1000&dates=2024&seasontype=2&week=16\n",
      "https://site.api.espn.com/apis/site/v2/sports/football/nfl/scoreboard?limit=1000&dates=2024&seasontype=2&week=17\n",
      "https://site.api.espn.com/apis/site/v2/sports/football/nfl/scoreboard?limit=1000&dates=2024&seasontype=2&week=18\n"
     ]
    },
    {
     "name": "stderr",
     "output_type": "stream",
     "text": [
      "100%|██████████| 79/79 [00:15<00:00,  5.14it/s]\n"
     ]
    }
   ],
   "source": [
    "od = fetch.offensive_drive_summary(year=2024, agg_method='weekly')\n",
    "dd = fetch.defensive_drive_summary(year=2024, agg_method='weekly')"
   ],
   "metadata": {
    "collapsed": false,
    "ExecuteTime": {
     "end_time": "2024-10-12T22:30:06.994179Z",
     "start_time": "2024-10-12T22:29:24.472222Z"
    }
   },
   "id": "8cfbbba7da203ed5"
  },
  {
   "cell_type": "code",
   "execution_count": 22,
   "outputs": [
    {
     "data": {
      "text/plain": "                      team               date  Blocked FG Touchdown  \\\n0        Arizona Cardinals  2024-09-08T17:00Z                   0.0   \n1        Arizona Cardinals  2024-09-15T20:05Z                   0.0   \n2        Arizona Cardinals  2024-09-22T20:25Z                   0.0   \n3        Arizona Cardinals  2024-09-29T20:05Z                   0.0   \n4        Arizona Cardinals  2024-10-06T20:05Z                  10.0   \n..                     ...                ...                   ...   \n153  Washington Commanders  2024-09-08T20:25Z                   0.0   \n154  Washington Commanders  2024-09-15T17:00Z                   0.0   \n155  Washington Commanders  2024-09-24T00:15Z                   0.0   \n156  Washington Commanders  2024-09-29T20:05Z                   0.0   \n157  Washington Commanders  2024-10-06T17:00Z                   0.0   \n\n     Blocked FG, Downs  blocked_punt_%  blocked_punt_touchdown_%  \\\n0                  0.0             0.0                       0.0   \n1                  0.0             0.0                       0.0   \n2                  0.0             0.0                       0.0   \n3                  0.0             0.0                       0.0   \n4                  0.0             0.0                       0.0   \n..                 ...             ...                       ...   \n153                0.0             0.0                       0.0   \n154                0.0             0.0                       0.0   \n155                0.0             0.0                       0.0   \n156                0.0             0.0                       0.0   \n157                0.0             0.0                       0.0   \n\n     turnover_on_downs_%  End of Game  End of Half  field_goal_%  ...  \\\n0              10.000000     0.000000    10.000000     20.000000  ...   \n1               0.000000     0.000000     0.000000     22.222222  ...   \n2              18.181818     0.000000     0.000000     18.181818  ...   \n3              11.111111    11.111111     0.000000      0.000000  ...   \n4               0.000000    10.000000     0.000000     30.000000  ...   \n..                   ...          ...          ...           ...  ...   \n153             0.000000     0.000000    11.111111      0.000000  ...   \n154             0.000000     0.000000    12.500000     87.500000  ...   \n155             0.000000    12.500000    12.500000     12.500000  ...   \n156             0.000000     0.000000     0.000000     22.222222  ...   \n157             0.000000     0.000000     0.000000     16.666667  ...   \n\n     interception_touchdown_%  missed_fg_%  PUNT     punt_%  \\\n0                         0.0     0.000000   0.0  20.000000   \n1                         0.0     0.000000   0.0  11.111111   \n2                         0.0     0.000000   0.0  45.454545   \n3                         0.0     0.000000   0.0  44.444444   \n4                         0.0     0.000000   0.0  20.000000   \n..                        ...          ...   ...        ...   \n153                       0.0    22.222222   0.0  33.333333   \n154                       0.0     0.000000   0.0   0.000000   \n155                       0.0     0.000000   0.0   0.000000   \n156                       0.0     0.000000   0.0  11.111111   \n157                       0.0     0.000000   0.0  33.333333   \n\n     punt_return_touchdown_%  safety_%  touchdown_%    point_%  turnover_%  \\\n0                        0.0       0.0    30.000000  50.000000   10.000000   \n1                        0.0       0.0    55.555556  77.777778   11.111111   \n2                        0.0       0.0     9.090909  27.272727    9.090909   \n3                        0.0       0.0    22.222222  22.222222   11.111111   \n4                        0.0       0.0    20.000000  50.000000   10.000000   \n..                       ...       ...          ...        ...         ...   \n153                      0.0       0.0    33.333333  33.333333    0.000000   \n154                      0.0       0.0     0.000000  87.500000    0.000000   \n155                      0.0       0.0    62.500000  75.000000    0.000000   \n156                      0.0       0.0    55.555556  77.777778   11.111111   \n157                      0.0       0.0    33.333333  50.000000   16.666667   \n\n     splash_allowed_%  \n0           10.000000  \n1           11.111111  \n2            9.090909  \n3           11.111111  \n4           20.000000  \n..                ...  \n153          0.000000  \n154          0.000000  \n155          0.000000  \n156         11.111111  \n157         16.666667  \n\n[158 rows x 24 columns]",
      "text/html": "<div>\n<style scoped>\n    .dataframe tbody tr th:only-of-type {\n        vertical-align: middle;\n    }\n\n    .dataframe tbody tr th {\n        vertical-align: top;\n    }\n\n    .dataframe thead th {\n        text-align: right;\n    }\n</style>\n<table border=\"1\" class=\"dataframe\">\n  <thead>\n    <tr style=\"text-align: right;\">\n      <th></th>\n      <th>team</th>\n      <th>date</th>\n      <th>Blocked FG Touchdown</th>\n      <th>Blocked FG, Downs</th>\n      <th>blocked_punt_%</th>\n      <th>blocked_punt_touchdown_%</th>\n      <th>turnover_on_downs_%</th>\n      <th>End of Game</th>\n      <th>End of Half</th>\n      <th>field_goal_%</th>\n      <th>...</th>\n      <th>interception_touchdown_%</th>\n      <th>missed_fg_%</th>\n      <th>PUNT</th>\n      <th>punt_%</th>\n      <th>punt_return_touchdown_%</th>\n      <th>safety_%</th>\n      <th>touchdown_%</th>\n      <th>point_%</th>\n      <th>turnover_%</th>\n      <th>splash_allowed_%</th>\n    </tr>\n  </thead>\n  <tbody>\n    <tr>\n      <th>0</th>\n      <td>Arizona Cardinals</td>\n      <td>2024-09-08T17:00Z</td>\n      <td>0.0</td>\n      <td>0.0</td>\n      <td>0.0</td>\n      <td>0.0</td>\n      <td>10.000000</td>\n      <td>0.000000</td>\n      <td>10.000000</td>\n      <td>20.000000</td>\n      <td>...</td>\n      <td>0.0</td>\n      <td>0.000000</td>\n      <td>0.0</td>\n      <td>20.000000</td>\n      <td>0.0</td>\n      <td>0.0</td>\n      <td>30.000000</td>\n      <td>50.000000</td>\n      <td>10.000000</td>\n      <td>10.000000</td>\n    </tr>\n    <tr>\n      <th>1</th>\n      <td>Arizona Cardinals</td>\n      <td>2024-09-15T20:05Z</td>\n      <td>0.0</td>\n      <td>0.0</td>\n      <td>0.0</td>\n      <td>0.0</td>\n      <td>0.000000</td>\n      <td>0.000000</td>\n      <td>0.000000</td>\n      <td>22.222222</td>\n      <td>...</td>\n      <td>0.0</td>\n      <td>0.000000</td>\n      <td>0.0</td>\n      <td>11.111111</td>\n      <td>0.0</td>\n      <td>0.0</td>\n      <td>55.555556</td>\n      <td>77.777778</td>\n      <td>11.111111</td>\n      <td>11.111111</td>\n    </tr>\n    <tr>\n      <th>2</th>\n      <td>Arizona Cardinals</td>\n      <td>2024-09-22T20:25Z</td>\n      <td>0.0</td>\n      <td>0.0</td>\n      <td>0.0</td>\n      <td>0.0</td>\n      <td>18.181818</td>\n      <td>0.000000</td>\n      <td>0.000000</td>\n      <td>18.181818</td>\n      <td>...</td>\n      <td>0.0</td>\n      <td>0.000000</td>\n      <td>0.0</td>\n      <td>45.454545</td>\n      <td>0.0</td>\n      <td>0.0</td>\n      <td>9.090909</td>\n      <td>27.272727</td>\n      <td>9.090909</td>\n      <td>9.090909</td>\n    </tr>\n    <tr>\n      <th>3</th>\n      <td>Arizona Cardinals</td>\n      <td>2024-09-29T20:05Z</td>\n      <td>0.0</td>\n      <td>0.0</td>\n      <td>0.0</td>\n      <td>0.0</td>\n      <td>11.111111</td>\n      <td>11.111111</td>\n      <td>0.000000</td>\n      <td>0.000000</td>\n      <td>...</td>\n      <td>0.0</td>\n      <td>0.000000</td>\n      <td>0.0</td>\n      <td>44.444444</td>\n      <td>0.0</td>\n      <td>0.0</td>\n      <td>22.222222</td>\n      <td>22.222222</td>\n      <td>11.111111</td>\n      <td>11.111111</td>\n    </tr>\n    <tr>\n      <th>4</th>\n      <td>Arizona Cardinals</td>\n      <td>2024-10-06T20:05Z</td>\n      <td>10.0</td>\n      <td>0.0</td>\n      <td>0.0</td>\n      <td>0.0</td>\n      <td>0.000000</td>\n      <td>10.000000</td>\n      <td>0.000000</td>\n      <td>30.000000</td>\n      <td>...</td>\n      <td>0.0</td>\n      <td>0.000000</td>\n      <td>0.0</td>\n      <td>20.000000</td>\n      <td>0.0</td>\n      <td>0.0</td>\n      <td>20.000000</td>\n      <td>50.000000</td>\n      <td>10.000000</td>\n      <td>20.000000</td>\n    </tr>\n    <tr>\n      <th>...</th>\n      <td>...</td>\n      <td>...</td>\n      <td>...</td>\n      <td>...</td>\n      <td>...</td>\n      <td>...</td>\n      <td>...</td>\n      <td>...</td>\n      <td>...</td>\n      <td>...</td>\n      <td>...</td>\n      <td>...</td>\n      <td>...</td>\n      <td>...</td>\n      <td>...</td>\n      <td>...</td>\n      <td>...</td>\n      <td>...</td>\n      <td>...</td>\n      <td>...</td>\n      <td>...</td>\n    </tr>\n    <tr>\n      <th>153</th>\n      <td>Washington Commanders</td>\n      <td>2024-09-08T20:25Z</td>\n      <td>0.0</td>\n      <td>0.0</td>\n      <td>0.0</td>\n      <td>0.0</td>\n      <td>0.000000</td>\n      <td>0.000000</td>\n      <td>11.111111</td>\n      <td>0.000000</td>\n      <td>...</td>\n      <td>0.0</td>\n      <td>22.222222</td>\n      <td>0.0</td>\n      <td>33.333333</td>\n      <td>0.0</td>\n      <td>0.0</td>\n      <td>33.333333</td>\n      <td>33.333333</td>\n      <td>0.000000</td>\n      <td>0.000000</td>\n    </tr>\n    <tr>\n      <th>154</th>\n      <td>Washington Commanders</td>\n      <td>2024-09-15T17:00Z</td>\n      <td>0.0</td>\n      <td>0.0</td>\n      <td>0.0</td>\n      <td>0.0</td>\n      <td>0.000000</td>\n      <td>0.000000</td>\n      <td>12.500000</td>\n      <td>87.500000</td>\n      <td>...</td>\n      <td>0.0</td>\n      <td>0.000000</td>\n      <td>0.0</td>\n      <td>0.000000</td>\n      <td>0.0</td>\n      <td>0.0</td>\n      <td>0.000000</td>\n      <td>87.500000</td>\n      <td>0.000000</td>\n      <td>0.000000</td>\n    </tr>\n    <tr>\n      <th>155</th>\n      <td>Washington Commanders</td>\n      <td>2024-09-24T00:15Z</td>\n      <td>0.0</td>\n      <td>0.0</td>\n      <td>0.0</td>\n      <td>0.0</td>\n      <td>0.000000</td>\n      <td>12.500000</td>\n      <td>12.500000</td>\n      <td>12.500000</td>\n      <td>...</td>\n      <td>0.0</td>\n      <td>0.000000</td>\n      <td>0.0</td>\n      <td>0.000000</td>\n      <td>0.0</td>\n      <td>0.0</td>\n      <td>62.500000</td>\n      <td>75.000000</td>\n      <td>0.000000</td>\n      <td>0.000000</td>\n    </tr>\n    <tr>\n      <th>156</th>\n      <td>Washington Commanders</td>\n      <td>2024-09-29T20:05Z</td>\n      <td>0.0</td>\n      <td>0.0</td>\n      <td>0.0</td>\n      <td>0.0</td>\n      <td>0.000000</td>\n      <td>0.000000</td>\n      <td>0.000000</td>\n      <td>22.222222</td>\n      <td>...</td>\n      <td>0.0</td>\n      <td>0.000000</td>\n      <td>0.0</td>\n      <td>11.111111</td>\n      <td>0.0</td>\n      <td>0.0</td>\n      <td>55.555556</td>\n      <td>77.777778</td>\n      <td>11.111111</td>\n      <td>11.111111</td>\n    </tr>\n    <tr>\n      <th>157</th>\n      <td>Washington Commanders</td>\n      <td>2024-10-06T17:00Z</td>\n      <td>0.0</td>\n      <td>0.0</td>\n      <td>0.0</td>\n      <td>0.0</td>\n      <td>0.000000</td>\n      <td>0.000000</td>\n      <td>0.000000</td>\n      <td>16.666667</td>\n      <td>...</td>\n      <td>0.0</td>\n      <td>0.000000</td>\n      <td>0.0</td>\n      <td>33.333333</td>\n      <td>0.0</td>\n      <td>0.0</td>\n      <td>33.333333</td>\n      <td>50.000000</td>\n      <td>16.666667</td>\n      <td>16.666667</td>\n    </tr>\n  </tbody>\n</table>\n<p>158 rows × 24 columns</p>\n</div>"
     },
     "execution_count": 22,
     "metadata": {},
     "output_type": "execute_result"
    }
   ],
   "source": [
    "od"
   ],
   "metadata": {
    "collapsed": false,
    "ExecuteTime": {
     "end_time": "2024-10-12T22:30:36.131386Z",
     "start_time": "2024-10-12T22:30:36.127395Z"
    }
   },
   "id": "451640ce07a9e0cd"
  },
  {
   "cell_type": "code",
   "execution_count": 20,
   "outputs": [],
   "source": [],
   "metadata": {
    "collapsed": false,
    "ExecuteTime": {
     "end_time": "2024-10-12T22:29:07.606202Z",
     "start_time": "2024-10-12T22:29:07.601539Z"
    }
   },
   "id": "538306549c41f90"
  },
  {
   "cell_type": "code",
   "execution_count": 10,
   "outputs": [],
   "source": [
    "\n"
   ],
   "metadata": {
    "collapsed": false,
    "ExecuteTime": {
     "end_time": "2024-10-12T22:22:45.734399Z",
     "start_time": "2024-10-12T22:22:45.729859Z"
    }
   },
   "id": "3659d4dc0889b87d"
  },
  {
   "cell_type": "code",
   "execution_count": 10,
   "outputs": [],
   "source": [],
   "metadata": {
    "collapsed": false,
    "ExecuteTime": {
     "end_time": "2024-10-12T22:22:45.734486Z",
     "start_time": "2024-10-12T22:22:45.731528Z"
    }
   },
   "id": "786ad06c953129c"
  },
  {
   "cell_type": "code",
   "execution_count": 4,
   "outputs": [],
   "source": [],
   "metadata": {
    "collapsed": false,
    "ExecuteTime": {
     "end_time": "2024-10-12T21:36:00.607449Z",
     "start_time": "2024-10-12T21:36:00.604784Z"
    }
   },
   "id": "aba13dff0c3c7865"
  },
  {
   "cell_type": "code",
   "execution_count": 11,
   "outputs": [],
   "source": [],
   "metadata": {
    "collapsed": false,
    "ExecuteTime": {
     "end_time": "2024-10-12T21:18:33.392569Z",
     "start_time": "2024-10-12T21:18:33.379862Z"
    }
   },
   "id": "d6e3068182196ee2"
  },
  {
   "cell_type": "code",
   "execution_count": 1,
   "outputs": [],
   "source": [],
   "metadata": {
    "collapsed": false,
    "ExecuteTime": {
     "end_time": "2024-10-12T18:34:39.763988Z",
     "start_time": "2024-10-12T18:34:39.748200Z"
    }
   },
   "id": "2485d885eeb3950c"
  },
  {
   "cell_type": "code",
   "execution_count": 9,
   "outputs": [],
   "source": [
    "\n"
   ],
   "metadata": {
    "collapsed": false,
    "ExecuteTime": {
     "end_time": "2024-10-12T20:03:32.894229Z",
     "start_time": "2024-10-12T20:03:32.890420Z"
    }
   },
   "id": "7ccfcfb1834c30c7"
  },
  {
   "cell_type": "code",
   "execution_count": 11,
   "outputs": [],
   "source": [],
   "metadata": {
    "collapsed": false,
    "ExecuteTime": {
     "end_time": "2024-10-12T21:18:35.856916Z",
     "start_time": "2024-10-12T21:18:35.840933Z"
    }
   },
   "id": "573cda8dbfdd2b71"
  },
  {
   "cell_type": "code",
   "execution_count": 27,
   "outputs": [
    {
     "data": {
      "text/plain": "                     team  avg_point_differential  avg_margin_of_victory  \\\n0     San Francisco 49ers                5.333333              14.000000   \n1        Seattle Seahawks               -0.666667              10.000000   \n2    Tampa Bay Buccaneers                2.600000              12.666667   \n3         Atlanta Falcons               -0.800000               3.000000   \n4           New York Jets                1.600000              14.000000   \n5       Minnesota Vikings               12.600000              12.600000   \n6       Carolina Panthers              -16.400000              14.000000   \n7           Chicago Bears                5.600000              13.000000   \n8        Baltimore Ravens                4.200000              10.333333   \n9      Cincinnati Bengals               -1.000000              10.000000   \n10         Miami Dolphins              -10.600000               4.000000   \n11   New England Patriots               -8.000000               6.000000   \n12       Cleveland Browns               -8.400000               5.000000   \n13  Washington Commanders                8.000000              14.250000   \n14     Indianapolis Colts               -0.600000               4.000000   \n15   Jacksonville Jaguars               -9.200000               3.000000   \n16          Buffalo Bills                7.200000              21.333333   \n17         Houston Texans               -2.400000               3.750000   \n18      Las Vegas Raiders               -7.000000               3.500000   \n19         Denver Broncos                4.600000              12.000000   \n20      Arizona Cardinals               -1.800000              16.000000   \n21      Green Bay Packers                4.000000               9.000000   \n22       Los Angeles Rams               -9.000000               3.000000   \n23        New York Giants               -3.000000               7.500000   \n24         Dallas Cowboys               -0.800000               8.000000   \n25    Pittsburgh Steelers                3.800000               8.333333   \n26     New Orleans Saints                8.800000              31.000000   \n27     Kansas City Chiefs                6.600000               6.600000   \n28    Philadelphia Eagles               -2.500000               4.000000   \n29   Los Angeles Chargers                4.500000              17.500000   \n30       Tennessee Titans               -2.750000              19.000000   \n31          Detroit Lions                5.500000               8.666667   \n\n    avg_margin_of_defeat  \n0              -3.333333  \n1             -11.333333  \n2             -12.500000  \n3              -6.500000  \n4              -6.666667  \n5                    NaN  \n6             -24.000000  \n7              -5.500000  \n8              -5.000000  \n9              -3.750000  \n10            -20.333333  \n11            -11.500000  \n12            -11.750000  \n13            -17.000000  \n14             -3.666667  \n15            -12.250000  \n16            -14.000000  \n17            -27.000000  \n18            -14.000000  \n19             -6.500000  \n20            -13.666667  \n21             -3.500000  \n22            -12.000000  \n23            -10.000000  \n24            -14.000000  \n25             -3.000000  \n26             -6.000000  \n27                   NaN  \n28             -9.000000  \n29             -8.500000  \n30            -10.000000  \n31             -4.000000  ",
      "text/html": "<div>\n<style scoped>\n    .dataframe tbody tr th:only-of-type {\n        vertical-align: middle;\n    }\n\n    .dataframe tbody tr th {\n        vertical-align: top;\n    }\n\n    .dataframe thead th {\n        text-align: right;\n    }\n</style>\n<table border=\"1\" class=\"dataframe\">\n  <thead>\n    <tr style=\"text-align: right;\">\n      <th></th>\n      <th>team</th>\n      <th>avg_point_differential</th>\n      <th>avg_margin_of_victory</th>\n      <th>avg_margin_of_defeat</th>\n    </tr>\n  </thead>\n  <tbody>\n    <tr>\n      <th>0</th>\n      <td>San Francisco 49ers</td>\n      <td>5.333333</td>\n      <td>14.000000</td>\n      <td>-3.333333</td>\n    </tr>\n    <tr>\n      <th>1</th>\n      <td>Seattle Seahawks</td>\n      <td>-0.666667</td>\n      <td>10.000000</td>\n      <td>-11.333333</td>\n    </tr>\n    <tr>\n      <th>2</th>\n      <td>Tampa Bay Buccaneers</td>\n      <td>2.600000</td>\n      <td>12.666667</td>\n      <td>-12.500000</td>\n    </tr>\n    <tr>\n      <th>3</th>\n      <td>Atlanta Falcons</td>\n      <td>-0.800000</td>\n      <td>3.000000</td>\n      <td>-6.500000</td>\n    </tr>\n    <tr>\n      <th>4</th>\n      <td>New York Jets</td>\n      <td>1.600000</td>\n      <td>14.000000</td>\n      <td>-6.666667</td>\n    </tr>\n    <tr>\n      <th>5</th>\n      <td>Minnesota Vikings</td>\n      <td>12.600000</td>\n      <td>12.600000</td>\n      <td>NaN</td>\n    </tr>\n    <tr>\n      <th>6</th>\n      <td>Carolina Panthers</td>\n      <td>-16.400000</td>\n      <td>14.000000</td>\n      <td>-24.000000</td>\n    </tr>\n    <tr>\n      <th>7</th>\n      <td>Chicago Bears</td>\n      <td>5.600000</td>\n      <td>13.000000</td>\n      <td>-5.500000</td>\n    </tr>\n    <tr>\n      <th>8</th>\n      <td>Baltimore Ravens</td>\n      <td>4.200000</td>\n      <td>10.333333</td>\n      <td>-5.000000</td>\n    </tr>\n    <tr>\n      <th>9</th>\n      <td>Cincinnati Bengals</td>\n      <td>-1.000000</td>\n      <td>10.000000</td>\n      <td>-3.750000</td>\n    </tr>\n    <tr>\n      <th>10</th>\n      <td>Miami Dolphins</td>\n      <td>-10.600000</td>\n      <td>4.000000</td>\n      <td>-20.333333</td>\n    </tr>\n    <tr>\n      <th>11</th>\n      <td>New England Patriots</td>\n      <td>-8.000000</td>\n      <td>6.000000</td>\n      <td>-11.500000</td>\n    </tr>\n    <tr>\n      <th>12</th>\n      <td>Cleveland Browns</td>\n      <td>-8.400000</td>\n      <td>5.000000</td>\n      <td>-11.750000</td>\n    </tr>\n    <tr>\n      <th>13</th>\n      <td>Washington Commanders</td>\n      <td>8.000000</td>\n      <td>14.250000</td>\n      <td>-17.000000</td>\n    </tr>\n    <tr>\n      <th>14</th>\n      <td>Indianapolis Colts</td>\n      <td>-0.600000</td>\n      <td>4.000000</td>\n      <td>-3.666667</td>\n    </tr>\n    <tr>\n      <th>15</th>\n      <td>Jacksonville Jaguars</td>\n      <td>-9.200000</td>\n      <td>3.000000</td>\n      <td>-12.250000</td>\n    </tr>\n    <tr>\n      <th>16</th>\n      <td>Buffalo Bills</td>\n      <td>7.200000</td>\n      <td>21.333333</td>\n      <td>-14.000000</td>\n    </tr>\n    <tr>\n      <th>17</th>\n      <td>Houston Texans</td>\n      <td>-2.400000</td>\n      <td>3.750000</td>\n      <td>-27.000000</td>\n    </tr>\n    <tr>\n      <th>18</th>\n      <td>Las Vegas Raiders</td>\n      <td>-7.000000</td>\n      <td>3.500000</td>\n      <td>-14.000000</td>\n    </tr>\n    <tr>\n      <th>19</th>\n      <td>Denver Broncos</td>\n      <td>4.600000</td>\n      <td>12.000000</td>\n      <td>-6.500000</td>\n    </tr>\n    <tr>\n      <th>20</th>\n      <td>Arizona Cardinals</td>\n      <td>-1.800000</td>\n      <td>16.000000</td>\n      <td>-13.666667</td>\n    </tr>\n    <tr>\n      <th>21</th>\n      <td>Green Bay Packers</td>\n      <td>4.000000</td>\n      <td>9.000000</td>\n      <td>-3.500000</td>\n    </tr>\n    <tr>\n      <th>22</th>\n      <td>Los Angeles Rams</td>\n      <td>-9.000000</td>\n      <td>3.000000</td>\n      <td>-12.000000</td>\n    </tr>\n    <tr>\n      <th>23</th>\n      <td>New York Giants</td>\n      <td>-3.000000</td>\n      <td>7.500000</td>\n      <td>-10.000000</td>\n    </tr>\n    <tr>\n      <th>24</th>\n      <td>Dallas Cowboys</td>\n      <td>-0.800000</td>\n      <td>8.000000</td>\n      <td>-14.000000</td>\n    </tr>\n    <tr>\n      <th>25</th>\n      <td>Pittsburgh Steelers</td>\n      <td>3.800000</td>\n      <td>8.333333</td>\n      <td>-3.000000</td>\n    </tr>\n    <tr>\n      <th>26</th>\n      <td>New Orleans Saints</td>\n      <td>8.800000</td>\n      <td>31.000000</td>\n      <td>-6.000000</td>\n    </tr>\n    <tr>\n      <th>27</th>\n      <td>Kansas City Chiefs</td>\n      <td>6.600000</td>\n      <td>6.600000</td>\n      <td>NaN</td>\n    </tr>\n    <tr>\n      <th>28</th>\n      <td>Philadelphia Eagles</td>\n      <td>-2.500000</td>\n      <td>4.000000</td>\n      <td>-9.000000</td>\n    </tr>\n    <tr>\n      <th>29</th>\n      <td>Los Angeles Chargers</td>\n      <td>4.500000</td>\n      <td>17.500000</td>\n      <td>-8.500000</td>\n    </tr>\n    <tr>\n      <th>30</th>\n      <td>Tennessee Titans</td>\n      <td>-2.750000</td>\n      <td>19.000000</td>\n      <td>-10.000000</td>\n    </tr>\n    <tr>\n      <th>31</th>\n      <td>Detroit Lions</td>\n      <td>5.500000</td>\n      <td>8.666667</td>\n      <td>-4.000000</td>\n    </tr>\n  </tbody>\n</table>\n</div>"
     },
     "execution_count": 27,
     "metadata": {},
     "output_type": "execute_result"
    }
   ],
   "source": [
    "\n",
    "stat_dict = {'team':[], 'avg_point_differential':[], 'avg_margin_of_victory':[], 'avg_margin_of_defeat':[]}\n",
    "\n",
    "for team in boxscore.team.unique():\n",
    "    team_df = boxscore[boxscore['team'] == team]\n",
    "    wins_df = team_df[team_df['result'] == 'W']\n",
    "    loss_df = team_df[team_df['result'] == 'L']\n",
    "    avg_point_differential = team_df['point_differential'].mean()\n",
    "    avg_margin_of_victory = wins_df['point_differential'].mean()\n",
    "    avg_margin_of_defeat = loss_df['point_differential'].mean()\n",
    "    stat_dict['team'].append(team)\n",
    "    stat_dict['avg_point_differential'].append(avg_point_differential)\n",
    "    stat_dict['avg_margin_of_victory'].append(avg_margin_of_victory)\n",
    "    stat_dict['avg_margin_of_defeat'].append(avg_margin_of_defeat)\n",
    "\n",
    "stat_df = pd.DataFrame(stat_dict)\n",
    "stat_df\n"
   ],
   "metadata": {
    "collapsed": false,
    "ExecuteTime": {
     "end_time": "2024-10-12T19:04:40.371926Z",
     "start_time": "2024-10-12T19:04:40.317675Z"
    }
   },
   "id": "62e5c445bf9e090d"
  },
  {
   "cell_type": "code",
   "execution_count": 70,
   "outputs": [],
   "source": [
    "`\n"
   ],
   "metadata": {
    "collapsed": false,
    "ExecuteTime": {
     "end_time": "2024-10-10T03:18:11.653967Z",
     "start_time": "2024-10-10T03:18:11.650267Z"
    }
   },
   "id": "bbc33fe60ac6a0a5"
  },
  {
   "cell_type": "code",
   "execution_count": 71,
   "outputs": [],
   "source": [],
   "metadata": {
    "collapsed": false,
    "ExecuteTime": {
     "end_time": "2024-10-10T03:18:14.139638Z",
     "start_time": "2024-10-10T03:18:14.134859Z"
    }
   },
   "id": "247cac0ec9137bb5"
  },
  {
   "cell_type": "code",
   "execution_count": 12,
   "outputs": [],
   "source": [],
   "metadata": {
    "collapsed": false,
    "ExecuteTime": {
     "end_time": "2024-10-08T03:26:14.664526Z",
     "start_time": "2024-10-08T03:26:14.656523Z"
    }
   },
   "id": "88184997be9f2f9e"
  },
  {
   "cell_type": "code",
   "execution_count": 12,
   "outputs": [],
   "source": [],
   "metadata": {
    "collapsed": false,
    "ExecuteTime": {
     "end_time": "2024-10-08T03:26:11.520659Z",
     "start_time": "2024-10-08T03:26:11.496428Z"
    }
   },
   "id": "c06e207bd114ce68"
  },
  {
   "cell_type": "code",
   "execution_count": 24,
   "outputs": [],
   "source": [],
   "metadata": {
    "collapsed": false,
    "ExecuteTime": {
     "end_time": "2024-10-07T23:49:14.862142Z",
     "start_time": "2024-10-07T23:49:14.837809Z"
    }
   },
   "id": "6ee67305f8d9cd25"
  },
  {
   "cell_type": "code",
   "execution_count": 6,
   "outputs": [],
   "source": [],
   "metadata": {
    "collapsed": false,
    "ExecuteTime": {
     "end_time": "2024-10-05T14:16:23.260908Z",
     "start_time": "2024-10-05T14:16:23.254456Z"
    }
   },
   "id": "a4fe83b60321f83c"
  },
  {
   "cell_type": "markdown",
   "source": [],
   "metadata": {
    "collapsed": false
   },
   "id": "6e10abc99689289"
  },
  {
   "cell_type": "markdown",
   "source": [
    "    "
   ],
   "metadata": {
    "collapsed": false
   },
   "id": "a91e9209662b90a7"
  },
  {
   "cell_type": "code",
   "execution_count": 6,
   "outputs": [],
   "source": [],
   "metadata": {
    "collapsed": false,
    "ExecuteTime": {
     "end_time": "2024-10-05T14:16:18.274449Z",
     "start_time": "2024-10-05T14:16:18.271880Z"
    }
   },
   "id": "361f6053062a4b60"
  },
  {
   "cell_type": "code",
   "execution_count": 2,
   "outputs": [],
   "source": [],
   "metadata": {
    "collapsed": false,
    "ExecuteTime": {
     "end_time": "2024-10-03T19:50:55.764418Z",
     "start_time": "2024-10-03T19:50:55.757631Z"
    }
   },
   "id": "b25283740375e06b"
  },
  {
   "cell_type": "markdown",
   "source": [
    " "
   ],
   "metadata": {
    "collapsed": false
   },
   "id": "79d354ce0fd944e1"
  },
  {
   "cell_type": "code",
   "execution_count": 2,
   "outputs": [],
   "source": [],
   "metadata": {
    "collapsed": false,
    "ExecuteTime": {
     "end_time": "2024-10-03T19:50:59.753461Z",
     "start_time": "2024-10-03T19:50:59.742772Z"
    }
   },
   "id": "10712f09d0cffe03"
  },
  {
   "cell_type": "code",
   "execution_count": 1,
   "outputs": [],
   "source": [],
   "metadata": {
    "collapsed": false,
    "ExecuteTime": {
     "end_time": "2024-09-25T00:47:13.889717Z",
     "start_time": "2024-09-25T00:47:13.875425Z"
    }
   },
   "id": "4e220234adac7230"
  },
  {
   "cell_type": "code",
   "execution_count": 4,
   "outputs": [],
   "source": [],
   "metadata": {
    "collapsed": false,
    "ExecuteTime": {
     "end_time": "2024-09-25T00:50:53.156956Z",
     "start_time": "2024-09-25T00:50:53.139245Z"
    }
   },
   "id": "d9416f8526b1f4e6"
  },
  {
   "cell_type": "code",
   "execution_count": 4,
   "outputs": [],
   "source": [],
   "metadata": {
    "collapsed": false,
    "ExecuteTime": {
     "end_time": "2024-09-25T00:50:56.152345Z",
     "start_time": "2024-09-25T00:50:56.137888Z"
    }
   },
   "id": "13c65fcc74a78f60"
  },
  {
   "cell_type": "markdown",
   "source": [],
   "metadata": {
    "collapsed": false
   },
   "id": "13333f6b73df185b"
  },
  {
   "cell_type": "code",
   "execution_count": null,
   "outputs": [],
   "source": [],
   "metadata": {
    "collapsed": false
   },
   "id": "bbd06cd5dbb7fd55"
  },
  {
   "cell_type": "markdown",
   "source": [],
   "metadata": {
    "collapsed": false
   },
   "id": "cd6265fa45cd1f24"
  },
  {
   "cell_type": "markdown",
   "source": [],
   "metadata": {
    "collapsed": false
   },
   "id": "97bd8c6ebb380f1f"
  },
  {
   "cell_type": "code",
   "execution_count": 17,
   "outputs": [],
   "source": [],
   "metadata": {
    "collapsed": false,
    "ExecuteTime": {
     "end_time": "2024-09-20T03:49:17.737822Z",
     "start_time": "2024-09-20T03:49:17.708221Z"
    }
   },
   "id": "2bb6f3f919127843"
  },
  {
   "cell_type": "code",
   "execution_count": 17,
   "outputs": [],
   "source": [
    "\n"
   ],
   "metadata": {
    "collapsed": false,
    "ExecuteTime": {
     "end_time": "2024-09-20T03:49:17.738092Z",
     "start_time": "2024-09-20T03:49:17.714221Z"
    }
   },
   "id": "18d71cd4ab791960"
  },
  {
   "cell_type": "code",
   "execution_count": 3,
   "outputs": [],
   "source": [],
   "metadata": {
    "collapsed": false,
    "ExecuteTime": {
     "end_time": "2024-09-18T22:20:12.157898Z",
     "start_time": "2024-09-18T22:20:12.147192Z"
    }
   },
   "id": "7b91c464307da466"
  },
  {
   "cell_type": "code",
   "execution_count": 3,
   "outputs": [],
   "source": [],
   "metadata": {
    "collapsed": false,
    "ExecuteTime": {
     "end_time": "2024-09-18T22:20:12.379652Z",
     "start_time": "2024-09-18T22:20:12.370993Z"
    }
   },
   "id": "f9bfcca282d7537c"
  },
  {
   "cell_type": "code",
   "execution_count": 3,
   "outputs": [],
   "source": [],
   "metadata": {
    "collapsed": false,
    "ExecuteTime": {
     "end_time": "2024-09-18T22:20:12.596969Z",
     "start_time": "2024-09-18T22:20:12.556415Z"
    }
   },
   "id": "b912049296c01ed5"
  },
  {
   "cell_type": "code",
   "execution_count": 3,
   "outputs": [],
   "source": [],
   "metadata": {
    "collapsed": false,
    "ExecuteTime": {
     "end_time": "2024-09-18T22:20:12.942709Z",
     "start_time": "2024-09-18T22:20:12.907338Z"
    }
   },
   "id": "7311cfc949aaa8ac"
  },
  {
   "cell_type": "code",
   "execution_count": 3,
   "outputs": [],
   "source": [],
   "metadata": {
    "collapsed": false,
    "ExecuteTime": {
     "end_time": "2024-09-18T22:20:13.131142Z",
     "start_time": "2024-09-18T22:20:13.107989Z"
    }
   },
   "id": "f71e1b3bf3eab20a"
  },
  {
   "cell_type": "code",
   "execution_count": 3,
   "outputs": [],
   "source": [],
   "metadata": {
    "collapsed": false,
    "ExecuteTime": {
     "end_time": "2024-09-18T22:20:13.366260Z",
     "start_time": "2024-09-18T22:20:13.331571Z"
    }
   },
   "id": "25e1c8e4674f4f68"
  },
  {
   "cell_type": "code",
   "execution_count": 3,
   "outputs": [],
   "source": [],
   "metadata": {
    "collapsed": false,
    "ExecuteTime": {
     "end_time": "2024-09-18T22:20:13.545226Z",
     "start_time": "2024-09-18T22:20:13.514217Z"
    }
   },
   "id": "f6e442163c078cee"
  },
  {
   "cell_type": "code",
   "execution_count": 3,
   "outputs": [],
   "source": [],
   "metadata": {
    "collapsed": false,
    "ExecuteTime": {
     "end_time": "2024-09-18T22:20:13.713336Z",
     "start_time": "2024-09-18T22:20:13.681178Z"
    }
   },
   "id": "28e7905afd34ee3b"
  },
  {
   "cell_type": "code",
   "execution_count": null,
   "outputs": [],
   "source": [],
   "metadata": {
    "collapsed": false
   },
   "id": "edaed07d571eff52"
  }
 ],
 "metadata": {
  "kernelspec": {
   "display_name": "Python 3",
   "language": "python",
   "name": "python3"
  },
  "language_info": {
   "codemirror_mode": {
    "name": "ipython",
    "version": 2
   },
   "file_extension": ".py",
   "mimetype": "text/x-python",
   "name": "python",
   "nbconvert_exporter": "python",
   "pygments_lexer": "ipython2",
   "version": "2.7.6"
  }
 },
 "nbformat": 4,
 "nbformat_minor": 5
}
