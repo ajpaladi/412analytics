{
 "cells": [
  {
   "cell_type": "code",
   "execution_count": 12,
   "outputs": [],
   "source": [
    "import pandas as pd\n",
    "import requests\n",
    "from pprint import pprint\n",
    "import plotly_express as px\n",
    "from fouronetwo import Fetch\n",
    "fetch = Fetch()\n",
    "import re\n",
    "from tqdm import tqdm\n",
    "\n"
   ],
   "metadata": {
    "collapsed": false,
    "ExecuteTime": {
     "end_time": "2024-10-17T16:37:16.782601Z",
     "start_time": "2024-10-17T16:37:16.774577Z"
    }
   },
   "id": "81466365851f1193"
  },
  {
   "cell_type": "code",
   "execution_count": 14,
   "outputs": [
    {
     "data": {
      "text/plain": "{' [35]': 4246273,\n ' [Downed]': 4246289,\n ' [Touchback]': 4246274,\n 'Isaako Aaitui': 14856,\n 'Manny Abad': 3058033,\n 'Israel Abanikanda': 4429202,\n 'Jared Abbrederis': 16836,\n 'Mehdi Abdesmad': 2576467,\n 'Isa Abdul-Quddus': 14466,\n 'Ameer Abdullah': 2576336,\n 'Hamza Abdullah': 8645,\n 'Husain Abdullah': 11910,\n 'Khalid Abdullah': 3049325,\n 'Rabih Abdullah': 1703,\n 'Rahim Abdullah': 3998258,\n 'Yasir Abdullah': 4360807,\n 'Micah Abernathy': 3915373,\n 'Victor Abiamiri': 10501,\n 'Oday Aboushi': 15972,\n 'Clifton Abraham': 7903,\n 'Donnie Abraham': 1027,\n 'John Abraham': 2144,\n 'Micah Abraham': 4427563,\n 'Chad Abram': 17100,\n 'Johnathan Abram': 3728305,\n 'Keshunn Abram': 4569234,\n 'Bobby Abrams': 7177,\n 'Delrick Abrams': 4360643,\n 'Kevin Abrams': 1201,\n 'Kris Abrams-Draine': 4429193,\n \"De'Von Achane\": 4429160,\n 'Emmanuel Acho': 15045,\n 'Sam Acho': 14152,\n 'D.D. Acholonu': 3998259,\n 'Kenneth Acker': 16914,\n 'Tom Ackerman': 1028,\n 'Jaelon Acklin': 3121616,\n 'Corey Acosta': 2515713,\n 'DeMarkus Acy': 4035103,\n 'Aaron Adams': 16296,\n 'Andrew Adams': 2576599,\n 'Anthony Adams': 4515,\n 'Blue Adams': 4678,\n 'Charlie Adams': 4447,\n 'Darvin Adams': 14759,\n 'Davante Adams': 16800,\n 'DJ Adams': 16961,\n 'Evan Adams': 3916468,\n 'Flozell Adams': 1469,\n 'Gaines Adams': 10449,\n 'Harry Adams': 16677,\n 'Haston Adams': 4077981,\n 'Isaiah Adams': 5084939,\n 'Ishmael Adams': 2971567,\n 'Jamal Adams': 3115373,\n 'Jamar Adams': 11911,\n 'Jeff Adams': 15368,\n 'Jerell Adams': 2978727,\n 'Joe Adams': 14917,\n 'Johnny Adams': 16489,\n 'Jonathan Adams': 4241053,\n 'Josh Adams': 3932420,\n 'Keion Adams': 3042773,\n 'Keith Adams': 2781,\n 'Kendrick Adams': 15394,\n 'Kris Adams': 14319,\n 'Kyle Adams': 14217,\n 'Matthew Adams': 3126179,\n 'Michael Adams': 10847,\n 'Mike Adams': 8133,\n 'Montravius Adams': 3051894,\n 'Myles Adams': 4039164,\n 'Nelson Adams': 2971402,\n 'Paul Adams': 3122099,\n 'Phillip Adams': 13308,\n 'Rodney Adams': 3059918,\n 'Royce Adams': 14863,\n 'Sam Adams': 601,\n 'Scott Adams': 7353,\n 'Titus Adams': 9806,\n 'Tony Adams': 4240532,\n 'Trey Adams': 3886808,\n 'Tyler Adams': 4248067,\n 'Tyrell Adams': 3895228,\n 'Vashone Adams': 916,\n 'Will Adams': 4261019,\n 'Levy Adcock': 15382,\n 'Jahleel Addae': 16039,\n 'Joseph Addai': 9616,\n 'Nasir Adderley': 3912028,\n 'Tucker Addington': 4034729,\n 'Bralon Addison': 2971271,\n 'Jordan Addison': 4429205,\n 'Mario Addison': 14320,\n 'Adetomiwa Adebawore': 4427635,\n 'Paulson Adebo': 4242547,\n 'Quincy Adeboyejo': 3051869,\n 'Jayson Ademilola': 4372754,\n 'Hakeem Adeniji': 4046557,\n 'Ola Adeniyi': 3126081,\n 'Aaron Adeoye': 3910148,\n 'Tenny Adewusi': 3912029,\n 'Victor Adeyanju': 9699,\n 'Kenton Adeyemi': 2576600,\n 'Xavier Adibi': 11352,\n 'Jude Adjei-Barimah': 2515836,\n 'Nate Adkins': 4383440,\n 'Spencer Adkins': 12628,\n 'James Adkisson': 6091,\n 'Cal Adomitis': 4240719,\n 'Graham Adomitis': 4031226,\n 'Daniel Adongo': 16632,\n 'Al Afalava': 12629,\n 'Patrick Afriyie': 3119152,\n 'Jordan Agasiva': 4243241,\n 'Mel Agee': 7006,\n 'Tommie Agee': 6503,\n 'Tanner Agen': 4002647,\n 'Nelson Agholor': 2971618,\n 'McTelvin Agim': 4035566,\n 'Jamal Agnew': 3061612,\n 'Ray Agnew': 17101,\n 'Theo Agnew': 2470733,\n 'Vince Agnew': 14558,\n 'David Agoha': 5144941,\n 'Roberto Aguayo': 2978887,\n 'Mitchell Agude': 4591235,\n 'Carlton Agudosi': 2982809,\n 'Louis Aguiar': 228,\n 'Devin Aguilar': 15184,\n 'C.J. Ah You': 10682,\n 'Chidi Ahanotu': 426,\n 'Holton Ahlers': 4360131,\n 'Ramiz Ahmed': 4266790,\n 'Salvon Ahmed': 4243315,\n 'Shahbaz Ahmed': 2976262,\n 'Junior Aho': 4689551,\n 'Brady Aiello': 3915134,\n 'Danny Aiken': 14581,\n 'Kamar Aiken': 14583,\n 'Sam Aiken': 4585,\n 'Walt Aikens': 16819,\n 'Troy Aikman': 53,\n 'James Aiono': 15392,\n 'Babatunde Aiyegbusi': 3672841,\n 'Victor Aiyewa': 14672,\n 'Brandon Aiyuk': 4360438,\n 'Jay Ajayi': 2573300,\n 'Solomon Ajayi': 4246885,\n 'Austin Ajiake': 4374171,\n 'Seyi Ajirotutu': 13524,\n 'Hakim Akbar': 2712,\n 'Cam Akers': 4240021,\n 'David Akers': 1716,\n 'Landen Akers': 4035554,\n 'Alex Akingbulu': 4035835,\n 'Freedom Akinmoladun': 3116082,\n 'C.J. Akins': 16316,\n 'Chris Akins': 1965,\n 'Curtis Akins': 3139626,\n 'Jordan Akins': 3128452,\n 'Elvis Akpla': 15626,\n 'Derek Akunne': 2574087,\n 'Abdul-Karim al-Jabbar': 946,\n 'Azeez Al-Shaair': 3919117,\n 'Josh Aladenoye': 17308,\n 'Otaro Alaka': 3122141,\n 'Ikaika Alama-Francis': 10502,\n 'Isaac Alarcon': 4686629,\n 'Branden Albert': 3938599,\n 'Trev Kendall Alberts': 7604,\n 'Austin Albrecht': 2971823,\n 'Alex Albright': 14628,\n 'Bryson Albright': 2978064,\n 'Christian Albright': 4244712,\n 'Ethan Albright': 869,\n 'Zac Alcorn': 10140,\n 'Allen Aldridge': 582,\n 'Kevin Aldridge': 4345,\n 'Melvin Keith Aldridge': 7592,\n 'Arnold Tauese Ale': 7709,\n 'Ulumoo Ale': 4361107,\n 'Ink Aleaga': 1406,\n 'Chas Alecxih': 15353,\n 'Adonis Alexander': 3871875,\n 'Alvester Alexander': 15552,\n 'Brent Alexander': 717,\n 'Bruce Alexander': 6852,\n 'D.J. Alexander': 3001171,\n 'Danario Alexander': 13935,\n 'David Alexander': 6833,\n 'Deontez Alexander': 4055563,\n 'Derrick Alexander': 567,\n 'Derrick L. Alexander': 759,\n 'Dominique Alexander': 3052651,\n 'Elijah Alexander': 346,\n 'Eric Alexander': 6156,\n 'Frank Alexander': 15010,\n 'Gerald Alexander': 10505,\n 'Harold Alexander': 7452,\n 'Jaire Alexander': 3895429,\n 'Jaylan Alexander': 4372495,\n 'Jon Alexander': 4569109,\n 'Kevin Alexander': 13798,\n 'Kwon Alexander': 2976541,\n 'Lorenzo Alexander': 9424,\n 'Mackensie Alexander': 3045120,\n 'Maurice Alexander': 3914307,\n 'Mister Alexander': 14534,\n 'Patrise Alexander': 8074,\n 'Roc Alexander': 5846,\n 'Shaun Alexander': 2150,\n 'Stephen Alexander': 1478,\n 'Terrence Alexander': 3117241,\n 'Vadal Alexander': 2976556,\n 'Deslin Alexandre': 4240728,\n 'Justin Alexandre': 4263210,\n 'Rich Alexis': 6300,\n 'Joey Alfieri': 3117242,\n 'Brian Alford': 1625,\n 'Dee Alford': 4401823,\n 'Dominic Alford': 14734,\n 'Jay Alford': 10525,\n 'Mario Alford': 3052686,\n 'Robert Alford': 15817,\n 'Alan Ali': 4243777,\n 'Charles Ali': 10967,\n 'Josh Ali': 4259976,\n 'Rasheen Ali': 4690013,\n \"Ricky Ali'ifua\": 2469470,\n 'Mo Alie-Cox': 2998565,\n 'Tuineau Alipate': 7752,\n 'Erick All Jr.': 4427834,\n 'Shea Allard': 15601,\n 'Nick Allegretti': 3115922,\n 'Andy Alleman': 10532,\n 'Anthony Allen': 14212,\n 'Antonio Allen': 15061,\n 'Armando Allen': 14358,\n 'Asher Allen': 12630,\n 'Austin Allen': 4240787,\n 'Beau Allen': 16912,\n 'Braelon Allen': 4685247,\n 'Brandon Allen': 2574511,\n 'Brevin Allen': 4365380,\n 'Brian Allen': 3134666,\n 'Cam Allen': 4570411,\n 'Chase Allen': 4035526,\n 'Christopher Allen': 4241446,\n 'Cortez Allen': 14109,\n 'Dakota Allen': 3139453,\n 'Darius Allen': 3059554,\n 'David Allen': 4760,\n 'Davis Allen': 4426553,\n 'Davonte Allen': 2582033,\n 'Dejon Allen': 3046392,\n 'Denicos Allen': 17370,\n 'Devon Allen': 3052083,\n 'Dwayne Allen': 14901,\n 'Eric Allen': 107,\n 'Floyd Allen': 3920560,\n 'Ian Allen': 4368,\n 'Jack Allen': 2576254,\n 'Jake Allen': 11734,\n 'James Allen': 3610,\n 'Jared Allen': 5651,\n 'Jason Allen': 9602,\n 'Javorius Allen': 2577253,\n 'Jaylon Allen': 4371740,\n 'Jeff Allen': 14990,\n 'Jonathan Allen': 3054840,\n 'Josh Allen': 3918298,\n 'Julian Allen': 3916334,\n 'Kazmeir Allen': 4367180,\n 'Keenan Allen': 15818,\n 'Kenderick Allen': 4761,\n 'Kenny Allen': 3045226,\n 'Kyle Allen': 3115293,\n 'Larry Allen': 4573313,\n 'Marcus Allen': 3116149,\n 'Matt Allen': 4300,\n 'Nate Allen': 13257,\n 'Pierre Allen': 14219,\n 'Randy Allen': 3933340,\n 'RaShaun Allen': 17423,\n 'Ricardo Allen': 16882,\n 'Roger Allen': 12754,\n 'Russell Allen': 12755,\n 'Ryan Allen': 16382,\n 'Taje Allen': 1345,\n 'Terry Allen': 77,\n 'Torrence Allen': 16962,\n 'Tovar Allen': 2586895,\n 'Tremayne Allen': 8178,\n 'Will Allen': 5636,\n 'Zach Allen': 3915282,\n 'Larry Allen Jr.': 3118835,\n 'Bryson Allen-Williams': 3126478,\n 'Tyler Allgeier': 4373626,\n 'Hinwa Allieu': 4683124,\n 'Aundrae Allison': 10589,\n 'Geronimo Allison': 3115913,\n 'Jalen Allison': 3120566,\n 'Jeff Allison': 4040893,\n 'Brian McCray Allred': 7554,\n 'Colin Allred': 9847,\n 'John Allred': 1194,\n 'Jeff Alm': 6895,\n 'Kiko Alonso': 15819,\n 'Jacob Alsadek': 3056432,\n 'Johnathan Alston': 3051706,\n 'Jon Alston': 9663,\n 'Quinton Alston': 2582444,\n 'Richard Alston': 5345,\n 'Mike Alstott': 925,\n 'Joe Alt': 4683487,\n 'John Alt': 6925,\n 'Tyson Alualu': 13233,\n 'Auzoyah Alufohai': 3911982,\n 'Delbert Alvarado': 13526,\n 'Ugo Amadi': 3886834,\n 'Eugene Amano': 5764,\n 'Jace Amaro': 16792,\n 'Ken Amato': 5348,\n 'Jonathon Amaya': 13527,\n 'Ashley Ambrose': 299,\n 'Damario Ambrose': 14682,\n 'Kiran Amegadjie': 4883090,\n 'Danny Amendola': 11674,\n 'David Amerson': 15820,\n 'Otis Amey': 9275,\n 'Vince Amey': 8246,\n 'Kofi Amichia': 2980036,\n 'Matt Ammendola': 3919602,\n 'Nick Amoah': 4248763,\n 'Adrian Amos': 2582132,\n 'Anthony Amos': 16508,\n \"D'Angelo Amos\": 4049429,\n 'DaShaun Amos': 2971986,\n 'Jaquan Amos': 4252209,\n 'Jonathan Amosa': 16509,\n 'Prince Amukamara': 13975,\n 'Bradlee Anae': 4035660,\n 'Siupeli Anau': 3119465,\n 'Tremayne Anchrum Jr.': 4035478,\n 'Kimble Anders': 116,\n 'Morten Andersen': 11,\n 'Troy Andersen': 4247807,\n 'Abdullah Anderson': 3119119,\n 'Alec Anderson': 4367203,\n \"Andre' Anderson\": 13930,\n 'Antonio Anderson': 8136,\n 'Bennie Anderson': 2877,\n 'Brandon Anderson': 12954,\n 'Bruce Anderson': 3930901,\n 'C.J. Anderson': 16040,\n 'Calvin Anderson': 3123867,\n 'Chad Anderson': 3120376,\n 'Charlie Anderson': 5725,\n 'Colin Anderson': 16126,\n 'Colt Anderson': 12757,\n 'Courtney Anderson': 5770,\n 'Curtis Anderson': 8194,\n 'Damien Anderson': 4367,\n 'Darius Anderson': 4038533,\n 'Darren Anderson': 7340,\n 'David Anderson': 9837,\n 'Demetris Anderson': 2587709,\n 'Deon Anderson': 10638,\n 'Derek Anderson': 8627,\n 'Dres Anderson': 2514542,\n 'Drew Anderson': 4040826,\n 'Dunstan Anderson': 7794,\n 'Dwight Anderson': 5879,\n 'Eddie Anderson': 6622,\n 'Erick Scott Anderson': 7441,\n 'Evan Anderson': 4612182,\n 'Flipper Anderson': 6506,\n 'Gary Anderson': 6466,\n 'Henry Anderson': 2517752,\n 'Jack Anderson': 4241844,\n 'Jackson Anderson': 16612,\n 'Jake Anderson': 15206,\n 'Jamaal Anderson': 11116,\n 'Jamal Anderson': 656,\n 'James Anderson': 9674,\n 'Jason Anderson': 5788,\n 'Jesse Anderson': 6682,\n 'Joe Anderson': 2478555,\n 'Jonathan Anderson': 2514468,\n 'Justin Anderson': 17103,\n 'Kadarron Anderson': 15211,\n 'Kevin Anderson': 2577120,\n 'Kiante Anderson': 3063943,\n 'Liam Anderson': 4368056,\n 'Mark Anderson': 9745,\n 'Marques Anderson': 3620,\n 'Mike Anderson': 2320,\n 'MJ Anderson': 4426572,\n 'Neal Anderson': 6402,\n 'Nick Anderson': 4568626,\n 'Otis Anderson': 4243543,\n 'Quintin Anderson': 15436,\n 'Rashard Anderson': 3998263,\n \"Ri'Shard Anderson\": 17104,\n 'Richie Anderson': 458,\n 'Rodney Anderson': 3705353,\n 'Ronnie Anderson': 8225,\n 'Rory Anderson': 4256702,\n 'Ryan Anderson': 4259327,\n 'Ryder Anderson': 4242430,\n 'Scotty Anderson': 3998264,\n 'Spencer Anderson': 4372056,\n 'Stephen Anderson': 2576854,\n 'Stevie Anderson': 7593,\n 'Sunny Anderson': 4370989,\n 'Tim Anderson': 5599,\n 'Todd Anderson': 15144,\n 'Tycen Anderson': 4257240,\n 'Vince Anderson': 13089,\n 'Willie Anderson': 966,\n 'Zaire Anderson': 2974300,\n 'Zayne Anderson': 3932335,\n 'Will Anderson Jr.': 4685724,\n 'Joe Andreessen': 4366349,\n 'Antonio Andrews': 17105,\n 'Darren Andrews': 3047553,\n 'David Andrews': 2578529,\n 'Jake Andrews': 4362732,\n 'Josh Andrews': 16963,\n 'Mark Andrews': 3116365,\n 'Shawn Andrews': 5541,\n 'Stacy Andrews': 5648,\n 'Willie Andrews': 9815,\n 'Blaise Andries': 4240733,\n 'Roman Andrus': 2980432,\n 'Shane Andrus': 10269,\n 'Joe Andruzzi': 1329,\n 'David Anenih': 4240263,\n 'Cary Angeline': 4035703,\n 'Bryan Anger': 14950,\n 'Pat Angerer': 13258,\n 'Christian Angulo': 3914143,\n 'Richard Angulo': 4712,\n 'Jesse Aniebonam': 3128308,\n 'Eli Ankou': 3008150,\n 'Andrew Ankrah': 3049326,\n 'Jason Ankrah': 17368,\n 'Blake Annen': 16964,\n 'Zack Annexstad': 4360936,\n 'Sam Anno': 7074,\n 'Ezekiel Ansah': 15785,\n 'Andre Anthony': 4035453,\n 'Cornelius Anthony': 4380,\n 'Daijahn Anthony': 4874448,\n 'Deon Anthony': 17476,\n 'Marc Anthony': 15931,\n 'Reidel Anthony': 3998266,\n 'Stephone Anthony': 2576482,\n 'Danny Anthrop': 2977751,\n 'Israel Antwine': 4360672,\n 'Felix Anudike-Uzomah': 4612387,\n 'Kenny Anunike': 16965,\n 'Chigbo Anunoby': 15399,\n 'Chigozie Anusiem': 4360475,\n 'Kelechi Anyalebechi': 4371195,\n 'Boris Anyama': 2517537,\n 'Alex Anzalone': 3043107,\n 'Troy Apke': 3116152,\n 'Eli Apple': 3040506,\n 'Marcus Applefield': 3121518,\n 'Antwan Applewhite': 10862,\n 'Leo Araguz': 1159,\n 'Matt Araiza': 4361496,\n 'Charles Arbuckle': 6683,\n 'J.J. Arcega-Whiteside': 3931397,\n 'Emmanuel Arceneaux': 13954,\n 'Lester Archambeau': 251,\n 'Brandon Archer': 11158,\n 'Dri Archer': 16755,\n 'R.J. Archer': 13309,\n 'Daniel Archibong': 4044146,\n 'Mike Archie': 8071,\n 'Adam Archuleta': 2568,\n 'AJ Arcuri': 4046707,\n 'Kareem Are': 3116592,\n 'Javier Arenas': 13259,\n 'Jake Arians': 2796,\n 'Daniel Arias': 4360644,\n 'Chi Chi Ariguzo': 2511087,\n 'Ike Ariguzo': 2530979,\n 'David Arkin': 14119,\n 'Alex Armah': 4212884,\n 'Thurston Armbrister': 2579598,\n 'Jo Juan Armour': 3998267,\n 'JoJuan Armour': 1977,\n 'Justin Armour': 771,\n 'Jalyn Armour-Davis': 4372017,\n 'Arik Armstead': 2971275,\n 'Armond Armstead': 15764,\n 'Jessie Armstead': 492,\n 'Ryquell Armstead': 3923397,\n 'Terron Armstead': 15821,\n 'Anthony Armstrong': 11946,\n 'Antonio Armstrong': 7945,\n 'Bruce Armstrong': 226,\n 'Calvin Armstrong': 8625,\n 'Cornell Armstrong': 3123963,\n 'Derick Armstrong': 3998269,\n 'Dorance Armstrong': 3928979,\n \"Ka'John Armstrong\": 3125842,\n 'Matt Armstrong': 17106,\n 'Ray-Ray Armstrong': 16463,\n 'Trace Armstrong': 197,\n 'Tyji Armstrong': 7334,\n 'Tommy Armstrong Jr.': 2974301,\n 'Damon Arnette': 3915506,\n 'Brian Arnfelt': 16041,\n 'Dan Arnold': 4212989,\n 'Grayland Arnold': 4035389,\n 'Jahine Arnold': 1029,\n 'Jim Arnold': 6517,\n 'Terrion Arnold': 4592837,\n 'Stanley Arnoux': 12631,\n 'Devin Aromashodu': 9819,\n 'Adrian Arrington': 11471,\n 'J.J. Arrington': 8458,\n 'Kyle Arrington': 11494,\n 'LaVar Arrington': 2133,\n 'Mike Arthur': 7188,\n 'Cameron Artis-Payne': 3043097,\n 'Rodney Artmore': 2044,\n 'Stanley Arukwe': 15560,\n 'Ade Aruna': 3041114,\n 'Herman Arvie': 7425,\n 'George Asafo-Adjei': 3915238,\n 'Jon Asamoah': 13260,\n 'Brian Asamoah II': 4360255,\n 'Ayir Asante': 4571801,\n 'Larry Asante': 13310,\n 'Richard Ash': 2515345,\n 'Jamie Asher': 7802,\n 'Perez Ashford': 16307,\n 'Calvin Ashley': 4242534,\n 'Darryl Ashmore': 330,\n 'Jacolby Ashworth': 16334,\n 'Tom Ashworth': 4298,\n 'Devin Asiasi': 4046522,\n 'Isaac Asiata': 2575978,\n 'Johan Asiata': 12758,\n 'Matt Asiata': 14360,\n 'K.C. Asiodu': 12759,\n 'Joe Aska': 7806,\n 'B.J. Askew': 4543,\n 'Jaytlin Askew': 4240487,\n 'Matthias Askew': 5639,\n 'Nate Askew': 17107,\n 'Dravon Askew-Henry': 3916064,\n 'Nnamdi Asomugha': 4489,\n 'Mark Asper': 15026,\n 'Manuel Asprilla': 2576460,\n 'George Aston': 3136308,\n 'Tim Atchison': 14636,\n 'Marcell Ateman': 3046320,\n 'Baraka Atkins': 10564,\n 'Corey Atkins': 2487,\n 'Gene Atkins': 7245,\n 'Geno Atkins': 13311,\n 'James Atkins': 4299,\n 'John Atkins': 3043127,\n 'Kevin Atkins': 4040919,\n 'Lamar Atkins': 2970192,\n 'Larry Atkins': 1837,\n 'Eloy Atkinson': 16042,\n 'Hunter Atkinson': 3933213,\n 'George Atkinson III': 17396,\n 'Oshiomogho Atogwe': 8480,\n 'Jeremiah Attaochu': 16761,\n 'Steve Atwater': 202,\n 'Tutu Atwell': 4360797,\n 'Brandon Aubrey': 3953687,\n 'Josh Aubrey': 16312,\n 'Antony Auclair': 4081127,\n 'Kyle Auffray': 16572,\n 'Josh Augusta': 3051846,\n 'Akeem Auguste': 16510,\n 'Damarr Aultman': 2507242,\n 'Junior Aumavae': 13529,\n 'Popo Aumavae': 4242498,\n 'Malaesala Aumavae-Laulu': 4569301,\n 'Austin Aune': 4360163,\n 'David Ausberry': 14102,\n 'Jhamon Ausbon': 4240895,\n 'Erik Austell': 2977231,\n 'Alex Austin': 4426599,\n 'Billy Austin': 1748,\n 'Bless Austin': 3870072,\n 'Joe Austin': 3053254,\n 'Miles Austin': 10147,\n 'Ray Austin': 1292,\n 'Reggie Austin': 3998271,\n 'Rodney Austin': 15464,\n 'Tavon Austin': 4070073,\n 'Terrence Austin': 13312,\n 'Thomas Austin': 13825,\n 'Calvin Austin III': 4243389,\n 'Kevin Austin Jr.': 4372758,\n 'Marvin Austin Jr.': 14025,\n 'Darnell Autry': 1262,\n 'Denico Autry': 17447,\n 'Lee Autry': 4242251,\n 'Jason Avant': 9695,\n 'Anthony Averett': 3054841,\n 'Travis Averill': 2972891,\n 'C.J. Avery': 4240072,\n 'Calvin Avery': 4360401,\n 'Donnie Avery': 11267,\n 'Genard Avery': 3126204,\n 'John Avery': 1462,\n 'Josh Avery': 4250098,\n 'Steve Avery': 7595,\n 'Tre Avery': 4259300,\n 'Michael Avila': 15695,\n 'Steve Avila': 4362474,\n 'Cliff Avril': 11326,\n 'Robert Mitchell Awalt': 6477,\n 'Adrian Awasom': 9288,\n 'Ronald Awatt': 4245242,\n 'Micah Awe': 2979171,\n 'Fisayo Awolaja': 3910591,\n 'Kayode Awosika': 4040842,\n 'Chidobe Awuzie': 3052101,\n 'Brendon Ayanbadejo': 4777,\n 'Obafemi Ayanbadejo': 1740,\n 'Gottlieb Ayedze': 5145719,\n 'Akeem Ayers': 14015,\n 'Demarcus Ayers': 3040026,\n 'Michael Ayers': 5125351,\n 'Robert Ayers': 12432,\n 'Kole Ayi': 2815,\n 'Akin Ayodele': 3617,\n 'Remi Ayodele': 10406,\n 'Caleb Azubike': 2972337,\n 'Jerry Azumah': 1900,\n 'D B': 4079725,\n 'David Baas': 8447,\n 'Billy Baber': 2690,\n 'Rod Babers': 4581,\n 'Roderick Babers': 3998272,\n 'Josh Babicz': 4248555,\n 'Jason Babin': 5552,\n 'Jonathan Babineaux': 8473,\n 'Jordan Babineaux': 5840,\n 'Jeff Baca': 15924,\n 'Andre Baccellia': 3886809,\n 'Joe Bacci': 2972498,\n 'Joe Bachie': 4036507,\n 'Alex Bachman': 3919510,\n 'Kennard Backman': 2582311,\n 'Jeff Backus': 2566,\n 'Waine Bacon': 3998274,\n 'David Bada': 4686421,\n 'Johnson Bademosi': 15359,\n 'Jeff Badet': 3053760,\n 'Brad Badger': 1319,\n 'Michael Badgley': 3123052,\n 'Sherman Badie': 3041102,\n 'Tyler Badie': 4362748,\n 'Brett Baer': 16297,\n 'Tyson Bagent': 4434153,\n 'Stephen Baggett': 3126158,\n 'Donnie Baggs': 2578696,\n 'Stevie Baggs': 13175,\n 'Kenji Bahar': 3910249,\n 'Matt Bahr': 6453,\n 'Aaron Bailey': 3042451,\n 'Allen Bailey': 14020,\n 'Alvin Bailey': 16044,\n 'Antwon Bailey': 15216,\n 'Boss Bailey': 4492,\n 'Carlton Bailey': 7014,\n 'Champ Bailey': 1758,\n 'Dan Bailey': 14322,\n 'Dion Bailey': 16966,\n 'Emani Bailey': 4565761,\n 'Hakeem Bailey': 4241862,\n 'Henry Bailey': 8028,\n 'Jake Bailey': 3931395,\n 'JaQuan Bailey': 4035531,\n 'Johnny Bailey': 6674,\n 'Karsten Bailey': 3998275,\n 'Levelle Bailey': 4428241,\n 'Manasseh Bailey': 4030747,\n 'Markus Bailey': 3917992,\n 'Patrick Bailey': 11496,\n 'Quinn Bailey': 3128773,\n 'Rasheed Bailey': 3892271,\n 'Robert Bailey': 267,\n 'Rodney Bailey': 2730,\n 'Sergio Bailey': 4039320,\n 'Stedman Bailey': 15822,\n 'Sterling Bailey': 2578530,\n 'Thomas Bailey': 7947,\n 'Victor Bailey': 7390,\n 'Zack Bailey': 3924352,\n 'Rob Bain': 2970639,\n 'Brandon Bair': 14361,\n 'Derrick Baity Jr.': 3915240,\n 'Billy Bajema': 8663,\n 'Dek Bake': 10839,\n 'Budda Baker': 3127287,\n 'Chase Baker': 15301,\n 'Chris Baker': 12760,\n 'Dallas Baker': 10670,\n 'DeAndre Baker': 3915163,\n 'Dorian Baker': 3126325,\n 'Edwin Baker': 14892,\n 'Eugene Baker': 1917,\n 'George Baker': 16546,\n 'James Baker': 17433,\n 'Jared Baker': 2576746,\n 'Jason Baker': 2845,\n 'Javon Baker': 4692022,\n 'Jelani Baker': 4893659,\n 'Jerome Baker': 3915507,\n 'John Baker': 2403,\n 'Jon Baker': 867,\n 'Josh Baker': 14323,\n 'Kawaan Baker': 4068152,\n 'Mikail Baker': 14064,\n 'Myron Baker': 7484,\n 'Rashad Baker': 5878,\n 'Robert Baker': 3095,\n 'Ryan Baker': 15343,\n 'Sam Baker': 11255,\n 'Sean Baker': 15406,\n 'Shannon Baker': 7537,\n 'Steven Baker': 15271,\n 'Tim Baker': 3204,\n 'Toby Baker': 3046424,\n 'Darrell Baker Jr.': 4036660,\n 'Tyler Baker-Williams': 4361664,\n 'David Bakhtiari': 15963,\n 'Eric Bakhtiari': 11612,\n 'Matt Balasavage': 15606,\n 'Brian David Baldinger': 6556,\n 'Habakkuk Baldonado': 4373335,\n 'Daniel Baldridge': 13313,\n 'Alex Balducci': 2971279,\n 'Darryl Baldwin': 2515504,\n 'Daylen Baldwin': 4262900,\n 'Doug Baldwin': 14221,\n 'Ervin Baldwin': 11442,\n 'Johnny Baldwin': 10601,\n 'Jonathan Baldwin': 13986,\n 'Juante Baldwin': 4327530,\n 'Parker Baldwin': 3921654,\n 'Randy Chadwick Baldwin': 6783,\n 'Alan Ball': 10680,\n 'Dave Ball': 5658,\n 'Eric Ball': 6581,\n 'Jason Ball': 4279,\n 'Jerry Ball': 146,\n 'Josh Ball': 4035626,\n 'Lance Ball': 11912,\n 'Marcus Ball': 16698,\n 'Michael Ball': 7002,\n 'Montee Ball': 15823,\n 'Neiron Ball': 2516039,\n 'Kalen Ballage': 3128774,\n 'Christian Ballard': 14125,\n 'Clenton Ballard': 3998276,\n 'Corrion Ballard': 4243243,\n 'Howard Ballard': 7013,\n 'Jake Ballard': 13530,\n 'Vick Ballard': 14898,\n 'Corey Ballentine': 4411769,\n 'Lonnie Ballentine': 16911,\n 'Kentwan Balmer': 11263,\n 'Mike Balogun': 13680,\n 'Travis Baltz': 14679,\n 'Michael Bamiro': 16624,\n 'Josh Banderas': 3040468,\n 'Romeo Bandison': 7627,\n 'Michael Bandy': 4034704,\n 'Trajan Bandy': 4240624,\n 'Shawn Bane': 3957156,\n 'Daryle Banfield': 3912362,\n 'Chris Banjo': 15782,\n 'Aaron Banks': 4242390,\n 'Antonio Banks': 1739,\n 'Brandon Banks': 3050096,\n 'Brian Banks': 15777,\n 'Carl Banks': 6548,\n 'Chip Banks': 12179,\n 'Cornell Banks': 14619,\n 'Deonte Banks': 4428328,\n 'Eric Banks': 4040703,\n 'Frederick Ray Banks': 6534,\n 'Gary Banks': 11613,\n 'Jason Banks': 11614,\n 'Jeremy Banks': 4369844,\n 'Johnthan Banks': 15824,\n 'Josh Banks': 2970137,\n 'Keshawn Banks': 4361508,\n 'Marcus Banks': 4567109,\n 'Mike Banks': 3718,\n 'Tavian Banks': 1495,\n 'Tony Banks': 927,\n 'Michael Bankston': 336,\n 'Justin Bannan': 3667,\n 'Zach Banner': 2971616,\n 'Alex Bannister': 2689,\n 'Shane Bannon': 14166,\n 'Ben Banogu': 3124970,\n 'Bradford Banta': 550,\n 'Tully Banta-Cain': 4697,\n 'Cole Banwart': 4036123,\n 'Joe Banyard': 15296,\n 'Christopher Edgar Barber': 2551718,\n 'Dominique Barber': 11407,\n 'Jared Barber': 2579953,\n 'Kurt Barber': 7321,\n 'Marion Barber': 8523,\n 'Mike Barber': 902,\n 'Peyton Barber': 3051902,\n 'Ronde Barber': 1260,\n 'Shawn Barber': 1512,\n 'Taye Barber': 4362430,\n 'Tiki Barber': 1218,\n 'Lee Barbiasz': 15316,\n 'Howard Barbieri': 14362,\n 'Jose Barbon': 4360979,\n 'Allen Barbre': 10563,\n 'Chris Barclay': 9855,\n 'Don Barclay': 15409,\n 'Luq Barcoo': 4361499,\n 'Brandon Barden': 15195,\n 'Ramses Barden': 12555,\n 'Jake Bargas': 3895835,\n 'Bryce Baringer': 4240545,\n 'Bryan Barker': 137,\n 'Chris Barker': 16365,\n 'Roy Barker': 333,\n 'Will Barker': 13532,\n 'Matt Barkley': 15948,\n 'Saquon Barkley': 3929630,\n 'Joe Barksdale': 14030,\n 'Rashad Barksdale': 10644,\n 'Corey Barlow': 7431,\n 'Kevan Barlow': 2628,\n 'Reggie Barlow': 958,\n 'Christian Barmore': 4372030,\n 'Austin Barnard': 3051938,\n 'Brooks Barnard': 5475,\n 'Tom Barndt': 1104,\n 'AJ Barner': 4576297,\n 'Kenjon Barner': 15921,\n 'Adairius Barnes': 2971880,\n 'Alex Barnes': 3886636,\n 'Antwan Barnes': 10577,\n 'Brandon Barnes': 3059165,\n 'Darian Barnes': 4326,\n 'Deion Barnes': 2582133,\n 'Derrick Barnes': 4260409,\n 'Jason Barnes': 15610,\n 'Johnnie Barnes': 7360,\n 'Kalon Barnes': 4373017,\n 'Kevin Barnes': 12632,\n 'Khalif Barnes': 8466,\n 'Krys Barnes': 4035817,\n 'Lionel Barnes': 1929,\n 'Marlon Barnes': 2394,\n 'Rashidi Barnes': 2356,\n 'Reggie Barnes': 7401,\n 'Tarique Barnes': 4428372,\n 'Tavaris Barnes': 2512398,\n 'Tim Barnes': 14517,\n 'TJ Barnes': 16127,\n 'Tomur Barnes': 7694,\n 'Zaire Barnes': 4362234,\n 'C.J. Barnett': 17309,\n 'Calvin Barnett': 17108,\n 'Dante Barnett': 2977685,\n 'Darren Barnett': 10955,\n 'Derek Barnett': 3115336,\n 'Fred Barnett': 6690,\n 'Harlon T Barnett': 7127,\n 'Michael Barnett': 3728306,\n 'Nick Barnett': 4487,\n 'Oliver Barnett': 6821,\n 'Sy Barnett': 4408992,\n 'Tim Barnett': 6796,\n 'Troy Barnett': 7737,\n 'Tarow Barney': 3116153,\n 'Tommy Barnhardt': 135,\n 'Karsen Barnhart': 4426638,\n 'Gary Barnidge': 11364,\n 'Amare Barno': 4568439,\n 'Woody Baron': 2970085,\n 'John Baron II': 3139927,\n 'Anthony Barr': 16711,\n 'Dave Barr': 7840,\n 'Mike Barr': 5497,\n 'Alex Barrett': 2976114,\n 'David Barrett': 2233,\n 'J.T. Barrett': 3040507,\n 'Josh Barrett': 11454,\n 'Michael Barrett': 4372062,\n 'Reggie Barrett': 6788,\n 'Shaquil Barrett': 16967,\n 'Sebastian Barrie': 7370,\n 'Clark Barrington': 4373627,\n 'Sam Barrington': 15954,\n 'Alex Barron': 8434,\n 'Kirk Barron': 3116186,\n 'Mark Barron': 14932,\n 'Lamin Barrow': 16852,\n 'Micheal Barrow': 496,\n 'Kyon Barrs': 4569135,\n 'Kevin Barry': 4241,\n 'Alex Bars': 3129290,\n 'Brad Bars': 2515534,\n 'Mikey Bart': 3039715,\n 'Ben Bartch': 4611506,\n 'William Bartee': 2185,\n 'Richard Bartel': 10971,\n 'Ron Bartell': 8464,\n 'Connor Barth': 11737,\n 'Ben Bartholomew': 16386,\n 'Brent Bartholomew': 1945,\n 'Ryan Bartholomew': 14515,\n 'Shemar Bartholomew': 4371336,\n 'Cody Barton': 3926229,\n 'Eric Barton': 1899,\n 'Graham Barton': 4429251,\n 'Harris Barton': 7151,\n 'Jackson Barton': 3122865,\n 'Jermaine Barton': 2512569,\n 'Karim Barton': 16968,\n 'Mike Bartrum': 526,\n 'Joplo Bartu': 16171,\n 'Connor Barwin': 12449,\n 'Brett Basanez': 9858,\n 'Boogie Basham': 4037239,\n 'Tarell Basham': 3052977,\n 'Idrees Bashir': 2585,\n 'Mike Basile': 3121230,\n 'Micah Baskerville': 4362631,\n 'Hank Baskett': 9859,\n 'Michael Basnight': 2074,\n 'Anthony Bass': 1730,\n 'Ben Bass': 15607,\n 'David Bass': 16025,\n 'Robert Bass': 7688,\n 'T.J. Bass': 4685120,\n 'Tyler Bass': 3917232,\n 'Eric Bassey': 9861,\n 'Essang Bassey': 4037216,\n 'Baron Batch': 14065,\n 'Charlie Batch': 1490,\n \"Kemonte' Bateman\": 16045,\n 'Rashod Bateman': 4360939,\n 'Bill Bates': 6653,\n 'Brenden Bates': 4362603,\n \"D'Wayne Bates\": 1824,\n 'Daren Bates': 16299,\n 'Houston Bates': 2511350,\n 'Jackie Bates': 13099,\n 'Jake Bates': 4689936,\n 'John Bates': 4048228,\n 'Mario Bates': 665,\n 'Michael Bates': 472,\n 'Patrick Bates': 7504,\n 'Phil Bates': 15554,\n 'Ryan Bates': 3929631,\n 'Solomon Bates': 4593,\n 'Trevor Bates': 2585785,\n 'Jessie Bates III': 3919512,\n 'Jack Batho': 4682837,\n \"D'Anthony Batiste\": 10149,\n 'Michael Batiste': 7817,\n 'Cameron Batson': 3139456,\n 'Will Batson': 15170,\n 'Marco Battaglia': 932,\n 'Pat Batteaux': 3488,\n 'Danny Batten': 13314,\n 'Arnaz Battle': 4655,\n 'Elijah Battle': 4039221,\n 'Isaiah Battle': 2977676,\n 'Jackie Battle': 11197,\n 'John Battle': 3115371,\n 'Jordan Battle': 4567098,\n 'Julian Battle': 4550,\n 'Miles Battle': 4372413,\n 'Tra Battle': 10861,\n 'Ainsley Battles': 2457,\n 'Greg Baty': 6772,\n 'Mickey Baucus': 2516890,\n 'Bo Bauer': 4361321,\n ...}"
     },
     "execution_count": 14,
     "metadata": {},
     "output_type": "execute_result"
    }
   ],
   "source": [
    "fetch.athlete_dict()"
   ],
   "metadata": {
    "collapsed": false,
    "ExecuteTime": {
     "end_time": "2024-10-17T16:42:03.390514Z",
     "start_time": "2024-10-17T16:42:03.354140Z"
    }
   },
   "id": "6b4b2c4687722f23"
  },
  {
   "cell_type": "code",
   "execution_count": 22,
   "id": "initial_id",
   "metadata": {
    "collapsed": true,
    "ExecuteTime": {
     "end_time": "2024-10-17T16:48:21.886440Z",
     "start_time": "2024-10-17T16:48:21.861445Z"
    }
   },
   "outputs": [],
   "source": [
    "# fetch.completed_games(year = 2024, week=1)\n",
    "# fetch.scheduled_games(year = 2024, week=18)\n",
    "# fetch.in_progress_games(year = 2024, week=1)\n",
    "#fetch.completed_games(year=2024, team = 'Pittsburgh Steelers')\n",
    "#data = fetch.boxscore(year=2023, team='Pittsburgh Steelers')\n",
    "#fetch.passing_boxscore(year=2024, pivot=True)\n",
    "#fetch.rushing_boxscore(year=2024, pivot=True)\n",
    "#fetch.receiving_boxscore(year=2024, pivot=True)\n",
    "#fetch.fumble_boxscore(year=2024, pivot=True)\n",
    "#fetch.defensive_boxscore(year=2024, pivot=True)\n",
    "#fetch.interception_boxscore(year=2024, pivot=True)\n",
    "#fetch.kick_return_boxscore(year=2024)\n",
    "#fetch.punt_return_boxscore(year=2024, pivot=True)\n",
    "#fetch.field_goal_boxscore(year=2024, pivot=True)\n",
    "#fetch.punt_boxscore(year=2024)\n",
    "#fetch.drives(year=2024, team='Pittsburgh Steelers')\n",
    "#fetch.plays(year=2024)\n",
    "#fetch.drives(year=2024)\n",
    "#fetch.offensive_drive_summary(year=2024, agg_method='weekly', team='Pittsburgh Steelers')\n",
    "#fetch.defensive_drive_summary(year=2024)\n",
    "#fetch.videos(year=2024, team='Pittsburgh Steelers')\n",
    "#fetch.officials(year=2024, team='Pittsburgh Steelers')\n",
    "#wp = fetch.win_probability(year = 2024, team='Pittsburgh Steelers', week=4)\n",
    "#da = fetch.drive_analysis(year=2024)\n",
    "#mov = fetch.pd_mov_mod(2024)\n",
    "#fetch.qb_epa(year=2024, pivot=True)\n",
    "#fetch.qb_epa_glossary()\n",
    "#fetch.futures(year=2024)\n",
    "#fetch.qb_stats_allowed(2024)\n",
    "#athletes = fetch.athletes(year=2024)\n",
    "#fetch.athlete_overview(year=2024,athlete=['Russell Wilson', 'Justin Fields', 'Kenny Pickett'])\n",
    "\n",
    "\n",
    "    \n"
   ]
  },
  {
   "cell_type": "code",
   "execution_count": 30,
   "outputs": [
    {
     "data": {
      "text/plain": "14881"
     },
     "execution_count": 30,
     "metadata": {},
     "output_type": "execute_result"
    }
   ],
   "source": [
    "ad = fetch.athlete_dict()\n",
    "ad.get('Russell Wilson')"
   ],
   "metadata": {
    "collapsed": false,
    "ExecuteTime": {
     "end_time": "2024-10-17T16:53:52.295520Z",
     "start_time": "2024-10-17T16:53:52.277622Z"
    }
   },
   "id": "883f2aaac8055e1a"
  },
  {
   "cell_type": "code",
   "execution_count": 46,
   "outputs": [],
   "source": [
    "def athlete_overview(year=None, athlete=None):\n",
    "    \n",
    "    if not isinstance(athlete, list):\n",
    "        athlete = [athlete]\n",
    "    \n",
    "    athlete_overview_dict = {'id':[], 'name':[], 'weight':[], 'height':[], 'display_height':[], 'age':[], 'date_of_birth':[], 'debut_year':[],\n",
    "                'birth_city':[],\n",
    "                'birth_state':[], 'birth_country':[], 'college':[], 'headshot':[], 'jersey':[], 'position':[], 'position_abbv':[],\n",
    "                'injury_status':[], 'injury_date':[], 'injury_link':[], 'injury_type':[], 'injury_return_date':[],\n",
    "                'injury_location':[], 'injury_detail':[], 'injury_side':[], 'team':[],\n",
    "                'experience':[], 'active':[], 'draft_round':[], 'draft_year':[], 'draft_selection':[], 'draft_team':[], 'status':[]}\n",
    "    \n",
    "    for name in athlete:\n",
    "        \n",
    "        athlete_dict = fetch.athlete_dict()\n",
    "        athlete_id = athlete_dict.get(name)\n",
    "\n",
    "        url = f'https://sports.core.api.espn.com/v2/sports/football/leagues/nfl/seasons/{year}/athletes/{athlete_id}?lang=en&region=us'\n",
    "        print(url)\n",
    "        \n",
    "        response = requests.get(url)\n",
    "        if response.status_code == 200:\n",
    "            data = response.json()\n",
    "            name = data['fullName']\n",
    "            weight = data.get('weight', None)\n",
    "            height = data.get('height', None)\n",
    "            display_height = data.get('displayHeight', None)\n",
    "            age = data.get('age', None)\n",
    "            date_of_birth = data.get('dateOfBirth', None)\n",
    "            debut_year = data.get('debutYear', None)\n",
    "        \n",
    "            birth_city = data.get('birthPlace', {}).get('city', None)\n",
    "            birth_state = data.get('birthPlace', {}).get('state', None)\n",
    "            birth_country = data.get('birthPlace', {}).get('country', None)\n",
    "        \n",
    "            college = data.get('college', {}).get('$ref', None)\n",
    "            headshot = data.get('headshot', {}).get('href', None)\n",
    "            jersey = data.get('jersey', None)\n",
    "        \n",
    "            position = data.get('position', {}).get('name', None)\n",
    "            position_abbv = data.get('position', {}).get('abbreviation', None)\n",
    "        \n",
    "            # Check if there are injuries before accessing\n",
    "            if data.get('injuries') and len(data['injuries']) > 0:\n",
    "                injury_status = data['injuries'][0].get('status', None)\n",
    "                injury_date = data['injuries'][0].get('date', None)\n",
    "                injury_link = data['injuries'][0].get('$ref', None)\n",
    "                injury_type = data['injuries'][0].get('details', {}).get('type', None)\n",
    "                injury_return_date = data['injuries'][0].get('details', {}).get('returnDate', None)\n",
    "                injury_location = data['injuries'][0].get('details', {}).get('location', None)\n",
    "                injury_detail = data['injuries'][0].get('details', {}).get('detail', None)\n",
    "                injury_side = data['injuries'][0].get('details', {}).get('side', None)\n",
    "            else:\n",
    "                injury_status = injury_date = injury_link = injury_type = injury_return_date = None\n",
    "                injury_location = injury_detail = injury_side = None\n",
    "        \n",
    "            team = data.get('team', {}).get('$ref', None)\n",
    "            experience = data.get('experience', {}).get('years', None)\n",
    "            active = data.get('active', None)\n",
    "        \n",
    "            draft_round = data.get('draft', {}).get('round', None)\n",
    "            draft_year = data.get('draft', {}).get('year', None)\n",
    "            draft_selection = data.get('draft', {}).get('selection', None)\n",
    "            draft_team = data.get('draft', {}).get('team', {}).get('$ref', None)\n",
    "        \n",
    "            status = data.get('status', {}).get('name', None)\n",
    "            \n",
    "            athlete_overview_dict['id'].append(athlete_id)\n",
    "            athlete_overview_dict['name'].append(name)\n",
    "            athlete_overview_dict['weight'].append(weight)\n",
    "            athlete_overview_dict['height'].append(height)\n",
    "            athlete_overview_dict['display_height'].append(display_height)\n",
    "            athlete_overview_dict['age'].append(age)\n",
    "            athlete_overview_dict['date_of_birth'].append(date_of_birth)\n",
    "            athlete_overview_dict['debut_year'].append(draft_year)\n",
    "            athlete_overview_dict['birth_city'].append(birth_city)\n",
    "            athlete_overview_dict['birth_state'].append(birth_state)\n",
    "            athlete_overview_dict['birth_country'].append(birth_country)\n",
    "            athlete_overview_dict['college'].append(college)\n",
    "            athlete_overview_dict['headshot'].append(headshot)\n",
    "            athlete_overview_dict['jersey'].append(jersey)\n",
    "            athlete_overview_dict['position'].append(position)\n",
    "            athlete_overview_dict['position_abbv'].append(position_abbv)\n",
    "            athlete_overview_dict['injury_status'].append(injury_status)\n",
    "            athlete_overview_dict['injury_date'].append(injury_date)\n",
    "            athlete_overview_dict['injury_link'].append(injury_link)\n",
    "            athlete_overview_dict['injury_type'].append(injury_type)\n",
    "            athlete_overview_dict['injury_return_date'].append(injury_return_date)\n",
    "            athlete_overview_dict['injury_location'].append(injury_location)\n",
    "            athlete_overview_dict['injury_detail'].append(injury_detail)\n",
    "            athlete_overview_dict['injury_side'].append(injury_side)\n",
    "            athlete_overview_dict['team'].append(team)\n",
    "            athlete_overview_dict['experience'].append(experience)\n",
    "            athlete_overview_dict['active'].append(active)\n",
    "            athlete_overview_dict['draft_round'].append(draft_round)\n",
    "            athlete_overview_dict['draft_year'].append(draft_year)\n",
    "            athlete_overview_dict['draft_selection'].append(draft_selection)\n",
    "            athlete_overview_dict['draft_team'].append(draft_team)\n",
    "            athlete_overview_dict['status'].append(status)\n",
    "\n",
    "    athlete_df = pd.DataFrame(athlete_overview_dict)  \n",
    "    return athlete_df"
   ],
   "metadata": {
    "collapsed": false,
    "ExecuteTime": {
     "end_time": "2024-10-17T17:01:54.578477Z",
     "start_time": "2024-10-17T17:01:54.575711Z"
    }
   },
   "id": "11e6d30c8161ecd4"
  },
  {
   "cell_type": "code",
   "execution_count": 46,
   "outputs": [],
   "source": [],
   "metadata": {
    "collapsed": false,
    "ExecuteTime": {
     "end_time": "2024-10-17T17:01:55.346694Z",
     "start_time": "2024-10-17T17:01:55.327824Z"
    }
   },
   "id": "71e517dd615b222f"
  },
  {
   "cell_type": "code",
   "execution_count": 46,
   "outputs": [],
   "source": [],
   "metadata": {
    "collapsed": false,
    "ExecuteTime": {
     "end_time": "2024-10-17T17:01:55.751313Z",
     "start_time": "2024-10-17T17:01:55.745417Z"
    }
   },
   "id": "cc4026738b8b0e61"
  },
  {
   "cell_type": "code",
   "execution_count": 48,
   "outputs": [
    {
     "name": "stdout",
     "output_type": "stream",
     "text": [
      "https://sports.core.api.espn.com/v2/sports/football/leagues/nfl/seasons/2024/athletes/14881?lang=en&region=us\n",
      "https://sports.core.api.espn.com/v2/sports/football/leagues/nfl/seasons/2024/athletes/4362887?lang=en&region=us\n",
      "https://sports.core.api.espn.com/v2/sports/football/leagues/nfl/seasons/2024/athletes/4240703?lang=en&region=us\n"
     ]
    },
    {
     "data": {
      "text/plain": "        id            name  weight  height display_height  age  \\\n0    14881  Russell Wilson   206.0    71.0         5' 11\"   35   \n1  4362887   Justin Fields   227.0    75.0          6' 3\"   25   \n2  4240703   Kenny Pickett   220.0    75.0          6' 3\"   26   \n\n       date_of_birth  debut_year birth_city birth_state  ... injury_detail  \\\n0  1988-11-29T08:00Z        2012   Richmond          VA  ...          None   \n1  1999-03-05T08:00Z        2021   Kennesaw          GA  ...          None   \n2  1998-06-06T07:00Z        2022   Oakhurst          NJ  ...          None   \n\n  injury_side                                               team experience  \\\n0        None  http://sports.core.api.espn.com/v2/sports/foot...         13   \n1        None  http://sports.core.api.espn.com/v2/sports/foot...          4   \n2        None  http://sports.core.api.espn.com/v2/sports/foot...          3   \n\n  active draft_round draft_year draft_selection  \\\n0   True           3       2012              75   \n1   True           1       2021              11   \n2   True           1       2022              20   \n\n                                          draft_team  status  \n0  http://sports.core.api.espn.com/v2/sports/foot...  Active  \n1  http://sports.core.api.espn.com/v2/sports/foot...  Active  \n2  http://sports.core.api.espn.com/v2/sports/foot...  Active  \n\n[3 rows x 32 columns]",
      "text/html": "<div>\n<style scoped>\n    .dataframe tbody tr th:only-of-type {\n        vertical-align: middle;\n    }\n\n    .dataframe tbody tr th {\n        vertical-align: top;\n    }\n\n    .dataframe thead th {\n        text-align: right;\n    }\n</style>\n<table border=\"1\" class=\"dataframe\">\n  <thead>\n    <tr style=\"text-align: right;\">\n      <th></th>\n      <th>id</th>\n      <th>name</th>\n      <th>weight</th>\n      <th>height</th>\n      <th>display_height</th>\n      <th>age</th>\n      <th>date_of_birth</th>\n      <th>debut_year</th>\n      <th>birth_city</th>\n      <th>birth_state</th>\n      <th>...</th>\n      <th>injury_detail</th>\n      <th>injury_side</th>\n      <th>team</th>\n      <th>experience</th>\n      <th>active</th>\n      <th>draft_round</th>\n      <th>draft_year</th>\n      <th>draft_selection</th>\n      <th>draft_team</th>\n      <th>status</th>\n    </tr>\n  </thead>\n  <tbody>\n    <tr>\n      <th>0</th>\n      <td>14881</td>\n      <td>Russell Wilson</td>\n      <td>206.0</td>\n      <td>71.0</td>\n      <td>5' 11\"</td>\n      <td>35</td>\n      <td>1988-11-29T08:00Z</td>\n      <td>2012</td>\n      <td>Richmond</td>\n      <td>VA</td>\n      <td>...</td>\n      <td>None</td>\n      <td>None</td>\n      <td>http://sports.core.api.espn.com/v2/sports/foot...</td>\n      <td>13</td>\n      <td>True</td>\n      <td>3</td>\n      <td>2012</td>\n      <td>75</td>\n      <td>http://sports.core.api.espn.com/v2/sports/foot...</td>\n      <td>Active</td>\n    </tr>\n    <tr>\n      <th>1</th>\n      <td>4362887</td>\n      <td>Justin Fields</td>\n      <td>227.0</td>\n      <td>75.0</td>\n      <td>6' 3\"</td>\n      <td>25</td>\n      <td>1999-03-05T08:00Z</td>\n      <td>2021</td>\n      <td>Kennesaw</td>\n      <td>GA</td>\n      <td>...</td>\n      <td>None</td>\n      <td>None</td>\n      <td>http://sports.core.api.espn.com/v2/sports/foot...</td>\n      <td>4</td>\n      <td>True</td>\n      <td>1</td>\n      <td>2021</td>\n      <td>11</td>\n      <td>http://sports.core.api.espn.com/v2/sports/foot...</td>\n      <td>Active</td>\n    </tr>\n    <tr>\n      <th>2</th>\n      <td>4240703</td>\n      <td>Kenny Pickett</td>\n      <td>220.0</td>\n      <td>75.0</td>\n      <td>6' 3\"</td>\n      <td>26</td>\n      <td>1998-06-06T07:00Z</td>\n      <td>2022</td>\n      <td>Oakhurst</td>\n      <td>NJ</td>\n      <td>...</td>\n      <td>None</td>\n      <td>None</td>\n      <td>http://sports.core.api.espn.com/v2/sports/foot...</td>\n      <td>3</td>\n      <td>True</td>\n      <td>1</td>\n      <td>2022</td>\n      <td>20</td>\n      <td>http://sports.core.api.espn.com/v2/sports/foot...</td>\n      <td>Active</td>\n    </tr>\n  </tbody>\n</table>\n<p>3 rows × 32 columns</p>\n</div>"
     },
     "execution_count": 48,
     "metadata": {},
     "output_type": "execute_result"
    }
   ],
   "source": [],
   "metadata": {
    "collapsed": false,
    "ExecuteTime": {
     "end_time": "2024-10-17T17:03:24.447722Z",
     "start_time": "2024-10-17T17:03:23.208787Z"
    }
   },
   "id": "87909b4a3c2cddcb"
  },
  {
   "cell_type": "code",
   "execution_count": 10,
   "outputs": [],
   "source": [],
   "metadata": {
    "collapsed": false,
    "ExecuteTime": {
     "end_time": "2024-10-17T16:28:07.617282Z",
     "start_time": "2024-10-17T16:28:07.575529Z"
    }
   },
   "id": "556e7714fa299e13"
  },
  {
   "cell_type": "code",
   "execution_count": 10,
   "outputs": [],
   "source": [],
   "metadata": {
    "collapsed": false,
    "ExecuteTime": {
     "end_time": "2024-10-17T16:28:08.242735Z",
     "start_time": "2024-10-17T16:28:08.236794Z"
    }
   },
   "id": "4ae038ea32b50d11"
  },
  {
   "cell_type": "code",
   "execution_count": 10,
   "outputs": [],
   "source": [],
   "metadata": {
    "collapsed": false,
    "ExecuteTime": {
     "end_time": "2024-10-17T16:28:13.383685Z",
     "start_time": "2024-10-17T16:28:13.375415Z"
    }
   },
   "id": "132b107eddbec551"
  },
  {
   "cell_type": "code",
   "execution_count": 8,
   "outputs": [],
   "source": [],
   "metadata": {
    "collapsed": false,
    "ExecuteTime": {
     "end_time": "2024-10-17T05:34:15.144777Z",
     "start_time": "2024-10-17T05:34:15.132046Z"
    }
   },
   "id": "55301ccf2f5c0a44"
  },
  {
   "cell_type": "code",
   "execution_count": 8,
   "outputs": [],
   "source": [],
   "metadata": {
    "collapsed": false,
    "ExecuteTime": {
     "end_time": "2024-10-17T05:34:17.239527Z",
     "start_time": "2024-10-17T05:34:17.230782Z"
    }
   },
   "id": "c7f562ea05d37eb2"
  },
  {
   "cell_type": "code",
   "execution_count": 8,
   "outputs": [],
   "source": [],
   "metadata": {
    "collapsed": false,
    "ExecuteTime": {
     "end_time": "2024-10-17T05:34:19.621200Z",
     "start_time": "2024-10-17T05:34:19.611348Z"
    }
   },
   "id": "b4ed4cbc71f55241"
  },
  {
   "cell_type": "code",
   "execution_count": 8,
   "outputs": [],
   "source": [],
   "metadata": {
    "collapsed": false,
    "ExecuteTime": {
     "end_time": "2024-10-17T05:34:23.451289Z",
     "start_time": "2024-10-17T05:34:23.441454Z"
    }
   },
   "id": "fdf70d6f326c82d4"
  },
  {
   "cell_type": "code",
   "execution_count": 8,
   "outputs": [],
   "source": [],
   "metadata": {
    "collapsed": false,
    "ExecuteTime": {
     "end_time": "2024-10-17T05:34:26.824635Z",
     "start_time": "2024-10-17T05:34:26.815379Z"
    }
   },
   "id": "509164931334e5e4"
  },
  {
   "cell_type": "code",
   "execution_count": null,
   "outputs": [],
   "source": [],
   "metadata": {
    "collapsed": false
   },
   "id": "69154f84958090ef"
  },
  {
   "cell_type": "code",
   "execution_count": null,
   "outputs": [],
   "source": [],
   "metadata": {
    "collapsed": false
   },
   "id": "c09f90a9ff8522b2"
  },
  {
   "cell_type": "code",
   "execution_count": null,
   "outputs": [],
   "source": [],
   "metadata": {
    "collapsed": false
   },
   "id": "2a4a395750cb3bd4"
  },
  {
   "cell_type": "code",
   "execution_count": 10,
   "outputs": [],
   "source": [],
   "metadata": {
    "collapsed": false,
    "ExecuteTime": {
     "end_time": "2024-10-17T16:28:17.343689Z",
     "start_time": "2024-10-17T16:28:17.313578Z"
    }
   },
   "id": "10305eb611d2e2f"
  },
  {
   "cell_type": "code",
   "execution_count": null,
   "outputs": [],
   "source": [],
   "metadata": {
    "collapsed": false
   },
   "id": "3cc33765cfe679b5"
  },
  {
   "cell_type": "code",
   "execution_count": null,
   "outputs": [],
   "source": [],
   "metadata": {
    "collapsed": false
   },
   "id": "ab989c0651a29347"
  },
  {
   "cell_type": "code",
   "execution_count": 15,
   "outputs": [],
   "source": [],
   "metadata": {
    "collapsed": false,
    "ExecuteTime": {
     "end_time": "2024-10-16T04:56:31.234894Z",
     "start_time": "2024-10-16T04:56:31.231177Z"
    }
   },
   "id": "73ce692178581f95"
  },
  {
   "cell_type": "code",
   "execution_count": 15,
   "outputs": [],
   "source": [],
   "metadata": {
    "collapsed": false,
    "ExecuteTime": {
     "end_time": "2024-10-16T04:56:33.032061Z",
     "start_time": "2024-10-16T04:56:33.014652Z"
    }
   },
   "id": "2ee50ec98f629330"
  },
  {
   "cell_type": "code",
   "execution_count": 15,
   "outputs": [],
   "source": [],
   "metadata": {
    "collapsed": false,
    "ExecuteTime": {
     "end_time": "2024-10-16T04:56:34.879847Z",
     "start_time": "2024-10-16T04:56:34.873511Z"
    }
   },
   "id": "3a43c0e445e5b92"
  },
  {
   "cell_type": "code",
   "execution_count": 14,
   "outputs": [
    {
     "data": {
      "application/vnd.plotly.v1+json": {
       "data": [
        {
         "alignmentgroup": "True",
         "hovertemplate": "name_=%{x}<br>scramble_epa_sum=%{marker.color}<extra></extra>",
         "legendgroup": "",
         "marker": {
          "color": [
           11.700000000000001,
           8.6,
           7.5,
           7.199999999999999,
           6.4,
           6.4,
           6.3,
           6.0,
           5.9,
           5.3,
           5.0,
           4.7,
           4.5,
           3.5,
           3.3,
           3.1,
           3.0,
           2.9000000000000004,
           2.3,
           2.0,
           1.9,
           1.8,
           1.4,
           1.3,
           1.1,
           0.9000000000000001,
           0.8,
           0.7999999999999999,
           0.30000000000000016,
           0.3,
           0.2,
           0.0,
           0.0,
           0.0,
           0.0,
           0.0,
           0.0,
           -0.09999999999999998,
           -0.19999999999999996,
           -0.7
          ],
          "coloraxis": "coloraxis",
          "pattern": {
           "shape": ""
          }
         },
         "name": "",
         "offsetgroup": "",
         "orientation": "v",
         "showlegend": false,
         "textposition": "auto",
         "x": [
          "Jayden Daniels",
          "Justin Fields",
          "Patrick Mahomes",
          "Bo Nix",
          "Anthony Richardson",
          "Jalen Hurts",
          "Kyler Murray",
          "Joe Burrow",
          "Geno Smith",
          "Josh Allen",
          "Baker Mayfield",
          "Caleb Williams",
          "Brock Purdy",
          "Malik Willis",
          "Sam Darnold",
          "Jordan Love",
          "Tua Tagovailoa",
          "Trevor Lawrence",
          "Jacoby Brissett",
          "Lamar Jackson",
          "Deshaun Watson",
          "Will Levis",
          "Gardner Minshew",
          "Spencer Rattler",
          "Drake Maye",
          "Jared Goff",
          "Aaron Rodgers",
          "Joe Flacco",
          "C.J. Stroud",
          "Dak Prescott",
          "Bryce Young",
          "Tyler Huntley",
          "Aidan O'Connell",
          "Derek Carr",
          "Matthew Stafford",
          "Andy Dalton",
          "Skylar Thompson",
          "Daniel Jones",
          "Justin Herbert",
          "Kirk Cousins"
         ],
         "xaxis": "x",
         "y": [
          11.700000000000001,
          8.6,
          7.5,
          7.199999999999999,
          6.4,
          6.4,
          6.3,
          6.0,
          5.9,
          5.3,
          5.0,
          4.7,
          4.5,
          3.5,
          3.3,
          3.1,
          3.0,
          2.9000000000000004,
          2.3,
          2.0,
          1.9,
          1.8,
          1.4,
          1.3,
          1.1,
          0.9000000000000001,
          0.8,
          0.7999999999999999,
          0.30000000000000016,
          0.3,
          0.2,
          0.0,
          0.0,
          0.0,
          0.0,
          0.0,
          0.0,
          -0.09999999999999998,
          -0.19999999999999996,
          -0.7
         ],
         "yaxis": "y",
         "type": "bar"
        }
       ],
       "layout": {
        "template": {
         "data": {
          "histogram2dcontour": [
           {
            "type": "histogram2dcontour",
            "colorbar": {
             "outlinewidth": 0,
             "ticks": ""
            },
            "colorscale": [
             [
              0.0,
              "#0d0887"
             ],
             [
              0.1111111111111111,
              "#46039f"
             ],
             [
              0.2222222222222222,
              "#7201a8"
             ],
             [
              0.3333333333333333,
              "#9c179e"
             ],
             [
              0.4444444444444444,
              "#bd3786"
             ],
             [
              0.5555555555555556,
              "#d8576b"
             ],
             [
              0.6666666666666666,
              "#ed7953"
             ],
             [
              0.7777777777777778,
              "#fb9f3a"
             ],
             [
              0.8888888888888888,
              "#fdca26"
             ],
             [
              1.0,
              "#f0f921"
             ]
            ]
           }
          ],
          "choropleth": [
           {
            "type": "choropleth",
            "colorbar": {
             "outlinewidth": 0,
             "ticks": ""
            }
           }
          ],
          "histogram2d": [
           {
            "type": "histogram2d",
            "colorbar": {
             "outlinewidth": 0,
             "ticks": ""
            },
            "colorscale": [
             [
              0.0,
              "#0d0887"
             ],
             [
              0.1111111111111111,
              "#46039f"
             ],
             [
              0.2222222222222222,
              "#7201a8"
             ],
             [
              0.3333333333333333,
              "#9c179e"
             ],
             [
              0.4444444444444444,
              "#bd3786"
             ],
             [
              0.5555555555555556,
              "#d8576b"
             ],
             [
              0.6666666666666666,
              "#ed7953"
             ],
             [
              0.7777777777777778,
              "#fb9f3a"
             ],
             [
              0.8888888888888888,
              "#fdca26"
             ],
             [
              1.0,
              "#f0f921"
             ]
            ]
           }
          ],
          "heatmap": [
           {
            "type": "heatmap",
            "colorbar": {
             "outlinewidth": 0,
             "ticks": ""
            },
            "colorscale": [
             [
              0.0,
              "#0d0887"
             ],
             [
              0.1111111111111111,
              "#46039f"
             ],
             [
              0.2222222222222222,
              "#7201a8"
             ],
             [
              0.3333333333333333,
              "#9c179e"
             ],
             [
              0.4444444444444444,
              "#bd3786"
             ],
             [
              0.5555555555555556,
              "#d8576b"
             ],
             [
              0.6666666666666666,
              "#ed7953"
             ],
             [
              0.7777777777777778,
              "#fb9f3a"
             ],
             [
              0.8888888888888888,
              "#fdca26"
             ],
             [
              1.0,
              "#f0f921"
             ]
            ]
           }
          ],
          "heatmapgl": [
           {
            "type": "heatmapgl",
            "colorbar": {
             "outlinewidth": 0,
             "ticks": ""
            },
            "colorscale": [
             [
              0.0,
              "#0d0887"
             ],
             [
              0.1111111111111111,
              "#46039f"
             ],
             [
              0.2222222222222222,
              "#7201a8"
             ],
             [
              0.3333333333333333,
              "#9c179e"
             ],
             [
              0.4444444444444444,
              "#bd3786"
             ],
             [
              0.5555555555555556,
              "#d8576b"
             ],
             [
              0.6666666666666666,
              "#ed7953"
             ],
             [
              0.7777777777777778,
              "#fb9f3a"
             ],
             [
              0.8888888888888888,
              "#fdca26"
             ],
             [
              1.0,
              "#f0f921"
             ]
            ]
           }
          ],
          "contourcarpet": [
           {
            "type": "contourcarpet",
            "colorbar": {
             "outlinewidth": 0,
             "ticks": ""
            }
           }
          ],
          "contour": [
           {
            "type": "contour",
            "colorbar": {
             "outlinewidth": 0,
             "ticks": ""
            },
            "colorscale": [
             [
              0.0,
              "#0d0887"
             ],
             [
              0.1111111111111111,
              "#46039f"
             ],
             [
              0.2222222222222222,
              "#7201a8"
             ],
             [
              0.3333333333333333,
              "#9c179e"
             ],
             [
              0.4444444444444444,
              "#bd3786"
             ],
             [
              0.5555555555555556,
              "#d8576b"
             ],
             [
              0.6666666666666666,
              "#ed7953"
             ],
             [
              0.7777777777777778,
              "#fb9f3a"
             ],
             [
              0.8888888888888888,
              "#fdca26"
             ],
             [
              1.0,
              "#f0f921"
             ]
            ]
           }
          ],
          "surface": [
           {
            "type": "surface",
            "colorbar": {
             "outlinewidth": 0,
             "ticks": ""
            },
            "colorscale": [
             [
              0.0,
              "#0d0887"
             ],
             [
              0.1111111111111111,
              "#46039f"
             ],
             [
              0.2222222222222222,
              "#7201a8"
             ],
             [
              0.3333333333333333,
              "#9c179e"
             ],
             [
              0.4444444444444444,
              "#bd3786"
             ],
             [
              0.5555555555555556,
              "#d8576b"
             ],
             [
              0.6666666666666666,
              "#ed7953"
             ],
             [
              0.7777777777777778,
              "#fb9f3a"
             ],
             [
              0.8888888888888888,
              "#fdca26"
             ],
             [
              1.0,
              "#f0f921"
             ]
            ]
           }
          ],
          "mesh3d": [
           {
            "type": "mesh3d",
            "colorbar": {
             "outlinewidth": 0,
             "ticks": ""
            }
           }
          ],
          "scatter": [
           {
            "marker": {
             "line": {
              "color": "#283442"
             }
            },
            "type": "scatter"
           }
          ],
          "parcoords": [
           {
            "type": "parcoords",
            "line": {
             "colorbar": {
              "outlinewidth": 0,
              "ticks": ""
             }
            }
           }
          ],
          "scatterpolargl": [
           {
            "type": "scatterpolargl",
            "marker": {
             "colorbar": {
              "outlinewidth": 0,
              "ticks": ""
             }
            }
           }
          ],
          "bar": [
           {
            "error_x": {
             "color": "#f2f5fa"
            },
            "error_y": {
             "color": "#f2f5fa"
            },
            "marker": {
             "line": {
              "color": "rgb(17,17,17)",
              "width": 0.5
             },
             "pattern": {
              "fillmode": "overlay",
              "size": 10,
              "solidity": 0.2
             }
            },
            "type": "bar"
           }
          ],
          "scattergeo": [
           {
            "type": "scattergeo",
            "marker": {
             "colorbar": {
              "outlinewidth": 0,
              "ticks": ""
             }
            }
           }
          ],
          "scatterpolar": [
           {
            "type": "scatterpolar",
            "marker": {
             "colorbar": {
              "outlinewidth": 0,
              "ticks": ""
             }
            }
           }
          ],
          "histogram": [
           {
            "marker": {
             "pattern": {
              "fillmode": "overlay",
              "size": 10,
              "solidity": 0.2
             }
            },
            "type": "histogram"
           }
          ],
          "scattergl": [
           {
            "marker": {
             "line": {
              "color": "#283442"
             }
            },
            "type": "scattergl"
           }
          ],
          "scatter3d": [
           {
            "type": "scatter3d",
            "line": {
             "colorbar": {
              "outlinewidth": 0,
              "ticks": ""
             }
            },
            "marker": {
             "colorbar": {
              "outlinewidth": 0,
              "ticks": ""
             }
            }
           }
          ],
          "scattermapbox": [
           {
            "type": "scattermapbox",
            "marker": {
             "colorbar": {
              "outlinewidth": 0,
              "ticks": ""
             }
            }
           }
          ],
          "scatterternary": [
           {
            "type": "scatterternary",
            "marker": {
             "colorbar": {
              "outlinewidth": 0,
              "ticks": ""
             }
            }
           }
          ],
          "scattercarpet": [
           {
            "type": "scattercarpet",
            "marker": {
             "colorbar": {
              "outlinewidth": 0,
              "ticks": ""
             }
            }
           }
          ],
          "carpet": [
           {
            "aaxis": {
             "endlinecolor": "#A2B1C6",
             "gridcolor": "#506784",
             "linecolor": "#506784",
             "minorgridcolor": "#506784",
             "startlinecolor": "#A2B1C6"
            },
            "baxis": {
             "endlinecolor": "#A2B1C6",
             "gridcolor": "#506784",
             "linecolor": "#506784",
             "minorgridcolor": "#506784",
             "startlinecolor": "#A2B1C6"
            },
            "type": "carpet"
           }
          ],
          "table": [
           {
            "cells": {
             "fill": {
              "color": "#506784"
             },
             "line": {
              "color": "rgb(17,17,17)"
             }
            },
            "header": {
             "fill": {
              "color": "#2a3f5f"
             },
             "line": {
              "color": "rgb(17,17,17)"
             }
            },
            "type": "table"
           }
          ],
          "barpolar": [
           {
            "marker": {
             "line": {
              "color": "rgb(17,17,17)",
              "width": 0.5
             },
             "pattern": {
              "fillmode": "overlay",
              "size": 10,
              "solidity": 0.2
             }
            },
            "type": "barpolar"
           }
          ],
          "pie": [
           {
            "automargin": true,
            "type": "pie"
           }
          ]
         },
         "layout": {
          "autotypenumbers": "strict",
          "colorway": [
           "#636efa",
           "#EF553B",
           "#00cc96",
           "#ab63fa",
           "#FFA15A",
           "#19d3f3",
           "#FF6692",
           "#B6E880",
           "#FF97FF",
           "#FECB52"
          ],
          "font": {
           "color": "#f2f5fa"
          },
          "hovermode": "closest",
          "hoverlabel": {
           "align": "left"
          },
          "paper_bgcolor": "rgb(17,17,17)",
          "plot_bgcolor": "rgb(17,17,17)",
          "polar": {
           "bgcolor": "rgb(17,17,17)",
           "angularaxis": {
            "gridcolor": "#506784",
            "linecolor": "#506784",
            "ticks": ""
           },
           "radialaxis": {
            "gridcolor": "#506784",
            "linecolor": "#506784",
            "ticks": ""
           }
          },
          "ternary": {
           "bgcolor": "rgb(17,17,17)",
           "aaxis": {
            "gridcolor": "#506784",
            "linecolor": "#506784",
            "ticks": ""
           },
           "baxis": {
            "gridcolor": "#506784",
            "linecolor": "#506784",
            "ticks": ""
           },
           "caxis": {
            "gridcolor": "#506784",
            "linecolor": "#506784",
            "ticks": ""
           }
          },
          "coloraxis": {
           "colorbar": {
            "outlinewidth": 0,
            "ticks": ""
           }
          },
          "colorscale": {
           "sequential": [
            [
             0.0,
             "#0d0887"
            ],
            [
             0.1111111111111111,
             "#46039f"
            ],
            [
             0.2222222222222222,
             "#7201a8"
            ],
            [
             0.3333333333333333,
             "#9c179e"
            ],
            [
             0.4444444444444444,
             "#bd3786"
            ],
            [
             0.5555555555555556,
             "#d8576b"
            ],
            [
             0.6666666666666666,
             "#ed7953"
            ],
            [
             0.7777777777777778,
             "#fb9f3a"
            ],
            [
             0.8888888888888888,
             "#fdca26"
            ],
            [
             1.0,
             "#f0f921"
            ]
           ],
           "sequentialminus": [
            [
             0.0,
             "#0d0887"
            ],
            [
             0.1111111111111111,
             "#46039f"
            ],
            [
             0.2222222222222222,
             "#7201a8"
            ],
            [
             0.3333333333333333,
             "#9c179e"
            ],
            [
             0.4444444444444444,
             "#bd3786"
            ],
            [
             0.5555555555555556,
             "#d8576b"
            ],
            [
             0.6666666666666666,
             "#ed7953"
            ],
            [
             0.7777777777777778,
             "#fb9f3a"
            ],
            [
             0.8888888888888888,
             "#fdca26"
            ],
            [
             1.0,
             "#f0f921"
            ]
           ],
           "diverging": [
            [
             0,
             "#8e0152"
            ],
            [
             0.1,
             "#c51b7d"
            ],
            [
             0.2,
             "#de77ae"
            ],
            [
             0.3,
             "#f1b6da"
            ],
            [
             0.4,
             "#fde0ef"
            ],
            [
             0.5,
             "#f7f7f7"
            ],
            [
             0.6,
             "#e6f5d0"
            ],
            [
             0.7,
             "#b8e186"
            ],
            [
             0.8,
             "#7fbc41"
            ],
            [
             0.9,
             "#4d9221"
            ],
            [
             1,
             "#276419"
            ]
           ]
          },
          "xaxis": {
           "gridcolor": "#283442",
           "linecolor": "#506784",
           "ticks": "",
           "title": {
            "standoff": 15
           },
           "zerolinecolor": "#283442",
           "automargin": true,
           "zerolinewidth": 2
          },
          "yaxis": {
           "gridcolor": "#283442",
           "linecolor": "#506784",
           "ticks": "",
           "title": {
            "standoff": 15
           },
           "zerolinecolor": "#283442",
           "automargin": true,
           "zerolinewidth": 2
          },
          "scene": {
           "xaxis": {
            "backgroundcolor": "rgb(17,17,17)",
            "gridcolor": "#506784",
            "linecolor": "#506784",
            "showbackground": true,
            "ticks": "",
            "zerolinecolor": "#C8D4E3",
            "gridwidth": 2
           },
           "yaxis": {
            "backgroundcolor": "rgb(17,17,17)",
            "gridcolor": "#506784",
            "linecolor": "#506784",
            "showbackground": true,
            "ticks": "",
            "zerolinecolor": "#C8D4E3",
            "gridwidth": 2
           },
           "zaxis": {
            "backgroundcolor": "rgb(17,17,17)",
            "gridcolor": "#506784",
            "linecolor": "#506784",
            "showbackground": true,
            "ticks": "",
            "zerolinecolor": "#C8D4E3",
            "gridwidth": 2
           }
          },
          "shapedefaults": {
           "line": {
            "color": "#f2f5fa"
           }
          },
          "annotationdefaults": {
           "arrowcolor": "#f2f5fa",
           "arrowhead": 0,
           "arrowwidth": 1
          },
          "geo": {
           "bgcolor": "rgb(17,17,17)",
           "landcolor": "rgb(17,17,17)",
           "subunitcolor": "#506784",
           "showland": true,
           "showlakes": true,
           "lakecolor": "rgb(17,17,17)"
          },
          "title": {
           "x": 0.05
          },
          "updatemenudefaults": {
           "bgcolor": "#506784",
           "borderwidth": 0
          },
          "sliderdefaults": {
           "bgcolor": "#C8D4E3",
           "borderwidth": 1,
           "bordercolor": "rgb(17,17,17)",
           "tickwidth": 0
          },
          "mapbox": {
           "style": "dark"
          }
         }
        },
        "xaxis": {
         "anchor": "y",
         "domain": [
          0.0,
          1.0
         ],
         "title": {
          "text": "name_"
         }
        },
        "yaxis": {
         "anchor": "x",
         "domain": [
          0.0,
          1.0
         ],
         "title": {
          "text": "scramble_epa_sum"
         }
        },
        "coloraxis": {
         "colorbar": {
          "title": {
           "text": "scramble_epa_sum"
          }
         },
         "colorscale": [
          [
           0.0,
           "#0d0887"
          ],
          [
           0.1111111111111111,
           "#46039f"
          ],
          [
           0.2222222222222222,
           "#7201a8"
          ],
          [
           0.3333333333333333,
           "#9c179e"
          ],
          [
           0.4444444444444444,
           "#bd3786"
          ],
          [
           0.5555555555555556,
           "#d8576b"
          ],
          [
           0.6666666666666666,
           "#ed7953"
          ],
          [
           0.7777777777777778,
           "#fb9f3a"
          ],
          [
           0.8888888888888888,
           "#fdca26"
          ],
          [
           1.0,
           "#f0f921"
          ]
         ]
        },
        "legend": {
         "tracegroupgap": 0
        },
        "margin": {
         "t": 60
        },
        "barmode": "relative",
        "height": 700
       },
       "config": {
        "plotlyServerURL": "https://plot.ly"
       }
      },
      "text/html": "<div>                            <div id=\"d8919038-4d74-4001-8740-a9551093a518\" class=\"plotly-graph-div\" style=\"height:700px; width:100%;\"></div>            <script type=\"text/javascript\">                require([\"plotly\"], function(Plotly) {                    window.PLOTLYENV=window.PLOTLYENV || {};                                    if (document.getElementById(\"d8919038-4d74-4001-8740-a9551093a518\")) {                    Plotly.newPlot(                        \"d8919038-4d74-4001-8740-a9551093a518\",                        [{\"alignmentgroup\":\"True\",\"hovertemplate\":\"name_=%{x}\\u003cbr\\u003escramble_epa_sum=%{marker.color}\\u003cextra\\u003e\\u003c\\u002fextra\\u003e\",\"legendgroup\":\"\",\"marker\":{\"color\":[11.700000000000001,8.6,7.5,7.199999999999999,6.4,6.4,6.3,6.0,5.9,5.3,5.0,4.7,4.5,3.5,3.3,3.1,3.0,2.9000000000000004,2.3,2.0,1.9,1.8,1.4,1.3,1.1,0.9000000000000001,0.8,0.7999999999999999,0.30000000000000016,0.3,0.2,0.0,0.0,0.0,0.0,0.0,0.0,-0.09999999999999998,-0.19999999999999996,-0.7],\"coloraxis\":\"coloraxis\",\"pattern\":{\"shape\":\"\"}},\"name\":\"\",\"offsetgroup\":\"\",\"orientation\":\"v\",\"showlegend\":false,\"textposition\":\"auto\",\"x\":[\"Jayden Daniels\",\"Justin Fields\",\"Patrick Mahomes\",\"Bo Nix\",\"Anthony Richardson\",\"Jalen Hurts\",\"Kyler Murray\",\"Joe Burrow\",\"Geno Smith\",\"Josh Allen\",\"Baker Mayfield\",\"Caleb Williams\",\"Brock Purdy\",\"Malik Willis\",\"Sam Darnold\",\"Jordan Love\",\"Tua Tagovailoa\",\"Trevor Lawrence\",\"Jacoby Brissett\",\"Lamar Jackson\",\"Deshaun Watson\",\"Will Levis\",\"Gardner Minshew\",\"Spencer Rattler\",\"Drake Maye\",\"Jared Goff\",\"Aaron Rodgers\",\"Joe Flacco\",\"C.J. Stroud\",\"Dak Prescott\",\"Bryce Young\",\"Tyler Huntley\",\"Aidan O'Connell\",\"Derek Carr\",\"Matthew Stafford\",\"Andy Dalton\",\"Skylar Thompson\",\"Daniel Jones\",\"Justin Herbert\",\"Kirk Cousins\"],\"xaxis\":\"x\",\"y\":[11.700000000000001,8.6,7.5,7.199999999999999,6.4,6.4,6.3,6.0,5.9,5.3,5.0,4.7,4.5,3.5,3.3,3.1,3.0,2.9000000000000004,2.3,2.0,1.9,1.8,1.4,1.3,1.1,0.9000000000000001,0.8,0.7999999999999999,0.30000000000000016,0.3,0.2,0.0,0.0,0.0,0.0,0.0,0.0,-0.09999999999999998,-0.19999999999999996,-0.7],\"yaxis\":\"y\",\"type\":\"bar\"}],                        {\"template\":{\"data\":{\"histogram2dcontour\":[{\"type\":\"histogram2dcontour\",\"colorbar\":{\"outlinewidth\":0,\"ticks\":\"\"},\"colorscale\":[[0.0,\"#0d0887\"],[0.1111111111111111,\"#46039f\"],[0.2222222222222222,\"#7201a8\"],[0.3333333333333333,\"#9c179e\"],[0.4444444444444444,\"#bd3786\"],[0.5555555555555556,\"#d8576b\"],[0.6666666666666666,\"#ed7953\"],[0.7777777777777778,\"#fb9f3a\"],[0.8888888888888888,\"#fdca26\"],[1.0,\"#f0f921\"]]}],\"choropleth\":[{\"type\":\"choropleth\",\"colorbar\":{\"outlinewidth\":0,\"ticks\":\"\"}}],\"histogram2d\":[{\"type\":\"histogram2d\",\"colorbar\":{\"outlinewidth\":0,\"ticks\":\"\"},\"colorscale\":[[0.0,\"#0d0887\"],[0.1111111111111111,\"#46039f\"],[0.2222222222222222,\"#7201a8\"],[0.3333333333333333,\"#9c179e\"],[0.4444444444444444,\"#bd3786\"],[0.5555555555555556,\"#d8576b\"],[0.6666666666666666,\"#ed7953\"],[0.7777777777777778,\"#fb9f3a\"],[0.8888888888888888,\"#fdca26\"],[1.0,\"#f0f921\"]]}],\"heatmap\":[{\"type\":\"heatmap\",\"colorbar\":{\"outlinewidth\":0,\"ticks\":\"\"},\"colorscale\":[[0.0,\"#0d0887\"],[0.1111111111111111,\"#46039f\"],[0.2222222222222222,\"#7201a8\"],[0.3333333333333333,\"#9c179e\"],[0.4444444444444444,\"#bd3786\"],[0.5555555555555556,\"#d8576b\"],[0.6666666666666666,\"#ed7953\"],[0.7777777777777778,\"#fb9f3a\"],[0.8888888888888888,\"#fdca26\"],[1.0,\"#f0f921\"]]}],\"heatmapgl\":[{\"type\":\"heatmapgl\",\"colorbar\":{\"outlinewidth\":0,\"ticks\":\"\"},\"colorscale\":[[0.0,\"#0d0887\"],[0.1111111111111111,\"#46039f\"],[0.2222222222222222,\"#7201a8\"],[0.3333333333333333,\"#9c179e\"],[0.4444444444444444,\"#bd3786\"],[0.5555555555555556,\"#d8576b\"],[0.6666666666666666,\"#ed7953\"],[0.7777777777777778,\"#fb9f3a\"],[0.8888888888888888,\"#fdca26\"],[1.0,\"#f0f921\"]]}],\"contourcarpet\":[{\"type\":\"contourcarpet\",\"colorbar\":{\"outlinewidth\":0,\"ticks\":\"\"}}],\"contour\":[{\"type\":\"contour\",\"colorbar\":{\"outlinewidth\":0,\"ticks\":\"\"},\"colorscale\":[[0.0,\"#0d0887\"],[0.1111111111111111,\"#46039f\"],[0.2222222222222222,\"#7201a8\"],[0.3333333333333333,\"#9c179e\"],[0.4444444444444444,\"#bd3786\"],[0.5555555555555556,\"#d8576b\"],[0.6666666666666666,\"#ed7953\"],[0.7777777777777778,\"#fb9f3a\"],[0.8888888888888888,\"#fdca26\"],[1.0,\"#f0f921\"]]}],\"surface\":[{\"type\":\"surface\",\"colorbar\":{\"outlinewidth\":0,\"ticks\":\"\"},\"colorscale\":[[0.0,\"#0d0887\"],[0.1111111111111111,\"#46039f\"],[0.2222222222222222,\"#7201a8\"],[0.3333333333333333,\"#9c179e\"],[0.4444444444444444,\"#bd3786\"],[0.5555555555555556,\"#d8576b\"],[0.6666666666666666,\"#ed7953\"],[0.7777777777777778,\"#fb9f3a\"],[0.8888888888888888,\"#fdca26\"],[1.0,\"#f0f921\"]]}],\"mesh3d\":[{\"type\":\"mesh3d\",\"colorbar\":{\"outlinewidth\":0,\"ticks\":\"\"}}],\"scatter\":[{\"marker\":{\"line\":{\"color\":\"#283442\"}},\"type\":\"scatter\"}],\"parcoords\":[{\"type\":\"parcoords\",\"line\":{\"colorbar\":{\"outlinewidth\":0,\"ticks\":\"\"}}}],\"scatterpolargl\":[{\"type\":\"scatterpolargl\",\"marker\":{\"colorbar\":{\"outlinewidth\":0,\"ticks\":\"\"}}}],\"bar\":[{\"error_x\":{\"color\":\"#f2f5fa\"},\"error_y\":{\"color\":\"#f2f5fa\"},\"marker\":{\"line\":{\"color\":\"rgb(17,17,17)\",\"width\":0.5},\"pattern\":{\"fillmode\":\"overlay\",\"size\":10,\"solidity\":0.2}},\"type\":\"bar\"}],\"scattergeo\":[{\"type\":\"scattergeo\",\"marker\":{\"colorbar\":{\"outlinewidth\":0,\"ticks\":\"\"}}}],\"scatterpolar\":[{\"type\":\"scatterpolar\",\"marker\":{\"colorbar\":{\"outlinewidth\":0,\"ticks\":\"\"}}}],\"histogram\":[{\"marker\":{\"pattern\":{\"fillmode\":\"overlay\",\"size\":10,\"solidity\":0.2}},\"type\":\"histogram\"}],\"scattergl\":[{\"marker\":{\"line\":{\"color\":\"#283442\"}},\"type\":\"scattergl\"}],\"scatter3d\":[{\"type\":\"scatter3d\",\"line\":{\"colorbar\":{\"outlinewidth\":0,\"ticks\":\"\"}},\"marker\":{\"colorbar\":{\"outlinewidth\":0,\"ticks\":\"\"}}}],\"scattermapbox\":[{\"type\":\"scattermapbox\",\"marker\":{\"colorbar\":{\"outlinewidth\":0,\"ticks\":\"\"}}}],\"scatterternary\":[{\"type\":\"scatterternary\",\"marker\":{\"colorbar\":{\"outlinewidth\":0,\"ticks\":\"\"}}}],\"scattercarpet\":[{\"type\":\"scattercarpet\",\"marker\":{\"colorbar\":{\"outlinewidth\":0,\"ticks\":\"\"}}}],\"carpet\":[{\"aaxis\":{\"endlinecolor\":\"#A2B1C6\",\"gridcolor\":\"#506784\",\"linecolor\":\"#506784\",\"minorgridcolor\":\"#506784\",\"startlinecolor\":\"#A2B1C6\"},\"baxis\":{\"endlinecolor\":\"#A2B1C6\",\"gridcolor\":\"#506784\",\"linecolor\":\"#506784\",\"minorgridcolor\":\"#506784\",\"startlinecolor\":\"#A2B1C6\"},\"type\":\"carpet\"}],\"table\":[{\"cells\":{\"fill\":{\"color\":\"#506784\"},\"line\":{\"color\":\"rgb(17,17,17)\"}},\"header\":{\"fill\":{\"color\":\"#2a3f5f\"},\"line\":{\"color\":\"rgb(17,17,17)\"}},\"type\":\"table\"}],\"barpolar\":[{\"marker\":{\"line\":{\"color\":\"rgb(17,17,17)\",\"width\":0.5},\"pattern\":{\"fillmode\":\"overlay\",\"size\":10,\"solidity\":0.2}},\"type\":\"barpolar\"}],\"pie\":[{\"automargin\":true,\"type\":\"pie\"}]},\"layout\":{\"autotypenumbers\":\"strict\",\"colorway\":[\"#636efa\",\"#EF553B\",\"#00cc96\",\"#ab63fa\",\"#FFA15A\",\"#19d3f3\",\"#FF6692\",\"#B6E880\",\"#FF97FF\",\"#FECB52\"],\"font\":{\"color\":\"#f2f5fa\"},\"hovermode\":\"closest\",\"hoverlabel\":{\"align\":\"left\"},\"paper_bgcolor\":\"rgb(17,17,17)\",\"plot_bgcolor\":\"rgb(17,17,17)\",\"polar\":{\"bgcolor\":\"rgb(17,17,17)\",\"angularaxis\":{\"gridcolor\":\"#506784\",\"linecolor\":\"#506784\",\"ticks\":\"\"},\"radialaxis\":{\"gridcolor\":\"#506784\",\"linecolor\":\"#506784\",\"ticks\":\"\"}},\"ternary\":{\"bgcolor\":\"rgb(17,17,17)\",\"aaxis\":{\"gridcolor\":\"#506784\",\"linecolor\":\"#506784\",\"ticks\":\"\"},\"baxis\":{\"gridcolor\":\"#506784\",\"linecolor\":\"#506784\",\"ticks\":\"\"},\"caxis\":{\"gridcolor\":\"#506784\",\"linecolor\":\"#506784\",\"ticks\":\"\"}},\"coloraxis\":{\"colorbar\":{\"outlinewidth\":0,\"ticks\":\"\"}},\"colorscale\":{\"sequential\":[[0.0,\"#0d0887\"],[0.1111111111111111,\"#46039f\"],[0.2222222222222222,\"#7201a8\"],[0.3333333333333333,\"#9c179e\"],[0.4444444444444444,\"#bd3786\"],[0.5555555555555556,\"#d8576b\"],[0.6666666666666666,\"#ed7953\"],[0.7777777777777778,\"#fb9f3a\"],[0.8888888888888888,\"#fdca26\"],[1.0,\"#f0f921\"]],\"sequentialminus\":[[0.0,\"#0d0887\"],[0.1111111111111111,\"#46039f\"],[0.2222222222222222,\"#7201a8\"],[0.3333333333333333,\"#9c179e\"],[0.4444444444444444,\"#bd3786\"],[0.5555555555555556,\"#d8576b\"],[0.6666666666666666,\"#ed7953\"],[0.7777777777777778,\"#fb9f3a\"],[0.8888888888888888,\"#fdca26\"],[1.0,\"#f0f921\"]],\"diverging\":[[0,\"#8e0152\"],[0.1,\"#c51b7d\"],[0.2,\"#de77ae\"],[0.3,\"#f1b6da\"],[0.4,\"#fde0ef\"],[0.5,\"#f7f7f7\"],[0.6,\"#e6f5d0\"],[0.7,\"#b8e186\"],[0.8,\"#7fbc41\"],[0.9,\"#4d9221\"],[1,\"#276419\"]]},\"xaxis\":{\"gridcolor\":\"#283442\",\"linecolor\":\"#506784\",\"ticks\":\"\",\"title\":{\"standoff\":15},\"zerolinecolor\":\"#283442\",\"automargin\":true,\"zerolinewidth\":2},\"yaxis\":{\"gridcolor\":\"#283442\",\"linecolor\":\"#506784\",\"ticks\":\"\",\"title\":{\"standoff\":15},\"zerolinecolor\":\"#283442\",\"automargin\":true,\"zerolinewidth\":2},\"scene\":{\"xaxis\":{\"backgroundcolor\":\"rgb(17,17,17)\",\"gridcolor\":\"#506784\",\"linecolor\":\"#506784\",\"showbackground\":true,\"ticks\":\"\",\"zerolinecolor\":\"#C8D4E3\",\"gridwidth\":2},\"yaxis\":{\"backgroundcolor\":\"rgb(17,17,17)\",\"gridcolor\":\"#506784\",\"linecolor\":\"#506784\",\"showbackground\":true,\"ticks\":\"\",\"zerolinecolor\":\"#C8D4E3\",\"gridwidth\":2},\"zaxis\":{\"backgroundcolor\":\"rgb(17,17,17)\",\"gridcolor\":\"#506784\",\"linecolor\":\"#506784\",\"showbackground\":true,\"ticks\":\"\",\"zerolinecolor\":\"#C8D4E3\",\"gridwidth\":2}},\"shapedefaults\":{\"line\":{\"color\":\"#f2f5fa\"}},\"annotationdefaults\":{\"arrowcolor\":\"#f2f5fa\",\"arrowhead\":0,\"arrowwidth\":1},\"geo\":{\"bgcolor\":\"rgb(17,17,17)\",\"landcolor\":\"rgb(17,17,17)\",\"subunitcolor\":\"#506784\",\"showland\":true,\"showlakes\":true,\"lakecolor\":\"rgb(17,17,17)\"},\"title\":{\"x\":0.05},\"updatemenudefaults\":{\"bgcolor\":\"#506784\",\"borderwidth\":0},\"sliderdefaults\":{\"bgcolor\":\"#C8D4E3\",\"borderwidth\":1,\"bordercolor\":\"rgb(17,17,17)\",\"tickwidth\":0},\"mapbox\":{\"style\":\"dark\"}}},\"xaxis\":{\"anchor\":\"y\",\"domain\":[0.0,1.0],\"title\":{\"text\":\"name_\"}},\"yaxis\":{\"anchor\":\"x\",\"domain\":[0.0,1.0],\"title\":{\"text\":\"scramble_epa_sum\"}},\"coloraxis\":{\"colorbar\":{\"title\":{\"text\":\"scramble_epa_sum\"}},\"colorscale\":[[0.0,\"#0d0887\"],[0.1111111111111111,\"#46039f\"],[0.2222222222222222,\"#7201a8\"],[0.3333333333333333,\"#9c179e\"],[0.4444444444444444,\"#bd3786\"],[0.5555555555555556,\"#d8576b\"],[0.6666666666666666,\"#ed7953\"],[0.7777777777777778,\"#fb9f3a\"],[0.8888888888888888,\"#fdca26\"],[1.0,\"#f0f921\"]]},\"legend\":{\"tracegroupgap\":0},\"margin\":{\"t\":60},\"barmode\":\"relative\",\"height\":700},                        {\"responsive\": true}                    ).then(function(){\n                            \nvar gd = document.getElementById('d8919038-4d74-4001-8740-a9551093a518');\nvar x = new MutationObserver(function (mutations, observer) {{\n        var display = window.getComputedStyle(gd).display;\n        if (!display || display === 'none') {{\n            console.log([gd, 'removed!']);\n            Plotly.purge(gd);\n            observer.disconnect();\n        }}\n}});\n\n// Listen for the removal of the full notebook cells\nvar notebookContainer = gd.closest('#notebook-container');\nif (notebookContainer) {{\n    x.observe(notebookContainer, {childList: true});\n}}\n\n// Listen for the clearing of the current output cell\nvar outputEl = gd.closest('.output');\nif (outputEl) {{\n    x.observe(outputEl, {childList: true});\n}}\n\n                        })                };                });            </script>        </div>"
     },
     "metadata": {},
     "output_type": "display_data"
    }
   ],
   "source": [
    "epa = epa.sort_values(by = 'scramble_epa_sum', ascending=False)\n",
    "px.bar(epa, x = 'name_', y = 'scramble_epa_sum', color = 'scramble_epa_sum', height = 700)"
   ],
   "metadata": {
    "collapsed": false,
    "ExecuteTime": {
     "end_time": "2024-10-16T04:38:34.044999Z",
     "start_time": "2024-10-16T04:38:34.033827Z"
    }
   },
   "id": "f2c8d14d34b0316e"
  },
  {
   "cell_type": "code",
   "execution_count": 62,
   "outputs": [
    {
     "name": "stdout",
     "output_type": "stream",
     "text": [
      "https://site.api.espn.com/apis/site/v2/sports/football/nfl/scoreboard?limit=1000&dates=2024&seasontype=2&week=1\n",
      "https://site.api.espn.com/apis/site/v2/sports/football/nfl/scoreboard?limit=1000&dates=2024&seasontype=2&week=2\n",
      "https://site.api.espn.com/apis/site/v2/sports/football/nfl/scoreboard?limit=1000&dates=2024&seasontype=2&week=3\n",
      "https://site.api.espn.com/apis/site/v2/sports/football/nfl/scoreboard?limit=1000&dates=2024&seasontype=2&week=4\n",
      "https://site.api.espn.com/apis/site/v2/sports/football/nfl/scoreboard?limit=1000&dates=2024&seasontype=2&week=5\n",
      "https://site.api.espn.com/apis/site/v2/sports/football/nfl/scoreboard?limit=1000&dates=2024&seasontype=2&week=6\n",
      "https://site.api.espn.com/apis/site/v2/sports/football/nfl/scoreboard?limit=1000&dates=2024&seasontype=2&week=7\n",
      "https://site.api.espn.com/apis/site/v2/sports/football/nfl/scoreboard?limit=1000&dates=2024&seasontype=2&week=8\n",
      "https://site.api.espn.com/apis/site/v2/sports/football/nfl/scoreboard?limit=1000&dates=2024&seasontype=2&week=9\n",
      "https://site.api.espn.com/apis/site/v2/sports/football/nfl/scoreboard?limit=1000&dates=2024&seasontype=2&week=10\n",
      "https://site.api.espn.com/apis/site/v2/sports/football/nfl/scoreboard?limit=1000&dates=2024&seasontype=2&week=11\n",
      "https://site.api.espn.com/apis/site/v2/sports/football/nfl/scoreboard?limit=1000&dates=2024&seasontype=2&week=12\n",
      "https://site.api.espn.com/apis/site/v2/sports/football/nfl/scoreboard?limit=1000&dates=2024&seasontype=2&week=13\n",
      "https://site.api.espn.com/apis/site/v2/sports/football/nfl/scoreboard?limit=1000&dates=2024&seasontype=2&week=14\n",
      "https://site.api.espn.com/apis/site/v2/sports/football/nfl/scoreboard?limit=1000&dates=2024&seasontype=2&week=15\n",
      "https://site.api.espn.com/apis/site/v2/sports/football/nfl/scoreboard?limit=1000&dates=2024&seasontype=2&week=16\n",
      "https://site.api.espn.com/apis/site/v2/sports/football/nfl/scoreboard?limit=1000&dates=2024&seasontype=2&week=17\n",
      "https://site.api.espn.com/apis/site/v2/sports/football/nfl/scoreboard?limit=1000&dates=2024&seasontype=2&week=18\n"
     ]
    },
    {
     "name": "stderr",
     "output_type": "stream",
     "text": [
      "100%|██████████| 92/92 [00:21<00:00,  4.34it/s]\n"
     ]
    },
    {
     "name": "stdout",
     "output_type": "stream",
     "text": [
      "https://sports.core.api.espn.com/v2/sports/football/leagues/nfl/seasons/2024/types/2/weeks/1/qbr/10000?page=1\n",
      "https://sports.core.api.espn.com/v2/sports/football/leagues/nfl/seasons/2024/types/2/weeks/1/qbr/10000?page=2\n",
      "https://sports.core.api.espn.com/v2/sports/football/leagues/nfl/seasons/2024/types/2/weeks/2/qbr/10000?page=1\n",
      "https://sports.core.api.espn.com/v2/sports/football/leagues/nfl/seasons/2024/types/2/weeks/2/qbr/10000?page=2\n",
      "https://sports.core.api.espn.com/v2/sports/football/leagues/nfl/seasons/2024/types/2/weeks/3/qbr/10000?page=1\n",
      "https://sports.core.api.espn.com/v2/sports/football/leagues/nfl/seasons/2024/types/2/weeks/3/qbr/10000?page=2\n",
      "https://sports.core.api.espn.com/v2/sports/football/leagues/nfl/seasons/2024/types/2/weeks/4/qbr/10000?page=1\n",
      "https://sports.core.api.espn.com/v2/sports/football/leagues/nfl/seasons/2024/types/2/weeks/4/qbr/10000?page=2\n",
      "https://sports.core.api.espn.com/v2/sports/football/leagues/nfl/seasons/2024/types/2/weeks/5/qbr/10000?page=1\n",
      "https://sports.core.api.espn.com/v2/sports/football/leagues/nfl/seasons/2024/types/2/weeks/5/qbr/10000?page=2\n",
      "https://sports.core.api.espn.com/v2/sports/football/leagues/nfl/seasons/2024/types/2/weeks/6/qbr/10000?page=1\n",
      "https://sports.core.api.espn.com/v2/sports/football/leagues/nfl/seasons/2024/types/2/weeks/6/qbr/10000?page=2\n",
      "https://sports.core.api.espn.com/v2/sports/football/leagues/nfl/seasons/2024/types/2/weeks/7/qbr/10000?page=1\n",
      "https://sports.core.api.espn.com/v2/sports/football/leagues/nfl/seasons/2024/types/2/weeks/8/qbr/10000?page=1\n",
      "https://sports.core.api.espn.com/v2/sports/football/leagues/nfl/seasons/2024/types/2/weeks/9/qbr/10000?page=1\n",
      "https://sports.core.api.espn.com/v2/sports/football/leagues/nfl/seasons/2024/types/2/weeks/10/qbr/10000?page=1\n",
      "https://sports.core.api.espn.com/v2/sports/football/leagues/nfl/seasons/2024/types/2/weeks/11/qbr/10000?page=1\n",
      "https://sports.core.api.espn.com/v2/sports/football/leagues/nfl/seasons/2024/types/2/weeks/12/qbr/10000?page=1\n",
      "https://sports.core.api.espn.com/v2/sports/football/leagues/nfl/seasons/2024/types/2/weeks/13/qbr/10000?page=1\n",
      "https://sports.core.api.espn.com/v2/sports/football/leagues/nfl/seasons/2024/types/2/weeks/14/qbr/10000?page=1\n",
      "https://sports.core.api.espn.com/v2/sports/football/leagues/nfl/seasons/2024/types/2/weeks/15/qbr/10000?page=1\n",
      "https://sports.core.api.espn.com/v2/sports/football/leagues/nfl/seasons/2024/types/2/weeks/16/qbr/10000?page=1\n",
      "https://sports.core.api.espn.com/v2/sports/football/leagues/nfl/seasons/2024/types/2/weeks/17/qbr/10000?page=1\n",
      "https://sports.core.api.espn.com/v2/sports/football/leagues/nfl/seasons/2024/types/2/weeks/18/qbr/10000?page=1\n"
     ]
    }
   ],
   "source": [
    "pb = fetch.qb_epa(year = 2024)"
   ],
   "metadata": {
    "collapsed": false,
    "ExecuteTime": {
     "end_time": "2024-10-16T03:42:58.199557Z",
     "start_time": "2024-10-16T03:42:23.935261Z"
    }
   },
   "id": "2eea1dcc23f4134f"
  },
  {
   "cell_type": "code",
   "execution_count": 63,
   "outputs": [
    {
     "data": {
      "text/plain": "    athlete_id         id points_added pass_epa rush_epa sack_epa penalty_epa  \\\n0         8439  401671696         -0.3      1.4      0.0     -0.5         0.0   \n1        12483  401671792          1.8      5.8      0.0     -0.6         1.0   \n2        14880  401671744         -1.7      0.6      0.0     -0.5         0.2   \n3        15864  401671664          3.1      2.8      0.0     -0.6         0.7   \n4        16757  401671734          3.7      3.2      0.1     -0.2         0.3   \n..         ...        ...          ...      ...      ...      ...         ...   \n178    4426339  401671735         -2.8     -0.2      0.0     -1.8         0.3   \n179    4426348  401671625          3.3      6.1     -0.5     -1.2         0.3   \n180    4431452  401671619         -2.9     -0.3      0.0     -1.5        -0.3   \n181    4431611  401671802          7.4      7.6      0.5     -0.9         0.6   \n182    4432577  401671619          3.7      4.4      0.0     -0.5         1.1   \n\n    total_epa qb_plays  cwa  ... int_epa yac_epa run_epa scramble_epa  \\\n0         1.4       22  0.0  ...     0.0     0.2     0.0          0.0   \n1         6.8       56  0.0  ...     0.0     0.0     0.0          0.0   \n2         0.8       29  0.0  ...     0.0    -0.1     0.0          0.0   \n3         6.1       36  0.0  ...     0.0    -0.4     2.6          2.5   \n4         3.8       28  0.0  ...     0.0    -0.4     0.2          0.1   \n..        ...      ...  ...  ...     ...     ...     ...          ...   \n178       1.3       51  0.0  ...     0.0     0.0     1.3          1.3   \n179       7.0       47  0.0  ...     0.0    -0.1     0.6          0.8   \n180       0.8       46  0.0  ...     0.0     0.5     1.4          1.1   \n181       9.7       39  0.0  ...     0.0     0.2     1.5          0.9   \n182       6.2       37  0.0  ...     0.0    -0.4     0.7          0.6   \n\n    expected_sack_epa fumble_epa defense_faced_epa total_qbr unq_rank  \\\n0                 0.0        0.0              52.0      52.5       19   \n1                 0.0        0.0              54.1      65.5       15   \n2                 0.0        0.0              47.0      34.0       26   \n3                 0.0        0.0              48.8      78.8       10   \n4                 0.0        0.0              68.3      76.0       12   \n..                ...        ...               ...       ...      ...   \n178               0.0        0.0              55.6      27.9       27   \n179               0.0        0.0              56.5      74.4       10   \n180               0.0       -0.7              48.8      31.3       25   \n181               0.0        0.0              70.3      88.4        2   \n182               0.0        0.0              65.0      74.6        9   \n\n                 name  \n0       Aaron Rodgers  \n1    Matthew Stafford  \n2        Kirk Cousins  \n3          Geno Smith  \n4          Derek Carr  \n..                ...  \n178   Spencer Rattler  \n179    Jayden Daniels  \n180        Drake Maye  \n181    Caleb Williams  \n182       C.J. Stroud  \n\n[183 rows x 22 columns]",
      "text/html": "<div>\n<style scoped>\n    .dataframe tbody tr th:only-of-type {\n        vertical-align: middle;\n    }\n\n    .dataframe tbody tr th {\n        vertical-align: top;\n    }\n\n    .dataframe thead th {\n        text-align: right;\n    }\n</style>\n<table border=\"1\" class=\"dataframe\">\n  <thead>\n    <tr style=\"text-align: right;\">\n      <th></th>\n      <th>athlete_id</th>\n      <th>id</th>\n      <th>points_added</th>\n      <th>pass_epa</th>\n      <th>rush_epa</th>\n      <th>sack_epa</th>\n      <th>penalty_epa</th>\n      <th>total_epa</th>\n      <th>qb_plays</th>\n      <th>cwa</th>\n      <th>...</th>\n      <th>int_epa</th>\n      <th>yac_epa</th>\n      <th>run_epa</th>\n      <th>scramble_epa</th>\n      <th>expected_sack_epa</th>\n      <th>fumble_epa</th>\n      <th>defense_faced_epa</th>\n      <th>total_qbr</th>\n      <th>unq_rank</th>\n      <th>name</th>\n    </tr>\n  </thead>\n  <tbody>\n    <tr>\n      <th>0</th>\n      <td>8439</td>\n      <td>401671696</td>\n      <td>-0.3</td>\n      <td>1.4</td>\n      <td>0.0</td>\n      <td>-0.5</td>\n      <td>0.0</td>\n      <td>1.4</td>\n      <td>22</td>\n      <td>0.0</td>\n      <td>...</td>\n      <td>0.0</td>\n      <td>0.2</td>\n      <td>0.0</td>\n      <td>0.0</td>\n      <td>0.0</td>\n      <td>0.0</td>\n      <td>52.0</td>\n      <td>52.5</td>\n      <td>19</td>\n      <td>Aaron Rodgers</td>\n    </tr>\n    <tr>\n      <th>1</th>\n      <td>12483</td>\n      <td>401671792</td>\n      <td>1.8</td>\n      <td>5.8</td>\n      <td>0.0</td>\n      <td>-0.6</td>\n      <td>1.0</td>\n      <td>6.8</td>\n      <td>56</td>\n      <td>0.0</td>\n      <td>...</td>\n      <td>0.0</td>\n      <td>0.0</td>\n      <td>0.0</td>\n      <td>0.0</td>\n      <td>0.0</td>\n      <td>0.0</td>\n      <td>54.1</td>\n      <td>65.5</td>\n      <td>15</td>\n      <td>Matthew Stafford</td>\n    </tr>\n    <tr>\n      <th>2</th>\n      <td>14880</td>\n      <td>401671744</td>\n      <td>-1.7</td>\n      <td>0.6</td>\n      <td>0.0</td>\n      <td>-0.5</td>\n      <td>0.2</td>\n      <td>0.8</td>\n      <td>29</td>\n      <td>0.0</td>\n      <td>...</td>\n      <td>0.0</td>\n      <td>-0.1</td>\n      <td>0.0</td>\n      <td>0.0</td>\n      <td>0.0</td>\n      <td>0.0</td>\n      <td>47.0</td>\n      <td>34.0</td>\n      <td>26</td>\n      <td>Kirk Cousins</td>\n    </tr>\n    <tr>\n      <th>3</th>\n      <td>15864</td>\n      <td>401671664</td>\n      <td>3.1</td>\n      <td>2.8</td>\n      <td>0.0</td>\n      <td>-0.6</td>\n      <td>0.7</td>\n      <td>6.1</td>\n      <td>36</td>\n      <td>0.0</td>\n      <td>...</td>\n      <td>0.0</td>\n      <td>-0.4</td>\n      <td>2.6</td>\n      <td>2.5</td>\n      <td>0.0</td>\n      <td>0.0</td>\n      <td>48.8</td>\n      <td>78.8</td>\n      <td>10</td>\n      <td>Geno Smith</td>\n    </tr>\n    <tr>\n      <th>4</th>\n      <td>16757</td>\n      <td>401671734</td>\n      <td>3.7</td>\n      <td>3.2</td>\n      <td>0.1</td>\n      <td>-0.2</td>\n      <td>0.3</td>\n      <td>3.8</td>\n      <td>28</td>\n      <td>0.0</td>\n      <td>...</td>\n      <td>0.0</td>\n      <td>-0.4</td>\n      <td>0.2</td>\n      <td>0.1</td>\n      <td>0.0</td>\n      <td>0.0</td>\n      <td>68.3</td>\n      <td>76.0</td>\n      <td>12</td>\n      <td>Derek Carr</td>\n    </tr>\n    <tr>\n      <th>...</th>\n      <td>...</td>\n      <td>...</td>\n      <td>...</td>\n      <td>...</td>\n      <td>...</td>\n      <td>...</td>\n      <td>...</td>\n      <td>...</td>\n      <td>...</td>\n      <td>...</td>\n      <td>...</td>\n      <td>...</td>\n      <td>...</td>\n      <td>...</td>\n      <td>...</td>\n      <td>...</td>\n      <td>...</td>\n      <td>...</td>\n      <td>...</td>\n      <td>...</td>\n      <td>...</td>\n    </tr>\n    <tr>\n      <th>178</th>\n      <td>4426339</td>\n      <td>401671735</td>\n      <td>-2.8</td>\n      <td>-0.2</td>\n      <td>0.0</td>\n      <td>-1.8</td>\n      <td>0.3</td>\n      <td>1.3</td>\n      <td>51</td>\n      <td>0.0</td>\n      <td>...</td>\n      <td>0.0</td>\n      <td>0.0</td>\n      <td>1.3</td>\n      <td>1.3</td>\n      <td>0.0</td>\n      <td>0.0</td>\n      <td>55.6</td>\n      <td>27.9</td>\n      <td>27</td>\n      <td>Spencer Rattler</td>\n    </tr>\n    <tr>\n      <th>179</th>\n      <td>4426348</td>\n      <td>401671625</td>\n      <td>3.3</td>\n      <td>6.1</td>\n      <td>-0.5</td>\n      <td>-1.2</td>\n      <td>0.3</td>\n      <td>7.0</td>\n      <td>47</td>\n      <td>0.0</td>\n      <td>...</td>\n      <td>0.0</td>\n      <td>-0.1</td>\n      <td>0.6</td>\n      <td>0.8</td>\n      <td>0.0</td>\n      <td>0.0</td>\n      <td>56.5</td>\n      <td>74.4</td>\n      <td>10</td>\n      <td>Jayden Daniels</td>\n    </tr>\n    <tr>\n      <th>180</th>\n      <td>4431452</td>\n      <td>401671619</td>\n      <td>-2.9</td>\n      <td>-0.3</td>\n      <td>0.0</td>\n      <td>-1.5</td>\n      <td>-0.3</td>\n      <td>0.8</td>\n      <td>46</td>\n      <td>0.0</td>\n      <td>...</td>\n      <td>0.0</td>\n      <td>0.5</td>\n      <td>1.4</td>\n      <td>1.1</td>\n      <td>0.0</td>\n      <td>-0.7</td>\n      <td>48.8</td>\n      <td>31.3</td>\n      <td>25</td>\n      <td>Drake Maye</td>\n    </tr>\n    <tr>\n      <th>181</th>\n      <td>4431611</td>\n      <td>401671802</td>\n      <td>7.4</td>\n      <td>7.6</td>\n      <td>0.5</td>\n      <td>-0.9</td>\n      <td>0.6</td>\n      <td>9.7</td>\n      <td>39</td>\n      <td>0.0</td>\n      <td>...</td>\n      <td>0.0</td>\n      <td>0.2</td>\n      <td>1.5</td>\n      <td>0.9</td>\n      <td>0.0</td>\n      <td>0.0</td>\n      <td>70.3</td>\n      <td>88.4</td>\n      <td>2</td>\n      <td>Caleb Williams</td>\n    </tr>\n    <tr>\n      <th>182</th>\n      <td>4432577</td>\n      <td>401671619</td>\n      <td>3.7</td>\n      <td>4.4</td>\n      <td>0.0</td>\n      <td>-0.5</td>\n      <td>1.1</td>\n      <td>6.2</td>\n      <td>37</td>\n      <td>0.0</td>\n      <td>...</td>\n      <td>0.0</td>\n      <td>-0.4</td>\n      <td>0.7</td>\n      <td>0.6</td>\n      <td>0.0</td>\n      <td>0.0</td>\n      <td>65.0</td>\n      <td>74.6</td>\n      <td>9</td>\n      <td>C.J. Stroud</td>\n    </tr>\n  </tbody>\n</table>\n<p>183 rows × 22 columns</p>\n</div>"
     },
     "execution_count": 63,
     "metadata": {},
     "output_type": "execute_result"
    }
   ],
   "source": [
    "pb"
   ],
   "metadata": {
    "collapsed": false,
    "ExecuteTime": {
     "end_time": "2024-10-16T03:43:03.202370Z",
     "start_time": "2024-10-16T03:43:03.196209Z"
    }
   },
   "id": "5668b5b1e0692fad"
  },
  {
   "cell_type": "code",
   "execution_count": 9,
   "outputs": [
    {
     "data": {
      "text/plain": "       name                id\n0   4361741       Brock Purdy\n1     15864        Geno Smith\n2   4360310   Trevor Lawrence\n3   4241464         Mac Jones\n4   4431611    Caleb Williams\n..      ...               ...\n60  4241479    Tua Tagovailoa\n61  3916370          Jack Fox\n62  4242431       Ty Chandler\n63    14163      Tyrod Taylor\n64  3126486  Deebo Samuel Sr.\n\n[65 rows x 2 columns]",
      "text/html": "<div>\n<style scoped>\n    .dataframe tbody tr th:only-of-type {\n        vertical-align: middle;\n    }\n\n    .dataframe tbody tr th {\n        vertical-align: top;\n    }\n\n    .dataframe thead th {\n        text-align: right;\n    }\n</style>\n<table border=\"1\" class=\"dataframe\">\n  <thead>\n    <tr style=\"text-align: right;\">\n      <th></th>\n      <th>name</th>\n      <th>id</th>\n    </tr>\n  </thead>\n  <tbody>\n    <tr>\n      <th>0</th>\n      <td>4361741</td>\n      <td>Brock Purdy</td>\n    </tr>\n    <tr>\n      <th>1</th>\n      <td>15864</td>\n      <td>Geno Smith</td>\n    </tr>\n    <tr>\n      <th>2</th>\n      <td>4360310</td>\n      <td>Trevor Lawrence</td>\n    </tr>\n    <tr>\n      <th>3</th>\n      <td>4241464</td>\n      <td>Mac Jones</td>\n    </tr>\n    <tr>\n      <th>4</th>\n      <td>4431611</td>\n      <td>Caleb Williams</td>\n    </tr>\n    <tr>\n      <th>...</th>\n      <td>...</td>\n      <td>...</td>\n    </tr>\n    <tr>\n      <th>60</th>\n      <td>4241479</td>\n      <td>Tua Tagovailoa</td>\n    </tr>\n    <tr>\n      <th>61</th>\n      <td>3916370</td>\n      <td>Jack Fox</td>\n    </tr>\n    <tr>\n      <th>62</th>\n      <td>4242431</td>\n      <td>Ty Chandler</td>\n    </tr>\n    <tr>\n      <th>63</th>\n      <td>14163</td>\n      <td>Tyrod Taylor</td>\n    </tr>\n    <tr>\n      <th>64</th>\n      <td>3126486</td>\n      <td>Deebo Samuel Sr.</td>\n    </tr>\n  </tbody>\n</table>\n<p>65 rows × 2 columns</p>\n</div>"
     },
     "execution_count": 9,
     "metadata": {},
     "output_type": "execute_result"
    }
   ],
   "source": [
    "athlete_dict = {'name':[], 'id':[]}\n",
    "\n",
    "for id, name in zip(pb.name.unique(), pb.athlete_id.unique()):\n",
    "    athlete_dict['name'].append(name)\n",
    "    athlete_dict['id'].append(id)\n",
    "    \n",
    "athlete_df = pd.DataFrame(athlete_dict)\n",
    "athlete_df"
   ],
   "metadata": {
    "collapsed": false,
    "ExecuteTime": {
     "end_time": "2024-10-14T18:11:29.168672Z",
     "start_time": "2024-10-14T18:11:29.157180Z"
    }
   },
   "id": "f030cde5f6acf5ab"
  },
  {
   "cell_type": "code",
   "execution_count": 6,
   "outputs": [
    {
     "data": {
      "text/plain": "                  date                  team              name athlete_id  \\\n0    2024-10-11T00:15Z   San Francisco 49ers       Brock Purdy    4361741   \n1    2024-10-11T00:15Z      Seattle Seahawks        Geno Smith      15864   \n2    2024-10-13T13:30Z  Jacksonville Jaguars   Trevor Lawrence    4360310   \n3    2024-10-13T13:30Z  Jacksonville Jaguars         Mac Jones    4241464   \n4    2024-10-13T13:30Z         Chicago Bears    Caleb Williams    4431611   \n..                 ...                   ...               ...        ...   \n215  2024-09-09T00:20Z         Detroit Lions        Jared Goff    3046779   \n216  2024-09-10T00:15Z         New York Jets     Aaron Rodgers       8439   \n217  2024-09-10T00:15Z         New York Jets      Tyrod Taylor      14163   \n218  2024-09-10T00:15Z   San Francisco 49ers       Brock Purdy    4361741   \n219  2024-09-10T00:15Z   San Francisco 49ers  Deebo Samuel Sr.    3126486   \n\n    number  yards  yards_per_attempt  touchdowns  interceptions sacks  \\\n0       13    255                9.1           3              0   0-0   \n1        7    312                6.0           1              2   1-6   \n2       16    234                6.7           2              1  3-20   \n3       10      6                6.0           0              0  1-10   \n4       18    226                7.8           4              1   3-5   \n..     ...    ...                ...         ...            ...   ...   \n215     16    217                7.8           1              1  2-17   \n216      8    167                8.0           1              1   1-5   \n217      2     36                4.5           1              0   0-0   \n218     13    231                8.0           0              0   2-6   \n219      1      0                0.0           0              0   1-4   \n\n     adjusted_qbr  passer_rating  completions  attempts  times_sacked  \\\n0            90.5          129.3           18        28             0   \n1            53.1           65.5           30        52             1   \n2            66.6           91.8           23        35             3   \n3             8.1           91.7            1         1             1   \n4            88.4          124.4           23        29             3   \n..            ...            ...          ...       ...           ...   \n215          30.8           85.0           18        28             2   \n216          52.3           82.8           13        21             1   \n217          96.1          122.9            6         8             0   \n218          87.4           89.9           19        29             2   \n219           0.0            0.0            0         0             1   \n\n     sack_yards  completion_%  yards_per_completion  touchdown_%  \n0             0     64.285714             14.166667    10.714286  \n1             6     57.692308             10.400000     1.923077  \n2            20     65.714286             10.173913     5.714286  \n3            10    100.000000              6.000000     0.000000  \n4             5     79.310345              9.826087    13.793103  \n..          ...           ...                   ...          ...  \n215          17     64.285714             12.055556     3.571429  \n216           5     61.904762             12.846154     4.761905  \n217           0     75.000000              6.000000    12.500000  \n218           6     65.517241             12.157895     0.000000  \n219           4           NaN                   NaN          NaN  \n\n[220 rows x 19 columns]",
      "text/html": "<div>\n<style scoped>\n    .dataframe tbody tr th:only-of-type {\n        vertical-align: middle;\n    }\n\n    .dataframe tbody tr th {\n        vertical-align: top;\n    }\n\n    .dataframe thead th {\n        text-align: right;\n    }\n</style>\n<table border=\"1\" class=\"dataframe\">\n  <thead>\n    <tr style=\"text-align: right;\">\n      <th></th>\n      <th>date</th>\n      <th>team</th>\n      <th>name</th>\n      <th>athlete_id</th>\n      <th>number</th>\n      <th>yards</th>\n      <th>yards_per_attempt</th>\n      <th>touchdowns</th>\n      <th>interceptions</th>\n      <th>sacks</th>\n      <th>adjusted_qbr</th>\n      <th>passer_rating</th>\n      <th>completions</th>\n      <th>attempts</th>\n      <th>times_sacked</th>\n      <th>sack_yards</th>\n      <th>completion_%</th>\n      <th>yards_per_completion</th>\n      <th>touchdown_%</th>\n    </tr>\n  </thead>\n  <tbody>\n    <tr>\n      <th>0</th>\n      <td>2024-10-11T00:15Z</td>\n      <td>San Francisco 49ers</td>\n      <td>Brock Purdy</td>\n      <td>4361741</td>\n      <td>13</td>\n      <td>255</td>\n      <td>9.1</td>\n      <td>3</td>\n      <td>0</td>\n      <td>0-0</td>\n      <td>90.5</td>\n      <td>129.3</td>\n      <td>18</td>\n      <td>28</td>\n      <td>0</td>\n      <td>0</td>\n      <td>64.285714</td>\n      <td>14.166667</td>\n      <td>10.714286</td>\n    </tr>\n    <tr>\n      <th>1</th>\n      <td>2024-10-11T00:15Z</td>\n      <td>Seattle Seahawks</td>\n      <td>Geno Smith</td>\n      <td>15864</td>\n      <td>7</td>\n      <td>312</td>\n      <td>6.0</td>\n      <td>1</td>\n      <td>2</td>\n      <td>1-6</td>\n      <td>53.1</td>\n      <td>65.5</td>\n      <td>30</td>\n      <td>52</td>\n      <td>1</td>\n      <td>6</td>\n      <td>57.692308</td>\n      <td>10.400000</td>\n      <td>1.923077</td>\n    </tr>\n    <tr>\n      <th>2</th>\n      <td>2024-10-13T13:30Z</td>\n      <td>Jacksonville Jaguars</td>\n      <td>Trevor Lawrence</td>\n      <td>4360310</td>\n      <td>16</td>\n      <td>234</td>\n      <td>6.7</td>\n      <td>2</td>\n      <td>1</td>\n      <td>3-20</td>\n      <td>66.6</td>\n      <td>91.8</td>\n      <td>23</td>\n      <td>35</td>\n      <td>3</td>\n      <td>20</td>\n      <td>65.714286</td>\n      <td>10.173913</td>\n      <td>5.714286</td>\n    </tr>\n    <tr>\n      <th>3</th>\n      <td>2024-10-13T13:30Z</td>\n      <td>Jacksonville Jaguars</td>\n      <td>Mac Jones</td>\n      <td>4241464</td>\n      <td>10</td>\n      <td>6</td>\n      <td>6.0</td>\n      <td>0</td>\n      <td>0</td>\n      <td>1-10</td>\n      <td>8.1</td>\n      <td>91.7</td>\n      <td>1</td>\n      <td>1</td>\n      <td>1</td>\n      <td>10</td>\n      <td>100.000000</td>\n      <td>6.000000</td>\n      <td>0.000000</td>\n    </tr>\n    <tr>\n      <th>4</th>\n      <td>2024-10-13T13:30Z</td>\n      <td>Chicago Bears</td>\n      <td>Caleb Williams</td>\n      <td>4431611</td>\n      <td>18</td>\n      <td>226</td>\n      <td>7.8</td>\n      <td>4</td>\n      <td>1</td>\n      <td>3-5</td>\n      <td>88.4</td>\n      <td>124.4</td>\n      <td>23</td>\n      <td>29</td>\n      <td>3</td>\n      <td>5</td>\n      <td>79.310345</td>\n      <td>9.826087</td>\n      <td>13.793103</td>\n    </tr>\n    <tr>\n      <th>...</th>\n      <td>...</td>\n      <td>...</td>\n      <td>...</td>\n      <td>...</td>\n      <td>...</td>\n      <td>...</td>\n      <td>...</td>\n      <td>...</td>\n      <td>...</td>\n      <td>...</td>\n      <td>...</td>\n      <td>...</td>\n      <td>...</td>\n      <td>...</td>\n      <td>...</td>\n      <td>...</td>\n      <td>...</td>\n      <td>...</td>\n      <td>...</td>\n    </tr>\n    <tr>\n      <th>215</th>\n      <td>2024-09-09T00:20Z</td>\n      <td>Detroit Lions</td>\n      <td>Jared Goff</td>\n      <td>3046779</td>\n      <td>16</td>\n      <td>217</td>\n      <td>7.8</td>\n      <td>1</td>\n      <td>1</td>\n      <td>2-17</td>\n      <td>30.8</td>\n      <td>85.0</td>\n      <td>18</td>\n      <td>28</td>\n      <td>2</td>\n      <td>17</td>\n      <td>64.285714</td>\n      <td>12.055556</td>\n      <td>3.571429</td>\n    </tr>\n    <tr>\n      <th>216</th>\n      <td>2024-09-10T00:15Z</td>\n      <td>New York Jets</td>\n      <td>Aaron Rodgers</td>\n      <td>8439</td>\n      <td>8</td>\n      <td>167</td>\n      <td>8.0</td>\n      <td>1</td>\n      <td>1</td>\n      <td>1-5</td>\n      <td>52.3</td>\n      <td>82.8</td>\n      <td>13</td>\n      <td>21</td>\n      <td>1</td>\n      <td>5</td>\n      <td>61.904762</td>\n      <td>12.846154</td>\n      <td>4.761905</td>\n    </tr>\n    <tr>\n      <th>217</th>\n      <td>2024-09-10T00:15Z</td>\n      <td>New York Jets</td>\n      <td>Tyrod Taylor</td>\n      <td>14163</td>\n      <td>2</td>\n      <td>36</td>\n      <td>4.5</td>\n      <td>1</td>\n      <td>0</td>\n      <td>0-0</td>\n      <td>96.1</td>\n      <td>122.9</td>\n      <td>6</td>\n      <td>8</td>\n      <td>0</td>\n      <td>0</td>\n      <td>75.000000</td>\n      <td>6.000000</td>\n      <td>12.500000</td>\n    </tr>\n    <tr>\n      <th>218</th>\n      <td>2024-09-10T00:15Z</td>\n      <td>San Francisco 49ers</td>\n      <td>Brock Purdy</td>\n      <td>4361741</td>\n      <td>13</td>\n      <td>231</td>\n      <td>8.0</td>\n      <td>0</td>\n      <td>0</td>\n      <td>2-6</td>\n      <td>87.4</td>\n      <td>89.9</td>\n      <td>19</td>\n      <td>29</td>\n      <td>2</td>\n      <td>6</td>\n      <td>65.517241</td>\n      <td>12.157895</td>\n      <td>0.000000</td>\n    </tr>\n    <tr>\n      <th>219</th>\n      <td>2024-09-10T00:15Z</td>\n      <td>San Francisco 49ers</td>\n      <td>Deebo Samuel Sr.</td>\n      <td>3126486</td>\n      <td>1</td>\n      <td>0</td>\n      <td>0.0</td>\n      <td>0</td>\n      <td>0</td>\n      <td>1-4</td>\n      <td>0.0</td>\n      <td>0.0</td>\n      <td>0</td>\n      <td>0</td>\n      <td>1</td>\n      <td>4</td>\n      <td>NaN</td>\n      <td>NaN</td>\n      <td>NaN</td>\n    </tr>\n  </tbody>\n</table>\n<p>220 rows × 19 columns</p>\n</div>"
     },
     "execution_count": 6,
     "metadata": {},
     "output_type": "execute_result"
    }
   ],
   "source": [
    "\n",
    "pb"
   ],
   "metadata": {
    "collapsed": false,
    "ExecuteTime": {
     "end_time": "2024-10-14T18:09:12.789457Z",
     "start_time": "2024-10-14T18:09:12.764229Z"
    }
   },
   "id": "c0ffb5296df1ef9b"
  },
  {
   "cell_type": "code",
   "execution_count": 52,
   "outputs": [],
   "source": [],
   "metadata": {
    "collapsed": false,
    "ExecuteTime": {
     "end_time": "2024-10-13T04:45:30.291641Z",
     "start_time": "2024-10-13T04:45:30.286383Z"
    }
   },
   "id": "8cfbbba7da203ed5"
  },
  {
   "cell_type": "code",
   "execution_count": 5,
   "outputs": [
    {
     "name": "stdout",
     "output_type": "stream",
     "text": [
      "https://site.api.espn.com/apis/site/v2/sports/football/nfl/scoreboard?limit=1000&dates=2024&seasontype=2&week=1\n",
      "https://site.api.espn.com/apis/site/v2/sports/football/nfl/scoreboard?limit=1000&dates=2024&seasontype=2&week=2\n",
      "https://site.api.espn.com/apis/site/v2/sports/football/nfl/scoreboard?limit=1000&dates=2024&seasontype=2&week=3\n",
      "https://site.api.espn.com/apis/site/v2/sports/football/nfl/scoreboard?limit=1000&dates=2024&seasontype=2&week=4\n",
      "https://site.api.espn.com/apis/site/v2/sports/football/nfl/scoreboard?limit=1000&dates=2024&seasontype=2&week=5\n",
      "https://site.api.espn.com/apis/site/v2/sports/football/nfl/scoreboard?limit=1000&dates=2024&seasontype=2&week=6\n",
      "https://site.api.espn.com/apis/site/v2/sports/football/nfl/scoreboard?limit=1000&dates=2024&seasontype=2&week=7\n",
      "https://site.api.espn.com/apis/site/v2/sports/football/nfl/scoreboard?limit=1000&dates=2024&seasontype=2&week=8\n",
      "https://site.api.espn.com/apis/site/v2/sports/football/nfl/scoreboard?limit=1000&dates=2024&seasontype=2&week=9\n",
      "https://site.api.espn.com/apis/site/v2/sports/football/nfl/scoreboard?limit=1000&dates=2024&seasontype=2&week=10\n",
      "https://site.api.espn.com/apis/site/v2/sports/football/nfl/scoreboard?limit=1000&dates=2024&seasontype=2&week=11\n",
      "https://site.api.espn.com/apis/site/v2/sports/football/nfl/scoreboard?limit=1000&dates=2024&seasontype=2&week=12\n",
      "https://site.api.espn.com/apis/site/v2/sports/football/nfl/scoreboard?limit=1000&dates=2024&seasontype=2&week=13\n",
      "https://site.api.espn.com/apis/site/v2/sports/football/nfl/scoreboard?limit=1000&dates=2024&seasontype=2&week=14\n",
      "https://site.api.espn.com/apis/site/v2/sports/football/nfl/scoreboard?limit=1000&dates=2024&seasontype=2&week=15\n",
      "https://site.api.espn.com/apis/site/v2/sports/football/nfl/scoreboard?limit=1000&dates=2024&seasontype=2&week=16\n",
      "https://site.api.espn.com/apis/site/v2/sports/football/nfl/scoreboard?limit=1000&dates=2024&seasontype=2&week=17\n",
      "https://site.api.espn.com/apis/site/v2/sports/football/nfl/scoreboard?limit=1000&dates=2024&seasontype=2&week=18\n"
     ]
    },
    {
     "name": "stderr",
     "output_type": "stream",
     "text": [
      "100%|██████████| 91/91 [00:18<00:00,  4.97it/s]\n"
     ]
    },
    {
     "name": "stdout",
     "output_type": "stream",
     "text": [
      "https://sports.core.api.espn.com/v2/sports/football/leagues/nfl/seasons/2024/types/2/weeks/1/qbr/10000?page=1\n",
      "https://sports.core.api.espn.com/v2/sports/football/leagues/nfl/seasons/2024/types/2/weeks/1/qbr/10000?page=2\n",
      "https://sports.core.api.espn.com/v2/sports/football/leagues/nfl/seasons/2024/types/2/weeks/2/qbr/10000?page=1\n",
      "https://sports.core.api.espn.com/v2/sports/football/leagues/nfl/seasons/2024/types/2/weeks/2/qbr/10000?page=2\n",
      "https://sports.core.api.espn.com/v2/sports/football/leagues/nfl/seasons/2024/types/2/weeks/3/qbr/10000?page=1\n",
      "https://sports.core.api.espn.com/v2/sports/football/leagues/nfl/seasons/2024/types/2/weeks/3/qbr/10000?page=2\n",
      "https://sports.core.api.espn.com/v2/sports/football/leagues/nfl/seasons/2024/types/2/weeks/4/qbr/10000?page=1\n",
      "https://sports.core.api.espn.com/v2/sports/football/leagues/nfl/seasons/2024/types/2/weeks/4/qbr/10000?page=2\n",
      "https://sports.core.api.espn.com/v2/sports/football/leagues/nfl/seasons/2024/types/2/weeks/5/qbr/10000?page=1\n",
      "https://sports.core.api.espn.com/v2/sports/football/leagues/nfl/seasons/2024/types/2/weeks/5/qbr/10000?page=2\n",
      "https://sports.core.api.espn.com/v2/sports/football/leagues/nfl/seasons/2024/types/2/weeks/6/qbr/10000?page=1\n",
      "https://sports.core.api.espn.com/v2/sports/football/leagues/nfl/seasons/2024/types/2/weeks/6/qbr/10000?page=2\n",
      "https://sports.core.api.espn.com/v2/sports/football/leagues/nfl/seasons/2024/types/2/weeks/7/qbr/10000?page=1\n",
      "https://sports.core.api.espn.com/v2/sports/football/leagues/nfl/seasons/2024/types/2/weeks/8/qbr/10000?page=1\n",
      "https://sports.core.api.espn.com/v2/sports/football/leagues/nfl/seasons/2024/types/2/weeks/9/qbr/10000?page=1\n",
      "https://sports.core.api.espn.com/v2/sports/football/leagues/nfl/seasons/2024/types/2/weeks/10/qbr/10000?page=1\n",
      "https://sports.core.api.espn.com/v2/sports/football/leagues/nfl/seasons/2024/types/2/weeks/11/qbr/10000?page=1\n",
      "https://sports.core.api.espn.com/v2/sports/football/leagues/nfl/seasons/2024/types/2/weeks/12/qbr/10000?page=1\n",
      "https://sports.core.api.espn.com/v2/sports/football/leagues/nfl/seasons/2024/types/2/weeks/13/qbr/10000?page=1\n",
      "https://sports.core.api.espn.com/v2/sports/football/leagues/nfl/seasons/2024/types/2/weeks/14/qbr/10000?page=1\n",
      "https://sports.core.api.espn.com/v2/sports/football/leagues/nfl/seasons/2024/types/2/weeks/15/qbr/10000?page=1\n",
      "https://sports.core.api.espn.com/v2/sports/football/leagues/nfl/seasons/2024/types/2/weeks/16/qbr/10000?page=1\n",
      "https://sports.core.api.espn.com/v2/sports/football/leagues/nfl/seasons/2024/types/2/weeks/17/qbr/10000?page=1\n",
      "https://sports.core.api.espn.com/v2/sports/football/leagues/nfl/seasons/2024/types/2/weeks/18/qbr/10000?page=1\n"
     ]
    },
    {
     "data": {
      "text/plain": "    athlete_id         id points_added pass_epa rush_epa sack_epa penalty_epa  \\\n0         8439  401671696         -0.3      1.4      0.0     -0.5         0.0   \n1        12483  401671792          1.8      5.8      0.0     -0.6         1.0   \n2        14880  401671744         -1.7      0.6      0.0     -0.5         0.2   \n3        15864  401671664          3.1      2.8      0.0     -0.6         0.7   \n4        16757  401671734          3.7      3.2      0.1     -0.2         0.3   \n..         ...        ...          ...      ...      ...      ...         ...   \n176    4426339  401671735         -2.8     -0.2      0.0     -1.8         0.3   \n177    4426348  401671625          3.3      6.1     -0.5     -1.2         0.3   \n178    4431452  401671619         -2.9     -0.3      0.0     -1.5        -0.3   \n179    4431611  401671802          7.4      7.6      0.5     -0.9         0.6   \n180    4432577  401671619          3.7      4.4      0.0     -0.5         1.1   \n\n    total_epa qb_plays  cwa  ... int_epa yac_epa run_epa scramble_epa  \\\n0         1.4       22  0.0  ...     0.0     0.2     0.0          0.0   \n1         6.8       56  0.0  ...     0.0     0.0     0.0          0.0   \n2         0.8       29  0.0  ...     0.0    -0.1     0.0          0.0   \n3         6.1       36  0.0  ...     0.0    -0.4     2.6          2.5   \n4         3.8       28  0.0  ...     0.0    -0.4     0.2          0.1   \n..        ...      ...  ...  ...     ...     ...     ...          ...   \n176       1.3       51  0.0  ...     0.0     0.0     1.3          1.3   \n177       7.0       47  0.0  ...     0.0    -0.1     0.6          0.8   \n178       0.8       46  0.0  ...     0.0     0.5     1.4          1.1   \n179       9.7       39  0.0  ...     0.0     0.2     1.5          0.9   \n180       6.2       37  0.0  ...     0.0    -0.4     0.7          0.6   \n\n    expected_sack_epa fumble_epa defense_faced_epa total_qbr unq_rank  \\\n0                 0.0        0.0              52.0      52.3       19   \n1                 0.0        0.0              54.1      65.3       15   \n2                 0.0        0.0              47.0      33.8       26   \n3                 0.0        0.0              48.8      78.7       10   \n4                 0.0        0.0              68.3      75.9       12   \n..                ...        ...               ...       ...      ...   \n176               0.0        0.0              55.6      27.7       25   \n177               0.0        0.0              56.5      74.2        9   \n178               0.0       -0.7              48.8      31.1       23   \n179               0.0        0.0              70.3      88.4        2   \n180               0.0        0.0              65.0      74.5        8   \n\n                 name  \n0       Aaron Rodgers  \n1    Matthew Stafford  \n2        Kirk Cousins  \n3          Geno Smith  \n4          Derek Carr  \n..                ...  \n176   Spencer Rattler  \n177    Jayden Daniels  \n178        Drake Maye  \n179    Caleb Williams  \n180       C.J. Stroud  \n\n[181 rows x 22 columns]",
      "text/html": "<div>\n<style scoped>\n    .dataframe tbody tr th:only-of-type {\n        vertical-align: middle;\n    }\n\n    .dataframe tbody tr th {\n        vertical-align: top;\n    }\n\n    .dataframe thead th {\n        text-align: right;\n    }\n</style>\n<table border=\"1\" class=\"dataframe\">\n  <thead>\n    <tr style=\"text-align: right;\">\n      <th></th>\n      <th>athlete_id</th>\n      <th>id</th>\n      <th>points_added</th>\n      <th>pass_epa</th>\n      <th>rush_epa</th>\n      <th>sack_epa</th>\n      <th>penalty_epa</th>\n      <th>total_epa</th>\n      <th>qb_plays</th>\n      <th>cwa</th>\n      <th>...</th>\n      <th>int_epa</th>\n      <th>yac_epa</th>\n      <th>run_epa</th>\n      <th>scramble_epa</th>\n      <th>expected_sack_epa</th>\n      <th>fumble_epa</th>\n      <th>defense_faced_epa</th>\n      <th>total_qbr</th>\n      <th>unq_rank</th>\n      <th>name</th>\n    </tr>\n  </thead>\n  <tbody>\n    <tr>\n      <th>0</th>\n      <td>8439</td>\n      <td>401671696</td>\n      <td>-0.3</td>\n      <td>1.4</td>\n      <td>0.0</td>\n      <td>-0.5</td>\n      <td>0.0</td>\n      <td>1.4</td>\n      <td>22</td>\n      <td>0.0</td>\n      <td>...</td>\n      <td>0.0</td>\n      <td>0.2</td>\n      <td>0.0</td>\n      <td>0.0</td>\n      <td>0.0</td>\n      <td>0.0</td>\n      <td>52.0</td>\n      <td>52.3</td>\n      <td>19</td>\n      <td>Aaron Rodgers</td>\n    </tr>\n    <tr>\n      <th>1</th>\n      <td>12483</td>\n      <td>401671792</td>\n      <td>1.8</td>\n      <td>5.8</td>\n      <td>0.0</td>\n      <td>-0.6</td>\n      <td>1.0</td>\n      <td>6.8</td>\n      <td>56</td>\n      <td>0.0</td>\n      <td>...</td>\n      <td>0.0</td>\n      <td>0.0</td>\n      <td>0.0</td>\n      <td>0.0</td>\n      <td>0.0</td>\n      <td>0.0</td>\n      <td>54.1</td>\n      <td>65.3</td>\n      <td>15</td>\n      <td>Matthew Stafford</td>\n    </tr>\n    <tr>\n      <th>2</th>\n      <td>14880</td>\n      <td>401671744</td>\n      <td>-1.7</td>\n      <td>0.6</td>\n      <td>0.0</td>\n      <td>-0.5</td>\n      <td>0.2</td>\n      <td>0.8</td>\n      <td>29</td>\n      <td>0.0</td>\n      <td>...</td>\n      <td>0.0</td>\n      <td>-0.1</td>\n      <td>0.0</td>\n      <td>0.0</td>\n      <td>0.0</td>\n      <td>0.0</td>\n      <td>47.0</td>\n      <td>33.8</td>\n      <td>26</td>\n      <td>Kirk Cousins</td>\n    </tr>\n    <tr>\n      <th>3</th>\n      <td>15864</td>\n      <td>401671664</td>\n      <td>3.1</td>\n      <td>2.8</td>\n      <td>0.0</td>\n      <td>-0.6</td>\n      <td>0.7</td>\n      <td>6.1</td>\n      <td>36</td>\n      <td>0.0</td>\n      <td>...</td>\n      <td>0.0</td>\n      <td>-0.4</td>\n      <td>2.6</td>\n      <td>2.5</td>\n      <td>0.0</td>\n      <td>0.0</td>\n      <td>48.8</td>\n      <td>78.7</td>\n      <td>10</td>\n      <td>Geno Smith</td>\n    </tr>\n    <tr>\n      <th>4</th>\n      <td>16757</td>\n      <td>401671734</td>\n      <td>3.7</td>\n      <td>3.2</td>\n      <td>0.1</td>\n      <td>-0.2</td>\n      <td>0.3</td>\n      <td>3.8</td>\n      <td>28</td>\n      <td>0.0</td>\n      <td>...</td>\n      <td>0.0</td>\n      <td>-0.4</td>\n      <td>0.2</td>\n      <td>0.1</td>\n      <td>0.0</td>\n      <td>0.0</td>\n      <td>68.3</td>\n      <td>75.9</td>\n      <td>12</td>\n      <td>Derek Carr</td>\n    </tr>\n    <tr>\n      <th>...</th>\n      <td>...</td>\n      <td>...</td>\n      <td>...</td>\n      <td>...</td>\n      <td>...</td>\n      <td>...</td>\n      <td>...</td>\n      <td>...</td>\n      <td>...</td>\n      <td>...</td>\n      <td>...</td>\n      <td>...</td>\n      <td>...</td>\n      <td>...</td>\n      <td>...</td>\n      <td>...</td>\n      <td>...</td>\n      <td>...</td>\n      <td>...</td>\n      <td>...</td>\n      <td>...</td>\n    </tr>\n    <tr>\n      <th>176</th>\n      <td>4426339</td>\n      <td>401671735</td>\n      <td>-2.8</td>\n      <td>-0.2</td>\n      <td>0.0</td>\n      <td>-1.8</td>\n      <td>0.3</td>\n      <td>1.3</td>\n      <td>51</td>\n      <td>0.0</td>\n      <td>...</td>\n      <td>0.0</td>\n      <td>0.0</td>\n      <td>1.3</td>\n      <td>1.3</td>\n      <td>0.0</td>\n      <td>0.0</td>\n      <td>55.6</td>\n      <td>27.7</td>\n      <td>25</td>\n      <td>Spencer Rattler</td>\n    </tr>\n    <tr>\n      <th>177</th>\n      <td>4426348</td>\n      <td>401671625</td>\n      <td>3.3</td>\n      <td>6.1</td>\n      <td>-0.5</td>\n      <td>-1.2</td>\n      <td>0.3</td>\n      <td>7.0</td>\n      <td>47</td>\n      <td>0.0</td>\n      <td>...</td>\n      <td>0.0</td>\n      <td>-0.1</td>\n      <td>0.6</td>\n      <td>0.8</td>\n      <td>0.0</td>\n      <td>0.0</td>\n      <td>56.5</td>\n      <td>74.2</td>\n      <td>9</td>\n      <td>Jayden Daniels</td>\n    </tr>\n    <tr>\n      <th>178</th>\n      <td>4431452</td>\n      <td>401671619</td>\n      <td>-2.9</td>\n      <td>-0.3</td>\n      <td>0.0</td>\n      <td>-1.5</td>\n      <td>-0.3</td>\n      <td>0.8</td>\n      <td>46</td>\n      <td>0.0</td>\n      <td>...</td>\n      <td>0.0</td>\n      <td>0.5</td>\n      <td>1.4</td>\n      <td>1.1</td>\n      <td>0.0</td>\n      <td>-0.7</td>\n      <td>48.8</td>\n      <td>31.1</td>\n      <td>23</td>\n      <td>Drake Maye</td>\n    </tr>\n    <tr>\n      <th>179</th>\n      <td>4431611</td>\n      <td>401671802</td>\n      <td>7.4</td>\n      <td>7.6</td>\n      <td>0.5</td>\n      <td>-0.9</td>\n      <td>0.6</td>\n      <td>9.7</td>\n      <td>39</td>\n      <td>0.0</td>\n      <td>...</td>\n      <td>0.0</td>\n      <td>0.2</td>\n      <td>1.5</td>\n      <td>0.9</td>\n      <td>0.0</td>\n      <td>0.0</td>\n      <td>70.3</td>\n      <td>88.4</td>\n      <td>2</td>\n      <td>Caleb Williams</td>\n    </tr>\n    <tr>\n      <th>180</th>\n      <td>4432577</td>\n      <td>401671619</td>\n      <td>3.7</td>\n      <td>4.4</td>\n      <td>0.0</td>\n      <td>-0.5</td>\n      <td>1.1</td>\n      <td>6.2</td>\n      <td>37</td>\n      <td>0.0</td>\n      <td>...</td>\n      <td>0.0</td>\n      <td>-0.4</td>\n      <td>0.7</td>\n      <td>0.6</td>\n      <td>0.0</td>\n      <td>0.0</td>\n      <td>65.0</td>\n      <td>74.5</td>\n      <td>8</td>\n      <td>C.J. Stroud</td>\n    </tr>\n  </tbody>\n</table>\n<p>181 rows × 22 columns</p>\n</div>"
     },
     "execution_count": 5,
     "metadata": {},
     "output_type": "execute_result"
    }
   ],
   "source": [
    "fetch.qb_epa(year = 2024)"
   ],
   "metadata": {
    "collapsed": false,
    "ExecuteTime": {
     "end_time": "2024-10-14T18:25:16.905007Z",
     "start_time": "2024-10-14T18:24:45.401313Z"
    }
   },
   "id": "451640ce07a9e0cd"
  },
  {
   "cell_type": "code",
   "execution_count": 20,
   "outputs": [],
   "source": [
    "|"
   ],
   "metadata": {
    "collapsed": false,
    "ExecuteTime": {
     "end_time": "2024-10-12T22:29:07.606202Z",
     "start_time": "2024-10-12T22:29:07.601539Z"
    }
   },
   "id": "538306549c41f90"
  },
  {
   "cell_type": "code",
   "execution_count": 10,
   "outputs": [],
   "source": [
    "\n"
   ],
   "metadata": {
    "collapsed": false,
    "ExecuteTime": {
     "end_time": "2024-10-12T22:22:45.734399Z",
     "start_time": "2024-10-12T22:22:45.729859Z"
    }
   },
   "id": "3659d4dc0889b87d"
  },
  {
   "cell_type": "code",
   "execution_count": 10,
   "outputs": [],
   "source": [],
   "metadata": {
    "collapsed": false,
    "ExecuteTime": {
     "end_time": "2024-10-12T22:22:45.734486Z",
     "start_time": "2024-10-12T22:22:45.731528Z"
    }
   },
   "id": "786ad06c953129c"
  },
  {
   "cell_type": "code",
   "execution_count": 4,
   "outputs": [],
   "source": [],
   "metadata": {
    "collapsed": false,
    "ExecuteTime": {
     "end_time": "2024-10-12T21:36:00.607449Z",
     "start_time": "2024-10-12T21:36:00.604784Z"
    }
   },
   "id": "aba13dff0c3c7865"
  },
  {
   "cell_type": "code",
   "execution_count": 11,
   "outputs": [],
   "source": [],
   "metadata": {
    "collapsed": false,
    "ExecuteTime": {
     "end_time": "2024-10-12T21:18:33.392569Z",
     "start_time": "2024-10-12T21:18:33.379862Z"
    }
   },
   "id": "d6e3068182196ee2"
  },
  {
   "cell_type": "code",
   "execution_count": 1,
   "outputs": [],
   "source": [],
   "metadata": {
    "collapsed": false,
    "ExecuteTime": {
     "end_time": "2024-10-12T18:34:39.763988Z",
     "start_time": "2024-10-12T18:34:39.748200Z"
    }
   },
   "id": "2485d885eeb3950c"
  },
  {
   "cell_type": "code",
   "execution_count": 9,
   "outputs": [],
   "source": [
    "\n"
   ],
   "metadata": {
    "collapsed": false,
    "ExecuteTime": {
     "end_time": "2024-10-12T20:03:32.894229Z",
     "start_time": "2024-10-12T20:03:32.890420Z"
    }
   },
   "id": "7ccfcfb1834c30c7"
  },
  {
   "cell_type": "code",
   "execution_count": 11,
   "outputs": [],
   "source": [],
   "metadata": {
    "collapsed": false,
    "ExecuteTime": {
     "end_time": "2024-10-12T21:18:35.856916Z",
     "start_time": "2024-10-12T21:18:35.840933Z"
    }
   },
   "id": "573cda8dbfdd2b71"
  },
  {
   "cell_type": "code",
   "execution_count": 11,
   "outputs": [],
   "source": [
    "\n",
    "stat_dict = {'team':[], 'avg_point_differential':[], 'avg_margin_of_victory':[], 'avg_margin_of_defeat':[]}\n",
    "\n",
    "for team in boxscore.team.unique():\n",
    "    team_df = boxscore[boxscore['team'] == team]\n",
    "    wins_df = team_df[team_df['result'] == 'W']\n",
    "    loss_df = team_df[team_df['result'] == 'L']\n",
    "    avg_point_differential = team_df['point_differential'].mean()\n",
    "    avg_margin_of_victory = wins_df['point_differential'].mean()\n",
    "    avg_margin_of_defeat = loss_df['point_differential'].mean()\n",
    "    stat_dict['team'].append(team)\n",
    "    stat_dict['avg_point_differential'].append(avg_point_differential)\n",
    "    stat_dict['avg_margin_of_victory'].append(avg_margin_of_victory)\n",
    "    stat_dict['avg_margin_of_defeat'].append(avg_margin_of_defeat)\n",
    "\n",
    "stat_df = pd.DataFrame(stat_dict)\n",
    "stat_df\n"
   ],
   "metadata": {
    "collapsed": false,
    "ExecuteTime": {
     "end_time": "2024-10-14T16:32:03.543115Z",
     "start_time": "2024-10-14T16:32:03.534723Z"
    }
   },
   "id": "62e5c445bf9e090d"
  },
  {
   "cell_type": "code",
   "execution_count": 11,
   "outputs": [],
   "source": [
    "# Initialize the dictionary to store results\n",
    "\n",
    "epa_dict = {'athlete_id':[], 'id':[], 'points_added':[], 'pass_epa':[], 'rush_epa':[], 'sack_epa':[], \n",
    "            'penalty_epa':[], 'total_epa':[], 'qb_plays':[], 'cwa':[], 'raw_qbr':[], 'expected_pass_epa':[], \n",
    "            'int_epa':[], 'yac_epa':[], 'run_epa':[], 'scramble_epa':[], 'expected_sack_epa':[], 'fumble_epa':[],\n",
    "            'defense_faced_epa':[], 'total_qbr':[], 'unq_rank':[]}\n",
    "\n",
    "base_url = f'https://sports.core.api.espn.com/v2/sports/football/leagues/nfl/seasons/2024/types/2/weeks/5/qbr/10000'\n",
    "\n",
    "\n",
    "def extract_id(url):\n",
    "    match = re.search(r'/(\\d+)(?:\\?|$)', url)\n",
    "    if match:\n",
    "        return match.group(1)\n",
    "    return None\n",
    "\n",
    "\n",
    "page_index = 1 \n",
    "while True:\n",
    "    url = f\"{base_url}?page={page_index}\"\n",
    "    response = requests.get(url)\n",
    "    if response.status_code == 200:\n",
    "        data = response.json()\n",
    "\n",
    "        for x in data['items']:\n",
    "            athlete_url = x['athlete']['$ref']\n",
    "            event_url = x['event']['$ref']\n",
    "            athlete_id = extract_id(athlete_url)\n",
    "            id = extract_id(event_url)\n",
    "            points_added = x['splits']['categories'][0]['stats'][0]['displayValue']\n",
    "            pass_epa = x['splits']['categories'][0]['stats'][1]['displayValue']\n",
    "            rush_epa = x['splits']['categories'][0]['stats'][2]['displayValue']\n",
    "            sack_epa = x['splits']['categories'][0]['stats'][3]['displayValue']\n",
    "            penalty_epa = x['splits']['categories'][0]['stats'][4]['displayValue']\n",
    "            total_epa = x['splits']['categories'][0]['stats'][5]['displayValue']\n",
    "            qb_plays = x['splits']['categories'][0]['stats'][6]['displayValue']\n",
    "            cwa = x['splits']['categories'][0]['stats'][7]['displayValue']\n",
    "            raw_qbr = x['splits']['categories'][0]['stats'][8]['displayValue']\n",
    "            expected_pass_epa = x['splits']['categories'][0]['stats'][9]['displayValue']\n",
    "            int_epa = x['splits']['categories'][0]['stats'][10]['displayValue']\n",
    "            yac_epa = x['splits']['categories'][0]['stats'][11]['displayValue']\n",
    "            run_epa = x['splits']['categories'][0]['stats'][12]['displayValue']\n",
    "            scramble_epa = x['splits']['categories'][0]['stats'][13]['displayValue']\n",
    "            expected_sack_epa = x['splits']['categories'][0]['stats'][14]['displayValue']\n",
    "            fumble_epa = x['splits']['categories'][0]['stats'][15]['displayValue']\n",
    "            defense_faced_epa = x['splits']['categories'][0]['stats'][16]['displayValue']\n",
    "            total_qbr = x['splits']['categories'][0]['stats'][17]['displayValue']\n",
    "            unq_rank = x['splits']['categories'][0]['stats'][18]['displayValue']\n",
    "\n",
    "            epa_dict['athlete_id'].append(athlete_id)\n",
    "            epa_dict['id'].append(id)\n",
    "            epa_dict['points_added'].append(points_added)\n",
    "            epa_dict['pass_epa'].append(pass_epa)\n",
    "            epa_dict['rush_epa'].append(rush_epa)\n",
    "            epa_dict['sack_epa'].append(sack_epa)\n",
    "            epa_dict['penalty_epa'].append(penalty_epa)\n",
    "            epa_dict['total_epa'].append(total_epa)\n",
    "            epa_dict['qb_plays'].append(qb_plays)\n",
    "            epa_dict['cwa'].append(cwa)\n",
    "            epa_dict['raw_qbr'].append(raw_qbr)\n",
    "            epa_dict['expected_pass_epa'].append(expected_pass_epa)\n",
    "            epa_dict['int_epa'].append(int_epa)\n",
    "            epa_dict['yac_epa'].append(yac_epa)\n",
    "            epa_dict['run_epa'].append(run_epa)\n",
    "            epa_dict['scramble_epa'].append(scramble_epa)\n",
    "            epa_dict['expected_sack_epa'].append(expected_sack_epa)\n",
    "            epa_dict['fumble_epa'].append(fumble_epa)\n",
    "            epa_dict['defense_faced_epa'].append(defense_faced_epa)\n",
    "            epa_dict['total_qbr'].append(total_qbr)\n",
    "            epa_dict['unq_rank'].append(unq_rank)\n",
    "\n",
    "        if page_index >= data.get('pageCount', 1):\n",
    "            break \n",
    "        page_index += 1\n",
    "    \n",
    "    else:\n",
    "        print(f\"Failed to fetch data from {url}\")\n",
    "        break\n",
    "\n",
    "epa_df = pd.DataFrame(epa_dict)\n"
   ],
   "metadata": {
    "collapsed": false,
    "ExecuteTime": {
     "end_time": "2024-10-14T16:32:03.992589Z",
     "start_time": "2024-10-14T16:32:03.989888Z"
    }
   },
   "id": "bbc33fe60ac6a0a5"
  },
  {
   "cell_type": "code",
   "execution_count": 11,
   "outputs": [],
   "source": [
    "epa_d"
   ],
   "metadata": {
    "collapsed": false,
    "ExecuteTime": {
     "end_time": "2024-10-14T16:31:58.554419Z",
     "start_time": "2024-10-14T16:31:58.541337Z"
    }
   },
   "id": "247cac0ec9137bb5"
  },
  {
   "cell_type": "code",
   "execution_count": 11,
   "outputs": [],
   "source": [],
   "metadata": {
    "collapsed": false,
    "ExecuteTime": {
     "end_time": "2024-10-14T16:31:59.080835Z",
     "start_time": "2024-10-14T16:31:59.070375Z"
    }
   },
   "id": "88184997be9f2f9e"
  },
  {
   "cell_type": "code",
   "execution_count": 12,
   "outputs": [],
   "source": [],
   "metadata": {
    "collapsed": false,
    "ExecuteTime": {
     "end_time": "2024-10-08T03:26:11.520659Z",
     "start_time": "2024-10-08T03:26:11.496428Z"
    }
   },
   "id": "c06e207bd114ce68"
  },
  {
   "cell_type": "code",
   "execution_count": 24,
   "outputs": [],
   "source": [],
   "metadata": {
    "collapsed": false,
    "ExecuteTime": {
     "end_time": "2024-10-07T23:49:14.862142Z",
     "start_time": "2024-10-07T23:49:14.837809Z"
    }
   },
   "id": "6ee67305f8d9cd25"
  },
  {
   "cell_type": "code",
   "execution_count": 6,
   "outputs": [],
   "source": [],
   "metadata": {
    "collapsed": false,
    "ExecuteTime": {
     "end_time": "2024-10-05T14:16:23.260908Z",
     "start_time": "2024-10-05T14:16:23.254456Z"
    }
   },
   "id": "a4fe83b60321f83c"
  },
  {
   "cell_type": "markdown",
   "source": [],
   "metadata": {
    "collapsed": false
   },
   "id": "6e10abc99689289"
  },
  {
   "cell_type": "markdown",
   "source": [
    "    "
   ],
   "metadata": {
    "collapsed": false
   },
   "id": "a91e9209662b90a7"
  },
  {
   "cell_type": "code",
   "execution_count": 6,
   "outputs": [],
   "source": [],
   "metadata": {
    "collapsed": false,
    "ExecuteTime": {
     "end_time": "2024-10-05T14:16:18.274449Z",
     "start_time": "2024-10-05T14:16:18.271880Z"
    }
   },
   "id": "361f6053062a4b60"
  },
  {
   "cell_type": "code",
   "execution_count": 2,
   "outputs": [],
   "source": [],
   "metadata": {
    "collapsed": false,
    "ExecuteTime": {
     "end_time": "2024-10-03T19:50:55.764418Z",
     "start_time": "2024-10-03T19:50:55.757631Z"
    }
   },
   "id": "b25283740375e06b"
  },
  {
   "cell_type": "markdown",
   "source": [
    " "
   ],
   "metadata": {
    "collapsed": false
   },
   "id": "79d354ce0fd944e1"
  },
  {
   "cell_type": "code",
   "execution_count": 2,
   "outputs": [],
   "source": [],
   "metadata": {
    "collapsed": false,
    "ExecuteTime": {
     "end_time": "2024-10-03T19:50:59.753461Z",
     "start_time": "2024-10-03T19:50:59.742772Z"
    }
   },
   "id": "10712f09d0cffe03"
  },
  {
   "cell_type": "code",
   "execution_count": 1,
   "outputs": [],
   "source": [],
   "metadata": {
    "collapsed": false,
    "ExecuteTime": {
     "end_time": "2024-09-25T00:47:13.889717Z",
     "start_time": "2024-09-25T00:47:13.875425Z"
    }
   },
   "id": "4e220234adac7230"
  },
  {
   "cell_type": "code",
   "execution_count": 4,
   "outputs": [],
   "source": [],
   "metadata": {
    "collapsed": false,
    "ExecuteTime": {
     "end_time": "2024-09-25T00:50:53.156956Z",
     "start_time": "2024-09-25T00:50:53.139245Z"
    }
   },
   "id": "d9416f8526b1f4e6"
  },
  {
   "cell_type": "code",
   "execution_count": 4,
   "outputs": [],
   "source": [],
   "metadata": {
    "collapsed": false,
    "ExecuteTime": {
     "end_time": "2024-09-25T00:50:56.152345Z",
     "start_time": "2024-09-25T00:50:56.137888Z"
    }
   },
   "id": "13c65fcc74a78f60"
  },
  {
   "cell_type": "markdown",
   "source": [],
   "metadata": {
    "collapsed": false
   },
   "id": "13333f6b73df185b"
  },
  {
   "cell_type": "code",
   "execution_count": null,
   "outputs": [],
   "source": [],
   "metadata": {
    "collapsed": false
   },
   "id": "bbd06cd5dbb7fd55"
  },
  {
   "cell_type": "markdown",
   "source": [],
   "metadata": {
    "collapsed": false
   },
   "id": "cd6265fa45cd1f24"
  },
  {
   "cell_type": "markdown",
   "source": [],
   "metadata": {
    "collapsed": false
   },
   "id": "97bd8c6ebb380f1f"
  },
  {
   "cell_type": "code",
   "execution_count": 17,
   "outputs": [],
   "source": [],
   "metadata": {
    "collapsed": false,
    "ExecuteTime": {
     "end_time": "2024-09-20T03:49:17.737822Z",
     "start_time": "2024-09-20T03:49:17.708221Z"
    }
   },
   "id": "2bb6f3f919127843"
  },
  {
   "cell_type": "code",
   "execution_count": 17,
   "outputs": [],
   "source": [
    "\n"
   ],
   "metadata": {
    "collapsed": false,
    "ExecuteTime": {
     "end_time": "2024-09-20T03:49:17.738092Z",
     "start_time": "2024-09-20T03:49:17.714221Z"
    }
   },
   "id": "18d71cd4ab791960"
  },
  {
   "cell_type": "code",
   "execution_count": 3,
   "outputs": [],
   "source": [],
   "metadata": {
    "collapsed": false,
    "ExecuteTime": {
     "end_time": "2024-09-18T22:20:12.157898Z",
     "start_time": "2024-09-18T22:20:12.147192Z"
    }
   },
   "id": "7b91c464307da466"
  },
  {
   "cell_type": "code",
   "execution_count": 3,
   "outputs": [],
   "source": [],
   "metadata": {
    "collapsed": false,
    "ExecuteTime": {
     "end_time": "2024-09-18T22:20:12.379652Z",
     "start_time": "2024-09-18T22:20:12.370993Z"
    }
   },
   "id": "f9bfcca282d7537c"
  },
  {
   "cell_type": "code",
   "execution_count": 3,
   "outputs": [],
   "source": [],
   "metadata": {
    "collapsed": false,
    "ExecuteTime": {
     "end_time": "2024-09-18T22:20:12.596969Z",
     "start_time": "2024-09-18T22:20:12.556415Z"
    }
   },
   "id": "b912049296c01ed5"
  },
  {
   "cell_type": "code",
   "execution_count": 3,
   "outputs": [],
   "source": [],
   "metadata": {
    "collapsed": false,
    "ExecuteTime": {
     "end_time": "2024-09-18T22:20:12.942709Z",
     "start_time": "2024-09-18T22:20:12.907338Z"
    }
   },
   "id": "7311cfc949aaa8ac"
  },
  {
   "cell_type": "code",
   "execution_count": 3,
   "outputs": [],
   "source": [],
   "metadata": {
    "collapsed": false,
    "ExecuteTime": {
     "end_time": "2024-09-18T22:20:13.131142Z",
     "start_time": "2024-09-18T22:20:13.107989Z"
    }
   },
   "id": "f71e1b3bf3eab20a"
  },
  {
   "cell_type": "code",
   "execution_count": 3,
   "outputs": [],
   "source": [],
   "metadata": {
    "collapsed": false,
    "ExecuteTime": {
     "end_time": "2024-09-18T22:20:13.366260Z",
     "start_time": "2024-09-18T22:20:13.331571Z"
    }
   },
   "id": "25e1c8e4674f4f68"
  },
  {
   "cell_type": "code",
   "execution_count": 3,
   "outputs": [],
   "source": [],
   "metadata": {
    "collapsed": false,
    "ExecuteTime": {
     "end_time": "2024-09-18T22:20:13.545226Z",
     "start_time": "2024-09-18T22:20:13.514217Z"
    }
   },
   "id": "f6e442163c078cee"
  },
  {
   "cell_type": "code",
   "execution_count": 3,
   "outputs": [],
   "source": [],
   "metadata": {
    "collapsed": false,
    "ExecuteTime": {
     "end_time": "2024-09-18T22:20:13.713336Z",
     "start_time": "2024-09-18T22:20:13.681178Z"
    }
   },
   "id": "28e7905afd34ee3b"
  },
  {
   "cell_type": "code",
   "execution_count": null,
   "outputs": [],
   "source": [],
   "metadata": {
    "collapsed": false
   },
   "id": "edaed07d571eff52"
  }
 ],
 "metadata": {
  "kernelspec": {
   "display_name": "Python 3",
   "language": "python",
   "name": "python3"
  },
  "language_info": {
   "codemirror_mode": {
    "name": "ipython",
    "version": 2
   },
   "file_extension": ".py",
   "mimetype": "text/x-python",
   "name": "python",
   "nbconvert_exporter": "python",
   "pygments_lexer": "ipython2",
   "version": "2.7.6"
  }
 },
 "nbformat": 4,
 "nbformat_minor": 5
}
