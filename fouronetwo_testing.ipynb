{
 "cells": [
  {
   "cell_type": "code",
   "execution_count": 1,
   "outputs": [],
   "source": [
    "import pandas as pd\n",
    "import requests\n",
    "from pprint import pprint\n",
    "from fouronetwo import Fetch\n",
    "fetch = Fetch()\n",
    "\n"
   ],
   "metadata": {
    "collapsed": false,
    "ExecuteTime": {
     "end_time": "2024-09-19T02:35:22.326674Z",
     "start_time": "2024-09-19T02:35:21.408308Z"
    }
   },
   "id": "81466365851f1193"
  },
  {
   "cell_type": "code",
   "execution_count": 2,
   "id": "initial_id",
   "metadata": {
    "collapsed": true,
    "ExecuteTime": {
     "end_time": "2024-09-19T02:35:22.686747Z",
     "start_time": "2024-09-19T02:35:22.665399Z"
    }
   },
   "outputs": [],
   "source": [
    "# fetch.completed_games(year = 2024, week=1)\n",
    "# fetch.scheduled_games(year = 2024, week=18)\n",
    "# fetch.in_progress_games(year = 2024, week=1)\n",
    "#fetch.completed_games(year=2024, team = 'Pittsburgh Steelers')\n",
    "#data = fetch.boxscore(year=2023, team='Pittsburgh Steelers')\n",
    "#fetch.passing_boxscore(year=2024, pivot=True)\n",
    "#fetch.rushing_boxscore(year=2024, pivot=True)\n"
   ]
  },
  {
   "cell_type": "markdown",
   "source": [],
   "metadata": {
    "collapsed": false
   },
   "id": "a91e9209662b90a7"
  },
  {
   "cell_type": "code",
   "execution_count": 2,
   "outputs": [],
   "source": [],
   "metadata": {
    "collapsed": false,
    "ExecuteTime": {
     "end_time": "2024-09-19T02:35:23.504104Z",
     "start_time": "2024-09-19T02:35:23.493294Z"
    }
   },
   "id": "361f6053062a4b60"
  },
  {
   "cell_type": "markdown",
   "source": [
    " "
   ],
   "metadata": {
    "collapsed": false
   },
   "id": "79d354ce0fd944e1"
  },
  {
   "cell_type": "code",
   "execution_count": 3,
   "outputs": [
    {
     "name": "stderr",
     "output_type": "stream",
     "text": [
      "/Users/andrewpaladino/Documents/projects/412analytics/fouronetwo.py:94: FutureWarning: Behavior when concatenating bool-dtype and numeric-dtype arrays is deprecated; in a future version these will cast to object dtype (instead of coercing bools to numeric values). To retain the old behavior, explicitly cast bool-dtype arrays to numeric dtype.\n",
      "  total_completed = pd.concat([events_merged, total_completed])\n",
      "100%|██████████| 32/32 [00:08<00:00,  3.96it/s]\n"
     ]
    },
    {
     "data": {
      "text/plain": "               name_  receptions_mean  receptions_sum  yards_mean  yards_sum  \\\n0         A.J. Brown              5.0               5       119.0        119   \n1        Aaron Jones              3.5               7        25.5         51   \n2      Adam Prentice              0.0               0         0.0          0   \n3       Adam Thielen              2.5               5        34.5         69   \n4      Adam Trautman              0.0               0         0.0          0   \n..               ...              ...             ...         ...        ...   \n298  Zach Charbonnet              3.5               7        30.0         60   \n299        Zach Ertz              3.5               7        45.0         90   \n300        Zack Moss              1.5               3        15.0         30   \n301      Zamir White              2.5               5         8.0         16   \n302      Zay Flowers              6.5              13        64.0        128   \n\n     yards_per_reception_mean  touchdowns_mean  touchdowns_sum  \\\n0                       23.80              1.0               1   \n1                        7.35              0.0               0   \n2                        0.00              0.0               0   \n3                       13.15              0.0               0   \n4                        0.00              0.0               0   \n..                        ...              ...             ...   \n298                     10.35              0.5               1   \n299                     12.40              0.0               0   \n300                     10.75              0.0               0   \n301                      2.85              0.0               0   \n302                      9.60              0.5               1   \n\n     longest_reception_mean  longest_reception_sum  targets_mean  targets_sum  \\\n0                      67.0                     67          10.0           10   \n1                      13.5                     27           4.0            8   \n2                       0.0                      0           1.0            1   \n3                      21.0                     42           3.5            7   \n4                       0.0                      0           1.0            1   \n..                      ...                    ...           ...          ...   \n298                    19.5                     39           4.0            8   \n299                    16.5                     33           4.0            8   \n300                    12.5                     25           2.5            5   \n301                     6.0                     12           3.0            6   \n302                    20.0                     40          10.5           21   \n\n     catch_%_mean  \n0       50.000000  \n1       91.666667  \n2        0.000000  \n3       70.833333  \n4        0.000000  \n..            ...  \n298     83.333333  \n299     87.500000  \n300     75.000000  \n301     87.500000  \n302     61.818182  \n\n[303 rows x 13 columns]",
      "text/html": "<div>\n<style scoped>\n    .dataframe tbody tr th:only-of-type {\n        vertical-align: middle;\n    }\n\n    .dataframe tbody tr th {\n        vertical-align: top;\n    }\n\n    .dataframe thead th {\n        text-align: right;\n    }\n</style>\n<table border=\"1\" class=\"dataframe\">\n  <thead>\n    <tr style=\"text-align: right;\">\n      <th></th>\n      <th>name_</th>\n      <th>receptions_mean</th>\n      <th>receptions_sum</th>\n      <th>yards_mean</th>\n      <th>yards_sum</th>\n      <th>yards_per_reception_mean</th>\n      <th>touchdowns_mean</th>\n      <th>touchdowns_sum</th>\n      <th>longest_reception_mean</th>\n      <th>longest_reception_sum</th>\n      <th>targets_mean</th>\n      <th>targets_sum</th>\n      <th>catch_%_mean</th>\n    </tr>\n  </thead>\n  <tbody>\n    <tr>\n      <th>0</th>\n      <td>A.J. Brown</td>\n      <td>5.0</td>\n      <td>5</td>\n      <td>119.0</td>\n      <td>119</td>\n      <td>23.80</td>\n      <td>1.0</td>\n      <td>1</td>\n      <td>67.0</td>\n      <td>67</td>\n      <td>10.0</td>\n      <td>10</td>\n      <td>50.000000</td>\n    </tr>\n    <tr>\n      <th>1</th>\n      <td>Aaron Jones</td>\n      <td>3.5</td>\n      <td>7</td>\n      <td>25.5</td>\n      <td>51</td>\n      <td>7.35</td>\n      <td>0.0</td>\n      <td>0</td>\n      <td>13.5</td>\n      <td>27</td>\n      <td>4.0</td>\n      <td>8</td>\n      <td>91.666667</td>\n    </tr>\n    <tr>\n      <th>2</th>\n      <td>Adam Prentice</td>\n      <td>0.0</td>\n      <td>0</td>\n      <td>0.0</td>\n      <td>0</td>\n      <td>0.00</td>\n      <td>0.0</td>\n      <td>0</td>\n      <td>0.0</td>\n      <td>0</td>\n      <td>1.0</td>\n      <td>1</td>\n      <td>0.000000</td>\n    </tr>\n    <tr>\n      <th>3</th>\n      <td>Adam Thielen</td>\n      <td>2.5</td>\n      <td>5</td>\n      <td>34.5</td>\n      <td>69</td>\n      <td>13.15</td>\n      <td>0.0</td>\n      <td>0</td>\n      <td>21.0</td>\n      <td>42</td>\n      <td>3.5</td>\n      <td>7</td>\n      <td>70.833333</td>\n    </tr>\n    <tr>\n      <th>4</th>\n      <td>Adam Trautman</td>\n      <td>0.0</td>\n      <td>0</td>\n      <td>0.0</td>\n      <td>0</td>\n      <td>0.00</td>\n      <td>0.0</td>\n      <td>0</td>\n      <td>0.0</td>\n      <td>0</td>\n      <td>1.0</td>\n      <td>1</td>\n      <td>0.000000</td>\n    </tr>\n    <tr>\n      <th>...</th>\n      <td>...</td>\n      <td>...</td>\n      <td>...</td>\n      <td>...</td>\n      <td>...</td>\n      <td>...</td>\n      <td>...</td>\n      <td>...</td>\n      <td>...</td>\n      <td>...</td>\n      <td>...</td>\n      <td>...</td>\n      <td>...</td>\n    </tr>\n    <tr>\n      <th>298</th>\n      <td>Zach Charbonnet</td>\n      <td>3.5</td>\n      <td>7</td>\n      <td>30.0</td>\n      <td>60</td>\n      <td>10.35</td>\n      <td>0.5</td>\n      <td>1</td>\n      <td>19.5</td>\n      <td>39</td>\n      <td>4.0</td>\n      <td>8</td>\n      <td>83.333333</td>\n    </tr>\n    <tr>\n      <th>299</th>\n      <td>Zach Ertz</td>\n      <td>3.5</td>\n      <td>7</td>\n      <td>45.0</td>\n      <td>90</td>\n      <td>12.40</td>\n      <td>0.0</td>\n      <td>0</td>\n      <td>16.5</td>\n      <td>33</td>\n      <td>4.0</td>\n      <td>8</td>\n      <td>87.500000</td>\n    </tr>\n    <tr>\n      <th>300</th>\n      <td>Zack Moss</td>\n      <td>1.5</td>\n      <td>3</td>\n      <td>15.0</td>\n      <td>30</td>\n      <td>10.75</td>\n      <td>0.0</td>\n      <td>0</td>\n      <td>12.5</td>\n      <td>25</td>\n      <td>2.5</td>\n      <td>5</td>\n      <td>75.000000</td>\n    </tr>\n    <tr>\n      <th>301</th>\n      <td>Zamir White</td>\n      <td>2.5</td>\n      <td>5</td>\n      <td>8.0</td>\n      <td>16</td>\n      <td>2.85</td>\n      <td>0.0</td>\n      <td>0</td>\n      <td>6.0</td>\n      <td>12</td>\n      <td>3.0</td>\n      <td>6</td>\n      <td>87.500000</td>\n    </tr>\n    <tr>\n      <th>302</th>\n      <td>Zay Flowers</td>\n      <td>6.5</td>\n      <td>13</td>\n      <td>64.0</td>\n      <td>128</td>\n      <td>9.60</td>\n      <td>0.5</td>\n      <td>1</td>\n      <td>20.0</td>\n      <td>40</td>\n      <td>10.5</td>\n      <td>21</td>\n      <td>61.818182</td>\n    </tr>\n  </tbody>\n</table>\n<p>303 rows × 13 columns</p>\n</div>"
     },
     "execution_count": 3,
     "metadata": {},
     "output_type": "execute_result"
    }
   ],
   "source": [
    "fetch.receiving_boxscore(year=2024, pivot=True)"
   ],
   "metadata": {
    "collapsed": false,
    "ExecuteTime": {
     "end_time": "2024-09-19T02:35:37.209815Z",
     "start_time": "2024-09-19T02:35:25.191629Z"
    }
   },
   "id": "10712f09d0cffe03"
  },
  {
   "cell_type": "code",
   "execution_count": 2,
   "outputs": [],
   "source": [],
   "metadata": {
    "collapsed": false,
    "ExecuteTime": {
     "end_time": "2024-09-18T22:20:02.739259Z",
     "start_time": "2024-09-18T22:20:02.714048Z"
    }
   },
   "id": "d9416f8526b1f4e6"
  },
  {
   "cell_type": "code",
   "execution_count": 3,
   "outputs": [],
   "source": [],
   "metadata": {
    "collapsed": false,
    "ExecuteTime": {
     "end_time": "2024-09-18T22:20:07.535620Z",
     "start_time": "2024-09-18T22:20:07.528770Z"
    }
   },
   "id": "13c65fcc74a78f60"
  },
  {
   "cell_type": "markdown",
   "source": [],
   "metadata": {
    "collapsed": false
   },
   "id": "13333f6b73df185b"
  },
  {
   "cell_type": "markdown",
   "source": [],
   "metadata": {
    "collapsed": false
   },
   "id": "cd6265fa45cd1f24"
  },
  {
   "cell_type": "markdown",
   "source": [],
   "metadata": {
    "collapsed": false
   },
   "id": "97bd8c6ebb380f1f"
  },
  {
   "cell_type": "code",
   "execution_count": 31,
   "outputs": [
    {
     "name": "stderr",
     "output_type": "stream",
     "text": [
      "100%|██████████| 17/17 [00:04<00:00,  3.57it/s]\n"
     ]
    }
   ],
   "source": [],
   "metadata": {
    "collapsed": false,
    "ExecuteTime": {
     "end_time": "2024-09-17T02:27:51.673068Z",
     "start_time": "2024-09-17T02:27:41.885031Z"
    }
   },
   "id": "2bb6f3f919127843"
  },
  {
   "cell_type": "code",
   "execution_count": 3,
   "outputs": [],
   "source": [
    "\n"
   ],
   "metadata": {
    "collapsed": false,
    "ExecuteTime": {
     "end_time": "2024-09-18T22:20:09.908114Z",
     "start_time": "2024-09-18T22:20:09.895045Z"
    }
   },
   "id": "18d71cd4ab791960"
  },
  {
   "cell_type": "code",
   "execution_count": 3,
   "outputs": [],
   "source": [],
   "metadata": {
    "collapsed": false,
    "ExecuteTime": {
     "end_time": "2024-09-18T22:20:12.157898Z",
     "start_time": "2024-09-18T22:20:12.147192Z"
    }
   },
   "id": "7b91c464307da466"
  },
  {
   "cell_type": "code",
   "execution_count": 3,
   "outputs": [],
   "source": [],
   "metadata": {
    "collapsed": false,
    "ExecuteTime": {
     "end_time": "2024-09-18T22:20:12.379652Z",
     "start_time": "2024-09-18T22:20:12.370993Z"
    }
   },
   "id": "f9bfcca282d7537c"
  },
  {
   "cell_type": "code",
   "execution_count": 3,
   "outputs": [],
   "source": [],
   "metadata": {
    "collapsed": false,
    "ExecuteTime": {
     "end_time": "2024-09-18T22:20:12.596969Z",
     "start_time": "2024-09-18T22:20:12.556415Z"
    }
   },
   "id": "b912049296c01ed5"
  },
  {
   "cell_type": "code",
   "execution_count": 3,
   "outputs": [],
   "source": [],
   "metadata": {
    "collapsed": false,
    "ExecuteTime": {
     "end_time": "2024-09-18T22:20:12.942709Z",
     "start_time": "2024-09-18T22:20:12.907338Z"
    }
   },
   "id": "7311cfc949aaa8ac"
  },
  {
   "cell_type": "code",
   "execution_count": 3,
   "outputs": [],
   "source": [],
   "metadata": {
    "collapsed": false,
    "ExecuteTime": {
     "end_time": "2024-09-18T22:20:13.131142Z",
     "start_time": "2024-09-18T22:20:13.107989Z"
    }
   },
   "id": "f71e1b3bf3eab20a"
  },
  {
   "cell_type": "code",
   "execution_count": 3,
   "outputs": [],
   "source": [],
   "metadata": {
    "collapsed": false,
    "ExecuteTime": {
     "end_time": "2024-09-18T22:20:13.366260Z",
     "start_time": "2024-09-18T22:20:13.331571Z"
    }
   },
   "id": "25e1c8e4674f4f68"
  },
  {
   "cell_type": "code",
   "execution_count": 3,
   "outputs": [],
   "source": [],
   "metadata": {
    "collapsed": false,
    "ExecuteTime": {
     "end_time": "2024-09-18T22:20:13.545226Z",
     "start_time": "2024-09-18T22:20:13.514217Z"
    }
   },
   "id": "f6e442163c078cee"
  },
  {
   "cell_type": "code",
   "execution_count": 3,
   "outputs": [],
   "source": [],
   "metadata": {
    "collapsed": false,
    "ExecuteTime": {
     "end_time": "2024-09-18T22:20:13.713336Z",
     "start_time": "2024-09-18T22:20:13.681178Z"
    }
   },
   "id": "28e7905afd34ee3b"
  },
  {
   "cell_type": "code",
   "execution_count": null,
   "outputs": [],
   "source": [],
   "metadata": {
    "collapsed": false
   },
   "id": "edaed07d571eff52"
  }
 ],
 "metadata": {
  "kernelspec": {
   "display_name": "Python 3",
   "language": "python",
   "name": "python3"
  },
  "language_info": {
   "codemirror_mode": {
    "name": "ipython",
    "version": 2
   },
   "file_extension": ".py",
   "mimetype": "text/x-python",
   "name": "python",
   "nbconvert_exporter": "python",
   "pygments_lexer": "ipython2",
   "version": "2.7.6"
  }
 },
 "nbformat": 4,
 "nbformat_minor": 5
}
