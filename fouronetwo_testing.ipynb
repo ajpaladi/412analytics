{
 "cells": [
  {
   "cell_type": "code",
   "execution_count": 5,
   "outputs": [],
   "source": [
    "import pandas as pd\n",
    "import requests\n",
    "from pprint import pprint\n",
    "import plotly_express as px\n",
    "from fouronetwo import Fetch\n",
    "fetch = Fetch()\n",
    "import re\n",
    "from tqdm import tqdm\n",
    "\n"
   ],
   "metadata": {
    "collapsed": false,
    "ExecuteTime": {
     "end_time": "2024-10-17T05:27:07.965545Z",
     "start_time": "2024-10-17T05:27:07.424061Z"
    }
   },
   "id": "81466365851f1193"
  },
  {
   "cell_type": "code",
   "execution_count": 3,
   "id": "initial_id",
   "metadata": {
    "collapsed": true,
    "ExecuteTime": {
     "end_time": "2024-10-17T05:27:01.939367Z",
     "start_time": "2024-10-17T05:27:01.929487Z"
    }
   },
   "outputs": [],
   "source": [
    "# fetch.completed_games(year = 2024, week=1)\n",
    "# fetch.scheduled_games(year = 2024, week=18)\n",
    "# fetch.in_progress_games(year = 2024, week=1)\n",
    "#fetch.completed_games(year=2024, team = 'Pittsburgh Steelers')\n",
    "#data = fetch.boxscore(year=2023, team='Pittsburgh Steelers')\n",
    "#fetch.passing_boxscore(year=2024, pivot=True)\n",
    "#fetch.rushing_boxscore(year=2024, pivot=True)\n",
    "#fetch.receiving_boxscore(year=2024, pivot=True)\n",
    "#fetch.fumble_boxscore(year=2024, pivot=True)\n",
    "#fetch.defensive_boxscore(year=2024, pivot=True)\n",
    "#fetch.interception_boxscore(year=2024, pivot=True)\n",
    "#fetch.kick_return_boxscore(year=2024)\n",
    "#fetch.punt_return_boxscore(year=2024, pivot=True)\n",
    "#fetch.field_goal_boxscore(year=2024, pivot=True)\n",
    "#fetch.punt_boxscore(year=2024)\n",
    "#fetch.drives(year=2024, team='Pittsburgh Steelers')\n",
    "#fetch.plays(year=2024)\n",
    "#fetch.drives(year=2024)\n",
    "#fetch.offensive_drive_summary(year=2024, agg_method='weekly', team='Pittsburgh Steelers')\n",
    "#fetch.defensive_drive_summary(year=2024)\n",
    "#fetch.videos(year=2024, team='Pittsburgh Steelers')\n",
    "#fetch.officials(year=2024, team='Pittsburgh Steelers')\n",
    "#wp = fetch.win_probability(year = 2024, team='Pittsburgh Steelers', week=4)\n",
    "#da = fetch.drive_analysis(year=2024)\n",
    "#mov = fetch.pd_mov_mod(2024)\n",
    "#fetch.qb_epa(year=2024, pivot=True)\n",
    "#fetch.qb_epa_glossary()\n",
    "#fetch.futures(year=2024)\n",
    "\n"
   ]
  },
  {
   "cell_type": "code",
   "execution_count": 3,
   "outputs": [],
   "source": [],
   "metadata": {
    "collapsed": false,
    "ExecuteTime": {
     "end_time": "2024-10-17T05:27:03.071088Z",
     "start_time": "2024-10-17T05:27:03.055455Z"
    }
   },
   "id": "87909b4a3c2cddcb"
  },
  {
   "cell_type": "code",
   "execution_count": 6,
   "outputs": [
    {
     "name": "stderr",
     "output_type": "stream",
     "text": [
      "Fetching athlete data: 100%|██████████| 1748/1748 [01:17<00:00, 22.70it/s]\n"
     ]
    },
    {
     "data": {
      "text/plain": "           id                name  weight  height display_height  age  \\\n0     4429202   Israel Abanikanda   216.0    70.0         5' 10\"   22   \n1     2576336      Ameer Abdullah   203.0    69.0          5' 9\"   31   \n2     4360807      Yasir Abdullah   234.0    73.0          6' 1\"   24   \n3     3728305     Johnathan Abram   205.0    71.0         5' 11\"   27   \n4     4429193  Kris Abrams-Draine   178.0    71.0         5' 11\"   23   \n...       ...                 ...     ...     ...            ...  ...   \n1743  4710661     Chandler Zavala   322.0    75.0          6' 3\"   25   \n1744    14931       Kevin Zeitler   340.0    76.0          6' 4\"   34   \n1745  4433963          Zak Zinter   310.0    78.0          6' 6\"   23   \n1746    14993       Greg Zuerlein   195.0    72.0          6' 0\"   36   \n1747  3915123       Jabari Zuniga   264.0    75.0          6' 3\"   27   \n\n          date_of_birth  debut_year     birth_city birth_state  ...  \\\n0     2002-10-05T07:00Z         NaN       Brooklyn          NY  ...   \n1     1993-06-13T07:00Z      2015.0       Homewood          AL  ...   \n2     2000-04-12T07:00Z         NaN        Miramar          FL  ...   \n3     1996-10-25T07:00Z      2019.0       Columbia          MS  ...   \n4     2001-10-04T07:00Z         NaN         Mobile          AL  ...   \n...                 ...         ...            ...         ...  ...   \n1743  1999-04-02T08:00Z         NaN  Boynton Beach          FL  ...   \n1744  1990-03-08T08:00Z      2012.0       Waukesha          WI  ...   \n1745  2001-04-17T07:00Z         NaN  North Andover          MA  ...   \n1746  1987-12-27T08:00Z      2012.0        Lincoln          NE  ...   \n1747  1997-08-14T07:00Z      2020.0       Marietta          GA  ...   \n\n      injury_detail    injury_side  \\\n0              None           None   \n1              None           None   \n2              None           None   \n3              None           None   \n4              None           None   \n...             ...            ...   \n1743           None           None   \n1744           None           None   \n1745           None           None   \n1746           None           None   \n1747  Not Specified  Not Specified   \n\n                                                   team experience active  \\\n0     http://sports.core.api.espn.com/v2/sports/foot...          2   True   \n1     http://sports.core.api.espn.com/v2/sports/foot...         10   True   \n2     http://sports.core.api.espn.com/v2/sports/foot...          2   True   \n3     http://sports.core.api.espn.com/v2/sports/foot...          6   True   \n4     http://sports.core.api.espn.com/v2/sports/foot...          0   True   \n...                                                 ...        ...    ...   \n1743  http://sports.core.api.espn.com/v2/sports/foot...          2   True   \n1744  http://sports.core.api.espn.com/v2/sports/foot...         13   True   \n1745  http://sports.core.api.espn.com/v2/sports/foot...          0   True   \n1746  http://sports.core.api.espn.com/v2/sports/foot...         13   True   \n1747  http://sports.core.api.espn.com/v2/sports/foot...          4   True   \n\n     draft_round draft_year draft_selection  \\\n0            5.0     2023.0           143.0   \n1            2.0     2015.0            54.0   \n2            5.0     2023.0           136.0   \n3            1.0     2019.0            27.0   \n4            5.0     2024.0           145.0   \n...          ...        ...             ...   \n1743         4.0     2023.0           114.0   \n1744         1.0     2012.0            27.0   \n1745         3.0     2024.0            85.0   \n1746         6.0     2012.0           171.0   \n1747         3.0     2020.0            79.0   \n\n                                             draft_team  status  \n0     http://sports.core.api.espn.com/v2/sports/foot...  Active  \n1     http://sports.core.api.espn.com/v2/sports/foot...  Active  \n2     http://sports.core.api.espn.com/v2/sports/foot...  Active  \n3     http://sports.core.api.espn.com/v2/sports/foot...  Active  \n4     http://sports.core.api.espn.com/v2/sports/foot...  Active  \n...                                                 ...     ...  \n1743  http://sports.core.api.espn.com/v2/sports/foot...  Active  \n1744  http://sports.core.api.espn.com/v2/sports/foot...  Active  \n1745  http://sports.core.api.espn.com/v2/sports/foot...  Active  \n1746  http://sports.core.api.espn.com/v2/sports/foot...  Active  \n1747  http://sports.core.api.espn.com/v2/sports/foot...  Active  \n\n[1748 rows x 32 columns]",
      "text/html": "<div>\n<style scoped>\n    .dataframe tbody tr th:only-of-type {\n        vertical-align: middle;\n    }\n\n    .dataframe tbody tr th {\n        vertical-align: top;\n    }\n\n    .dataframe thead th {\n        text-align: right;\n    }\n</style>\n<table border=\"1\" class=\"dataframe\">\n  <thead>\n    <tr style=\"text-align: right;\">\n      <th></th>\n      <th>id</th>\n      <th>name</th>\n      <th>weight</th>\n      <th>height</th>\n      <th>display_height</th>\n      <th>age</th>\n      <th>date_of_birth</th>\n      <th>debut_year</th>\n      <th>birth_city</th>\n      <th>birth_state</th>\n      <th>...</th>\n      <th>injury_detail</th>\n      <th>injury_side</th>\n      <th>team</th>\n      <th>experience</th>\n      <th>active</th>\n      <th>draft_round</th>\n      <th>draft_year</th>\n      <th>draft_selection</th>\n      <th>draft_team</th>\n      <th>status</th>\n    </tr>\n  </thead>\n  <tbody>\n    <tr>\n      <th>0</th>\n      <td>4429202</td>\n      <td>Israel Abanikanda</td>\n      <td>216.0</td>\n      <td>70.0</td>\n      <td>5' 10\"</td>\n      <td>22</td>\n      <td>2002-10-05T07:00Z</td>\n      <td>NaN</td>\n      <td>Brooklyn</td>\n      <td>NY</td>\n      <td>...</td>\n      <td>None</td>\n      <td>None</td>\n      <td>http://sports.core.api.espn.com/v2/sports/foot...</td>\n      <td>2</td>\n      <td>True</td>\n      <td>5.0</td>\n      <td>2023.0</td>\n      <td>143.0</td>\n      <td>http://sports.core.api.espn.com/v2/sports/foot...</td>\n      <td>Active</td>\n    </tr>\n    <tr>\n      <th>1</th>\n      <td>2576336</td>\n      <td>Ameer Abdullah</td>\n      <td>203.0</td>\n      <td>69.0</td>\n      <td>5' 9\"</td>\n      <td>31</td>\n      <td>1993-06-13T07:00Z</td>\n      <td>2015.0</td>\n      <td>Homewood</td>\n      <td>AL</td>\n      <td>...</td>\n      <td>None</td>\n      <td>None</td>\n      <td>http://sports.core.api.espn.com/v2/sports/foot...</td>\n      <td>10</td>\n      <td>True</td>\n      <td>2.0</td>\n      <td>2015.0</td>\n      <td>54.0</td>\n      <td>http://sports.core.api.espn.com/v2/sports/foot...</td>\n      <td>Active</td>\n    </tr>\n    <tr>\n      <th>2</th>\n      <td>4360807</td>\n      <td>Yasir Abdullah</td>\n      <td>234.0</td>\n      <td>73.0</td>\n      <td>6' 1\"</td>\n      <td>24</td>\n      <td>2000-04-12T07:00Z</td>\n      <td>NaN</td>\n      <td>Miramar</td>\n      <td>FL</td>\n      <td>...</td>\n      <td>None</td>\n      <td>None</td>\n      <td>http://sports.core.api.espn.com/v2/sports/foot...</td>\n      <td>2</td>\n      <td>True</td>\n      <td>5.0</td>\n      <td>2023.0</td>\n      <td>136.0</td>\n      <td>http://sports.core.api.espn.com/v2/sports/foot...</td>\n      <td>Active</td>\n    </tr>\n    <tr>\n      <th>3</th>\n      <td>3728305</td>\n      <td>Johnathan Abram</td>\n      <td>205.0</td>\n      <td>71.0</td>\n      <td>5' 11\"</td>\n      <td>27</td>\n      <td>1996-10-25T07:00Z</td>\n      <td>2019.0</td>\n      <td>Columbia</td>\n      <td>MS</td>\n      <td>...</td>\n      <td>None</td>\n      <td>None</td>\n      <td>http://sports.core.api.espn.com/v2/sports/foot...</td>\n      <td>6</td>\n      <td>True</td>\n      <td>1.0</td>\n      <td>2019.0</td>\n      <td>27.0</td>\n      <td>http://sports.core.api.espn.com/v2/sports/foot...</td>\n      <td>Active</td>\n    </tr>\n    <tr>\n      <th>4</th>\n      <td>4429193</td>\n      <td>Kris Abrams-Draine</td>\n      <td>178.0</td>\n      <td>71.0</td>\n      <td>5' 11\"</td>\n      <td>23</td>\n      <td>2001-10-04T07:00Z</td>\n      <td>NaN</td>\n      <td>Mobile</td>\n      <td>AL</td>\n      <td>...</td>\n      <td>None</td>\n      <td>None</td>\n      <td>http://sports.core.api.espn.com/v2/sports/foot...</td>\n      <td>0</td>\n      <td>True</td>\n      <td>5.0</td>\n      <td>2024.0</td>\n      <td>145.0</td>\n      <td>http://sports.core.api.espn.com/v2/sports/foot...</td>\n      <td>Active</td>\n    </tr>\n    <tr>\n      <th>...</th>\n      <td>...</td>\n      <td>...</td>\n      <td>...</td>\n      <td>...</td>\n      <td>...</td>\n      <td>...</td>\n      <td>...</td>\n      <td>...</td>\n      <td>...</td>\n      <td>...</td>\n      <td>...</td>\n      <td>...</td>\n      <td>...</td>\n      <td>...</td>\n      <td>...</td>\n      <td>...</td>\n      <td>...</td>\n      <td>...</td>\n      <td>...</td>\n      <td>...</td>\n      <td>...</td>\n    </tr>\n    <tr>\n      <th>1743</th>\n      <td>4710661</td>\n      <td>Chandler Zavala</td>\n      <td>322.0</td>\n      <td>75.0</td>\n      <td>6' 3\"</td>\n      <td>25</td>\n      <td>1999-04-02T08:00Z</td>\n      <td>NaN</td>\n      <td>Boynton Beach</td>\n      <td>FL</td>\n      <td>...</td>\n      <td>None</td>\n      <td>None</td>\n      <td>http://sports.core.api.espn.com/v2/sports/foot...</td>\n      <td>2</td>\n      <td>True</td>\n      <td>4.0</td>\n      <td>2023.0</td>\n      <td>114.0</td>\n      <td>http://sports.core.api.espn.com/v2/sports/foot...</td>\n      <td>Active</td>\n    </tr>\n    <tr>\n      <th>1744</th>\n      <td>14931</td>\n      <td>Kevin Zeitler</td>\n      <td>340.0</td>\n      <td>76.0</td>\n      <td>6' 4\"</td>\n      <td>34</td>\n      <td>1990-03-08T08:00Z</td>\n      <td>2012.0</td>\n      <td>Waukesha</td>\n      <td>WI</td>\n      <td>...</td>\n      <td>None</td>\n      <td>None</td>\n      <td>http://sports.core.api.espn.com/v2/sports/foot...</td>\n      <td>13</td>\n      <td>True</td>\n      <td>1.0</td>\n      <td>2012.0</td>\n      <td>27.0</td>\n      <td>http://sports.core.api.espn.com/v2/sports/foot...</td>\n      <td>Active</td>\n    </tr>\n    <tr>\n      <th>1745</th>\n      <td>4433963</td>\n      <td>Zak Zinter</td>\n      <td>310.0</td>\n      <td>78.0</td>\n      <td>6' 6\"</td>\n      <td>23</td>\n      <td>2001-04-17T07:00Z</td>\n      <td>NaN</td>\n      <td>North Andover</td>\n      <td>MA</td>\n      <td>...</td>\n      <td>None</td>\n      <td>None</td>\n      <td>http://sports.core.api.espn.com/v2/sports/foot...</td>\n      <td>0</td>\n      <td>True</td>\n      <td>3.0</td>\n      <td>2024.0</td>\n      <td>85.0</td>\n      <td>http://sports.core.api.espn.com/v2/sports/foot...</td>\n      <td>Active</td>\n    </tr>\n    <tr>\n      <th>1746</th>\n      <td>14993</td>\n      <td>Greg Zuerlein</td>\n      <td>195.0</td>\n      <td>72.0</td>\n      <td>6' 0\"</td>\n      <td>36</td>\n      <td>1987-12-27T08:00Z</td>\n      <td>2012.0</td>\n      <td>Lincoln</td>\n      <td>NE</td>\n      <td>...</td>\n      <td>None</td>\n      <td>None</td>\n      <td>http://sports.core.api.espn.com/v2/sports/foot...</td>\n      <td>13</td>\n      <td>True</td>\n      <td>6.0</td>\n      <td>2012.0</td>\n      <td>171.0</td>\n      <td>http://sports.core.api.espn.com/v2/sports/foot...</td>\n      <td>Active</td>\n    </tr>\n    <tr>\n      <th>1747</th>\n      <td>3915123</td>\n      <td>Jabari Zuniga</td>\n      <td>264.0</td>\n      <td>75.0</td>\n      <td>6' 3\"</td>\n      <td>27</td>\n      <td>1997-08-14T07:00Z</td>\n      <td>2020.0</td>\n      <td>Marietta</td>\n      <td>GA</td>\n      <td>...</td>\n      <td>Not Specified</td>\n      <td>Not Specified</td>\n      <td>http://sports.core.api.espn.com/v2/sports/foot...</td>\n      <td>4</td>\n      <td>True</td>\n      <td>3.0</td>\n      <td>2020.0</td>\n      <td>79.0</td>\n      <td>http://sports.core.api.espn.com/v2/sports/foot...</td>\n      <td>Active</td>\n    </tr>\n  </tbody>\n</table>\n<p>1748 rows × 32 columns</p>\n</div>"
     },
     "execution_count": 6,
     "metadata": {},
     "output_type": "execute_result"
    }
   ],
   "source": [
    "fetch.athletes(year = 2024)"
   ],
   "metadata": {
    "collapsed": false,
    "ExecuteTime": {
     "end_time": "2024-10-17T05:28:28.417971Z",
     "start_time": "2024-10-17T05:27:10.411555Z"
    }
   },
   "id": "132b107eddbec551"
  },
  {
   "cell_type": "code",
   "execution_count": 61,
   "outputs": [
    {
     "name": "stderr",
     "output_type": "stream",
     "text": [
      "Fetching athlete data: 100%|██████████| 1750/1750 [13:47<00:00,  2.12it/s]\n"
     ]
    }
   ],
   "source": [
    "#url = 'https://sports.core.api.espn.com/v3/sports/football/nfl/athletes?&dates=2024'\n",
    "#url = 'https://sports.core.api.espn.com/v3/sports/football/nfl/athletes'\n",
    "#https://sports.core.api.espn.com/v2/sports/football/leagues/nfl/seasons/2024/athletes?&active=True&limit=1000 ### bio / notes\n",
    "#https://site.web.api.espn.com/apis/common/v3/sports/football/nfl/athletes/4362887/splits  ##### splits\n",
    "# http://sports.core.api.espn.com/v2/sports/football/leagues/nfl/seasons/2024/types/2/athletes/4362887/statistics ### deeper stats\n",
    "# Add filters as query parameters\n",
    "\n",
    "athlete_dict = {'id':[], 'name':[], 'weight':[], 'height':[], 'display_height':[], 'age':[], 'date_of_birth':[], 'debut_year':[],\n",
    "                'birth_city':[],\n",
    "                'birth_state':[], 'birth_country':[], 'college':[], 'headshot':[], 'jersey':[], 'position':[], 'position_abbv':[],\n",
    "                'injury_status':[], 'injury_date':[], 'injury_link':[], 'injury_type':[], 'injury_return_date':[],\n",
    "                'injury_location':[], 'injury_detail':[], 'injury_side':[], 'team':[],\n",
    "                'experience':[], 'active':[], 'draft_round':[], 'draft_year':[], 'draft_selection':[], 'draft_team':[], 'status':[]}\n",
    "\n",
    "base_url = 'https://sports.core.api.espn.com/v2/sports/football/leagues/nfl/seasons/2024/athletes?&active=True&limit=1000'\n",
    "\n",
    "# Send the GET request with the parameters\n",
    "response = requests.get(base_url)\n",
    "\n",
    "athlete_id_list = []\n",
    "\n",
    "# Initialize page index\n",
    "page_index = 1\n",
    "while True:\n",
    "    url = f\"{base_url}&page={page_index}\"\n",
    "    response = requests.get(url)\n",
    "    if response.status_code == 200:\n",
    "        data = response.json()\n",
    "        for x in data['items']:\n",
    "            athlete_url = x['$ref']\n",
    "            athlete_id = re.search(r'/athletes/(\\d+)', athlete_url).group(1)\n",
    "            athlete_id_list.append(athlete_id)\n",
    "        if page_index >= data['pageCount']:\n",
    "            break  \n",
    "        page_index += 1\n",
    "    else:\n",
    "        print(f\"Failed to fetch data from {url}, status code: {response.status_code}\")\n",
    "        break\n",
    "    \n",
    "for id in tqdm(athlete_id_list, desc=\"Fetching athlete data\"):\n",
    "    url = f'https://sports.core.api.espn.com/v2/sports/football/leagues/nfl/seasons/2024/athletes/{id}?lang=en&region=us'\n",
    "    \n",
    "    response = requests.get(url)\n",
    "    if response.status_code == 200:\n",
    "        data = response.json()\n",
    "        name = data['fullName']\n",
    "        weight = data.get('weight', None)\n",
    "        height = data.get('height', None)\n",
    "        display_height = data.get('displayHeight', None)\n",
    "        age = data.get('age', None)\n",
    "        date_of_birth = data.get('dateOfBirth', None)\n",
    "        debut_year = data.get('debutYear', None)\n",
    "        \n",
    "        birth_city = data.get('birthPlace', {}).get('city', None)\n",
    "        birth_state = data.get('birthPlace', {}).get('state', None)\n",
    "        birth_country = data.get('birthPlace', {}).get('country', None)\n",
    "        \n",
    "        college = data.get('college', {}).get('$ref', None)\n",
    "        headshot = data.get('headshot', {}).get('href', None)\n",
    "        jersey = data.get('jersey', None)\n",
    "        \n",
    "        position = data.get('position', {}).get('name', None)\n",
    "        position_abbv = data.get('position', {}).get('abbreviation', None)\n",
    "    \n",
    "        # Check if there are injuries before accessing\n",
    "        if data.get('injuries') and len(data['injuries']) > 0:\n",
    "            injury_status = data['injuries'][0].get('status', None)\n",
    "            injury_date = data['injuries'][0].get('date', None)\n",
    "            injury_link = data['injuries'][0].get('$ref', None)\n",
    "            injury_type = data['injuries'][0].get('details', {}).get('type', None)\n",
    "            injury_return_date = data['injuries'][0].get('details', {}).get('returnDate', None)\n",
    "            injury_location = data['injuries'][0].get('details', {}).get('location', None)\n",
    "            injury_detail = data['injuries'][0].get('details', {}).get('detail', None)\n",
    "            injury_side = data['injuries'][0].get('details', {}).get('side', None)\n",
    "        else:\n",
    "            injury_status = injury_date = injury_link = injury_type = injury_return_date = None\n",
    "            injury_location = injury_detail = injury_side = None\n",
    "    \n",
    "        team = data.get('team', {}).get('$ref', None)\n",
    "        experience = data.get('experience', {}).get('years', None)\n",
    "        active = data.get('active', None)\n",
    "        \n",
    "        draft_round = data.get('draft', {}).get('round', None)\n",
    "        draft_year = data.get('draft', {}).get('year', None)\n",
    "        draft_selection = data.get('draft', {}).get('selection', None)\n",
    "        draft_team = data.get('draft', {}).get('team', {}).get('$ref', None)\n",
    "        \n",
    "        status = data.get('status', {}).get('name', None)\n",
    "        \n",
    "        athlete_dict['id'].append(id)\n",
    "        athlete_dict['name'].append(name)\n",
    "        athlete_dict['weight'].append(weight)\n",
    "        athlete_dict['height'].append(height)\n",
    "        athlete_dict['display_height'].append(display_height)\n",
    "        athlete_dict['age'].append(age)\n",
    "        athlete_dict['date_of_birth'].append(date_of_birth)\n",
    "        athlete_dict['debut_year'].append(draft_year)\n",
    "        athlete_dict['birth_city'].append(birth_city)\n",
    "        athlete_dict['birth_state'].append(birth_state)\n",
    "        athlete_dict['birth_country'].append(birth_country)\n",
    "        athlete_dict['college'].append(college)\n",
    "        athlete_dict['headshot'].append(headshot)\n",
    "        athlete_dict['jersey'].append(jersey)\n",
    "        athlete_dict['position'].append(position)\n",
    "        athlete_dict['position_abbv'].append(position_abbv)\n",
    "        athlete_dict['injury_status'].append(injury_status)\n",
    "        athlete_dict['injury_date'].append(injury_date)\n",
    "        athlete_dict['injury_link'].append(injury_link)\n",
    "        athlete_dict['injury_type'].append(injury_type)\n",
    "        athlete_dict['injury_return_date'].append(injury_return_date)\n",
    "        athlete_dict['injury_location'].append(injury_location)\n",
    "        athlete_dict['injury_detail'].append(injury_detail)\n",
    "        athlete_dict['injury_side'].append(injury_side)\n",
    "        athlete_dict['team'].append(team)\n",
    "        athlete_dict['experience'].append(experience)\n",
    "        athlete_dict['active'].append(active)\n",
    "        athlete_dict['draft_round'].append(draft_round)\n",
    "        athlete_dict['draft_year'].append(draft_year)\n",
    "        athlete_dict['draft_selection'].append(draft_selection)\n",
    "        athlete_dict['draft_team'].append(draft_team)\n",
    "        athlete_dict['status'].append(status)\n",
    "\n",
    "athlete_df = pd.DataFrame(athlete_dict)  \n"
   ],
   "metadata": {
    "collapsed": false,
    "ExecuteTime": {
     "end_time": "2024-10-17T04:38:50.115178Z",
     "start_time": "2024-10-17T04:25:01.056195Z"
    }
   },
   "id": "55301ccf2f5c0a44"
  },
  {
   "cell_type": "code",
   "execution_count": 65,
   "outputs": [
    {
     "data": {
      "text/plain": "1750"
     },
     "execution_count": 65,
     "metadata": {},
     "output_type": "execute_result"
    }
   ],
   "source": [
    "len(athlete_id_list)"
   ],
   "metadata": {
    "collapsed": false,
    "ExecuteTime": {
     "end_time": "2024-10-17T04:42:34.786250Z",
     "start_time": "2024-10-17T04:42:34.780024Z"
    }
   },
   "id": "c7f562ea05d37eb2"
  },
  {
   "cell_type": "code",
   "execution_count": 63,
   "outputs": [],
   "source": [
    "athlete_df.to_csv('athletes.csv')"
   ],
   "metadata": {
    "collapsed": false,
    "ExecuteTime": {
     "end_time": "2024-10-17T04:41:14.242356Z",
     "start_time": "2024-10-17T04:41:14.215015Z"
    }
   },
   "id": "b4ed4cbc71f55241"
  },
  {
   "cell_type": "code",
   "execution_count": 54,
   "outputs": [
    {
     "data": {
      "text/plain": "{'$ref': 'http://sports.core.api.espn.com/v2/sports/football/leagues/nfl/seasons/2024/athletes/3915123?lang=en&region=us',\n 'id': '3915123',\n 'uid': 's:20~l:28~a:3915123',\n 'guid': 'b9542609-1a89-36d1-6c3f-94b3f06efeb7',\n 'type': 'football',\n 'alternateIds': {'sdr': '3915123'},\n 'firstName': 'Jabari',\n 'lastName': 'Zuniga',\n 'fullName': 'Jabari Zuniga',\n 'displayName': 'Jabari Zuniga',\n 'shortName': 'J. Zuniga',\n 'weight': 264.0,\n 'displayWeight': '264 lbs',\n 'height': 75.0,\n 'displayHeight': '6\\' 3\"',\n 'age': 27,\n 'dateOfBirth': '1997-08-14T07:00Z',\n 'debutYear': 2020,\n 'links': [{'language': 'en-US',\n   'rel': ['playercard', 'desktop', 'athlete'],\n   'href': 'https://www.espn.com/nfl/player/_/id/3915123/jabari-zuniga',\n   'text': 'Player Card',\n   'shortText': 'Player Card',\n   'isExternal': False,\n   'isPremium': False},\n  {'language': 'en-US',\n   'rel': ['stats', 'desktop', 'athlete'],\n   'href': 'https://www.espn.com/nfl/player/stats/_/id/3915123/jabari-zuniga',\n   'text': 'Stats',\n   'shortText': 'Stats',\n   'isExternal': False,\n   'isPremium': False},\n  {'language': 'en-US',\n   'rel': ['splits', 'desktop', 'athlete'],\n   'href': 'https://www.espn.com/nfl/player/splits/_/id/3915123/jabari-zuniga',\n   'text': 'Splits',\n   'shortText': 'Splits',\n   'isExternal': False,\n   'isPremium': False},\n  {'language': 'en-US',\n   'rel': ['gamelog', 'desktop', 'athlete'],\n   'href': 'https://www.espn.com/nfl/player/gamelog/_/id/3915123/jabari-zuniga',\n   'text': 'Game Log',\n   'shortText': 'Game Log',\n   'isExternal': False,\n   'isPremium': False},\n  {'language': 'en-US',\n   'rel': ['news', 'desktop', 'athlete'],\n   'href': 'https://www.espn.com/nfl/player/news/_/id/3915123/jabari-zuniga',\n   'text': 'News',\n   'shortText': 'News',\n   'isExternal': False,\n   'isPremium': False},\n  {'language': 'en-US',\n   'rel': ['bio', 'desktop', 'athlete'],\n   'href': 'https://www.espn.com/nfl/player/bio/_/id/3915123/jabari-zuniga',\n   'text': 'Bio',\n   'shortText': 'Bio',\n   'isExternal': False,\n   'isPremium': False},\n  {'language': 'en-US',\n   'rel': ['overview', 'desktop', 'athlete'],\n   'href': 'https://www.espn.com/nfl/player/_/id/3915123/jabari-zuniga',\n   'text': 'Overview',\n   'shortText': 'Overview',\n   'isExternal': False,\n   'isPremium': False}],\n 'birthPlace': {'city': 'Marietta', 'state': 'GA', 'country': 'USA'},\n 'college': {'$ref': 'http://sports.core.api.espn.com/v2/colleges/57?lang=en&region=us'},\n 'slug': 'jabari-zuniga',\n 'headshot': {'href': 'https://a.espncdn.com/i/headshots/nfl/players/full/3915123.png',\n  'alt': 'Jabari Zuniga'},\n 'jersey': '91',\n 'position': {'$ref': 'http://sports.core.api.espn.com/v2/sports/football/leagues/nfl/positions/31?lang=en&region=us',\n  'id': '31',\n  'name': 'Defensive End',\n  'displayName': 'Defensive End',\n  'abbreviation': 'DE',\n  'leaf': False,\n  'parent': {'$ref': 'http://sports.core.api.espn.com/v2/sports/football/leagues/nfl/positions/71?lang=en&region=us'}},\n 'injuries': [{'$ref': 'http://sports.core.api.espn.com/v2/sports/football/leagues/nfl/seasons/2024/athletes/3915123/injuries/-1528849?lang=en&region=us',\n   'id': '-1528849',\n   'longComment': 'reserve-ret',\n   'shortComment': 'reserve-ret',\n   'status': 'Reserve-Ret',\n   'date': '2024-03-08T05:04Z',\n   'athlete': {'$ref': 'http://sports.core.api.espn.com/v2/sports/football/leagues/nfl/seasons/2024/athletes/3915123?lang=en&region=us'},\n   'team': {'$ref': 'http://sports.core.api.espn.com/v2/sports/football/leagues/nfl/seasons/2024/teams/18?lang=en&region=us'},\n   'source': {'id': '1', 'description': 'basic/manual', 'state': 'basic'},\n   'type': {'id': '18',\n    'name': 'INJURY_STATUS_RESERVE_RET',\n    'description': 'Reserve-Ret',\n    'abbreviation': 'RR'},\n   'details': {'fantasyStatus': {'description': 'RESERVE-RET',\n     'abbreviation': 'RESERVE-RET'},\n    'type': 'Undisclosed',\n    'location': 'Other',\n    'detail': 'Not Specified',\n    'side': 'Not Specified',\n    'returnDate': '2025-02-10'}}],\n 'linked': True,\n 'team': {'$ref': 'http://sports.core.api.espn.com/v2/sports/football/leagues/nfl/seasons/2024/teams/18?lang=en&region=us'},\n 'notes': {'$ref': 'http://sports.core.api.espn.com/v2/sports/football/leagues/nfl/seasons/2024/athletes/3915123/notes?lang=en&region=us'},\n 'contracts': {'$ref': 'http://sports.core.api.espn.com/v2/sports/football/leagues/nfl/athletes/3915123/contracts?lang=en&region=us'},\n 'experience': {'years': 4},\n 'collegeAthlete': {'$ref': 'http://sports.core.api.espn.com/v2/sports/football/leagues/college-football/athletes/3915123?lang=en&region=us'},\n 'active': True,\n 'eventLog': {'$ref': 'http://sports.core.api.espn.com/v2/sports/football/leagues/nfl/seasons/2024/athletes/3915123/eventlog?lang=en&region=us'},\n 'draft': {'displayText': 'Year: 2020 Round: 3 Pick: 79',\n  'round': 3,\n  'year': 2020,\n  'selection': 79,\n  'team': {'$ref': 'http://sports.core.api.espn.com/v2/sports/football/leagues/nfl/seasons/2020/teams/20?lang=en&region=us'}},\n 'status': {'id': '1',\n  'name': 'Active',\n  'type': 'active',\n  'abbreviation': 'Active'}}"
     },
     "execution_count": 54,
     "metadata": {},
     "output_type": "execute_result"
    }
   ],
   "source": [
    "athlete_dict = {'id':[], 'name':[], 'weight':[], 'height':[], 'display_height':[], 'age':[], 'date_of_birth':[], 'debut_year':[],\n",
    "                'birth_city':[],\n",
    "                'birth_state':[], 'birth_country':[], 'college':[], 'headshot':[], 'jersey':[], 'position':[], 'position_abbv':[],\n",
    "                'injury_status':[], 'injury_date':[], 'injury_link':[], 'injury_type':[], 'injury_return_date':[],\n",
    "                'injury_location':[], 'injury_detail':[], 'injury_side':[], 'team':[],\n",
    "                'experience':[], 'active':[], 'draft_round':[], 'draft_year':[], 'draft_selection':[], 'draft_team':[], 'status':[]}\n",
    "\n",
    "for x in data:\n",
    "    name = x['fullName']\n",
    "    weight = x.get('weight', None)\n",
    "    height = x.get('height', None)\n",
    "    display_height = x.get('displayHeight', None)\n",
    "    age = x.get('age', None)\n",
    "    date_of_birth = x.get('dateOfBirth', None)\n",
    "    debut_year = x.get('debutYear', None)\n",
    "    \n",
    "    birth_city = x.get('birthPlace', {}).get('city', None)\n",
    "    birth_state = x.get('birthPlace', {}).get('state', None)\n",
    "    birth_country = x.get('birthPlace', {}).get('country', None)\n",
    "    \n",
    "    college = x.get('college', {}).get('$ref', None)\n",
    "    headshot = x.get('headshot', {}).get('href', None)\n",
    "    jersey = x.get('jersey', None)\n",
    "    \n",
    "    position = x.get('position', {}).get('name', None)\n",
    "    position_abbv = x.get('position', {}).get('abbreviation', None)\n",
    "\n",
    "    # Check if there are injuries before accessing\n",
    "    if x.get('injuries') and len(x['injuries']) > 0:\n",
    "        injury_status = x['injuries'][0].get('status', None)\n",
    "        injury_date = x['injuries'][0].get('date', None)\n",
    "        injury_link = x['injuries'][0].get('$ref', None)\n",
    "        injury_type = x['injuries'][0].get('details', {}).get('type', None)\n",
    "        injury_return_date = x['injuries'][0].get('details', {}).get('returnDate', None)\n",
    "        injury_location = x['injuries'][0].get('details', {}).get('location', None)\n",
    "        injury_detail = x['injuries'][0].get('details', {}).get('detail', None)\n",
    "        injury_side = x['injuries'][0].get('details', {}).get('side', None)\n",
    "    else:\n",
    "        injury_status = injury_date = injury_link = injury_type = injury_return_date = None\n",
    "        injury_location = injury_detail = injury_side = None\n",
    "\n",
    "    team = x.get('team', {}).get('$ref', None)\n",
    "    experience = x.get('experience', {}).get('years', None)\n",
    "    active = x.get('active', None)\n",
    "    \n",
    "    draft_round = x.get('draft', {}).get('round', None)\n",
    "    draft_year = x.get('draft', {}).get('year', None)\n",
    "    draft_selection = x.get('draft', {}).get('selection', None)\n",
    "    draft_team = x.get('draft', {}).get('team', {}).get('$ref', None)\n",
    "    \n",
    "    status = x.get('status', {}).get('name', None)\n",
    "\n",
    "    \n",
    "    \n",
    "    \n",
    "    "
   ],
   "metadata": {
    "collapsed": false,
    "ExecuteTime": {
     "end_time": "2024-10-17T03:42:52.957332Z",
     "start_time": "2024-10-17T03:42:52.946249Z"
    }
   },
   "id": "fdf70d6f326c82d4"
  },
  {
   "cell_type": "code",
   "execution_count": 55,
   "outputs": [
    {
     "data": {
      "text/plain": "{'$ref': 'http://sports.core.api.espn.com/v2/sports/football/leagues/nfl/seasons/2024/athletes/3915123?lang=en&region=us',\n 'id': '3915123',\n 'uid': 's:20~l:28~a:3915123',\n 'guid': 'b9542609-1a89-36d1-6c3f-94b3f06efeb7',\n 'type': 'football',\n 'alternateIds': {'sdr': '3915123'},\n 'firstName': 'Jabari',\n 'lastName': 'Zuniga',\n 'fullName': 'Jabari Zuniga',\n 'displayName': 'Jabari Zuniga',\n 'shortName': 'J. Zuniga',\n 'weight': 264.0,\n 'displayWeight': '264 lbs',\n 'height': 75.0,\n 'displayHeight': '6\\' 3\"',\n 'age': 27,\n 'dateOfBirth': '1997-08-14T07:00Z',\n 'debutYear': 2020,\n 'links': [{'language': 'en-US',\n   'rel': ['playercard', 'desktop', 'athlete'],\n   'href': 'https://www.espn.com/nfl/player/_/id/3915123/jabari-zuniga',\n   'text': 'Player Card',\n   'shortText': 'Player Card',\n   'isExternal': False,\n   'isPremium': False},\n  {'language': 'en-US',\n   'rel': ['stats', 'desktop', 'athlete'],\n   'href': 'https://www.espn.com/nfl/player/stats/_/id/3915123/jabari-zuniga',\n   'text': 'Stats',\n   'shortText': 'Stats',\n   'isExternal': False,\n   'isPremium': False},\n  {'language': 'en-US',\n   'rel': ['splits', 'desktop', 'athlete'],\n   'href': 'https://www.espn.com/nfl/player/splits/_/id/3915123/jabari-zuniga',\n   'text': 'Splits',\n   'shortText': 'Splits',\n   'isExternal': False,\n   'isPremium': False},\n  {'language': 'en-US',\n   'rel': ['gamelog', 'desktop', 'athlete'],\n   'href': 'https://www.espn.com/nfl/player/gamelog/_/id/3915123/jabari-zuniga',\n   'text': 'Game Log',\n   'shortText': 'Game Log',\n   'isExternal': False,\n   'isPremium': False},\n  {'language': 'en-US',\n   'rel': ['news', 'desktop', 'athlete'],\n   'href': 'https://www.espn.com/nfl/player/news/_/id/3915123/jabari-zuniga',\n   'text': 'News',\n   'shortText': 'News',\n   'isExternal': False,\n   'isPremium': False},\n  {'language': 'en-US',\n   'rel': ['bio', 'desktop', 'athlete'],\n   'href': 'https://www.espn.com/nfl/player/bio/_/id/3915123/jabari-zuniga',\n   'text': 'Bio',\n   'shortText': 'Bio',\n   'isExternal': False,\n   'isPremium': False},\n  {'language': 'en-US',\n   'rel': ['overview', 'desktop', 'athlete'],\n   'href': 'https://www.espn.com/nfl/player/_/id/3915123/jabari-zuniga',\n   'text': 'Overview',\n   'shortText': 'Overview',\n   'isExternal': False,\n   'isPremium': False}],\n 'birthPlace': {'city': 'Marietta', 'state': 'GA', 'country': 'USA'},\n 'college': {'$ref': 'http://sports.core.api.espn.com/v2/colleges/57?lang=en&region=us'},\n 'slug': 'jabari-zuniga',\n 'headshot': {'href': 'https://a.espncdn.com/i/headshots/nfl/players/full/3915123.png',\n  'alt': 'Jabari Zuniga'},\n 'jersey': '91',\n 'position': {'$ref': 'http://sports.core.api.espn.com/v2/sports/football/leagues/nfl/positions/31?lang=en&region=us',\n  'id': '31',\n  'name': 'Defensive End',\n  'displayName': 'Defensive End',\n  'abbreviation': 'DE',\n  'leaf': False,\n  'parent': {'$ref': 'http://sports.core.api.espn.com/v2/sports/football/leagues/nfl/positions/71?lang=en&region=us'}},\n 'injuries': [{'$ref': 'http://sports.core.api.espn.com/v2/sports/football/leagues/nfl/seasons/2024/athletes/3915123/injuries/-1528849?lang=en&region=us',\n   'id': '-1528849',\n   'longComment': 'reserve-ret',\n   'shortComment': 'reserve-ret',\n   'status': 'Reserve-Ret',\n   'date': '2024-03-08T05:04Z',\n   'athlete': {'$ref': 'http://sports.core.api.espn.com/v2/sports/football/leagues/nfl/seasons/2024/athletes/3915123?lang=en&region=us'},\n   'team': {'$ref': 'http://sports.core.api.espn.com/v2/sports/football/leagues/nfl/seasons/2024/teams/18?lang=en&region=us'},\n   'source': {'id': '1', 'description': 'basic/manual', 'state': 'basic'},\n   'type': {'id': '18',\n    'name': 'INJURY_STATUS_RESERVE_RET',\n    'description': 'Reserve-Ret',\n    'abbreviation': 'RR'},\n   'details': {'fantasyStatus': {'description': 'RESERVE-RET',\n     'abbreviation': 'RESERVE-RET'},\n    'type': 'Undisclosed',\n    'location': 'Other',\n    'detail': 'Not Specified',\n    'side': 'Not Specified',\n    'returnDate': '2025-02-10'}}],\n 'linked': True,\n 'team': {'$ref': 'http://sports.core.api.espn.com/v2/sports/football/leagues/nfl/seasons/2024/teams/18?lang=en&region=us'},\n 'notes': {'$ref': 'http://sports.core.api.espn.com/v2/sports/football/leagues/nfl/seasons/2024/athletes/3915123/notes?lang=en&region=us'},\n 'contracts': {'$ref': 'http://sports.core.api.espn.com/v2/sports/football/leagues/nfl/athletes/3915123/contracts?lang=en&region=us'},\n 'experience': {'years': 4},\n 'collegeAthlete': {'$ref': 'http://sports.core.api.espn.com/v2/sports/football/leagues/college-football/athletes/3915123?lang=en&region=us'},\n 'active': True,\n 'eventLog': {'$ref': 'http://sports.core.api.espn.com/v2/sports/football/leagues/nfl/seasons/2024/athletes/3915123/eventlog?lang=en&region=us'},\n 'draft': {'displayText': 'Year: 2020 Round: 3 Pick: 79',\n  'round': 3,\n  'year': 2020,\n  'selection': 79,\n  'team': {'$ref': 'http://sports.core.api.espn.com/v2/sports/football/leagues/nfl/seasons/2020/teams/20?lang=en&region=us'}},\n 'status': {'id': '1',\n  'name': 'Active',\n  'type': 'active',\n  'abbreviation': 'Active'}}"
     },
     "execution_count": 55,
     "metadata": {},
     "output_type": "execute_result"
    }
   ],
   "source": [
    "data"
   ],
   "metadata": {
    "collapsed": false,
    "ExecuteTime": {
     "end_time": "2024-10-17T03:43:12.948554Z",
     "start_time": "2024-10-17T03:43:12.943876Z"
    }
   },
   "id": "509164931334e5e4"
  },
  {
   "cell_type": "code",
   "execution_count": null,
   "outputs": [],
   "source": [],
   "metadata": {
    "collapsed": false
   },
   "id": "69154f84958090ef"
  },
  {
   "cell_type": "code",
   "execution_count": null,
   "outputs": [],
   "source": [],
   "metadata": {
    "collapsed": false
   },
   "id": "c09f90a9ff8522b2"
  },
  {
   "cell_type": "code",
   "execution_count": null,
   "outputs": [],
   "source": [],
   "metadata": {
    "collapsed": false
   },
   "id": "2a4a395750cb3bd4"
  },
  {
   "cell_type": "code",
   "execution_count": 5,
   "outputs": [
    {
     "name": "stdout",
     "output_type": "stream",
     "text": [
      "https://site.api.espn.com/apis/site/v2/sports/football/nfl/scoreboard?limit=1000&dates=2024&seasontype=2&week=1\n",
      "https://site.api.espn.com/apis/site/v2/sports/football/nfl/scoreboard?limit=1000&dates=2024&seasontype=2&week=2\n",
      "https://site.api.espn.com/apis/site/v2/sports/football/nfl/scoreboard?limit=1000&dates=2024&seasontype=2&week=3\n",
      "https://site.api.espn.com/apis/site/v2/sports/football/nfl/scoreboard?limit=1000&dates=2024&seasontype=2&week=4\n",
      "https://site.api.espn.com/apis/site/v2/sports/football/nfl/scoreboard?limit=1000&dates=2024&seasontype=2&week=5\n",
      "https://site.api.espn.com/apis/site/v2/sports/football/nfl/scoreboard?limit=1000&dates=2024&seasontype=2&week=6\n",
      "https://site.api.espn.com/apis/site/v2/sports/football/nfl/scoreboard?limit=1000&dates=2024&seasontype=2&week=7\n",
      "https://site.api.espn.com/apis/site/v2/sports/football/nfl/scoreboard?limit=1000&dates=2024&seasontype=2&week=8\n",
      "https://site.api.espn.com/apis/site/v2/sports/football/nfl/scoreboard?limit=1000&dates=2024&seasontype=2&week=9\n",
      "https://site.api.espn.com/apis/site/v2/sports/football/nfl/scoreboard?limit=1000&dates=2024&seasontype=2&week=10\n",
      "https://site.api.espn.com/apis/site/v2/sports/football/nfl/scoreboard?limit=1000&dates=2024&seasontype=2&week=11\n",
      "https://site.api.espn.com/apis/site/v2/sports/football/nfl/scoreboard?limit=1000&dates=2024&seasontype=2&week=12\n",
      "https://site.api.espn.com/apis/site/v2/sports/football/nfl/scoreboard?limit=1000&dates=2024&seasontype=2&week=13\n",
      "https://site.api.espn.com/apis/site/v2/sports/football/nfl/scoreboard?limit=1000&dates=2024&seasontype=2&week=14\n",
      "https://site.api.espn.com/apis/site/v2/sports/football/nfl/scoreboard?limit=1000&dates=2024&seasontype=2&week=15\n",
      "https://site.api.espn.com/apis/site/v2/sports/football/nfl/scoreboard?limit=1000&dates=2024&seasontype=2&week=16\n",
      "https://site.api.espn.com/apis/site/v2/sports/football/nfl/scoreboard?limit=1000&dates=2024&seasontype=2&week=17\n",
      "https://site.api.espn.com/apis/site/v2/sports/football/nfl/scoreboard?limit=1000&dates=2024&seasontype=2&week=18\n"
     ]
    },
    {
     "name": "stderr",
     "output_type": "stream",
     "text": [
      "100%|██████████| 92/92 [00:17<00:00,  5.23it/s]\n"
     ]
    },
    {
     "data": {
      "text/plain": "                opponent_  yards_sum  yards_per_attempt_mean  \\\n0       Arizona Cardinals       1382                8.283333   \n1         Atlanta Falcons       1196                6.400000   \n2        Baltimore Ravens       1789                7.157143   \n3           Buffalo Bills       1369                5.666667   \n4       Carolina Panthers       1387                6.887500   \n5           Chicago Bears       1212                6.650000   \n6      Cincinnati Bengals       1299                5.828571   \n7        Cleveland Browns       1265                5.575000   \n8          Dallas Cowboys       1359               10.512500   \n9          Denver Broncos       1144                6.114286   \n10          Detroit Lions       1328                6.500000   \n11      Green Bay Packers       1491                7.350000   \n12         Houston Texans       1110                6.550000   \n13     Indianapolis Colts       1497                7.766667   \n14   Jacksonville Jaguars       1744                9.375000   \n15     Kansas City Chiefs       1122                6.116667   \n16      Las Vegas Raiders       1237                6.750000   \n17   Los Angeles Chargers       1047                6.720000   \n18       Los Angeles Rams       1156                9.120000   \n19         Miami Dolphins        860                6.583333   \n20      Minnesota Vikings       1445                7.357143   \n21   New England Patriots       1446                6.328571   \n22     New Orleans Saints       1665                5.925000   \n23        New York Giants       1343                7.416667   \n24          New York Jets       1021                7.100000   \n25    Philadelphia Eagles       1158                6.050000   \n26    Pittsburgh Steelers       1368                8.787500   \n27    San Francisco 49ers       1367                5.488889   \n28       Seattle Seahawks       1284                7.550000   \n29   Tampa Bay Buccaneers       1634                7.062500   \n30       Tennessee Titans        756                5.820000   \n31  Washington Commanders       1397                9.128571   \n\n    yards_per_completion_mean  touchdowns_sum  touchdown_%_mean  \\\n0                   11.473964              10          6.013630   \n1                    8.664757               8          4.370783   \n2                   10.687245              11          4.094196   \n3                    8.524881               8          3.257151   \n4                   11.199941              12          6.453717   \n5                   10.514753               4          1.452133   \n6                   10.008932              10          4.459923   \n7                   10.822055               6          2.625919   \n8                   14.777779               9          5.099537   \n9                    9.499626               5          2.979119   \n10                  10.202111               4          2.005144   \n11                  11.390465              10          5.127898   \n12                  12.977046              12          7.216146   \n13                  10.714331               9          4.961041   \n14                  11.883454              14          5.205915   \n15                  10.345260               7          3.714903   \n16                  10.172384               8          4.237974   \n17                   9.801965               5          3.132837   \n18                  13.028794              10          7.979455   \n19                  10.329060               3          2.161040   \n20                  10.779023               8          2.444956   \n21                  11.283967               7          3.052591   \n22                  10.951005               5          1.709402   \n23                  10.207078               7          3.941024   \n24                  11.128916               4          1.946429   \n25                  11.910728               7          3.505704   \n26                  12.389521               7          3.044490   \n27                  11.132660               8          4.666953   \n28                  10.415039               9         16.426432   \n29                  11.062174               6          1.591236   \n30                   9.481430               5          3.438596   \n31                  11.956773              12          5.761995   \n\n    interceptions_sum  adjusted_qbr_mean  passer_rating_mean  \\\n0                   5          59.283333          103.883333   \n1                   5          57.800000           94.483333   \n2                   3          48.828571           95.128571   \n3                   6          34.944444           84.966667   \n4                   3          66.862500          101.412500   \n5                   7          39.000000           74.037500   \n6                   4          49.457143           85.400000   \n7                   1          41.812500           79.087500   \n8                   4          59.462500          105.762500   \n9                   5          46.914286           78.457143   \n10                  7          42.616667           70.583333   \n11                  9          48.250000           85.666667   \n12                  5          54.983333           84.200000   \n13                  4          60.000000          101.666667   \n14                  1          57.012500          109.562500   \n15                  2          47.166667           84.050000   \n16                  2          52.966667           95.916667   \n17                  5          44.940000           84.440000   \n18                  2          62.720000          116.540000   \n19                  3          46.850000           79.183333   \n20                 11          47.700000           78.428571   \n21                  3          52.628571           85.842857   \n22                 10          33.800000           66.825000   \n23                  1          59.583333          102.533333   \n24                  2          45.088889           75.055556   \n25                  2          46.550000           83.266667   \n26                  7          42.250000           91.137500   \n27                  6          47.911111           75.055556   \n28                  2          53.975000          102.025000   \n29                  5          39.975000           82.350000   \n30                  1          49.360000           85.240000   \n31                  1          51.571429          112.757143   \n\n    completion_%_mean  \n0           72.765748  \n1           73.768646  \n2           65.134974  \n3           69.140963  \n4           61.895125  \n5           66.171533  \n6           57.695378  \n7           48.537071  \n8           69.017361  \n9           64.607625  \n10          64.401654  \n11          64.986189  \n12          52.566064  \n13          71.748984  \n14          78.168132  \n15          58.064240  \n16          66.853883  \n17          69.241269  \n18          70.035356  \n19          63.819475  \n20          66.567308  \n21          57.527550  \n22          52.584345  \n23          72.428732  \n24          64.900293  \n25          51.393420  \n26          69.804258  \n27          55.836252  \n28          71.457537  \n29          61.188719  \n30          59.645603  \n31          73.811489  ",
      "text/html": "<div>\n<style scoped>\n    .dataframe tbody tr th:only-of-type {\n        vertical-align: middle;\n    }\n\n    .dataframe tbody tr th {\n        vertical-align: top;\n    }\n\n    .dataframe thead th {\n        text-align: right;\n    }\n</style>\n<table border=\"1\" class=\"dataframe\">\n  <thead>\n    <tr style=\"text-align: right;\">\n      <th></th>\n      <th>opponent_</th>\n      <th>yards_sum</th>\n      <th>yards_per_attempt_mean</th>\n      <th>yards_per_completion_mean</th>\n      <th>touchdowns_sum</th>\n      <th>touchdown_%_mean</th>\n      <th>interceptions_sum</th>\n      <th>adjusted_qbr_mean</th>\n      <th>passer_rating_mean</th>\n      <th>completion_%_mean</th>\n    </tr>\n  </thead>\n  <tbody>\n    <tr>\n      <th>0</th>\n      <td>Arizona Cardinals</td>\n      <td>1382</td>\n      <td>8.283333</td>\n      <td>11.473964</td>\n      <td>10</td>\n      <td>6.013630</td>\n      <td>5</td>\n      <td>59.283333</td>\n      <td>103.883333</td>\n      <td>72.765748</td>\n    </tr>\n    <tr>\n      <th>1</th>\n      <td>Atlanta Falcons</td>\n      <td>1196</td>\n      <td>6.400000</td>\n      <td>8.664757</td>\n      <td>8</td>\n      <td>4.370783</td>\n      <td>5</td>\n      <td>57.800000</td>\n      <td>94.483333</td>\n      <td>73.768646</td>\n    </tr>\n    <tr>\n      <th>2</th>\n      <td>Baltimore Ravens</td>\n      <td>1789</td>\n      <td>7.157143</td>\n      <td>10.687245</td>\n      <td>11</td>\n      <td>4.094196</td>\n      <td>3</td>\n      <td>48.828571</td>\n      <td>95.128571</td>\n      <td>65.134974</td>\n    </tr>\n    <tr>\n      <th>3</th>\n      <td>Buffalo Bills</td>\n      <td>1369</td>\n      <td>5.666667</td>\n      <td>8.524881</td>\n      <td>8</td>\n      <td>3.257151</td>\n      <td>6</td>\n      <td>34.944444</td>\n      <td>84.966667</td>\n      <td>69.140963</td>\n    </tr>\n    <tr>\n      <th>4</th>\n      <td>Carolina Panthers</td>\n      <td>1387</td>\n      <td>6.887500</td>\n      <td>11.199941</td>\n      <td>12</td>\n      <td>6.453717</td>\n      <td>3</td>\n      <td>66.862500</td>\n      <td>101.412500</td>\n      <td>61.895125</td>\n    </tr>\n    <tr>\n      <th>5</th>\n      <td>Chicago Bears</td>\n      <td>1212</td>\n      <td>6.650000</td>\n      <td>10.514753</td>\n      <td>4</td>\n      <td>1.452133</td>\n      <td>7</td>\n      <td>39.000000</td>\n      <td>74.037500</td>\n      <td>66.171533</td>\n    </tr>\n    <tr>\n      <th>6</th>\n      <td>Cincinnati Bengals</td>\n      <td>1299</td>\n      <td>5.828571</td>\n      <td>10.008932</td>\n      <td>10</td>\n      <td>4.459923</td>\n      <td>4</td>\n      <td>49.457143</td>\n      <td>85.400000</td>\n      <td>57.695378</td>\n    </tr>\n    <tr>\n      <th>7</th>\n      <td>Cleveland Browns</td>\n      <td>1265</td>\n      <td>5.575000</td>\n      <td>10.822055</td>\n      <td>6</td>\n      <td>2.625919</td>\n      <td>1</td>\n      <td>41.812500</td>\n      <td>79.087500</td>\n      <td>48.537071</td>\n    </tr>\n    <tr>\n      <th>8</th>\n      <td>Dallas Cowboys</td>\n      <td>1359</td>\n      <td>10.512500</td>\n      <td>14.777779</td>\n      <td>9</td>\n      <td>5.099537</td>\n      <td>4</td>\n      <td>59.462500</td>\n      <td>105.762500</td>\n      <td>69.017361</td>\n    </tr>\n    <tr>\n      <th>9</th>\n      <td>Denver Broncos</td>\n      <td>1144</td>\n      <td>6.114286</td>\n      <td>9.499626</td>\n      <td>5</td>\n      <td>2.979119</td>\n      <td>5</td>\n      <td>46.914286</td>\n      <td>78.457143</td>\n      <td>64.607625</td>\n    </tr>\n    <tr>\n      <th>10</th>\n      <td>Detroit Lions</td>\n      <td>1328</td>\n      <td>6.500000</td>\n      <td>10.202111</td>\n      <td>4</td>\n      <td>2.005144</td>\n      <td>7</td>\n      <td>42.616667</td>\n      <td>70.583333</td>\n      <td>64.401654</td>\n    </tr>\n    <tr>\n      <th>11</th>\n      <td>Green Bay Packers</td>\n      <td>1491</td>\n      <td>7.350000</td>\n      <td>11.390465</td>\n      <td>10</td>\n      <td>5.127898</td>\n      <td>9</td>\n      <td>48.250000</td>\n      <td>85.666667</td>\n      <td>64.986189</td>\n    </tr>\n    <tr>\n      <th>12</th>\n      <td>Houston Texans</td>\n      <td>1110</td>\n      <td>6.550000</td>\n      <td>12.977046</td>\n      <td>12</td>\n      <td>7.216146</td>\n      <td>5</td>\n      <td>54.983333</td>\n      <td>84.200000</td>\n      <td>52.566064</td>\n    </tr>\n    <tr>\n      <th>13</th>\n      <td>Indianapolis Colts</td>\n      <td>1497</td>\n      <td>7.766667</td>\n      <td>10.714331</td>\n      <td>9</td>\n      <td>4.961041</td>\n      <td>4</td>\n      <td>60.000000</td>\n      <td>101.666667</td>\n      <td>71.748984</td>\n    </tr>\n    <tr>\n      <th>14</th>\n      <td>Jacksonville Jaguars</td>\n      <td>1744</td>\n      <td>9.375000</td>\n      <td>11.883454</td>\n      <td>14</td>\n      <td>5.205915</td>\n      <td>1</td>\n      <td>57.012500</td>\n      <td>109.562500</td>\n      <td>78.168132</td>\n    </tr>\n    <tr>\n      <th>15</th>\n      <td>Kansas City Chiefs</td>\n      <td>1122</td>\n      <td>6.116667</td>\n      <td>10.345260</td>\n      <td>7</td>\n      <td>3.714903</td>\n      <td>2</td>\n      <td>47.166667</td>\n      <td>84.050000</td>\n      <td>58.064240</td>\n    </tr>\n    <tr>\n      <th>16</th>\n      <td>Las Vegas Raiders</td>\n      <td>1237</td>\n      <td>6.750000</td>\n      <td>10.172384</td>\n      <td>8</td>\n      <td>4.237974</td>\n      <td>2</td>\n      <td>52.966667</td>\n      <td>95.916667</td>\n      <td>66.853883</td>\n    </tr>\n    <tr>\n      <th>17</th>\n      <td>Los Angeles Chargers</td>\n      <td>1047</td>\n      <td>6.720000</td>\n      <td>9.801965</td>\n      <td>5</td>\n      <td>3.132837</td>\n      <td>5</td>\n      <td>44.940000</td>\n      <td>84.440000</td>\n      <td>69.241269</td>\n    </tr>\n    <tr>\n      <th>18</th>\n      <td>Los Angeles Rams</td>\n      <td>1156</td>\n      <td>9.120000</td>\n      <td>13.028794</td>\n      <td>10</td>\n      <td>7.979455</td>\n      <td>2</td>\n      <td>62.720000</td>\n      <td>116.540000</td>\n      <td>70.035356</td>\n    </tr>\n    <tr>\n      <th>19</th>\n      <td>Miami Dolphins</td>\n      <td>860</td>\n      <td>6.583333</td>\n      <td>10.329060</td>\n      <td>3</td>\n      <td>2.161040</td>\n      <td>3</td>\n      <td>46.850000</td>\n      <td>79.183333</td>\n      <td>63.819475</td>\n    </tr>\n    <tr>\n      <th>20</th>\n      <td>Minnesota Vikings</td>\n      <td>1445</td>\n      <td>7.357143</td>\n      <td>10.779023</td>\n      <td>8</td>\n      <td>2.444956</td>\n      <td>11</td>\n      <td>47.700000</td>\n      <td>78.428571</td>\n      <td>66.567308</td>\n    </tr>\n    <tr>\n      <th>21</th>\n      <td>New England Patriots</td>\n      <td>1446</td>\n      <td>6.328571</td>\n      <td>11.283967</td>\n      <td>7</td>\n      <td>3.052591</td>\n      <td>3</td>\n      <td>52.628571</td>\n      <td>85.842857</td>\n      <td>57.527550</td>\n    </tr>\n    <tr>\n      <th>22</th>\n      <td>New Orleans Saints</td>\n      <td>1665</td>\n      <td>5.925000</td>\n      <td>10.951005</td>\n      <td>5</td>\n      <td>1.709402</td>\n      <td>10</td>\n      <td>33.800000</td>\n      <td>66.825000</td>\n      <td>52.584345</td>\n    </tr>\n    <tr>\n      <th>23</th>\n      <td>New York Giants</td>\n      <td>1343</td>\n      <td>7.416667</td>\n      <td>10.207078</td>\n      <td>7</td>\n      <td>3.941024</td>\n      <td>1</td>\n      <td>59.583333</td>\n      <td>102.533333</td>\n      <td>72.428732</td>\n    </tr>\n    <tr>\n      <th>24</th>\n      <td>New York Jets</td>\n      <td>1021</td>\n      <td>7.100000</td>\n      <td>11.128916</td>\n      <td>4</td>\n      <td>1.946429</td>\n      <td>2</td>\n      <td>45.088889</td>\n      <td>75.055556</td>\n      <td>64.900293</td>\n    </tr>\n    <tr>\n      <th>25</th>\n      <td>Philadelphia Eagles</td>\n      <td>1158</td>\n      <td>6.050000</td>\n      <td>11.910728</td>\n      <td>7</td>\n      <td>3.505704</td>\n      <td>2</td>\n      <td>46.550000</td>\n      <td>83.266667</td>\n      <td>51.393420</td>\n    </tr>\n    <tr>\n      <th>26</th>\n      <td>Pittsburgh Steelers</td>\n      <td>1368</td>\n      <td>8.787500</td>\n      <td>12.389521</td>\n      <td>7</td>\n      <td>3.044490</td>\n      <td>7</td>\n      <td>42.250000</td>\n      <td>91.137500</td>\n      <td>69.804258</td>\n    </tr>\n    <tr>\n      <th>27</th>\n      <td>San Francisco 49ers</td>\n      <td>1367</td>\n      <td>5.488889</td>\n      <td>11.132660</td>\n      <td>8</td>\n      <td>4.666953</td>\n      <td>6</td>\n      <td>47.911111</td>\n      <td>75.055556</td>\n      <td>55.836252</td>\n    </tr>\n    <tr>\n      <th>28</th>\n      <td>Seattle Seahawks</td>\n      <td>1284</td>\n      <td>7.550000</td>\n      <td>10.415039</td>\n      <td>9</td>\n      <td>16.426432</td>\n      <td>2</td>\n      <td>53.975000</td>\n      <td>102.025000</td>\n      <td>71.457537</td>\n    </tr>\n    <tr>\n      <th>29</th>\n      <td>Tampa Bay Buccaneers</td>\n      <td>1634</td>\n      <td>7.062500</td>\n      <td>11.062174</td>\n      <td>6</td>\n      <td>1.591236</td>\n      <td>5</td>\n      <td>39.975000</td>\n      <td>82.350000</td>\n      <td>61.188719</td>\n    </tr>\n    <tr>\n      <th>30</th>\n      <td>Tennessee Titans</td>\n      <td>756</td>\n      <td>5.820000</td>\n      <td>9.481430</td>\n      <td>5</td>\n      <td>3.438596</td>\n      <td>1</td>\n      <td>49.360000</td>\n      <td>85.240000</td>\n      <td>59.645603</td>\n    </tr>\n    <tr>\n      <th>31</th>\n      <td>Washington Commanders</td>\n      <td>1397</td>\n      <td>9.128571</td>\n      <td>11.956773</td>\n      <td>12</td>\n      <td>5.761995</td>\n      <td>1</td>\n      <td>51.571429</td>\n      <td>112.757143</td>\n      <td>73.811489</td>\n    </tr>\n  </tbody>\n</table>\n</div>"
     },
     "execution_count": 5,
     "metadata": {},
     "output_type": "execute_result"
    }
   ],
   "source": [
    "fetch.qb_stats_allowed(2024)"
   ],
   "metadata": {
    "collapsed": false,
    "ExecuteTime": {
     "end_time": "2024-10-17T01:43:29.758759Z",
     "start_time": "2024-10-17T01:43:08.642116Z"
    }
   },
   "id": "10305eb611d2e2f"
  },
  {
   "cell_type": "code",
   "execution_count": null,
   "outputs": [],
   "source": [],
   "metadata": {
    "collapsed": false
   },
   "id": "3cc33765cfe679b5"
  },
  {
   "cell_type": "code",
   "execution_count": null,
   "outputs": [],
   "source": [],
   "metadata": {
    "collapsed": false
   },
   "id": "ab989c0651a29347"
  },
  {
   "cell_type": "code",
   "execution_count": 15,
   "outputs": [],
   "source": [],
   "metadata": {
    "collapsed": false,
    "ExecuteTime": {
     "end_time": "2024-10-16T04:56:31.234894Z",
     "start_time": "2024-10-16T04:56:31.231177Z"
    }
   },
   "id": "73ce692178581f95"
  },
  {
   "cell_type": "code",
   "execution_count": 15,
   "outputs": [],
   "source": [],
   "metadata": {
    "collapsed": false,
    "ExecuteTime": {
     "end_time": "2024-10-16T04:56:33.032061Z",
     "start_time": "2024-10-16T04:56:33.014652Z"
    }
   },
   "id": "2ee50ec98f629330"
  },
  {
   "cell_type": "code",
   "execution_count": 15,
   "outputs": [],
   "source": [],
   "metadata": {
    "collapsed": false,
    "ExecuteTime": {
     "end_time": "2024-10-16T04:56:34.879847Z",
     "start_time": "2024-10-16T04:56:34.873511Z"
    }
   },
   "id": "3a43c0e445e5b92"
  },
  {
   "cell_type": "code",
   "execution_count": 14,
   "outputs": [
    {
     "data": {
      "application/vnd.plotly.v1+json": {
       "data": [
        {
         "alignmentgroup": "True",
         "hovertemplate": "name_=%{x}<br>scramble_epa_sum=%{marker.color}<extra></extra>",
         "legendgroup": "",
         "marker": {
          "color": [
           11.700000000000001,
           8.6,
           7.5,
           7.199999999999999,
           6.4,
           6.4,
           6.3,
           6.0,
           5.9,
           5.3,
           5.0,
           4.7,
           4.5,
           3.5,
           3.3,
           3.1,
           3.0,
           2.9000000000000004,
           2.3,
           2.0,
           1.9,
           1.8,
           1.4,
           1.3,
           1.1,
           0.9000000000000001,
           0.8,
           0.7999999999999999,
           0.30000000000000016,
           0.3,
           0.2,
           0.0,
           0.0,
           0.0,
           0.0,
           0.0,
           0.0,
           -0.09999999999999998,
           -0.19999999999999996,
           -0.7
          ],
          "coloraxis": "coloraxis",
          "pattern": {
           "shape": ""
          }
         },
         "name": "",
         "offsetgroup": "",
         "orientation": "v",
         "showlegend": false,
         "textposition": "auto",
         "x": [
          "Jayden Daniels",
          "Justin Fields",
          "Patrick Mahomes",
          "Bo Nix",
          "Anthony Richardson",
          "Jalen Hurts",
          "Kyler Murray",
          "Joe Burrow",
          "Geno Smith",
          "Josh Allen",
          "Baker Mayfield",
          "Caleb Williams",
          "Brock Purdy",
          "Malik Willis",
          "Sam Darnold",
          "Jordan Love",
          "Tua Tagovailoa",
          "Trevor Lawrence",
          "Jacoby Brissett",
          "Lamar Jackson",
          "Deshaun Watson",
          "Will Levis",
          "Gardner Minshew",
          "Spencer Rattler",
          "Drake Maye",
          "Jared Goff",
          "Aaron Rodgers",
          "Joe Flacco",
          "C.J. Stroud",
          "Dak Prescott",
          "Bryce Young",
          "Tyler Huntley",
          "Aidan O'Connell",
          "Derek Carr",
          "Matthew Stafford",
          "Andy Dalton",
          "Skylar Thompson",
          "Daniel Jones",
          "Justin Herbert",
          "Kirk Cousins"
         ],
         "xaxis": "x",
         "y": [
          11.700000000000001,
          8.6,
          7.5,
          7.199999999999999,
          6.4,
          6.4,
          6.3,
          6.0,
          5.9,
          5.3,
          5.0,
          4.7,
          4.5,
          3.5,
          3.3,
          3.1,
          3.0,
          2.9000000000000004,
          2.3,
          2.0,
          1.9,
          1.8,
          1.4,
          1.3,
          1.1,
          0.9000000000000001,
          0.8,
          0.7999999999999999,
          0.30000000000000016,
          0.3,
          0.2,
          0.0,
          0.0,
          0.0,
          0.0,
          0.0,
          0.0,
          -0.09999999999999998,
          -0.19999999999999996,
          -0.7
         ],
         "yaxis": "y",
         "type": "bar"
        }
       ],
       "layout": {
        "template": {
         "data": {
          "histogram2dcontour": [
           {
            "type": "histogram2dcontour",
            "colorbar": {
             "outlinewidth": 0,
             "ticks": ""
            },
            "colorscale": [
             [
              0.0,
              "#0d0887"
             ],
             [
              0.1111111111111111,
              "#46039f"
             ],
             [
              0.2222222222222222,
              "#7201a8"
             ],
             [
              0.3333333333333333,
              "#9c179e"
             ],
             [
              0.4444444444444444,
              "#bd3786"
             ],
             [
              0.5555555555555556,
              "#d8576b"
             ],
             [
              0.6666666666666666,
              "#ed7953"
             ],
             [
              0.7777777777777778,
              "#fb9f3a"
             ],
             [
              0.8888888888888888,
              "#fdca26"
             ],
             [
              1.0,
              "#f0f921"
             ]
            ]
           }
          ],
          "choropleth": [
           {
            "type": "choropleth",
            "colorbar": {
             "outlinewidth": 0,
             "ticks": ""
            }
           }
          ],
          "histogram2d": [
           {
            "type": "histogram2d",
            "colorbar": {
             "outlinewidth": 0,
             "ticks": ""
            },
            "colorscale": [
             [
              0.0,
              "#0d0887"
             ],
             [
              0.1111111111111111,
              "#46039f"
             ],
             [
              0.2222222222222222,
              "#7201a8"
             ],
             [
              0.3333333333333333,
              "#9c179e"
             ],
             [
              0.4444444444444444,
              "#bd3786"
             ],
             [
              0.5555555555555556,
              "#d8576b"
             ],
             [
              0.6666666666666666,
              "#ed7953"
             ],
             [
              0.7777777777777778,
              "#fb9f3a"
             ],
             [
              0.8888888888888888,
              "#fdca26"
             ],
             [
              1.0,
              "#f0f921"
             ]
            ]
           }
          ],
          "heatmap": [
           {
            "type": "heatmap",
            "colorbar": {
             "outlinewidth": 0,
             "ticks": ""
            },
            "colorscale": [
             [
              0.0,
              "#0d0887"
             ],
             [
              0.1111111111111111,
              "#46039f"
             ],
             [
              0.2222222222222222,
              "#7201a8"
             ],
             [
              0.3333333333333333,
              "#9c179e"
             ],
             [
              0.4444444444444444,
              "#bd3786"
             ],
             [
              0.5555555555555556,
              "#d8576b"
             ],
             [
              0.6666666666666666,
              "#ed7953"
             ],
             [
              0.7777777777777778,
              "#fb9f3a"
             ],
             [
              0.8888888888888888,
              "#fdca26"
             ],
             [
              1.0,
              "#f0f921"
             ]
            ]
           }
          ],
          "heatmapgl": [
           {
            "type": "heatmapgl",
            "colorbar": {
             "outlinewidth": 0,
             "ticks": ""
            },
            "colorscale": [
             [
              0.0,
              "#0d0887"
             ],
             [
              0.1111111111111111,
              "#46039f"
             ],
             [
              0.2222222222222222,
              "#7201a8"
             ],
             [
              0.3333333333333333,
              "#9c179e"
             ],
             [
              0.4444444444444444,
              "#bd3786"
             ],
             [
              0.5555555555555556,
              "#d8576b"
             ],
             [
              0.6666666666666666,
              "#ed7953"
             ],
             [
              0.7777777777777778,
              "#fb9f3a"
             ],
             [
              0.8888888888888888,
              "#fdca26"
             ],
             [
              1.0,
              "#f0f921"
             ]
            ]
           }
          ],
          "contourcarpet": [
           {
            "type": "contourcarpet",
            "colorbar": {
             "outlinewidth": 0,
             "ticks": ""
            }
           }
          ],
          "contour": [
           {
            "type": "contour",
            "colorbar": {
             "outlinewidth": 0,
             "ticks": ""
            },
            "colorscale": [
             [
              0.0,
              "#0d0887"
             ],
             [
              0.1111111111111111,
              "#46039f"
             ],
             [
              0.2222222222222222,
              "#7201a8"
             ],
             [
              0.3333333333333333,
              "#9c179e"
             ],
             [
              0.4444444444444444,
              "#bd3786"
             ],
             [
              0.5555555555555556,
              "#d8576b"
             ],
             [
              0.6666666666666666,
              "#ed7953"
             ],
             [
              0.7777777777777778,
              "#fb9f3a"
             ],
             [
              0.8888888888888888,
              "#fdca26"
             ],
             [
              1.0,
              "#f0f921"
             ]
            ]
           }
          ],
          "surface": [
           {
            "type": "surface",
            "colorbar": {
             "outlinewidth": 0,
             "ticks": ""
            },
            "colorscale": [
             [
              0.0,
              "#0d0887"
             ],
             [
              0.1111111111111111,
              "#46039f"
             ],
             [
              0.2222222222222222,
              "#7201a8"
             ],
             [
              0.3333333333333333,
              "#9c179e"
             ],
             [
              0.4444444444444444,
              "#bd3786"
             ],
             [
              0.5555555555555556,
              "#d8576b"
             ],
             [
              0.6666666666666666,
              "#ed7953"
             ],
             [
              0.7777777777777778,
              "#fb9f3a"
             ],
             [
              0.8888888888888888,
              "#fdca26"
             ],
             [
              1.0,
              "#f0f921"
             ]
            ]
           }
          ],
          "mesh3d": [
           {
            "type": "mesh3d",
            "colorbar": {
             "outlinewidth": 0,
             "ticks": ""
            }
           }
          ],
          "scatter": [
           {
            "marker": {
             "line": {
              "color": "#283442"
             }
            },
            "type": "scatter"
           }
          ],
          "parcoords": [
           {
            "type": "parcoords",
            "line": {
             "colorbar": {
              "outlinewidth": 0,
              "ticks": ""
             }
            }
           }
          ],
          "scatterpolargl": [
           {
            "type": "scatterpolargl",
            "marker": {
             "colorbar": {
              "outlinewidth": 0,
              "ticks": ""
             }
            }
           }
          ],
          "bar": [
           {
            "error_x": {
             "color": "#f2f5fa"
            },
            "error_y": {
             "color": "#f2f5fa"
            },
            "marker": {
             "line": {
              "color": "rgb(17,17,17)",
              "width": 0.5
             },
             "pattern": {
              "fillmode": "overlay",
              "size": 10,
              "solidity": 0.2
             }
            },
            "type": "bar"
           }
          ],
          "scattergeo": [
           {
            "type": "scattergeo",
            "marker": {
             "colorbar": {
              "outlinewidth": 0,
              "ticks": ""
             }
            }
           }
          ],
          "scatterpolar": [
           {
            "type": "scatterpolar",
            "marker": {
             "colorbar": {
              "outlinewidth": 0,
              "ticks": ""
             }
            }
           }
          ],
          "histogram": [
           {
            "marker": {
             "pattern": {
              "fillmode": "overlay",
              "size": 10,
              "solidity": 0.2
             }
            },
            "type": "histogram"
           }
          ],
          "scattergl": [
           {
            "marker": {
             "line": {
              "color": "#283442"
             }
            },
            "type": "scattergl"
           }
          ],
          "scatter3d": [
           {
            "type": "scatter3d",
            "line": {
             "colorbar": {
              "outlinewidth": 0,
              "ticks": ""
             }
            },
            "marker": {
             "colorbar": {
              "outlinewidth": 0,
              "ticks": ""
             }
            }
           }
          ],
          "scattermapbox": [
           {
            "type": "scattermapbox",
            "marker": {
             "colorbar": {
              "outlinewidth": 0,
              "ticks": ""
             }
            }
           }
          ],
          "scatterternary": [
           {
            "type": "scatterternary",
            "marker": {
             "colorbar": {
              "outlinewidth": 0,
              "ticks": ""
             }
            }
           }
          ],
          "scattercarpet": [
           {
            "type": "scattercarpet",
            "marker": {
             "colorbar": {
              "outlinewidth": 0,
              "ticks": ""
             }
            }
           }
          ],
          "carpet": [
           {
            "aaxis": {
             "endlinecolor": "#A2B1C6",
             "gridcolor": "#506784",
             "linecolor": "#506784",
             "minorgridcolor": "#506784",
             "startlinecolor": "#A2B1C6"
            },
            "baxis": {
             "endlinecolor": "#A2B1C6",
             "gridcolor": "#506784",
             "linecolor": "#506784",
             "minorgridcolor": "#506784",
             "startlinecolor": "#A2B1C6"
            },
            "type": "carpet"
           }
          ],
          "table": [
           {
            "cells": {
             "fill": {
              "color": "#506784"
             },
             "line": {
              "color": "rgb(17,17,17)"
             }
            },
            "header": {
             "fill": {
              "color": "#2a3f5f"
             },
             "line": {
              "color": "rgb(17,17,17)"
             }
            },
            "type": "table"
           }
          ],
          "barpolar": [
           {
            "marker": {
             "line": {
              "color": "rgb(17,17,17)",
              "width": 0.5
             },
             "pattern": {
              "fillmode": "overlay",
              "size": 10,
              "solidity": 0.2
             }
            },
            "type": "barpolar"
           }
          ],
          "pie": [
           {
            "automargin": true,
            "type": "pie"
           }
          ]
         },
         "layout": {
          "autotypenumbers": "strict",
          "colorway": [
           "#636efa",
           "#EF553B",
           "#00cc96",
           "#ab63fa",
           "#FFA15A",
           "#19d3f3",
           "#FF6692",
           "#B6E880",
           "#FF97FF",
           "#FECB52"
          ],
          "font": {
           "color": "#f2f5fa"
          },
          "hovermode": "closest",
          "hoverlabel": {
           "align": "left"
          },
          "paper_bgcolor": "rgb(17,17,17)",
          "plot_bgcolor": "rgb(17,17,17)",
          "polar": {
           "bgcolor": "rgb(17,17,17)",
           "angularaxis": {
            "gridcolor": "#506784",
            "linecolor": "#506784",
            "ticks": ""
           },
           "radialaxis": {
            "gridcolor": "#506784",
            "linecolor": "#506784",
            "ticks": ""
           }
          },
          "ternary": {
           "bgcolor": "rgb(17,17,17)",
           "aaxis": {
            "gridcolor": "#506784",
            "linecolor": "#506784",
            "ticks": ""
           },
           "baxis": {
            "gridcolor": "#506784",
            "linecolor": "#506784",
            "ticks": ""
           },
           "caxis": {
            "gridcolor": "#506784",
            "linecolor": "#506784",
            "ticks": ""
           }
          },
          "coloraxis": {
           "colorbar": {
            "outlinewidth": 0,
            "ticks": ""
           }
          },
          "colorscale": {
           "sequential": [
            [
             0.0,
             "#0d0887"
            ],
            [
             0.1111111111111111,
             "#46039f"
            ],
            [
             0.2222222222222222,
             "#7201a8"
            ],
            [
             0.3333333333333333,
             "#9c179e"
            ],
            [
             0.4444444444444444,
             "#bd3786"
            ],
            [
             0.5555555555555556,
             "#d8576b"
            ],
            [
             0.6666666666666666,
             "#ed7953"
            ],
            [
             0.7777777777777778,
             "#fb9f3a"
            ],
            [
             0.8888888888888888,
             "#fdca26"
            ],
            [
             1.0,
             "#f0f921"
            ]
           ],
           "sequentialminus": [
            [
             0.0,
             "#0d0887"
            ],
            [
             0.1111111111111111,
             "#46039f"
            ],
            [
             0.2222222222222222,
             "#7201a8"
            ],
            [
             0.3333333333333333,
             "#9c179e"
            ],
            [
             0.4444444444444444,
             "#bd3786"
            ],
            [
             0.5555555555555556,
             "#d8576b"
            ],
            [
             0.6666666666666666,
             "#ed7953"
            ],
            [
             0.7777777777777778,
             "#fb9f3a"
            ],
            [
             0.8888888888888888,
             "#fdca26"
            ],
            [
             1.0,
             "#f0f921"
            ]
           ],
           "diverging": [
            [
             0,
             "#8e0152"
            ],
            [
             0.1,
             "#c51b7d"
            ],
            [
             0.2,
             "#de77ae"
            ],
            [
             0.3,
             "#f1b6da"
            ],
            [
             0.4,
             "#fde0ef"
            ],
            [
             0.5,
             "#f7f7f7"
            ],
            [
             0.6,
             "#e6f5d0"
            ],
            [
             0.7,
             "#b8e186"
            ],
            [
             0.8,
             "#7fbc41"
            ],
            [
             0.9,
             "#4d9221"
            ],
            [
             1,
             "#276419"
            ]
           ]
          },
          "xaxis": {
           "gridcolor": "#283442",
           "linecolor": "#506784",
           "ticks": "",
           "title": {
            "standoff": 15
           },
           "zerolinecolor": "#283442",
           "automargin": true,
           "zerolinewidth": 2
          },
          "yaxis": {
           "gridcolor": "#283442",
           "linecolor": "#506784",
           "ticks": "",
           "title": {
            "standoff": 15
           },
           "zerolinecolor": "#283442",
           "automargin": true,
           "zerolinewidth": 2
          },
          "scene": {
           "xaxis": {
            "backgroundcolor": "rgb(17,17,17)",
            "gridcolor": "#506784",
            "linecolor": "#506784",
            "showbackground": true,
            "ticks": "",
            "zerolinecolor": "#C8D4E3",
            "gridwidth": 2
           },
           "yaxis": {
            "backgroundcolor": "rgb(17,17,17)",
            "gridcolor": "#506784",
            "linecolor": "#506784",
            "showbackground": true,
            "ticks": "",
            "zerolinecolor": "#C8D4E3",
            "gridwidth": 2
           },
           "zaxis": {
            "backgroundcolor": "rgb(17,17,17)",
            "gridcolor": "#506784",
            "linecolor": "#506784",
            "showbackground": true,
            "ticks": "",
            "zerolinecolor": "#C8D4E3",
            "gridwidth": 2
           }
          },
          "shapedefaults": {
           "line": {
            "color": "#f2f5fa"
           }
          },
          "annotationdefaults": {
           "arrowcolor": "#f2f5fa",
           "arrowhead": 0,
           "arrowwidth": 1
          },
          "geo": {
           "bgcolor": "rgb(17,17,17)",
           "landcolor": "rgb(17,17,17)",
           "subunitcolor": "#506784",
           "showland": true,
           "showlakes": true,
           "lakecolor": "rgb(17,17,17)"
          },
          "title": {
           "x": 0.05
          },
          "updatemenudefaults": {
           "bgcolor": "#506784",
           "borderwidth": 0
          },
          "sliderdefaults": {
           "bgcolor": "#C8D4E3",
           "borderwidth": 1,
           "bordercolor": "rgb(17,17,17)",
           "tickwidth": 0
          },
          "mapbox": {
           "style": "dark"
          }
         }
        },
        "xaxis": {
         "anchor": "y",
         "domain": [
          0.0,
          1.0
         ],
         "title": {
          "text": "name_"
         }
        },
        "yaxis": {
         "anchor": "x",
         "domain": [
          0.0,
          1.0
         ],
         "title": {
          "text": "scramble_epa_sum"
         }
        },
        "coloraxis": {
         "colorbar": {
          "title": {
           "text": "scramble_epa_sum"
          }
         },
         "colorscale": [
          [
           0.0,
           "#0d0887"
          ],
          [
           0.1111111111111111,
           "#46039f"
          ],
          [
           0.2222222222222222,
           "#7201a8"
          ],
          [
           0.3333333333333333,
           "#9c179e"
          ],
          [
           0.4444444444444444,
           "#bd3786"
          ],
          [
           0.5555555555555556,
           "#d8576b"
          ],
          [
           0.6666666666666666,
           "#ed7953"
          ],
          [
           0.7777777777777778,
           "#fb9f3a"
          ],
          [
           0.8888888888888888,
           "#fdca26"
          ],
          [
           1.0,
           "#f0f921"
          ]
         ]
        },
        "legend": {
         "tracegroupgap": 0
        },
        "margin": {
         "t": 60
        },
        "barmode": "relative",
        "height": 700
       },
       "config": {
        "plotlyServerURL": "https://plot.ly"
       }
      },
      "text/html": "<div>                            <div id=\"d8919038-4d74-4001-8740-a9551093a518\" class=\"plotly-graph-div\" style=\"height:700px; width:100%;\"></div>            <script type=\"text/javascript\">                require([\"plotly\"], function(Plotly) {                    window.PLOTLYENV=window.PLOTLYENV || {};                                    if (document.getElementById(\"d8919038-4d74-4001-8740-a9551093a518\")) {                    Plotly.newPlot(                        \"d8919038-4d74-4001-8740-a9551093a518\",                        [{\"alignmentgroup\":\"True\",\"hovertemplate\":\"name_=%{x}\\u003cbr\\u003escramble_epa_sum=%{marker.color}\\u003cextra\\u003e\\u003c\\u002fextra\\u003e\",\"legendgroup\":\"\",\"marker\":{\"color\":[11.700000000000001,8.6,7.5,7.199999999999999,6.4,6.4,6.3,6.0,5.9,5.3,5.0,4.7,4.5,3.5,3.3,3.1,3.0,2.9000000000000004,2.3,2.0,1.9,1.8,1.4,1.3,1.1,0.9000000000000001,0.8,0.7999999999999999,0.30000000000000016,0.3,0.2,0.0,0.0,0.0,0.0,0.0,0.0,-0.09999999999999998,-0.19999999999999996,-0.7],\"coloraxis\":\"coloraxis\",\"pattern\":{\"shape\":\"\"}},\"name\":\"\",\"offsetgroup\":\"\",\"orientation\":\"v\",\"showlegend\":false,\"textposition\":\"auto\",\"x\":[\"Jayden Daniels\",\"Justin Fields\",\"Patrick Mahomes\",\"Bo Nix\",\"Anthony Richardson\",\"Jalen Hurts\",\"Kyler Murray\",\"Joe Burrow\",\"Geno Smith\",\"Josh Allen\",\"Baker Mayfield\",\"Caleb Williams\",\"Brock Purdy\",\"Malik Willis\",\"Sam Darnold\",\"Jordan Love\",\"Tua Tagovailoa\",\"Trevor Lawrence\",\"Jacoby Brissett\",\"Lamar Jackson\",\"Deshaun Watson\",\"Will Levis\",\"Gardner Minshew\",\"Spencer Rattler\",\"Drake Maye\",\"Jared Goff\",\"Aaron Rodgers\",\"Joe Flacco\",\"C.J. Stroud\",\"Dak Prescott\",\"Bryce Young\",\"Tyler Huntley\",\"Aidan O'Connell\",\"Derek Carr\",\"Matthew Stafford\",\"Andy Dalton\",\"Skylar Thompson\",\"Daniel Jones\",\"Justin Herbert\",\"Kirk Cousins\"],\"xaxis\":\"x\",\"y\":[11.700000000000001,8.6,7.5,7.199999999999999,6.4,6.4,6.3,6.0,5.9,5.3,5.0,4.7,4.5,3.5,3.3,3.1,3.0,2.9000000000000004,2.3,2.0,1.9,1.8,1.4,1.3,1.1,0.9000000000000001,0.8,0.7999999999999999,0.30000000000000016,0.3,0.2,0.0,0.0,0.0,0.0,0.0,0.0,-0.09999999999999998,-0.19999999999999996,-0.7],\"yaxis\":\"y\",\"type\":\"bar\"}],                        {\"template\":{\"data\":{\"histogram2dcontour\":[{\"type\":\"histogram2dcontour\",\"colorbar\":{\"outlinewidth\":0,\"ticks\":\"\"},\"colorscale\":[[0.0,\"#0d0887\"],[0.1111111111111111,\"#46039f\"],[0.2222222222222222,\"#7201a8\"],[0.3333333333333333,\"#9c179e\"],[0.4444444444444444,\"#bd3786\"],[0.5555555555555556,\"#d8576b\"],[0.6666666666666666,\"#ed7953\"],[0.7777777777777778,\"#fb9f3a\"],[0.8888888888888888,\"#fdca26\"],[1.0,\"#f0f921\"]]}],\"choropleth\":[{\"type\":\"choropleth\",\"colorbar\":{\"outlinewidth\":0,\"ticks\":\"\"}}],\"histogram2d\":[{\"type\":\"histogram2d\",\"colorbar\":{\"outlinewidth\":0,\"ticks\":\"\"},\"colorscale\":[[0.0,\"#0d0887\"],[0.1111111111111111,\"#46039f\"],[0.2222222222222222,\"#7201a8\"],[0.3333333333333333,\"#9c179e\"],[0.4444444444444444,\"#bd3786\"],[0.5555555555555556,\"#d8576b\"],[0.6666666666666666,\"#ed7953\"],[0.7777777777777778,\"#fb9f3a\"],[0.8888888888888888,\"#fdca26\"],[1.0,\"#f0f921\"]]}],\"heatmap\":[{\"type\":\"heatmap\",\"colorbar\":{\"outlinewidth\":0,\"ticks\":\"\"},\"colorscale\":[[0.0,\"#0d0887\"],[0.1111111111111111,\"#46039f\"],[0.2222222222222222,\"#7201a8\"],[0.3333333333333333,\"#9c179e\"],[0.4444444444444444,\"#bd3786\"],[0.5555555555555556,\"#d8576b\"],[0.6666666666666666,\"#ed7953\"],[0.7777777777777778,\"#fb9f3a\"],[0.8888888888888888,\"#fdca26\"],[1.0,\"#f0f921\"]]}],\"heatmapgl\":[{\"type\":\"heatmapgl\",\"colorbar\":{\"outlinewidth\":0,\"ticks\":\"\"},\"colorscale\":[[0.0,\"#0d0887\"],[0.1111111111111111,\"#46039f\"],[0.2222222222222222,\"#7201a8\"],[0.3333333333333333,\"#9c179e\"],[0.4444444444444444,\"#bd3786\"],[0.5555555555555556,\"#d8576b\"],[0.6666666666666666,\"#ed7953\"],[0.7777777777777778,\"#fb9f3a\"],[0.8888888888888888,\"#fdca26\"],[1.0,\"#f0f921\"]]}],\"contourcarpet\":[{\"type\":\"contourcarpet\",\"colorbar\":{\"outlinewidth\":0,\"ticks\":\"\"}}],\"contour\":[{\"type\":\"contour\",\"colorbar\":{\"outlinewidth\":0,\"ticks\":\"\"},\"colorscale\":[[0.0,\"#0d0887\"],[0.1111111111111111,\"#46039f\"],[0.2222222222222222,\"#7201a8\"],[0.3333333333333333,\"#9c179e\"],[0.4444444444444444,\"#bd3786\"],[0.5555555555555556,\"#d8576b\"],[0.6666666666666666,\"#ed7953\"],[0.7777777777777778,\"#fb9f3a\"],[0.8888888888888888,\"#fdca26\"],[1.0,\"#f0f921\"]]}],\"surface\":[{\"type\":\"surface\",\"colorbar\":{\"outlinewidth\":0,\"ticks\":\"\"},\"colorscale\":[[0.0,\"#0d0887\"],[0.1111111111111111,\"#46039f\"],[0.2222222222222222,\"#7201a8\"],[0.3333333333333333,\"#9c179e\"],[0.4444444444444444,\"#bd3786\"],[0.5555555555555556,\"#d8576b\"],[0.6666666666666666,\"#ed7953\"],[0.7777777777777778,\"#fb9f3a\"],[0.8888888888888888,\"#fdca26\"],[1.0,\"#f0f921\"]]}],\"mesh3d\":[{\"type\":\"mesh3d\",\"colorbar\":{\"outlinewidth\":0,\"ticks\":\"\"}}],\"scatter\":[{\"marker\":{\"line\":{\"color\":\"#283442\"}},\"type\":\"scatter\"}],\"parcoords\":[{\"type\":\"parcoords\",\"line\":{\"colorbar\":{\"outlinewidth\":0,\"ticks\":\"\"}}}],\"scatterpolargl\":[{\"type\":\"scatterpolargl\",\"marker\":{\"colorbar\":{\"outlinewidth\":0,\"ticks\":\"\"}}}],\"bar\":[{\"error_x\":{\"color\":\"#f2f5fa\"},\"error_y\":{\"color\":\"#f2f5fa\"},\"marker\":{\"line\":{\"color\":\"rgb(17,17,17)\",\"width\":0.5},\"pattern\":{\"fillmode\":\"overlay\",\"size\":10,\"solidity\":0.2}},\"type\":\"bar\"}],\"scattergeo\":[{\"type\":\"scattergeo\",\"marker\":{\"colorbar\":{\"outlinewidth\":0,\"ticks\":\"\"}}}],\"scatterpolar\":[{\"type\":\"scatterpolar\",\"marker\":{\"colorbar\":{\"outlinewidth\":0,\"ticks\":\"\"}}}],\"histogram\":[{\"marker\":{\"pattern\":{\"fillmode\":\"overlay\",\"size\":10,\"solidity\":0.2}},\"type\":\"histogram\"}],\"scattergl\":[{\"marker\":{\"line\":{\"color\":\"#283442\"}},\"type\":\"scattergl\"}],\"scatter3d\":[{\"type\":\"scatter3d\",\"line\":{\"colorbar\":{\"outlinewidth\":0,\"ticks\":\"\"}},\"marker\":{\"colorbar\":{\"outlinewidth\":0,\"ticks\":\"\"}}}],\"scattermapbox\":[{\"type\":\"scattermapbox\",\"marker\":{\"colorbar\":{\"outlinewidth\":0,\"ticks\":\"\"}}}],\"scatterternary\":[{\"type\":\"scatterternary\",\"marker\":{\"colorbar\":{\"outlinewidth\":0,\"ticks\":\"\"}}}],\"scattercarpet\":[{\"type\":\"scattercarpet\",\"marker\":{\"colorbar\":{\"outlinewidth\":0,\"ticks\":\"\"}}}],\"carpet\":[{\"aaxis\":{\"endlinecolor\":\"#A2B1C6\",\"gridcolor\":\"#506784\",\"linecolor\":\"#506784\",\"minorgridcolor\":\"#506784\",\"startlinecolor\":\"#A2B1C6\"},\"baxis\":{\"endlinecolor\":\"#A2B1C6\",\"gridcolor\":\"#506784\",\"linecolor\":\"#506784\",\"minorgridcolor\":\"#506784\",\"startlinecolor\":\"#A2B1C6\"},\"type\":\"carpet\"}],\"table\":[{\"cells\":{\"fill\":{\"color\":\"#506784\"},\"line\":{\"color\":\"rgb(17,17,17)\"}},\"header\":{\"fill\":{\"color\":\"#2a3f5f\"},\"line\":{\"color\":\"rgb(17,17,17)\"}},\"type\":\"table\"}],\"barpolar\":[{\"marker\":{\"line\":{\"color\":\"rgb(17,17,17)\",\"width\":0.5},\"pattern\":{\"fillmode\":\"overlay\",\"size\":10,\"solidity\":0.2}},\"type\":\"barpolar\"}],\"pie\":[{\"automargin\":true,\"type\":\"pie\"}]},\"layout\":{\"autotypenumbers\":\"strict\",\"colorway\":[\"#636efa\",\"#EF553B\",\"#00cc96\",\"#ab63fa\",\"#FFA15A\",\"#19d3f3\",\"#FF6692\",\"#B6E880\",\"#FF97FF\",\"#FECB52\"],\"font\":{\"color\":\"#f2f5fa\"},\"hovermode\":\"closest\",\"hoverlabel\":{\"align\":\"left\"},\"paper_bgcolor\":\"rgb(17,17,17)\",\"plot_bgcolor\":\"rgb(17,17,17)\",\"polar\":{\"bgcolor\":\"rgb(17,17,17)\",\"angularaxis\":{\"gridcolor\":\"#506784\",\"linecolor\":\"#506784\",\"ticks\":\"\"},\"radialaxis\":{\"gridcolor\":\"#506784\",\"linecolor\":\"#506784\",\"ticks\":\"\"}},\"ternary\":{\"bgcolor\":\"rgb(17,17,17)\",\"aaxis\":{\"gridcolor\":\"#506784\",\"linecolor\":\"#506784\",\"ticks\":\"\"},\"baxis\":{\"gridcolor\":\"#506784\",\"linecolor\":\"#506784\",\"ticks\":\"\"},\"caxis\":{\"gridcolor\":\"#506784\",\"linecolor\":\"#506784\",\"ticks\":\"\"}},\"coloraxis\":{\"colorbar\":{\"outlinewidth\":0,\"ticks\":\"\"}},\"colorscale\":{\"sequential\":[[0.0,\"#0d0887\"],[0.1111111111111111,\"#46039f\"],[0.2222222222222222,\"#7201a8\"],[0.3333333333333333,\"#9c179e\"],[0.4444444444444444,\"#bd3786\"],[0.5555555555555556,\"#d8576b\"],[0.6666666666666666,\"#ed7953\"],[0.7777777777777778,\"#fb9f3a\"],[0.8888888888888888,\"#fdca26\"],[1.0,\"#f0f921\"]],\"sequentialminus\":[[0.0,\"#0d0887\"],[0.1111111111111111,\"#46039f\"],[0.2222222222222222,\"#7201a8\"],[0.3333333333333333,\"#9c179e\"],[0.4444444444444444,\"#bd3786\"],[0.5555555555555556,\"#d8576b\"],[0.6666666666666666,\"#ed7953\"],[0.7777777777777778,\"#fb9f3a\"],[0.8888888888888888,\"#fdca26\"],[1.0,\"#f0f921\"]],\"diverging\":[[0,\"#8e0152\"],[0.1,\"#c51b7d\"],[0.2,\"#de77ae\"],[0.3,\"#f1b6da\"],[0.4,\"#fde0ef\"],[0.5,\"#f7f7f7\"],[0.6,\"#e6f5d0\"],[0.7,\"#b8e186\"],[0.8,\"#7fbc41\"],[0.9,\"#4d9221\"],[1,\"#276419\"]]},\"xaxis\":{\"gridcolor\":\"#283442\",\"linecolor\":\"#506784\",\"ticks\":\"\",\"title\":{\"standoff\":15},\"zerolinecolor\":\"#283442\",\"automargin\":true,\"zerolinewidth\":2},\"yaxis\":{\"gridcolor\":\"#283442\",\"linecolor\":\"#506784\",\"ticks\":\"\",\"title\":{\"standoff\":15},\"zerolinecolor\":\"#283442\",\"automargin\":true,\"zerolinewidth\":2},\"scene\":{\"xaxis\":{\"backgroundcolor\":\"rgb(17,17,17)\",\"gridcolor\":\"#506784\",\"linecolor\":\"#506784\",\"showbackground\":true,\"ticks\":\"\",\"zerolinecolor\":\"#C8D4E3\",\"gridwidth\":2},\"yaxis\":{\"backgroundcolor\":\"rgb(17,17,17)\",\"gridcolor\":\"#506784\",\"linecolor\":\"#506784\",\"showbackground\":true,\"ticks\":\"\",\"zerolinecolor\":\"#C8D4E3\",\"gridwidth\":2},\"zaxis\":{\"backgroundcolor\":\"rgb(17,17,17)\",\"gridcolor\":\"#506784\",\"linecolor\":\"#506784\",\"showbackground\":true,\"ticks\":\"\",\"zerolinecolor\":\"#C8D4E3\",\"gridwidth\":2}},\"shapedefaults\":{\"line\":{\"color\":\"#f2f5fa\"}},\"annotationdefaults\":{\"arrowcolor\":\"#f2f5fa\",\"arrowhead\":0,\"arrowwidth\":1},\"geo\":{\"bgcolor\":\"rgb(17,17,17)\",\"landcolor\":\"rgb(17,17,17)\",\"subunitcolor\":\"#506784\",\"showland\":true,\"showlakes\":true,\"lakecolor\":\"rgb(17,17,17)\"},\"title\":{\"x\":0.05},\"updatemenudefaults\":{\"bgcolor\":\"#506784\",\"borderwidth\":0},\"sliderdefaults\":{\"bgcolor\":\"#C8D4E3\",\"borderwidth\":1,\"bordercolor\":\"rgb(17,17,17)\",\"tickwidth\":0},\"mapbox\":{\"style\":\"dark\"}}},\"xaxis\":{\"anchor\":\"y\",\"domain\":[0.0,1.0],\"title\":{\"text\":\"name_\"}},\"yaxis\":{\"anchor\":\"x\",\"domain\":[0.0,1.0],\"title\":{\"text\":\"scramble_epa_sum\"}},\"coloraxis\":{\"colorbar\":{\"title\":{\"text\":\"scramble_epa_sum\"}},\"colorscale\":[[0.0,\"#0d0887\"],[0.1111111111111111,\"#46039f\"],[0.2222222222222222,\"#7201a8\"],[0.3333333333333333,\"#9c179e\"],[0.4444444444444444,\"#bd3786\"],[0.5555555555555556,\"#d8576b\"],[0.6666666666666666,\"#ed7953\"],[0.7777777777777778,\"#fb9f3a\"],[0.8888888888888888,\"#fdca26\"],[1.0,\"#f0f921\"]]},\"legend\":{\"tracegroupgap\":0},\"margin\":{\"t\":60},\"barmode\":\"relative\",\"height\":700},                        {\"responsive\": true}                    ).then(function(){\n                            \nvar gd = document.getElementById('d8919038-4d74-4001-8740-a9551093a518');\nvar x = new MutationObserver(function (mutations, observer) {{\n        var display = window.getComputedStyle(gd).display;\n        if (!display || display === 'none') {{\n            console.log([gd, 'removed!']);\n            Plotly.purge(gd);\n            observer.disconnect();\n        }}\n}});\n\n// Listen for the removal of the full notebook cells\nvar notebookContainer = gd.closest('#notebook-container');\nif (notebookContainer) {{\n    x.observe(notebookContainer, {childList: true});\n}}\n\n// Listen for the clearing of the current output cell\nvar outputEl = gd.closest('.output');\nif (outputEl) {{\n    x.observe(outputEl, {childList: true});\n}}\n\n                        })                };                });            </script>        </div>"
     },
     "metadata": {},
     "output_type": "display_data"
    }
   ],
   "source": [
    "epa = epa.sort_values(by = 'scramble_epa_sum', ascending=False)\n",
    "px.bar(epa, x = 'name_', y = 'scramble_epa_sum', color = 'scramble_epa_sum', height = 700)"
   ],
   "metadata": {
    "collapsed": false,
    "ExecuteTime": {
     "end_time": "2024-10-16T04:38:34.044999Z",
     "start_time": "2024-10-16T04:38:34.033827Z"
    }
   },
   "id": "f2c8d14d34b0316e"
  },
  {
   "cell_type": "code",
   "execution_count": 62,
   "outputs": [
    {
     "name": "stdout",
     "output_type": "stream",
     "text": [
      "https://site.api.espn.com/apis/site/v2/sports/football/nfl/scoreboard?limit=1000&dates=2024&seasontype=2&week=1\n",
      "https://site.api.espn.com/apis/site/v2/sports/football/nfl/scoreboard?limit=1000&dates=2024&seasontype=2&week=2\n",
      "https://site.api.espn.com/apis/site/v2/sports/football/nfl/scoreboard?limit=1000&dates=2024&seasontype=2&week=3\n",
      "https://site.api.espn.com/apis/site/v2/sports/football/nfl/scoreboard?limit=1000&dates=2024&seasontype=2&week=4\n",
      "https://site.api.espn.com/apis/site/v2/sports/football/nfl/scoreboard?limit=1000&dates=2024&seasontype=2&week=5\n",
      "https://site.api.espn.com/apis/site/v2/sports/football/nfl/scoreboard?limit=1000&dates=2024&seasontype=2&week=6\n",
      "https://site.api.espn.com/apis/site/v2/sports/football/nfl/scoreboard?limit=1000&dates=2024&seasontype=2&week=7\n",
      "https://site.api.espn.com/apis/site/v2/sports/football/nfl/scoreboard?limit=1000&dates=2024&seasontype=2&week=8\n",
      "https://site.api.espn.com/apis/site/v2/sports/football/nfl/scoreboard?limit=1000&dates=2024&seasontype=2&week=9\n",
      "https://site.api.espn.com/apis/site/v2/sports/football/nfl/scoreboard?limit=1000&dates=2024&seasontype=2&week=10\n",
      "https://site.api.espn.com/apis/site/v2/sports/football/nfl/scoreboard?limit=1000&dates=2024&seasontype=2&week=11\n",
      "https://site.api.espn.com/apis/site/v2/sports/football/nfl/scoreboard?limit=1000&dates=2024&seasontype=2&week=12\n",
      "https://site.api.espn.com/apis/site/v2/sports/football/nfl/scoreboard?limit=1000&dates=2024&seasontype=2&week=13\n",
      "https://site.api.espn.com/apis/site/v2/sports/football/nfl/scoreboard?limit=1000&dates=2024&seasontype=2&week=14\n",
      "https://site.api.espn.com/apis/site/v2/sports/football/nfl/scoreboard?limit=1000&dates=2024&seasontype=2&week=15\n",
      "https://site.api.espn.com/apis/site/v2/sports/football/nfl/scoreboard?limit=1000&dates=2024&seasontype=2&week=16\n",
      "https://site.api.espn.com/apis/site/v2/sports/football/nfl/scoreboard?limit=1000&dates=2024&seasontype=2&week=17\n",
      "https://site.api.espn.com/apis/site/v2/sports/football/nfl/scoreboard?limit=1000&dates=2024&seasontype=2&week=18\n"
     ]
    },
    {
     "name": "stderr",
     "output_type": "stream",
     "text": [
      "100%|██████████| 92/92 [00:21<00:00,  4.34it/s]\n"
     ]
    },
    {
     "name": "stdout",
     "output_type": "stream",
     "text": [
      "https://sports.core.api.espn.com/v2/sports/football/leagues/nfl/seasons/2024/types/2/weeks/1/qbr/10000?page=1\n",
      "https://sports.core.api.espn.com/v2/sports/football/leagues/nfl/seasons/2024/types/2/weeks/1/qbr/10000?page=2\n",
      "https://sports.core.api.espn.com/v2/sports/football/leagues/nfl/seasons/2024/types/2/weeks/2/qbr/10000?page=1\n",
      "https://sports.core.api.espn.com/v2/sports/football/leagues/nfl/seasons/2024/types/2/weeks/2/qbr/10000?page=2\n",
      "https://sports.core.api.espn.com/v2/sports/football/leagues/nfl/seasons/2024/types/2/weeks/3/qbr/10000?page=1\n",
      "https://sports.core.api.espn.com/v2/sports/football/leagues/nfl/seasons/2024/types/2/weeks/3/qbr/10000?page=2\n",
      "https://sports.core.api.espn.com/v2/sports/football/leagues/nfl/seasons/2024/types/2/weeks/4/qbr/10000?page=1\n",
      "https://sports.core.api.espn.com/v2/sports/football/leagues/nfl/seasons/2024/types/2/weeks/4/qbr/10000?page=2\n",
      "https://sports.core.api.espn.com/v2/sports/football/leagues/nfl/seasons/2024/types/2/weeks/5/qbr/10000?page=1\n",
      "https://sports.core.api.espn.com/v2/sports/football/leagues/nfl/seasons/2024/types/2/weeks/5/qbr/10000?page=2\n",
      "https://sports.core.api.espn.com/v2/sports/football/leagues/nfl/seasons/2024/types/2/weeks/6/qbr/10000?page=1\n",
      "https://sports.core.api.espn.com/v2/sports/football/leagues/nfl/seasons/2024/types/2/weeks/6/qbr/10000?page=2\n",
      "https://sports.core.api.espn.com/v2/sports/football/leagues/nfl/seasons/2024/types/2/weeks/7/qbr/10000?page=1\n",
      "https://sports.core.api.espn.com/v2/sports/football/leagues/nfl/seasons/2024/types/2/weeks/8/qbr/10000?page=1\n",
      "https://sports.core.api.espn.com/v2/sports/football/leagues/nfl/seasons/2024/types/2/weeks/9/qbr/10000?page=1\n",
      "https://sports.core.api.espn.com/v2/sports/football/leagues/nfl/seasons/2024/types/2/weeks/10/qbr/10000?page=1\n",
      "https://sports.core.api.espn.com/v2/sports/football/leagues/nfl/seasons/2024/types/2/weeks/11/qbr/10000?page=1\n",
      "https://sports.core.api.espn.com/v2/sports/football/leagues/nfl/seasons/2024/types/2/weeks/12/qbr/10000?page=1\n",
      "https://sports.core.api.espn.com/v2/sports/football/leagues/nfl/seasons/2024/types/2/weeks/13/qbr/10000?page=1\n",
      "https://sports.core.api.espn.com/v2/sports/football/leagues/nfl/seasons/2024/types/2/weeks/14/qbr/10000?page=1\n",
      "https://sports.core.api.espn.com/v2/sports/football/leagues/nfl/seasons/2024/types/2/weeks/15/qbr/10000?page=1\n",
      "https://sports.core.api.espn.com/v2/sports/football/leagues/nfl/seasons/2024/types/2/weeks/16/qbr/10000?page=1\n",
      "https://sports.core.api.espn.com/v2/sports/football/leagues/nfl/seasons/2024/types/2/weeks/17/qbr/10000?page=1\n",
      "https://sports.core.api.espn.com/v2/sports/football/leagues/nfl/seasons/2024/types/2/weeks/18/qbr/10000?page=1\n"
     ]
    }
   ],
   "source": [
    "pb = fetch.qb_epa(year = 2024)"
   ],
   "metadata": {
    "collapsed": false,
    "ExecuteTime": {
     "end_time": "2024-10-16T03:42:58.199557Z",
     "start_time": "2024-10-16T03:42:23.935261Z"
    }
   },
   "id": "2eea1dcc23f4134f"
  },
  {
   "cell_type": "code",
   "execution_count": 63,
   "outputs": [
    {
     "data": {
      "text/plain": "    athlete_id         id points_added pass_epa rush_epa sack_epa penalty_epa  \\\n0         8439  401671696         -0.3      1.4      0.0     -0.5         0.0   \n1        12483  401671792          1.8      5.8      0.0     -0.6         1.0   \n2        14880  401671744         -1.7      0.6      0.0     -0.5         0.2   \n3        15864  401671664          3.1      2.8      0.0     -0.6         0.7   \n4        16757  401671734          3.7      3.2      0.1     -0.2         0.3   \n..         ...        ...          ...      ...      ...      ...         ...   \n178    4426339  401671735         -2.8     -0.2      0.0     -1.8         0.3   \n179    4426348  401671625          3.3      6.1     -0.5     -1.2         0.3   \n180    4431452  401671619         -2.9     -0.3      0.0     -1.5        -0.3   \n181    4431611  401671802          7.4      7.6      0.5     -0.9         0.6   \n182    4432577  401671619          3.7      4.4      0.0     -0.5         1.1   \n\n    total_epa qb_plays  cwa  ... int_epa yac_epa run_epa scramble_epa  \\\n0         1.4       22  0.0  ...     0.0     0.2     0.0          0.0   \n1         6.8       56  0.0  ...     0.0     0.0     0.0          0.0   \n2         0.8       29  0.0  ...     0.0    -0.1     0.0          0.0   \n3         6.1       36  0.0  ...     0.0    -0.4     2.6          2.5   \n4         3.8       28  0.0  ...     0.0    -0.4     0.2          0.1   \n..        ...      ...  ...  ...     ...     ...     ...          ...   \n178       1.3       51  0.0  ...     0.0     0.0     1.3          1.3   \n179       7.0       47  0.0  ...     0.0    -0.1     0.6          0.8   \n180       0.8       46  0.0  ...     0.0     0.5     1.4          1.1   \n181       9.7       39  0.0  ...     0.0     0.2     1.5          0.9   \n182       6.2       37  0.0  ...     0.0    -0.4     0.7          0.6   \n\n    expected_sack_epa fumble_epa defense_faced_epa total_qbr unq_rank  \\\n0                 0.0        0.0              52.0      52.5       19   \n1                 0.0        0.0              54.1      65.5       15   \n2                 0.0        0.0              47.0      34.0       26   \n3                 0.0        0.0              48.8      78.8       10   \n4                 0.0        0.0              68.3      76.0       12   \n..                ...        ...               ...       ...      ...   \n178               0.0        0.0              55.6      27.9       27   \n179               0.0        0.0              56.5      74.4       10   \n180               0.0       -0.7              48.8      31.3       25   \n181               0.0        0.0              70.3      88.4        2   \n182               0.0        0.0              65.0      74.6        9   \n\n                 name  \n0       Aaron Rodgers  \n1    Matthew Stafford  \n2        Kirk Cousins  \n3          Geno Smith  \n4          Derek Carr  \n..                ...  \n178   Spencer Rattler  \n179    Jayden Daniels  \n180        Drake Maye  \n181    Caleb Williams  \n182       C.J. Stroud  \n\n[183 rows x 22 columns]",
      "text/html": "<div>\n<style scoped>\n    .dataframe tbody tr th:only-of-type {\n        vertical-align: middle;\n    }\n\n    .dataframe tbody tr th {\n        vertical-align: top;\n    }\n\n    .dataframe thead th {\n        text-align: right;\n    }\n</style>\n<table border=\"1\" class=\"dataframe\">\n  <thead>\n    <tr style=\"text-align: right;\">\n      <th></th>\n      <th>athlete_id</th>\n      <th>id</th>\n      <th>points_added</th>\n      <th>pass_epa</th>\n      <th>rush_epa</th>\n      <th>sack_epa</th>\n      <th>penalty_epa</th>\n      <th>total_epa</th>\n      <th>qb_plays</th>\n      <th>cwa</th>\n      <th>...</th>\n      <th>int_epa</th>\n      <th>yac_epa</th>\n      <th>run_epa</th>\n      <th>scramble_epa</th>\n      <th>expected_sack_epa</th>\n      <th>fumble_epa</th>\n      <th>defense_faced_epa</th>\n      <th>total_qbr</th>\n      <th>unq_rank</th>\n      <th>name</th>\n    </tr>\n  </thead>\n  <tbody>\n    <tr>\n      <th>0</th>\n      <td>8439</td>\n      <td>401671696</td>\n      <td>-0.3</td>\n      <td>1.4</td>\n      <td>0.0</td>\n      <td>-0.5</td>\n      <td>0.0</td>\n      <td>1.4</td>\n      <td>22</td>\n      <td>0.0</td>\n      <td>...</td>\n      <td>0.0</td>\n      <td>0.2</td>\n      <td>0.0</td>\n      <td>0.0</td>\n      <td>0.0</td>\n      <td>0.0</td>\n      <td>52.0</td>\n      <td>52.5</td>\n      <td>19</td>\n      <td>Aaron Rodgers</td>\n    </tr>\n    <tr>\n      <th>1</th>\n      <td>12483</td>\n      <td>401671792</td>\n      <td>1.8</td>\n      <td>5.8</td>\n      <td>0.0</td>\n      <td>-0.6</td>\n      <td>1.0</td>\n      <td>6.8</td>\n      <td>56</td>\n      <td>0.0</td>\n      <td>...</td>\n      <td>0.0</td>\n      <td>0.0</td>\n      <td>0.0</td>\n      <td>0.0</td>\n      <td>0.0</td>\n      <td>0.0</td>\n      <td>54.1</td>\n      <td>65.5</td>\n      <td>15</td>\n      <td>Matthew Stafford</td>\n    </tr>\n    <tr>\n      <th>2</th>\n      <td>14880</td>\n      <td>401671744</td>\n      <td>-1.7</td>\n      <td>0.6</td>\n      <td>0.0</td>\n      <td>-0.5</td>\n      <td>0.2</td>\n      <td>0.8</td>\n      <td>29</td>\n      <td>0.0</td>\n      <td>...</td>\n      <td>0.0</td>\n      <td>-0.1</td>\n      <td>0.0</td>\n      <td>0.0</td>\n      <td>0.0</td>\n      <td>0.0</td>\n      <td>47.0</td>\n      <td>34.0</td>\n      <td>26</td>\n      <td>Kirk Cousins</td>\n    </tr>\n    <tr>\n      <th>3</th>\n      <td>15864</td>\n      <td>401671664</td>\n      <td>3.1</td>\n      <td>2.8</td>\n      <td>0.0</td>\n      <td>-0.6</td>\n      <td>0.7</td>\n      <td>6.1</td>\n      <td>36</td>\n      <td>0.0</td>\n      <td>...</td>\n      <td>0.0</td>\n      <td>-0.4</td>\n      <td>2.6</td>\n      <td>2.5</td>\n      <td>0.0</td>\n      <td>0.0</td>\n      <td>48.8</td>\n      <td>78.8</td>\n      <td>10</td>\n      <td>Geno Smith</td>\n    </tr>\n    <tr>\n      <th>4</th>\n      <td>16757</td>\n      <td>401671734</td>\n      <td>3.7</td>\n      <td>3.2</td>\n      <td>0.1</td>\n      <td>-0.2</td>\n      <td>0.3</td>\n      <td>3.8</td>\n      <td>28</td>\n      <td>0.0</td>\n      <td>...</td>\n      <td>0.0</td>\n      <td>-0.4</td>\n      <td>0.2</td>\n      <td>0.1</td>\n      <td>0.0</td>\n      <td>0.0</td>\n      <td>68.3</td>\n      <td>76.0</td>\n      <td>12</td>\n      <td>Derek Carr</td>\n    </tr>\n    <tr>\n      <th>...</th>\n      <td>...</td>\n      <td>...</td>\n      <td>...</td>\n      <td>...</td>\n      <td>...</td>\n      <td>...</td>\n      <td>...</td>\n      <td>...</td>\n      <td>...</td>\n      <td>...</td>\n      <td>...</td>\n      <td>...</td>\n      <td>...</td>\n      <td>...</td>\n      <td>...</td>\n      <td>...</td>\n      <td>...</td>\n      <td>...</td>\n      <td>...</td>\n      <td>...</td>\n      <td>...</td>\n    </tr>\n    <tr>\n      <th>178</th>\n      <td>4426339</td>\n      <td>401671735</td>\n      <td>-2.8</td>\n      <td>-0.2</td>\n      <td>0.0</td>\n      <td>-1.8</td>\n      <td>0.3</td>\n      <td>1.3</td>\n      <td>51</td>\n      <td>0.0</td>\n      <td>...</td>\n      <td>0.0</td>\n      <td>0.0</td>\n      <td>1.3</td>\n      <td>1.3</td>\n      <td>0.0</td>\n      <td>0.0</td>\n      <td>55.6</td>\n      <td>27.9</td>\n      <td>27</td>\n      <td>Spencer Rattler</td>\n    </tr>\n    <tr>\n      <th>179</th>\n      <td>4426348</td>\n      <td>401671625</td>\n      <td>3.3</td>\n      <td>6.1</td>\n      <td>-0.5</td>\n      <td>-1.2</td>\n      <td>0.3</td>\n      <td>7.0</td>\n      <td>47</td>\n      <td>0.0</td>\n      <td>...</td>\n      <td>0.0</td>\n      <td>-0.1</td>\n      <td>0.6</td>\n      <td>0.8</td>\n      <td>0.0</td>\n      <td>0.0</td>\n      <td>56.5</td>\n      <td>74.4</td>\n      <td>10</td>\n      <td>Jayden Daniels</td>\n    </tr>\n    <tr>\n      <th>180</th>\n      <td>4431452</td>\n      <td>401671619</td>\n      <td>-2.9</td>\n      <td>-0.3</td>\n      <td>0.0</td>\n      <td>-1.5</td>\n      <td>-0.3</td>\n      <td>0.8</td>\n      <td>46</td>\n      <td>0.0</td>\n      <td>...</td>\n      <td>0.0</td>\n      <td>0.5</td>\n      <td>1.4</td>\n      <td>1.1</td>\n      <td>0.0</td>\n      <td>-0.7</td>\n      <td>48.8</td>\n      <td>31.3</td>\n      <td>25</td>\n      <td>Drake Maye</td>\n    </tr>\n    <tr>\n      <th>181</th>\n      <td>4431611</td>\n      <td>401671802</td>\n      <td>7.4</td>\n      <td>7.6</td>\n      <td>0.5</td>\n      <td>-0.9</td>\n      <td>0.6</td>\n      <td>9.7</td>\n      <td>39</td>\n      <td>0.0</td>\n      <td>...</td>\n      <td>0.0</td>\n      <td>0.2</td>\n      <td>1.5</td>\n      <td>0.9</td>\n      <td>0.0</td>\n      <td>0.0</td>\n      <td>70.3</td>\n      <td>88.4</td>\n      <td>2</td>\n      <td>Caleb Williams</td>\n    </tr>\n    <tr>\n      <th>182</th>\n      <td>4432577</td>\n      <td>401671619</td>\n      <td>3.7</td>\n      <td>4.4</td>\n      <td>0.0</td>\n      <td>-0.5</td>\n      <td>1.1</td>\n      <td>6.2</td>\n      <td>37</td>\n      <td>0.0</td>\n      <td>...</td>\n      <td>0.0</td>\n      <td>-0.4</td>\n      <td>0.7</td>\n      <td>0.6</td>\n      <td>0.0</td>\n      <td>0.0</td>\n      <td>65.0</td>\n      <td>74.6</td>\n      <td>9</td>\n      <td>C.J. Stroud</td>\n    </tr>\n  </tbody>\n</table>\n<p>183 rows × 22 columns</p>\n</div>"
     },
     "execution_count": 63,
     "metadata": {},
     "output_type": "execute_result"
    }
   ],
   "source": [
    "pb"
   ],
   "metadata": {
    "collapsed": false,
    "ExecuteTime": {
     "end_time": "2024-10-16T03:43:03.202370Z",
     "start_time": "2024-10-16T03:43:03.196209Z"
    }
   },
   "id": "5668b5b1e0692fad"
  },
  {
   "cell_type": "code",
   "execution_count": 9,
   "outputs": [
    {
     "data": {
      "text/plain": "       name                id\n0   4361741       Brock Purdy\n1     15864        Geno Smith\n2   4360310   Trevor Lawrence\n3   4241464         Mac Jones\n4   4431611    Caleb Williams\n..      ...               ...\n60  4241479    Tua Tagovailoa\n61  3916370          Jack Fox\n62  4242431       Ty Chandler\n63    14163      Tyrod Taylor\n64  3126486  Deebo Samuel Sr.\n\n[65 rows x 2 columns]",
      "text/html": "<div>\n<style scoped>\n    .dataframe tbody tr th:only-of-type {\n        vertical-align: middle;\n    }\n\n    .dataframe tbody tr th {\n        vertical-align: top;\n    }\n\n    .dataframe thead th {\n        text-align: right;\n    }\n</style>\n<table border=\"1\" class=\"dataframe\">\n  <thead>\n    <tr style=\"text-align: right;\">\n      <th></th>\n      <th>name</th>\n      <th>id</th>\n    </tr>\n  </thead>\n  <tbody>\n    <tr>\n      <th>0</th>\n      <td>4361741</td>\n      <td>Brock Purdy</td>\n    </tr>\n    <tr>\n      <th>1</th>\n      <td>15864</td>\n      <td>Geno Smith</td>\n    </tr>\n    <tr>\n      <th>2</th>\n      <td>4360310</td>\n      <td>Trevor Lawrence</td>\n    </tr>\n    <tr>\n      <th>3</th>\n      <td>4241464</td>\n      <td>Mac Jones</td>\n    </tr>\n    <tr>\n      <th>4</th>\n      <td>4431611</td>\n      <td>Caleb Williams</td>\n    </tr>\n    <tr>\n      <th>...</th>\n      <td>...</td>\n      <td>...</td>\n    </tr>\n    <tr>\n      <th>60</th>\n      <td>4241479</td>\n      <td>Tua Tagovailoa</td>\n    </tr>\n    <tr>\n      <th>61</th>\n      <td>3916370</td>\n      <td>Jack Fox</td>\n    </tr>\n    <tr>\n      <th>62</th>\n      <td>4242431</td>\n      <td>Ty Chandler</td>\n    </tr>\n    <tr>\n      <th>63</th>\n      <td>14163</td>\n      <td>Tyrod Taylor</td>\n    </tr>\n    <tr>\n      <th>64</th>\n      <td>3126486</td>\n      <td>Deebo Samuel Sr.</td>\n    </tr>\n  </tbody>\n</table>\n<p>65 rows × 2 columns</p>\n</div>"
     },
     "execution_count": 9,
     "metadata": {},
     "output_type": "execute_result"
    }
   ],
   "source": [
    "athlete_dict = {'name':[], 'id':[]}\n",
    "\n",
    "for id, name in zip(pb.name.unique(), pb.athlete_id.unique()):\n",
    "    athlete_dict['name'].append(name)\n",
    "    athlete_dict['id'].append(id)\n",
    "    \n",
    "athlete_df = pd.DataFrame(athlete_dict)\n",
    "athlete_df"
   ],
   "metadata": {
    "collapsed": false,
    "ExecuteTime": {
     "end_time": "2024-10-14T18:11:29.168672Z",
     "start_time": "2024-10-14T18:11:29.157180Z"
    }
   },
   "id": "f030cde5f6acf5ab"
  },
  {
   "cell_type": "code",
   "execution_count": 6,
   "outputs": [
    {
     "data": {
      "text/plain": "                  date                  team              name athlete_id  \\\n0    2024-10-11T00:15Z   San Francisco 49ers       Brock Purdy    4361741   \n1    2024-10-11T00:15Z      Seattle Seahawks        Geno Smith      15864   \n2    2024-10-13T13:30Z  Jacksonville Jaguars   Trevor Lawrence    4360310   \n3    2024-10-13T13:30Z  Jacksonville Jaguars         Mac Jones    4241464   \n4    2024-10-13T13:30Z         Chicago Bears    Caleb Williams    4431611   \n..                 ...                   ...               ...        ...   \n215  2024-09-09T00:20Z         Detroit Lions        Jared Goff    3046779   \n216  2024-09-10T00:15Z         New York Jets     Aaron Rodgers       8439   \n217  2024-09-10T00:15Z         New York Jets      Tyrod Taylor      14163   \n218  2024-09-10T00:15Z   San Francisco 49ers       Brock Purdy    4361741   \n219  2024-09-10T00:15Z   San Francisco 49ers  Deebo Samuel Sr.    3126486   \n\n    number  yards  yards_per_attempt  touchdowns  interceptions sacks  \\\n0       13    255                9.1           3              0   0-0   \n1        7    312                6.0           1              2   1-6   \n2       16    234                6.7           2              1  3-20   \n3       10      6                6.0           0              0  1-10   \n4       18    226                7.8           4              1   3-5   \n..     ...    ...                ...         ...            ...   ...   \n215     16    217                7.8           1              1  2-17   \n216      8    167                8.0           1              1   1-5   \n217      2     36                4.5           1              0   0-0   \n218     13    231                8.0           0              0   2-6   \n219      1      0                0.0           0              0   1-4   \n\n     adjusted_qbr  passer_rating  completions  attempts  times_sacked  \\\n0            90.5          129.3           18        28             0   \n1            53.1           65.5           30        52             1   \n2            66.6           91.8           23        35             3   \n3             8.1           91.7            1         1             1   \n4            88.4          124.4           23        29             3   \n..            ...            ...          ...       ...           ...   \n215          30.8           85.0           18        28             2   \n216          52.3           82.8           13        21             1   \n217          96.1          122.9            6         8             0   \n218          87.4           89.9           19        29             2   \n219           0.0            0.0            0         0             1   \n\n     sack_yards  completion_%  yards_per_completion  touchdown_%  \n0             0     64.285714             14.166667    10.714286  \n1             6     57.692308             10.400000     1.923077  \n2            20     65.714286             10.173913     5.714286  \n3            10    100.000000              6.000000     0.000000  \n4             5     79.310345              9.826087    13.793103  \n..          ...           ...                   ...          ...  \n215          17     64.285714             12.055556     3.571429  \n216           5     61.904762             12.846154     4.761905  \n217           0     75.000000              6.000000    12.500000  \n218           6     65.517241             12.157895     0.000000  \n219           4           NaN                   NaN          NaN  \n\n[220 rows x 19 columns]",
      "text/html": "<div>\n<style scoped>\n    .dataframe tbody tr th:only-of-type {\n        vertical-align: middle;\n    }\n\n    .dataframe tbody tr th {\n        vertical-align: top;\n    }\n\n    .dataframe thead th {\n        text-align: right;\n    }\n</style>\n<table border=\"1\" class=\"dataframe\">\n  <thead>\n    <tr style=\"text-align: right;\">\n      <th></th>\n      <th>date</th>\n      <th>team</th>\n      <th>name</th>\n      <th>athlete_id</th>\n      <th>number</th>\n      <th>yards</th>\n      <th>yards_per_attempt</th>\n      <th>touchdowns</th>\n      <th>interceptions</th>\n      <th>sacks</th>\n      <th>adjusted_qbr</th>\n      <th>passer_rating</th>\n      <th>completions</th>\n      <th>attempts</th>\n      <th>times_sacked</th>\n      <th>sack_yards</th>\n      <th>completion_%</th>\n      <th>yards_per_completion</th>\n      <th>touchdown_%</th>\n    </tr>\n  </thead>\n  <tbody>\n    <tr>\n      <th>0</th>\n      <td>2024-10-11T00:15Z</td>\n      <td>San Francisco 49ers</td>\n      <td>Brock Purdy</td>\n      <td>4361741</td>\n      <td>13</td>\n      <td>255</td>\n      <td>9.1</td>\n      <td>3</td>\n      <td>0</td>\n      <td>0-0</td>\n      <td>90.5</td>\n      <td>129.3</td>\n      <td>18</td>\n      <td>28</td>\n      <td>0</td>\n      <td>0</td>\n      <td>64.285714</td>\n      <td>14.166667</td>\n      <td>10.714286</td>\n    </tr>\n    <tr>\n      <th>1</th>\n      <td>2024-10-11T00:15Z</td>\n      <td>Seattle Seahawks</td>\n      <td>Geno Smith</td>\n      <td>15864</td>\n      <td>7</td>\n      <td>312</td>\n      <td>6.0</td>\n      <td>1</td>\n      <td>2</td>\n      <td>1-6</td>\n      <td>53.1</td>\n      <td>65.5</td>\n      <td>30</td>\n      <td>52</td>\n      <td>1</td>\n      <td>6</td>\n      <td>57.692308</td>\n      <td>10.400000</td>\n      <td>1.923077</td>\n    </tr>\n    <tr>\n      <th>2</th>\n      <td>2024-10-13T13:30Z</td>\n      <td>Jacksonville Jaguars</td>\n      <td>Trevor Lawrence</td>\n      <td>4360310</td>\n      <td>16</td>\n      <td>234</td>\n      <td>6.7</td>\n      <td>2</td>\n      <td>1</td>\n      <td>3-20</td>\n      <td>66.6</td>\n      <td>91.8</td>\n      <td>23</td>\n      <td>35</td>\n      <td>3</td>\n      <td>20</td>\n      <td>65.714286</td>\n      <td>10.173913</td>\n      <td>5.714286</td>\n    </tr>\n    <tr>\n      <th>3</th>\n      <td>2024-10-13T13:30Z</td>\n      <td>Jacksonville Jaguars</td>\n      <td>Mac Jones</td>\n      <td>4241464</td>\n      <td>10</td>\n      <td>6</td>\n      <td>6.0</td>\n      <td>0</td>\n      <td>0</td>\n      <td>1-10</td>\n      <td>8.1</td>\n      <td>91.7</td>\n      <td>1</td>\n      <td>1</td>\n      <td>1</td>\n      <td>10</td>\n      <td>100.000000</td>\n      <td>6.000000</td>\n      <td>0.000000</td>\n    </tr>\n    <tr>\n      <th>4</th>\n      <td>2024-10-13T13:30Z</td>\n      <td>Chicago Bears</td>\n      <td>Caleb Williams</td>\n      <td>4431611</td>\n      <td>18</td>\n      <td>226</td>\n      <td>7.8</td>\n      <td>4</td>\n      <td>1</td>\n      <td>3-5</td>\n      <td>88.4</td>\n      <td>124.4</td>\n      <td>23</td>\n      <td>29</td>\n      <td>3</td>\n      <td>5</td>\n      <td>79.310345</td>\n      <td>9.826087</td>\n      <td>13.793103</td>\n    </tr>\n    <tr>\n      <th>...</th>\n      <td>...</td>\n      <td>...</td>\n      <td>...</td>\n      <td>...</td>\n      <td>...</td>\n      <td>...</td>\n      <td>...</td>\n      <td>...</td>\n      <td>...</td>\n      <td>...</td>\n      <td>...</td>\n      <td>...</td>\n      <td>...</td>\n      <td>...</td>\n      <td>...</td>\n      <td>...</td>\n      <td>...</td>\n      <td>...</td>\n      <td>...</td>\n    </tr>\n    <tr>\n      <th>215</th>\n      <td>2024-09-09T00:20Z</td>\n      <td>Detroit Lions</td>\n      <td>Jared Goff</td>\n      <td>3046779</td>\n      <td>16</td>\n      <td>217</td>\n      <td>7.8</td>\n      <td>1</td>\n      <td>1</td>\n      <td>2-17</td>\n      <td>30.8</td>\n      <td>85.0</td>\n      <td>18</td>\n      <td>28</td>\n      <td>2</td>\n      <td>17</td>\n      <td>64.285714</td>\n      <td>12.055556</td>\n      <td>3.571429</td>\n    </tr>\n    <tr>\n      <th>216</th>\n      <td>2024-09-10T00:15Z</td>\n      <td>New York Jets</td>\n      <td>Aaron Rodgers</td>\n      <td>8439</td>\n      <td>8</td>\n      <td>167</td>\n      <td>8.0</td>\n      <td>1</td>\n      <td>1</td>\n      <td>1-5</td>\n      <td>52.3</td>\n      <td>82.8</td>\n      <td>13</td>\n      <td>21</td>\n      <td>1</td>\n      <td>5</td>\n      <td>61.904762</td>\n      <td>12.846154</td>\n      <td>4.761905</td>\n    </tr>\n    <tr>\n      <th>217</th>\n      <td>2024-09-10T00:15Z</td>\n      <td>New York Jets</td>\n      <td>Tyrod Taylor</td>\n      <td>14163</td>\n      <td>2</td>\n      <td>36</td>\n      <td>4.5</td>\n      <td>1</td>\n      <td>0</td>\n      <td>0-0</td>\n      <td>96.1</td>\n      <td>122.9</td>\n      <td>6</td>\n      <td>8</td>\n      <td>0</td>\n      <td>0</td>\n      <td>75.000000</td>\n      <td>6.000000</td>\n      <td>12.500000</td>\n    </tr>\n    <tr>\n      <th>218</th>\n      <td>2024-09-10T00:15Z</td>\n      <td>San Francisco 49ers</td>\n      <td>Brock Purdy</td>\n      <td>4361741</td>\n      <td>13</td>\n      <td>231</td>\n      <td>8.0</td>\n      <td>0</td>\n      <td>0</td>\n      <td>2-6</td>\n      <td>87.4</td>\n      <td>89.9</td>\n      <td>19</td>\n      <td>29</td>\n      <td>2</td>\n      <td>6</td>\n      <td>65.517241</td>\n      <td>12.157895</td>\n      <td>0.000000</td>\n    </tr>\n    <tr>\n      <th>219</th>\n      <td>2024-09-10T00:15Z</td>\n      <td>San Francisco 49ers</td>\n      <td>Deebo Samuel Sr.</td>\n      <td>3126486</td>\n      <td>1</td>\n      <td>0</td>\n      <td>0.0</td>\n      <td>0</td>\n      <td>0</td>\n      <td>1-4</td>\n      <td>0.0</td>\n      <td>0.0</td>\n      <td>0</td>\n      <td>0</td>\n      <td>1</td>\n      <td>4</td>\n      <td>NaN</td>\n      <td>NaN</td>\n      <td>NaN</td>\n    </tr>\n  </tbody>\n</table>\n<p>220 rows × 19 columns</p>\n</div>"
     },
     "execution_count": 6,
     "metadata": {},
     "output_type": "execute_result"
    }
   ],
   "source": [
    "\n",
    "pb"
   ],
   "metadata": {
    "collapsed": false,
    "ExecuteTime": {
     "end_time": "2024-10-14T18:09:12.789457Z",
     "start_time": "2024-10-14T18:09:12.764229Z"
    }
   },
   "id": "c0ffb5296df1ef9b"
  },
  {
   "cell_type": "code",
   "execution_count": 52,
   "outputs": [],
   "source": [],
   "metadata": {
    "collapsed": false,
    "ExecuteTime": {
     "end_time": "2024-10-13T04:45:30.291641Z",
     "start_time": "2024-10-13T04:45:30.286383Z"
    }
   },
   "id": "8cfbbba7da203ed5"
  },
  {
   "cell_type": "code",
   "execution_count": 5,
   "outputs": [
    {
     "name": "stdout",
     "output_type": "stream",
     "text": [
      "https://site.api.espn.com/apis/site/v2/sports/football/nfl/scoreboard?limit=1000&dates=2024&seasontype=2&week=1\n",
      "https://site.api.espn.com/apis/site/v2/sports/football/nfl/scoreboard?limit=1000&dates=2024&seasontype=2&week=2\n",
      "https://site.api.espn.com/apis/site/v2/sports/football/nfl/scoreboard?limit=1000&dates=2024&seasontype=2&week=3\n",
      "https://site.api.espn.com/apis/site/v2/sports/football/nfl/scoreboard?limit=1000&dates=2024&seasontype=2&week=4\n",
      "https://site.api.espn.com/apis/site/v2/sports/football/nfl/scoreboard?limit=1000&dates=2024&seasontype=2&week=5\n",
      "https://site.api.espn.com/apis/site/v2/sports/football/nfl/scoreboard?limit=1000&dates=2024&seasontype=2&week=6\n",
      "https://site.api.espn.com/apis/site/v2/sports/football/nfl/scoreboard?limit=1000&dates=2024&seasontype=2&week=7\n",
      "https://site.api.espn.com/apis/site/v2/sports/football/nfl/scoreboard?limit=1000&dates=2024&seasontype=2&week=8\n",
      "https://site.api.espn.com/apis/site/v2/sports/football/nfl/scoreboard?limit=1000&dates=2024&seasontype=2&week=9\n",
      "https://site.api.espn.com/apis/site/v2/sports/football/nfl/scoreboard?limit=1000&dates=2024&seasontype=2&week=10\n",
      "https://site.api.espn.com/apis/site/v2/sports/football/nfl/scoreboard?limit=1000&dates=2024&seasontype=2&week=11\n",
      "https://site.api.espn.com/apis/site/v2/sports/football/nfl/scoreboard?limit=1000&dates=2024&seasontype=2&week=12\n",
      "https://site.api.espn.com/apis/site/v2/sports/football/nfl/scoreboard?limit=1000&dates=2024&seasontype=2&week=13\n",
      "https://site.api.espn.com/apis/site/v2/sports/football/nfl/scoreboard?limit=1000&dates=2024&seasontype=2&week=14\n",
      "https://site.api.espn.com/apis/site/v2/sports/football/nfl/scoreboard?limit=1000&dates=2024&seasontype=2&week=15\n",
      "https://site.api.espn.com/apis/site/v2/sports/football/nfl/scoreboard?limit=1000&dates=2024&seasontype=2&week=16\n",
      "https://site.api.espn.com/apis/site/v2/sports/football/nfl/scoreboard?limit=1000&dates=2024&seasontype=2&week=17\n",
      "https://site.api.espn.com/apis/site/v2/sports/football/nfl/scoreboard?limit=1000&dates=2024&seasontype=2&week=18\n"
     ]
    },
    {
     "name": "stderr",
     "output_type": "stream",
     "text": [
      "100%|██████████| 91/91 [00:18<00:00,  4.97it/s]\n"
     ]
    },
    {
     "name": "stdout",
     "output_type": "stream",
     "text": [
      "https://sports.core.api.espn.com/v2/sports/football/leagues/nfl/seasons/2024/types/2/weeks/1/qbr/10000?page=1\n",
      "https://sports.core.api.espn.com/v2/sports/football/leagues/nfl/seasons/2024/types/2/weeks/1/qbr/10000?page=2\n",
      "https://sports.core.api.espn.com/v2/sports/football/leagues/nfl/seasons/2024/types/2/weeks/2/qbr/10000?page=1\n",
      "https://sports.core.api.espn.com/v2/sports/football/leagues/nfl/seasons/2024/types/2/weeks/2/qbr/10000?page=2\n",
      "https://sports.core.api.espn.com/v2/sports/football/leagues/nfl/seasons/2024/types/2/weeks/3/qbr/10000?page=1\n",
      "https://sports.core.api.espn.com/v2/sports/football/leagues/nfl/seasons/2024/types/2/weeks/3/qbr/10000?page=2\n",
      "https://sports.core.api.espn.com/v2/sports/football/leagues/nfl/seasons/2024/types/2/weeks/4/qbr/10000?page=1\n",
      "https://sports.core.api.espn.com/v2/sports/football/leagues/nfl/seasons/2024/types/2/weeks/4/qbr/10000?page=2\n",
      "https://sports.core.api.espn.com/v2/sports/football/leagues/nfl/seasons/2024/types/2/weeks/5/qbr/10000?page=1\n",
      "https://sports.core.api.espn.com/v2/sports/football/leagues/nfl/seasons/2024/types/2/weeks/5/qbr/10000?page=2\n",
      "https://sports.core.api.espn.com/v2/sports/football/leagues/nfl/seasons/2024/types/2/weeks/6/qbr/10000?page=1\n",
      "https://sports.core.api.espn.com/v2/sports/football/leagues/nfl/seasons/2024/types/2/weeks/6/qbr/10000?page=2\n",
      "https://sports.core.api.espn.com/v2/sports/football/leagues/nfl/seasons/2024/types/2/weeks/7/qbr/10000?page=1\n",
      "https://sports.core.api.espn.com/v2/sports/football/leagues/nfl/seasons/2024/types/2/weeks/8/qbr/10000?page=1\n",
      "https://sports.core.api.espn.com/v2/sports/football/leagues/nfl/seasons/2024/types/2/weeks/9/qbr/10000?page=1\n",
      "https://sports.core.api.espn.com/v2/sports/football/leagues/nfl/seasons/2024/types/2/weeks/10/qbr/10000?page=1\n",
      "https://sports.core.api.espn.com/v2/sports/football/leagues/nfl/seasons/2024/types/2/weeks/11/qbr/10000?page=1\n",
      "https://sports.core.api.espn.com/v2/sports/football/leagues/nfl/seasons/2024/types/2/weeks/12/qbr/10000?page=1\n",
      "https://sports.core.api.espn.com/v2/sports/football/leagues/nfl/seasons/2024/types/2/weeks/13/qbr/10000?page=1\n",
      "https://sports.core.api.espn.com/v2/sports/football/leagues/nfl/seasons/2024/types/2/weeks/14/qbr/10000?page=1\n",
      "https://sports.core.api.espn.com/v2/sports/football/leagues/nfl/seasons/2024/types/2/weeks/15/qbr/10000?page=1\n",
      "https://sports.core.api.espn.com/v2/sports/football/leagues/nfl/seasons/2024/types/2/weeks/16/qbr/10000?page=1\n",
      "https://sports.core.api.espn.com/v2/sports/football/leagues/nfl/seasons/2024/types/2/weeks/17/qbr/10000?page=1\n",
      "https://sports.core.api.espn.com/v2/sports/football/leagues/nfl/seasons/2024/types/2/weeks/18/qbr/10000?page=1\n"
     ]
    },
    {
     "data": {
      "text/plain": "    athlete_id         id points_added pass_epa rush_epa sack_epa penalty_epa  \\\n0         8439  401671696         -0.3      1.4      0.0     -0.5         0.0   \n1        12483  401671792          1.8      5.8      0.0     -0.6         1.0   \n2        14880  401671744         -1.7      0.6      0.0     -0.5         0.2   \n3        15864  401671664          3.1      2.8      0.0     -0.6         0.7   \n4        16757  401671734          3.7      3.2      0.1     -0.2         0.3   \n..         ...        ...          ...      ...      ...      ...         ...   \n176    4426339  401671735         -2.8     -0.2      0.0     -1.8         0.3   \n177    4426348  401671625          3.3      6.1     -0.5     -1.2         0.3   \n178    4431452  401671619         -2.9     -0.3      0.0     -1.5        -0.3   \n179    4431611  401671802          7.4      7.6      0.5     -0.9         0.6   \n180    4432577  401671619          3.7      4.4      0.0     -0.5         1.1   \n\n    total_epa qb_plays  cwa  ... int_epa yac_epa run_epa scramble_epa  \\\n0         1.4       22  0.0  ...     0.0     0.2     0.0          0.0   \n1         6.8       56  0.0  ...     0.0     0.0     0.0          0.0   \n2         0.8       29  0.0  ...     0.0    -0.1     0.0          0.0   \n3         6.1       36  0.0  ...     0.0    -0.4     2.6          2.5   \n4         3.8       28  0.0  ...     0.0    -0.4     0.2          0.1   \n..        ...      ...  ...  ...     ...     ...     ...          ...   \n176       1.3       51  0.0  ...     0.0     0.0     1.3          1.3   \n177       7.0       47  0.0  ...     0.0    -0.1     0.6          0.8   \n178       0.8       46  0.0  ...     0.0     0.5     1.4          1.1   \n179       9.7       39  0.0  ...     0.0     0.2     1.5          0.9   \n180       6.2       37  0.0  ...     0.0    -0.4     0.7          0.6   \n\n    expected_sack_epa fumble_epa defense_faced_epa total_qbr unq_rank  \\\n0                 0.0        0.0              52.0      52.3       19   \n1                 0.0        0.0              54.1      65.3       15   \n2                 0.0        0.0              47.0      33.8       26   \n3                 0.0        0.0              48.8      78.7       10   \n4                 0.0        0.0              68.3      75.9       12   \n..                ...        ...               ...       ...      ...   \n176               0.0        0.0              55.6      27.7       25   \n177               0.0        0.0              56.5      74.2        9   \n178               0.0       -0.7              48.8      31.1       23   \n179               0.0        0.0              70.3      88.4        2   \n180               0.0        0.0              65.0      74.5        8   \n\n                 name  \n0       Aaron Rodgers  \n1    Matthew Stafford  \n2        Kirk Cousins  \n3          Geno Smith  \n4          Derek Carr  \n..                ...  \n176   Spencer Rattler  \n177    Jayden Daniels  \n178        Drake Maye  \n179    Caleb Williams  \n180       C.J. Stroud  \n\n[181 rows x 22 columns]",
      "text/html": "<div>\n<style scoped>\n    .dataframe tbody tr th:only-of-type {\n        vertical-align: middle;\n    }\n\n    .dataframe tbody tr th {\n        vertical-align: top;\n    }\n\n    .dataframe thead th {\n        text-align: right;\n    }\n</style>\n<table border=\"1\" class=\"dataframe\">\n  <thead>\n    <tr style=\"text-align: right;\">\n      <th></th>\n      <th>athlete_id</th>\n      <th>id</th>\n      <th>points_added</th>\n      <th>pass_epa</th>\n      <th>rush_epa</th>\n      <th>sack_epa</th>\n      <th>penalty_epa</th>\n      <th>total_epa</th>\n      <th>qb_plays</th>\n      <th>cwa</th>\n      <th>...</th>\n      <th>int_epa</th>\n      <th>yac_epa</th>\n      <th>run_epa</th>\n      <th>scramble_epa</th>\n      <th>expected_sack_epa</th>\n      <th>fumble_epa</th>\n      <th>defense_faced_epa</th>\n      <th>total_qbr</th>\n      <th>unq_rank</th>\n      <th>name</th>\n    </tr>\n  </thead>\n  <tbody>\n    <tr>\n      <th>0</th>\n      <td>8439</td>\n      <td>401671696</td>\n      <td>-0.3</td>\n      <td>1.4</td>\n      <td>0.0</td>\n      <td>-0.5</td>\n      <td>0.0</td>\n      <td>1.4</td>\n      <td>22</td>\n      <td>0.0</td>\n      <td>...</td>\n      <td>0.0</td>\n      <td>0.2</td>\n      <td>0.0</td>\n      <td>0.0</td>\n      <td>0.0</td>\n      <td>0.0</td>\n      <td>52.0</td>\n      <td>52.3</td>\n      <td>19</td>\n      <td>Aaron Rodgers</td>\n    </tr>\n    <tr>\n      <th>1</th>\n      <td>12483</td>\n      <td>401671792</td>\n      <td>1.8</td>\n      <td>5.8</td>\n      <td>0.0</td>\n      <td>-0.6</td>\n      <td>1.0</td>\n      <td>6.8</td>\n      <td>56</td>\n      <td>0.0</td>\n      <td>...</td>\n      <td>0.0</td>\n      <td>0.0</td>\n      <td>0.0</td>\n      <td>0.0</td>\n      <td>0.0</td>\n      <td>0.0</td>\n      <td>54.1</td>\n      <td>65.3</td>\n      <td>15</td>\n      <td>Matthew Stafford</td>\n    </tr>\n    <tr>\n      <th>2</th>\n      <td>14880</td>\n      <td>401671744</td>\n      <td>-1.7</td>\n      <td>0.6</td>\n      <td>0.0</td>\n      <td>-0.5</td>\n      <td>0.2</td>\n      <td>0.8</td>\n      <td>29</td>\n      <td>0.0</td>\n      <td>...</td>\n      <td>0.0</td>\n      <td>-0.1</td>\n      <td>0.0</td>\n      <td>0.0</td>\n      <td>0.0</td>\n      <td>0.0</td>\n      <td>47.0</td>\n      <td>33.8</td>\n      <td>26</td>\n      <td>Kirk Cousins</td>\n    </tr>\n    <tr>\n      <th>3</th>\n      <td>15864</td>\n      <td>401671664</td>\n      <td>3.1</td>\n      <td>2.8</td>\n      <td>0.0</td>\n      <td>-0.6</td>\n      <td>0.7</td>\n      <td>6.1</td>\n      <td>36</td>\n      <td>0.0</td>\n      <td>...</td>\n      <td>0.0</td>\n      <td>-0.4</td>\n      <td>2.6</td>\n      <td>2.5</td>\n      <td>0.0</td>\n      <td>0.0</td>\n      <td>48.8</td>\n      <td>78.7</td>\n      <td>10</td>\n      <td>Geno Smith</td>\n    </tr>\n    <tr>\n      <th>4</th>\n      <td>16757</td>\n      <td>401671734</td>\n      <td>3.7</td>\n      <td>3.2</td>\n      <td>0.1</td>\n      <td>-0.2</td>\n      <td>0.3</td>\n      <td>3.8</td>\n      <td>28</td>\n      <td>0.0</td>\n      <td>...</td>\n      <td>0.0</td>\n      <td>-0.4</td>\n      <td>0.2</td>\n      <td>0.1</td>\n      <td>0.0</td>\n      <td>0.0</td>\n      <td>68.3</td>\n      <td>75.9</td>\n      <td>12</td>\n      <td>Derek Carr</td>\n    </tr>\n    <tr>\n      <th>...</th>\n      <td>...</td>\n      <td>...</td>\n      <td>...</td>\n      <td>...</td>\n      <td>...</td>\n      <td>...</td>\n      <td>...</td>\n      <td>...</td>\n      <td>...</td>\n      <td>...</td>\n      <td>...</td>\n      <td>...</td>\n      <td>...</td>\n      <td>...</td>\n      <td>...</td>\n      <td>...</td>\n      <td>...</td>\n      <td>...</td>\n      <td>...</td>\n      <td>...</td>\n      <td>...</td>\n    </tr>\n    <tr>\n      <th>176</th>\n      <td>4426339</td>\n      <td>401671735</td>\n      <td>-2.8</td>\n      <td>-0.2</td>\n      <td>0.0</td>\n      <td>-1.8</td>\n      <td>0.3</td>\n      <td>1.3</td>\n      <td>51</td>\n      <td>0.0</td>\n      <td>...</td>\n      <td>0.0</td>\n      <td>0.0</td>\n      <td>1.3</td>\n      <td>1.3</td>\n      <td>0.0</td>\n      <td>0.0</td>\n      <td>55.6</td>\n      <td>27.7</td>\n      <td>25</td>\n      <td>Spencer Rattler</td>\n    </tr>\n    <tr>\n      <th>177</th>\n      <td>4426348</td>\n      <td>401671625</td>\n      <td>3.3</td>\n      <td>6.1</td>\n      <td>-0.5</td>\n      <td>-1.2</td>\n      <td>0.3</td>\n      <td>7.0</td>\n      <td>47</td>\n      <td>0.0</td>\n      <td>...</td>\n      <td>0.0</td>\n      <td>-0.1</td>\n      <td>0.6</td>\n      <td>0.8</td>\n      <td>0.0</td>\n      <td>0.0</td>\n      <td>56.5</td>\n      <td>74.2</td>\n      <td>9</td>\n      <td>Jayden Daniels</td>\n    </tr>\n    <tr>\n      <th>178</th>\n      <td>4431452</td>\n      <td>401671619</td>\n      <td>-2.9</td>\n      <td>-0.3</td>\n      <td>0.0</td>\n      <td>-1.5</td>\n      <td>-0.3</td>\n      <td>0.8</td>\n      <td>46</td>\n      <td>0.0</td>\n      <td>...</td>\n      <td>0.0</td>\n      <td>0.5</td>\n      <td>1.4</td>\n      <td>1.1</td>\n      <td>0.0</td>\n      <td>-0.7</td>\n      <td>48.8</td>\n      <td>31.1</td>\n      <td>23</td>\n      <td>Drake Maye</td>\n    </tr>\n    <tr>\n      <th>179</th>\n      <td>4431611</td>\n      <td>401671802</td>\n      <td>7.4</td>\n      <td>7.6</td>\n      <td>0.5</td>\n      <td>-0.9</td>\n      <td>0.6</td>\n      <td>9.7</td>\n      <td>39</td>\n      <td>0.0</td>\n      <td>...</td>\n      <td>0.0</td>\n      <td>0.2</td>\n      <td>1.5</td>\n      <td>0.9</td>\n      <td>0.0</td>\n      <td>0.0</td>\n      <td>70.3</td>\n      <td>88.4</td>\n      <td>2</td>\n      <td>Caleb Williams</td>\n    </tr>\n    <tr>\n      <th>180</th>\n      <td>4432577</td>\n      <td>401671619</td>\n      <td>3.7</td>\n      <td>4.4</td>\n      <td>0.0</td>\n      <td>-0.5</td>\n      <td>1.1</td>\n      <td>6.2</td>\n      <td>37</td>\n      <td>0.0</td>\n      <td>...</td>\n      <td>0.0</td>\n      <td>-0.4</td>\n      <td>0.7</td>\n      <td>0.6</td>\n      <td>0.0</td>\n      <td>0.0</td>\n      <td>65.0</td>\n      <td>74.5</td>\n      <td>8</td>\n      <td>C.J. Stroud</td>\n    </tr>\n  </tbody>\n</table>\n<p>181 rows × 22 columns</p>\n</div>"
     },
     "execution_count": 5,
     "metadata": {},
     "output_type": "execute_result"
    }
   ],
   "source": [
    "fetch.qb_epa(year = 2024)"
   ],
   "metadata": {
    "collapsed": false,
    "ExecuteTime": {
     "end_time": "2024-10-14T18:25:16.905007Z",
     "start_time": "2024-10-14T18:24:45.401313Z"
    }
   },
   "id": "451640ce07a9e0cd"
  },
  {
   "cell_type": "code",
   "execution_count": 20,
   "outputs": [],
   "source": [
    "|"
   ],
   "metadata": {
    "collapsed": false,
    "ExecuteTime": {
     "end_time": "2024-10-12T22:29:07.606202Z",
     "start_time": "2024-10-12T22:29:07.601539Z"
    }
   },
   "id": "538306549c41f90"
  },
  {
   "cell_type": "code",
   "execution_count": 10,
   "outputs": [],
   "source": [
    "\n"
   ],
   "metadata": {
    "collapsed": false,
    "ExecuteTime": {
     "end_time": "2024-10-12T22:22:45.734399Z",
     "start_time": "2024-10-12T22:22:45.729859Z"
    }
   },
   "id": "3659d4dc0889b87d"
  },
  {
   "cell_type": "code",
   "execution_count": 10,
   "outputs": [],
   "source": [],
   "metadata": {
    "collapsed": false,
    "ExecuteTime": {
     "end_time": "2024-10-12T22:22:45.734486Z",
     "start_time": "2024-10-12T22:22:45.731528Z"
    }
   },
   "id": "786ad06c953129c"
  },
  {
   "cell_type": "code",
   "execution_count": 4,
   "outputs": [],
   "source": [],
   "metadata": {
    "collapsed": false,
    "ExecuteTime": {
     "end_time": "2024-10-12T21:36:00.607449Z",
     "start_time": "2024-10-12T21:36:00.604784Z"
    }
   },
   "id": "aba13dff0c3c7865"
  },
  {
   "cell_type": "code",
   "execution_count": 11,
   "outputs": [],
   "source": [],
   "metadata": {
    "collapsed": false,
    "ExecuteTime": {
     "end_time": "2024-10-12T21:18:33.392569Z",
     "start_time": "2024-10-12T21:18:33.379862Z"
    }
   },
   "id": "d6e3068182196ee2"
  },
  {
   "cell_type": "code",
   "execution_count": 1,
   "outputs": [],
   "source": [],
   "metadata": {
    "collapsed": false,
    "ExecuteTime": {
     "end_time": "2024-10-12T18:34:39.763988Z",
     "start_time": "2024-10-12T18:34:39.748200Z"
    }
   },
   "id": "2485d885eeb3950c"
  },
  {
   "cell_type": "code",
   "execution_count": 9,
   "outputs": [],
   "source": [
    "\n"
   ],
   "metadata": {
    "collapsed": false,
    "ExecuteTime": {
     "end_time": "2024-10-12T20:03:32.894229Z",
     "start_time": "2024-10-12T20:03:32.890420Z"
    }
   },
   "id": "7ccfcfb1834c30c7"
  },
  {
   "cell_type": "code",
   "execution_count": 11,
   "outputs": [],
   "source": [],
   "metadata": {
    "collapsed": false,
    "ExecuteTime": {
     "end_time": "2024-10-12T21:18:35.856916Z",
     "start_time": "2024-10-12T21:18:35.840933Z"
    }
   },
   "id": "573cda8dbfdd2b71"
  },
  {
   "cell_type": "code",
   "execution_count": 11,
   "outputs": [],
   "source": [
    "\n",
    "stat_dict = {'team':[], 'avg_point_differential':[], 'avg_margin_of_victory':[], 'avg_margin_of_defeat':[]}\n",
    "\n",
    "for team in boxscore.team.unique():\n",
    "    team_df = boxscore[boxscore['team'] == team]\n",
    "    wins_df = team_df[team_df['result'] == 'W']\n",
    "    loss_df = team_df[team_df['result'] == 'L']\n",
    "    avg_point_differential = team_df['point_differential'].mean()\n",
    "    avg_margin_of_victory = wins_df['point_differential'].mean()\n",
    "    avg_margin_of_defeat = loss_df['point_differential'].mean()\n",
    "    stat_dict['team'].append(team)\n",
    "    stat_dict['avg_point_differential'].append(avg_point_differential)\n",
    "    stat_dict['avg_margin_of_victory'].append(avg_margin_of_victory)\n",
    "    stat_dict['avg_margin_of_defeat'].append(avg_margin_of_defeat)\n",
    "\n",
    "stat_df = pd.DataFrame(stat_dict)\n",
    "stat_df\n"
   ],
   "metadata": {
    "collapsed": false,
    "ExecuteTime": {
     "end_time": "2024-10-14T16:32:03.543115Z",
     "start_time": "2024-10-14T16:32:03.534723Z"
    }
   },
   "id": "62e5c445bf9e090d"
  },
  {
   "cell_type": "code",
   "execution_count": 11,
   "outputs": [],
   "source": [
    "# Initialize the dictionary to store results\n",
    "\n",
    "epa_dict = {'athlete_id':[], 'id':[], 'points_added':[], 'pass_epa':[], 'rush_epa':[], 'sack_epa':[], \n",
    "            'penalty_epa':[], 'total_epa':[], 'qb_plays':[], 'cwa':[], 'raw_qbr':[], 'expected_pass_epa':[], \n",
    "            'int_epa':[], 'yac_epa':[], 'run_epa':[], 'scramble_epa':[], 'expected_sack_epa':[], 'fumble_epa':[],\n",
    "            'defense_faced_epa':[], 'total_qbr':[], 'unq_rank':[]}\n",
    "\n",
    "base_url = f'https://sports.core.api.espn.com/v2/sports/football/leagues/nfl/seasons/2024/types/2/weeks/5/qbr/10000'\n",
    "\n",
    "\n",
    "def extract_id(url):\n",
    "    match = re.search(r'/(\\d+)(?:\\?|$)', url)\n",
    "    if match:\n",
    "        return match.group(1)\n",
    "    return None\n",
    "\n",
    "\n",
    "page_index = 1 \n",
    "while True:\n",
    "    url = f\"{base_url}?page={page_index}\"\n",
    "    response = requests.get(url)\n",
    "    if response.status_code == 200:\n",
    "        data = response.json()\n",
    "\n",
    "        for x in data['items']:\n",
    "            athlete_url = x['athlete']['$ref']\n",
    "            event_url = x['event']['$ref']\n",
    "            athlete_id = extract_id(athlete_url)\n",
    "            id = extract_id(event_url)\n",
    "            points_added = x['splits']['categories'][0]['stats'][0]['displayValue']\n",
    "            pass_epa = x['splits']['categories'][0]['stats'][1]['displayValue']\n",
    "            rush_epa = x['splits']['categories'][0]['stats'][2]['displayValue']\n",
    "            sack_epa = x['splits']['categories'][0]['stats'][3]['displayValue']\n",
    "            penalty_epa = x['splits']['categories'][0]['stats'][4]['displayValue']\n",
    "            total_epa = x['splits']['categories'][0]['stats'][5]['displayValue']\n",
    "            qb_plays = x['splits']['categories'][0]['stats'][6]['displayValue']\n",
    "            cwa = x['splits']['categories'][0]['stats'][7]['displayValue']\n",
    "            raw_qbr = x['splits']['categories'][0]['stats'][8]['displayValue']\n",
    "            expected_pass_epa = x['splits']['categories'][0]['stats'][9]['displayValue']\n",
    "            int_epa = x['splits']['categories'][0]['stats'][10]['displayValue']\n",
    "            yac_epa = x['splits']['categories'][0]['stats'][11]['displayValue']\n",
    "            run_epa = x['splits']['categories'][0]['stats'][12]['displayValue']\n",
    "            scramble_epa = x['splits']['categories'][0]['stats'][13]['displayValue']\n",
    "            expected_sack_epa = x['splits']['categories'][0]['stats'][14]['displayValue']\n",
    "            fumble_epa = x['splits']['categories'][0]['stats'][15]['displayValue']\n",
    "            defense_faced_epa = x['splits']['categories'][0]['stats'][16]['displayValue']\n",
    "            total_qbr = x['splits']['categories'][0]['stats'][17]['displayValue']\n",
    "            unq_rank = x['splits']['categories'][0]['stats'][18]['displayValue']\n",
    "\n",
    "            epa_dict['athlete_id'].append(athlete_id)\n",
    "            epa_dict['id'].append(id)\n",
    "            epa_dict['points_added'].append(points_added)\n",
    "            epa_dict['pass_epa'].append(pass_epa)\n",
    "            epa_dict['rush_epa'].append(rush_epa)\n",
    "            epa_dict['sack_epa'].append(sack_epa)\n",
    "            epa_dict['penalty_epa'].append(penalty_epa)\n",
    "            epa_dict['total_epa'].append(total_epa)\n",
    "            epa_dict['qb_plays'].append(qb_plays)\n",
    "            epa_dict['cwa'].append(cwa)\n",
    "            epa_dict['raw_qbr'].append(raw_qbr)\n",
    "            epa_dict['expected_pass_epa'].append(expected_pass_epa)\n",
    "            epa_dict['int_epa'].append(int_epa)\n",
    "            epa_dict['yac_epa'].append(yac_epa)\n",
    "            epa_dict['run_epa'].append(run_epa)\n",
    "            epa_dict['scramble_epa'].append(scramble_epa)\n",
    "            epa_dict['expected_sack_epa'].append(expected_sack_epa)\n",
    "            epa_dict['fumble_epa'].append(fumble_epa)\n",
    "            epa_dict['defense_faced_epa'].append(defense_faced_epa)\n",
    "            epa_dict['total_qbr'].append(total_qbr)\n",
    "            epa_dict['unq_rank'].append(unq_rank)\n",
    "\n",
    "        if page_index >= data.get('pageCount', 1):\n",
    "            break \n",
    "        page_index += 1\n",
    "    \n",
    "    else:\n",
    "        print(f\"Failed to fetch data from {url}\")\n",
    "        break\n",
    "\n",
    "epa_df = pd.DataFrame(epa_dict)\n"
   ],
   "metadata": {
    "collapsed": false,
    "ExecuteTime": {
     "end_time": "2024-10-14T16:32:03.992589Z",
     "start_time": "2024-10-14T16:32:03.989888Z"
    }
   },
   "id": "bbc33fe60ac6a0a5"
  },
  {
   "cell_type": "code",
   "execution_count": 11,
   "outputs": [],
   "source": [
    "epa_d"
   ],
   "metadata": {
    "collapsed": false,
    "ExecuteTime": {
     "end_time": "2024-10-14T16:31:58.554419Z",
     "start_time": "2024-10-14T16:31:58.541337Z"
    }
   },
   "id": "247cac0ec9137bb5"
  },
  {
   "cell_type": "code",
   "execution_count": 11,
   "outputs": [],
   "source": [],
   "metadata": {
    "collapsed": false,
    "ExecuteTime": {
     "end_time": "2024-10-14T16:31:59.080835Z",
     "start_time": "2024-10-14T16:31:59.070375Z"
    }
   },
   "id": "88184997be9f2f9e"
  },
  {
   "cell_type": "code",
   "execution_count": 12,
   "outputs": [],
   "source": [],
   "metadata": {
    "collapsed": false,
    "ExecuteTime": {
     "end_time": "2024-10-08T03:26:11.520659Z",
     "start_time": "2024-10-08T03:26:11.496428Z"
    }
   },
   "id": "c06e207bd114ce68"
  },
  {
   "cell_type": "code",
   "execution_count": 24,
   "outputs": [],
   "source": [],
   "metadata": {
    "collapsed": false,
    "ExecuteTime": {
     "end_time": "2024-10-07T23:49:14.862142Z",
     "start_time": "2024-10-07T23:49:14.837809Z"
    }
   },
   "id": "6ee67305f8d9cd25"
  },
  {
   "cell_type": "code",
   "execution_count": 6,
   "outputs": [],
   "source": [],
   "metadata": {
    "collapsed": false,
    "ExecuteTime": {
     "end_time": "2024-10-05T14:16:23.260908Z",
     "start_time": "2024-10-05T14:16:23.254456Z"
    }
   },
   "id": "a4fe83b60321f83c"
  },
  {
   "cell_type": "markdown",
   "source": [],
   "metadata": {
    "collapsed": false
   },
   "id": "6e10abc99689289"
  },
  {
   "cell_type": "markdown",
   "source": [
    "    "
   ],
   "metadata": {
    "collapsed": false
   },
   "id": "a91e9209662b90a7"
  },
  {
   "cell_type": "code",
   "execution_count": 6,
   "outputs": [],
   "source": [],
   "metadata": {
    "collapsed": false,
    "ExecuteTime": {
     "end_time": "2024-10-05T14:16:18.274449Z",
     "start_time": "2024-10-05T14:16:18.271880Z"
    }
   },
   "id": "361f6053062a4b60"
  },
  {
   "cell_type": "code",
   "execution_count": 2,
   "outputs": [],
   "source": [],
   "metadata": {
    "collapsed": false,
    "ExecuteTime": {
     "end_time": "2024-10-03T19:50:55.764418Z",
     "start_time": "2024-10-03T19:50:55.757631Z"
    }
   },
   "id": "b25283740375e06b"
  },
  {
   "cell_type": "markdown",
   "source": [
    " "
   ],
   "metadata": {
    "collapsed": false
   },
   "id": "79d354ce0fd944e1"
  },
  {
   "cell_type": "code",
   "execution_count": 2,
   "outputs": [],
   "source": [],
   "metadata": {
    "collapsed": false,
    "ExecuteTime": {
     "end_time": "2024-10-03T19:50:59.753461Z",
     "start_time": "2024-10-03T19:50:59.742772Z"
    }
   },
   "id": "10712f09d0cffe03"
  },
  {
   "cell_type": "code",
   "execution_count": 1,
   "outputs": [],
   "source": [],
   "metadata": {
    "collapsed": false,
    "ExecuteTime": {
     "end_time": "2024-09-25T00:47:13.889717Z",
     "start_time": "2024-09-25T00:47:13.875425Z"
    }
   },
   "id": "4e220234adac7230"
  },
  {
   "cell_type": "code",
   "execution_count": 4,
   "outputs": [],
   "source": [],
   "metadata": {
    "collapsed": false,
    "ExecuteTime": {
     "end_time": "2024-09-25T00:50:53.156956Z",
     "start_time": "2024-09-25T00:50:53.139245Z"
    }
   },
   "id": "d9416f8526b1f4e6"
  },
  {
   "cell_type": "code",
   "execution_count": 4,
   "outputs": [],
   "source": [],
   "metadata": {
    "collapsed": false,
    "ExecuteTime": {
     "end_time": "2024-09-25T00:50:56.152345Z",
     "start_time": "2024-09-25T00:50:56.137888Z"
    }
   },
   "id": "13c65fcc74a78f60"
  },
  {
   "cell_type": "markdown",
   "source": [],
   "metadata": {
    "collapsed": false
   },
   "id": "13333f6b73df185b"
  },
  {
   "cell_type": "code",
   "execution_count": null,
   "outputs": [],
   "source": [],
   "metadata": {
    "collapsed": false
   },
   "id": "bbd06cd5dbb7fd55"
  },
  {
   "cell_type": "markdown",
   "source": [],
   "metadata": {
    "collapsed": false
   },
   "id": "cd6265fa45cd1f24"
  },
  {
   "cell_type": "markdown",
   "source": [],
   "metadata": {
    "collapsed": false
   },
   "id": "97bd8c6ebb380f1f"
  },
  {
   "cell_type": "code",
   "execution_count": 17,
   "outputs": [],
   "source": [],
   "metadata": {
    "collapsed": false,
    "ExecuteTime": {
     "end_time": "2024-09-20T03:49:17.737822Z",
     "start_time": "2024-09-20T03:49:17.708221Z"
    }
   },
   "id": "2bb6f3f919127843"
  },
  {
   "cell_type": "code",
   "execution_count": 17,
   "outputs": [],
   "source": [
    "\n"
   ],
   "metadata": {
    "collapsed": false,
    "ExecuteTime": {
     "end_time": "2024-09-20T03:49:17.738092Z",
     "start_time": "2024-09-20T03:49:17.714221Z"
    }
   },
   "id": "18d71cd4ab791960"
  },
  {
   "cell_type": "code",
   "execution_count": 3,
   "outputs": [],
   "source": [],
   "metadata": {
    "collapsed": false,
    "ExecuteTime": {
     "end_time": "2024-09-18T22:20:12.157898Z",
     "start_time": "2024-09-18T22:20:12.147192Z"
    }
   },
   "id": "7b91c464307da466"
  },
  {
   "cell_type": "code",
   "execution_count": 3,
   "outputs": [],
   "source": [],
   "metadata": {
    "collapsed": false,
    "ExecuteTime": {
     "end_time": "2024-09-18T22:20:12.379652Z",
     "start_time": "2024-09-18T22:20:12.370993Z"
    }
   },
   "id": "f9bfcca282d7537c"
  },
  {
   "cell_type": "code",
   "execution_count": 3,
   "outputs": [],
   "source": [],
   "metadata": {
    "collapsed": false,
    "ExecuteTime": {
     "end_time": "2024-09-18T22:20:12.596969Z",
     "start_time": "2024-09-18T22:20:12.556415Z"
    }
   },
   "id": "b912049296c01ed5"
  },
  {
   "cell_type": "code",
   "execution_count": 3,
   "outputs": [],
   "source": [],
   "metadata": {
    "collapsed": false,
    "ExecuteTime": {
     "end_time": "2024-09-18T22:20:12.942709Z",
     "start_time": "2024-09-18T22:20:12.907338Z"
    }
   },
   "id": "7311cfc949aaa8ac"
  },
  {
   "cell_type": "code",
   "execution_count": 3,
   "outputs": [],
   "source": [],
   "metadata": {
    "collapsed": false,
    "ExecuteTime": {
     "end_time": "2024-09-18T22:20:13.131142Z",
     "start_time": "2024-09-18T22:20:13.107989Z"
    }
   },
   "id": "f71e1b3bf3eab20a"
  },
  {
   "cell_type": "code",
   "execution_count": 3,
   "outputs": [],
   "source": [],
   "metadata": {
    "collapsed": false,
    "ExecuteTime": {
     "end_time": "2024-09-18T22:20:13.366260Z",
     "start_time": "2024-09-18T22:20:13.331571Z"
    }
   },
   "id": "25e1c8e4674f4f68"
  },
  {
   "cell_type": "code",
   "execution_count": 3,
   "outputs": [],
   "source": [],
   "metadata": {
    "collapsed": false,
    "ExecuteTime": {
     "end_time": "2024-09-18T22:20:13.545226Z",
     "start_time": "2024-09-18T22:20:13.514217Z"
    }
   },
   "id": "f6e442163c078cee"
  },
  {
   "cell_type": "code",
   "execution_count": 3,
   "outputs": [],
   "source": [],
   "metadata": {
    "collapsed": false,
    "ExecuteTime": {
     "end_time": "2024-09-18T22:20:13.713336Z",
     "start_time": "2024-09-18T22:20:13.681178Z"
    }
   },
   "id": "28e7905afd34ee3b"
  },
  {
   "cell_type": "code",
   "execution_count": null,
   "outputs": [],
   "source": [],
   "metadata": {
    "collapsed": false
   },
   "id": "edaed07d571eff52"
  }
 ],
 "metadata": {
  "kernelspec": {
   "display_name": "Python 3",
   "language": "python",
   "name": "python3"
  },
  "language_info": {
   "codemirror_mode": {
    "name": "ipython",
    "version": 2
   },
   "file_extension": ".py",
   "mimetype": "text/x-python",
   "name": "python",
   "nbconvert_exporter": "python",
   "pygments_lexer": "ipython2",
   "version": "2.7.6"
  }
 },
 "nbformat": 4,
 "nbformat_minor": 5
}
