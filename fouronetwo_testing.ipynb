{
 "cells": [
  {
   "cell_type": "code",
   "execution_count": 2,
   "outputs": [],
   "source": [
    "import pandas as pd\n",
    "import requests\n",
    "from pprint import pprint\n",
    "import plotly_express as px\n",
    "from fouronetwo import Fetch\n",
    "fetch = Fetch()\n",
    "import re\n",
    "from tqdm import tqdm\n",
    "\n"
   ],
   "metadata": {
    "collapsed": false,
    "ExecuteTime": {
     "end_time": "2024-11-21T04:08:22.173191Z",
     "start_time": "2024-11-21T04:08:20.539635Z"
    }
   },
   "id": "81466365851f1193"
  },
  {
   "cell_type": "code",
   "execution_count": 7,
   "outputs": [
    {
     "name": "stdout",
     "output_type": "stream",
     "text": [
      "https://site.api.espn.com/apis/site/v2/sports/football/nfl/scoreboard?limit=1000&dates=2024&seasontype=2&week=1\n",
      "https://site.api.espn.com/apis/site/v2/sports/football/nfl/scoreboard?limit=1000&dates=2024&seasontype=2&week=2\n",
      "https://site.api.espn.com/apis/site/v2/sports/football/nfl/scoreboard?limit=1000&dates=2024&seasontype=2&week=3\n",
      "https://site.api.espn.com/apis/site/v2/sports/football/nfl/scoreboard?limit=1000&dates=2024&seasontype=2&week=4\n",
      "https://site.api.espn.com/apis/site/v2/sports/football/nfl/scoreboard?limit=1000&dates=2024&seasontype=2&week=5\n",
      "https://site.api.espn.com/apis/site/v2/sports/football/nfl/scoreboard?limit=1000&dates=2024&seasontype=2&week=6\n",
      "https://site.api.espn.com/apis/site/v2/sports/football/nfl/scoreboard?limit=1000&dates=2024&seasontype=2&week=7\n",
      "https://site.api.espn.com/apis/site/v2/sports/football/nfl/scoreboard?limit=1000&dates=2024&seasontype=2&week=8\n",
      "https://site.api.espn.com/apis/site/v2/sports/football/nfl/scoreboard?limit=1000&dates=2024&seasontype=2&week=9\n",
      "https://site.api.espn.com/apis/site/v2/sports/football/nfl/scoreboard?limit=1000&dates=2024&seasontype=2&week=10\n",
      "https://site.api.espn.com/apis/site/v2/sports/football/nfl/scoreboard?limit=1000&dates=2024&seasontype=2&week=11\n",
      "https://site.api.espn.com/apis/site/v2/sports/football/nfl/scoreboard?limit=1000&dates=2024&seasontype=2&week=12\n",
      "https://site.api.espn.com/apis/site/v2/sports/football/nfl/scoreboard?limit=1000&dates=2024&seasontype=2&week=13\n",
      "https://site.api.espn.com/apis/site/v2/sports/football/nfl/scoreboard?limit=1000&dates=2024&seasontype=2&week=14\n",
      "https://site.api.espn.com/apis/site/v2/sports/football/nfl/scoreboard?limit=1000&dates=2024&seasontype=2&week=15\n",
      "https://site.api.espn.com/apis/site/v2/sports/football/nfl/scoreboard?limit=1000&dates=2024&seasontype=2&week=16\n",
      "https://site.api.espn.com/apis/site/v2/sports/football/nfl/scoreboard?limit=1000&dates=2024&seasontype=2&week=17\n",
      "https://site.api.espn.com/apis/site/v2/sports/football/nfl/scoreboard?limit=1000&dates=2024&seasontype=2&week=18\n"
     ]
    },
    {
     "name": "stderr",
     "output_type": "stream",
     "text": [
      "100%|██████████| 166/166 [00:42<00:00,  3.92it/s]\n"
     ]
    },
    {
     "name": "stdout",
     "output_type": "stream",
     "text": [
      "https://site.api.espn.com/apis/site/v2/sports/football/nfl/scoreboard?limit=1000&dates=2024&seasontype=2&week=1\n",
      "https://site.api.espn.com/apis/site/v2/sports/football/nfl/scoreboard?limit=1000&dates=2024&seasontype=2&week=2\n",
      "https://site.api.espn.com/apis/site/v2/sports/football/nfl/scoreboard?limit=1000&dates=2024&seasontype=2&week=3\n",
      "https://site.api.espn.com/apis/site/v2/sports/football/nfl/scoreboard?limit=1000&dates=2024&seasontype=2&week=4\n",
      "https://site.api.espn.com/apis/site/v2/sports/football/nfl/scoreboard?limit=1000&dates=2024&seasontype=2&week=5\n",
      "https://site.api.espn.com/apis/site/v2/sports/football/nfl/scoreboard?limit=1000&dates=2024&seasontype=2&week=6\n",
      "https://site.api.espn.com/apis/site/v2/sports/football/nfl/scoreboard?limit=1000&dates=2024&seasontype=2&week=7\n",
      "https://site.api.espn.com/apis/site/v2/sports/football/nfl/scoreboard?limit=1000&dates=2024&seasontype=2&week=8\n",
      "https://site.api.espn.com/apis/site/v2/sports/football/nfl/scoreboard?limit=1000&dates=2024&seasontype=2&week=9\n",
      "https://site.api.espn.com/apis/site/v2/sports/football/nfl/scoreboard?limit=1000&dates=2024&seasontype=2&week=10\n",
      "https://site.api.espn.com/apis/site/v2/sports/football/nfl/scoreboard?limit=1000&dates=2024&seasontype=2&week=11\n",
      "https://site.api.espn.com/apis/site/v2/sports/football/nfl/scoreboard?limit=1000&dates=2024&seasontype=2&week=12\n",
      "https://site.api.espn.com/apis/site/v2/sports/football/nfl/scoreboard?limit=1000&dates=2024&seasontype=2&week=13\n",
      "https://site.api.espn.com/apis/site/v2/sports/football/nfl/scoreboard?limit=1000&dates=2024&seasontype=2&week=14\n",
      "https://site.api.espn.com/apis/site/v2/sports/football/nfl/scoreboard?limit=1000&dates=2024&seasontype=2&week=15\n",
      "https://site.api.espn.com/apis/site/v2/sports/football/nfl/scoreboard?limit=1000&dates=2024&seasontype=2&week=16\n",
      "https://site.api.espn.com/apis/site/v2/sports/football/nfl/scoreboard?limit=1000&dates=2024&seasontype=2&week=17\n",
      "https://site.api.espn.com/apis/site/v2/sports/football/nfl/scoreboard?limit=1000&dates=2024&seasontype=2&week=18\n"
     ]
    },
    {
     "name": "stderr",
     "output_type": "stream",
     "text": [
      "100%|██████████| 166/166 [00:39<00:00,  4.17it/s]\n"
     ]
    }
   ],
   "source": [
    "mov = fetch.drive_analysis(year=2024, agg_method='weekly')"
   ],
   "metadata": {
    "collapsed": false,
    "ExecuteTime": {
     "end_time": "2024-11-21T04:30:25.178214Z",
     "start_time": "2024-11-21T04:28:50.043469Z"
    }
   },
   "id": "499ffbe5d7b63928"
  },
  {
   "cell_type": "code",
   "execution_count": 8,
   "outputs": [
    {
     "data": {
      "text/plain": "                      team               opponent result  \\\n0        Arizona Cardinals          Buffalo Bills      L   \n1        Arizona Cardinals       Los Angeles Rams      W   \n2        Arizona Cardinals          Detroit Lions      L   \n3        Arizona Cardinals  Washington Commanders      L   \n4        Arizona Cardinals    San Francisco 49ers      W   \n..                     ...                    ...    ...   \n327  Washington Commanders      Carolina Panthers      W   \n328  Washington Commanders          Chicago Bears      W   \n329  Washington Commanders        New York Giants      W   \n330  Washington Commanders    Pittsburgh Steelers      L   \n331  Washington Commanders    Philadelphia Eagles      L   \n\n                         date    punt_%  touchdown_%   point_%  turnover_%  \\\n0   2024-09-08 17:00:00+00:00  0.200000     0.300000  0.500000    0.100000   \n1   2024-09-15 20:05:00+00:00  0.111111     0.555556  0.777778    0.111111   \n2   2024-09-22 20:25:00+00:00  0.454545     0.090909  0.272727    0.090909   \n3   2024-09-29 20:05:00+00:00  0.444444     0.222222  0.222222    0.111111   \n4   2024-10-06 20:05:00+00:00  0.200000     0.200000  0.500000    0.100000   \n..                        ...       ...          ...       ...         ...   \n327 2024-10-20 20:05:00+00:00  0.111111     0.333333  0.777778    0.000000   \n328 2024-10-27 20:25:00+00:00  0.416667     0.083333  0.416667    0.000000   \n329 2024-11-03 18:00:00+00:00  0.250000     0.375000  0.625000    0.000000   \n330 2024-11-10 18:00:00+00:00  0.500000     0.250000  0.416667    0.000000   \n331 2024-11-15 01:15:00+00:00  0.454545     0.181818  0.272727    0.090909   \n\n     splash_allowed_%  forced_punt_%  touchdown_prevention_%  \\\n0            0.100000       0.200000                0.600000   \n1            0.111111       0.400000                0.900000   \n2            0.090909       0.454545                0.727273   \n3            0.111111       0.111111                0.444444   \n4            0.200000       0.111111                0.888889   \n..                ...            ...                     ...   \n327          0.000000       0.500000                0.900000   \n328          0.000000       0.636364                0.818182   \n329          0.000000       0.250000                0.625000   \n330          0.000000       0.357143                0.714286   \n331          0.090909       0.272727                0.727273   \n\n     point_prevention_%  forced_turnover_%  splash_forced_%  \\\n0              0.400000           0.100000         0.100000   \n1              0.800000           0.100000         0.100000   \n2              0.727273           0.090909         0.090909   \n3              0.222222           0.111111         0.111111   \n4              0.555556           0.333333         0.333333   \n..                  ...                ...              ...   \n327            0.900000           0.200000         0.200000   \n328            0.818182           0.090909         0.090909   \n329            0.500000           0.125000         0.125000   \n330            0.714286           0.142857         0.142857   \n331            0.545455           0.000000         0.000000   \n\n     offensive_performance_metric  defensive_performance_metric  \\\n0                        0.500000                      1.300000   \n1                        1.111111                      2.200000   \n2                       -0.181818                      2.000000   \n3                       -0.111111                      0.888889   \n4                        0.300000                      1.888889   \n..                            ...                           ...   \n327                      1.000000                      2.500000   \n328                      0.083333                      2.363636   \n329                      0.750000                      1.500000   \n330                      0.166667                      1.928571   \n331                     -0.090909                      1.545455   \n\n     total_performance_metric  \n0                    1.800000  \n1                    3.311111  \n2                    1.818182  \n3                    0.777778  \n4                    2.188889  \n..                        ...  \n327                  3.500000  \n328                  2.446970  \n329                  2.250000  \n330                  2.095238  \n331                  1.454545  \n\n[332 rows x 17 columns]",
      "text/html": "<div>\n<style scoped>\n    .dataframe tbody tr th:only-of-type {\n        vertical-align: middle;\n    }\n\n    .dataframe tbody tr th {\n        vertical-align: top;\n    }\n\n    .dataframe thead th {\n        text-align: right;\n    }\n</style>\n<table border=\"1\" class=\"dataframe\">\n  <thead>\n    <tr style=\"text-align: right;\">\n      <th></th>\n      <th>team</th>\n      <th>opponent</th>\n      <th>result</th>\n      <th>date</th>\n      <th>punt_%</th>\n      <th>touchdown_%</th>\n      <th>point_%</th>\n      <th>turnover_%</th>\n      <th>splash_allowed_%</th>\n      <th>forced_punt_%</th>\n      <th>touchdown_prevention_%</th>\n      <th>point_prevention_%</th>\n      <th>forced_turnover_%</th>\n      <th>splash_forced_%</th>\n      <th>offensive_performance_metric</th>\n      <th>defensive_performance_metric</th>\n      <th>total_performance_metric</th>\n    </tr>\n  </thead>\n  <tbody>\n    <tr>\n      <th>0</th>\n      <td>Arizona Cardinals</td>\n      <td>Buffalo Bills</td>\n      <td>L</td>\n      <td>2024-09-08 17:00:00+00:00</td>\n      <td>0.200000</td>\n      <td>0.300000</td>\n      <td>0.500000</td>\n      <td>0.100000</td>\n      <td>0.100000</td>\n      <td>0.200000</td>\n      <td>0.600000</td>\n      <td>0.400000</td>\n      <td>0.100000</td>\n      <td>0.100000</td>\n      <td>0.500000</td>\n      <td>1.300000</td>\n      <td>1.800000</td>\n    </tr>\n    <tr>\n      <th>1</th>\n      <td>Arizona Cardinals</td>\n      <td>Los Angeles Rams</td>\n      <td>W</td>\n      <td>2024-09-15 20:05:00+00:00</td>\n      <td>0.111111</td>\n      <td>0.555556</td>\n      <td>0.777778</td>\n      <td>0.111111</td>\n      <td>0.111111</td>\n      <td>0.400000</td>\n      <td>0.900000</td>\n      <td>0.800000</td>\n      <td>0.100000</td>\n      <td>0.100000</td>\n      <td>1.111111</td>\n      <td>2.200000</td>\n      <td>3.311111</td>\n    </tr>\n    <tr>\n      <th>2</th>\n      <td>Arizona Cardinals</td>\n      <td>Detroit Lions</td>\n      <td>L</td>\n      <td>2024-09-22 20:25:00+00:00</td>\n      <td>0.454545</td>\n      <td>0.090909</td>\n      <td>0.272727</td>\n      <td>0.090909</td>\n      <td>0.090909</td>\n      <td>0.454545</td>\n      <td>0.727273</td>\n      <td>0.727273</td>\n      <td>0.090909</td>\n      <td>0.090909</td>\n      <td>-0.181818</td>\n      <td>2.000000</td>\n      <td>1.818182</td>\n    </tr>\n    <tr>\n      <th>3</th>\n      <td>Arizona Cardinals</td>\n      <td>Washington Commanders</td>\n      <td>L</td>\n      <td>2024-09-29 20:05:00+00:00</td>\n      <td>0.444444</td>\n      <td>0.222222</td>\n      <td>0.222222</td>\n      <td>0.111111</td>\n      <td>0.111111</td>\n      <td>0.111111</td>\n      <td>0.444444</td>\n      <td>0.222222</td>\n      <td>0.111111</td>\n      <td>0.111111</td>\n      <td>-0.111111</td>\n      <td>0.888889</td>\n      <td>0.777778</td>\n    </tr>\n    <tr>\n      <th>4</th>\n      <td>Arizona Cardinals</td>\n      <td>San Francisco 49ers</td>\n      <td>W</td>\n      <td>2024-10-06 20:05:00+00:00</td>\n      <td>0.200000</td>\n      <td>0.200000</td>\n      <td>0.500000</td>\n      <td>0.100000</td>\n      <td>0.200000</td>\n      <td>0.111111</td>\n      <td>0.888889</td>\n      <td>0.555556</td>\n      <td>0.333333</td>\n      <td>0.333333</td>\n      <td>0.300000</td>\n      <td>1.888889</td>\n      <td>2.188889</td>\n    </tr>\n    <tr>\n      <th>...</th>\n      <td>...</td>\n      <td>...</td>\n      <td>...</td>\n      <td>...</td>\n      <td>...</td>\n      <td>...</td>\n      <td>...</td>\n      <td>...</td>\n      <td>...</td>\n      <td>...</td>\n      <td>...</td>\n      <td>...</td>\n      <td>...</td>\n      <td>...</td>\n      <td>...</td>\n      <td>...</td>\n      <td>...</td>\n    </tr>\n    <tr>\n      <th>327</th>\n      <td>Washington Commanders</td>\n      <td>Carolina Panthers</td>\n      <td>W</td>\n      <td>2024-10-20 20:05:00+00:00</td>\n      <td>0.111111</td>\n      <td>0.333333</td>\n      <td>0.777778</td>\n      <td>0.000000</td>\n      <td>0.000000</td>\n      <td>0.500000</td>\n      <td>0.900000</td>\n      <td>0.900000</td>\n      <td>0.200000</td>\n      <td>0.200000</td>\n      <td>1.000000</td>\n      <td>2.500000</td>\n      <td>3.500000</td>\n    </tr>\n    <tr>\n      <th>328</th>\n      <td>Washington Commanders</td>\n      <td>Chicago Bears</td>\n      <td>W</td>\n      <td>2024-10-27 20:25:00+00:00</td>\n      <td>0.416667</td>\n      <td>0.083333</td>\n      <td>0.416667</td>\n      <td>0.000000</td>\n      <td>0.000000</td>\n      <td>0.636364</td>\n      <td>0.818182</td>\n      <td>0.818182</td>\n      <td>0.090909</td>\n      <td>0.090909</td>\n      <td>0.083333</td>\n      <td>2.363636</td>\n      <td>2.446970</td>\n    </tr>\n    <tr>\n      <th>329</th>\n      <td>Washington Commanders</td>\n      <td>New York Giants</td>\n      <td>W</td>\n      <td>2024-11-03 18:00:00+00:00</td>\n      <td>0.250000</td>\n      <td>0.375000</td>\n      <td>0.625000</td>\n      <td>0.000000</td>\n      <td>0.000000</td>\n      <td>0.250000</td>\n      <td>0.625000</td>\n      <td>0.500000</td>\n      <td>0.125000</td>\n      <td>0.125000</td>\n      <td>0.750000</td>\n      <td>1.500000</td>\n      <td>2.250000</td>\n    </tr>\n    <tr>\n      <th>330</th>\n      <td>Washington Commanders</td>\n      <td>Pittsburgh Steelers</td>\n      <td>L</td>\n      <td>2024-11-10 18:00:00+00:00</td>\n      <td>0.500000</td>\n      <td>0.250000</td>\n      <td>0.416667</td>\n      <td>0.000000</td>\n      <td>0.000000</td>\n      <td>0.357143</td>\n      <td>0.714286</td>\n      <td>0.714286</td>\n      <td>0.142857</td>\n      <td>0.142857</td>\n      <td>0.166667</td>\n      <td>1.928571</td>\n      <td>2.095238</td>\n    </tr>\n    <tr>\n      <th>331</th>\n      <td>Washington Commanders</td>\n      <td>Philadelphia Eagles</td>\n      <td>L</td>\n      <td>2024-11-15 01:15:00+00:00</td>\n      <td>0.454545</td>\n      <td>0.181818</td>\n      <td>0.272727</td>\n      <td>0.090909</td>\n      <td>0.090909</td>\n      <td>0.272727</td>\n      <td>0.727273</td>\n      <td>0.545455</td>\n      <td>0.000000</td>\n      <td>0.000000</td>\n      <td>-0.090909</td>\n      <td>1.545455</td>\n      <td>1.454545</td>\n    </tr>\n  </tbody>\n</table>\n<p>332 rows × 17 columns</p>\n</div>"
     },
     "execution_count": 8,
     "metadata": {},
     "output_type": "execute_result"
    }
   ],
   "source": [
    "mov"
   ],
   "metadata": {
    "collapsed": false,
    "ExecuteTime": {
     "end_time": "2024-11-21T04:30:41.448393Z",
     "start_time": "2024-11-21T04:30:41.382205Z"
    }
   },
   "id": "f580fe098c4b01c6"
  },
  {
   "cell_type": "code",
   "execution_count": 28,
   "outputs": [],
   "source": [
    "mov['%'] = mov['field_goals_made_sum'] /  mov['field_goals_attempted_sum']\n"
   ],
   "metadata": {
    "collapsed": false,
    "ExecuteTime": {
     "end_time": "2024-11-19T03:02:49.996092Z",
     "start_time": "2024-11-19T03:02:49.946258Z"
    }
   },
   "id": "b4231a512ba119ce"
  },
  {
   "cell_type": "code",
   "execution_count": 29,
   "outputs": [
    {
     "data": {
      "text/plain": "               name_  field_goals_made_mean  field_goals_made_sum  \\\n0     Anders Carlson               2.333333                     7   \n1     Austin Seibert               3.125000                    25   \n2        Blake Grupe               1.636364                    18   \n3     Brandon Aubrey               2.444444                    22   \n4    Brandon McManus               1.500000                     6   \n5   Brayden Narveson               2.000000                    12   \n6          Cade York               0.000000                     0   \n7       Cairo Santos               1.400000                    14   \n8         Cam Little               1.363636                    15   \n9     Cameron Dicker               2.100000                    21   \n10       Chad Ryland               1.833333                    11   \n11  Chase McLaughlin               1.600000                    16   \n12     Chris Boswell               2.900000                    29   \n13    Daniel Carlson               1.800000                    18   \n14    Dustin Hopkins               1.400000                    14   \n15      Eddy Pineiro               1.200000                    12   \n16    Evan McPherson               1.363636                    15   \n17       Graham Gano               1.500000                     3   \n18       Greg Joseph               2.166667                    13   \n19     Greg Zuerlein               1.125000                     9   \n20   Harrison Butker               2.000000                    18   \n21        Jake Bates               1.500000                    15   \n22      Jake Elliott               1.400000                    14   \n23        Jake Moody               2.428571                    17   \n24      Jamie Gillan               0.000000                     0   \n25       Jason Myers               1.400000                    14   \n26     Jason Sanders               1.900000                    19   \n27         Joey Slye               1.727273                    19   \n28  John Parker Romo               2.500000                     5   \n29      Joshua Karty               1.600000                    16   \n30    Jude McAtamney               1.000000                     1   \n31     Justin Tucker               1.454545                    16   \n32  Ka'imi Fairbairn               2.400000                    24   \n33          Matt Gay               1.900000                    19   \n34       Matt Prater               1.500000                     6   \n35    Matthew Wright               3.000000                     3   \n36  Mitch Wishnowsky               1.000000                     1   \n37         Nick Folk               1.400000                    14   \n38   Riley Patterson               0.000000                     0   \n39   Spencer Shrader               0.666667                     2   \n40        Tyler Bass               1.727273                    19   \n41          Wil Lutz               1.727273                    19   \n42     Will Reichard               1.750000                    14   \n43      Younghoe Koo               1.727273                    19   \n44     Zane Gonzalez               1.500000                     3   \n\n    field_goals_attempted_mean  field_goals_attempted_sum  field_goal_%_mean  \\\n0                     2.333333                          7         100.000000   \n1                     3.375000                         27          94.375000   \n2                     1.727273                         19          78.818182   \n3                     2.666667                         24          92.666667   \n4                     1.750000                          7          66.750000   \n5                     2.833333                         17          69.500000   \n6                     2.000000                          2           0.000000   \n7                     1.700000                         17          71.670000   \n8                     1.454545                         16          78.818182   \n9                     2.300000                         23          85.000000   \n10                    2.000000                         12          95.833333   \n11                    1.700000                         17          85.000000   \n12                    3.000000                         30          86.700000   \n13                    2.000000                         20          75.000000   \n14                    2.000000                         20          62.500000   \n15                    1.300000                         13          75.000000   \n16                    1.909091                         21          60.636364   \n17                    2.000000                          4          75.000000   \n18                    2.666667                         16          66.666667   \n19                    1.875000                         15          53.125000   \n20                    2.222222                         20          81.111111   \n21                    1.500000                         15          80.000000   \n22                    1.900000                         19          56.700000   \n23                    3.000000                         21          85.714286   \n24                    0.000000                          0           0.000000   \n25                    1.700000                         17          71.700000   \n26                    2.300000                         23          84.200000   \n27                    2.000000                         22          78.818182   \n28                    2.500000                          5         100.000000   \n29                    2.000000                         20          56.300000   \n30                    1.000000                          1         100.000000   \n31                    2.000000                         22          56.845455   \n32                    2.900000                         29          79.200000   \n33                    2.200000                         22          78.400000   \n34                    1.500000                          6          75.000000   \n35                    3.000000                          3         100.000000   \n36                    1.000000                          1         100.000000   \n37                    1.500000                         15          75.000000   \n38                    0.000000                          0           0.000000   \n39                    0.666667                          2          33.333333   \n40                    2.000000                         22          86.363636   \n41                    2.000000                         22          77.272727   \n42                    2.000000                         16          75.000000   \n43                    2.363636                         26          66.818182   \n44                    1.500000                          3         100.000000   \n\n    long_field_goal_mean  long_field_goal_sum  extra_points_made_mean  \\\n0              54.333333                  163                2.000000   \n1              43.000000                  344                2.750000   \n2              33.909091                  373                2.363636   \n3              52.333333                  471                1.444444   \n4              30.250000                  121                2.000000   \n5              35.166667                  211                2.666667   \n6               0.000000                    0                2.000000   \n7              36.900000                  369                1.600000   \n8              34.272727                  377                1.727273   \n9              41.800000                  418                1.900000   \n10             43.833333                  263                2.166667   \n11             39.400000                  394                2.900000   \n12             42.500000                  425                2.000000   \n13             35.100000                  351                1.500000   \n14             34.600000                  346                1.000000   \n15             34.000000                  340                1.700000   \n16             29.636364                  326                2.909091   \n17             46.000000                   92                1.000000   \n18             29.333333                  176                1.000000   \n19             24.500000                  196                1.625000   \n20             36.555556                  329                2.333333   \n21             34.900000                  349                3.900000   \n22             27.800000                  278                2.500000   \n23             36.571429                  256                2.285714   \n24              0.000000                    0                0.000000   \n25             37.200000                  372                2.400000   \n26             44.000000                  440                1.600000   \n27             36.909091                  406                1.363636   \n28             42.500000                   85                1.000000   \n29             25.200000                  252                1.900000   \n30             31.000000                   31                1.000000   \n31             33.909091                  373                3.454545   \n32             44.200000                  442                2.000000   \n33             36.700000                  367                2.000000   \n34             33.250000                  133                2.500000   \n35             41.000000                   41                3.000000   \n36             26.000000                   26                0.000000   \n37             29.800000                  298                1.800000   \n38              0.000000                    0                3.000000   \n39             15.000000                   45                2.000000   \n40             39.363636                  433                3.000000   \n41             35.909091                  395                2.181818   \n42             34.500000                  276                2.875000   \n43             34.636364                  381                2.090909   \n44             46.500000                   93                2.000000   \n\n    extra_points_made_sum  extra_points_attempted_mean  \\\n0                       6                     2.333333   \n1                      22                     2.750000   \n2                      26                     2.545455   \n3                      13                     1.444444   \n4                       8                     2.000000   \n5                      16                     2.666667   \n6                       2                     2.000000   \n7                      16                     1.700000   \n8                      19                     1.727273   \n9                      19                     2.200000   \n10                     13                     2.166667   \n11                     29                     3.000000   \n12                     20                     2.000000   \n13                     15                     1.500000   \n14                     10                     1.200000   \n15                     17                     1.700000   \n16                     32                     3.000000   \n17                      2                     1.000000   \n18                      6                     1.000000   \n19                     13                     1.750000   \n20                     21                     2.444444   \n21                     39                     4.000000   \n22                     25                     2.600000   \n23                     16                     2.285714   \n24                      0                     1.000000   \n25                     24                     2.500000   \n26                     16                     1.600000   \n27                     15                     1.454545   \n28                      2                     1.500000   \n29                     19                     2.100000   \n30                      1                     1.000000   \n31                     38                     3.545455   \n32                     20                     2.000000   \n33                     20                     2.000000   \n34                     10                     2.500000   \n35                      3                     3.000000   \n36                      0                     0.000000   \n37                     18                     1.800000   \n38                      3                     3.000000   \n39                      6                     2.000000   \n40                     33                     3.363636   \n41                     24                     2.181818   \n42                     23                     2.875000   \n43                     23                     2.090909   \n44                      4                     2.000000   \n\n    extra_points_attempted_sum  extra_point_%_mean  total_kicking_points_mean  \\\n0                            7            0.666667                   9.000000   \n1                           22            1.000000                  12.125000   \n2                           28            0.925926                   7.272727   \n3                           13            1.000000                   8.777778   \n4                            8            1.000000                   6.500000   \n5                           16            1.000000                   8.666667   \n6                            2            1.000000                   2.000000   \n7                           17            0.968750                   5.800000   \n8                           19            1.000000                   5.818182   \n9                           22            0.898148                   8.200000   \n10                          13            1.000000                   7.666667   \n11                          30            0.975000                   7.700000   \n12                          20            1.000000                  10.700000   \n13                          15            1.000000                   6.900000   \n14                          12            0.833333                   5.200000   \n15                          17            1.000000                   5.300000   \n16                          33            0.954545                   7.000000   \n17                           2            1.000000                   5.500000   \n18                           6            1.000000                   7.500000   \n19                          14            0.928571                   5.000000   \n20                          22            0.944444                   8.333333   \n21                          40            0.966667                   8.400000   \n22                          26            0.966667                   6.700000   \n23                          16            1.000000                   9.571429   \n24                           1            0.000000                   0.000000   \n25                          25            0.966667                   6.600000   \n26                          16            1.000000                   7.300000   \n27                          16            0.950000                   6.545455   \n28                           3            0.666667                   8.500000   \n29                          21            0.895833                   6.700000   \n30                           1            1.000000                   4.000000   \n31                          39            0.977273                   7.818182   \n32                          20            1.000000                   9.200000   \n33                          20            1.000000                   7.700000   \n34                          10            1.000000                   7.000000   \n35                           3            1.000000                  12.000000   \n36                           0                 NaN                   3.000000   \n37                          18            1.000000                   6.000000   \n38                           3            1.000000                   3.000000   \n39                           6            1.000000                   4.000000   \n40                          37            0.886364                   8.181818   \n41                          24            1.000000                   7.363636   \n42                          23            1.000000                   8.125000   \n43                          23            1.000000                   7.272727   \n44                           4            1.000000                   6.500000   \n\n    total_kicking_points_sum         %  \n0                         27  1.000000  \n1                         97  0.925926  \n2                         80  0.947368  \n3                         79  0.916667  \n4                         26  0.857143  \n5                         52  0.705882  \n6                          2  0.000000  \n7                         58  0.823529  \n8                         64  0.937500  \n9                         82  0.913043  \n10                        46  0.916667  \n11                        77  0.941176  \n12                       107  0.966667  \n13                        69  0.900000  \n14                        52  0.700000  \n15                        53  0.923077  \n16                        77  0.714286  \n17                        11  0.750000  \n18                        45  0.812500  \n19                        40  0.600000  \n20                        75  0.900000  \n21                        84  1.000000  \n22                        67  0.736842  \n23                        67  0.809524  \n24                         0       NaN  \n25                        66  0.823529  \n26                        73  0.826087  \n27                        72  0.863636  \n28                        17  1.000000  \n29                        67  0.800000  \n30                         4  1.000000  \n31                        86  0.727273  \n32                        92  0.827586  \n33                        77  0.863636  \n34                        28  1.000000  \n35                        12  1.000000  \n36                         3  1.000000  \n37                        60  0.933333  \n38                         3       NaN  \n39                        12  1.000000  \n40                        90  0.863636  \n41                        81  0.863636  \n42                        65  0.875000  \n43                        80  0.730769  \n44                        13  1.000000  ",
      "text/html": "<div>\n<style scoped>\n    .dataframe tbody tr th:only-of-type {\n        vertical-align: middle;\n    }\n\n    .dataframe tbody tr th {\n        vertical-align: top;\n    }\n\n    .dataframe thead th {\n        text-align: right;\n    }\n</style>\n<table border=\"1\" class=\"dataframe\">\n  <thead>\n    <tr style=\"text-align: right;\">\n      <th></th>\n      <th>name_</th>\n      <th>field_goals_made_mean</th>\n      <th>field_goals_made_sum</th>\n      <th>field_goals_attempted_mean</th>\n      <th>field_goals_attempted_sum</th>\n      <th>field_goal_%_mean</th>\n      <th>long_field_goal_mean</th>\n      <th>long_field_goal_sum</th>\n      <th>extra_points_made_mean</th>\n      <th>extra_points_made_sum</th>\n      <th>extra_points_attempted_mean</th>\n      <th>extra_points_attempted_sum</th>\n      <th>extra_point_%_mean</th>\n      <th>total_kicking_points_mean</th>\n      <th>total_kicking_points_sum</th>\n      <th>%</th>\n    </tr>\n  </thead>\n  <tbody>\n    <tr>\n      <th>0</th>\n      <td>Anders Carlson</td>\n      <td>2.333333</td>\n      <td>7</td>\n      <td>2.333333</td>\n      <td>7</td>\n      <td>100.000000</td>\n      <td>54.333333</td>\n      <td>163</td>\n      <td>2.000000</td>\n      <td>6</td>\n      <td>2.333333</td>\n      <td>7</td>\n      <td>0.666667</td>\n      <td>9.000000</td>\n      <td>27</td>\n      <td>1.000000</td>\n    </tr>\n    <tr>\n      <th>1</th>\n      <td>Austin Seibert</td>\n      <td>3.125000</td>\n      <td>25</td>\n      <td>3.375000</td>\n      <td>27</td>\n      <td>94.375000</td>\n      <td>43.000000</td>\n      <td>344</td>\n      <td>2.750000</td>\n      <td>22</td>\n      <td>2.750000</td>\n      <td>22</td>\n      <td>1.000000</td>\n      <td>12.125000</td>\n      <td>97</td>\n      <td>0.925926</td>\n    </tr>\n    <tr>\n      <th>2</th>\n      <td>Blake Grupe</td>\n      <td>1.636364</td>\n      <td>18</td>\n      <td>1.727273</td>\n      <td>19</td>\n      <td>78.818182</td>\n      <td>33.909091</td>\n      <td>373</td>\n      <td>2.363636</td>\n      <td>26</td>\n      <td>2.545455</td>\n      <td>28</td>\n      <td>0.925926</td>\n      <td>7.272727</td>\n      <td>80</td>\n      <td>0.947368</td>\n    </tr>\n    <tr>\n      <th>3</th>\n      <td>Brandon Aubrey</td>\n      <td>2.444444</td>\n      <td>22</td>\n      <td>2.666667</td>\n      <td>24</td>\n      <td>92.666667</td>\n      <td>52.333333</td>\n      <td>471</td>\n      <td>1.444444</td>\n      <td>13</td>\n      <td>1.444444</td>\n      <td>13</td>\n      <td>1.000000</td>\n      <td>8.777778</td>\n      <td>79</td>\n      <td>0.916667</td>\n    </tr>\n    <tr>\n      <th>4</th>\n      <td>Brandon McManus</td>\n      <td>1.500000</td>\n      <td>6</td>\n      <td>1.750000</td>\n      <td>7</td>\n      <td>66.750000</td>\n      <td>30.250000</td>\n      <td>121</td>\n      <td>2.000000</td>\n      <td>8</td>\n      <td>2.000000</td>\n      <td>8</td>\n      <td>1.000000</td>\n      <td>6.500000</td>\n      <td>26</td>\n      <td>0.857143</td>\n    </tr>\n    <tr>\n      <th>5</th>\n      <td>Brayden Narveson</td>\n      <td>2.000000</td>\n      <td>12</td>\n      <td>2.833333</td>\n      <td>17</td>\n      <td>69.500000</td>\n      <td>35.166667</td>\n      <td>211</td>\n      <td>2.666667</td>\n      <td>16</td>\n      <td>2.666667</td>\n      <td>16</td>\n      <td>1.000000</td>\n      <td>8.666667</td>\n      <td>52</td>\n      <td>0.705882</td>\n    </tr>\n    <tr>\n      <th>6</th>\n      <td>Cade York</td>\n      <td>0.000000</td>\n      <td>0</td>\n      <td>2.000000</td>\n      <td>2</td>\n      <td>0.000000</td>\n      <td>0.000000</td>\n      <td>0</td>\n      <td>2.000000</td>\n      <td>2</td>\n      <td>2.000000</td>\n      <td>2</td>\n      <td>1.000000</td>\n      <td>2.000000</td>\n      <td>2</td>\n      <td>0.000000</td>\n    </tr>\n    <tr>\n      <th>7</th>\n      <td>Cairo Santos</td>\n      <td>1.400000</td>\n      <td>14</td>\n      <td>1.700000</td>\n      <td>17</td>\n      <td>71.670000</td>\n      <td>36.900000</td>\n      <td>369</td>\n      <td>1.600000</td>\n      <td>16</td>\n      <td>1.700000</td>\n      <td>17</td>\n      <td>0.968750</td>\n      <td>5.800000</td>\n      <td>58</td>\n      <td>0.823529</td>\n    </tr>\n    <tr>\n      <th>8</th>\n      <td>Cam Little</td>\n      <td>1.363636</td>\n      <td>15</td>\n      <td>1.454545</td>\n      <td>16</td>\n      <td>78.818182</td>\n      <td>34.272727</td>\n      <td>377</td>\n      <td>1.727273</td>\n      <td>19</td>\n      <td>1.727273</td>\n      <td>19</td>\n      <td>1.000000</td>\n      <td>5.818182</td>\n      <td>64</td>\n      <td>0.937500</td>\n    </tr>\n    <tr>\n      <th>9</th>\n      <td>Cameron Dicker</td>\n      <td>2.100000</td>\n      <td>21</td>\n      <td>2.300000</td>\n      <td>23</td>\n      <td>85.000000</td>\n      <td>41.800000</td>\n      <td>418</td>\n      <td>1.900000</td>\n      <td>19</td>\n      <td>2.200000</td>\n      <td>22</td>\n      <td>0.898148</td>\n      <td>8.200000</td>\n      <td>82</td>\n      <td>0.913043</td>\n    </tr>\n    <tr>\n      <th>10</th>\n      <td>Chad Ryland</td>\n      <td>1.833333</td>\n      <td>11</td>\n      <td>2.000000</td>\n      <td>12</td>\n      <td>95.833333</td>\n      <td>43.833333</td>\n      <td>263</td>\n      <td>2.166667</td>\n      <td>13</td>\n      <td>2.166667</td>\n      <td>13</td>\n      <td>1.000000</td>\n      <td>7.666667</td>\n      <td>46</td>\n      <td>0.916667</td>\n    </tr>\n    <tr>\n      <th>11</th>\n      <td>Chase McLaughlin</td>\n      <td>1.600000</td>\n      <td>16</td>\n      <td>1.700000</td>\n      <td>17</td>\n      <td>85.000000</td>\n      <td>39.400000</td>\n      <td>394</td>\n      <td>2.900000</td>\n      <td>29</td>\n      <td>3.000000</td>\n      <td>30</td>\n      <td>0.975000</td>\n      <td>7.700000</td>\n      <td>77</td>\n      <td>0.941176</td>\n    </tr>\n    <tr>\n      <th>12</th>\n      <td>Chris Boswell</td>\n      <td>2.900000</td>\n      <td>29</td>\n      <td>3.000000</td>\n      <td>30</td>\n      <td>86.700000</td>\n      <td>42.500000</td>\n      <td>425</td>\n      <td>2.000000</td>\n      <td>20</td>\n      <td>2.000000</td>\n      <td>20</td>\n      <td>1.000000</td>\n      <td>10.700000</td>\n      <td>107</td>\n      <td>0.966667</td>\n    </tr>\n    <tr>\n      <th>13</th>\n      <td>Daniel Carlson</td>\n      <td>1.800000</td>\n      <td>18</td>\n      <td>2.000000</td>\n      <td>20</td>\n      <td>75.000000</td>\n      <td>35.100000</td>\n      <td>351</td>\n      <td>1.500000</td>\n      <td>15</td>\n      <td>1.500000</td>\n      <td>15</td>\n      <td>1.000000</td>\n      <td>6.900000</td>\n      <td>69</td>\n      <td>0.900000</td>\n    </tr>\n    <tr>\n      <th>14</th>\n      <td>Dustin Hopkins</td>\n      <td>1.400000</td>\n      <td>14</td>\n      <td>2.000000</td>\n      <td>20</td>\n      <td>62.500000</td>\n      <td>34.600000</td>\n      <td>346</td>\n      <td>1.000000</td>\n      <td>10</td>\n      <td>1.200000</td>\n      <td>12</td>\n      <td>0.833333</td>\n      <td>5.200000</td>\n      <td>52</td>\n      <td>0.700000</td>\n    </tr>\n    <tr>\n      <th>15</th>\n      <td>Eddy Pineiro</td>\n      <td>1.200000</td>\n      <td>12</td>\n      <td>1.300000</td>\n      <td>13</td>\n      <td>75.000000</td>\n      <td>34.000000</td>\n      <td>340</td>\n      <td>1.700000</td>\n      <td>17</td>\n      <td>1.700000</td>\n      <td>17</td>\n      <td>1.000000</td>\n      <td>5.300000</td>\n      <td>53</td>\n      <td>0.923077</td>\n    </tr>\n    <tr>\n      <th>16</th>\n      <td>Evan McPherson</td>\n      <td>1.363636</td>\n      <td>15</td>\n      <td>1.909091</td>\n      <td>21</td>\n      <td>60.636364</td>\n      <td>29.636364</td>\n      <td>326</td>\n      <td>2.909091</td>\n      <td>32</td>\n      <td>3.000000</td>\n      <td>33</td>\n      <td>0.954545</td>\n      <td>7.000000</td>\n      <td>77</td>\n      <td>0.714286</td>\n    </tr>\n    <tr>\n      <th>17</th>\n      <td>Graham Gano</td>\n      <td>1.500000</td>\n      <td>3</td>\n      <td>2.000000</td>\n      <td>4</td>\n      <td>75.000000</td>\n      <td>46.000000</td>\n      <td>92</td>\n      <td>1.000000</td>\n      <td>2</td>\n      <td>1.000000</td>\n      <td>2</td>\n      <td>1.000000</td>\n      <td>5.500000</td>\n      <td>11</td>\n      <td>0.750000</td>\n    </tr>\n    <tr>\n      <th>18</th>\n      <td>Greg Joseph</td>\n      <td>2.166667</td>\n      <td>13</td>\n      <td>2.666667</td>\n      <td>16</td>\n      <td>66.666667</td>\n      <td>29.333333</td>\n      <td>176</td>\n      <td>1.000000</td>\n      <td>6</td>\n      <td>1.000000</td>\n      <td>6</td>\n      <td>1.000000</td>\n      <td>7.500000</td>\n      <td>45</td>\n      <td>0.812500</td>\n    </tr>\n    <tr>\n      <th>19</th>\n      <td>Greg Zuerlein</td>\n      <td>1.125000</td>\n      <td>9</td>\n      <td>1.875000</td>\n      <td>15</td>\n      <td>53.125000</td>\n      <td>24.500000</td>\n      <td>196</td>\n      <td>1.625000</td>\n      <td>13</td>\n      <td>1.750000</td>\n      <td>14</td>\n      <td>0.928571</td>\n      <td>5.000000</td>\n      <td>40</td>\n      <td>0.600000</td>\n    </tr>\n    <tr>\n      <th>20</th>\n      <td>Harrison Butker</td>\n      <td>2.000000</td>\n      <td>18</td>\n      <td>2.222222</td>\n      <td>20</td>\n      <td>81.111111</td>\n      <td>36.555556</td>\n      <td>329</td>\n      <td>2.333333</td>\n      <td>21</td>\n      <td>2.444444</td>\n      <td>22</td>\n      <td>0.944444</td>\n      <td>8.333333</td>\n      <td>75</td>\n      <td>0.900000</td>\n    </tr>\n    <tr>\n      <th>21</th>\n      <td>Jake Bates</td>\n      <td>1.500000</td>\n      <td>15</td>\n      <td>1.500000</td>\n      <td>15</td>\n      <td>80.000000</td>\n      <td>34.900000</td>\n      <td>349</td>\n      <td>3.900000</td>\n      <td>39</td>\n      <td>4.000000</td>\n      <td>40</td>\n      <td>0.966667</td>\n      <td>8.400000</td>\n      <td>84</td>\n      <td>1.000000</td>\n    </tr>\n    <tr>\n      <th>22</th>\n      <td>Jake Elliott</td>\n      <td>1.400000</td>\n      <td>14</td>\n      <td>1.900000</td>\n      <td>19</td>\n      <td>56.700000</td>\n      <td>27.800000</td>\n      <td>278</td>\n      <td>2.500000</td>\n      <td>25</td>\n      <td>2.600000</td>\n      <td>26</td>\n      <td>0.966667</td>\n      <td>6.700000</td>\n      <td>67</td>\n      <td>0.736842</td>\n    </tr>\n    <tr>\n      <th>23</th>\n      <td>Jake Moody</td>\n      <td>2.428571</td>\n      <td>17</td>\n      <td>3.000000</td>\n      <td>21</td>\n      <td>85.714286</td>\n      <td>36.571429</td>\n      <td>256</td>\n      <td>2.285714</td>\n      <td>16</td>\n      <td>2.285714</td>\n      <td>16</td>\n      <td>1.000000</td>\n      <td>9.571429</td>\n      <td>67</td>\n      <td>0.809524</td>\n    </tr>\n    <tr>\n      <th>24</th>\n      <td>Jamie Gillan</td>\n      <td>0.000000</td>\n      <td>0</td>\n      <td>0.000000</td>\n      <td>0</td>\n      <td>0.000000</td>\n      <td>0.000000</td>\n      <td>0</td>\n      <td>0.000000</td>\n      <td>0</td>\n      <td>1.000000</td>\n      <td>1</td>\n      <td>0.000000</td>\n      <td>0.000000</td>\n      <td>0</td>\n      <td>NaN</td>\n    </tr>\n    <tr>\n      <th>25</th>\n      <td>Jason Myers</td>\n      <td>1.400000</td>\n      <td>14</td>\n      <td>1.700000</td>\n      <td>17</td>\n      <td>71.700000</td>\n      <td>37.200000</td>\n      <td>372</td>\n      <td>2.400000</td>\n      <td>24</td>\n      <td>2.500000</td>\n      <td>25</td>\n      <td>0.966667</td>\n      <td>6.600000</td>\n      <td>66</td>\n      <td>0.823529</td>\n    </tr>\n    <tr>\n      <th>26</th>\n      <td>Jason Sanders</td>\n      <td>1.900000</td>\n      <td>19</td>\n      <td>2.300000</td>\n      <td>23</td>\n      <td>84.200000</td>\n      <td>44.000000</td>\n      <td>440</td>\n      <td>1.600000</td>\n      <td>16</td>\n      <td>1.600000</td>\n      <td>16</td>\n      <td>1.000000</td>\n      <td>7.300000</td>\n      <td>73</td>\n      <td>0.826087</td>\n    </tr>\n    <tr>\n      <th>27</th>\n      <td>Joey Slye</td>\n      <td>1.727273</td>\n      <td>19</td>\n      <td>2.000000</td>\n      <td>22</td>\n      <td>78.818182</td>\n      <td>36.909091</td>\n      <td>406</td>\n      <td>1.363636</td>\n      <td>15</td>\n      <td>1.454545</td>\n      <td>16</td>\n      <td>0.950000</td>\n      <td>6.545455</td>\n      <td>72</td>\n      <td>0.863636</td>\n    </tr>\n    <tr>\n      <th>28</th>\n      <td>John Parker Romo</td>\n      <td>2.500000</td>\n      <td>5</td>\n      <td>2.500000</td>\n      <td>5</td>\n      <td>100.000000</td>\n      <td>42.500000</td>\n      <td>85</td>\n      <td>1.000000</td>\n      <td>2</td>\n      <td>1.500000</td>\n      <td>3</td>\n      <td>0.666667</td>\n      <td>8.500000</td>\n      <td>17</td>\n      <td>1.000000</td>\n    </tr>\n    <tr>\n      <th>29</th>\n      <td>Joshua Karty</td>\n      <td>1.600000</td>\n      <td>16</td>\n      <td>2.000000</td>\n      <td>20</td>\n      <td>56.300000</td>\n      <td>25.200000</td>\n      <td>252</td>\n      <td>1.900000</td>\n      <td>19</td>\n      <td>2.100000</td>\n      <td>21</td>\n      <td>0.895833</td>\n      <td>6.700000</td>\n      <td>67</td>\n      <td>0.800000</td>\n    </tr>\n    <tr>\n      <th>30</th>\n      <td>Jude McAtamney</td>\n      <td>1.000000</td>\n      <td>1</td>\n      <td>1.000000</td>\n      <td>1</td>\n      <td>100.000000</td>\n      <td>31.000000</td>\n      <td>31</td>\n      <td>1.000000</td>\n      <td>1</td>\n      <td>1.000000</td>\n      <td>1</td>\n      <td>1.000000</td>\n      <td>4.000000</td>\n      <td>4</td>\n      <td>1.000000</td>\n    </tr>\n    <tr>\n      <th>31</th>\n      <td>Justin Tucker</td>\n      <td>1.454545</td>\n      <td>16</td>\n      <td>2.000000</td>\n      <td>22</td>\n      <td>56.845455</td>\n      <td>33.909091</td>\n      <td>373</td>\n      <td>3.454545</td>\n      <td>38</td>\n      <td>3.545455</td>\n      <td>39</td>\n      <td>0.977273</td>\n      <td>7.818182</td>\n      <td>86</td>\n      <td>0.727273</td>\n    </tr>\n    <tr>\n      <th>32</th>\n      <td>Ka'imi Fairbairn</td>\n      <td>2.400000</td>\n      <td>24</td>\n      <td>2.900000</td>\n      <td>29</td>\n      <td>79.200000</td>\n      <td>44.200000</td>\n      <td>442</td>\n      <td>2.000000</td>\n      <td>20</td>\n      <td>2.000000</td>\n      <td>20</td>\n      <td>1.000000</td>\n      <td>9.200000</td>\n      <td>92</td>\n      <td>0.827586</td>\n    </tr>\n    <tr>\n      <th>33</th>\n      <td>Matt Gay</td>\n      <td>1.900000</td>\n      <td>19</td>\n      <td>2.200000</td>\n      <td>22</td>\n      <td>78.400000</td>\n      <td>36.700000</td>\n      <td>367</td>\n      <td>2.000000</td>\n      <td>20</td>\n      <td>2.000000</td>\n      <td>20</td>\n      <td>1.000000</td>\n      <td>7.700000</td>\n      <td>77</td>\n      <td>0.863636</td>\n    </tr>\n    <tr>\n      <th>34</th>\n      <td>Matt Prater</td>\n      <td>1.500000</td>\n      <td>6</td>\n      <td>1.500000</td>\n      <td>6</td>\n      <td>75.000000</td>\n      <td>33.250000</td>\n      <td>133</td>\n      <td>2.500000</td>\n      <td>10</td>\n      <td>2.500000</td>\n      <td>10</td>\n      <td>1.000000</td>\n      <td>7.000000</td>\n      <td>28</td>\n      <td>1.000000</td>\n    </tr>\n    <tr>\n      <th>35</th>\n      <td>Matthew Wright</td>\n      <td>3.000000</td>\n      <td>3</td>\n      <td>3.000000</td>\n      <td>3</td>\n      <td>100.000000</td>\n      <td>41.000000</td>\n      <td>41</td>\n      <td>3.000000</td>\n      <td>3</td>\n      <td>3.000000</td>\n      <td>3</td>\n      <td>1.000000</td>\n      <td>12.000000</td>\n      <td>12</td>\n      <td>1.000000</td>\n    </tr>\n    <tr>\n      <th>36</th>\n      <td>Mitch Wishnowsky</td>\n      <td>1.000000</td>\n      <td>1</td>\n      <td>1.000000</td>\n      <td>1</td>\n      <td>100.000000</td>\n      <td>26.000000</td>\n      <td>26</td>\n      <td>0.000000</td>\n      <td>0</td>\n      <td>0.000000</td>\n      <td>0</td>\n      <td>NaN</td>\n      <td>3.000000</td>\n      <td>3</td>\n      <td>1.000000</td>\n    </tr>\n    <tr>\n      <th>37</th>\n      <td>Nick Folk</td>\n      <td>1.400000</td>\n      <td>14</td>\n      <td>1.500000</td>\n      <td>15</td>\n      <td>75.000000</td>\n      <td>29.800000</td>\n      <td>298</td>\n      <td>1.800000</td>\n      <td>18</td>\n      <td>1.800000</td>\n      <td>18</td>\n      <td>1.000000</td>\n      <td>6.000000</td>\n      <td>60</td>\n      <td>0.933333</td>\n    </tr>\n    <tr>\n      <th>38</th>\n      <td>Riley Patterson</td>\n      <td>0.000000</td>\n      <td>0</td>\n      <td>0.000000</td>\n      <td>0</td>\n      <td>0.000000</td>\n      <td>0.000000</td>\n      <td>0</td>\n      <td>3.000000</td>\n      <td>3</td>\n      <td>3.000000</td>\n      <td>3</td>\n      <td>1.000000</td>\n      <td>3.000000</td>\n      <td>3</td>\n      <td>NaN</td>\n    </tr>\n    <tr>\n      <th>39</th>\n      <td>Spencer Shrader</td>\n      <td>0.666667</td>\n      <td>2</td>\n      <td>0.666667</td>\n      <td>2</td>\n      <td>33.333333</td>\n      <td>15.000000</td>\n      <td>45</td>\n      <td>2.000000</td>\n      <td>6</td>\n      <td>2.000000</td>\n      <td>6</td>\n      <td>1.000000</td>\n      <td>4.000000</td>\n      <td>12</td>\n      <td>1.000000</td>\n    </tr>\n    <tr>\n      <th>40</th>\n      <td>Tyler Bass</td>\n      <td>1.727273</td>\n      <td>19</td>\n      <td>2.000000</td>\n      <td>22</td>\n      <td>86.363636</td>\n      <td>39.363636</td>\n      <td>433</td>\n      <td>3.000000</td>\n      <td>33</td>\n      <td>3.363636</td>\n      <td>37</td>\n      <td>0.886364</td>\n      <td>8.181818</td>\n      <td>90</td>\n      <td>0.863636</td>\n    </tr>\n    <tr>\n      <th>41</th>\n      <td>Wil Lutz</td>\n      <td>1.727273</td>\n      <td>19</td>\n      <td>2.000000</td>\n      <td>22</td>\n      <td>77.272727</td>\n      <td>35.909091</td>\n      <td>395</td>\n      <td>2.181818</td>\n      <td>24</td>\n      <td>2.181818</td>\n      <td>24</td>\n      <td>1.000000</td>\n      <td>7.363636</td>\n      <td>81</td>\n      <td>0.863636</td>\n    </tr>\n    <tr>\n      <th>42</th>\n      <td>Will Reichard</td>\n      <td>1.750000</td>\n      <td>14</td>\n      <td>2.000000</td>\n      <td>16</td>\n      <td>75.000000</td>\n      <td>34.500000</td>\n      <td>276</td>\n      <td>2.875000</td>\n      <td>23</td>\n      <td>2.875000</td>\n      <td>23</td>\n      <td>1.000000</td>\n      <td>8.125000</td>\n      <td>65</td>\n      <td>0.875000</td>\n    </tr>\n    <tr>\n      <th>43</th>\n      <td>Younghoe Koo</td>\n      <td>1.727273</td>\n      <td>19</td>\n      <td>2.363636</td>\n      <td>26</td>\n      <td>66.818182</td>\n      <td>34.636364</td>\n      <td>381</td>\n      <td>2.090909</td>\n      <td>23</td>\n      <td>2.090909</td>\n      <td>23</td>\n      <td>1.000000</td>\n      <td>7.272727</td>\n      <td>80</td>\n      <td>0.730769</td>\n    </tr>\n    <tr>\n      <th>44</th>\n      <td>Zane Gonzalez</td>\n      <td>1.500000</td>\n      <td>3</td>\n      <td>1.500000</td>\n      <td>3</td>\n      <td>100.000000</td>\n      <td>46.500000</td>\n      <td>93</td>\n      <td>2.000000</td>\n      <td>4</td>\n      <td>2.000000</td>\n      <td>4</td>\n      <td>1.000000</td>\n      <td>6.500000</td>\n      <td>13</td>\n      <td>1.000000</td>\n    </tr>\n  </tbody>\n</table>\n</div>"
     },
     "execution_count": 29,
     "metadata": {},
     "output_type": "execute_result"
    }
   ],
   "source": [
    "mov"
   ],
   "metadata": {
    "collapsed": false,
    "ExecuteTime": {
     "end_time": "2024-11-19T03:02:57.584837Z",
     "start_time": "2024-11-19T03:02:57.530132Z"
    }
   },
   "id": "a3c39ac4edf3b84d"
  },
  {
   "cell_type": "code",
   "execution_count": 2,
   "outputs": [
    {
     "name": "stdout",
     "output_type": "stream",
     "text": [
      "https://site.api.espn.com/apis/site/v2/sports/football/nfl/scoreboard?limit=1000&dates=2024&seasontype=2&week=1\n",
      "https://site.api.espn.com/apis/site/v2/sports/football/nfl/scoreboard?limit=1000&dates=2024&seasontype=2&week=2\n",
      "https://site.api.espn.com/apis/site/v2/sports/football/nfl/scoreboard?limit=1000&dates=2024&seasontype=2&week=3\n",
      "https://site.api.espn.com/apis/site/v2/sports/football/nfl/scoreboard?limit=1000&dates=2024&seasontype=2&week=4\n",
      "https://site.api.espn.com/apis/site/v2/sports/football/nfl/scoreboard?limit=1000&dates=2024&seasontype=2&week=5\n",
      "https://site.api.espn.com/apis/site/v2/sports/football/nfl/scoreboard?limit=1000&dates=2024&seasontype=2&week=6\n",
      "https://site.api.espn.com/apis/site/v2/sports/football/nfl/scoreboard?limit=1000&dates=2024&seasontype=2&week=7\n",
      "https://site.api.espn.com/apis/site/v2/sports/football/nfl/scoreboard?limit=1000&dates=2024&seasontype=2&week=8\n",
      "https://site.api.espn.com/apis/site/v2/sports/football/nfl/scoreboard?limit=1000&dates=2024&seasontype=2&week=9\n",
      "https://site.api.espn.com/apis/site/v2/sports/football/nfl/scoreboard?limit=1000&dates=2024&seasontype=2&week=10\n",
      "https://site.api.espn.com/apis/site/v2/sports/football/nfl/scoreboard?limit=1000&dates=2024&seasontype=2&week=11\n",
      "https://site.api.espn.com/apis/site/v2/sports/football/nfl/scoreboard?limit=1000&dates=2024&seasontype=2&week=12\n",
      "https://site.api.espn.com/apis/site/v2/sports/football/nfl/scoreboard?limit=1000&dates=2024&seasontype=2&week=13\n",
      "https://site.api.espn.com/apis/site/v2/sports/football/nfl/scoreboard?limit=1000&dates=2024&seasontype=2&week=14\n",
      "https://site.api.espn.com/apis/site/v2/sports/football/nfl/scoreboard?limit=1000&dates=2024&seasontype=2&week=15\n",
      "https://site.api.espn.com/apis/site/v2/sports/football/nfl/scoreboard?limit=1000&dates=2024&seasontype=2&week=16\n",
      "https://site.api.espn.com/apis/site/v2/sports/football/nfl/scoreboard?limit=1000&dates=2024&seasontype=2&week=17\n",
      "https://site.api.espn.com/apis/site/v2/sports/football/nfl/scoreboard?limit=1000&dates=2024&seasontype=2&week=18\n"
     ]
    },
    {
     "name": "stderr",
     "output_type": "stream",
     "text": [
      " 10%|▉         | 15/153 [00:04<00:41,  3.34it/s]\n"
     ]
    },
    {
     "ename": "KeyboardInterrupt",
     "evalue": "",
     "output_type": "error",
     "traceback": [
      "\u001B[0;31m---------------------------------------------------------------------------\u001B[0m",
      "\u001B[0;31mKeyboardInterrupt\u001B[0m                         Traceback (most recent call last)",
      "Cell \u001B[0;32mIn[2], line 1\u001B[0m\n\u001B[0;32m----> 1\u001B[0m team_boxscore \u001B[38;5;241m=\u001B[39m \u001B[43mfetch\u001B[49m\u001B[38;5;241;43m.\u001B[39;49m\u001B[43mteam_boxscore\u001B[49m\u001B[43m(\u001B[49m\u001B[43myear\u001B[49m\u001B[43m \u001B[49m\u001B[38;5;241;43m=\u001B[39;49m\u001B[43m \u001B[49m\u001B[38;5;241;43m2024\u001B[39;49m\u001B[43m)\u001B[49m\n",
      "File \u001B[0;32m~/Documents/projects/412analytics/fouronetwo.py:266\u001B[0m, in \u001B[0;36mFetch.team_boxscore\u001B[0;34m(self, year, week, season_type, team, pivot)\u001B[0m\n\u001B[1;32m    263\u001B[0m completed_games \u001B[38;5;241m=\u001B[39m completed_games[completed_games\u001B[38;5;241m.\u001B[39mid \u001B[38;5;241m==\u001B[39m \u001B[38;5;28mid\u001B[39m]\n\u001B[1;32m    264\u001B[0m url \u001B[38;5;241m=\u001B[39m \u001B[38;5;124mf\u001B[39m\u001B[38;5;124m'\u001B[39m\u001B[38;5;124mhttps://site.api.espn.com/apis/site/v2/sports/football/nfl/summary?event=\u001B[39m\u001B[38;5;132;01m{\u001B[39;00m\u001B[38;5;28mid\u001B[39m\u001B[38;5;132;01m}\u001B[39;00m\u001B[38;5;124m'\u001B[39m\n\u001B[0;32m--> 266\u001B[0m response \u001B[38;5;241m=\u001B[39m \u001B[43mrequests\u001B[49m\u001B[38;5;241;43m.\u001B[39;49m\u001B[43mget\u001B[49m\u001B[43m(\u001B[49m\u001B[43murl\u001B[49m\u001B[43m)\u001B[49m\n\u001B[1;32m    267\u001B[0m \u001B[38;5;28;01mif\u001B[39;00m response\u001B[38;5;241m.\u001B[39mstatus_code \u001B[38;5;241m==\u001B[39m \u001B[38;5;241m200\u001B[39m:\n\u001B[1;32m    268\u001B[0m     data \u001B[38;5;241m=\u001B[39m response\u001B[38;5;241m.\u001B[39mjson()\n",
      "File \u001B[0;32m~/anaconda3/envs/412analytics/lib/python3.9/site-packages/requests/api.py:73\u001B[0m, in \u001B[0;36mget\u001B[0;34m(url, params, **kwargs)\u001B[0m\n\u001B[1;32m     62\u001B[0m \u001B[38;5;28;01mdef\u001B[39;00m \u001B[38;5;21mget\u001B[39m(url, params\u001B[38;5;241m=\u001B[39m\u001B[38;5;28;01mNone\u001B[39;00m, \u001B[38;5;241m*\u001B[39m\u001B[38;5;241m*\u001B[39mkwargs):\n\u001B[1;32m     63\u001B[0m \u001B[38;5;250m    \u001B[39m\u001B[38;5;124mr\u001B[39m\u001B[38;5;124;03m\"\"\"Sends a GET request.\u001B[39;00m\n\u001B[1;32m     64\u001B[0m \n\u001B[1;32m     65\u001B[0m \u001B[38;5;124;03m    :param url: URL for the new :class:`Request` object.\u001B[39;00m\n\u001B[0;32m   (...)\u001B[0m\n\u001B[1;32m     70\u001B[0m \u001B[38;5;124;03m    :rtype: requests.Response\u001B[39;00m\n\u001B[1;32m     71\u001B[0m \u001B[38;5;124;03m    \"\"\"\u001B[39;00m\n\u001B[0;32m---> 73\u001B[0m     \u001B[38;5;28;01mreturn\u001B[39;00m \u001B[43mrequest\u001B[49m\u001B[43m(\u001B[49m\u001B[38;5;124;43m\"\u001B[39;49m\u001B[38;5;124;43mget\u001B[39;49m\u001B[38;5;124;43m\"\u001B[39;49m\u001B[43m,\u001B[49m\u001B[43m \u001B[49m\u001B[43murl\u001B[49m\u001B[43m,\u001B[49m\u001B[43m \u001B[49m\u001B[43mparams\u001B[49m\u001B[38;5;241;43m=\u001B[39;49m\u001B[43mparams\u001B[49m\u001B[43m,\u001B[49m\u001B[43m \u001B[49m\u001B[38;5;241;43m*\u001B[39;49m\u001B[38;5;241;43m*\u001B[39;49m\u001B[43mkwargs\u001B[49m\u001B[43m)\u001B[49m\n",
      "File \u001B[0;32m~/anaconda3/envs/412analytics/lib/python3.9/site-packages/requests/api.py:59\u001B[0m, in \u001B[0;36mrequest\u001B[0;34m(method, url, **kwargs)\u001B[0m\n\u001B[1;32m     55\u001B[0m \u001B[38;5;66;03m# By using the 'with' statement we are sure the session is closed, thus we\u001B[39;00m\n\u001B[1;32m     56\u001B[0m \u001B[38;5;66;03m# avoid leaving sockets open which can trigger a ResourceWarning in some\u001B[39;00m\n\u001B[1;32m     57\u001B[0m \u001B[38;5;66;03m# cases, and look like a memory leak in others.\u001B[39;00m\n\u001B[1;32m     58\u001B[0m \u001B[38;5;28;01mwith\u001B[39;00m sessions\u001B[38;5;241m.\u001B[39mSession() \u001B[38;5;28;01mas\u001B[39;00m session:\n\u001B[0;32m---> 59\u001B[0m     \u001B[38;5;28;01mreturn\u001B[39;00m \u001B[43msession\u001B[49m\u001B[38;5;241;43m.\u001B[39;49m\u001B[43mrequest\u001B[49m\u001B[43m(\u001B[49m\u001B[43mmethod\u001B[49m\u001B[38;5;241;43m=\u001B[39;49m\u001B[43mmethod\u001B[49m\u001B[43m,\u001B[49m\u001B[43m \u001B[49m\u001B[43murl\u001B[49m\u001B[38;5;241;43m=\u001B[39;49m\u001B[43murl\u001B[49m\u001B[43m,\u001B[49m\u001B[43m \u001B[49m\u001B[38;5;241;43m*\u001B[39;49m\u001B[38;5;241;43m*\u001B[39;49m\u001B[43mkwargs\u001B[49m\u001B[43m)\u001B[49m\n",
      "File \u001B[0;32m~/anaconda3/envs/412analytics/lib/python3.9/site-packages/requests/sessions.py:589\u001B[0m, in \u001B[0;36mSession.request\u001B[0;34m(self, method, url, params, data, headers, cookies, files, auth, timeout, allow_redirects, proxies, hooks, stream, verify, cert, json)\u001B[0m\n\u001B[1;32m    584\u001B[0m send_kwargs \u001B[38;5;241m=\u001B[39m {\n\u001B[1;32m    585\u001B[0m     \u001B[38;5;124m\"\u001B[39m\u001B[38;5;124mtimeout\u001B[39m\u001B[38;5;124m\"\u001B[39m: timeout,\n\u001B[1;32m    586\u001B[0m     \u001B[38;5;124m\"\u001B[39m\u001B[38;5;124mallow_redirects\u001B[39m\u001B[38;5;124m\"\u001B[39m: allow_redirects,\n\u001B[1;32m    587\u001B[0m }\n\u001B[1;32m    588\u001B[0m send_kwargs\u001B[38;5;241m.\u001B[39mupdate(settings)\n\u001B[0;32m--> 589\u001B[0m resp \u001B[38;5;241m=\u001B[39m \u001B[38;5;28;43mself\u001B[39;49m\u001B[38;5;241;43m.\u001B[39;49m\u001B[43msend\u001B[49m\u001B[43m(\u001B[49m\u001B[43mprep\u001B[49m\u001B[43m,\u001B[49m\u001B[43m \u001B[49m\u001B[38;5;241;43m*\u001B[39;49m\u001B[38;5;241;43m*\u001B[39;49m\u001B[43msend_kwargs\u001B[49m\u001B[43m)\u001B[49m\n\u001B[1;32m    591\u001B[0m \u001B[38;5;28;01mreturn\u001B[39;00m resp\n",
      "File \u001B[0;32m~/anaconda3/envs/412analytics/lib/python3.9/site-packages/requests/sessions.py:703\u001B[0m, in \u001B[0;36mSession.send\u001B[0;34m(self, request, **kwargs)\u001B[0m\n\u001B[1;32m    700\u001B[0m start \u001B[38;5;241m=\u001B[39m preferred_clock()\n\u001B[1;32m    702\u001B[0m \u001B[38;5;66;03m# Send the request\u001B[39;00m\n\u001B[0;32m--> 703\u001B[0m r \u001B[38;5;241m=\u001B[39m \u001B[43madapter\u001B[49m\u001B[38;5;241;43m.\u001B[39;49m\u001B[43msend\u001B[49m\u001B[43m(\u001B[49m\u001B[43mrequest\u001B[49m\u001B[43m,\u001B[49m\u001B[43m \u001B[49m\u001B[38;5;241;43m*\u001B[39;49m\u001B[38;5;241;43m*\u001B[39;49m\u001B[43mkwargs\u001B[49m\u001B[43m)\u001B[49m\n\u001B[1;32m    705\u001B[0m \u001B[38;5;66;03m# Total elapsed time of the request (approximately)\u001B[39;00m\n\u001B[1;32m    706\u001B[0m elapsed \u001B[38;5;241m=\u001B[39m preferred_clock() \u001B[38;5;241m-\u001B[39m start\n",
      "File \u001B[0;32m~/anaconda3/envs/412analytics/lib/python3.9/site-packages/requests/adapters.py:667\u001B[0m, in \u001B[0;36mHTTPAdapter.send\u001B[0;34m(self, request, stream, timeout, verify, cert, proxies)\u001B[0m\n\u001B[1;32m    664\u001B[0m     timeout \u001B[38;5;241m=\u001B[39m TimeoutSauce(connect\u001B[38;5;241m=\u001B[39mtimeout, read\u001B[38;5;241m=\u001B[39mtimeout)\n\u001B[1;32m    666\u001B[0m \u001B[38;5;28;01mtry\u001B[39;00m:\n\u001B[0;32m--> 667\u001B[0m     resp \u001B[38;5;241m=\u001B[39m \u001B[43mconn\u001B[49m\u001B[38;5;241;43m.\u001B[39;49m\u001B[43murlopen\u001B[49m\u001B[43m(\u001B[49m\n\u001B[1;32m    668\u001B[0m \u001B[43m        \u001B[49m\u001B[43mmethod\u001B[49m\u001B[38;5;241;43m=\u001B[39;49m\u001B[43mrequest\u001B[49m\u001B[38;5;241;43m.\u001B[39;49m\u001B[43mmethod\u001B[49m\u001B[43m,\u001B[49m\n\u001B[1;32m    669\u001B[0m \u001B[43m        \u001B[49m\u001B[43murl\u001B[49m\u001B[38;5;241;43m=\u001B[39;49m\u001B[43murl\u001B[49m\u001B[43m,\u001B[49m\n\u001B[1;32m    670\u001B[0m \u001B[43m        \u001B[49m\u001B[43mbody\u001B[49m\u001B[38;5;241;43m=\u001B[39;49m\u001B[43mrequest\u001B[49m\u001B[38;5;241;43m.\u001B[39;49m\u001B[43mbody\u001B[49m\u001B[43m,\u001B[49m\n\u001B[1;32m    671\u001B[0m \u001B[43m        \u001B[49m\u001B[43mheaders\u001B[49m\u001B[38;5;241;43m=\u001B[39;49m\u001B[43mrequest\u001B[49m\u001B[38;5;241;43m.\u001B[39;49m\u001B[43mheaders\u001B[49m\u001B[43m,\u001B[49m\n\u001B[1;32m    672\u001B[0m \u001B[43m        \u001B[49m\u001B[43mredirect\u001B[49m\u001B[38;5;241;43m=\u001B[39;49m\u001B[38;5;28;43;01mFalse\u001B[39;49;00m\u001B[43m,\u001B[49m\n\u001B[1;32m    673\u001B[0m \u001B[43m        \u001B[49m\u001B[43massert_same_host\u001B[49m\u001B[38;5;241;43m=\u001B[39;49m\u001B[38;5;28;43;01mFalse\u001B[39;49;00m\u001B[43m,\u001B[49m\n\u001B[1;32m    674\u001B[0m \u001B[43m        \u001B[49m\u001B[43mpreload_content\u001B[49m\u001B[38;5;241;43m=\u001B[39;49m\u001B[38;5;28;43;01mFalse\u001B[39;49;00m\u001B[43m,\u001B[49m\n\u001B[1;32m    675\u001B[0m \u001B[43m        \u001B[49m\u001B[43mdecode_content\u001B[49m\u001B[38;5;241;43m=\u001B[39;49m\u001B[38;5;28;43;01mFalse\u001B[39;49;00m\u001B[43m,\u001B[49m\n\u001B[1;32m    676\u001B[0m \u001B[43m        \u001B[49m\u001B[43mretries\u001B[49m\u001B[38;5;241;43m=\u001B[39;49m\u001B[38;5;28;43mself\u001B[39;49m\u001B[38;5;241;43m.\u001B[39;49m\u001B[43mmax_retries\u001B[49m\u001B[43m,\u001B[49m\n\u001B[1;32m    677\u001B[0m \u001B[43m        \u001B[49m\u001B[43mtimeout\u001B[49m\u001B[38;5;241;43m=\u001B[39;49m\u001B[43mtimeout\u001B[49m\u001B[43m,\u001B[49m\n\u001B[1;32m    678\u001B[0m \u001B[43m        \u001B[49m\u001B[43mchunked\u001B[49m\u001B[38;5;241;43m=\u001B[39;49m\u001B[43mchunked\u001B[49m\u001B[43m,\u001B[49m\n\u001B[1;32m    679\u001B[0m \u001B[43m    \u001B[49m\u001B[43m)\u001B[49m\n\u001B[1;32m    681\u001B[0m \u001B[38;5;28;01mexcept\u001B[39;00m (ProtocolError, \u001B[38;5;167;01mOSError\u001B[39;00m) \u001B[38;5;28;01mas\u001B[39;00m err:\n\u001B[1;32m    682\u001B[0m     \u001B[38;5;28;01mraise\u001B[39;00m \u001B[38;5;167;01mConnectionError\u001B[39;00m(err, request\u001B[38;5;241m=\u001B[39mrequest)\n",
      "File \u001B[0;32m~/anaconda3/envs/412analytics/lib/python3.9/site-packages/urllib3/connectionpool.py:789\u001B[0m, in \u001B[0;36mHTTPConnectionPool.urlopen\u001B[0;34m(self, method, url, body, headers, retries, redirect, assert_same_host, timeout, pool_timeout, release_conn, chunked, body_pos, preload_content, decode_content, **response_kw)\u001B[0m\n\u001B[1;32m    786\u001B[0m response_conn \u001B[38;5;241m=\u001B[39m conn \u001B[38;5;28;01mif\u001B[39;00m \u001B[38;5;129;01mnot\u001B[39;00m release_conn \u001B[38;5;28;01melse\u001B[39;00m \u001B[38;5;28;01mNone\u001B[39;00m\n\u001B[1;32m    788\u001B[0m \u001B[38;5;66;03m# Make the request on the HTTPConnection object\u001B[39;00m\n\u001B[0;32m--> 789\u001B[0m response \u001B[38;5;241m=\u001B[39m \u001B[38;5;28;43mself\u001B[39;49m\u001B[38;5;241;43m.\u001B[39;49m\u001B[43m_make_request\u001B[49m\u001B[43m(\u001B[49m\n\u001B[1;32m    790\u001B[0m \u001B[43m    \u001B[49m\u001B[43mconn\u001B[49m\u001B[43m,\u001B[49m\n\u001B[1;32m    791\u001B[0m \u001B[43m    \u001B[49m\u001B[43mmethod\u001B[49m\u001B[43m,\u001B[49m\n\u001B[1;32m    792\u001B[0m \u001B[43m    \u001B[49m\u001B[43murl\u001B[49m\u001B[43m,\u001B[49m\n\u001B[1;32m    793\u001B[0m \u001B[43m    \u001B[49m\u001B[43mtimeout\u001B[49m\u001B[38;5;241;43m=\u001B[39;49m\u001B[43mtimeout_obj\u001B[49m\u001B[43m,\u001B[49m\n\u001B[1;32m    794\u001B[0m \u001B[43m    \u001B[49m\u001B[43mbody\u001B[49m\u001B[38;5;241;43m=\u001B[39;49m\u001B[43mbody\u001B[49m\u001B[43m,\u001B[49m\n\u001B[1;32m    795\u001B[0m \u001B[43m    \u001B[49m\u001B[43mheaders\u001B[49m\u001B[38;5;241;43m=\u001B[39;49m\u001B[43mheaders\u001B[49m\u001B[43m,\u001B[49m\n\u001B[1;32m    796\u001B[0m \u001B[43m    \u001B[49m\u001B[43mchunked\u001B[49m\u001B[38;5;241;43m=\u001B[39;49m\u001B[43mchunked\u001B[49m\u001B[43m,\u001B[49m\n\u001B[1;32m    797\u001B[0m \u001B[43m    \u001B[49m\u001B[43mretries\u001B[49m\u001B[38;5;241;43m=\u001B[39;49m\u001B[43mretries\u001B[49m\u001B[43m,\u001B[49m\n\u001B[1;32m    798\u001B[0m \u001B[43m    \u001B[49m\u001B[43mresponse_conn\u001B[49m\u001B[38;5;241;43m=\u001B[39;49m\u001B[43mresponse_conn\u001B[49m\u001B[43m,\u001B[49m\n\u001B[1;32m    799\u001B[0m \u001B[43m    \u001B[49m\u001B[43mpreload_content\u001B[49m\u001B[38;5;241;43m=\u001B[39;49m\u001B[43mpreload_content\u001B[49m\u001B[43m,\u001B[49m\n\u001B[1;32m    800\u001B[0m \u001B[43m    \u001B[49m\u001B[43mdecode_content\u001B[49m\u001B[38;5;241;43m=\u001B[39;49m\u001B[43mdecode_content\u001B[49m\u001B[43m,\u001B[49m\n\u001B[1;32m    801\u001B[0m \u001B[43m    \u001B[49m\u001B[38;5;241;43m*\u001B[39;49m\u001B[38;5;241;43m*\u001B[39;49m\u001B[43mresponse_kw\u001B[49m\u001B[43m,\u001B[49m\n\u001B[1;32m    802\u001B[0m \u001B[43m\u001B[49m\u001B[43m)\u001B[49m\n\u001B[1;32m    804\u001B[0m \u001B[38;5;66;03m# Everything went great!\u001B[39;00m\n\u001B[1;32m    805\u001B[0m clean_exit \u001B[38;5;241m=\u001B[39m \u001B[38;5;28;01mTrue\u001B[39;00m\n",
      "File \u001B[0;32m~/anaconda3/envs/412analytics/lib/python3.9/site-packages/urllib3/connectionpool.py:536\u001B[0m, in \u001B[0;36mHTTPConnectionPool._make_request\u001B[0;34m(self, conn, method, url, body, headers, retries, timeout, chunked, response_conn, preload_content, decode_content, enforce_content_length)\u001B[0m\n\u001B[1;32m    534\u001B[0m \u001B[38;5;66;03m# Receive the response from the server\u001B[39;00m\n\u001B[1;32m    535\u001B[0m \u001B[38;5;28;01mtry\u001B[39;00m:\n\u001B[0;32m--> 536\u001B[0m     response \u001B[38;5;241m=\u001B[39m \u001B[43mconn\u001B[49m\u001B[38;5;241;43m.\u001B[39;49m\u001B[43mgetresponse\u001B[49m\u001B[43m(\u001B[49m\u001B[43m)\u001B[49m\n\u001B[1;32m    537\u001B[0m \u001B[38;5;28;01mexcept\u001B[39;00m (BaseSSLError, \u001B[38;5;167;01mOSError\u001B[39;00m) \u001B[38;5;28;01mas\u001B[39;00m e:\n\u001B[1;32m    538\u001B[0m     \u001B[38;5;28mself\u001B[39m\u001B[38;5;241m.\u001B[39m_raise_timeout(err\u001B[38;5;241m=\u001B[39me, url\u001B[38;5;241m=\u001B[39murl, timeout_value\u001B[38;5;241m=\u001B[39mread_timeout)\n",
      "File \u001B[0;32m~/anaconda3/envs/412analytics/lib/python3.9/site-packages/urllib3/connection.py:464\u001B[0m, in \u001B[0;36mHTTPConnection.getresponse\u001B[0;34m(self)\u001B[0m\n\u001B[1;32m    461\u001B[0m \u001B[38;5;28;01mfrom\u001B[39;00m \u001B[38;5;21;01m.\u001B[39;00m\u001B[38;5;21;01mresponse\u001B[39;00m \u001B[38;5;28;01mimport\u001B[39;00m HTTPResponse\n\u001B[1;32m    463\u001B[0m \u001B[38;5;66;03m# Get the response from http.client.HTTPConnection\u001B[39;00m\n\u001B[0;32m--> 464\u001B[0m httplib_response \u001B[38;5;241m=\u001B[39m \u001B[38;5;28;43msuper\u001B[39;49m\u001B[43m(\u001B[49m\u001B[43m)\u001B[49m\u001B[38;5;241;43m.\u001B[39;49m\u001B[43mgetresponse\u001B[49m\u001B[43m(\u001B[49m\u001B[43m)\u001B[49m\n\u001B[1;32m    466\u001B[0m \u001B[38;5;28;01mtry\u001B[39;00m:\n\u001B[1;32m    467\u001B[0m     assert_header_parsing(httplib_response\u001B[38;5;241m.\u001B[39mmsg)\n",
      "File \u001B[0;32m~/anaconda3/envs/412analytics/lib/python3.9/http/client.py:1377\u001B[0m, in \u001B[0;36mHTTPConnection.getresponse\u001B[0;34m(self)\u001B[0m\n\u001B[1;32m   1375\u001B[0m \u001B[38;5;28;01mtry\u001B[39;00m:\n\u001B[1;32m   1376\u001B[0m     \u001B[38;5;28;01mtry\u001B[39;00m:\n\u001B[0;32m-> 1377\u001B[0m         \u001B[43mresponse\u001B[49m\u001B[38;5;241;43m.\u001B[39;49m\u001B[43mbegin\u001B[49m\u001B[43m(\u001B[49m\u001B[43m)\u001B[49m\n\u001B[1;32m   1378\u001B[0m     \u001B[38;5;28;01mexcept\u001B[39;00m \u001B[38;5;167;01mConnectionError\u001B[39;00m:\n\u001B[1;32m   1379\u001B[0m         \u001B[38;5;28mself\u001B[39m\u001B[38;5;241m.\u001B[39mclose()\n",
      "File \u001B[0;32m~/anaconda3/envs/412analytics/lib/python3.9/http/client.py:320\u001B[0m, in \u001B[0;36mHTTPResponse.begin\u001B[0;34m(self)\u001B[0m\n\u001B[1;32m    318\u001B[0m \u001B[38;5;66;03m# read until we get a non-100 response\u001B[39;00m\n\u001B[1;32m    319\u001B[0m \u001B[38;5;28;01mwhile\u001B[39;00m \u001B[38;5;28;01mTrue\u001B[39;00m:\n\u001B[0;32m--> 320\u001B[0m     version, status, reason \u001B[38;5;241m=\u001B[39m \u001B[38;5;28;43mself\u001B[39;49m\u001B[38;5;241;43m.\u001B[39;49m\u001B[43m_read_status\u001B[49m\u001B[43m(\u001B[49m\u001B[43m)\u001B[49m\n\u001B[1;32m    321\u001B[0m     \u001B[38;5;28;01mif\u001B[39;00m status \u001B[38;5;241m!=\u001B[39m CONTINUE:\n\u001B[1;32m    322\u001B[0m         \u001B[38;5;28;01mbreak\u001B[39;00m\n",
      "File \u001B[0;32m~/anaconda3/envs/412analytics/lib/python3.9/http/client.py:281\u001B[0m, in \u001B[0;36mHTTPResponse._read_status\u001B[0;34m(self)\u001B[0m\n\u001B[1;32m    280\u001B[0m \u001B[38;5;28;01mdef\u001B[39;00m \u001B[38;5;21m_read_status\u001B[39m(\u001B[38;5;28mself\u001B[39m):\n\u001B[0;32m--> 281\u001B[0m     line \u001B[38;5;241m=\u001B[39m \u001B[38;5;28mstr\u001B[39m(\u001B[38;5;28;43mself\u001B[39;49m\u001B[38;5;241;43m.\u001B[39;49m\u001B[43mfp\u001B[49m\u001B[38;5;241;43m.\u001B[39;49m\u001B[43mreadline\u001B[49m\u001B[43m(\u001B[49m\u001B[43m_MAXLINE\u001B[49m\u001B[43m \u001B[49m\u001B[38;5;241;43m+\u001B[39;49m\u001B[43m \u001B[49m\u001B[38;5;241;43m1\u001B[39;49m\u001B[43m)\u001B[49m, \u001B[38;5;124m\"\u001B[39m\u001B[38;5;124miso-8859-1\u001B[39m\u001B[38;5;124m\"\u001B[39m)\n\u001B[1;32m    282\u001B[0m     \u001B[38;5;28;01mif\u001B[39;00m \u001B[38;5;28mlen\u001B[39m(line) \u001B[38;5;241m>\u001B[39m _MAXLINE:\n\u001B[1;32m    283\u001B[0m         \u001B[38;5;28;01mraise\u001B[39;00m LineTooLong(\u001B[38;5;124m\"\u001B[39m\u001B[38;5;124mstatus line\u001B[39m\u001B[38;5;124m\"\u001B[39m)\n",
      "File \u001B[0;32m~/anaconda3/envs/412analytics/lib/python3.9/socket.py:704\u001B[0m, in \u001B[0;36mSocketIO.readinto\u001B[0;34m(self, b)\u001B[0m\n\u001B[1;32m    702\u001B[0m \u001B[38;5;28;01mwhile\u001B[39;00m \u001B[38;5;28;01mTrue\u001B[39;00m:\n\u001B[1;32m    703\u001B[0m     \u001B[38;5;28;01mtry\u001B[39;00m:\n\u001B[0;32m--> 704\u001B[0m         \u001B[38;5;28;01mreturn\u001B[39;00m \u001B[38;5;28;43mself\u001B[39;49m\u001B[38;5;241;43m.\u001B[39;49m\u001B[43m_sock\u001B[49m\u001B[38;5;241;43m.\u001B[39;49m\u001B[43mrecv_into\u001B[49m\u001B[43m(\u001B[49m\u001B[43mb\u001B[49m\u001B[43m)\u001B[49m\n\u001B[1;32m    705\u001B[0m     \u001B[38;5;28;01mexcept\u001B[39;00m timeout:\n\u001B[1;32m    706\u001B[0m         \u001B[38;5;28mself\u001B[39m\u001B[38;5;241m.\u001B[39m_timeout_occurred \u001B[38;5;241m=\u001B[39m \u001B[38;5;28;01mTrue\u001B[39;00m\n",
      "File \u001B[0;32m~/anaconda3/envs/412analytics/lib/python3.9/ssl.py:1275\u001B[0m, in \u001B[0;36mSSLSocket.recv_into\u001B[0;34m(self, buffer, nbytes, flags)\u001B[0m\n\u001B[1;32m   1271\u001B[0m     \u001B[38;5;28;01mif\u001B[39;00m flags \u001B[38;5;241m!=\u001B[39m \u001B[38;5;241m0\u001B[39m:\n\u001B[1;32m   1272\u001B[0m         \u001B[38;5;28;01mraise\u001B[39;00m \u001B[38;5;167;01mValueError\u001B[39;00m(\n\u001B[1;32m   1273\u001B[0m           \u001B[38;5;124m\"\u001B[39m\u001B[38;5;124mnon-zero flags not allowed in calls to recv_into() on \u001B[39m\u001B[38;5;132;01m%s\u001B[39;00m\u001B[38;5;124m\"\u001B[39m \u001B[38;5;241m%\u001B[39m\n\u001B[1;32m   1274\u001B[0m           \u001B[38;5;28mself\u001B[39m\u001B[38;5;241m.\u001B[39m\u001B[38;5;18m__class__\u001B[39m)\n\u001B[0;32m-> 1275\u001B[0m     \u001B[38;5;28;01mreturn\u001B[39;00m \u001B[38;5;28;43mself\u001B[39;49m\u001B[38;5;241;43m.\u001B[39;49m\u001B[43mread\u001B[49m\u001B[43m(\u001B[49m\u001B[43mnbytes\u001B[49m\u001B[43m,\u001B[49m\u001B[43m \u001B[49m\u001B[43mbuffer\u001B[49m\u001B[43m)\u001B[49m\n\u001B[1;32m   1276\u001B[0m \u001B[38;5;28;01melse\u001B[39;00m:\n\u001B[1;32m   1277\u001B[0m     \u001B[38;5;28;01mreturn\u001B[39;00m \u001B[38;5;28msuper\u001B[39m()\u001B[38;5;241m.\u001B[39mrecv_into(buffer, nbytes, flags)\n",
      "File \u001B[0;32m~/anaconda3/envs/412analytics/lib/python3.9/ssl.py:1133\u001B[0m, in \u001B[0;36mSSLSocket.read\u001B[0;34m(self, len, buffer)\u001B[0m\n\u001B[1;32m   1131\u001B[0m \u001B[38;5;28;01mtry\u001B[39;00m:\n\u001B[1;32m   1132\u001B[0m     \u001B[38;5;28;01mif\u001B[39;00m buffer \u001B[38;5;129;01mis\u001B[39;00m \u001B[38;5;129;01mnot\u001B[39;00m \u001B[38;5;28;01mNone\u001B[39;00m:\n\u001B[0;32m-> 1133\u001B[0m         \u001B[38;5;28;01mreturn\u001B[39;00m \u001B[38;5;28;43mself\u001B[39;49m\u001B[38;5;241;43m.\u001B[39;49m\u001B[43m_sslobj\u001B[49m\u001B[38;5;241;43m.\u001B[39;49m\u001B[43mread\u001B[49m\u001B[43m(\u001B[49m\u001B[38;5;28;43mlen\u001B[39;49m\u001B[43m,\u001B[49m\u001B[43m \u001B[49m\u001B[43mbuffer\u001B[49m\u001B[43m)\u001B[49m\n\u001B[1;32m   1134\u001B[0m     \u001B[38;5;28;01melse\u001B[39;00m:\n\u001B[1;32m   1135\u001B[0m         \u001B[38;5;28;01mreturn\u001B[39;00m \u001B[38;5;28mself\u001B[39m\u001B[38;5;241m.\u001B[39m_sslobj\u001B[38;5;241m.\u001B[39mread(\u001B[38;5;28mlen\u001B[39m)\n",
      "\u001B[0;31mKeyboardInterrupt\u001B[0m: "
     ]
    }
   ],
   "source": [
    "team_boxscore = fetch.team_boxscore(year = 2024)"
   ],
   "metadata": {
    "collapsed": false,
    "ExecuteTime": {
     "end_time": "2024-11-16T07:00:45.905425Z",
     "start_time": "2024-11-16T07:00:34.409712Z"
    }
   },
   "id": "401ee0a1344ee602"
  },
  {
   "cell_type": "code",
   "execution_count": 7,
   "outputs": [
    {
     "data": {
      "text/plain": "            id               date          city                    venue  \\\n0    401671813  2024-11-15T01:15Z  Philadelphia  Lincoln Financial Field   \n1    401671813  2024-11-15T01:15Z  Philadelphia  Lincoln Financial Field   \n2    401671810  2024-11-08T01:15Z     Baltimore         M&T Bank Stadium   \n3    401671810  2024-11-08T01:15Z     Baltimore         M&T Bank Stadium   \n4    401671803  2024-11-10T14:30Z        Munich            Allianz Arena   \n..         ...                ...           ...                      ...   \n301  401671770  2024-09-08T20:25Z         Tampa    Raymond James Stadium   \n302  401671792  2024-09-09T00:20Z       Detroit               Ford Field   \n303  401671792  2024-09-09T00:20Z       Detroit               Ford Field   \n304  401671696  2024-09-10T00:15Z   Santa Clara           Levi's Stadium   \n305  401671696  2024-09-10T00:15Z   Santa Clara           Levi's Stadium   \n\n                      team    nickname abbv               opponent  points  \\\n0    Washington Commanders  Commanders  WSH    Philadelphia Eagles      18   \n1      Philadelphia Eagles      Eagles  PHI  Washington Commanders      26   \n2       Cincinnati Bengals     Bengals  CIN       Baltimore Ravens      34   \n3         Baltimore Ravens      Ravens  BAL     Cincinnati Bengals      35   \n4          New York Giants      Giants  NYG      Carolina Panthers      17   \n..                     ...         ...  ...                    ...     ...   \n301   Tampa Bay Buccaneers  Buccaneers   TB  Washington Commanders      37   \n302       Los Angeles Rams        Rams  LAR          Detroit Lions      20   \n303          Detroit Lions       Lions  DET       Los Angeles Rams      26   \n304          New York Jets        Jets  NYJ    San Francisco 49ers      19   \n305    San Francisco 49ers       49ers   SF          New York Jets      32   \n\n     points_allowed  ...  time_of_possession  third_down_success_%  \\\n0                26  ...               26:56             25.000000   \n1                18  ...               33:04             56.250000   \n2                35  ...               31:35             50.000000   \n3                34  ...               28:25             58.333333   \n4                20  ...               34:29             46.666667   \n..              ...  ...                 ...                   ...   \n301              20  ...               33:41             69.230769   \n302              26  ...               34:56             41.666667   \n303              20  ...               29:45             46.153846   \n304              32  ...               21:20             60.000000   \n305              19  ...               38:40             46.153846   \n\n     fourth_down_success_%  red_zone_success_% times_sacked sack_yards  \\\n0                     50.0          100.000000            3         20   \n1                      NaN           33.333333            2         15   \n2                     50.0          100.000000            3          7   \n3                      NaN          100.000000            0          0   \n4                      NaN           33.333333            2         15   \n..                     ...                 ...          ...        ...   \n301                    NaN           60.000000            1          9   \n302                   50.0           40.000000            2         13   \n303                  100.0           50.000000            2         17   \n304                    0.0          100.000000            1          5   \n305                    NaN           40.000000            3         10   \n\n     penalties  penalty_yards  point_differential  result  \n0            4             25                  -8       L  \n1            4             49                   8       W  \n2            3             23                  -1       L  \n3           11             81                   1       W  \n4            3             15                  -3       L  \n..         ...            ...                 ...     ...  \n301          7             46                  17       W  \n302          6             50                  -6       L  \n303          6             56                   6       W  \n304          3             10                 -13       L  \n305          4             40                  13       W  \n\n[306 rows x 44 columns]",
      "text/html": "<div>\n<style scoped>\n    .dataframe tbody tr th:only-of-type {\n        vertical-align: middle;\n    }\n\n    .dataframe tbody tr th {\n        vertical-align: top;\n    }\n\n    .dataframe thead th {\n        text-align: right;\n    }\n</style>\n<table border=\"1\" class=\"dataframe\">\n  <thead>\n    <tr style=\"text-align: right;\">\n      <th></th>\n      <th>id</th>\n      <th>date</th>\n      <th>city</th>\n      <th>venue</th>\n      <th>team</th>\n      <th>nickname</th>\n      <th>abbv</th>\n      <th>opponent</th>\n      <th>points</th>\n      <th>points_allowed</th>\n      <th>...</th>\n      <th>time_of_possession</th>\n      <th>third_down_success_%</th>\n      <th>fourth_down_success_%</th>\n      <th>red_zone_success_%</th>\n      <th>times_sacked</th>\n      <th>sack_yards</th>\n      <th>penalties</th>\n      <th>penalty_yards</th>\n      <th>point_differential</th>\n      <th>result</th>\n    </tr>\n  </thead>\n  <tbody>\n    <tr>\n      <th>0</th>\n      <td>401671813</td>\n      <td>2024-11-15T01:15Z</td>\n      <td>Philadelphia</td>\n      <td>Lincoln Financial Field</td>\n      <td>Washington Commanders</td>\n      <td>Commanders</td>\n      <td>WSH</td>\n      <td>Philadelphia Eagles</td>\n      <td>18</td>\n      <td>26</td>\n      <td>...</td>\n      <td>26:56</td>\n      <td>25.000000</td>\n      <td>50.0</td>\n      <td>100.000000</td>\n      <td>3</td>\n      <td>20</td>\n      <td>4</td>\n      <td>25</td>\n      <td>-8</td>\n      <td>L</td>\n    </tr>\n    <tr>\n      <th>1</th>\n      <td>401671813</td>\n      <td>2024-11-15T01:15Z</td>\n      <td>Philadelphia</td>\n      <td>Lincoln Financial Field</td>\n      <td>Philadelphia Eagles</td>\n      <td>Eagles</td>\n      <td>PHI</td>\n      <td>Washington Commanders</td>\n      <td>26</td>\n      <td>18</td>\n      <td>...</td>\n      <td>33:04</td>\n      <td>56.250000</td>\n      <td>NaN</td>\n      <td>33.333333</td>\n      <td>2</td>\n      <td>15</td>\n      <td>4</td>\n      <td>49</td>\n      <td>8</td>\n      <td>W</td>\n    </tr>\n    <tr>\n      <th>2</th>\n      <td>401671810</td>\n      <td>2024-11-08T01:15Z</td>\n      <td>Baltimore</td>\n      <td>M&amp;T Bank Stadium</td>\n      <td>Cincinnati Bengals</td>\n      <td>Bengals</td>\n      <td>CIN</td>\n      <td>Baltimore Ravens</td>\n      <td>34</td>\n      <td>35</td>\n      <td>...</td>\n      <td>31:35</td>\n      <td>50.000000</td>\n      <td>50.0</td>\n      <td>100.000000</td>\n      <td>3</td>\n      <td>7</td>\n      <td>3</td>\n      <td>23</td>\n      <td>-1</td>\n      <td>L</td>\n    </tr>\n    <tr>\n      <th>3</th>\n      <td>401671810</td>\n      <td>2024-11-08T01:15Z</td>\n      <td>Baltimore</td>\n      <td>M&amp;T Bank Stadium</td>\n      <td>Baltimore Ravens</td>\n      <td>Ravens</td>\n      <td>BAL</td>\n      <td>Cincinnati Bengals</td>\n      <td>35</td>\n      <td>34</td>\n      <td>...</td>\n      <td>28:25</td>\n      <td>58.333333</td>\n      <td>NaN</td>\n      <td>100.000000</td>\n      <td>0</td>\n      <td>0</td>\n      <td>11</td>\n      <td>81</td>\n      <td>1</td>\n      <td>W</td>\n    </tr>\n    <tr>\n      <th>4</th>\n      <td>401671803</td>\n      <td>2024-11-10T14:30Z</td>\n      <td>Munich</td>\n      <td>Allianz Arena</td>\n      <td>New York Giants</td>\n      <td>Giants</td>\n      <td>NYG</td>\n      <td>Carolina Panthers</td>\n      <td>17</td>\n      <td>20</td>\n      <td>...</td>\n      <td>34:29</td>\n      <td>46.666667</td>\n      <td>NaN</td>\n      <td>33.333333</td>\n      <td>2</td>\n      <td>15</td>\n      <td>3</td>\n      <td>15</td>\n      <td>-3</td>\n      <td>L</td>\n    </tr>\n    <tr>\n      <th>...</th>\n      <td>...</td>\n      <td>...</td>\n      <td>...</td>\n      <td>...</td>\n      <td>...</td>\n      <td>...</td>\n      <td>...</td>\n      <td>...</td>\n      <td>...</td>\n      <td>...</td>\n      <td>...</td>\n      <td>...</td>\n      <td>...</td>\n      <td>...</td>\n      <td>...</td>\n      <td>...</td>\n      <td>...</td>\n      <td>...</td>\n      <td>...</td>\n      <td>...</td>\n      <td>...</td>\n    </tr>\n    <tr>\n      <th>301</th>\n      <td>401671770</td>\n      <td>2024-09-08T20:25Z</td>\n      <td>Tampa</td>\n      <td>Raymond James Stadium</td>\n      <td>Tampa Bay Buccaneers</td>\n      <td>Buccaneers</td>\n      <td>TB</td>\n      <td>Washington Commanders</td>\n      <td>37</td>\n      <td>20</td>\n      <td>...</td>\n      <td>33:41</td>\n      <td>69.230769</td>\n      <td>NaN</td>\n      <td>60.000000</td>\n      <td>1</td>\n      <td>9</td>\n      <td>7</td>\n      <td>46</td>\n      <td>17</td>\n      <td>W</td>\n    </tr>\n    <tr>\n      <th>302</th>\n      <td>401671792</td>\n      <td>2024-09-09T00:20Z</td>\n      <td>Detroit</td>\n      <td>Ford Field</td>\n      <td>Los Angeles Rams</td>\n      <td>Rams</td>\n      <td>LAR</td>\n      <td>Detroit Lions</td>\n      <td>20</td>\n      <td>26</td>\n      <td>...</td>\n      <td>34:56</td>\n      <td>41.666667</td>\n      <td>50.0</td>\n      <td>40.000000</td>\n      <td>2</td>\n      <td>13</td>\n      <td>6</td>\n      <td>50</td>\n      <td>-6</td>\n      <td>L</td>\n    </tr>\n    <tr>\n      <th>303</th>\n      <td>401671792</td>\n      <td>2024-09-09T00:20Z</td>\n      <td>Detroit</td>\n      <td>Ford Field</td>\n      <td>Detroit Lions</td>\n      <td>Lions</td>\n      <td>DET</td>\n      <td>Los Angeles Rams</td>\n      <td>26</td>\n      <td>20</td>\n      <td>...</td>\n      <td>29:45</td>\n      <td>46.153846</td>\n      <td>100.0</td>\n      <td>50.000000</td>\n      <td>2</td>\n      <td>17</td>\n      <td>6</td>\n      <td>56</td>\n      <td>6</td>\n      <td>W</td>\n    </tr>\n    <tr>\n      <th>304</th>\n      <td>401671696</td>\n      <td>2024-09-10T00:15Z</td>\n      <td>Santa Clara</td>\n      <td>Levi's Stadium</td>\n      <td>New York Jets</td>\n      <td>Jets</td>\n      <td>NYJ</td>\n      <td>San Francisco 49ers</td>\n      <td>19</td>\n      <td>32</td>\n      <td>...</td>\n      <td>21:20</td>\n      <td>60.000000</td>\n      <td>0.0</td>\n      <td>100.000000</td>\n      <td>1</td>\n      <td>5</td>\n      <td>3</td>\n      <td>10</td>\n      <td>-13</td>\n      <td>L</td>\n    </tr>\n    <tr>\n      <th>305</th>\n      <td>401671696</td>\n      <td>2024-09-10T00:15Z</td>\n      <td>Santa Clara</td>\n      <td>Levi's Stadium</td>\n      <td>San Francisco 49ers</td>\n      <td>49ers</td>\n      <td>SF</td>\n      <td>New York Jets</td>\n      <td>32</td>\n      <td>19</td>\n      <td>...</td>\n      <td>38:40</td>\n      <td>46.153846</td>\n      <td>NaN</td>\n      <td>40.000000</td>\n      <td>3</td>\n      <td>10</td>\n      <td>4</td>\n      <td>40</td>\n      <td>13</td>\n      <td>W</td>\n    </tr>\n  </tbody>\n</table>\n<p>306 rows × 44 columns</p>\n</div>"
     },
     "execution_count": 7,
     "metadata": {},
     "output_type": "execute_result"
    }
   ],
   "source": [
    "team_boxscore"
   ],
   "metadata": {
    "collapsed": false,
    "ExecuteTime": {
     "end_time": "2024-11-15T07:03:29.228575Z",
     "start_time": "2024-11-15T07:03:29.083316Z"
    }
   },
   "id": "4bd9eadc92ffeb5b"
  },
  {
   "cell_type": "code",
   "execution_count": 2,
   "outputs": [
    {
     "name": "stdout",
     "output_type": "stream",
     "text": [
      "https://site.api.espn.com/apis/site/v2/sports/football/nfl/scoreboard?limit=1000&dates=2024&seasontype=2&week=1\n",
      "https://site.api.espn.com/apis/site/v2/sports/football/nfl/scoreboard?limit=1000&dates=2024&seasontype=2&week=2\n",
      "https://site.api.espn.com/apis/site/v2/sports/football/nfl/scoreboard?limit=1000&dates=2024&seasontype=2&week=3\n",
      "https://site.api.espn.com/apis/site/v2/sports/football/nfl/scoreboard?limit=1000&dates=2024&seasontype=2&week=4\n",
      "https://site.api.espn.com/apis/site/v2/sports/football/nfl/scoreboard?limit=1000&dates=2024&seasontype=2&week=5\n",
      "https://site.api.espn.com/apis/site/v2/sports/football/nfl/scoreboard?limit=1000&dates=2024&seasontype=2&week=6\n",
      "https://site.api.espn.com/apis/site/v2/sports/football/nfl/scoreboard?limit=1000&dates=2024&seasontype=2&week=7\n",
      "https://site.api.espn.com/apis/site/v2/sports/football/nfl/scoreboard?limit=1000&dates=2024&seasontype=2&week=8\n",
      "https://site.api.espn.com/apis/site/v2/sports/football/nfl/scoreboard?limit=1000&dates=2024&seasontype=2&week=9\n",
      "https://site.api.espn.com/apis/site/v2/sports/football/nfl/scoreboard?limit=1000&dates=2024&seasontype=2&week=10\n",
      "https://site.api.espn.com/apis/site/v2/sports/football/nfl/scoreboard?limit=1000&dates=2024&seasontype=2&week=11\n",
      "https://site.api.espn.com/apis/site/v2/sports/football/nfl/scoreboard?limit=1000&dates=2024&seasontype=2&week=12\n",
      "https://site.api.espn.com/apis/site/v2/sports/football/nfl/scoreboard?limit=1000&dates=2024&seasontype=2&week=13\n",
      "https://site.api.espn.com/apis/site/v2/sports/football/nfl/scoreboard?limit=1000&dates=2024&seasontype=2&week=14\n",
      "https://site.api.espn.com/apis/site/v2/sports/football/nfl/scoreboard?limit=1000&dates=2024&seasontype=2&week=15\n",
      "https://site.api.espn.com/apis/site/v2/sports/football/nfl/scoreboard?limit=1000&dates=2024&seasontype=2&week=16\n",
      "https://site.api.espn.com/apis/site/v2/sports/football/nfl/scoreboard?limit=1000&dates=2024&seasontype=2&week=17\n",
      "https://site.api.espn.com/apis/site/v2/sports/football/nfl/scoreboard?limit=1000&dates=2024&seasontype=2&week=18\n"
     ]
    },
    {
     "name": "stderr",
     "output_type": "stream",
     "text": [
      "100%|██████████| 9/9 [00:01<00:00,  4.59it/s]\n"
     ]
    }
   ],
   "source": [
    "drives = fetch.drives(year = 2024, team='Pittsburgh Steelers')"
   ],
   "metadata": {
    "collapsed": false,
    "ExecuteTime": {
     "end_time": "2024-11-15T07:18:38.913636Z",
     "start_time": "2024-11-15T07:18:32.051258Z"
    }
   },
   "id": "6279b9dcf6d35cbf"
  },
  {
   "cell_type": "code",
   "execution_count": 5,
   "outputs": [
    {
     "data": {
      "text/plain": "                      team               date     drive_id  \\\n195        Atlanta Falcons  2024-09-08T17:00Z  40167174420   \n176        Atlanta Falcons  2024-09-08T17:00Z   4016717441   \n180        Atlanta Falcons  2024-09-08T17:00Z   4016717445   \n182        Atlanta Falcons  2024-09-08T17:00Z   4016717447   \n185        Atlanta Falcons  2024-09-08T17:00Z  40167174410   \n..                     ...                ...          ...   \n22   Washington Commanders  2024-11-10T18:00Z  40167164123   \n20   Washington Commanders  2024-11-10T18:00Z  40167164121   \n1    Washington Commanders  2024-11-10T18:00Z   4016716412   \n16   Washington Commanders  2024-11-10T18:00Z  40167164117   \n12   Washington Commanders  2024-11-10T18:00Z  40167164113   \n\n                  description start_time end_time start_yardline end_yardline  \\\n195   3 plays, -2 yards, 0:28       0:28       NA         ATL 30       ATL 37   \n176  12 plays, 64 yards, 5:54      15:00     9:06         ATL 30        PIT 6   \n180   7 plays, 22 yards, 3:56      12:54     8:58         ATL 28           50   \n182   9 plays, 90 yards, 3:18       3:50     0:32         ATL 10        PIT 0   \n185   5 plays, 13 yards, 2:27      12:56    10:29         ATL 49       PIT 32   \n..                        ...        ...      ...            ...          ...   \n22     3 plays, 2 yards, 1:19       7:05     5:46          WSH 1        WSH 3   \n20    4 plays, 12 yards, 2:21       1:27    14:06         WSH 26       WSH 38   \n1      3 plays, 8 yards, 1:17      12:42    11:25         WSH 15       WSH 23   \n16     3 plays, 0 yards, 0:48       8:06     7:18         WSH 46       WSH 46   \n12   15 plays, 94 yards, 5:23       5:39     0:16          WSH 6        PIT 0   \n\n     start_period  end_period    time_elapsed  yards  score  offensive_plays  \\\n195             4           4 0 days 00:00:28     -2  False                3   \n176             1           1 0 days 00:05:54     64   True               12   \n180             2           2 0 days 00:03:56     22  False                7   \n182             2           2 0 days 00:03:18     90   True                9   \n185             3           3 0 days 00:02:27     13  False                5   \n..            ...         ...             ...    ...    ...              ...   \n22              4           4 0 days 00:01:19      2  False                3   \n20              3           4 0 days 00:02:21     12  False                4   \n1               1           1 0 days 00:01:17      8  False                3   \n16              3           3 0 days 00:00:48      0  False                3   \n12              2           2 0 days 00:05:23     94   True               15   \n\n    result display_result  points  points_allowed             opponent  \n195      L    End of Game      10              18  Pittsburgh Steelers  \n176      L     Field Goal      10              18  Pittsburgh Steelers  \n180      L           Punt      10              18  Pittsburgh Steelers  \n182      L      Touchdown      10              18  Pittsburgh Steelers  \n185      L         Fumble      10              18  Pittsburgh Steelers  \n..     ...            ...     ...             ...                  ...  \n22       L           Punt      27              28  Pittsburgh Steelers  \n20       L           Punt      27              28  Pittsburgh Steelers  \n1        L           Punt      27              28  Pittsburgh Steelers  \n16       L           Punt      27              28  Pittsburgh Steelers  \n12       L      Touchdown      27              28  Pittsburgh Steelers  \n\n[196 rows x 19 columns]",
      "text/html": "<div>\n<style scoped>\n    .dataframe tbody tr th:only-of-type {\n        vertical-align: middle;\n    }\n\n    .dataframe tbody tr th {\n        vertical-align: top;\n    }\n\n    .dataframe thead th {\n        text-align: right;\n    }\n</style>\n<table border=\"1\" class=\"dataframe\">\n  <thead>\n    <tr style=\"text-align: right;\">\n      <th></th>\n      <th>team</th>\n      <th>date</th>\n      <th>drive_id</th>\n      <th>description</th>\n      <th>start_time</th>\n      <th>end_time</th>\n      <th>start_yardline</th>\n      <th>end_yardline</th>\n      <th>start_period</th>\n      <th>end_period</th>\n      <th>time_elapsed</th>\n      <th>yards</th>\n      <th>score</th>\n      <th>offensive_plays</th>\n      <th>result</th>\n      <th>display_result</th>\n      <th>points</th>\n      <th>points_allowed</th>\n      <th>opponent</th>\n    </tr>\n  </thead>\n  <tbody>\n    <tr>\n      <th>195</th>\n      <td>Atlanta Falcons</td>\n      <td>2024-09-08T17:00Z</td>\n      <td>40167174420</td>\n      <td>3 plays, -2 yards, 0:28</td>\n      <td>0:28</td>\n      <td>NA</td>\n      <td>ATL 30</td>\n      <td>ATL 37</td>\n      <td>4</td>\n      <td>4</td>\n      <td>0 days 00:00:28</td>\n      <td>-2</td>\n      <td>False</td>\n      <td>3</td>\n      <td>L</td>\n      <td>End of Game</td>\n      <td>10</td>\n      <td>18</td>\n      <td>Pittsburgh Steelers</td>\n    </tr>\n    <tr>\n      <th>176</th>\n      <td>Atlanta Falcons</td>\n      <td>2024-09-08T17:00Z</td>\n      <td>4016717441</td>\n      <td>12 plays, 64 yards, 5:54</td>\n      <td>15:00</td>\n      <td>9:06</td>\n      <td>ATL 30</td>\n      <td>PIT 6</td>\n      <td>1</td>\n      <td>1</td>\n      <td>0 days 00:05:54</td>\n      <td>64</td>\n      <td>True</td>\n      <td>12</td>\n      <td>L</td>\n      <td>Field Goal</td>\n      <td>10</td>\n      <td>18</td>\n      <td>Pittsburgh Steelers</td>\n    </tr>\n    <tr>\n      <th>180</th>\n      <td>Atlanta Falcons</td>\n      <td>2024-09-08T17:00Z</td>\n      <td>4016717445</td>\n      <td>7 plays, 22 yards, 3:56</td>\n      <td>12:54</td>\n      <td>8:58</td>\n      <td>ATL 28</td>\n      <td>50</td>\n      <td>2</td>\n      <td>2</td>\n      <td>0 days 00:03:56</td>\n      <td>22</td>\n      <td>False</td>\n      <td>7</td>\n      <td>L</td>\n      <td>Punt</td>\n      <td>10</td>\n      <td>18</td>\n      <td>Pittsburgh Steelers</td>\n    </tr>\n    <tr>\n      <th>182</th>\n      <td>Atlanta Falcons</td>\n      <td>2024-09-08T17:00Z</td>\n      <td>4016717447</td>\n      <td>9 plays, 90 yards, 3:18</td>\n      <td>3:50</td>\n      <td>0:32</td>\n      <td>ATL 10</td>\n      <td>PIT 0</td>\n      <td>2</td>\n      <td>2</td>\n      <td>0 days 00:03:18</td>\n      <td>90</td>\n      <td>True</td>\n      <td>9</td>\n      <td>L</td>\n      <td>Touchdown</td>\n      <td>10</td>\n      <td>18</td>\n      <td>Pittsburgh Steelers</td>\n    </tr>\n    <tr>\n      <th>185</th>\n      <td>Atlanta Falcons</td>\n      <td>2024-09-08T17:00Z</td>\n      <td>40167174410</td>\n      <td>5 plays, 13 yards, 2:27</td>\n      <td>12:56</td>\n      <td>10:29</td>\n      <td>ATL 49</td>\n      <td>PIT 32</td>\n      <td>3</td>\n      <td>3</td>\n      <td>0 days 00:02:27</td>\n      <td>13</td>\n      <td>False</td>\n      <td>5</td>\n      <td>L</td>\n      <td>Fumble</td>\n      <td>10</td>\n      <td>18</td>\n      <td>Pittsburgh Steelers</td>\n    </tr>\n    <tr>\n      <th>...</th>\n      <td>...</td>\n      <td>...</td>\n      <td>...</td>\n      <td>...</td>\n      <td>...</td>\n      <td>...</td>\n      <td>...</td>\n      <td>...</td>\n      <td>...</td>\n      <td>...</td>\n      <td>...</td>\n      <td>...</td>\n      <td>...</td>\n      <td>...</td>\n      <td>...</td>\n      <td>...</td>\n      <td>...</td>\n      <td>...</td>\n      <td>...</td>\n    </tr>\n    <tr>\n      <th>22</th>\n      <td>Washington Commanders</td>\n      <td>2024-11-10T18:00Z</td>\n      <td>40167164123</td>\n      <td>3 plays, 2 yards, 1:19</td>\n      <td>7:05</td>\n      <td>5:46</td>\n      <td>WSH 1</td>\n      <td>WSH 3</td>\n      <td>4</td>\n      <td>4</td>\n      <td>0 days 00:01:19</td>\n      <td>2</td>\n      <td>False</td>\n      <td>3</td>\n      <td>L</td>\n      <td>Punt</td>\n      <td>27</td>\n      <td>28</td>\n      <td>Pittsburgh Steelers</td>\n    </tr>\n    <tr>\n      <th>20</th>\n      <td>Washington Commanders</td>\n      <td>2024-11-10T18:00Z</td>\n      <td>40167164121</td>\n      <td>4 plays, 12 yards, 2:21</td>\n      <td>1:27</td>\n      <td>14:06</td>\n      <td>WSH 26</td>\n      <td>WSH 38</td>\n      <td>3</td>\n      <td>4</td>\n      <td>0 days 00:02:21</td>\n      <td>12</td>\n      <td>False</td>\n      <td>4</td>\n      <td>L</td>\n      <td>Punt</td>\n      <td>27</td>\n      <td>28</td>\n      <td>Pittsburgh Steelers</td>\n    </tr>\n    <tr>\n      <th>1</th>\n      <td>Washington Commanders</td>\n      <td>2024-11-10T18:00Z</td>\n      <td>4016716412</td>\n      <td>3 plays, 8 yards, 1:17</td>\n      <td>12:42</td>\n      <td>11:25</td>\n      <td>WSH 15</td>\n      <td>WSH 23</td>\n      <td>1</td>\n      <td>1</td>\n      <td>0 days 00:01:17</td>\n      <td>8</td>\n      <td>False</td>\n      <td>3</td>\n      <td>L</td>\n      <td>Punt</td>\n      <td>27</td>\n      <td>28</td>\n      <td>Pittsburgh Steelers</td>\n    </tr>\n    <tr>\n      <th>16</th>\n      <td>Washington Commanders</td>\n      <td>2024-11-10T18:00Z</td>\n      <td>40167164117</td>\n      <td>3 plays, 0 yards, 0:48</td>\n      <td>8:06</td>\n      <td>7:18</td>\n      <td>WSH 46</td>\n      <td>WSH 46</td>\n      <td>3</td>\n      <td>3</td>\n      <td>0 days 00:00:48</td>\n      <td>0</td>\n      <td>False</td>\n      <td>3</td>\n      <td>L</td>\n      <td>Punt</td>\n      <td>27</td>\n      <td>28</td>\n      <td>Pittsburgh Steelers</td>\n    </tr>\n    <tr>\n      <th>12</th>\n      <td>Washington Commanders</td>\n      <td>2024-11-10T18:00Z</td>\n      <td>40167164113</td>\n      <td>15 plays, 94 yards, 5:23</td>\n      <td>5:39</td>\n      <td>0:16</td>\n      <td>WSH 6</td>\n      <td>PIT 0</td>\n      <td>2</td>\n      <td>2</td>\n      <td>0 days 00:05:23</td>\n      <td>94</td>\n      <td>True</td>\n      <td>15</td>\n      <td>L</td>\n      <td>Touchdown</td>\n      <td>27</td>\n      <td>28</td>\n      <td>Pittsburgh Steelers</td>\n    </tr>\n  </tbody>\n</table>\n<p>196 rows × 19 columns</p>\n</div>"
     },
     "execution_count": 5,
     "metadata": {},
     "output_type": "execute_result"
    }
   ],
   "source": [
    "drives"
   ],
   "metadata": {
    "collapsed": false,
    "ExecuteTime": {
     "end_time": "2024-11-15T07:19:07.221519Z",
     "start_time": "2024-11-15T07:19:07.132256Z"
    }
   },
   "id": "4afb5e99d4da68b5"
  },
  {
   "cell_type": "code",
   "execution_count": 2,
   "outputs": [
    {
     "name": "stdout",
     "output_type": "stream",
     "text": [
      "https://site.api.espn.com/apis/site/v2/sports/football/nfl/scoreboard?limit=1000&dates=2024&seasontype=2&week=1\n",
      "https://site.api.espn.com/apis/site/v2/sports/football/nfl/scoreboard?limit=1000&dates=2024&seasontype=2&week=2\n",
      "https://site.api.espn.com/apis/site/v2/sports/football/nfl/scoreboard?limit=1000&dates=2024&seasontype=2&week=3\n",
      "https://site.api.espn.com/apis/site/v2/sports/football/nfl/scoreboard?limit=1000&dates=2024&seasontype=2&week=4\n",
      "https://site.api.espn.com/apis/site/v2/sports/football/nfl/scoreboard?limit=1000&dates=2024&seasontype=2&week=5\n",
      "https://site.api.espn.com/apis/site/v2/sports/football/nfl/scoreboard?limit=1000&dates=2024&seasontype=2&week=6\n",
      "https://site.api.espn.com/apis/site/v2/sports/football/nfl/scoreboard?limit=1000&dates=2024&seasontype=2&week=7\n",
      "https://site.api.espn.com/apis/site/v2/sports/football/nfl/scoreboard?limit=1000&dates=2024&seasontype=2&week=8\n",
      "https://site.api.espn.com/apis/site/v2/sports/football/nfl/scoreboard?limit=1000&dates=2024&seasontype=2&week=9\n",
      "https://site.api.espn.com/apis/site/v2/sports/football/nfl/scoreboard?limit=1000&dates=2024&seasontype=2&week=10\n",
      "https://site.api.espn.com/apis/site/v2/sports/football/nfl/scoreboard?limit=1000&dates=2024&seasontype=2&week=11\n",
      "https://site.api.espn.com/apis/site/v2/sports/football/nfl/scoreboard?limit=1000&dates=2024&seasontype=2&week=12\n",
      "https://site.api.espn.com/apis/site/v2/sports/football/nfl/scoreboard?limit=1000&dates=2024&seasontype=2&week=13\n",
      "https://site.api.espn.com/apis/site/v2/sports/football/nfl/scoreboard?limit=1000&dates=2024&seasontype=2&week=14\n",
      "https://site.api.espn.com/apis/site/v2/sports/football/nfl/scoreboard?limit=1000&dates=2024&seasontype=2&week=15\n",
      "https://site.api.espn.com/apis/site/v2/sports/football/nfl/scoreboard?limit=1000&dates=2024&seasontype=2&week=16\n",
      "https://site.api.espn.com/apis/site/v2/sports/football/nfl/scoreboard?limit=1000&dates=2024&seasontype=2&week=17\n",
      "https://site.api.espn.com/apis/site/v2/sports/football/nfl/scoreboard?limit=1000&dates=2024&seasontype=2&week=18\n"
     ]
    },
    {
     "name": "stderr",
     "output_type": "stream",
     "text": [
      "100%|██████████| 165/165 [00:38<00:00,  4.27it/s]\n"
     ]
    },
    {
     "name": "stdout",
     "output_type": "stream",
     "text": [
      "https://site.api.espn.com/apis/site/v2/sports/football/nfl/scoreboard?limit=1000&dates=2024&seasontype=2&week=1\n",
      "https://site.api.espn.com/apis/site/v2/sports/football/nfl/scoreboard?limit=1000&dates=2024&seasontype=2&week=2\n",
      "https://site.api.espn.com/apis/site/v2/sports/football/nfl/scoreboard?limit=1000&dates=2024&seasontype=2&week=3\n",
      "https://site.api.espn.com/apis/site/v2/sports/football/nfl/scoreboard?limit=1000&dates=2024&seasontype=2&week=4\n",
      "https://site.api.espn.com/apis/site/v2/sports/football/nfl/scoreboard?limit=1000&dates=2024&seasontype=2&week=5\n",
      "https://site.api.espn.com/apis/site/v2/sports/football/nfl/scoreboard?limit=1000&dates=2024&seasontype=2&week=6\n",
      "https://site.api.espn.com/apis/site/v2/sports/football/nfl/scoreboard?limit=1000&dates=2024&seasontype=2&week=7\n",
      "https://site.api.espn.com/apis/site/v2/sports/football/nfl/scoreboard?limit=1000&dates=2024&seasontype=2&week=8\n",
      "https://site.api.espn.com/apis/site/v2/sports/football/nfl/scoreboard?limit=1000&dates=2024&seasontype=2&week=9\n",
      "https://site.api.espn.com/apis/site/v2/sports/football/nfl/scoreboard?limit=1000&dates=2024&seasontype=2&week=10\n",
      "https://site.api.espn.com/apis/site/v2/sports/football/nfl/scoreboard?limit=1000&dates=2024&seasontype=2&week=11\n",
      "https://site.api.espn.com/apis/site/v2/sports/football/nfl/scoreboard?limit=1000&dates=2024&seasontype=2&week=12\n",
      "https://site.api.espn.com/apis/site/v2/sports/football/nfl/scoreboard?limit=1000&dates=2024&seasontype=2&week=13\n",
      "https://site.api.espn.com/apis/site/v2/sports/football/nfl/scoreboard?limit=1000&dates=2024&seasontype=2&week=14\n",
      "https://site.api.espn.com/apis/site/v2/sports/football/nfl/scoreboard?limit=1000&dates=2024&seasontype=2&week=15\n",
      "https://site.api.espn.com/apis/site/v2/sports/football/nfl/scoreboard?limit=1000&dates=2024&seasontype=2&week=16\n",
      "https://site.api.espn.com/apis/site/v2/sports/football/nfl/scoreboard?limit=1000&dates=2024&seasontype=2&week=17\n",
      "https://site.api.espn.com/apis/site/v2/sports/football/nfl/scoreboard?limit=1000&dates=2024&seasontype=2&week=18\n"
     ]
    },
    {
     "name": "stderr",
     "output_type": "stream",
     "text": [
      "100%|██████████| 165/165 [00:38<00:00,  4.28it/s]\n"
     ]
    }
   ],
   "source": [
    "drive_summary = fetch.drive_analysis(year = 2024, agg_method='weekly')"
   ],
   "metadata": {
    "collapsed": false,
    "ExecuteTime": {
     "end_time": "2024-11-18T05:07:09.280256Z",
     "start_time": "2024-11-18T05:05:38.085185Z"
    }
   },
   "id": "6b4b2c4687722f23"
  },
  {
   "cell_type": "code",
   "execution_count": null,
   "outputs": [],
   "source": [],
   "metadata": {
    "collapsed": false
   },
   "id": "10907db32342e8c4"
  },
  {
   "cell_type": "code",
   "execution_count": null,
   "outputs": [],
   "source": [],
   "metadata": {
    "collapsed": false
   },
   "id": "acf6f61ae3a2819b"
  },
  {
   "cell_type": "code",
   "execution_count": null,
   "outputs": [],
   "source": [],
   "metadata": {
    "collapsed": false
   },
   "id": "9eaaaeb97730da71"
  },
  {
   "cell_type": "code",
   "execution_count": null,
   "outputs": [],
   "source": [],
   "metadata": {
    "collapsed": false
   },
   "id": "1994f711453fb7b5"
  },
  {
   "cell_type": "code",
   "execution_count": null,
   "outputs": [],
   "source": [],
   "metadata": {
    "collapsed": false
   },
   "id": "f6a7daa18b8900f2"
  },
  {
   "cell_type": "code",
   "execution_count": null,
   "outputs": [],
   "source": [],
   "metadata": {
    "collapsed": false
   },
   "id": "737fc64a5cb58652"
  },
  {
   "cell_type": "markdown",
   "source": [],
   "metadata": {
    "collapsed": false
   },
   "id": "cea447d9ba6c586c"
  },
  {
   "cell_type": "code",
   "execution_count": 37,
   "outputs": [],
   "source": [
    "steelers = drive_summary[drive_summary['team'] == 'Pittsburgh Steelers']"
   ],
   "metadata": {
    "collapsed": false,
    "ExecuteTime": {
     "end_time": "2024-11-17T18:36:41.887917Z",
     "start_time": "2024-11-17T18:36:41.825732Z"
    }
   },
   "id": "3b69a8483acfc2ec"
  },
  {
   "cell_type": "markdown",
   "source": [],
   "metadata": {
    "collapsed": false
   },
   "id": "2c1e3922536ad188"
  },
  {
   "cell_type": "code",
   "execution_count": 38,
   "outputs": [
    {
     "data": {
      "text/plain": "                    team               opponent result  \\\n249  Pittsburgh Steelers        Atlanta Falcons      W   \n250  Pittsburgh Steelers         Denver Broncos      W   \n251  Pittsburgh Steelers   Los Angeles Chargers      W   \n252  Pittsburgh Steelers     Indianapolis Colts      L   \n253  Pittsburgh Steelers         Dallas Cowboys      L   \n254  Pittsburgh Steelers      Las Vegas Raiders      W   \n255  Pittsburgh Steelers          New York Jets      W   \n256  Pittsburgh Steelers        New York Giants      W   \n257  Pittsburgh Steelers  Washington Commanders      W   \n\n                         date    punt_%  touchdown_%   point_%  turnover_%  \\\n249 2024-09-08 17:00:00+00:00  0.300000     0.000000  0.600000    0.000000   \n250 2024-09-15 20:25:00+00:00  0.727273     0.090909  0.272727    0.000000   \n251 2024-09-22 17:00:00+00:00  0.300000     0.200000  0.400000    0.100000   \n252 2024-09-29 17:00:00+00:00  0.272727     0.272727  0.363636    0.181818   \n253 2024-10-07 01:45:00+00:00  0.500000     0.200000  0.300000    0.100000   \n254 2024-10-13 20:05:00+00:00  0.272727     0.272727  0.636364    0.000000   \n255 2024-10-21 00:20:00+00:00  0.363636     0.363636  0.636364    0.000000   \n256 2024-10-29 00:15:00+00:00  0.272727     0.090909  0.454545    0.090909   \n257 2024-11-10 18:00:00+00:00  0.357143     0.285714  0.285714    0.142857   \n\n     splash_allowed_%  forced_punt_%  touchdown_prevention_%  \\\n249          0.000000       0.400000                0.900000   \n250          0.000000       0.545455                1.000000   \n251          0.100000       0.700000                0.900000   \n252          0.181818       0.363636                0.727273   \n253          0.100000       0.111111                0.777778   \n254          0.000000       0.272727                0.818182   \n255          0.000000       0.333333                0.833333   \n256          0.090909       0.272727                0.909091   \n257          0.142857       0.500000                0.750000   \n\n     point_prevention_%  forced_turnover_%  splash_forced_%  \\\n249            0.800000           0.300000         0.300000   \n250            0.818182           0.181818         0.181818   \n251            0.800000           0.000000         0.000000   \n252            0.545455           0.000000         0.000000   \n253            0.555556           0.333333         0.444444   \n254            0.818182           0.272727         0.272727   \n255            0.833333           0.166667         0.166667   \n256            0.545455           0.181818         0.272727   \n257            0.583333           0.000000         0.000000   \n\n     offensive_performance_metric  defensive_performance_metric  \\\n249                      0.300000                      2.400000   \n250                     -0.363636                      2.545455   \n251                      0.200000                      2.400000   \n252                      0.181818                      1.636364   \n253                     -0.100000                      1.888889   \n254                      0.636364                      2.181818   \n255                      0.636364                      2.166667   \n256                      0.181818                      2.000000   \n257                      0.071429                      1.833333   \n\n     total_performance_metric  \n249                  2.700000  \n250                  2.181818  \n251                  2.600000  \n252                  1.818182  \n253                  1.788889  \n254                  2.818182  \n255                  2.803030  \n256                  2.181818  \n257                  1.904762  ",
      "text/html": "<div>\n<style scoped>\n    .dataframe tbody tr th:only-of-type {\n        vertical-align: middle;\n    }\n\n    .dataframe tbody tr th {\n        vertical-align: top;\n    }\n\n    .dataframe thead th {\n        text-align: right;\n    }\n</style>\n<table border=\"1\" class=\"dataframe\">\n  <thead>\n    <tr style=\"text-align: right;\">\n      <th></th>\n      <th>team</th>\n      <th>opponent</th>\n      <th>result</th>\n      <th>date</th>\n      <th>punt_%</th>\n      <th>touchdown_%</th>\n      <th>point_%</th>\n      <th>turnover_%</th>\n      <th>splash_allowed_%</th>\n      <th>forced_punt_%</th>\n      <th>touchdown_prevention_%</th>\n      <th>point_prevention_%</th>\n      <th>forced_turnover_%</th>\n      <th>splash_forced_%</th>\n      <th>offensive_performance_metric</th>\n      <th>defensive_performance_metric</th>\n      <th>total_performance_metric</th>\n    </tr>\n  </thead>\n  <tbody>\n    <tr>\n      <th>249</th>\n      <td>Pittsburgh Steelers</td>\n      <td>Atlanta Falcons</td>\n      <td>W</td>\n      <td>2024-09-08 17:00:00+00:00</td>\n      <td>0.300000</td>\n      <td>0.000000</td>\n      <td>0.600000</td>\n      <td>0.000000</td>\n      <td>0.000000</td>\n      <td>0.400000</td>\n      <td>0.900000</td>\n      <td>0.800000</td>\n      <td>0.300000</td>\n      <td>0.300000</td>\n      <td>0.300000</td>\n      <td>2.400000</td>\n      <td>2.700000</td>\n    </tr>\n    <tr>\n      <th>250</th>\n      <td>Pittsburgh Steelers</td>\n      <td>Denver Broncos</td>\n      <td>W</td>\n      <td>2024-09-15 20:25:00+00:00</td>\n      <td>0.727273</td>\n      <td>0.090909</td>\n      <td>0.272727</td>\n      <td>0.000000</td>\n      <td>0.000000</td>\n      <td>0.545455</td>\n      <td>1.000000</td>\n      <td>0.818182</td>\n      <td>0.181818</td>\n      <td>0.181818</td>\n      <td>-0.363636</td>\n      <td>2.545455</td>\n      <td>2.181818</td>\n    </tr>\n    <tr>\n      <th>251</th>\n      <td>Pittsburgh Steelers</td>\n      <td>Los Angeles Chargers</td>\n      <td>W</td>\n      <td>2024-09-22 17:00:00+00:00</td>\n      <td>0.300000</td>\n      <td>0.200000</td>\n      <td>0.400000</td>\n      <td>0.100000</td>\n      <td>0.100000</td>\n      <td>0.700000</td>\n      <td>0.900000</td>\n      <td>0.800000</td>\n      <td>0.000000</td>\n      <td>0.000000</td>\n      <td>0.200000</td>\n      <td>2.400000</td>\n      <td>2.600000</td>\n    </tr>\n    <tr>\n      <th>252</th>\n      <td>Pittsburgh Steelers</td>\n      <td>Indianapolis Colts</td>\n      <td>L</td>\n      <td>2024-09-29 17:00:00+00:00</td>\n      <td>0.272727</td>\n      <td>0.272727</td>\n      <td>0.363636</td>\n      <td>0.181818</td>\n      <td>0.181818</td>\n      <td>0.363636</td>\n      <td>0.727273</td>\n      <td>0.545455</td>\n      <td>0.000000</td>\n      <td>0.000000</td>\n      <td>0.181818</td>\n      <td>1.636364</td>\n      <td>1.818182</td>\n    </tr>\n    <tr>\n      <th>253</th>\n      <td>Pittsburgh Steelers</td>\n      <td>Dallas Cowboys</td>\n      <td>L</td>\n      <td>2024-10-07 01:45:00+00:00</td>\n      <td>0.500000</td>\n      <td>0.200000</td>\n      <td>0.300000</td>\n      <td>0.100000</td>\n      <td>0.100000</td>\n      <td>0.111111</td>\n      <td>0.777778</td>\n      <td>0.555556</td>\n      <td>0.333333</td>\n      <td>0.444444</td>\n      <td>-0.100000</td>\n      <td>1.888889</td>\n      <td>1.788889</td>\n    </tr>\n    <tr>\n      <th>254</th>\n      <td>Pittsburgh Steelers</td>\n      <td>Las Vegas Raiders</td>\n      <td>W</td>\n      <td>2024-10-13 20:05:00+00:00</td>\n      <td>0.272727</td>\n      <td>0.272727</td>\n      <td>0.636364</td>\n      <td>0.000000</td>\n      <td>0.000000</td>\n      <td>0.272727</td>\n      <td>0.818182</td>\n      <td>0.818182</td>\n      <td>0.272727</td>\n      <td>0.272727</td>\n      <td>0.636364</td>\n      <td>2.181818</td>\n      <td>2.818182</td>\n    </tr>\n    <tr>\n      <th>255</th>\n      <td>Pittsburgh Steelers</td>\n      <td>New York Jets</td>\n      <td>W</td>\n      <td>2024-10-21 00:20:00+00:00</td>\n      <td>0.363636</td>\n      <td>0.363636</td>\n      <td>0.636364</td>\n      <td>0.000000</td>\n      <td>0.000000</td>\n      <td>0.333333</td>\n      <td>0.833333</td>\n      <td>0.833333</td>\n      <td>0.166667</td>\n      <td>0.166667</td>\n      <td>0.636364</td>\n      <td>2.166667</td>\n      <td>2.803030</td>\n    </tr>\n    <tr>\n      <th>256</th>\n      <td>Pittsburgh Steelers</td>\n      <td>New York Giants</td>\n      <td>W</td>\n      <td>2024-10-29 00:15:00+00:00</td>\n      <td>0.272727</td>\n      <td>0.090909</td>\n      <td>0.454545</td>\n      <td>0.090909</td>\n      <td>0.090909</td>\n      <td>0.272727</td>\n      <td>0.909091</td>\n      <td>0.545455</td>\n      <td>0.181818</td>\n      <td>0.272727</td>\n      <td>0.181818</td>\n      <td>2.000000</td>\n      <td>2.181818</td>\n    </tr>\n    <tr>\n      <th>257</th>\n      <td>Pittsburgh Steelers</td>\n      <td>Washington Commanders</td>\n      <td>W</td>\n      <td>2024-11-10 18:00:00+00:00</td>\n      <td>0.357143</td>\n      <td>0.285714</td>\n      <td>0.285714</td>\n      <td>0.142857</td>\n      <td>0.142857</td>\n      <td>0.500000</td>\n      <td>0.750000</td>\n      <td>0.583333</td>\n      <td>0.000000</td>\n      <td>0.000000</td>\n      <td>0.071429</td>\n      <td>1.833333</td>\n      <td>1.904762</td>\n    </tr>\n  </tbody>\n</table>\n</div>"
     },
     "execution_count": 38,
     "metadata": {},
     "output_type": "execute_result"
    }
   ],
   "source": [
    "steelers"
   ],
   "metadata": {
    "collapsed": false,
    "ExecuteTime": {
     "end_time": "2024-11-17T18:36:43.051091Z",
     "start_time": "2024-11-17T18:36:43.020021Z"
    }
   },
   "id": "102c1aeeb3d2b45a"
  },
  {
   "cell_type": "code",
   "execution_count": 31,
   "outputs": [
    {
     "name": "stdout",
     "output_type": "stream",
     "text": [
      "Model Accuracy: 1.00\n",
      "\n",
      "Classification Report:\n",
      "              precision    recall  f1-score   support\n",
      "\n",
      "           1       1.00      1.00      1.00         2\n",
      "\n",
      "    accuracy                           1.00         2\n",
      "   macro avg       1.00      1.00      1.00         2\n",
      "weighted avg       1.00      1.00      1.00         2\n",
      "\n",
      "\n",
      "Feature Importances:\n",
      "                         Feature  Importance\n",
      "0                         result    0.147645\n",
      "13      total_performance_metric    0.141304\n",
      "8             point_prevention_%    0.118524\n",
      "6                  forced_punt_%    0.081703\n",
      "7         touchdown_prevention_%    0.080842\n",
      "12  defensive_performance_metric    0.076404\n",
      "9              forced_turnover_%    0.076087\n",
      "3                        point_%    0.065534\n",
      "1                         punt_%    0.061504\n",
      "11  offensive_performance_metric    0.060145\n",
      "5               splash_allowed_%    0.052446\n",
      "4                     turnover_%    0.021196\n",
      "2                    touchdown_%    0.016667\n",
      "10               splash_forced_%    0.000000\n"
     ]
    },
    {
     "name": "stderr",
     "output_type": "stream",
     "text": [
      "/var/folders/pq/lv0_zg713md9s1yr4csf20pw0000gp/T/ipykernel_5608/1981461853.py:8: SettingWithCopyWarning: \n",
      "A value is trying to be set on a copy of a slice from a DataFrame.\n",
      "Try using .loc[row_indexer,col_indexer] = value instead\n",
      "\n",
      "See the caveats in the documentation: https://pandas.pydata.org/pandas-docs/stable/user_guide/indexing.html#returning-a-view-versus-a-copy\n",
      "  steelers['result'] = steelers['result'].map({'W': 1, 'L': 0})\n"
     ]
    },
    {
     "data": {
      "text/plain": "['random_forest_model.pkl']"
     },
     "execution_count": 31,
     "metadata": {},
     "output_type": "execute_result"
    }
   ],
   "source": [
    "import pandas as pd\n",
    "from sklearn.model_selection import train_test_split\n",
    "from sklearn.ensemble import RandomForestClassifier\n",
    "from sklearn.metrics import accuracy_score, classification_report\n",
    "\n",
    "# Step 1: Data Preparation\n",
    "# Assuming 'result' is the target column (W=1 for win, L=0 for loss)\n",
    "steelers['result'] = steelers['result'].map({'W': 1, 'L': 0})\n",
    "\n",
    "# Drop unnecessary columns (e.g., team, opponent, date if they aren't features)\n",
    "features = steelers.drop(columns=['team', 'opponent', 'date'])\n",
    "target = steelers['result']\n",
    "\n",
    "# Step 2: Split Data into Training and Testing Sets\n",
    "X_train, X_test, y_train, y_test = train_test_split(features, target, test_size=0.2, random_state=42)\n",
    "\n",
    "# Step 3: Train the Random Forest Model\n",
    "model = RandomForestClassifier(n_estimators=100, random_state=42)\n",
    "model.fit(X_train, y_train)\n",
    "\n",
    "# Step 4: Make Predictions\n",
    "y_pred = model.predict(X_test)\n",
    "\n",
    "# Step 5: Evaluate the Model\n",
    "accuracy = accuracy_score(y_test, y_pred)\n",
    "print(f\"Model Accuracy: {accuracy:.2f}\")\n",
    "print(\"\\nClassification Report:\")\n",
    "print(classification_report(y_test, y_pred))\n",
    "\n",
    "# Step 6: Feature Importance\n",
    "importances = model.feature_importances_\n",
    "feature_names = features.columns\n",
    "importance_df = pd.DataFrame({'Feature': feature_names, 'Importance': importances})\n",
    "importance_df = importance_df.sort_values(by='Importance', ascending=False)\n",
    "print(\"\\nFeature Importances:\")\n",
    "print(importance_df)\n",
    "\n",
    "# Optional: Save the Model for Later Use\n",
    "import joblib\n",
    "joblib.dump(model, 'random_forest_model.pkl')\n"
   ],
   "metadata": {
    "collapsed": false,
    "ExecuteTime": {
     "end_time": "2024-11-17T17:45:15.932069Z",
     "start_time": "2024-11-17T17:45:15.824451Z"
    }
   },
   "id": "eb81ac751c132714"
  },
  {
   "cell_type": "code",
   "execution_count": 17,
   "outputs": [],
   "source": [
    "def generate_matchups(drive_summary, team_a_name, team_b_name):\n",
    "    \"\"\"\n",
    "    Generate game-by-game matchups between two specified teams.\n",
    "\n",
    "    Args:\n",
    "        drive_summary (pd.DataFrame): The full dataset containing game stats for all teams.\n",
    "        team_a_name (str): Name of Team A (e.g., \"Pittsburgh Steelers\").\n",
    "        team_b_name (str): Name of Team B (e.g., \"Baltimore Ravens\").\n",
    "\n",
    "    Returns:\n",
    "        pd.DataFrame: DataFrame of matchups with Team A and Team B stats, and a Result column.\n",
    "    \"\"\"\n",
    "    # Filter the dataframe for the two specified teams\n",
    "    drive_summary['result'] = drive_summary['result'].map({'W': 1, 'L': 0})\n",
    "    team_subset = drive_summary[drive_summary['team'].isin([team_a_name, team_b_name])]\n",
    "    \n",
    "    # Select only numerical stats for simplicity\n",
    "    numerical_stats = team_subset.drop(columns=['opponent', 'date', 'result', 'team']).select_dtypes(include=['float64', 'int64'])\n",
    "\n",
    "    # Split the data by team\n",
    "    team_a_stats = team_subset[team_subset['team'] == team_a_name]\n",
    "    team_b_stats = team_subset[team_subset['team'] == team_b_name]\n",
    "\n",
    "    matchups = []\n",
    "\n",
    "    # Pair each game for Team A with each game for Team B\n",
    "    for _, team_a_game in team_a_stats.iterrows():\n",
    "        for _, team_b_game in team_b_stats.iterrows():\n",
    "            matchup = {\n",
    "                **{f\"Team_A_{col}\": team_a_game[col] for col in numerical_stats.columns},\n",
    "                **{f\"Team_B_{col}\": team_b_game[col] for col in numerical_stats.columns},\n",
    "                # Result logic: Adjust based on how you define matchups\n",
    "                \"Result\": 1 if team_a_game['result'] == 1 and team_b_game['result'] == 0 else 0\n",
    "            }\n",
    "            matchups.append(matchup)\n",
    "\n",
    "    # Convert matchups into a DataFrame\n",
    "    matchup_df = pd.DataFrame(matchups)\n",
    "    return matchup_df\n",
    "\n"
   ],
   "metadata": {
    "collapsed": false,
    "ExecuteTime": {
     "end_time": "2024-11-18T05:33:54.303840Z",
     "start_time": "2024-11-18T05:33:54.273665Z"
    }
   },
   "id": "1d99ca3d9f6de67d"
  },
  {
   "cell_type": "code",
   "execution_count": 21,
   "outputs": [
    {
     "data": {
      "text/plain": "     Team_A_punt_%  Team_A_touchdown_%  Team_A_point_%  Team_A_turnover_%  \\\n0         0.300000                 0.0        0.600000           0.000000   \n1         0.300000                 0.0        0.600000           0.000000   \n2         0.300000                 0.0        0.600000           0.000000   \n3         0.300000                 0.0        0.600000           0.000000   \n4         0.300000                 0.0        0.600000           0.000000   \n..             ...                 ...             ...                ...   \n105       0.307692                 0.0        0.461538           0.076923   \n106       0.307692                 0.0        0.461538           0.076923   \n107       0.307692                 0.0        0.461538           0.076923   \n108       0.307692                 0.0        0.461538           0.076923   \n109       0.307692                 0.0        0.461538           0.076923   \n\n     Team_A_splash_allowed_%  Team_A_forced_punt_%  \\\n0                   0.000000              0.400000   \n1                   0.000000              0.400000   \n2                   0.000000              0.400000   \n3                   0.000000              0.400000   \n4                   0.000000              0.400000   \n..                       ...                   ...   \n105                 0.076923              0.307692   \n106                 0.076923              0.307692   \n107                 0.076923              0.307692   \n108                 0.076923              0.307692   \n109                 0.076923              0.307692   \n\n     Team_A_touchdown_prevention_%  Team_A_point_prevention_%  \\\n0                         0.900000                   0.800000   \n1                         0.900000                   0.800000   \n2                         0.900000                   0.800000   \n3                         0.900000                   0.800000   \n4                         0.900000                   0.800000   \n..                             ...                        ...   \n105                       0.846154                   0.769231   \n106                       0.846154                   0.769231   \n107                       0.846154                   0.769231   \n108                       0.846154                   0.769231   \n109                       0.846154                   0.769231   \n\n     Team_A_forced_turnover_%  Team_A_splash_forced_%  ...  \\\n0                    0.300000                0.300000  ...   \n1                    0.300000                0.300000  ...   \n2                    0.300000                0.300000  ...   \n3                    0.300000                0.300000  ...   \n4                    0.300000                0.300000  ...   \n..                        ...                     ...  ...   \n105                  0.230769                0.230769  ...   \n106                  0.230769                0.230769  ...   \n107                  0.230769                0.230769  ...   \n108                  0.230769                0.230769  ...   \n109                  0.230769                0.230769  ...   \n\n     Team_B_splash_allowed_%  Team_B_forced_punt_%  \\\n0                   0.100000              0.300000   \n1                   0.083333              0.250000   \n2                   0.000000              0.363636   \n3                   0.090909              0.545455   \n4                   0.153846              0.416667   \n..                       ...                   ...   \n105                 0.100000              0.166667   \n106                 0.000000              0.272727   \n107                 0.000000              0.200000   \n108                 0.000000              0.272727   \n109                 0.230769              0.307692   \n\n     Team_B_touchdown_prevention_%  Team_B_point_prevention_%  \\\n0                         0.700000                   0.500000   \n1                         0.833333                   0.500000   \n2                         0.727273                   0.545455   \n3                         0.909091                   0.818182   \n4                         0.583333                   0.583333   \n..                             ...                        ...   \n105                       0.666667                   0.583333   \n106                       0.727273                   0.454545   \n107                       0.900000                   0.800000   \n108                       0.545455                   0.545455   \n109                       1.000000                   0.538462   \n\n     Team_B_forced_turnover_%  Team_B_splash_forced_%  \\\n0                    0.100000                0.100000   \n1                    0.083333                0.083333   \n2                    0.090909                0.090909   \n3                    0.090909                0.090909   \n4                    0.083333                0.083333   \n..                        ...                     ...   \n105                  0.166667                0.166667   \n106                  0.090909                0.090909   \n107                  0.100000                0.100000   \n108                  0.090909                0.090909   \n109                  0.076923                0.076923   \n\n     Team_B_offensive_performance_metric  Team_B_defensive_performance_metric  \\\n0                               0.300000                             1.600000   \n1                               0.166667                             1.666667   \n2                               0.363636                             1.727273   \n3                               0.454545                             2.363636   \n4                               0.538462                             1.666667   \n..                                   ...                                  ...   \n105                             0.900000                             1.583333   \n106                             0.272727                             1.545455   \n107                             1.000000                             2.000000   \n108                             0.416667                             1.454545   \n109                            -0.153846                             1.923077   \n\n     Team_B_total_performance_metric  Result  \n0                           1.900000       0  \n1                           1.833333       0  \n2                           2.090909       0  \n3                           2.818182       0  \n4                           2.205128       0  \n..                               ...     ...  \n105                         2.483333       0  \n106                         1.818182       0  \n107                         3.000000       0  \n108                         1.871212       0  \n109                         1.769231       0  \n\n[110 rows x 27 columns]",
      "text/html": "<div>\n<style scoped>\n    .dataframe tbody tr th:only-of-type {\n        vertical-align: middle;\n    }\n\n    .dataframe tbody tr th {\n        vertical-align: top;\n    }\n\n    .dataframe thead th {\n        text-align: right;\n    }\n</style>\n<table border=\"1\" class=\"dataframe\">\n  <thead>\n    <tr style=\"text-align: right;\">\n      <th></th>\n      <th>Team_A_punt_%</th>\n      <th>Team_A_touchdown_%</th>\n      <th>Team_A_point_%</th>\n      <th>Team_A_turnover_%</th>\n      <th>Team_A_splash_allowed_%</th>\n      <th>Team_A_forced_punt_%</th>\n      <th>Team_A_touchdown_prevention_%</th>\n      <th>Team_A_point_prevention_%</th>\n      <th>Team_A_forced_turnover_%</th>\n      <th>Team_A_splash_forced_%</th>\n      <th>...</th>\n      <th>Team_B_splash_allowed_%</th>\n      <th>Team_B_forced_punt_%</th>\n      <th>Team_B_touchdown_prevention_%</th>\n      <th>Team_B_point_prevention_%</th>\n      <th>Team_B_forced_turnover_%</th>\n      <th>Team_B_splash_forced_%</th>\n      <th>Team_B_offensive_performance_metric</th>\n      <th>Team_B_defensive_performance_metric</th>\n      <th>Team_B_total_performance_metric</th>\n      <th>Result</th>\n    </tr>\n  </thead>\n  <tbody>\n    <tr>\n      <th>0</th>\n      <td>0.300000</td>\n      <td>0.0</td>\n      <td>0.600000</td>\n      <td>0.000000</td>\n      <td>0.000000</td>\n      <td>0.400000</td>\n      <td>0.900000</td>\n      <td>0.800000</td>\n      <td>0.300000</td>\n      <td>0.300000</td>\n      <td>...</td>\n      <td>0.100000</td>\n      <td>0.300000</td>\n      <td>0.700000</td>\n      <td>0.500000</td>\n      <td>0.100000</td>\n      <td>0.100000</td>\n      <td>0.300000</td>\n      <td>1.600000</td>\n      <td>1.900000</td>\n      <td>0</td>\n    </tr>\n    <tr>\n      <th>1</th>\n      <td>0.300000</td>\n      <td>0.0</td>\n      <td>0.600000</td>\n      <td>0.000000</td>\n      <td>0.000000</td>\n      <td>0.400000</td>\n      <td>0.900000</td>\n      <td>0.800000</td>\n      <td>0.300000</td>\n      <td>0.300000</td>\n      <td>...</td>\n      <td>0.083333</td>\n      <td>0.250000</td>\n      <td>0.833333</td>\n      <td>0.500000</td>\n      <td>0.083333</td>\n      <td>0.083333</td>\n      <td>0.166667</td>\n      <td>1.666667</td>\n      <td>1.833333</td>\n      <td>0</td>\n    </tr>\n    <tr>\n      <th>2</th>\n      <td>0.300000</td>\n      <td>0.0</td>\n      <td>0.600000</td>\n      <td>0.000000</td>\n      <td>0.000000</td>\n      <td>0.400000</td>\n      <td>0.900000</td>\n      <td>0.800000</td>\n      <td>0.300000</td>\n      <td>0.300000</td>\n      <td>...</td>\n      <td>0.000000</td>\n      <td>0.363636</td>\n      <td>0.727273</td>\n      <td>0.545455</td>\n      <td>0.090909</td>\n      <td>0.090909</td>\n      <td>0.363636</td>\n      <td>1.727273</td>\n      <td>2.090909</td>\n      <td>0</td>\n    </tr>\n    <tr>\n      <th>3</th>\n      <td>0.300000</td>\n      <td>0.0</td>\n      <td>0.600000</td>\n      <td>0.000000</td>\n      <td>0.000000</td>\n      <td>0.400000</td>\n      <td>0.900000</td>\n      <td>0.800000</td>\n      <td>0.300000</td>\n      <td>0.300000</td>\n      <td>...</td>\n      <td>0.090909</td>\n      <td>0.545455</td>\n      <td>0.909091</td>\n      <td>0.818182</td>\n      <td>0.090909</td>\n      <td>0.090909</td>\n      <td>0.454545</td>\n      <td>2.363636</td>\n      <td>2.818182</td>\n      <td>0</td>\n    </tr>\n    <tr>\n      <th>4</th>\n      <td>0.300000</td>\n      <td>0.0</td>\n      <td>0.600000</td>\n      <td>0.000000</td>\n      <td>0.000000</td>\n      <td>0.400000</td>\n      <td>0.900000</td>\n      <td>0.800000</td>\n      <td>0.300000</td>\n      <td>0.300000</td>\n      <td>...</td>\n      <td>0.153846</td>\n      <td>0.416667</td>\n      <td>0.583333</td>\n      <td>0.583333</td>\n      <td>0.083333</td>\n      <td>0.083333</td>\n      <td>0.538462</td>\n      <td>1.666667</td>\n      <td>2.205128</td>\n      <td>0</td>\n    </tr>\n    <tr>\n      <th>...</th>\n      <td>...</td>\n      <td>...</td>\n      <td>...</td>\n      <td>...</td>\n      <td>...</td>\n      <td>...</td>\n      <td>...</td>\n      <td>...</td>\n      <td>...</td>\n      <td>...</td>\n      <td>...</td>\n      <td>...</td>\n      <td>...</td>\n      <td>...</td>\n      <td>...</td>\n      <td>...</td>\n      <td>...</td>\n      <td>...</td>\n      <td>...</td>\n      <td>...</td>\n      <td>...</td>\n    </tr>\n    <tr>\n      <th>105</th>\n      <td>0.307692</td>\n      <td>0.0</td>\n      <td>0.461538</td>\n      <td>0.076923</td>\n      <td>0.076923</td>\n      <td>0.307692</td>\n      <td>0.846154</td>\n      <td>0.769231</td>\n      <td>0.230769</td>\n      <td>0.230769</td>\n      <td>...</td>\n      <td>0.100000</td>\n      <td>0.166667</td>\n      <td>0.666667</td>\n      <td>0.583333</td>\n      <td>0.166667</td>\n      <td>0.166667</td>\n      <td>0.900000</td>\n      <td>1.583333</td>\n      <td>2.483333</td>\n      <td>0</td>\n    </tr>\n    <tr>\n      <th>106</th>\n      <td>0.307692</td>\n      <td>0.0</td>\n      <td>0.461538</td>\n      <td>0.076923</td>\n      <td>0.076923</td>\n      <td>0.307692</td>\n      <td>0.846154</td>\n      <td>0.769231</td>\n      <td>0.230769</td>\n      <td>0.230769</td>\n      <td>...</td>\n      <td>0.000000</td>\n      <td>0.272727</td>\n      <td>0.727273</td>\n      <td>0.454545</td>\n      <td>0.090909</td>\n      <td>0.090909</td>\n      <td>0.272727</td>\n      <td>1.545455</td>\n      <td>1.818182</td>\n      <td>0</td>\n    </tr>\n    <tr>\n      <th>107</th>\n      <td>0.307692</td>\n      <td>0.0</td>\n      <td>0.461538</td>\n      <td>0.076923</td>\n      <td>0.076923</td>\n      <td>0.307692</td>\n      <td>0.846154</td>\n      <td>0.769231</td>\n      <td>0.230769</td>\n      <td>0.230769</td>\n      <td>...</td>\n      <td>0.000000</td>\n      <td>0.200000</td>\n      <td>0.900000</td>\n      <td>0.800000</td>\n      <td>0.100000</td>\n      <td>0.100000</td>\n      <td>1.000000</td>\n      <td>2.000000</td>\n      <td>3.000000</td>\n      <td>0</td>\n    </tr>\n    <tr>\n      <th>108</th>\n      <td>0.307692</td>\n      <td>0.0</td>\n      <td>0.461538</td>\n      <td>0.076923</td>\n      <td>0.076923</td>\n      <td>0.307692</td>\n      <td>0.846154</td>\n      <td>0.769231</td>\n      <td>0.230769</td>\n      <td>0.230769</td>\n      <td>...</td>\n      <td>0.000000</td>\n      <td>0.272727</td>\n      <td>0.545455</td>\n      <td>0.545455</td>\n      <td>0.090909</td>\n      <td>0.090909</td>\n      <td>0.416667</td>\n      <td>1.454545</td>\n      <td>1.871212</td>\n      <td>0</td>\n    </tr>\n    <tr>\n      <th>109</th>\n      <td>0.307692</td>\n      <td>0.0</td>\n      <td>0.461538</td>\n      <td>0.076923</td>\n      <td>0.076923</td>\n      <td>0.307692</td>\n      <td>0.846154</td>\n      <td>0.769231</td>\n      <td>0.230769</td>\n      <td>0.230769</td>\n      <td>...</td>\n      <td>0.230769</td>\n      <td>0.307692</td>\n      <td>1.000000</td>\n      <td>0.538462</td>\n      <td>0.076923</td>\n      <td>0.076923</td>\n      <td>-0.153846</td>\n      <td>1.923077</td>\n      <td>1.769231</td>\n      <td>0</td>\n    </tr>\n  </tbody>\n</table>\n<p>110 rows × 27 columns</p>\n</div>"
     },
     "execution_count": 21,
     "metadata": {},
     "output_type": "execute_result"
    }
   ],
   "source": [
    "matchup_df = generate_matchups(drive_summary, \"Pittsburgh Steelers\", \"Baltimore Ravens\")\n",
    "matchup_df"
   ],
   "metadata": {
    "collapsed": false,
    "ExecuteTime": {
     "end_time": "2024-11-18T05:37:55.275643Z",
     "start_time": "2024-11-18T05:37:55.173875Z"
    }
   },
   "id": "74e11eb93b7c5d03"
  },
  {
   "cell_type": "code",
   "execution_count": 22,
   "outputs": [
    {
     "name": "stdout",
     "output_type": "stream",
     "text": [
      "Model Accuracy: 1.00\n",
      "\n",
      "Classification Report:\n",
      "              precision    recall  f1-score   support\n",
      "\n",
      "           0       1.00      1.00      1.00        22\n",
      "\n",
      "    accuracy                           1.00        22\n",
      "   macro avg       1.00      1.00      1.00        22\n",
      "weighted avg       1.00      1.00      1.00        22\n",
      "\n",
      "Model saved as 'random_forest_matchup_model.pkl'\n"
     ]
    }
   ],
   "source": [
    "from sklearn.model_selection import train_test_split\n",
    "from sklearn.ensemble import RandomForestClassifier\n",
    "from sklearn.metrics import accuracy_score, classification_report\n",
    "import joblib\n",
    "\n",
    "# Step 1: Prepare the data\n",
    "X = matchup_df.drop(columns=['Result']) \n",
    "y = matchup_df['Result']               \n",
    "\n",
    "# Split into training and testing sets\n",
    "X_train, X_test, y_train, y_test = train_test_split(X, y, test_size=0.2, random_state=42)\n",
    "\n",
    "# Step 2: Train the Random Forest model\n",
    "model = RandomForestClassifier(n_estimators=100, random_state=42)\n",
    "model.fit(X_train, y_train)\n",
    "\n",
    "# Step 3: Evaluate the model\n",
    "y_pred = model.predict(X_test)\n",
    "\n",
    "# Print evaluation metrics\n",
    "accuracy = accuracy_score(y_test, y_pred)\n",
    "print(f\"Model Accuracy: {accuracy:.2f}\")\n",
    "print(\"\\nClassification Report:\")\n",
    "print(classification_report(y_test, y_pred))\n",
    "\n",
    "# Step 4: Save the trained model\n",
    "joblib.dump(model, 'random_forest_matchup_model.pkl')\n",
    "print(\"Model saved as 'random_forest_matchup_model.pkl'\")\n",
    "\n",
    "\n"
   ],
   "metadata": {
    "collapsed": false,
    "ExecuteTime": {
     "end_time": "2024-11-18T05:39:27.170933Z",
     "start_time": "2024-11-18T05:39:24.489434Z"
    }
   },
   "id": "182b7c9cc173ec48"
  },
  {
   "cell_type": "code",
   "execution_count": 23,
   "outputs": [],
   "source": [],
   "metadata": {
    "collapsed": false,
    "ExecuteTime": {
     "end_time": "2024-11-18T05:40:57.062421Z",
     "start_time": "2024-11-18T05:40:57.035430Z"
    }
   },
   "id": "49cec47f9c074c4d"
  },
  {
   "cell_type": "code",
   "execution_count": 58,
   "outputs": [
    {
     "data": {
      "application/vnd.plotly.v1+json": {
       "data": [
        {
         "alignmentgroup": "True",
         "hovertemplate": "splash_forced_%=%{marker.color}<br>team=%{y}<extra></extra>",
         "legendgroup": "",
         "marker": {
          "color": [
           0.04854368932038835,
           0.061224489795918366,
           0.06363636363636363,
           0.0673076923076923,
           0.07407407407407407,
           0.07766990291262135,
           0.0816326530612245,
           0.08333333333333331,
           0.08737864077669903,
           0.08849557522123894,
           0.0891089108910891,
           0.09090909090909091,
           0.09174311926605505,
           0.0925925925925926,
           0.10280373831775699,
           0.10309278350515463,
           0.10377358490566038,
           0.11403508771929824,
           0.11578947368421053,
           0.1276595744680851,
           0.1414141414141414,
           0.14285714285714285,
           0.14285714285714285,
           0.16071428571428573,
           0.16071428571428573,
           0.16190476190476188,
           0.1649484536082474,
           0.17307692307692307,
           0.17525773195876287,
           0.1836734693877551,
           0.18811881188118812,
           0.21
          ],
          "coloraxis": "coloraxis",
          "pattern": {
           "shape": ""
          }
         },
         "name": "",
         "offsetgroup": "",
         "orientation": "h",
         "showlegend": false,
         "textposition": "auto",
         "texttemplate": "%{x}",
         "x": [
          0.04854368932038835,
          0.061224489795918366,
          0.06363636363636363,
          0.0673076923076923,
          0.07407407407407407,
          0.07766990291262135,
          0.0816326530612245,
          0.08333333333333331,
          0.08737864077669903,
          0.08849557522123894,
          0.0891089108910891,
          0.09090909090909091,
          0.09174311926605505,
          0.0925925925925926,
          0.10280373831775699,
          0.10309278350515463,
          0.10377358490566038,
          0.11403508771929824,
          0.11578947368421053,
          0.1276595744680851,
          0.1414141414141414,
          0.14285714285714285,
          0.14285714285714285,
          0.16071428571428573,
          0.16071428571428573,
          0.16190476190476188,
          0.1649484536082474,
          0.17307692307692307,
          0.17525773195876287,
          0.1836734693877551,
          0.18811881188118812,
          0.21
         ],
         "xaxis": "x",
         "y": [
          "Las Vegas Raiders",
          "Tennessee Titans",
          "Cleveland Browns",
          "New England Patriots",
          "Jacksonville Jaguars",
          "New York Jets",
          "Miami Dolphins",
          "New York Giants",
          "Dallas Cowboys",
          "Carolina Panthers",
          "Atlanta Falcons",
          "Kansas City Chiefs",
          "Baltimore Ravens",
          "Seattle Seahawks",
          "Cincinnati Bengals",
          "Washington Commanders",
          "Tampa Bay Buccaneers",
          "Denver Broncos",
          "Philadelphia Eagles",
          "Arizona Cardinals",
          "Los Angeles Chargers",
          "Houston Texans",
          "Los Angeles Rams",
          "Indianapolis Colts",
          "New Orleans Saints",
          "Chicago Bears",
          "San Francisco 49ers",
          "Buffalo Bills",
          "Pittsburgh Steelers",
          "Green Bay Packers",
          "Detroit Lions",
          "Minnesota Vikings"
         ],
         "yaxis": "y",
         "type": "bar"
        }
       ],
       "layout": {
        "template": {
         "data": {
          "histogram2dcontour": [
           {
            "type": "histogram2dcontour",
            "colorbar": {
             "outlinewidth": 0,
             "ticks": ""
            },
            "colorscale": [
             [
              0.0,
              "#0d0887"
             ],
             [
              0.1111111111111111,
              "#46039f"
             ],
             [
              0.2222222222222222,
              "#7201a8"
             ],
             [
              0.3333333333333333,
              "#9c179e"
             ],
             [
              0.4444444444444444,
              "#bd3786"
             ],
             [
              0.5555555555555556,
              "#d8576b"
             ],
             [
              0.6666666666666666,
              "#ed7953"
             ],
             [
              0.7777777777777778,
              "#fb9f3a"
             ],
             [
              0.8888888888888888,
              "#fdca26"
             ],
             [
              1.0,
              "#f0f921"
             ]
            ]
           }
          ],
          "choropleth": [
           {
            "type": "choropleth",
            "colorbar": {
             "outlinewidth": 0,
             "ticks": ""
            }
           }
          ],
          "histogram2d": [
           {
            "type": "histogram2d",
            "colorbar": {
             "outlinewidth": 0,
             "ticks": ""
            },
            "colorscale": [
             [
              0.0,
              "#0d0887"
             ],
             [
              0.1111111111111111,
              "#46039f"
             ],
             [
              0.2222222222222222,
              "#7201a8"
             ],
             [
              0.3333333333333333,
              "#9c179e"
             ],
             [
              0.4444444444444444,
              "#bd3786"
             ],
             [
              0.5555555555555556,
              "#d8576b"
             ],
             [
              0.6666666666666666,
              "#ed7953"
             ],
             [
              0.7777777777777778,
              "#fb9f3a"
             ],
             [
              0.8888888888888888,
              "#fdca26"
             ],
             [
              1.0,
              "#f0f921"
             ]
            ]
           }
          ],
          "heatmap": [
           {
            "type": "heatmap",
            "colorbar": {
             "outlinewidth": 0,
             "ticks": ""
            },
            "colorscale": [
             [
              0.0,
              "#0d0887"
             ],
             [
              0.1111111111111111,
              "#46039f"
             ],
             [
              0.2222222222222222,
              "#7201a8"
             ],
             [
              0.3333333333333333,
              "#9c179e"
             ],
             [
              0.4444444444444444,
              "#bd3786"
             ],
             [
              0.5555555555555556,
              "#d8576b"
             ],
             [
              0.6666666666666666,
              "#ed7953"
             ],
             [
              0.7777777777777778,
              "#fb9f3a"
             ],
             [
              0.8888888888888888,
              "#fdca26"
             ],
             [
              1.0,
              "#f0f921"
             ]
            ]
           }
          ],
          "heatmapgl": [
           {
            "type": "heatmapgl",
            "colorbar": {
             "outlinewidth": 0,
             "ticks": ""
            },
            "colorscale": [
             [
              0.0,
              "#0d0887"
             ],
             [
              0.1111111111111111,
              "#46039f"
             ],
             [
              0.2222222222222222,
              "#7201a8"
             ],
             [
              0.3333333333333333,
              "#9c179e"
             ],
             [
              0.4444444444444444,
              "#bd3786"
             ],
             [
              0.5555555555555556,
              "#d8576b"
             ],
             [
              0.6666666666666666,
              "#ed7953"
             ],
             [
              0.7777777777777778,
              "#fb9f3a"
             ],
             [
              0.8888888888888888,
              "#fdca26"
             ],
             [
              1.0,
              "#f0f921"
             ]
            ]
           }
          ],
          "contourcarpet": [
           {
            "type": "contourcarpet",
            "colorbar": {
             "outlinewidth": 0,
             "ticks": ""
            }
           }
          ],
          "contour": [
           {
            "type": "contour",
            "colorbar": {
             "outlinewidth": 0,
             "ticks": ""
            },
            "colorscale": [
             [
              0.0,
              "#0d0887"
             ],
             [
              0.1111111111111111,
              "#46039f"
             ],
             [
              0.2222222222222222,
              "#7201a8"
             ],
             [
              0.3333333333333333,
              "#9c179e"
             ],
             [
              0.4444444444444444,
              "#bd3786"
             ],
             [
              0.5555555555555556,
              "#d8576b"
             ],
             [
              0.6666666666666666,
              "#ed7953"
             ],
             [
              0.7777777777777778,
              "#fb9f3a"
             ],
             [
              0.8888888888888888,
              "#fdca26"
             ],
             [
              1.0,
              "#f0f921"
             ]
            ]
           }
          ],
          "surface": [
           {
            "type": "surface",
            "colorbar": {
             "outlinewidth": 0,
             "ticks": ""
            },
            "colorscale": [
             [
              0.0,
              "#0d0887"
             ],
             [
              0.1111111111111111,
              "#46039f"
             ],
             [
              0.2222222222222222,
              "#7201a8"
             ],
             [
              0.3333333333333333,
              "#9c179e"
             ],
             [
              0.4444444444444444,
              "#bd3786"
             ],
             [
              0.5555555555555556,
              "#d8576b"
             ],
             [
              0.6666666666666666,
              "#ed7953"
             ],
             [
              0.7777777777777778,
              "#fb9f3a"
             ],
             [
              0.8888888888888888,
              "#fdca26"
             ],
             [
              1.0,
              "#f0f921"
             ]
            ]
           }
          ],
          "mesh3d": [
           {
            "type": "mesh3d",
            "colorbar": {
             "outlinewidth": 0,
             "ticks": ""
            }
           }
          ],
          "scatter": [
           {
            "marker": {
             "line": {
              "color": "#283442"
             }
            },
            "type": "scatter"
           }
          ],
          "parcoords": [
           {
            "type": "parcoords",
            "line": {
             "colorbar": {
              "outlinewidth": 0,
              "ticks": ""
             }
            }
           }
          ],
          "scatterpolargl": [
           {
            "type": "scatterpolargl",
            "marker": {
             "colorbar": {
              "outlinewidth": 0,
              "ticks": ""
             }
            }
           }
          ],
          "bar": [
           {
            "error_x": {
             "color": "#f2f5fa"
            },
            "error_y": {
             "color": "#f2f5fa"
            },
            "marker": {
             "line": {
              "color": "rgb(17,17,17)",
              "width": 0.5
             },
             "pattern": {
              "fillmode": "overlay",
              "size": 10,
              "solidity": 0.2
             }
            },
            "type": "bar"
           }
          ],
          "scattergeo": [
           {
            "type": "scattergeo",
            "marker": {
             "colorbar": {
              "outlinewidth": 0,
              "ticks": ""
             }
            }
           }
          ],
          "scatterpolar": [
           {
            "type": "scatterpolar",
            "marker": {
             "colorbar": {
              "outlinewidth": 0,
              "ticks": ""
             }
            }
           }
          ],
          "histogram": [
           {
            "marker": {
             "pattern": {
              "fillmode": "overlay",
              "size": 10,
              "solidity": 0.2
             }
            },
            "type": "histogram"
           }
          ],
          "scattergl": [
           {
            "marker": {
             "line": {
              "color": "#283442"
             }
            },
            "type": "scattergl"
           }
          ],
          "scatter3d": [
           {
            "type": "scatter3d",
            "line": {
             "colorbar": {
              "outlinewidth": 0,
              "ticks": ""
             }
            },
            "marker": {
             "colorbar": {
              "outlinewidth": 0,
              "ticks": ""
             }
            }
           }
          ],
          "scattermapbox": [
           {
            "type": "scattermapbox",
            "marker": {
             "colorbar": {
              "outlinewidth": 0,
              "ticks": ""
             }
            }
           }
          ],
          "scatterternary": [
           {
            "type": "scatterternary",
            "marker": {
             "colorbar": {
              "outlinewidth": 0,
              "ticks": ""
             }
            }
           }
          ],
          "scattercarpet": [
           {
            "type": "scattercarpet",
            "marker": {
             "colorbar": {
              "outlinewidth": 0,
              "ticks": ""
             }
            }
           }
          ],
          "carpet": [
           {
            "aaxis": {
             "endlinecolor": "#A2B1C6",
             "gridcolor": "#506784",
             "linecolor": "#506784",
             "minorgridcolor": "#506784",
             "startlinecolor": "#A2B1C6"
            },
            "baxis": {
             "endlinecolor": "#A2B1C6",
             "gridcolor": "#506784",
             "linecolor": "#506784",
             "minorgridcolor": "#506784",
             "startlinecolor": "#A2B1C6"
            },
            "type": "carpet"
           }
          ],
          "table": [
           {
            "cells": {
             "fill": {
              "color": "#506784"
             },
             "line": {
              "color": "rgb(17,17,17)"
             }
            },
            "header": {
             "fill": {
              "color": "#2a3f5f"
             },
             "line": {
              "color": "rgb(17,17,17)"
             }
            },
            "type": "table"
           }
          ],
          "barpolar": [
           {
            "marker": {
             "line": {
              "color": "rgb(17,17,17)",
              "width": 0.5
             },
             "pattern": {
              "fillmode": "overlay",
              "size": 10,
              "solidity": 0.2
             }
            },
            "type": "barpolar"
           }
          ],
          "pie": [
           {
            "automargin": true,
            "type": "pie"
           }
          ]
         },
         "layout": {
          "autotypenumbers": "strict",
          "colorway": [
           "#636efa",
           "#EF553B",
           "#00cc96",
           "#ab63fa",
           "#FFA15A",
           "#19d3f3",
           "#FF6692",
           "#B6E880",
           "#FF97FF",
           "#FECB52"
          ],
          "font": {
           "color": "#f2f5fa"
          },
          "hovermode": "closest",
          "hoverlabel": {
           "align": "left"
          },
          "paper_bgcolor": "rgb(17,17,17)",
          "plot_bgcolor": "rgb(17,17,17)",
          "polar": {
           "bgcolor": "rgb(17,17,17)",
           "angularaxis": {
            "gridcolor": "#506784",
            "linecolor": "#506784",
            "ticks": ""
           },
           "radialaxis": {
            "gridcolor": "#506784",
            "linecolor": "#506784",
            "ticks": ""
           }
          },
          "ternary": {
           "bgcolor": "rgb(17,17,17)",
           "aaxis": {
            "gridcolor": "#506784",
            "linecolor": "#506784",
            "ticks": ""
           },
           "baxis": {
            "gridcolor": "#506784",
            "linecolor": "#506784",
            "ticks": ""
           },
           "caxis": {
            "gridcolor": "#506784",
            "linecolor": "#506784",
            "ticks": ""
           }
          },
          "coloraxis": {
           "colorbar": {
            "outlinewidth": 0,
            "ticks": ""
           }
          },
          "colorscale": {
           "sequential": [
            [
             0.0,
             "#0d0887"
            ],
            [
             0.1111111111111111,
             "#46039f"
            ],
            [
             0.2222222222222222,
             "#7201a8"
            ],
            [
             0.3333333333333333,
             "#9c179e"
            ],
            [
             0.4444444444444444,
             "#bd3786"
            ],
            [
             0.5555555555555556,
             "#d8576b"
            ],
            [
             0.6666666666666666,
             "#ed7953"
            ],
            [
             0.7777777777777778,
             "#fb9f3a"
            ],
            [
             0.8888888888888888,
             "#fdca26"
            ],
            [
             1.0,
             "#f0f921"
            ]
           ],
           "sequentialminus": [
            [
             0.0,
             "#0d0887"
            ],
            [
             0.1111111111111111,
             "#46039f"
            ],
            [
             0.2222222222222222,
             "#7201a8"
            ],
            [
             0.3333333333333333,
             "#9c179e"
            ],
            [
             0.4444444444444444,
             "#bd3786"
            ],
            [
             0.5555555555555556,
             "#d8576b"
            ],
            [
             0.6666666666666666,
             "#ed7953"
            ],
            [
             0.7777777777777778,
             "#fb9f3a"
            ],
            [
             0.8888888888888888,
             "#fdca26"
            ],
            [
             1.0,
             "#f0f921"
            ]
           ],
           "diverging": [
            [
             0,
             "#8e0152"
            ],
            [
             0.1,
             "#c51b7d"
            ],
            [
             0.2,
             "#de77ae"
            ],
            [
             0.3,
             "#f1b6da"
            ],
            [
             0.4,
             "#fde0ef"
            ],
            [
             0.5,
             "#f7f7f7"
            ],
            [
             0.6,
             "#e6f5d0"
            ],
            [
             0.7,
             "#b8e186"
            ],
            [
             0.8,
             "#7fbc41"
            ],
            [
             0.9,
             "#4d9221"
            ],
            [
             1,
             "#276419"
            ]
           ]
          },
          "xaxis": {
           "gridcolor": "#283442",
           "linecolor": "#506784",
           "ticks": "",
           "title": {
            "standoff": 15
           },
           "zerolinecolor": "#283442",
           "automargin": true,
           "zerolinewidth": 2
          },
          "yaxis": {
           "gridcolor": "#283442",
           "linecolor": "#506784",
           "ticks": "",
           "title": {
            "standoff": 15
           },
           "zerolinecolor": "#283442",
           "automargin": true,
           "zerolinewidth": 2
          },
          "scene": {
           "xaxis": {
            "backgroundcolor": "rgb(17,17,17)",
            "gridcolor": "#506784",
            "linecolor": "#506784",
            "showbackground": true,
            "ticks": "",
            "zerolinecolor": "#C8D4E3",
            "gridwidth": 2
           },
           "yaxis": {
            "backgroundcolor": "rgb(17,17,17)",
            "gridcolor": "#506784",
            "linecolor": "#506784",
            "showbackground": true,
            "ticks": "",
            "zerolinecolor": "#C8D4E3",
            "gridwidth": 2
           },
           "zaxis": {
            "backgroundcolor": "rgb(17,17,17)",
            "gridcolor": "#506784",
            "linecolor": "#506784",
            "showbackground": true,
            "ticks": "",
            "zerolinecolor": "#C8D4E3",
            "gridwidth": 2
           }
          },
          "shapedefaults": {
           "line": {
            "color": "#f2f5fa"
           }
          },
          "annotationdefaults": {
           "arrowcolor": "#f2f5fa",
           "arrowhead": 0,
           "arrowwidth": 1
          },
          "geo": {
           "bgcolor": "rgb(17,17,17)",
           "landcolor": "rgb(17,17,17)",
           "subunitcolor": "#506784",
           "showland": true,
           "showlakes": true,
           "lakecolor": "rgb(17,17,17)"
          },
          "title": {
           "x": 0.05
          },
          "updatemenudefaults": {
           "bgcolor": "#506784",
           "borderwidth": 0
          },
          "sliderdefaults": {
           "bgcolor": "#C8D4E3",
           "borderwidth": 1,
           "bordercolor": "rgb(17,17,17)",
           "tickwidth": 0
          },
          "mapbox": {
           "style": "dark"
          }
         }
        },
        "xaxis": {
         "anchor": "y",
         "domain": [
          0.0,
          1.0
         ],
         "title": {
          "text": "splash_forced_%"
         }
        },
        "yaxis": {
         "anchor": "x",
         "domain": [
          0.0,
          1.0
         ],
         "title": {
          "text": "team"
         }
        },
        "coloraxis": {
         "colorbar": {
          "title": {
           "text": "splash_forced_%"
          }
         },
         "colorscale": [
          [
           0.0,
           "#0d0887"
          ],
          [
           0.1111111111111111,
           "#46039f"
          ],
          [
           0.2222222222222222,
           "#7201a8"
          ],
          [
           0.3333333333333333,
           "#9c179e"
          ],
          [
           0.4444444444444444,
           "#bd3786"
          ],
          [
           0.5555555555555556,
           "#d8576b"
          ],
          [
           0.6666666666666666,
           "#ed7953"
          ],
          [
           0.7777777777777778,
           "#fb9f3a"
          ],
          [
           0.8888888888888888,
           "#fdca26"
          ],
          [
           1.0,
           "#f0f921"
          ]
         ]
        },
        "legend": {
         "tracegroupgap": 0
        },
        "margin": {
         "t": 60
        },
        "barmode": "relative",
        "height": 700
       },
       "config": {
        "plotlyServerURL": "https://plot.ly"
       }
      },
      "text/html": "<div>                            <div id=\"b88846a9-7537-4ca2-817e-7ab9e3a94993\" class=\"plotly-graph-div\" style=\"height:700px; width:100%;\"></div>            <script type=\"text/javascript\">                require([\"plotly\"], function(Plotly) {                    window.PLOTLYENV=window.PLOTLYENV || {};                                    if (document.getElementById(\"b88846a9-7537-4ca2-817e-7ab9e3a94993\")) {                    Plotly.newPlot(                        \"b88846a9-7537-4ca2-817e-7ab9e3a94993\",                        [{\"alignmentgroup\":\"True\",\"hovertemplate\":\"splash_forced_%=%{marker.color}\\u003cbr\\u003eteam=%{y}\\u003cextra\\u003e\\u003c\\u002fextra\\u003e\",\"legendgroup\":\"\",\"marker\":{\"color\":[0.04854368932038835,0.061224489795918366,0.06363636363636363,0.0673076923076923,0.07407407407407407,0.07766990291262135,0.0816326530612245,0.08333333333333331,0.08737864077669903,0.08849557522123894,0.0891089108910891,0.09090909090909091,0.09174311926605505,0.0925925925925926,0.10280373831775699,0.10309278350515463,0.10377358490566038,0.11403508771929824,0.11578947368421053,0.1276595744680851,0.1414141414141414,0.14285714285714285,0.14285714285714285,0.16071428571428573,0.16071428571428573,0.16190476190476188,0.1649484536082474,0.17307692307692307,0.17525773195876287,0.1836734693877551,0.18811881188118812,0.21],\"coloraxis\":\"coloraxis\",\"pattern\":{\"shape\":\"\"}},\"name\":\"\",\"offsetgroup\":\"\",\"orientation\":\"h\",\"showlegend\":false,\"textposition\":\"auto\",\"texttemplate\":\"%{x}\",\"x\":[0.04854368932038835,0.061224489795918366,0.06363636363636363,0.0673076923076923,0.07407407407407407,0.07766990291262135,0.0816326530612245,0.08333333333333331,0.08737864077669903,0.08849557522123894,0.0891089108910891,0.09090909090909091,0.09174311926605505,0.0925925925925926,0.10280373831775699,0.10309278350515463,0.10377358490566038,0.11403508771929824,0.11578947368421053,0.1276595744680851,0.1414141414141414,0.14285714285714285,0.14285714285714285,0.16071428571428573,0.16071428571428573,0.16190476190476188,0.1649484536082474,0.17307692307692307,0.17525773195876287,0.1836734693877551,0.18811881188118812,0.21],\"xaxis\":\"x\",\"y\":[\"Las Vegas Raiders\",\"Tennessee Titans\",\"Cleveland Browns\",\"New England Patriots\",\"Jacksonville Jaguars\",\"New York Jets\",\"Miami Dolphins\",\"New York Giants\",\"Dallas Cowboys\",\"Carolina Panthers\",\"Atlanta Falcons\",\"Kansas City Chiefs\",\"Baltimore Ravens\",\"Seattle Seahawks\",\"Cincinnati Bengals\",\"Washington Commanders\",\"Tampa Bay Buccaneers\",\"Denver Broncos\",\"Philadelphia Eagles\",\"Arizona Cardinals\",\"Los Angeles Chargers\",\"Houston Texans\",\"Los Angeles Rams\",\"Indianapolis Colts\",\"New Orleans Saints\",\"Chicago Bears\",\"San Francisco 49ers\",\"Buffalo Bills\",\"Pittsburgh Steelers\",\"Green Bay Packers\",\"Detroit Lions\",\"Minnesota Vikings\"],\"yaxis\":\"y\",\"type\":\"bar\"}],                        {\"template\":{\"data\":{\"histogram2dcontour\":[{\"type\":\"histogram2dcontour\",\"colorbar\":{\"outlinewidth\":0,\"ticks\":\"\"},\"colorscale\":[[0.0,\"#0d0887\"],[0.1111111111111111,\"#46039f\"],[0.2222222222222222,\"#7201a8\"],[0.3333333333333333,\"#9c179e\"],[0.4444444444444444,\"#bd3786\"],[0.5555555555555556,\"#d8576b\"],[0.6666666666666666,\"#ed7953\"],[0.7777777777777778,\"#fb9f3a\"],[0.8888888888888888,\"#fdca26\"],[1.0,\"#f0f921\"]]}],\"choropleth\":[{\"type\":\"choropleth\",\"colorbar\":{\"outlinewidth\":0,\"ticks\":\"\"}}],\"histogram2d\":[{\"type\":\"histogram2d\",\"colorbar\":{\"outlinewidth\":0,\"ticks\":\"\"},\"colorscale\":[[0.0,\"#0d0887\"],[0.1111111111111111,\"#46039f\"],[0.2222222222222222,\"#7201a8\"],[0.3333333333333333,\"#9c179e\"],[0.4444444444444444,\"#bd3786\"],[0.5555555555555556,\"#d8576b\"],[0.6666666666666666,\"#ed7953\"],[0.7777777777777778,\"#fb9f3a\"],[0.8888888888888888,\"#fdca26\"],[1.0,\"#f0f921\"]]}],\"heatmap\":[{\"type\":\"heatmap\",\"colorbar\":{\"outlinewidth\":0,\"ticks\":\"\"},\"colorscale\":[[0.0,\"#0d0887\"],[0.1111111111111111,\"#46039f\"],[0.2222222222222222,\"#7201a8\"],[0.3333333333333333,\"#9c179e\"],[0.4444444444444444,\"#bd3786\"],[0.5555555555555556,\"#d8576b\"],[0.6666666666666666,\"#ed7953\"],[0.7777777777777778,\"#fb9f3a\"],[0.8888888888888888,\"#fdca26\"],[1.0,\"#f0f921\"]]}],\"heatmapgl\":[{\"type\":\"heatmapgl\",\"colorbar\":{\"outlinewidth\":0,\"ticks\":\"\"},\"colorscale\":[[0.0,\"#0d0887\"],[0.1111111111111111,\"#46039f\"],[0.2222222222222222,\"#7201a8\"],[0.3333333333333333,\"#9c179e\"],[0.4444444444444444,\"#bd3786\"],[0.5555555555555556,\"#d8576b\"],[0.6666666666666666,\"#ed7953\"],[0.7777777777777778,\"#fb9f3a\"],[0.8888888888888888,\"#fdca26\"],[1.0,\"#f0f921\"]]}],\"contourcarpet\":[{\"type\":\"contourcarpet\",\"colorbar\":{\"outlinewidth\":0,\"ticks\":\"\"}}],\"contour\":[{\"type\":\"contour\",\"colorbar\":{\"outlinewidth\":0,\"ticks\":\"\"},\"colorscale\":[[0.0,\"#0d0887\"],[0.1111111111111111,\"#46039f\"],[0.2222222222222222,\"#7201a8\"],[0.3333333333333333,\"#9c179e\"],[0.4444444444444444,\"#bd3786\"],[0.5555555555555556,\"#d8576b\"],[0.6666666666666666,\"#ed7953\"],[0.7777777777777778,\"#fb9f3a\"],[0.8888888888888888,\"#fdca26\"],[1.0,\"#f0f921\"]]}],\"surface\":[{\"type\":\"surface\",\"colorbar\":{\"outlinewidth\":0,\"ticks\":\"\"},\"colorscale\":[[0.0,\"#0d0887\"],[0.1111111111111111,\"#46039f\"],[0.2222222222222222,\"#7201a8\"],[0.3333333333333333,\"#9c179e\"],[0.4444444444444444,\"#bd3786\"],[0.5555555555555556,\"#d8576b\"],[0.6666666666666666,\"#ed7953\"],[0.7777777777777778,\"#fb9f3a\"],[0.8888888888888888,\"#fdca26\"],[1.0,\"#f0f921\"]]}],\"mesh3d\":[{\"type\":\"mesh3d\",\"colorbar\":{\"outlinewidth\":0,\"ticks\":\"\"}}],\"scatter\":[{\"marker\":{\"line\":{\"color\":\"#283442\"}},\"type\":\"scatter\"}],\"parcoords\":[{\"type\":\"parcoords\",\"line\":{\"colorbar\":{\"outlinewidth\":0,\"ticks\":\"\"}}}],\"scatterpolargl\":[{\"type\":\"scatterpolargl\",\"marker\":{\"colorbar\":{\"outlinewidth\":0,\"ticks\":\"\"}}}],\"bar\":[{\"error_x\":{\"color\":\"#f2f5fa\"},\"error_y\":{\"color\":\"#f2f5fa\"},\"marker\":{\"line\":{\"color\":\"rgb(17,17,17)\",\"width\":0.5},\"pattern\":{\"fillmode\":\"overlay\",\"size\":10,\"solidity\":0.2}},\"type\":\"bar\"}],\"scattergeo\":[{\"type\":\"scattergeo\",\"marker\":{\"colorbar\":{\"outlinewidth\":0,\"ticks\":\"\"}}}],\"scatterpolar\":[{\"type\":\"scatterpolar\",\"marker\":{\"colorbar\":{\"outlinewidth\":0,\"ticks\":\"\"}}}],\"histogram\":[{\"marker\":{\"pattern\":{\"fillmode\":\"overlay\",\"size\":10,\"solidity\":0.2}},\"type\":\"histogram\"}],\"scattergl\":[{\"marker\":{\"line\":{\"color\":\"#283442\"}},\"type\":\"scattergl\"}],\"scatter3d\":[{\"type\":\"scatter3d\",\"line\":{\"colorbar\":{\"outlinewidth\":0,\"ticks\":\"\"}},\"marker\":{\"colorbar\":{\"outlinewidth\":0,\"ticks\":\"\"}}}],\"scattermapbox\":[{\"type\":\"scattermapbox\",\"marker\":{\"colorbar\":{\"outlinewidth\":0,\"ticks\":\"\"}}}],\"scatterternary\":[{\"type\":\"scatterternary\",\"marker\":{\"colorbar\":{\"outlinewidth\":0,\"ticks\":\"\"}}}],\"scattercarpet\":[{\"type\":\"scattercarpet\",\"marker\":{\"colorbar\":{\"outlinewidth\":0,\"ticks\":\"\"}}}],\"carpet\":[{\"aaxis\":{\"endlinecolor\":\"#A2B1C6\",\"gridcolor\":\"#506784\",\"linecolor\":\"#506784\",\"minorgridcolor\":\"#506784\",\"startlinecolor\":\"#A2B1C6\"},\"baxis\":{\"endlinecolor\":\"#A2B1C6\",\"gridcolor\":\"#506784\",\"linecolor\":\"#506784\",\"minorgridcolor\":\"#506784\",\"startlinecolor\":\"#A2B1C6\"},\"type\":\"carpet\"}],\"table\":[{\"cells\":{\"fill\":{\"color\":\"#506784\"},\"line\":{\"color\":\"rgb(17,17,17)\"}},\"header\":{\"fill\":{\"color\":\"#2a3f5f\"},\"line\":{\"color\":\"rgb(17,17,17)\"}},\"type\":\"table\"}],\"barpolar\":[{\"marker\":{\"line\":{\"color\":\"rgb(17,17,17)\",\"width\":0.5},\"pattern\":{\"fillmode\":\"overlay\",\"size\":10,\"solidity\":0.2}},\"type\":\"barpolar\"}],\"pie\":[{\"automargin\":true,\"type\":\"pie\"}]},\"layout\":{\"autotypenumbers\":\"strict\",\"colorway\":[\"#636efa\",\"#EF553B\",\"#00cc96\",\"#ab63fa\",\"#FFA15A\",\"#19d3f3\",\"#FF6692\",\"#B6E880\",\"#FF97FF\",\"#FECB52\"],\"font\":{\"color\":\"#f2f5fa\"},\"hovermode\":\"closest\",\"hoverlabel\":{\"align\":\"left\"},\"paper_bgcolor\":\"rgb(17,17,17)\",\"plot_bgcolor\":\"rgb(17,17,17)\",\"polar\":{\"bgcolor\":\"rgb(17,17,17)\",\"angularaxis\":{\"gridcolor\":\"#506784\",\"linecolor\":\"#506784\",\"ticks\":\"\"},\"radialaxis\":{\"gridcolor\":\"#506784\",\"linecolor\":\"#506784\",\"ticks\":\"\"}},\"ternary\":{\"bgcolor\":\"rgb(17,17,17)\",\"aaxis\":{\"gridcolor\":\"#506784\",\"linecolor\":\"#506784\",\"ticks\":\"\"},\"baxis\":{\"gridcolor\":\"#506784\",\"linecolor\":\"#506784\",\"ticks\":\"\"},\"caxis\":{\"gridcolor\":\"#506784\",\"linecolor\":\"#506784\",\"ticks\":\"\"}},\"coloraxis\":{\"colorbar\":{\"outlinewidth\":0,\"ticks\":\"\"}},\"colorscale\":{\"sequential\":[[0.0,\"#0d0887\"],[0.1111111111111111,\"#46039f\"],[0.2222222222222222,\"#7201a8\"],[0.3333333333333333,\"#9c179e\"],[0.4444444444444444,\"#bd3786\"],[0.5555555555555556,\"#d8576b\"],[0.6666666666666666,\"#ed7953\"],[0.7777777777777778,\"#fb9f3a\"],[0.8888888888888888,\"#fdca26\"],[1.0,\"#f0f921\"]],\"sequentialminus\":[[0.0,\"#0d0887\"],[0.1111111111111111,\"#46039f\"],[0.2222222222222222,\"#7201a8\"],[0.3333333333333333,\"#9c179e\"],[0.4444444444444444,\"#bd3786\"],[0.5555555555555556,\"#d8576b\"],[0.6666666666666666,\"#ed7953\"],[0.7777777777777778,\"#fb9f3a\"],[0.8888888888888888,\"#fdca26\"],[1.0,\"#f0f921\"]],\"diverging\":[[0,\"#8e0152\"],[0.1,\"#c51b7d\"],[0.2,\"#de77ae\"],[0.3,\"#f1b6da\"],[0.4,\"#fde0ef\"],[0.5,\"#f7f7f7\"],[0.6,\"#e6f5d0\"],[0.7,\"#b8e186\"],[0.8,\"#7fbc41\"],[0.9,\"#4d9221\"],[1,\"#276419\"]]},\"xaxis\":{\"gridcolor\":\"#283442\",\"linecolor\":\"#506784\",\"ticks\":\"\",\"title\":{\"standoff\":15},\"zerolinecolor\":\"#283442\",\"automargin\":true,\"zerolinewidth\":2},\"yaxis\":{\"gridcolor\":\"#283442\",\"linecolor\":\"#506784\",\"ticks\":\"\",\"title\":{\"standoff\":15},\"zerolinecolor\":\"#283442\",\"automargin\":true,\"zerolinewidth\":2},\"scene\":{\"xaxis\":{\"backgroundcolor\":\"rgb(17,17,17)\",\"gridcolor\":\"#506784\",\"linecolor\":\"#506784\",\"showbackground\":true,\"ticks\":\"\",\"zerolinecolor\":\"#C8D4E3\",\"gridwidth\":2},\"yaxis\":{\"backgroundcolor\":\"rgb(17,17,17)\",\"gridcolor\":\"#506784\",\"linecolor\":\"#506784\",\"showbackground\":true,\"ticks\":\"\",\"zerolinecolor\":\"#C8D4E3\",\"gridwidth\":2},\"zaxis\":{\"backgroundcolor\":\"rgb(17,17,17)\",\"gridcolor\":\"#506784\",\"linecolor\":\"#506784\",\"showbackground\":true,\"ticks\":\"\",\"zerolinecolor\":\"#C8D4E3\",\"gridwidth\":2}},\"shapedefaults\":{\"line\":{\"color\":\"#f2f5fa\"}},\"annotationdefaults\":{\"arrowcolor\":\"#f2f5fa\",\"arrowhead\":0,\"arrowwidth\":1},\"geo\":{\"bgcolor\":\"rgb(17,17,17)\",\"landcolor\":\"rgb(17,17,17)\",\"subunitcolor\":\"#506784\",\"showland\":true,\"showlakes\":true,\"lakecolor\":\"rgb(17,17,17)\"},\"title\":{\"x\":0.05},\"updatemenudefaults\":{\"bgcolor\":\"#506784\",\"borderwidth\":0},\"sliderdefaults\":{\"bgcolor\":\"#C8D4E3\",\"borderwidth\":1,\"bordercolor\":\"rgb(17,17,17)\",\"tickwidth\":0},\"mapbox\":{\"style\":\"dark\"}}},\"xaxis\":{\"anchor\":\"y\",\"domain\":[0.0,1.0],\"title\":{\"text\":\"splash_forced_%\"}},\"yaxis\":{\"anchor\":\"x\",\"domain\":[0.0,1.0],\"title\":{\"text\":\"team\"}},\"coloraxis\":{\"colorbar\":{\"title\":{\"text\":\"splash_forced_%\"}},\"colorscale\":[[0.0,\"#0d0887\"],[0.1111111111111111,\"#46039f\"],[0.2222222222222222,\"#7201a8\"],[0.3333333333333333,\"#9c179e\"],[0.4444444444444444,\"#bd3786\"],[0.5555555555555556,\"#d8576b\"],[0.6666666666666666,\"#ed7953\"],[0.7777777777777778,\"#fb9f3a\"],[0.8888888888888888,\"#fdca26\"],[1.0,\"#f0f921\"]]},\"legend\":{\"tracegroupgap\":0},\"margin\":{\"t\":60},\"barmode\":\"relative\",\"height\":700},                        {\"responsive\": true}                    ).then(function(){\n                            \nvar gd = document.getElementById('b88846a9-7537-4ca2-817e-7ab9e3a94993');\nvar x = new MutationObserver(function (mutations, observer) {{\n        var display = window.getComputedStyle(gd).display;\n        if (!display || display === 'none') {{\n            console.log([gd, 'removed!']);\n            Plotly.purge(gd);\n            observer.disconnect();\n        }}\n}});\n\n// Listen for the removal of the full notebook cells\nvar notebookContainer = gd.closest('#notebook-container');\nif (notebookContainer) {{\n    x.observe(notebookContainer, {childList: true});\n}}\n\n// Listen for the clearing of the current output cell\nvar outputEl = gd.closest('.output');\nif (outputEl) {{\n    x.observe(outputEl, {childList: true});\n}}\n\n                        })                };                });            </script>        </div>"
     },
     "metadata": {},
     "output_type": "display_data"
    }
   ],
   "source": [
    "px.bar(tb, y='team', x='splash_forced_%', height=700, text_auto=True, color='splash_forced_%')"
   ],
   "metadata": {
    "collapsed": false,
    "ExecuteTime": {
     "end_time": "2024-11-15T00:53:45.458905Z",
     "start_time": "2024-11-15T00:53:45.424487Z"
    }
   },
   "id": "82068214f17b5737"
  },
  {
   "cell_type": "code",
   "execution_count": null,
   "outputs": [],
   "source": [],
   "metadata": {
    "collapsed": false
   },
   "id": "20292ad5659c273"
  },
  {
   "cell_type": "code",
   "execution_count": 24,
   "outputs": [
    {
     "data": {
      "application/vnd.plotly.v1+json": {
       "data": [
        {
         "hovertemplate": "team_=%{text}<br>points_mean=%{x}<br>points_allowed_mean=%{y}<extra></extra>",
         "legendgroup": "Arizona Cardinals",
         "marker": {
          "color": "#636efa",
          "symbol": "circle"
         },
         "mode": "markers+text",
         "name": "Arizona Cardinals",
         "orientation": "v",
         "showlegend": true,
         "text": [
          "Arizona Cardinals"
         ],
         "x": [
          22.25
         ],
         "xaxis": "x",
         "y": [
          25.625
         ],
         "yaxis": "y",
         "type": "scatter",
         "textfont": {
          "color": "white",
          "size": 9
         },
         "textposition": "bottom center"
        },
        {
         "hovertemplate": "team_=%{text}<br>points_mean=%{x}<br>points_allowed_mean=%{y}<extra></extra>",
         "legendgroup": "Atlanta Falcons",
         "marker": {
          "color": "#EF553B",
          "symbol": "circle"
         },
         "mode": "markers+text",
         "name": "Atlanta Falcons",
         "orientation": "v",
         "showlegend": true,
         "text": [
          "Atlanta Falcons"
         ],
         "x": [
          24.25
         ],
         "xaxis": "x",
         "y": [
          24.375
         ],
         "yaxis": "y",
         "type": "scatter",
         "textfont": {
          "color": "white",
          "size": 9
         },
         "textposition": "bottom center"
        },
        {
         "hovertemplate": "team_=%{text}<br>points_mean=%{x}<br>points_allowed_mean=%{y}<extra></extra>",
         "legendgroup": "Baltimore Ravens",
         "marker": {
          "color": "#00cc96",
          "symbol": "circle"
         },
         "mode": "markers+text",
         "name": "Baltimore Ravens",
         "orientation": "v",
         "showlegend": true,
         "text": [
          "Baltimore Ravens"
         ],
         "x": [
          30.25
         ],
         "xaxis": "x",
         "y": [
          26.125
         ],
         "yaxis": "y",
         "type": "scatter",
         "textfont": {
          "color": "white",
          "size": 9
         },
         "textposition": "bottom center"
        },
        {
         "hovertemplate": "team_=%{text}<br>points_mean=%{x}<br>points_allowed_mean=%{y}<extra></extra>",
         "legendgroup": "Buffalo Bills",
         "marker": {
          "color": "#ab63fa",
          "symbol": "circle"
         },
         "mode": "markers+text",
         "name": "Buffalo Bills",
         "orientation": "v",
         "showlegend": true,
         "text": [
          "Buffalo Bills"
         ],
         "x": [
          28.75
         ],
         "xaxis": "x",
         "y": [
          18.25
         ],
         "yaxis": "y",
         "type": "scatter",
         "textfont": {
          "color": "white",
          "size": 9
         },
         "textposition": "bottom center"
        },
        {
         "hovertemplate": "team_=%{text}<br>points_mean=%{x}<br>points_allowed_mean=%{y}<extra></extra>",
         "legendgroup": "Carolina Panthers",
         "marker": {
          "color": "#FFA15A",
          "symbol": "circle"
         },
         "mode": "markers+text",
         "name": "Carolina Panthers",
         "orientation": "v",
         "showlegend": true,
         "text": [
          "Carolina Panthers"
         ],
         "x": [
          15.5
         ],
         "xaxis": "x",
         "y": [
          33.875
         ],
         "yaxis": "y",
         "type": "scatter",
         "textfont": {
          "color": "white",
          "size": 9
         },
         "textposition": "bottom center"
        },
        {
         "hovertemplate": "team_=%{text}<br>points_mean=%{x}<br>points_allowed_mean=%{y}<extra></extra>",
         "legendgroup": "Chicago Bears",
         "marker": {
          "color": "#19d3f3",
          "symbol": "circle"
         },
         "mode": "markers+text",
         "name": "Chicago Bears",
         "orientation": "v",
         "showlegend": true,
         "text": [
          "Chicago Bears"
         ],
         "x": [
          23.285714285714285
         ],
         "xaxis": "x",
         "y": [
          17.0
         ],
         "yaxis": "y",
         "type": "scatter",
         "textfont": {
          "color": "white",
          "size": 9
         },
         "textposition": "bottom center"
        },
        {
         "hovertemplate": "team_=%{text}<br>points_mean=%{x}<br>points_allowed_mean=%{y}<extra></extra>",
         "legendgroup": "Cincinnati Bengals",
         "marker": {
          "color": "#FF6692",
          "symbol": "circle"
         },
         "mode": "markers+text",
         "name": "Cincinnati Bengals",
         "orientation": "v",
         "showlegend": true,
         "text": [
          "Cincinnati Bengals"
         ],
         "x": [
          24.375
         ],
         "xaxis": "x",
         "y": [
          25.375
         ],
         "yaxis": "y",
         "type": "scatter",
         "textfont": {
          "color": "white",
          "size": 9
         },
         "textposition": "bottom center"
        },
        {
         "hovertemplate": "team_=%{text}<br>points_mean=%{x}<br>points_allowed_mean=%{y}<extra></extra>",
         "legendgroup": "Cleveland Browns",
         "marker": {
          "color": "#B6E880",
          "symbol": "circle"
         },
         "mode": "markers+text",
         "name": "Cleveland Browns",
         "orientation": "v",
         "showlegend": true,
         "text": [
          "Cleveland Browns"
         ],
         "x": [
          17.25
         ],
         "xaxis": "x",
         "y": [
          23.25
         ],
         "yaxis": "y",
         "type": "scatter",
         "textfont": {
          "color": "white",
          "size": 9
         },
         "textposition": "bottom center"
        },
        {
         "hovertemplate": "team_=%{text}<br>points_mean=%{x}<br>points_allowed_mean=%{y}<extra></extra>",
         "legendgroup": "Dallas Cowboys",
         "marker": {
          "color": "#FF97FF",
          "symbol": "circle"
         },
         "mode": "markers+text",
         "name": "Dallas Cowboys",
         "orientation": "v",
         "showlegend": true,
         "text": [
          "Dallas Cowboys"
         ],
         "x": [
          21.428571428571427
         ],
         "xaxis": "x",
         "y": [
          28.285714285714285
         ],
         "yaxis": "y",
         "type": "scatter",
         "textfont": {
          "color": "white",
          "size": 9
         },
         "textposition": "bottom center"
        },
        {
         "hovertemplate": "team_=%{text}<br>points_mean=%{x}<br>points_allowed_mean=%{y}<extra></extra>",
         "legendgroup": "Denver Broncos",
         "marker": {
          "color": "#FECB52",
          "symbol": "circle"
         },
         "mode": "markers+text",
         "name": "Denver Broncos",
         "orientation": "v",
         "showlegend": true,
         "text": [
          "Denver Broncos"
         ],
         "x": [
          21.625
         ],
         "xaxis": "x",
         "y": [
          15.0
         ],
         "yaxis": "y",
         "type": "scatter",
         "textfont": {
          "color": "white",
          "size": 9
         },
         "textposition": "bottom center"
        },
        {
         "hovertemplate": "team_=%{text}<br>points_mean=%{x}<br>points_allowed_mean=%{y}<extra></extra>",
         "legendgroup": "Detroit Lions",
         "marker": {
          "color": "#636efa",
          "symbol": "circle"
         },
         "mode": "markers+text",
         "name": "Detroit Lions",
         "orientation": "v",
         "showlegend": true,
         "text": [
          "Detroit Lions"
         ],
         "x": [
          33.42857142857143
         ],
         "xaxis": "x",
         "y": [
          19.142857142857142
         ],
         "yaxis": "y",
         "type": "scatter",
         "textfont": {
          "color": "white",
          "size": 9
         },
         "textposition": "bottom center"
        },
        {
         "hovertemplate": "team_=%{text}<br>points_mean=%{x}<br>points_allowed_mean=%{y}<extra></extra>",
         "legendgroup": "Green Bay Packers",
         "marker": {
          "color": "#EF553B",
          "symbol": "circle"
         },
         "mode": "markers+text",
         "name": "Green Bay Packers",
         "orientation": "v",
         "showlegend": true,
         "text": [
          "Green Bay Packers"
         ],
         "x": [
          27.0
         ],
         "xaxis": "x",
         "y": [
          21.25
         ],
         "yaxis": "y",
         "type": "scatter",
         "textfont": {
          "color": "white",
          "size": 9
         },
         "textposition": "bottom center"
        },
        {
         "hovertemplate": "team_=%{text}<br>points_mean=%{x}<br>points_allowed_mean=%{y}<extra></extra>",
         "legendgroup": "Houston Texans",
         "marker": {
          "color": "#00cc96",
          "symbol": "circle"
         },
         "mode": "markers+text",
         "name": "Houston Texans",
         "orientation": "v",
         "showlegend": true,
         "text": [
          "Houston Texans"
         ],
         "x": [
          23.5
         ],
         "xaxis": "x",
         "y": [
          22.375
         ],
         "yaxis": "y",
         "type": "scatter",
         "textfont": {
          "color": "white",
          "size": 9
         },
         "textposition": "bottom center"
        },
        {
         "hovertemplate": "team_=%{text}<br>points_mean=%{x}<br>points_allowed_mean=%{y}<extra></extra>",
         "legendgroup": "Indianapolis Colts",
         "marker": {
          "color": "#ab63fa",
          "symbol": "circle"
         },
         "mode": "markers+text",
         "name": "Indianapolis Colts",
         "orientation": "v",
         "showlegend": true,
         "text": [
          "Indianapolis Colts"
         ],
         "x": [
          21.875
         ],
         "xaxis": "x",
         "y": [
          21.5
         ],
         "yaxis": "y",
         "type": "scatter",
         "textfont": {
          "color": "white",
          "size": 9
         },
         "textposition": "bottom center"
        },
        {
         "hovertemplate": "team_=%{text}<br>points_mean=%{x}<br>points_allowed_mean=%{y}<extra></extra>",
         "legendgroup": "Jacksonville Jaguars",
         "marker": {
          "color": "#FFA15A",
          "symbol": "circle"
         },
         "mode": "markers+text",
         "name": "Jacksonville Jaguars",
         "orientation": "v",
         "showlegend": true,
         "text": [
          "Jacksonville Jaguars"
         ],
         "x": [
          21.5
         ],
         "xaxis": "x",
         "y": [
          28.0
         ],
         "yaxis": "y",
         "type": "scatter",
         "textfont": {
          "color": "white",
          "size": 9
         },
         "textposition": "bottom center"
        },
        {
         "hovertemplate": "team_=%{text}<br>points_mean=%{x}<br>points_allowed_mean=%{y}<extra></extra>",
         "legendgroup": "Kansas City Chiefs",
         "marker": {
          "color": "#19d3f3",
          "symbol": "circle"
         },
         "mode": "markers+text",
         "name": "Kansas City Chiefs",
         "orientation": "v",
         "showlegend": true,
         "text": [
          "Kansas City Chiefs"
         ],
         "x": [
          24.714285714285715
         ],
         "xaxis": "x",
         "y": [
          17.571428571428573
         ],
         "yaxis": "y",
         "type": "scatter",
         "textfont": {
          "color": "white",
          "size": 9
         },
         "textposition": "bottom center"
        },
        {
         "hovertemplate": "team_=%{text}<br>points_mean=%{x}<br>points_allowed_mean=%{y}<extra></extra>",
         "legendgroup": "Las Vegas Raiders",
         "marker": {
          "color": "#FF6692",
          "symbol": "circle"
         },
         "mode": "markers+text",
         "name": "Las Vegas Raiders",
         "orientation": "v",
         "showlegend": true,
         "text": [
          "Las Vegas Raiders"
         ],
         "x": [
          18.0
         ],
         "xaxis": "x",
         "y": [
          26.25
         ],
         "yaxis": "y",
         "type": "scatter",
         "textfont": {
          "color": "white",
          "size": 9
         },
         "textposition": "bottom center"
        },
        {
         "hovertemplate": "team_=%{text}<br>points_mean=%{x}<br>points_allowed_mean=%{y}<extra></extra>",
         "legendgroup": "Los Angeles Chargers",
         "marker": {
          "color": "#B6E880",
          "symbol": "circle"
         },
         "mode": "markers+text",
         "name": "Los Angeles Chargers",
         "orientation": "v",
         "showlegend": true,
         "text": [
          "Los Angeles Chargers"
         ],
         "x": [
          18.857142857142858
         ],
         "xaxis": "x",
         "y": [
          13.0
         ],
         "yaxis": "y",
         "type": "scatter",
         "textfont": {
          "color": "white",
          "size": 9
         },
         "textposition": "bottom center"
        },
        {
         "hovertemplate": "team_=%{text}<br>points_mean=%{x}<br>points_allowed_mean=%{y}<extra></extra>",
         "legendgroup": "Los Angeles Rams",
         "marker": {
          "color": "#FF97FF",
          "symbol": "circle"
         },
         "mode": "markers+text",
         "name": "Los Angeles Rams",
         "orientation": "v",
         "showlegend": true,
         "text": [
          "Los Angeles Rams"
         ],
         "x": [
          20.571428571428573
         ],
         "xaxis": "x",
         "y": [
          24.857142857142858
         ],
         "yaxis": "y",
         "type": "scatter",
         "textfont": {
          "color": "white",
          "size": 9
         },
         "textposition": "bottom center"
        },
        {
         "hovertemplate": "team_=%{text}<br>points_mean=%{x}<br>points_allowed_mean=%{y}<extra></extra>",
         "legendgroup": "Miami Dolphins",
         "marker": {
          "color": "#FECB52",
          "symbol": "circle"
         },
         "mode": "markers+text",
         "name": "Miami Dolphins",
         "orientation": "v",
         "showlegend": true,
         "text": [
          "Miami Dolphins"
         ],
         "x": [
          13.857142857142858
         ],
         "xaxis": "x",
         "y": [
          22.428571428571427
         ],
         "yaxis": "y",
         "type": "scatter",
         "textfont": {
          "color": "white",
          "size": 9
         },
         "textposition": "bottom center"
        },
        {
         "hovertemplate": "team_=%{text}<br>points_mean=%{x}<br>points_allowed_mean=%{y}<extra></extra>",
         "legendgroup": "Minnesota Vikings",
         "marker": {
          "color": "#636efa",
          "symbol": "circle"
         },
         "mode": "markers+text",
         "name": "Minnesota Vikings",
         "orientation": "v",
         "showlegend": true,
         "text": [
          "Minnesota Vikings"
         ],
         "x": [
          26.857142857142858
         ],
         "xaxis": "x",
         "y": [
          19.571428571428573
         ],
         "yaxis": "y",
         "type": "scatter",
         "textfont": {
          "color": "white",
          "size": 9
         },
         "textposition": "bottom center"
        },
        {
         "hovertemplate": "team_=%{text}<br>points_mean=%{x}<br>points_allowed_mean=%{y}<extra></extra>",
         "legendgroup": "New England Patriots",
         "marker": {
          "color": "#EF553B",
          "symbol": "circle"
         },
         "mode": "markers+text",
         "name": "New England Patriots",
         "orientation": "v",
         "showlegend": true,
         "text": [
          "New England Patriots"
         ],
         "x": [
          15.5
         ],
         "xaxis": "x",
         "y": [
          24.625
         ],
         "yaxis": "y",
         "type": "scatter",
         "textfont": {
          "color": "white",
          "size": 9
         },
         "textposition": "bottom center"
        },
        {
         "hovertemplate": "team_=%{text}<br>points_mean=%{x}<br>points_allowed_mean=%{y}<extra></extra>",
         "legendgroup": "New Orleans Saints",
         "marker": {
          "color": "#00cc96",
          "symbol": "circle"
         },
         "mode": "markers+text",
         "name": "New Orleans Saints",
         "orientation": "v",
         "showlegend": true,
         "text": [
          "New Orleans Saints"
         ],
         "x": [
          23.125
         ],
         "xaxis": "x",
         "y": [
          25.75
         ],
         "yaxis": "y",
         "type": "scatter",
         "textfont": {
          "color": "white",
          "size": 9
         },
         "textposition": "bottom center"
        },
        {
         "hovertemplate": "team_=%{text}<br>points_mean=%{x}<br>points_allowed_mean=%{y}<extra></extra>",
         "legendgroup": "New York Giants",
         "marker": {
          "color": "#ab63fa",
          "symbol": "circle"
         },
         "mode": "markers+text",
         "name": "New York Giants",
         "orientation": "v",
         "showlegend": true,
         "text": [
          "New York Giants"
         ],
         "x": [
          14.142857142857142
         ],
         "xaxis": "x",
         "y": [
          21.285714285714285
         ],
         "yaxis": "y",
         "type": "scatter",
         "textfont": {
          "color": "white",
          "size": 9
         },
         "textposition": "bottom center"
        },
        {
         "hovertemplate": "team_=%{text}<br>points_mean=%{x}<br>points_allowed_mean=%{y}<extra></extra>",
         "legendgroup": "New York Jets",
         "marker": {
          "color": "#FFA15A",
          "symbol": "circle"
         },
         "mode": "markers+text",
         "name": "New York Jets",
         "orientation": "v",
         "showlegend": true,
         "text": [
          "New York Jets"
         ],
         "x": [
          18.75
         ],
         "xaxis": "x",
         "y": [
          21.25
         ],
         "yaxis": "y",
         "type": "scatter",
         "textfont": {
          "color": "white",
          "size": 9
         },
         "textposition": "bottom center"
        },
        {
         "hovertemplate": "team_=%{text}<br>points_mean=%{x}<br>points_allowed_mean=%{y}<extra></extra>",
         "legendgroup": "Philadelphia Eagles",
         "marker": {
          "color": "#19d3f3",
          "symbol": "circle"
         },
         "mode": "markers+text",
         "name": "Philadelphia Eagles",
         "orientation": "v",
         "showlegend": true,
         "text": [
          "Philadelphia Eagles"
         ],
         "x": [
          24.428571428571427
         ],
         "xaxis": "x",
         "y": [
          18.857142857142858
         ],
         "yaxis": "y",
         "type": "scatter",
         "textfont": {
          "color": "white",
          "size": 9
         },
         "textposition": "bottom center"
        },
        {
         "hovertemplate": "team_=%{text}<br>points_mean=%{x}<br>points_allowed_mean=%{y}<extra></extra>",
         "legendgroup": "Pittsburgh Steelers",
         "marker": {
          "color": "#FF6692",
          "symbol": "circle"
         },
         "mode": "markers+text",
         "name": "Pittsburgh Steelers",
         "orientation": "v",
         "showlegend": true,
         "text": [
          "Pittsburgh Steelers"
         ],
         "x": [
          23.0
         ],
         "xaxis": "x",
         "y": [
          14.428571428571429
         ],
         "yaxis": "y",
         "type": "scatter",
         "textfont": {
          "color": "white",
          "size": 9
         },
         "textposition": "bottom center"
        },
        {
         "hovertemplate": "team_=%{text}<br>points_mean=%{x}<br>points_allowed_mean=%{y}<extra></extra>",
         "legendgroup": "San Francisco 49ers",
         "marker": {
          "color": "#B6E880",
          "symbol": "circle"
         },
         "mode": "markers+text",
         "name": "San Francisco 49ers",
         "orientation": "v",
         "showlegend": true,
         "text": [
          "San Francisco 49ers"
         ],
         "x": [
          26.25
         ],
         "xaxis": "x",
         "y": [
          22.75
         ],
         "yaxis": "y",
         "type": "scatter",
         "textfont": {
          "color": "white",
          "size": 9
         },
         "textposition": "bottom center"
        },
        {
         "hovertemplate": "team_=%{text}<br>points_mean=%{x}<br>points_allowed_mean=%{y}<extra></extra>",
         "legendgroup": "Seattle Seahawks",
         "marker": {
          "color": "#FF97FF",
          "symbol": "circle"
         },
         "mode": "markers+text",
         "name": "Seattle Seahawks",
         "orientation": "v",
         "showlegend": true,
         "text": [
          "Seattle Seahawks"
         ],
         "x": [
          23.75
         ],
         "xaxis": "x",
         "y": [
          24.375
         ],
         "yaxis": "y",
         "type": "scatter",
         "textfont": {
          "color": "white",
          "size": 9
         },
         "textposition": "bottom center"
        },
        {
         "hovertemplate": "team_=%{text}<br>points_mean=%{x}<br>points_allowed_mean=%{y}<extra></extra>",
         "legendgroup": "Tampa Bay Buccaneers",
         "marker": {
          "color": "#FECB52",
          "symbol": "circle"
         },
         "mode": "markers+text",
         "name": "Tampa Bay Buccaneers",
         "orientation": "v",
         "showlegend": true,
         "text": [
          "Tampa Bay Buccaneers"
         ],
         "x": [
          29.375
         ],
         "xaxis": "x",
         "y": [
          26.625
         ],
         "yaxis": "y",
         "type": "scatter",
         "textfont": {
          "color": "white",
          "size": 9
         },
         "textposition": "bottom center"
        },
        {
         "hovertemplate": "team_=%{text}<br>points_mean=%{x}<br>points_allowed_mean=%{y}<extra></extra>",
         "legendgroup": "Tennessee Titans",
         "marker": {
          "color": "#636efa",
          "symbol": "circle"
         },
         "mode": "markers+text",
         "name": "Tennessee Titans",
         "orientation": "v",
         "showlegend": true,
         "text": [
          "Tennessee Titans"
         ],
         "x": [
          17.142857142857142
         ],
         "xaxis": "x",
         "y": [
          28.0
         ],
         "yaxis": "y",
         "type": "scatter",
         "textfont": {
          "color": "white",
          "size": 9
         },
         "textposition": "bottom center"
        },
        {
         "hovertemplate": "team_=%{text}<br>points_mean=%{x}<br>points_allowed_mean=%{y}<extra></extra>",
         "legendgroup": "Washington Commanders",
         "marker": {
          "color": "#EF553B",
          "symbol": "circle"
         },
         "mode": "markers+text",
         "name": "Washington Commanders",
         "orientation": "v",
         "showlegend": true,
         "text": [
          "Washington Commanders"
         ],
         "x": [
          29.5
         ],
         "xaxis": "x",
         "y": [
          20.875
         ],
         "yaxis": "y",
         "type": "scatter",
         "textfont": {
          "color": "white",
          "size": 9
         },
         "textposition": "bottom center"
        }
       ],
       "layout": {
        "template": {
         "data": {
          "histogram2dcontour": [
           {
            "type": "histogram2dcontour",
            "colorbar": {
             "outlinewidth": 0,
             "ticks": ""
            },
            "colorscale": [
             [
              0.0,
              "#0d0887"
             ],
             [
              0.1111111111111111,
              "#46039f"
             ],
             [
              0.2222222222222222,
              "#7201a8"
             ],
             [
              0.3333333333333333,
              "#9c179e"
             ],
             [
              0.4444444444444444,
              "#bd3786"
             ],
             [
              0.5555555555555556,
              "#d8576b"
             ],
             [
              0.6666666666666666,
              "#ed7953"
             ],
             [
              0.7777777777777778,
              "#fb9f3a"
             ],
             [
              0.8888888888888888,
              "#fdca26"
             ],
             [
              1.0,
              "#f0f921"
             ]
            ]
           }
          ],
          "choropleth": [
           {
            "type": "choropleth",
            "colorbar": {
             "outlinewidth": 0,
             "ticks": ""
            }
           }
          ],
          "histogram2d": [
           {
            "type": "histogram2d",
            "colorbar": {
             "outlinewidth": 0,
             "ticks": ""
            },
            "colorscale": [
             [
              0.0,
              "#0d0887"
             ],
             [
              0.1111111111111111,
              "#46039f"
             ],
             [
              0.2222222222222222,
              "#7201a8"
             ],
             [
              0.3333333333333333,
              "#9c179e"
             ],
             [
              0.4444444444444444,
              "#bd3786"
             ],
             [
              0.5555555555555556,
              "#d8576b"
             ],
             [
              0.6666666666666666,
              "#ed7953"
             ],
             [
              0.7777777777777778,
              "#fb9f3a"
             ],
             [
              0.8888888888888888,
              "#fdca26"
             ],
             [
              1.0,
              "#f0f921"
             ]
            ]
           }
          ],
          "heatmap": [
           {
            "type": "heatmap",
            "colorbar": {
             "outlinewidth": 0,
             "ticks": ""
            },
            "colorscale": [
             [
              0.0,
              "#0d0887"
             ],
             [
              0.1111111111111111,
              "#46039f"
             ],
             [
              0.2222222222222222,
              "#7201a8"
             ],
             [
              0.3333333333333333,
              "#9c179e"
             ],
             [
              0.4444444444444444,
              "#bd3786"
             ],
             [
              0.5555555555555556,
              "#d8576b"
             ],
             [
              0.6666666666666666,
              "#ed7953"
             ],
             [
              0.7777777777777778,
              "#fb9f3a"
             ],
             [
              0.8888888888888888,
              "#fdca26"
             ],
             [
              1.0,
              "#f0f921"
             ]
            ]
           }
          ],
          "heatmapgl": [
           {
            "type": "heatmapgl",
            "colorbar": {
             "outlinewidth": 0,
             "ticks": ""
            },
            "colorscale": [
             [
              0.0,
              "#0d0887"
             ],
             [
              0.1111111111111111,
              "#46039f"
             ],
             [
              0.2222222222222222,
              "#7201a8"
             ],
             [
              0.3333333333333333,
              "#9c179e"
             ],
             [
              0.4444444444444444,
              "#bd3786"
             ],
             [
              0.5555555555555556,
              "#d8576b"
             ],
             [
              0.6666666666666666,
              "#ed7953"
             ],
             [
              0.7777777777777778,
              "#fb9f3a"
             ],
             [
              0.8888888888888888,
              "#fdca26"
             ],
             [
              1.0,
              "#f0f921"
             ]
            ]
           }
          ],
          "contourcarpet": [
           {
            "type": "contourcarpet",
            "colorbar": {
             "outlinewidth": 0,
             "ticks": ""
            }
           }
          ],
          "contour": [
           {
            "type": "contour",
            "colorbar": {
             "outlinewidth": 0,
             "ticks": ""
            },
            "colorscale": [
             [
              0.0,
              "#0d0887"
             ],
             [
              0.1111111111111111,
              "#46039f"
             ],
             [
              0.2222222222222222,
              "#7201a8"
             ],
             [
              0.3333333333333333,
              "#9c179e"
             ],
             [
              0.4444444444444444,
              "#bd3786"
             ],
             [
              0.5555555555555556,
              "#d8576b"
             ],
             [
              0.6666666666666666,
              "#ed7953"
             ],
             [
              0.7777777777777778,
              "#fb9f3a"
             ],
             [
              0.8888888888888888,
              "#fdca26"
             ],
             [
              1.0,
              "#f0f921"
             ]
            ]
           }
          ],
          "surface": [
           {
            "type": "surface",
            "colorbar": {
             "outlinewidth": 0,
             "ticks": ""
            },
            "colorscale": [
             [
              0.0,
              "#0d0887"
             ],
             [
              0.1111111111111111,
              "#46039f"
             ],
             [
              0.2222222222222222,
              "#7201a8"
             ],
             [
              0.3333333333333333,
              "#9c179e"
             ],
             [
              0.4444444444444444,
              "#bd3786"
             ],
             [
              0.5555555555555556,
              "#d8576b"
             ],
             [
              0.6666666666666666,
              "#ed7953"
             ],
             [
              0.7777777777777778,
              "#fb9f3a"
             ],
             [
              0.8888888888888888,
              "#fdca26"
             ],
             [
              1.0,
              "#f0f921"
             ]
            ]
           }
          ],
          "mesh3d": [
           {
            "type": "mesh3d",
            "colorbar": {
             "outlinewidth": 0,
             "ticks": ""
            }
           }
          ],
          "scatter": [
           {
            "marker": {
             "line": {
              "color": "#283442"
             }
            },
            "type": "scatter"
           }
          ],
          "parcoords": [
           {
            "type": "parcoords",
            "line": {
             "colorbar": {
              "outlinewidth": 0,
              "ticks": ""
             }
            }
           }
          ],
          "scatterpolargl": [
           {
            "type": "scatterpolargl",
            "marker": {
             "colorbar": {
              "outlinewidth": 0,
              "ticks": ""
             }
            }
           }
          ],
          "bar": [
           {
            "error_x": {
             "color": "#f2f5fa"
            },
            "error_y": {
             "color": "#f2f5fa"
            },
            "marker": {
             "line": {
              "color": "rgb(17,17,17)",
              "width": 0.5
             },
             "pattern": {
              "fillmode": "overlay",
              "size": 10,
              "solidity": 0.2
             }
            },
            "type": "bar"
           }
          ],
          "scattergeo": [
           {
            "type": "scattergeo",
            "marker": {
             "colorbar": {
              "outlinewidth": 0,
              "ticks": ""
             }
            }
           }
          ],
          "scatterpolar": [
           {
            "type": "scatterpolar",
            "marker": {
             "colorbar": {
              "outlinewidth": 0,
              "ticks": ""
             }
            }
           }
          ],
          "histogram": [
           {
            "marker": {
             "pattern": {
              "fillmode": "overlay",
              "size": 10,
              "solidity": 0.2
             }
            },
            "type": "histogram"
           }
          ],
          "scattergl": [
           {
            "marker": {
             "line": {
              "color": "#283442"
             }
            },
            "type": "scattergl"
           }
          ],
          "scatter3d": [
           {
            "type": "scatter3d",
            "line": {
             "colorbar": {
              "outlinewidth": 0,
              "ticks": ""
             }
            },
            "marker": {
             "colorbar": {
              "outlinewidth": 0,
              "ticks": ""
             }
            }
           }
          ],
          "scattermapbox": [
           {
            "type": "scattermapbox",
            "marker": {
             "colorbar": {
              "outlinewidth": 0,
              "ticks": ""
             }
            }
           }
          ],
          "scatterternary": [
           {
            "type": "scatterternary",
            "marker": {
             "colorbar": {
              "outlinewidth": 0,
              "ticks": ""
             }
            }
           }
          ],
          "scattercarpet": [
           {
            "type": "scattercarpet",
            "marker": {
             "colorbar": {
              "outlinewidth": 0,
              "ticks": ""
             }
            }
           }
          ],
          "carpet": [
           {
            "aaxis": {
             "endlinecolor": "#A2B1C6",
             "gridcolor": "#506784",
             "linecolor": "#506784",
             "minorgridcolor": "#506784",
             "startlinecolor": "#A2B1C6"
            },
            "baxis": {
             "endlinecolor": "#A2B1C6",
             "gridcolor": "#506784",
             "linecolor": "#506784",
             "minorgridcolor": "#506784",
             "startlinecolor": "#A2B1C6"
            },
            "type": "carpet"
           }
          ],
          "table": [
           {
            "cells": {
             "fill": {
              "color": "#506784"
             },
             "line": {
              "color": "rgb(17,17,17)"
             }
            },
            "header": {
             "fill": {
              "color": "#2a3f5f"
             },
             "line": {
              "color": "rgb(17,17,17)"
             }
            },
            "type": "table"
           }
          ],
          "barpolar": [
           {
            "marker": {
             "line": {
              "color": "rgb(17,17,17)",
              "width": 0.5
             },
             "pattern": {
              "fillmode": "overlay",
              "size": 10,
              "solidity": 0.2
             }
            },
            "type": "barpolar"
           }
          ],
          "pie": [
           {
            "automargin": true,
            "type": "pie"
           }
          ]
         },
         "layout": {
          "autotypenumbers": "strict",
          "colorway": [
           "#636efa",
           "#EF553B",
           "#00cc96",
           "#ab63fa",
           "#FFA15A",
           "#19d3f3",
           "#FF6692",
           "#B6E880",
           "#FF97FF",
           "#FECB52"
          ],
          "font": {
           "color": "#f2f5fa"
          },
          "hovermode": "closest",
          "hoverlabel": {
           "align": "left"
          },
          "paper_bgcolor": "rgb(17,17,17)",
          "plot_bgcolor": "rgb(17,17,17)",
          "polar": {
           "bgcolor": "rgb(17,17,17)",
           "angularaxis": {
            "gridcolor": "#506784",
            "linecolor": "#506784",
            "ticks": ""
           },
           "radialaxis": {
            "gridcolor": "#506784",
            "linecolor": "#506784",
            "ticks": ""
           }
          },
          "ternary": {
           "bgcolor": "rgb(17,17,17)",
           "aaxis": {
            "gridcolor": "#506784",
            "linecolor": "#506784",
            "ticks": ""
           },
           "baxis": {
            "gridcolor": "#506784",
            "linecolor": "#506784",
            "ticks": ""
           },
           "caxis": {
            "gridcolor": "#506784",
            "linecolor": "#506784",
            "ticks": ""
           }
          },
          "coloraxis": {
           "colorbar": {
            "outlinewidth": 0,
            "ticks": ""
           }
          },
          "colorscale": {
           "sequential": [
            [
             0.0,
             "#0d0887"
            ],
            [
             0.1111111111111111,
             "#46039f"
            ],
            [
             0.2222222222222222,
             "#7201a8"
            ],
            [
             0.3333333333333333,
             "#9c179e"
            ],
            [
             0.4444444444444444,
             "#bd3786"
            ],
            [
             0.5555555555555556,
             "#d8576b"
            ],
            [
             0.6666666666666666,
             "#ed7953"
            ],
            [
             0.7777777777777778,
             "#fb9f3a"
            ],
            [
             0.8888888888888888,
             "#fdca26"
            ],
            [
             1.0,
             "#f0f921"
            ]
           ],
           "sequentialminus": [
            [
             0.0,
             "#0d0887"
            ],
            [
             0.1111111111111111,
             "#46039f"
            ],
            [
             0.2222222222222222,
             "#7201a8"
            ],
            [
             0.3333333333333333,
             "#9c179e"
            ],
            [
             0.4444444444444444,
             "#bd3786"
            ],
            [
             0.5555555555555556,
             "#d8576b"
            ],
            [
             0.6666666666666666,
             "#ed7953"
            ],
            [
             0.7777777777777778,
             "#fb9f3a"
            ],
            [
             0.8888888888888888,
             "#fdca26"
            ],
            [
             1.0,
             "#f0f921"
            ]
           ],
           "diverging": [
            [
             0,
             "#8e0152"
            ],
            [
             0.1,
             "#c51b7d"
            ],
            [
             0.2,
             "#de77ae"
            ],
            [
             0.3,
             "#f1b6da"
            ],
            [
             0.4,
             "#fde0ef"
            ],
            [
             0.5,
             "#f7f7f7"
            ],
            [
             0.6,
             "#e6f5d0"
            ],
            [
             0.7,
             "#b8e186"
            ],
            [
             0.8,
             "#7fbc41"
            ],
            [
             0.9,
             "#4d9221"
            ],
            [
             1,
             "#276419"
            ]
           ]
          },
          "xaxis": {
           "gridcolor": "#283442",
           "linecolor": "#506784",
           "ticks": "",
           "title": {
            "standoff": 15
           },
           "zerolinecolor": "#283442",
           "automargin": true,
           "zerolinewidth": 2
          },
          "yaxis": {
           "gridcolor": "#283442",
           "linecolor": "#506784",
           "ticks": "",
           "title": {
            "standoff": 15
           },
           "zerolinecolor": "#283442",
           "automargin": true,
           "zerolinewidth": 2
          },
          "scene": {
           "xaxis": {
            "backgroundcolor": "rgb(17,17,17)",
            "gridcolor": "#506784",
            "linecolor": "#506784",
            "showbackground": true,
            "ticks": "",
            "zerolinecolor": "#C8D4E3",
            "gridwidth": 2
           },
           "yaxis": {
            "backgroundcolor": "rgb(17,17,17)",
            "gridcolor": "#506784",
            "linecolor": "#506784",
            "showbackground": true,
            "ticks": "",
            "zerolinecolor": "#C8D4E3",
            "gridwidth": 2
           },
           "zaxis": {
            "backgroundcolor": "rgb(17,17,17)",
            "gridcolor": "#506784",
            "linecolor": "#506784",
            "showbackground": true,
            "ticks": "",
            "zerolinecolor": "#C8D4E3",
            "gridwidth": 2
           }
          },
          "shapedefaults": {
           "line": {
            "color": "#f2f5fa"
           }
          },
          "annotationdefaults": {
           "arrowcolor": "#f2f5fa",
           "arrowhead": 0,
           "arrowwidth": 1
          },
          "geo": {
           "bgcolor": "rgb(17,17,17)",
           "landcolor": "rgb(17,17,17)",
           "subunitcolor": "#506784",
           "showland": true,
           "showlakes": true,
           "lakecolor": "rgb(17,17,17)"
          },
          "title": {
           "x": 0.05
          },
          "updatemenudefaults": {
           "bgcolor": "#506784",
           "borderwidth": 0
          },
          "sliderdefaults": {
           "bgcolor": "#C8D4E3",
           "borderwidth": 1,
           "bordercolor": "rgb(17,17,17)",
           "tickwidth": 0
          },
          "mapbox": {
           "style": "dark"
          }
         }
        },
        "xaxis": {
         "anchor": "y",
         "domain": [
          0.0,
          1.0
         ],
         "title": {
          "text": "points_mean"
         }
        },
        "yaxis": {
         "anchor": "x",
         "domain": [
          0.0,
          1.0
         ],
         "title": {
          "text": "points_allowed_mean"
         }
        },
        "legend": {
         "title": {
          "text": "team_"
         },
         "tracegroupgap": 0
        },
        "title": {
         "text": "Points Allowed Per Game vs. Points Per Game"
        },
        "height": 700
       },
       "config": {
        "plotlyServerURL": "https://plot.ly"
       }
      },
      "text/html": "<div>                            <div id=\"82189336-cad6-46b5-91e3-161c520e306d\" class=\"plotly-graph-div\" style=\"height:700px; width:100%;\"></div>            <script type=\"text/javascript\">                require([\"plotly\"], function(Plotly) {                    window.PLOTLYENV=window.PLOTLYENV || {};                                    if (document.getElementById(\"82189336-cad6-46b5-91e3-161c520e306d\")) {                    Plotly.newPlot(                        \"82189336-cad6-46b5-91e3-161c520e306d\",                        [{\"hovertemplate\":\"team_=%{text}\\u003cbr\\u003epoints_mean=%{x}\\u003cbr\\u003epoints_allowed_mean=%{y}\\u003cextra\\u003e\\u003c\\u002fextra\\u003e\",\"legendgroup\":\"Arizona Cardinals\",\"marker\":{\"color\":\"#636efa\",\"symbol\":\"circle\"},\"mode\":\"markers+text\",\"name\":\"Arizona Cardinals\",\"orientation\":\"v\",\"showlegend\":true,\"text\":[\"Arizona Cardinals\"],\"x\":[22.25],\"xaxis\":\"x\",\"y\":[25.625],\"yaxis\":\"y\",\"type\":\"scatter\",\"textfont\":{\"color\":\"white\",\"size\":9},\"textposition\":\"bottom center\"},{\"hovertemplate\":\"team_=%{text}\\u003cbr\\u003epoints_mean=%{x}\\u003cbr\\u003epoints_allowed_mean=%{y}\\u003cextra\\u003e\\u003c\\u002fextra\\u003e\",\"legendgroup\":\"Atlanta Falcons\",\"marker\":{\"color\":\"#EF553B\",\"symbol\":\"circle\"},\"mode\":\"markers+text\",\"name\":\"Atlanta Falcons\",\"orientation\":\"v\",\"showlegend\":true,\"text\":[\"Atlanta Falcons\"],\"x\":[24.25],\"xaxis\":\"x\",\"y\":[24.375],\"yaxis\":\"y\",\"type\":\"scatter\",\"textfont\":{\"color\":\"white\",\"size\":9},\"textposition\":\"bottom center\"},{\"hovertemplate\":\"team_=%{text}\\u003cbr\\u003epoints_mean=%{x}\\u003cbr\\u003epoints_allowed_mean=%{y}\\u003cextra\\u003e\\u003c\\u002fextra\\u003e\",\"legendgroup\":\"Baltimore Ravens\",\"marker\":{\"color\":\"#00cc96\",\"symbol\":\"circle\"},\"mode\":\"markers+text\",\"name\":\"Baltimore Ravens\",\"orientation\":\"v\",\"showlegend\":true,\"text\":[\"Baltimore Ravens\"],\"x\":[30.25],\"xaxis\":\"x\",\"y\":[26.125],\"yaxis\":\"y\",\"type\":\"scatter\",\"textfont\":{\"color\":\"white\",\"size\":9},\"textposition\":\"bottom center\"},{\"hovertemplate\":\"team_=%{text}\\u003cbr\\u003epoints_mean=%{x}\\u003cbr\\u003epoints_allowed_mean=%{y}\\u003cextra\\u003e\\u003c\\u002fextra\\u003e\",\"legendgroup\":\"Buffalo Bills\",\"marker\":{\"color\":\"#ab63fa\",\"symbol\":\"circle\"},\"mode\":\"markers+text\",\"name\":\"Buffalo Bills\",\"orientation\":\"v\",\"showlegend\":true,\"text\":[\"Buffalo Bills\"],\"x\":[28.75],\"xaxis\":\"x\",\"y\":[18.25],\"yaxis\":\"y\",\"type\":\"scatter\",\"textfont\":{\"color\":\"white\",\"size\":9},\"textposition\":\"bottom center\"},{\"hovertemplate\":\"team_=%{text}\\u003cbr\\u003epoints_mean=%{x}\\u003cbr\\u003epoints_allowed_mean=%{y}\\u003cextra\\u003e\\u003c\\u002fextra\\u003e\",\"legendgroup\":\"Carolina Panthers\",\"marker\":{\"color\":\"#FFA15A\",\"symbol\":\"circle\"},\"mode\":\"markers+text\",\"name\":\"Carolina Panthers\",\"orientation\":\"v\",\"showlegend\":true,\"text\":[\"Carolina Panthers\"],\"x\":[15.5],\"xaxis\":\"x\",\"y\":[33.875],\"yaxis\":\"y\",\"type\":\"scatter\",\"textfont\":{\"color\":\"white\",\"size\":9},\"textposition\":\"bottom center\"},{\"hovertemplate\":\"team_=%{text}\\u003cbr\\u003epoints_mean=%{x}\\u003cbr\\u003epoints_allowed_mean=%{y}\\u003cextra\\u003e\\u003c\\u002fextra\\u003e\",\"legendgroup\":\"Chicago Bears\",\"marker\":{\"color\":\"#19d3f3\",\"symbol\":\"circle\"},\"mode\":\"markers+text\",\"name\":\"Chicago Bears\",\"orientation\":\"v\",\"showlegend\":true,\"text\":[\"Chicago Bears\"],\"x\":[23.285714285714285],\"xaxis\":\"x\",\"y\":[17.0],\"yaxis\":\"y\",\"type\":\"scatter\",\"textfont\":{\"color\":\"white\",\"size\":9},\"textposition\":\"bottom center\"},{\"hovertemplate\":\"team_=%{text}\\u003cbr\\u003epoints_mean=%{x}\\u003cbr\\u003epoints_allowed_mean=%{y}\\u003cextra\\u003e\\u003c\\u002fextra\\u003e\",\"legendgroup\":\"Cincinnati Bengals\",\"marker\":{\"color\":\"#FF6692\",\"symbol\":\"circle\"},\"mode\":\"markers+text\",\"name\":\"Cincinnati Bengals\",\"orientation\":\"v\",\"showlegend\":true,\"text\":[\"Cincinnati Bengals\"],\"x\":[24.375],\"xaxis\":\"x\",\"y\":[25.375],\"yaxis\":\"y\",\"type\":\"scatter\",\"textfont\":{\"color\":\"white\",\"size\":9},\"textposition\":\"bottom center\"},{\"hovertemplate\":\"team_=%{text}\\u003cbr\\u003epoints_mean=%{x}\\u003cbr\\u003epoints_allowed_mean=%{y}\\u003cextra\\u003e\\u003c\\u002fextra\\u003e\",\"legendgroup\":\"Cleveland Browns\",\"marker\":{\"color\":\"#B6E880\",\"symbol\":\"circle\"},\"mode\":\"markers+text\",\"name\":\"Cleveland Browns\",\"orientation\":\"v\",\"showlegend\":true,\"text\":[\"Cleveland Browns\"],\"x\":[17.25],\"xaxis\":\"x\",\"y\":[23.25],\"yaxis\":\"y\",\"type\":\"scatter\",\"textfont\":{\"color\":\"white\",\"size\":9},\"textposition\":\"bottom center\"},{\"hovertemplate\":\"team_=%{text}\\u003cbr\\u003epoints_mean=%{x}\\u003cbr\\u003epoints_allowed_mean=%{y}\\u003cextra\\u003e\\u003c\\u002fextra\\u003e\",\"legendgroup\":\"Dallas Cowboys\",\"marker\":{\"color\":\"#FF97FF\",\"symbol\":\"circle\"},\"mode\":\"markers+text\",\"name\":\"Dallas Cowboys\",\"orientation\":\"v\",\"showlegend\":true,\"text\":[\"Dallas Cowboys\"],\"x\":[21.428571428571427],\"xaxis\":\"x\",\"y\":[28.285714285714285],\"yaxis\":\"y\",\"type\":\"scatter\",\"textfont\":{\"color\":\"white\",\"size\":9},\"textposition\":\"bottom center\"},{\"hovertemplate\":\"team_=%{text}\\u003cbr\\u003epoints_mean=%{x}\\u003cbr\\u003epoints_allowed_mean=%{y}\\u003cextra\\u003e\\u003c\\u002fextra\\u003e\",\"legendgroup\":\"Denver Broncos\",\"marker\":{\"color\":\"#FECB52\",\"symbol\":\"circle\"},\"mode\":\"markers+text\",\"name\":\"Denver Broncos\",\"orientation\":\"v\",\"showlegend\":true,\"text\":[\"Denver Broncos\"],\"x\":[21.625],\"xaxis\":\"x\",\"y\":[15.0],\"yaxis\":\"y\",\"type\":\"scatter\",\"textfont\":{\"color\":\"white\",\"size\":9},\"textposition\":\"bottom center\"},{\"hovertemplate\":\"team_=%{text}\\u003cbr\\u003epoints_mean=%{x}\\u003cbr\\u003epoints_allowed_mean=%{y}\\u003cextra\\u003e\\u003c\\u002fextra\\u003e\",\"legendgroup\":\"Detroit Lions\",\"marker\":{\"color\":\"#636efa\",\"symbol\":\"circle\"},\"mode\":\"markers+text\",\"name\":\"Detroit Lions\",\"orientation\":\"v\",\"showlegend\":true,\"text\":[\"Detroit Lions\"],\"x\":[33.42857142857143],\"xaxis\":\"x\",\"y\":[19.142857142857142],\"yaxis\":\"y\",\"type\":\"scatter\",\"textfont\":{\"color\":\"white\",\"size\":9},\"textposition\":\"bottom center\"},{\"hovertemplate\":\"team_=%{text}\\u003cbr\\u003epoints_mean=%{x}\\u003cbr\\u003epoints_allowed_mean=%{y}\\u003cextra\\u003e\\u003c\\u002fextra\\u003e\",\"legendgroup\":\"Green Bay Packers\",\"marker\":{\"color\":\"#EF553B\",\"symbol\":\"circle\"},\"mode\":\"markers+text\",\"name\":\"Green Bay Packers\",\"orientation\":\"v\",\"showlegend\":true,\"text\":[\"Green Bay Packers\"],\"x\":[27.0],\"xaxis\":\"x\",\"y\":[21.25],\"yaxis\":\"y\",\"type\":\"scatter\",\"textfont\":{\"color\":\"white\",\"size\":9},\"textposition\":\"bottom center\"},{\"hovertemplate\":\"team_=%{text}\\u003cbr\\u003epoints_mean=%{x}\\u003cbr\\u003epoints_allowed_mean=%{y}\\u003cextra\\u003e\\u003c\\u002fextra\\u003e\",\"legendgroup\":\"Houston Texans\",\"marker\":{\"color\":\"#00cc96\",\"symbol\":\"circle\"},\"mode\":\"markers+text\",\"name\":\"Houston Texans\",\"orientation\":\"v\",\"showlegend\":true,\"text\":[\"Houston Texans\"],\"x\":[23.5],\"xaxis\":\"x\",\"y\":[22.375],\"yaxis\":\"y\",\"type\":\"scatter\",\"textfont\":{\"color\":\"white\",\"size\":9},\"textposition\":\"bottom center\"},{\"hovertemplate\":\"team_=%{text}\\u003cbr\\u003epoints_mean=%{x}\\u003cbr\\u003epoints_allowed_mean=%{y}\\u003cextra\\u003e\\u003c\\u002fextra\\u003e\",\"legendgroup\":\"Indianapolis Colts\",\"marker\":{\"color\":\"#ab63fa\",\"symbol\":\"circle\"},\"mode\":\"markers+text\",\"name\":\"Indianapolis Colts\",\"orientation\":\"v\",\"showlegend\":true,\"text\":[\"Indianapolis Colts\"],\"x\":[21.875],\"xaxis\":\"x\",\"y\":[21.5],\"yaxis\":\"y\",\"type\":\"scatter\",\"textfont\":{\"color\":\"white\",\"size\":9},\"textposition\":\"bottom center\"},{\"hovertemplate\":\"team_=%{text}\\u003cbr\\u003epoints_mean=%{x}\\u003cbr\\u003epoints_allowed_mean=%{y}\\u003cextra\\u003e\\u003c\\u002fextra\\u003e\",\"legendgroup\":\"Jacksonville Jaguars\",\"marker\":{\"color\":\"#FFA15A\",\"symbol\":\"circle\"},\"mode\":\"markers+text\",\"name\":\"Jacksonville Jaguars\",\"orientation\":\"v\",\"showlegend\":true,\"text\":[\"Jacksonville Jaguars\"],\"x\":[21.5],\"xaxis\":\"x\",\"y\":[28.0],\"yaxis\":\"y\",\"type\":\"scatter\",\"textfont\":{\"color\":\"white\",\"size\":9},\"textposition\":\"bottom center\"},{\"hovertemplate\":\"team_=%{text}\\u003cbr\\u003epoints_mean=%{x}\\u003cbr\\u003epoints_allowed_mean=%{y}\\u003cextra\\u003e\\u003c\\u002fextra\\u003e\",\"legendgroup\":\"Kansas City Chiefs\",\"marker\":{\"color\":\"#19d3f3\",\"symbol\":\"circle\"},\"mode\":\"markers+text\",\"name\":\"Kansas City Chiefs\",\"orientation\":\"v\",\"showlegend\":true,\"text\":[\"Kansas City Chiefs\"],\"x\":[24.714285714285715],\"xaxis\":\"x\",\"y\":[17.571428571428573],\"yaxis\":\"y\",\"type\":\"scatter\",\"textfont\":{\"color\":\"white\",\"size\":9},\"textposition\":\"bottom center\"},{\"hovertemplate\":\"team_=%{text}\\u003cbr\\u003epoints_mean=%{x}\\u003cbr\\u003epoints_allowed_mean=%{y}\\u003cextra\\u003e\\u003c\\u002fextra\\u003e\",\"legendgroup\":\"Las Vegas Raiders\",\"marker\":{\"color\":\"#FF6692\",\"symbol\":\"circle\"},\"mode\":\"markers+text\",\"name\":\"Las Vegas Raiders\",\"orientation\":\"v\",\"showlegend\":true,\"text\":[\"Las Vegas Raiders\"],\"x\":[18.0],\"xaxis\":\"x\",\"y\":[26.25],\"yaxis\":\"y\",\"type\":\"scatter\",\"textfont\":{\"color\":\"white\",\"size\":9},\"textposition\":\"bottom center\"},{\"hovertemplate\":\"team_=%{text}\\u003cbr\\u003epoints_mean=%{x}\\u003cbr\\u003epoints_allowed_mean=%{y}\\u003cextra\\u003e\\u003c\\u002fextra\\u003e\",\"legendgroup\":\"Los Angeles Chargers\",\"marker\":{\"color\":\"#B6E880\",\"symbol\":\"circle\"},\"mode\":\"markers+text\",\"name\":\"Los Angeles Chargers\",\"orientation\":\"v\",\"showlegend\":true,\"text\":[\"Los Angeles Chargers\"],\"x\":[18.857142857142858],\"xaxis\":\"x\",\"y\":[13.0],\"yaxis\":\"y\",\"type\":\"scatter\",\"textfont\":{\"color\":\"white\",\"size\":9},\"textposition\":\"bottom center\"},{\"hovertemplate\":\"team_=%{text}\\u003cbr\\u003epoints_mean=%{x}\\u003cbr\\u003epoints_allowed_mean=%{y}\\u003cextra\\u003e\\u003c\\u002fextra\\u003e\",\"legendgroup\":\"Los Angeles Rams\",\"marker\":{\"color\":\"#FF97FF\",\"symbol\":\"circle\"},\"mode\":\"markers+text\",\"name\":\"Los Angeles Rams\",\"orientation\":\"v\",\"showlegend\":true,\"text\":[\"Los Angeles Rams\"],\"x\":[20.571428571428573],\"xaxis\":\"x\",\"y\":[24.857142857142858],\"yaxis\":\"y\",\"type\":\"scatter\",\"textfont\":{\"color\":\"white\",\"size\":9},\"textposition\":\"bottom center\"},{\"hovertemplate\":\"team_=%{text}\\u003cbr\\u003epoints_mean=%{x}\\u003cbr\\u003epoints_allowed_mean=%{y}\\u003cextra\\u003e\\u003c\\u002fextra\\u003e\",\"legendgroup\":\"Miami Dolphins\",\"marker\":{\"color\":\"#FECB52\",\"symbol\":\"circle\"},\"mode\":\"markers+text\",\"name\":\"Miami Dolphins\",\"orientation\":\"v\",\"showlegend\":true,\"text\":[\"Miami Dolphins\"],\"x\":[13.857142857142858],\"xaxis\":\"x\",\"y\":[22.428571428571427],\"yaxis\":\"y\",\"type\":\"scatter\",\"textfont\":{\"color\":\"white\",\"size\":9},\"textposition\":\"bottom center\"},{\"hovertemplate\":\"team_=%{text}\\u003cbr\\u003epoints_mean=%{x}\\u003cbr\\u003epoints_allowed_mean=%{y}\\u003cextra\\u003e\\u003c\\u002fextra\\u003e\",\"legendgroup\":\"Minnesota Vikings\",\"marker\":{\"color\":\"#636efa\",\"symbol\":\"circle\"},\"mode\":\"markers+text\",\"name\":\"Minnesota Vikings\",\"orientation\":\"v\",\"showlegend\":true,\"text\":[\"Minnesota Vikings\"],\"x\":[26.857142857142858],\"xaxis\":\"x\",\"y\":[19.571428571428573],\"yaxis\":\"y\",\"type\":\"scatter\",\"textfont\":{\"color\":\"white\",\"size\":9},\"textposition\":\"bottom center\"},{\"hovertemplate\":\"team_=%{text}\\u003cbr\\u003epoints_mean=%{x}\\u003cbr\\u003epoints_allowed_mean=%{y}\\u003cextra\\u003e\\u003c\\u002fextra\\u003e\",\"legendgroup\":\"New England Patriots\",\"marker\":{\"color\":\"#EF553B\",\"symbol\":\"circle\"},\"mode\":\"markers+text\",\"name\":\"New England Patriots\",\"orientation\":\"v\",\"showlegend\":true,\"text\":[\"New England Patriots\"],\"x\":[15.5],\"xaxis\":\"x\",\"y\":[24.625],\"yaxis\":\"y\",\"type\":\"scatter\",\"textfont\":{\"color\":\"white\",\"size\":9},\"textposition\":\"bottom center\"},{\"hovertemplate\":\"team_=%{text}\\u003cbr\\u003epoints_mean=%{x}\\u003cbr\\u003epoints_allowed_mean=%{y}\\u003cextra\\u003e\\u003c\\u002fextra\\u003e\",\"legendgroup\":\"New Orleans Saints\",\"marker\":{\"color\":\"#00cc96\",\"symbol\":\"circle\"},\"mode\":\"markers+text\",\"name\":\"New Orleans Saints\",\"orientation\":\"v\",\"showlegend\":true,\"text\":[\"New Orleans Saints\"],\"x\":[23.125],\"xaxis\":\"x\",\"y\":[25.75],\"yaxis\":\"y\",\"type\":\"scatter\",\"textfont\":{\"color\":\"white\",\"size\":9},\"textposition\":\"bottom center\"},{\"hovertemplate\":\"team_=%{text}\\u003cbr\\u003epoints_mean=%{x}\\u003cbr\\u003epoints_allowed_mean=%{y}\\u003cextra\\u003e\\u003c\\u002fextra\\u003e\",\"legendgroup\":\"New York Giants\",\"marker\":{\"color\":\"#ab63fa\",\"symbol\":\"circle\"},\"mode\":\"markers+text\",\"name\":\"New York Giants\",\"orientation\":\"v\",\"showlegend\":true,\"text\":[\"New York Giants\"],\"x\":[14.142857142857142],\"xaxis\":\"x\",\"y\":[21.285714285714285],\"yaxis\":\"y\",\"type\":\"scatter\",\"textfont\":{\"color\":\"white\",\"size\":9},\"textposition\":\"bottom center\"},{\"hovertemplate\":\"team_=%{text}\\u003cbr\\u003epoints_mean=%{x}\\u003cbr\\u003epoints_allowed_mean=%{y}\\u003cextra\\u003e\\u003c\\u002fextra\\u003e\",\"legendgroup\":\"New York Jets\",\"marker\":{\"color\":\"#FFA15A\",\"symbol\":\"circle\"},\"mode\":\"markers+text\",\"name\":\"New York Jets\",\"orientation\":\"v\",\"showlegend\":true,\"text\":[\"New York Jets\"],\"x\":[18.75],\"xaxis\":\"x\",\"y\":[21.25],\"yaxis\":\"y\",\"type\":\"scatter\",\"textfont\":{\"color\":\"white\",\"size\":9},\"textposition\":\"bottom center\"},{\"hovertemplate\":\"team_=%{text}\\u003cbr\\u003epoints_mean=%{x}\\u003cbr\\u003epoints_allowed_mean=%{y}\\u003cextra\\u003e\\u003c\\u002fextra\\u003e\",\"legendgroup\":\"Philadelphia Eagles\",\"marker\":{\"color\":\"#19d3f3\",\"symbol\":\"circle\"},\"mode\":\"markers+text\",\"name\":\"Philadelphia Eagles\",\"orientation\":\"v\",\"showlegend\":true,\"text\":[\"Philadelphia Eagles\"],\"x\":[24.428571428571427],\"xaxis\":\"x\",\"y\":[18.857142857142858],\"yaxis\":\"y\",\"type\":\"scatter\",\"textfont\":{\"color\":\"white\",\"size\":9},\"textposition\":\"bottom center\"},{\"hovertemplate\":\"team_=%{text}\\u003cbr\\u003epoints_mean=%{x}\\u003cbr\\u003epoints_allowed_mean=%{y}\\u003cextra\\u003e\\u003c\\u002fextra\\u003e\",\"legendgroup\":\"Pittsburgh Steelers\",\"marker\":{\"color\":\"#FF6692\",\"symbol\":\"circle\"},\"mode\":\"markers+text\",\"name\":\"Pittsburgh Steelers\",\"orientation\":\"v\",\"showlegend\":true,\"text\":[\"Pittsburgh Steelers\"],\"x\":[23.0],\"xaxis\":\"x\",\"y\":[14.428571428571429],\"yaxis\":\"y\",\"type\":\"scatter\",\"textfont\":{\"color\":\"white\",\"size\":9},\"textposition\":\"bottom center\"},{\"hovertemplate\":\"team_=%{text}\\u003cbr\\u003epoints_mean=%{x}\\u003cbr\\u003epoints_allowed_mean=%{y}\\u003cextra\\u003e\\u003c\\u002fextra\\u003e\",\"legendgroup\":\"San Francisco 49ers\",\"marker\":{\"color\":\"#B6E880\",\"symbol\":\"circle\"},\"mode\":\"markers+text\",\"name\":\"San Francisco 49ers\",\"orientation\":\"v\",\"showlegend\":true,\"text\":[\"San Francisco 49ers\"],\"x\":[26.25],\"xaxis\":\"x\",\"y\":[22.75],\"yaxis\":\"y\",\"type\":\"scatter\",\"textfont\":{\"color\":\"white\",\"size\":9},\"textposition\":\"bottom center\"},{\"hovertemplate\":\"team_=%{text}\\u003cbr\\u003epoints_mean=%{x}\\u003cbr\\u003epoints_allowed_mean=%{y}\\u003cextra\\u003e\\u003c\\u002fextra\\u003e\",\"legendgroup\":\"Seattle Seahawks\",\"marker\":{\"color\":\"#FF97FF\",\"symbol\":\"circle\"},\"mode\":\"markers+text\",\"name\":\"Seattle Seahawks\",\"orientation\":\"v\",\"showlegend\":true,\"text\":[\"Seattle Seahawks\"],\"x\":[23.75],\"xaxis\":\"x\",\"y\":[24.375],\"yaxis\":\"y\",\"type\":\"scatter\",\"textfont\":{\"color\":\"white\",\"size\":9},\"textposition\":\"bottom center\"},{\"hovertemplate\":\"team_=%{text}\\u003cbr\\u003epoints_mean=%{x}\\u003cbr\\u003epoints_allowed_mean=%{y}\\u003cextra\\u003e\\u003c\\u002fextra\\u003e\",\"legendgroup\":\"Tampa Bay Buccaneers\",\"marker\":{\"color\":\"#FECB52\",\"symbol\":\"circle\"},\"mode\":\"markers+text\",\"name\":\"Tampa Bay Buccaneers\",\"orientation\":\"v\",\"showlegend\":true,\"text\":[\"Tampa Bay Buccaneers\"],\"x\":[29.375],\"xaxis\":\"x\",\"y\":[26.625],\"yaxis\":\"y\",\"type\":\"scatter\",\"textfont\":{\"color\":\"white\",\"size\":9},\"textposition\":\"bottom center\"},{\"hovertemplate\":\"team_=%{text}\\u003cbr\\u003epoints_mean=%{x}\\u003cbr\\u003epoints_allowed_mean=%{y}\\u003cextra\\u003e\\u003c\\u002fextra\\u003e\",\"legendgroup\":\"Tennessee Titans\",\"marker\":{\"color\":\"#636efa\",\"symbol\":\"circle\"},\"mode\":\"markers+text\",\"name\":\"Tennessee Titans\",\"orientation\":\"v\",\"showlegend\":true,\"text\":[\"Tennessee Titans\"],\"x\":[17.142857142857142],\"xaxis\":\"x\",\"y\":[28.0],\"yaxis\":\"y\",\"type\":\"scatter\",\"textfont\":{\"color\":\"white\",\"size\":9},\"textposition\":\"bottom center\"},{\"hovertemplate\":\"team_=%{text}\\u003cbr\\u003epoints_mean=%{x}\\u003cbr\\u003epoints_allowed_mean=%{y}\\u003cextra\\u003e\\u003c\\u002fextra\\u003e\",\"legendgroup\":\"Washington Commanders\",\"marker\":{\"color\":\"#EF553B\",\"symbol\":\"circle\"},\"mode\":\"markers+text\",\"name\":\"Washington Commanders\",\"orientation\":\"v\",\"showlegend\":true,\"text\":[\"Washington Commanders\"],\"x\":[29.5],\"xaxis\":\"x\",\"y\":[20.875],\"yaxis\":\"y\",\"type\":\"scatter\",\"textfont\":{\"color\":\"white\",\"size\":9},\"textposition\":\"bottom center\"}],                        {\"template\":{\"data\":{\"histogram2dcontour\":[{\"type\":\"histogram2dcontour\",\"colorbar\":{\"outlinewidth\":0,\"ticks\":\"\"},\"colorscale\":[[0.0,\"#0d0887\"],[0.1111111111111111,\"#46039f\"],[0.2222222222222222,\"#7201a8\"],[0.3333333333333333,\"#9c179e\"],[0.4444444444444444,\"#bd3786\"],[0.5555555555555556,\"#d8576b\"],[0.6666666666666666,\"#ed7953\"],[0.7777777777777778,\"#fb9f3a\"],[0.8888888888888888,\"#fdca26\"],[1.0,\"#f0f921\"]]}],\"choropleth\":[{\"type\":\"choropleth\",\"colorbar\":{\"outlinewidth\":0,\"ticks\":\"\"}}],\"histogram2d\":[{\"type\":\"histogram2d\",\"colorbar\":{\"outlinewidth\":0,\"ticks\":\"\"},\"colorscale\":[[0.0,\"#0d0887\"],[0.1111111111111111,\"#46039f\"],[0.2222222222222222,\"#7201a8\"],[0.3333333333333333,\"#9c179e\"],[0.4444444444444444,\"#bd3786\"],[0.5555555555555556,\"#d8576b\"],[0.6666666666666666,\"#ed7953\"],[0.7777777777777778,\"#fb9f3a\"],[0.8888888888888888,\"#fdca26\"],[1.0,\"#f0f921\"]]}],\"heatmap\":[{\"type\":\"heatmap\",\"colorbar\":{\"outlinewidth\":0,\"ticks\":\"\"},\"colorscale\":[[0.0,\"#0d0887\"],[0.1111111111111111,\"#46039f\"],[0.2222222222222222,\"#7201a8\"],[0.3333333333333333,\"#9c179e\"],[0.4444444444444444,\"#bd3786\"],[0.5555555555555556,\"#d8576b\"],[0.6666666666666666,\"#ed7953\"],[0.7777777777777778,\"#fb9f3a\"],[0.8888888888888888,\"#fdca26\"],[1.0,\"#f0f921\"]]}],\"heatmapgl\":[{\"type\":\"heatmapgl\",\"colorbar\":{\"outlinewidth\":0,\"ticks\":\"\"},\"colorscale\":[[0.0,\"#0d0887\"],[0.1111111111111111,\"#46039f\"],[0.2222222222222222,\"#7201a8\"],[0.3333333333333333,\"#9c179e\"],[0.4444444444444444,\"#bd3786\"],[0.5555555555555556,\"#d8576b\"],[0.6666666666666666,\"#ed7953\"],[0.7777777777777778,\"#fb9f3a\"],[0.8888888888888888,\"#fdca26\"],[1.0,\"#f0f921\"]]}],\"contourcarpet\":[{\"type\":\"contourcarpet\",\"colorbar\":{\"outlinewidth\":0,\"ticks\":\"\"}}],\"contour\":[{\"type\":\"contour\",\"colorbar\":{\"outlinewidth\":0,\"ticks\":\"\"},\"colorscale\":[[0.0,\"#0d0887\"],[0.1111111111111111,\"#46039f\"],[0.2222222222222222,\"#7201a8\"],[0.3333333333333333,\"#9c179e\"],[0.4444444444444444,\"#bd3786\"],[0.5555555555555556,\"#d8576b\"],[0.6666666666666666,\"#ed7953\"],[0.7777777777777778,\"#fb9f3a\"],[0.8888888888888888,\"#fdca26\"],[1.0,\"#f0f921\"]]}],\"surface\":[{\"type\":\"surface\",\"colorbar\":{\"outlinewidth\":0,\"ticks\":\"\"},\"colorscale\":[[0.0,\"#0d0887\"],[0.1111111111111111,\"#46039f\"],[0.2222222222222222,\"#7201a8\"],[0.3333333333333333,\"#9c179e\"],[0.4444444444444444,\"#bd3786\"],[0.5555555555555556,\"#d8576b\"],[0.6666666666666666,\"#ed7953\"],[0.7777777777777778,\"#fb9f3a\"],[0.8888888888888888,\"#fdca26\"],[1.0,\"#f0f921\"]]}],\"mesh3d\":[{\"type\":\"mesh3d\",\"colorbar\":{\"outlinewidth\":0,\"ticks\":\"\"}}],\"scatter\":[{\"marker\":{\"line\":{\"color\":\"#283442\"}},\"type\":\"scatter\"}],\"parcoords\":[{\"type\":\"parcoords\",\"line\":{\"colorbar\":{\"outlinewidth\":0,\"ticks\":\"\"}}}],\"scatterpolargl\":[{\"type\":\"scatterpolargl\",\"marker\":{\"colorbar\":{\"outlinewidth\":0,\"ticks\":\"\"}}}],\"bar\":[{\"error_x\":{\"color\":\"#f2f5fa\"},\"error_y\":{\"color\":\"#f2f5fa\"},\"marker\":{\"line\":{\"color\":\"rgb(17,17,17)\",\"width\":0.5},\"pattern\":{\"fillmode\":\"overlay\",\"size\":10,\"solidity\":0.2}},\"type\":\"bar\"}],\"scattergeo\":[{\"type\":\"scattergeo\",\"marker\":{\"colorbar\":{\"outlinewidth\":0,\"ticks\":\"\"}}}],\"scatterpolar\":[{\"type\":\"scatterpolar\",\"marker\":{\"colorbar\":{\"outlinewidth\":0,\"ticks\":\"\"}}}],\"histogram\":[{\"marker\":{\"pattern\":{\"fillmode\":\"overlay\",\"size\":10,\"solidity\":0.2}},\"type\":\"histogram\"}],\"scattergl\":[{\"marker\":{\"line\":{\"color\":\"#283442\"}},\"type\":\"scattergl\"}],\"scatter3d\":[{\"type\":\"scatter3d\",\"line\":{\"colorbar\":{\"outlinewidth\":0,\"ticks\":\"\"}},\"marker\":{\"colorbar\":{\"outlinewidth\":0,\"ticks\":\"\"}}}],\"scattermapbox\":[{\"type\":\"scattermapbox\",\"marker\":{\"colorbar\":{\"outlinewidth\":0,\"ticks\":\"\"}}}],\"scatterternary\":[{\"type\":\"scatterternary\",\"marker\":{\"colorbar\":{\"outlinewidth\":0,\"ticks\":\"\"}}}],\"scattercarpet\":[{\"type\":\"scattercarpet\",\"marker\":{\"colorbar\":{\"outlinewidth\":0,\"ticks\":\"\"}}}],\"carpet\":[{\"aaxis\":{\"endlinecolor\":\"#A2B1C6\",\"gridcolor\":\"#506784\",\"linecolor\":\"#506784\",\"minorgridcolor\":\"#506784\",\"startlinecolor\":\"#A2B1C6\"},\"baxis\":{\"endlinecolor\":\"#A2B1C6\",\"gridcolor\":\"#506784\",\"linecolor\":\"#506784\",\"minorgridcolor\":\"#506784\",\"startlinecolor\":\"#A2B1C6\"},\"type\":\"carpet\"}],\"table\":[{\"cells\":{\"fill\":{\"color\":\"#506784\"},\"line\":{\"color\":\"rgb(17,17,17)\"}},\"header\":{\"fill\":{\"color\":\"#2a3f5f\"},\"line\":{\"color\":\"rgb(17,17,17)\"}},\"type\":\"table\"}],\"barpolar\":[{\"marker\":{\"line\":{\"color\":\"rgb(17,17,17)\",\"width\":0.5},\"pattern\":{\"fillmode\":\"overlay\",\"size\":10,\"solidity\":0.2}},\"type\":\"barpolar\"}],\"pie\":[{\"automargin\":true,\"type\":\"pie\"}]},\"layout\":{\"autotypenumbers\":\"strict\",\"colorway\":[\"#636efa\",\"#EF553B\",\"#00cc96\",\"#ab63fa\",\"#FFA15A\",\"#19d3f3\",\"#FF6692\",\"#B6E880\",\"#FF97FF\",\"#FECB52\"],\"font\":{\"color\":\"#f2f5fa\"},\"hovermode\":\"closest\",\"hoverlabel\":{\"align\":\"left\"},\"paper_bgcolor\":\"rgb(17,17,17)\",\"plot_bgcolor\":\"rgb(17,17,17)\",\"polar\":{\"bgcolor\":\"rgb(17,17,17)\",\"angularaxis\":{\"gridcolor\":\"#506784\",\"linecolor\":\"#506784\",\"ticks\":\"\"},\"radialaxis\":{\"gridcolor\":\"#506784\",\"linecolor\":\"#506784\",\"ticks\":\"\"}},\"ternary\":{\"bgcolor\":\"rgb(17,17,17)\",\"aaxis\":{\"gridcolor\":\"#506784\",\"linecolor\":\"#506784\",\"ticks\":\"\"},\"baxis\":{\"gridcolor\":\"#506784\",\"linecolor\":\"#506784\",\"ticks\":\"\"},\"caxis\":{\"gridcolor\":\"#506784\",\"linecolor\":\"#506784\",\"ticks\":\"\"}},\"coloraxis\":{\"colorbar\":{\"outlinewidth\":0,\"ticks\":\"\"}},\"colorscale\":{\"sequential\":[[0.0,\"#0d0887\"],[0.1111111111111111,\"#46039f\"],[0.2222222222222222,\"#7201a8\"],[0.3333333333333333,\"#9c179e\"],[0.4444444444444444,\"#bd3786\"],[0.5555555555555556,\"#d8576b\"],[0.6666666666666666,\"#ed7953\"],[0.7777777777777778,\"#fb9f3a\"],[0.8888888888888888,\"#fdca26\"],[1.0,\"#f0f921\"]],\"sequentialminus\":[[0.0,\"#0d0887\"],[0.1111111111111111,\"#46039f\"],[0.2222222222222222,\"#7201a8\"],[0.3333333333333333,\"#9c179e\"],[0.4444444444444444,\"#bd3786\"],[0.5555555555555556,\"#d8576b\"],[0.6666666666666666,\"#ed7953\"],[0.7777777777777778,\"#fb9f3a\"],[0.8888888888888888,\"#fdca26\"],[1.0,\"#f0f921\"]],\"diverging\":[[0,\"#8e0152\"],[0.1,\"#c51b7d\"],[0.2,\"#de77ae\"],[0.3,\"#f1b6da\"],[0.4,\"#fde0ef\"],[0.5,\"#f7f7f7\"],[0.6,\"#e6f5d0\"],[0.7,\"#b8e186\"],[0.8,\"#7fbc41\"],[0.9,\"#4d9221\"],[1,\"#276419\"]]},\"xaxis\":{\"gridcolor\":\"#283442\",\"linecolor\":\"#506784\",\"ticks\":\"\",\"title\":{\"standoff\":15},\"zerolinecolor\":\"#283442\",\"automargin\":true,\"zerolinewidth\":2},\"yaxis\":{\"gridcolor\":\"#283442\",\"linecolor\":\"#506784\",\"ticks\":\"\",\"title\":{\"standoff\":15},\"zerolinecolor\":\"#283442\",\"automargin\":true,\"zerolinewidth\":2},\"scene\":{\"xaxis\":{\"backgroundcolor\":\"rgb(17,17,17)\",\"gridcolor\":\"#506784\",\"linecolor\":\"#506784\",\"showbackground\":true,\"ticks\":\"\",\"zerolinecolor\":\"#C8D4E3\",\"gridwidth\":2},\"yaxis\":{\"backgroundcolor\":\"rgb(17,17,17)\",\"gridcolor\":\"#506784\",\"linecolor\":\"#506784\",\"showbackground\":true,\"ticks\":\"\",\"zerolinecolor\":\"#C8D4E3\",\"gridwidth\":2},\"zaxis\":{\"backgroundcolor\":\"rgb(17,17,17)\",\"gridcolor\":\"#506784\",\"linecolor\":\"#506784\",\"showbackground\":true,\"ticks\":\"\",\"zerolinecolor\":\"#C8D4E3\",\"gridwidth\":2}},\"shapedefaults\":{\"line\":{\"color\":\"#f2f5fa\"}},\"annotationdefaults\":{\"arrowcolor\":\"#f2f5fa\",\"arrowhead\":0,\"arrowwidth\":1},\"geo\":{\"bgcolor\":\"rgb(17,17,17)\",\"landcolor\":\"rgb(17,17,17)\",\"subunitcolor\":\"#506784\",\"showland\":true,\"showlakes\":true,\"lakecolor\":\"rgb(17,17,17)\"},\"title\":{\"x\":0.05},\"updatemenudefaults\":{\"bgcolor\":\"#506784\",\"borderwidth\":0},\"sliderdefaults\":{\"bgcolor\":\"#C8D4E3\",\"borderwidth\":1,\"bordercolor\":\"rgb(17,17,17)\",\"tickwidth\":0},\"mapbox\":{\"style\":\"dark\"}}},\"xaxis\":{\"anchor\":\"y\",\"domain\":[0.0,1.0],\"title\":{\"text\":\"points_mean\"}},\"yaxis\":{\"anchor\":\"x\",\"domain\":[0.0,1.0],\"title\":{\"text\":\"points_allowed_mean\"}},\"legend\":{\"title\":{\"text\":\"team_\"},\"tracegroupgap\":0},\"title\":{\"text\":\"Points Allowed Per Game vs. Points Per Game\"},\"height\":700},                        {\"responsive\": true}                    ).then(function(){\n                            \nvar gd = document.getElementById('82189336-cad6-46b5-91e3-161c520e306d');\nvar x = new MutationObserver(function (mutations, observer) {{\n        var display = window.getComputedStyle(gd).display;\n        if (!display || display === 'none') {{\n            console.log([gd, 'removed!']);\n            Plotly.purge(gd);\n            observer.disconnect();\n        }}\n}});\n\n// Listen for the removal of the full notebook cells\nvar notebookContainer = gd.closest('#notebook-container');\nif (notebookContainer) {{\n    x.observe(notebookContainer, {childList: true});\n}}\n\n// Listen for the clearing of the current output cell\nvar outputEl = gd.closest('.output');\nif (outputEl) {{\n    x.observe(outputEl, {childList: true});\n}}\n\n                        })                };                });            </script>        </div>"
     },
     "metadata": {},
     "output_type": "display_data"
    }
   ],
   "source": [
    "fig = px.scatter(tb, x = 'points_mean', y='points_allowed_mean', color='team_', text='team_', height=700, title='Points Allowed Per Game vs. Points Per Game')\n",
    "\n",
    "fig.update_traces(\n",
    "    textposition='bottom center',\n",
    "    textfont=dict(size=9, color='white')  # Change both size and color\n",
    ")"
   ],
   "metadata": {
    "collapsed": false,
    "ExecuteTime": {
     "end_time": "2024-10-29T00:14:35.041721Z",
     "start_time": "2024-10-29T00:14:34.911092Z"
    }
   },
   "id": "ae02eaa7cb280d16"
  },
  {
   "cell_type": "code",
   "execution_count": 20,
   "id": "initial_id",
   "metadata": {
    "collapsed": true,
    "ExecuteTime": {
     "end_time": "2024-10-29T00:12:13.483666Z",
     "start_time": "2024-10-29T00:12:13.477584Z"
    }
   },
   "outputs": [],
   "source": [
    "# fetch.completed_games(year = 2024, week=1)\n",
    "# fetch.scheduled_games(year = 2024, week=18)\n",
    "# fetch.in_progress_games(year = 2024, week=1)\n",
    "#fetch.completed_games(year=2024, team = 'Pittsburgh Steelers')\n",
    "#data = fetch.boxscore(year=2023, team='Pittsburgh Steelers')\n",
    "#fetch.passing_boxscore(year=2024, pivot=True)\n",
    "#fetch.rushing_boxscore(year=2024, pivot=True)\n",
    "#fetch.receiving_boxscore(year=2024, pivot=True)\n",
    "#fetch.fumble_boxscore(year=2024, pivot=True)\n",
    "#fetch.defensive_boxscore(year=2024, pivot=True)\n",
    "#fetch.interception_boxscore(year=2024, pivot=True)\n",
    "#fetch.kick_return_boxscore(year=2024)\n",
    "#fetch.punt_return_boxscore(year=2024, pivot=True)\n",
    "#fetch.field_goal_boxscore(year=2024, pivot=True)\n",
    "#fetch.punt_boxscore(year=2024)\n",
    "#fetch.drives(year=2024, team='Pittsburgh Steelers')\n",
    "#fetch.plays(year=2024)\n",
    "#fetch.drives(year=2024)\n",
    "#fetch.offensive_drive_summary(year=2024, agg_method='weekly', team='Pittsburgh Steelers')\n",
    "#fetch.defensive_drive_summary(year=2024)\n",
    "#fetch.videos(year=2024, team='Pittsburgh Steelers')\n",
    "#fetch.officials(year=2024, team='Pittsburgh Steelers')\n",
    "#wp = fetch.win_probability(year = 2024, team='Pittsburgh Steelers', week=4)\n",
    "#da = fetch.drive_analysis(year=2024)\n",
    "#mov = fetch.pd_mov_mod(2024)\n",
    "#fetch.qb_epa(year=2024, pivot=True)\n",
    "#fetch.qb_epa_glossary()\n",
    "#fetch.futures(year=2024)\n",
    "#fetch.qb_stats_allowed(2024)\n",
    "#athletes = fetch.athletes(year=2024)\n",
    "#fetch.athlete_dict()\n",
    "#fetch.athlete_overview(year=2024,athlete=['Russell Wilson', 'Justin Fields', 'Kenny Pickett'])\n",
    "\n",
    "\n",
    "    \n"
   ]
  },
  {
   "cell_type": "code",
   "execution_count": 11,
   "outputs": [
    {
     "name": "stdout",
     "output_type": "stream",
     "text": [
      "https://sports.core.api.espn.com/v2/sports/football/leagues/nfl/seasons/2024/athletes/14881?lang=en&region=us\n",
      "https://sports.core.api.espn.com/v2/sports/football/leagues/nfl/seasons/2024/athletes/4240703?lang=en&region=us\n"
     ]
    }
   ],
   "source": [
    "data = fetch.athlete_summary(athlete=['Russell Wilson', 'Kenny Pickett']) "
   ],
   "metadata": {
    "collapsed": false,
    "ExecuteTime": {
     "end_time": "2024-10-24T05:50:11.932081Z",
     "start_time": "2024-10-24T05:50:10.957252Z"
    }
   },
   "id": "1d01b3c5cb725a71"
  },
  {
   "cell_type": "code",
   "execution_count": 12,
   "outputs": [
    {
     "data": {
      "text/plain": "        id            name  weight  height display_height  age  \\\n0    14881  Russell Wilson   206.0    71.0         5' 11\"   35   \n1  4240703   Kenny Pickett   220.0    75.0          6' 3\"   26   \n\n       date_of_birth  debut_year birth_city birth_state  ... injury_detail  \\\n0  1988-11-29T08:00Z        2012   Richmond          VA  ...          None   \n1  1998-06-06T07:00Z        2022   Oakhurst          NJ  ...          None   \n\n  injury_side                                               team experience  \\\n0        None  http://sports.core.api.espn.com/v2/sports/foot...         13   \n1        None  http://sports.core.api.espn.com/v2/sports/foot...          3   \n\n  active draft_round draft_year draft_selection  \\\n0   True           3       2012              75   \n1   True           1       2022              20   \n\n                                          draft_team  status  \n0  http://sports.core.api.espn.com/v2/sports/foot...  Active  \n1  http://sports.core.api.espn.com/v2/sports/foot...  Active  \n\n[2 rows x 32 columns]",
      "text/html": "<div>\n<style scoped>\n    .dataframe tbody tr th:only-of-type {\n        vertical-align: middle;\n    }\n\n    .dataframe tbody tr th {\n        vertical-align: top;\n    }\n\n    .dataframe thead th {\n        text-align: right;\n    }\n</style>\n<table border=\"1\" class=\"dataframe\">\n  <thead>\n    <tr style=\"text-align: right;\">\n      <th></th>\n      <th>id</th>\n      <th>name</th>\n      <th>weight</th>\n      <th>height</th>\n      <th>display_height</th>\n      <th>age</th>\n      <th>date_of_birth</th>\n      <th>debut_year</th>\n      <th>birth_city</th>\n      <th>birth_state</th>\n      <th>...</th>\n      <th>injury_detail</th>\n      <th>injury_side</th>\n      <th>team</th>\n      <th>experience</th>\n      <th>active</th>\n      <th>draft_round</th>\n      <th>draft_year</th>\n      <th>draft_selection</th>\n      <th>draft_team</th>\n      <th>status</th>\n    </tr>\n  </thead>\n  <tbody>\n    <tr>\n      <th>0</th>\n      <td>14881</td>\n      <td>Russell Wilson</td>\n      <td>206.0</td>\n      <td>71.0</td>\n      <td>5' 11\"</td>\n      <td>35</td>\n      <td>1988-11-29T08:00Z</td>\n      <td>2012</td>\n      <td>Richmond</td>\n      <td>VA</td>\n      <td>...</td>\n      <td>None</td>\n      <td>None</td>\n      <td>http://sports.core.api.espn.com/v2/sports/foot...</td>\n      <td>13</td>\n      <td>True</td>\n      <td>3</td>\n      <td>2012</td>\n      <td>75</td>\n      <td>http://sports.core.api.espn.com/v2/sports/foot...</td>\n      <td>Active</td>\n    </tr>\n    <tr>\n      <th>1</th>\n      <td>4240703</td>\n      <td>Kenny Pickett</td>\n      <td>220.0</td>\n      <td>75.0</td>\n      <td>6' 3\"</td>\n      <td>26</td>\n      <td>1998-06-06T07:00Z</td>\n      <td>2022</td>\n      <td>Oakhurst</td>\n      <td>NJ</td>\n      <td>...</td>\n      <td>None</td>\n      <td>None</td>\n      <td>http://sports.core.api.espn.com/v2/sports/foot...</td>\n      <td>3</td>\n      <td>True</td>\n      <td>1</td>\n      <td>2022</td>\n      <td>20</td>\n      <td>http://sports.core.api.espn.com/v2/sports/foot...</td>\n      <td>Active</td>\n    </tr>\n  </tbody>\n</table>\n<p>2 rows × 32 columns</p>\n</div>"
     },
     "execution_count": 12,
     "metadata": {},
     "output_type": "execute_result"
    }
   ],
   "source": [
    "data"
   ],
   "metadata": {
    "collapsed": false,
    "ExecuteTime": {
     "end_time": "2024-10-24T05:50:15.632209Z",
     "start_time": "2024-10-24T05:50:15.623431Z"
    }
   },
   "id": "1a73d2cc96ec2845"
  },
  {
   "cell_type": "code",
   "execution_count": 30,
   "outputs": [
    {
     "data": {
      "text/plain": "14881"
     },
     "execution_count": 30,
     "metadata": {},
     "output_type": "execute_result"
    }
   ],
   "source": [
    "ad = fetch.athlete_dict()\n",
    "ad.get('Russell Wilson')"
   ],
   "metadata": {
    "collapsed": false,
    "ExecuteTime": {
     "end_time": "2024-10-17T16:53:52.295520Z",
     "start_time": "2024-10-17T16:53:52.277622Z"
    }
   },
   "id": "883f2aaac8055e1a"
  },
  {
   "cell_type": "code",
   "execution_count": 6,
   "outputs": [],
   "source": [],
   "metadata": {
    "collapsed": false,
    "ExecuteTime": {
     "end_time": "2024-10-17T22:54:11.371253Z",
     "start_time": "2024-10-17T22:54:11.335141Z"
    }
   },
   "id": "11e6d30c8161ecd4"
  },
  {
   "cell_type": "code",
   "execution_count": 46,
   "outputs": [],
   "source": [],
   "metadata": {
    "collapsed": false,
    "ExecuteTime": {
     "end_time": "2024-10-17T17:01:55.346694Z",
     "start_time": "2024-10-17T17:01:55.327824Z"
    }
   },
   "id": "71e517dd615b222f"
  },
  {
   "cell_type": "code",
   "execution_count": 46,
   "outputs": [],
   "source": [],
   "metadata": {
    "collapsed": false,
    "ExecuteTime": {
     "end_time": "2024-10-17T17:01:55.751313Z",
     "start_time": "2024-10-17T17:01:55.745417Z"
    }
   },
   "id": "cc4026738b8b0e61"
  },
  {
   "cell_type": "code",
   "execution_count": 23,
   "outputs": [
    {
     "name": "stdout",
     "output_type": "stream",
     "text": [
      "https://site.api.espn.com/apis/site/v2/sports/football/nfl/scoreboard?limit=1000&dates=2024&seasontype=2&week=1\n",
      "https://site.api.espn.com/apis/site/v2/sports/football/nfl/scoreboard?limit=1000&dates=2024&seasontype=2&week=2\n",
      "https://site.api.espn.com/apis/site/v2/sports/football/nfl/scoreboard?limit=1000&dates=2024&seasontype=2&week=3\n",
      "https://site.api.espn.com/apis/site/v2/sports/football/nfl/scoreboard?limit=1000&dates=2024&seasontype=2&week=4\n",
      "https://site.api.espn.com/apis/site/v2/sports/football/nfl/scoreboard?limit=1000&dates=2024&seasontype=2&week=5\n",
      "https://site.api.espn.com/apis/site/v2/sports/football/nfl/scoreboard?limit=1000&dates=2024&seasontype=2&week=6\n",
      "https://site.api.espn.com/apis/site/v2/sports/football/nfl/scoreboard?limit=1000&dates=2024&seasontype=2&week=7\n",
      "https://site.api.espn.com/apis/site/v2/sports/football/nfl/scoreboard?limit=1000&dates=2024&seasontype=2&week=8\n",
      "https://site.api.espn.com/apis/site/v2/sports/football/nfl/scoreboard?limit=1000&dates=2024&seasontype=2&week=9\n",
      "https://site.api.espn.com/apis/site/v2/sports/football/nfl/scoreboard?limit=1000&dates=2024&seasontype=2&week=10\n",
      "https://site.api.espn.com/apis/site/v2/sports/football/nfl/scoreboard?limit=1000&dates=2024&seasontype=2&week=11\n",
      "https://site.api.espn.com/apis/site/v2/sports/football/nfl/scoreboard?limit=1000&dates=2024&seasontype=2&week=12\n",
      "https://site.api.espn.com/apis/site/v2/sports/football/nfl/scoreboard?limit=1000&dates=2024&seasontype=2&week=13\n",
      "https://site.api.espn.com/apis/site/v2/sports/football/nfl/scoreboard?limit=1000&dates=2024&seasontype=2&week=14\n",
      "https://site.api.espn.com/apis/site/v2/sports/football/nfl/scoreboard?limit=1000&dates=2024&seasontype=2&week=15\n",
      "https://site.api.espn.com/apis/site/v2/sports/football/nfl/scoreboard?limit=1000&dates=2024&seasontype=2&week=16\n",
      "https://site.api.espn.com/apis/site/v2/sports/football/nfl/scoreboard?limit=1000&dates=2024&seasontype=2&week=17\n",
      "https://site.api.espn.com/apis/site/v2/sports/football/nfl/scoreboard?limit=1000&dates=2024&seasontype=2&week=18\n"
     ]
    },
    {
     "name": "stderr",
     "output_type": "stream",
     "text": [
      "100%|██████████| 92/92 [00:22<00:00,  4.07it/s]\n"
     ]
    }
   ],
   "source": [
    "data = fetch.pd_mov_mod(year=2024)"
   ],
   "metadata": {
    "collapsed": false,
    "ExecuteTime": {
     "end_time": "2024-10-17T22:59:08.242444Z",
     "start_time": "2024-10-17T22:58:41.659839Z"
    }
   },
   "id": "87909b4a3c2cddcb"
  },
  {
   "cell_type": "code",
   "execution_count": 34,
   "outputs": [
    {
     "name": "stdout",
     "output_type": "stream",
     "text": [
      "<class 'pandas.core.frame.DataFrame'>\n",
      "RangeIndex: 32 entries, 0 to 31\n",
      "Data columns (total 1 columns):\n",
      " #   Column                    Non-Null Count  Dtype\n",
      "---  ------                    --------------  -----\n",
      " 0   total_point_differential  32 non-null     int64\n",
      "dtypes: int64(1)\n",
      "memory usage: 384.0 bytes\n"
     ]
    }
   ],
   "source": [
    "\n",
    "pd = data[['total_point_differential']]\n",
    "pd.info()\n"
   ],
   "metadata": {
    "collapsed": false,
    "ExecuteTime": {
     "end_time": "2024-10-17T23:00:41.117304Z",
     "start_time": "2024-10-17T23:00:41.107623Z"
    }
   },
   "id": "9fa6278060acc8ab"
  },
  {
   "cell_type": "code",
   "execution_count": 1,
   "outputs": [
    {
     "ename": "NameError",
     "evalue": "name 'pd' is not defined",
     "output_type": "error",
     "traceback": [
      "\u001B[0;31m---------------------------------------------------------------------------\u001B[0m",
      "\u001B[0;31mNameError\u001B[0m                                 Traceback (most recent call last)",
      "Cell \u001B[0;32mIn[1], line 6\u001B[0m\n\u001B[1;32m      4\u001B[0m \u001B[38;5;66;03m# Assume 'data' is your DataFrame containing the features\u001B[39;00m\n\u001B[1;32m      5\u001B[0m kmeans \u001B[38;5;241m=\u001B[39m KMeans(n_clusters\u001B[38;5;241m=\u001B[39m\u001B[38;5;241m3\u001B[39m)\n\u001B[0;32m----> 6\u001B[0m clusters \u001B[38;5;241m=\u001B[39m kmeans\u001B[38;5;241m.\u001B[39mfit_predict(\u001B[43mpd\u001B[49m)\n\u001B[1;32m      8\u001B[0m \u001B[38;5;66;03m# Adding the cluster labels to the original DataFrame\u001B[39;00m\n\u001B[1;32m      9\u001B[0m pd[\u001B[38;5;124m'\u001B[39m\u001B[38;5;124mcluster\u001B[39m\u001B[38;5;124m'\u001B[39m] \u001B[38;5;241m=\u001B[39m clusters\n",
      "\u001B[0;31mNameError\u001B[0m: name 'pd' is not defined"
     ]
    }
   ],
   "source": [
    "from sklearn.cluster import KMeans, DBSCAN\n",
    "from sklearn.metrics import silhouette_score\n",
    "\n",
    "# Assume 'data' is your DataFrame containing the features\n",
    "kmeans = KMeans(n_clusters=3)\n",
    "clusters = kmeans.fit_predict(pd)\n",
    "\n",
    "# Adding the cluster labels to the original DataFrame\n",
    "pd['cluster'] = clusters\n",
    "\n",
    "# Descriptive statistics for each cluster\n",
    "cluster_stats = pd.groupby('cluster').mean()\n",
    "\n",
    "# Silhouette score\n",
    "score = silhouette_score(pd, clusters)\n",
    "\n",
    "print(f\"Cluster Characteristics: \\n{cluster_stats}\")\n",
    "print(f\"Silhouette Score: {score}\")\n"
   ],
   "metadata": {
    "collapsed": false,
    "ExecuteTime": {
     "end_time": "2024-10-17T23:52:11.653706Z",
     "start_time": "2024-10-17T23:52:10.001728Z"
    }
   },
   "id": "556e7714fa299e13"
  },
  {
   "cell_type": "code",
   "execution_count": 10,
   "outputs": [],
   "source": [],
   "metadata": {
    "collapsed": false,
    "ExecuteTime": {
     "end_time": "2024-10-17T16:28:08.242735Z",
     "start_time": "2024-10-17T16:28:08.236794Z"
    }
   },
   "id": "4ae038ea32b50d11"
  },
  {
   "cell_type": "code",
   "execution_count": 10,
   "outputs": [],
   "source": [],
   "metadata": {
    "collapsed": false,
    "ExecuteTime": {
     "end_time": "2024-10-17T16:28:13.383685Z",
     "start_time": "2024-10-17T16:28:13.375415Z"
    }
   },
   "id": "132b107eddbec551"
  },
  {
   "cell_type": "code",
   "execution_count": 8,
   "outputs": [],
   "source": [],
   "metadata": {
    "collapsed": false,
    "ExecuteTime": {
     "end_time": "2024-10-17T05:34:15.144777Z",
     "start_time": "2024-10-17T05:34:15.132046Z"
    }
   },
   "id": "55301ccf2f5c0a44"
  },
  {
   "cell_type": "code",
   "execution_count": 8,
   "outputs": [],
   "source": [],
   "metadata": {
    "collapsed": false,
    "ExecuteTime": {
     "end_time": "2024-10-17T05:34:17.239527Z",
     "start_time": "2024-10-17T05:34:17.230782Z"
    }
   },
   "id": "c7f562ea05d37eb2"
  },
  {
   "cell_type": "code",
   "execution_count": 8,
   "outputs": [],
   "source": [],
   "metadata": {
    "collapsed": false,
    "ExecuteTime": {
     "end_time": "2024-10-17T05:34:19.621200Z",
     "start_time": "2024-10-17T05:34:19.611348Z"
    }
   },
   "id": "b4ed4cbc71f55241"
  },
  {
   "cell_type": "code",
   "execution_count": 8,
   "outputs": [],
   "source": [],
   "metadata": {
    "collapsed": false,
    "ExecuteTime": {
     "end_time": "2024-10-17T05:34:23.451289Z",
     "start_time": "2024-10-17T05:34:23.441454Z"
    }
   },
   "id": "fdf70d6f326c82d4"
  },
  {
   "cell_type": "code",
   "execution_count": 8,
   "outputs": [],
   "source": [],
   "metadata": {
    "collapsed": false,
    "ExecuteTime": {
     "end_time": "2024-10-17T05:34:26.824635Z",
     "start_time": "2024-10-17T05:34:26.815379Z"
    }
   },
   "id": "509164931334e5e4"
  },
  {
   "cell_type": "code",
   "execution_count": null,
   "outputs": [],
   "source": [],
   "metadata": {
    "collapsed": false
   },
   "id": "69154f84958090ef"
  },
  {
   "cell_type": "code",
   "execution_count": null,
   "outputs": [],
   "source": [],
   "metadata": {
    "collapsed": false
   },
   "id": "c09f90a9ff8522b2"
  },
  {
   "cell_type": "code",
   "execution_count": null,
   "outputs": [],
   "source": [],
   "metadata": {
    "collapsed": false
   },
   "id": "2a4a395750cb3bd4"
  },
  {
   "cell_type": "code",
   "execution_count": 10,
   "outputs": [],
   "source": [],
   "metadata": {
    "collapsed": false,
    "ExecuteTime": {
     "end_time": "2024-10-17T16:28:17.343689Z",
     "start_time": "2024-10-17T16:28:17.313578Z"
    }
   },
   "id": "10305eb611d2e2f"
  },
  {
   "cell_type": "code",
   "execution_count": null,
   "outputs": [],
   "source": [],
   "metadata": {
    "collapsed": false
   },
   "id": "3cc33765cfe679b5"
  },
  {
   "cell_type": "code",
   "execution_count": null,
   "outputs": [],
   "source": [],
   "metadata": {
    "collapsed": false
   },
   "id": "ab989c0651a29347"
  },
  {
   "cell_type": "code",
   "execution_count": 15,
   "outputs": [],
   "source": [],
   "metadata": {
    "collapsed": false,
    "ExecuteTime": {
     "end_time": "2024-10-16T04:56:31.234894Z",
     "start_time": "2024-10-16T04:56:31.231177Z"
    }
   },
   "id": "73ce692178581f95"
  },
  {
   "cell_type": "code",
   "execution_count": 15,
   "outputs": [],
   "source": [],
   "metadata": {
    "collapsed": false,
    "ExecuteTime": {
     "end_time": "2024-10-16T04:56:33.032061Z",
     "start_time": "2024-10-16T04:56:33.014652Z"
    }
   },
   "id": "2ee50ec98f629330"
  },
  {
   "cell_type": "code",
   "execution_count": 15,
   "outputs": [],
   "source": [],
   "metadata": {
    "collapsed": false,
    "ExecuteTime": {
     "end_time": "2024-10-16T04:56:34.879847Z",
     "start_time": "2024-10-16T04:56:34.873511Z"
    }
   },
   "id": "3a43c0e445e5b92"
  },
  {
   "cell_type": "code",
   "execution_count": 14,
   "outputs": [
    {
     "data": {
      "application/vnd.plotly.v1+json": {
       "data": [
        {
         "alignmentgroup": "True",
         "hovertemplate": "name_=%{x}<br>scramble_epa_sum=%{marker.color}<extra></extra>",
         "legendgroup": "",
         "marker": {
          "color": [
           11.700000000000001,
           8.6,
           7.5,
           7.199999999999999,
           6.4,
           6.4,
           6.3,
           6.0,
           5.9,
           5.3,
           5.0,
           4.7,
           4.5,
           3.5,
           3.3,
           3.1,
           3.0,
           2.9000000000000004,
           2.3,
           2.0,
           1.9,
           1.8,
           1.4,
           1.3,
           1.1,
           0.9000000000000001,
           0.8,
           0.7999999999999999,
           0.30000000000000016,
           0.3,
           0.2,
           0.0,
           0.0,
           0.0,
           0.0,
           0.0,
           0.0,
           -0.09999999999999998,
           -0.19999999999999996,
           -0.7
          ],
          "coloraxis": "coloraxis",
          "pattern": {
           "shape": ""
          }
         },
         "name": "",
         "offsetgroup": "",
         "orientation": "v",
         "showlegend": false,
         "textposition": "auto",
         "x": [
          "Jayden Daniels",
          "Justin Fields",
          "Patrick Mahomes",
          "Bo Nix",
          "Anthony Richardson",
          "Jalen Hurts",
          "Kyler Murray",
          "Joe Burrow",
          "Geno Smith",
          "Josh Allen",
          "Baker Mayfield",
          "Caleb Williams",
          "Brock Purdy",
          "Malik Willis",
          "Sam Darnold",
          "Jordan Love",
          "Tua Tagovailoa",
          "Trevor Lawrence",
          "Jacoby Brissett",
          "Lamar Jackson",
          "Deshaun Watson",
          "Will Levis",
          "Gardner Minshew",
          "Spencer Rattler",
          "Drake Maye",
          "Jared Goff",
          "Aaron Rodgers",
          "Joe Flacco",
          "C.J. Stroud",
          "Dak Prescott",
          "Bryce Young",
          "Tyler Huntley",
          "Aidan O'Connell",
          "Derek Carr",
          "Matthew Stafford",
          "Andy Dalton",
          "Skylar Thompson",
          "Daniel Jones",
          "Justin Herbert",
          "Kirk Cousins"
         ],
         "xaxis": "x",
         "y": [
          11.700000000000001,
          8.6,
          7.5,
          7.199999999999999,
          6.4,
          6.4,
          6.3,
          6.0,
          5.9,
          5.3,
          5.0,
          4.7,
          4.5,
          3.5,
          3.3,
          3.1,
          3.0,
          2.9000000000000004,
          2.3,
          2.0,
          1.9,
          1.8,
          1.4,
          1.3,
          1.1,
          0.9000000000000001,
          0.8,
          0.7999999999999999,
          0.30000000000000016,
          0.3,
          0.2,
          0.0,
          0.0,
          0.0,
          0.0,
          0.0,
          0.0,
          -0.09999999999999998,
          -0.19999999999999996,
          -0.7
         ],
         "yaxis": "y",
         "type": "bar"
        }
       ],
       "layout": {
        "template": {
         "data": {
          "histogram2dcontour": [
           {
            "type": "histogram2dcontour",
            "colorbar": {
             "outlinewidth": 0,
             "ticks": ""
            },
            "colorscale": [
             [
              0.0,
              "#0d0887"
             ],
             [
              0.1111111111111111,
              "#46039f"
             ],
             [
              0.2222222222222222,
              "#7201a8"
             ],
             [
              0.3333333333333333,
              "#9c179e"
             ],
             [
              0.4444444444444444,
              "#bd3786"
             ],
             [
              0.5555555555555556,
              "#d8576b"
             ],
             [
              0.6666666666666666,
              "#ed7953"
             ],
             [
              0.7777777777777778,
              "#fb9f3a"
             ],
             [
              0.8888888888888888,
              "#fdca26"
             ],
             [
              1.0,
              "#f0f921"
             ]
            ]
           }
          ],
          "choropleth": [
           {
            "type": "choropleth",
            "colorbar": {
             "outlinewidth": 0,
             "ticks": ""
            }
           }
          ],
          "histogram2d": [
           {
            "type": "histogram2d",
            "colorbar": {
             "outlinewidth": 0,
             "ticks": ""
            },
            "colorscale": [
             [
              0.0,
              "#0d0887"
             ],
             [
              0.1111111111111111,
              "#46039f"
             ],
             [
              0.2222222222222222,
              "#7201a8"
             ],
             [
              0.3333333333333333,
              "#9c179e"
             ],
             [
              0.4444444444444444,
              "#bd3786"
             ],
             [
              0.5555555555555556,
              "#d8576b"
             ],
             [
              0.6666666666666666,
              "#ed7953"
             ],
             [
              0.7777777777777778,
              "#fb9f3a"
             ],
             [
              0.8888888888888888,
              "#fdca26"
             ],
             [
              1.0,
              "#f0f921"
             ]
            ]
           }
          ],
          "heatmap": [
           {
            "type": "heatmap",
            "colorbar": {
             "outlinewidth": 0,
             "ticks": ""
            },
            "colorscale": [
             [
              0.0,
              "#0d0887"
             ],
             [
              0.1111111111111111,
              "#46039f"
             ],
             [
              0.2222222222222222,
              "#7201a8"
             ],
             [
              0.3333333333333333,
              "#9c179e"
             ],
             [
              0.4444444444444444,
              "#bd3786"
             ],
             [
              0.5555555555555556,
              "#d8576b"
             ],
             [
              0.6666666666666666,
              "#ed7953"
             ],
             [
              0.7777777777777778,
              "#fb9f3a"
             ],
             [
              0.8888888888888888,
              "#fdca26"
             ],
             [
              1.0,
              "#f0f921"
             ]
            ]
           }
          ],
          "heatmapgl": [
           {
            "type": "heatmapgl",
            "colorbar": {
             "outlinewidth": 0,
             "ticks": ""
            },
            "colorscale": [
             [
              0.0,
              "#0d0887"
             ],
             [
              0.1111111111111111,
              "#46039f"
             ],
             [
              0.2222222222222222,
              "#7201a8"
             ],
             [
              0.3333333333333333,
              "#9c179e"
             ],
             [
              0.4444444444444444,
              "#bd3786"
             ],
             [
              0.5555555555555556,
              "#d8576b"
             ],
             [
              0.6666666666666666,
              "#ed7953"
             ],
             [
              0.7777777777777778,
              "#fb9f3a"
             ],
             [
              0.8888888888888888,
              "#fdca26"
             ],
             [
              1.0,
              "#f0f921"
             ]
            ]
           }
          ],
          "contourcarpet": [
           {
            "type": "contourcarpet",
            "colorbar": {
             "outlinewidth": 0,
             "ticks": ""
            }
           }
          ],
          "contour": [
           {
            "type": "contour",
            "colorbar": {
             "outlinewidth": 0,
             "ticks": ""
            },
            "colorscale": [
             [
              0.0,
              "#0d0887"
             ],
             [
              0.1111111111111111,
              "#46039f"
             ],
             [
              0.2222222222222222,
              "#7201a8"
             ],
             [
              0.3333333333333333,
              "#9c179e"
             ],
             [
              0.4444444444444444,
              "#bd3786"
             ],
             [
              0.5555555555555556,
              "#d8576b"
             ],
             [
              0.6666666666666666,
              "#ed7953"
             ],
             [
              0.7777777777777778,
              "#fb9f3a"
             ],
             [
              0.8888888888888888,
              "#fdca26"
             ],
             [
              1.0,
              "#f0f921"
             ]
            ]
           }
          ],
          "surface": [
           {
            "type": "surface",
            "colorbar": {
             "outlinewidth": 0,
             "ticks": ""
            },
            "colorscale": [
             [
              0.0,
              "#0d0887"
             ],
             [
              0.1111111111111111,
              "#46039f"
             ],
             [
              0.2222222222222222,
              "#7201a8"
             ],
             [
              0.3333333333333333,
              "#9c179e"
             ],
             [
              0.4444444444444444,
              "#bd3786"
             ],
             [
              0.5555555555555556,
              "#d8576b"
             ],
             [
              0.6666666666666666,
              "#ed7953"
             ],
             [
              0.7777777777777778,
              "#fb9f3a"
             ],
             [
              0.8888888888888888,
              "#fdca26"
             ],
             [
              1.0,
              "#f0f921"
             ]
            ]
           }
          ],
          "mesh3d": [
           {
            "type": "mesh3d",
            "colorbar": {
             "outlinewidth": 0,
             "ticks": ""
            }
           }
          ],
          "scatter": [
           {
            "marker": {
             "line": {
              "color": "#283442"
             }
            },
            "type": "scatter"
           }
          ],
          "parcoords": [
           {
            "type": "parcoords",
            "line": {
             "colorbar": {
              "outlinewidth": 0,
              "ticks": ""
             }
            }
           }
          ],
          "scatterpolargl": [
           {
            "type": "scatterpolargl",
            "marker": {
             "colorbar": {
              "outlinewidth": 0,
              "ticks": ""
             }
            }
           }
          ],
          "bar": [
           {
            "error_x": {
             "color": "#f2f5fa"
            },
            "error_y": {
             "color": "#f2f5fa"
            },
            "marker": {
             "line": {
              "color": "rgb(17,17,17)",
              "width": 0.5
             },
             "pattern": {
              "fillmode": "overlay",
              "size": 10,
              "solidity": 0.2
             }
            },
            "type": "bar"
           }
          ],
          "scattergeo": [
           {
            "type": "scattergeo",
            "marker": {
             "colorbar": {
              "outlinewidth": 0,
              "ticks": ""
             }
            }
           }
          ],
          "scatterpolar": [
           {
            "type": "scatterpolar",
            "marker": {
             "colorbar": {
              "outlinewidth": 0,
              "ticks": ""
             }
            }
           }
          ],
          "histogram": [
           {
            "marker": {
             "pattern": {
              "fillmode": "overlay",
              "size": 10,
              "solidity": 0.2
             }
            },
            "type": "histogram"
           }
          ],
          "scattergl": [
           {
            "marker": {
             "line": {
              "color": "#283442"
             }
            },
            "type": "scattergl"
           }
          ],
          "scatter3d": [
           {
            "type": "scatter3d",
            "line": {
             "colorbar": {
              "outlinewidth": 0,
              "ticks": ""
             }
            },
            "marker": {
             "colorbar": {
              "outlinewidth": 0,
              "ticks": ""
             }
            }
           }
          ],
          "scattermapbox": [
           {
            "type": "scattermapbox",
            "marker": {
             "colorbar": {
              "outlinewidth": 0,
              "ticks": ""
             }
            }
           }
          ],
          "scatterternary": [
           {
            "type": "scatterternary",
            "marker": {
             "colorbar": {
              "outlinewidth": 0,
              "ticks": ""
             }
            }
           }
          ],
          "scattercarpet": [
           {
            "type": "scattercarpet",
            "marker": {
             "colorbar": {
              "outlinewidth": 0,
              "ticks": ""
             }
            }
           }
          ],
          "carpet": [
           {
            "aaxis": {
             "endlinecolor": "#A2B1C6",
             "gridcolor": "#506784",
             "linecolor": "#506784",
             "minorgridcolor": "#506784",
             "startlinecolor": "#A2B1C6"
            },
            "baxis": {
             "endlinecolor": "#A2B1C6",
             "gridcolor": "#506784",
             "linecolor": "#506784",
             "minorgridcolor": "#506784",
             "startlinecolor": "#A2B1C6"
            },
            "type": "carpet"
           }
          ],
          "table": [
           {
            "cells": {
             "fill": {
              "color": "#506784"
             },
             "line": {
              "color": "rgb(17,17,17)"
             }
            },
            "header": {
             "fill": {
              "color": "#2a3f5f"
             },
             "line": {
              "color": "rgb(17,17,17)"
             }
            },
            "type": "table"
           }
          ],
          "barpolar": [
           {
            "marker": {
             "line": {
              "color": "rgb(17,17,17)",
              "width": 0.5
             },
             "pattern": {
              "fillmode": "overlay",
              "size": 10,
              "solidity": 0.2
             }
            },
            "type": "barpolar"
           }
          ],
          "pie": [
           {
            "automargin": true,
            "type": "pie"
           }
          ]
         },
         "layout": {
          "autotypenumbers": "strict",
          "colorway": [
           "#636efa",
           "#EF553B",
           "#00cc96",
           "#ab63fa",
           "#FFA15A",
           "#19d3f3",
           "#FF6692",
           "#B6E880",
           "#FF97FF",
           "#FECB52"
          ],
          "font": {
           "color": "#f2f5fa"
          },
          "hovermode": "closest",
          "hoverlabel": {
           "align": "left"
          },
          "paper_bgcolor": "rgb(17,17,17)",
          "plot_bgcolor": "rgb(17,17,17)",
          "polar": {
           "bgcolor": "rgb(17,17,17)",
           "angularaxis": {
            "gridcolor": "#506784",
            "linecolor": "#506784",
            "ticks": ""
           },
           "radialaxis": {
            "gridcolor": "#506784",
            "linecolor": "#506784",
            "ticks": ""
           }
          },
          "ternary": {
           "bgcolor": "rgb(17,17,17)",
           "aaxis": {
            "gridcolor": "#506784",
            "linecolor": "#506784",
            "ticks": ""
           },
           "baxis": {
            "gridcolor": "#506784",
            "linecolor": "#506784",
            "ticks": ""
           },
           "caxis": {
            "gridcolor": "#506784",
            "linecolor": "#506784",
            "ticks": ""
           }
          },
          "coloraxis": {
           "colorbar": {
            "outlinewidth": 0,
            "ticks": ""
           }
          },
          "colorscale": {
           "sequential": [
            [
             0.0,
             "#0d0887"
            ],
            [
             0.1111111111111111,
             "#46039f"
            ],
            [
             0.2222222222222222,
             "#7201a8"
            ],
            [
             0.3333333333333333,
             "#9c179e"
            ],
            [
             0.4444444444444444,
             "#bd3786"
            ],
            [
             0.5555555555555556,
             "#d8576b"
            ],
            [
             0.6666666666666666,
             "#ed7953"
            ],
            [
             0.7777777777777778,
             "#fb9f3a"
            ],
            [
             0.8888888888888888,
             "#fdca26"
            ],
            [
             1.0,
             "#f0f921"
            ]
           ],
           "sequentialminus": [
            [
             0.0,
             "#0d0887"
            ],
            [
             0.1111111111111111,
             "#46039f"
            ],
            [
             0.2222222222222222,
             "#7201a8"
            ],
            [
             0.3333333333333333,
             "#9c179e"
            ],
            [
             0.4444444444444444,
             "#bd3786"
            ],
            [
             0.5555555555555556,
             "#d8576b"
            ],
            [
             0.6666666666666666,
             "#ed7953"
            ],
            [
             0.7777777777777778,
             "#fb9f3a"
            ],
            [
             0.8888888888888888,
             "#fdca26"
            ],
            [
             1.0,
             "#f0f921"
            ]
           ],
           "diverging": [
            [
             0,
             "#8e0152"
            ],
            [
             0.1,
             "#c51b7d"
            ],
            [
             0.2,
             "#de77ae"
            ],
            [
             0.3,
             "#f1b6da"
            ],
            [
             0.4,
             "#fde0ef"
            ],
            [
             0.5,
             "#f7f7f7"
            ],
            [
             0.6,
             "#e6f5d0"
            ],
            [
             0.7,
             "#b8e186"
            ],
            [
             0.8,
             "#7fbc41"
            ],
            [
             0.9,
             "#4d9221"
            ],
            [
             1,
             "#276419"
            ]
           ]
          },
          "xaxis": {
           "gridcolor": "#283442",
           "linecolor": "#506784",
           "ticks": "",
           "title": {
            "standoff": 15
           },
           "zerolinecolor": "#283442",
           "automargin": true,
           "zerolinewidth": 2
          },
          "yaxis": {
           "gridcolor": "#283442",
           "linecolor": "#506784",
           "ticks": "",
           "title": {
            "standoff": 15
           },
           "zerolinecolor": "#283442",
           "automargin": true,
           "zerolinewidth": 2
          },
          "scene": {
           "xaxis": {
            "backgroundcolor": "rgb(17,17,17)",
            "gridcolor": "#506784",
            "linecolor": "#506784",
            "showbackground": true,
            "ticks": "",
            "zerolinecolor": "#C8D4E3",
            "gridwidth": 2
           },
           "yaxis": {
            "backgroundcolor": "rgb(17,17,17)",
            "gridcolor": "#506784",
            "linecolor": "#506784",
            "showbackground": true,
            "ticks": "",
            "zerolinecolor": "#C8D4E3",
            "gridwidth": 2
           },
           "zaxis": {
            "backgroundcolor": "rgb(17,17,17)",
            "gridcolor": "#506784",
            "linecolor": "#506784",
            "showbackground": true,
            "ticks": "",
            "zerolinecolor": "#C8D4E3",
            "gridwidth": 2
           }
          },
          "shapedefaults": {
           "line": {
            "color": "#f2f5fa"
           }
          },
          "annotationdefaults": {
           "arrowcolor": "#f2f5fa",
           "arrowhead": 0,
           "arrowwidth": 1
          },
          "geo": {
           "bgcolor": "rgb(17,17,17)",
           "landcolor": "rgb(17,17,17)",
           "subunitcolor": "#506784",
           "showland": true,
           "showlakes": true,
           "lakecolor": "rgb(17,17,17)"
          },
          "title": {
           "x": 0.05
          },
          "updatemenudefaults": {
           "bgcolor": "#506784",
           "borderwidth": 0
          },
          "sliderdefaults": {
           "bgcolor": "#C8D4E3",
           "borderwidth": 1,
           "bordercolor": "rgb(17,17,17)",
           "tickwidth": 0
          },
          "mapbox": {
           "style": "dark"
          }
         }
        },
        "xaxis": {
         "anchor": "y",
         "domain": [
          0.0,
          1.0
         ],
         "title": {
          "text": "name_"
         }
        },
        "yaxis": {
         "anchor": "x",
         "domain": [
          0.0,
          1.0
         ],
         "title": {
          "text": "scramble_epa_sum"
         }
        },
        "coloraxis": {
         "colorbar": {
          "title": {
           "text": "scramble_epa_sum"
          }
         },
         "colorscale": [
          [
           0.0,
           "#0d0887"
          ],
          [
           0.1111111111111111,
           "#46039f"
          ],
          [
           0.2222222222222222,
           "#7201a8"
          ],
          [
           0.3333333333333333,
           "#9c179e"
          ],
          [
           0.4444444444444444,
           "#bd3786"
          ],
          [
           0.5555555555555556,
           "#d8576b"
          ],
          [
           0.6666666666666666,
           "#ed7953"
          ],
          [
           0.7777777777777778,
           "#fb9f3a"
          ],
          [
           0.8888888888888888,
           "#fdca26"
          ],
          [
           1.0,
           "#f0f921"
          ]
         ]
        },
        "legend": {
         "tracegroupgap": 0
        },
        "margin": {
         "t": 60
        },
        "barmode": "relative",
        "height": 700
       },
       "config": {
        "plotlyServerURL": "https://plot.ly"
       }
      },
      "text/html": "<div>                            <div id=\"d8919038-4d74-4001-8740-a9551093a518\" class=\"plotly-graph-div\" style=\"height:700px; width:100%;\"></div>            <script type=\"text/javascript\">                require([\"plotly\"], function(Plotly) {                    window.PLOTLYENV=window.PLOTLYENV || {};                                    if (document.getElementById(\"d8919038-4d74-4001-8740-a9551093a518\")) {                    Plotly.newPlot(                        \"d8919038-4d74-4001-8740-a9551093a518\",                        [{\"alignmentgroup\":\"True\",\"hovertemplate\":\"name_=%{x}\\u003cbr\\u003escramble_epa_sum=%{marker.color}\\u003cextra\\u003e\\u003c\\u002fextra\\u003e\",\"legendgroup\":\"\",\"marker\":{\"color\":[11.700000000000001,8.6,7.5,7.199999999999999,6.4,6.4,6.3,6.0,5.9,5.3,5.0,4.7,4.5,3.5,3.3,3.1,3.0,2.9000000000000004,2.3,2.0,1.9,1.8,1.4,1.3,1.1,0.9000000000000001,0.8,0.7999999999999999,0.30000000000000016,0.3,0.2,0.0,0.0,0.0,0.0,0.0,0.0,-0.09999999999999998,-0.19999999999999996,-0.7],\"coloraxis\":\"coloraxis\",\"pattern\":{\"shape\":\"\"}},\"name\":\"\",\"offsetgroup\":\"\",\"orientation\":\"v\",\"showlegend\":false,\"textposition\":\"auto\",\"x\":[\"Jayden Daniels\",\"Justin Fields\",\"Patrick Mahomes\",\"Bo Nix\",\"Anthony Richardson\",\"Jalen Hurts\",\"Kyler Murray\",\"Joe Burrow\",\"Geno Smith\",\"Josh Allen\",\"Baker Mayfield\",\"Caleb Williams\",\"Brock Purdy\",\"Malik Willis\",\"Sam Darnold\",\"Jordan Love\",\"Tua Tagovailoa\",\"Trevor Lawrence\",\"Jacoby Brissett\",\"Lamar Jackson\",\"Deshaun Watson\",\"Will Levis\",\"Gardner Minshew\",\"Spencer Rattler\",\"Drake Maye\",\"Jared Goff\",\"Aaron Rodgers\",\"Joe Flacco\",\"C.J. Stroud\",\"Dak Prescott\",\"Bryce Young\",\"Tyler Huntley\",\"Aidan O'Connell\",\"Derek Carr\",\"Matthew Stafford\",\"Andy Dalton\",\"Skylar Thompson\",\"Daniel Jones\",\"Justin Herbert\",\"Kirk Cousins\"],\"xaxis\":\"x\",\"y\":[11.700000000000001,8.6,7.5,7.199999999999999,6.4,6.4,6.3,6.0,5.9,5.3,5.0,4.7,4.5,3.5,3.3,3.1,3.0,2.9000000000000004,2.3,2.0,1.9,1.8,1.4,1.3,1.1,0.9000000000000001,0.8,0.7999999999999999,0.30000000000000016,0.3,0.2,0.0,0.0,0.0,0.0,0.0,0.0,-0.09999999999999998,-0.19999999999999996,-0.7],\"yaxis\":\"y\",\"type\":\"bar\"}],                        {\"template\":{\"data\":{\"histogram2dcontour\":[{\"type\":\"histogram2dcontour\",\"colorbar\":{\"outlinewidth\":0,\"ticks\":\"\"},\"colorscale\":[[0.0,\"#0d0887\"],[0.1111111111111111,\"#46039f\"],[0.2222222222222222,\"#7201a8\"],[0.3333333333333333,\"#9c179e\"],[0.4444444444444444,\"#bd3786\"],[0.5555555555555556,\"#d8576b\"],[0.6666666666666666,\"#ed7953\"],[0.7777777777777778,\"#fb9f3a\"],[0.8888888888888888,\"#fdca26\"],[1.0,\"#f0f921\"]]}],\"choropleth\":[{\"type\":\"choropleth\",\"colorbar\":{\"outlinewidth\":0,\"ticks\":\"\"}}],\"histogram2d\":[{\"type\":\"histogram2d\",\"colorbar\":{\"outlinewidth\":0,\"ticks\":\"\"},\"colorscale\":[[0.0,\"#0d0887\"],[0.1111111111111111,\"#46039f\"],[0.2222222222222222,\"#7201a8\"],[0.3333333333333333,\"#9c179e\"],[0.4444444444444444,\"#bd3786\"],[0.5555555555555556,\"#d8576b\"],[0.6666666666666666,\"#ed7953\"],[0.7777777777777778,\"#fb9f3a\"],[0.8888888888888888,\"#fdca26\"],[1.0,\"#f0f921\"]]}],\"heatmap\":[{\"type\":\"heatmap\",\"colorbar\":{\"outlinewidth\":0,\"ticks\":\"\"},\"colorscale\":[[0.0,\"#0d0887\"],[0.1111111111111111,\"#46039f\"],[0.2222222222222222,\"#7201a8\"],[0.3333333333333333,\"#9c179e\"],[0.4444444444444444,\"#bd3786\"],[0.5555555555555556,\"#d8576b\"],[0.6666666666666666,\"#ed7953\"],[0.7777777777777778,\"#fb9f3a\"],[0.8888888888888888,\"#fdca26\"],[1.0,\"#f0f921\"]]}],\"heatmapgl\":[{\"type\":\"heatmapgl\",\"colorbar\":{\"outlinewidth\":0,\"ticks\":\"\"},\"colorscale\":[[0.0,\"#0d0887\"],[0.1111111111111111,\"#46039f\"],[0.2222222222222222,\"#7201a8\"],[0.3333333333333333,\"#9c179e\"],[0.4444444444444444,\"#bd3786\"],[0.5555555555555556,\"#d8576b\"],[0.6666666666666666,\"#ed7953\"],[0.7777777777777778,\"#fb9f3a\"],[0.8888888888888888,\"#fdca26\"],[1.0,\"#f0f921\"]]}],\"contourcarpet\":[{\"type\":\"contourcarpet\",\"colorbar\":{\"outlinewidth\":0,\"ticks\":\"\"}}],\"contour\":[{\"type\":\"contour\",\"colorbar\":{\"outlinewidth\":0,\"ticks\":\"\"},\"colorscale\":[[0.0,\"#0d0887\"],[0.1111111111111111,\"#46039f\"],[0.2222222222222222,\"#7201a8\"],[0.3333333333333333,\"#9c179e\"],[0.4444444444444444,\"#bd3786\"],[0.5555555555555556,\"#d8576b\"],[0.6666666666666666,\"#ed7953\"],[0.7777777777777778,\"#fb9f3a\"],[0.8888888888888888,\"#fdca26\"],[1.0,\"#f0f921\"]]}],\"surface\":[{\"type\":\"surface\",\"colorbar\":{\"outlinewidth\":0,\"ticks\":\"\"},\"colorscale\":[[0.0,\"#0d0887\"],[0.1111111111111111,\"#46039f\"],[0.2222222222222222,\"#7201a8\"],[0.3333333333333333,\"#9c179e\"],[0.4444444444444444,\"#bd3786\"],[0.5555555555555556,\"#d8576b\"],[0.6666666666666666,\"#ed7953\"],[0.7777777777777778,\"#fb9f3a\"],[0.8888888888888888,\"#fdca26\"],[1.0,\"#f0f921\"]]}],\"mesh3d\":[{\"type\":\"mesh3d\",\"colorbar\":{\"outlinewidth\":0,\"ticks\":\"\"}}],\"scatter\":[{\"marker\":{\"line\":{\"color\":\"#283442\"}},\"type\":\"scatter\"}],\"parcoords\":[{\"type\":\"parcoords\",\"line\":{\"colorbar\":{\"outlinewidth\":0,\"ticks\":\"\"}}}],\"scatterpolargl\":[{\"type\":\"scatterpolargl\",\"marker\":{\"colorbar\":{\"outlinewidth\":0,\"ticks\":\"\"}}}],\"bar\":[{\"error_x\":{\"color\":\"#f2f5fa\"},\"error_y\":{\"color\":\"#f2f5fa\"},\"marker\":{\"line\":{\"color\":\"rgb(17,17,17)\",\"width\":0.5},\"pattern\":{\"fillmode\":\"overlay\",\"size\":10,\"solidity\":0.2}},\"type\":\"bar\"}],\"scattergeo\":[{\"type\":\"scattergeo\",\"marker\":{\"colorbar\":{\"outlinewidth\":0,\"ticks\":\"\"}}}],\"scatterpolar\":[{\"type\":\"scatterpolar\",\"marker\":{\"colorbar\":{\"outlinewidth\":0,\"ticks\":\"\"}}}],\"histogram\":[{\"marker\":{\"pattern\":{\"fillmode\":\"overlay\",\"size\":10,\"solidity\":0.2}},\"type\":\"histogram\"}],\"scattergl\":[{\"marker\":{\"line\":{\"color\":\"#283442\"}},\"type\":\"scattergl\"}],\"scatter3d\":[{\"type\":\"scatter3d\",\"line\":{\"colorbar\":{\"outlinewidth\":0,\"ticks\":\"\"}},\"marker\":{\"colorbar\":{\"outlinewidth\":0,\"ticks\":\"\"}}}],\"scattermapbox\":[{\"type\":\"scattermapbox\",\"marker\":{\"colorbar\":{\"outlinewidth\":0,\"ticks\":\"\"}}}],\"scatterternary\":[{\"type\":\"scatterternary\",\"marker\":{\"colorbar\":{\"outlinewidth\":0,\"ticks\":\"\"}}}],\"scattercarpet\":[{\"type\":\"scattercarpet\",\"marker\":{\"colorbar\":{\"outlinewidth\":0,\"ticks\":\"\"}}}],\"carpet\":[{\"aaxis\":{\"endlinecolor\":\"#A2B1C6\",\"gridcolor\":\"#506784\",\"linecolor\":\"#506784\",\"minorgridcolor\":\"#506784\",\"startlinecolor\":\"#A2B1C6\"},\"baxis\":{\"endlinecolor\":\"#A2B1C6\",\"gridcolor\":\"#506784\",\"linecolor\":\"#506784\",\"minorgridcolor\":\"#506784\",\"startlinecolor\":\"#A2B1C6\"},\"type\":\"carpet\"}],\"table\":[{\"cells\":{\"fill\":{\"color\":\"#506784\"},\"line\":{\"color\":\"rgb(17,17,17)\"}},\"header\":{\"fill\":{\"color\":\"#2a3f5f\"},\"line\":{\"color\":\"rgb(17,17,17)\"}},\"type\":\"table\"}],\"barpolar\":[{\"marker\":{\"line\":{\"color\":\"rgb(17,17,17)\",\"width\":0.5},\"pattern\":{\"fillmode\":\"overlay\",\"size\":10,\"solidity\":0.2}},\"type\":\"barpolar\"}],\"pie\":[{\"automargin\":true,\"type\":\"pie\"}]},\"layout\":{\"autotypenumbers\":\"strict\",\"colorway\":[\"#636efa\",\"#EF553B\",\"#00cc96\",\"#ab63fa\",\"#FFA15A\",\"#19d3f3\",\"#FF6692\",\"#B6E880\",\"#FF97FF\",\"#FECB52\"],\"font\":{\"color\":\"#f2f5fa\"},\"hovermode\":\"closest\",\"hoverlabel\":{\"align\":\"left\"},\"paper_bgcolor\":\"rgb(17,17,17)\",\"plot_bgcolor\":\"rgb(17,17,17)\",\"polar\":{\"bgcolor\":\"rgb(17,17,17)\",\"angularaxis\":{\"gridcolor\":\"#506784\",\"linecolor\":\"#506784\",\"ticks\":\"\"},\"radialaxis\":{\"gridcolor\":\"#506784\",\"linecolor\":\"#506784\",\"ticks\":\"\"}},\"ternary\":{\"bgcolor\":\"rgb(17,17,17)\",\"aaxis\":{\"gridcolor\":\"#506784\",\"linecolor\":\"#506784\",\"ticks\":\"\"},\"baxis\":{\"gridcolor\":\"#506784\",\"linecolor\":\"#506784\",\"ticks\":\"\"},\"caxis\":{\"gridcolor\":\"#506784\",\"linecolor\":\"#506784\",\"ticks\":\"\"}},\"coloraxis\":{\"colorbar\":{\"outlinewidth\":0,\"ticks\":\"\"}},\"colorscale\":{\"sequential\":[[0.0,\"#0d0887\"],[0.1111111111111111,\"#46039f\"],[0.2222222222222222,\"#7201a8\"],[0.3333333333333333,\"#9c179e\"],[0.4444444444444444,\"#bd3786\"],[0.5555555555555556,\"#d8576b\"],[0.6666666666666666,\"#ed7953\"],[0.7777777777777778,\"#fb9f3a\"],[0.8888888888888888,\"#fdca26\"],[1.0,\"#f0f921\"]],\"sequentialminus\":[[0.0,\"#0d0887\"],[0.1111111111111111,\"#46039f\"],[0.2222222222222222,\"#7201a8\"],[0.3333333333333333,\"#9c179e\"],[0.4444444444444444,\"#bd3786\"],[0.5555555555555556,\"#d8576b\"],[0.6666666666666666,\"#ed7953\"],[0.7777777777777778,\"#fb9f3a\"],[0.8888888888888888,\"#fdca26\"],[1.0,\"#f0f921\"]],\"diverging\":[[0,\"#8e0152\"],[0.1,\"#c51b7d\"],[0.2,\"#de77ae\"],[0.3,\"#f1b6da\"],[0.4,\"#fde0ef\"],[0.5,\"#f7f7f7\"],[0.6,\"#e6f5d0\"],[0.7,\"#b8e186\"],[0.8,\"#7fbc41\"],[0.9,\"#4d9221\"],[1,\"#276419\"]]},\"xaxis\":{\"gridcolor\":\"#283442\",\"linecolor\":\"#506784\",\"ticks\":\"\",\"title\":{\"standoff\":15},\"zerolinecolor\":\"#283442\",\"automargin\":true,\"zerolinewidth\":2},\"yaxis\":{\"gridcolor\":\"#283442\",\"linecolor\":\"#506784\",\"ticks\":\"\",\"title\":{\"standoff\":15},\"zerolinecolor\":\"#283442\",\"automargin\":true,\"zerolinewidth\":2},\"scene\":{\"xaxis\":{\"backgroundcolor\":\"rgb(17,17,17)\",\"gridcolor\":\"#506784\",\"linecolor\":\"#506784\",\"showbackground\":true,\"ticks\":\"\",\"zerolinecolor\":\"#C8D4E3\",\"gridwidth\":2},\"yaxis\":{\"backgroundcolor\":\"rgb(17,17,17)\",\"gridcolor\":\"#506784\",\"linecolor\":\"#506784\",\"showbackground\":true,\"ticks\":\"\",\"zerolinecolor\":\"#C8D4E3\",\"gridwidth\":2},\"zaxis\":{\"backgroundcolor\":\"rgb(17,17,17)\",\"gridcolor\":\"#506784\",\"linecolor\":\"#506784\",\"showbackground\":true,\"ticks\":\"\",\"zerolinecolor\":\"#C8D4E3\",\"gridwidth\":2}},\"shapedefaults\":{\"line\":{\"color\":\"#f2f5fa\"}},\"annotationdefaults\":{\"arrowcolor\":\"#f2f5fa\",\"arrowhead\":0,\"arrowwidth\":1},\"geo\":{\"bgcolor\":\"rgb(17,17,17)\",\"landcolor\":\"rgb(17,17,17)\",\"subunitcolor\":\"#506784\",\"showland\":true,\"showlakes\":true,\"lakecolor\":\"rgb(17,17,17)\"},\"title\":{\"x\":0.05},\"updatemenudefaults\":{\"bgcolor\":\"#506784\",\"borderwidth\":0},\"sliderdefaults\":{\"bgcolor\":\"#C8D4E3\",\"borderwidth\":1,\"bordercolor\":\"rgb(17,17,17)\",\"tickwidth\":0},\"mapbox\":{\"style\":\"dark\"}}},\"xaxis\":{\"anchor\":\"y\",\"domain\":[0.0,1.0],\"title\":{\"text\":\"name_\"}},\"yaxis\":{\"anchor\":\"x\",\"domain\":[0.0,1.0],\"title\":{\"text\":\"scramble_epa_sum\"}},\"coloraxis\":{\"colorbar\":{\"title\":{\"text\":\"scramble_epa_sum\"}},\"colorscale\":[[0.0,\"#0d0887\"],[0.1111111111111111,\"#46039f\"],[0.2222222222222222,\"#7201a8\"],[0.3333333333333333,\"#9c179e\"],[0.4444444444444444,\"#bd3786\"],[0.5555555555555556,\"#d8576b\"],[0.6666666666666666,\"#ed7953\"],[0.7777777777777778,\"#fb9f3a\"],[0.8888888888888888,\"#fdca26\"],[1.0,\"#f0f921\"]]},\"legend\":{\"tracegroupgap\":0},\"margin\":{\"t\":60},\"barmode\":\"relative\",\"height\":700},                        {\"responsive\": true}                    ).then(function(){\n                            \nvar gd = document.getElementById('d8919038-4d74-4001-8740-a9551093a518');\nvar x = new MutationObserver(function (mutations, observer) {{\n        var display = window.getComputedStyle(gd).display;\n        if (!display || display === 'none') {{\n            console.log([gd, 'removed!']);\n            Plotly.purge(gd);\n            observer.disconnect();\n        }}\n}});\n\n// Listen for the removal of the full notebook cells\nvar notebookContainer = gd.closest('#notebook-container');\nif (notebookContainer) {{\n    x.observe(notebookContainer, {childList: true});\n}}\n\n// Listen for the clearing of the current output cell\nvar outputEl = gd.closest('.output');\nif (outputEl) {{\n    x.observe(outputEl, {childList: true});\n}}\n\n                        })                };                });            </script>        </div>"
     },
     "metadata": {},
     "output_type": "display_data"
    }
   ],
   "source": [
    "epa = epa.sort_values(by = 'scramble_epa_sum', ascending=False)\n",
    "px.bar(epa, x = 'name_', y = 'scramble_epa_sum', color = 'scramble_epa_sum', height = 700)"
   ],
   "metadata": {
    "collapsed": false,
    "ExecuteTime": {
     "end_time": "2024-10-16T04:38:34.044999Z",
     "start_time": "2024-10-16T04:38:34.033827Z"
    }
   },
   "id": "f2c8d14d34b0316e"
  },
  {
   "cell_type": "code",
   "execution_count": 62,
   "outputs": [
    {
     "name": "stdout",
     "output_type": "stream",
     "text": [
      "https://site.api.espn.com/apis/site/v2/sports/football/nfl/scoreboard?limit=1000&dates=2024&seasontype=2&week=1\n",
      "https://site.api.espn.com/apis/site/v2/sports/football/nfl/scoreboard?limit=1000&dates=2024&seasontype=2&week=2\n",
      "https://site.api.espn.com/apis/site/v2/sports/football/nfl/scoreboard?limit=1000&dates=2024&seasontype=2&week=3\n",
      "https://site.api.espn.com/apis/site/v2/sports/football/nfl/scoreboard?limit=1000&dates=2024&seasontype=2&week=4\n",
      "https://site.api.espn.com/apis/site/v2/sports/football/nfl/scoreboard?limit=1000&dates=2024&seasontype=2&week=5\n",
      "https://site.api.espn.com/apis/site/v2/sports/football/nfl/scoreboard?limit=1000&dates=2024&seasontype=2&week=6\n",
      "https://site.api.espn.com/apis/site/v2/sports/football/nfl/scoreboard?limit=1000&dates=2024&seasontype=2&week=7\n",
      "https://site.api.espn.com/apis/site/v2/sports/football/nfl/scoreboard?limit=1000&dates=2024&seasontype=2&week=8\n",
      "https://site.api.espn.com/apis/site/v2/sports/football/nfl/scoreboard?limit=1000&dates=2024&seasontype=2&week=9\n",
      "https://site.api.espn.com/apis/site/v2/sports/football/nfl/scoreboard?limit=1000&dates=2024&seasontype=2&week=10\n",
      "https://site.api.espn.com/apis/site/v2/sports/football/nfl/scoreboard?limit=1000&dates=2024&seasontype=2&week=11\n",
      "https://site.api.espn.com/apis/site/v2/sports/football/nfl/scoreboard?limit=1000&dates=2024&seasontype=2&week=12\n",
      "https://site.api.espn.com/apis/site/v2/sports/football/nfl/scoreboard?limit=1000&dates=2024&seasontype=2&week=13\n",
      "https://site.api.espn.com/apis/site/v2/sports/football/nfl/scoreboard?limit=1000&dates=2024&seasontype=2&week=14\n",
      "https://site.api.espn.com/apis/site/v2/sports/football/nfl/scoreboard?limit=1000&dates=2024&seasontype=2&week=15\n",
      "https://site.api.espn.com/apis/site/v2/sports/football/nfl/scoreboard?limit=1000&dates=2024&seasontype=2&week=16\n",
      "https://site.api.espn.com/apis/site/v2/sports/football/nfl/scoreboard?limit=1000&dates=2024&seasontype=2&week=17\n",
      "https://site.api.espn.com/apis/site/v2/sports/football/nfl/scoreboard?limit=1000&dates=2024&seasontype=2&week=18\n"
     ]
    },
    {
     "name": "stderr",
     "output_type": "stream",
     "text": [
      "100%|██████████| 92/92 [00:21<00:00,  4.34it/s]\n"
     ]
    },
    {
     "name": "stdout",
     "output_type": "stream",
     "text": [
      "https://sports.core.api.espn.com/v2/sports/football/leagues/nfl/seasons/2024/types/2/weeks/1/qbr/10000?page=1\n",
      "https://sports.core.api.espn.com/v2/sports/football/leagues/nfl/seasons/2024/types/2/weeks/1/qbr/10000?page=2\n",
      "https://sports.core.api.espn.com/v2/sports/football/leagues/nfl/seasons/2024/types/2/weeks/2/qbr/10000?page=1\n",
      "https://sports.core.api.espn.com/v2/sports/football/leagues/nfl/seasons/2024/types/2/weeks/2/qbr/10000?page=2\n",
      "https://sports.core.api.espn.com/v2/sports/football/leagues/nfl/seasons/2024/types/2/weeks/3/qbr/10000?page=1\n",
      "https://sports.core.api.espn.com/v2/sports/football/leagues/nfl/seasons/2024/types/2/weeks/3/qbr/10000?page=2\n",
      "https://sports.core.api.espn.com/v2/sports/football/leagues/nfl/seasons/2024/types/2/weeks/4/qbr/10000?page=1\n",
      "https://sports.core.api.espn.com/v2/sports/football/leagues/nfl/seasons/2024/types/2/weeks/4/qbr/10000?page=2\n",
      "https://sports.core.api.espn.com/v2/sports/football/leagues/nfl/seasons/2024/types/2/weeks/5/qbr/10000?page=1\n",
      "https://sports.core.api.espn.com/v2/sports/football/leagues/nfl/seasons/2024/types/2/weeks/5/qbr/10000?page=2\n",
      "https://sports.core.api.espn.com/v2/sports/football/leagues/nfl/seasons/2024/types/2/weeks/6/qbr/10000?page=1\n",
      "https://sports.core.api.espn.com/v2/sports/football/leagues/nfl/seasons/2024/types/2/weeks/6/qbr/10000?page=2\n",
      "https://sports.core.api.espn.com/v2/sports/football/leagues/nfl/seasons/2024/types/2/weeks/7/qbr/10000?page=1\n",
      "https://sports.core.api.espn.com/v2/sports/football/leagues/nfl/seasons/2024/types/2/weeks/8/qbr/10000?page=1\n",
      "https://sports.core.api.espn.com/v2/sports/football/leagues/nfl/seasons/2024/types/2/weeks/9/qbr/10000?page=1\n",
      "https://sports.core.api.espn.com/v2/sports/football/leagues/nfl/seasons/2024/types/2/weeks/10/qbr/10000?page=1\n",
      "https://sports.core.api.espn.com/v2/sports/football/leagues/nfl/seasons/2024/types/2/weeks/11/qbr/10000?page=1\n",
      "https://sports.core.api.espn.com/v2/sports/football/leagues/nfl/seasons/2024/types/2/weeks/12/qbr/10000?page=1\n",
      "https://sports.core.api.espn.com/v2/sports/football/leagues/nfl/seasons/2024/types/2/weeks/13/qbr/10000?page=1\n",
      "https://sports.core.api.espn.com/v2/sports/football/leagues/nfl/seasons/2024/types/2/weeks/14/qbr/10000?page=1\n",
      "https://sports.core.api.espn.com/v2/sports/football/leagues/nfl/seasons/2024/types/2/weeks/15/qbr/10000?page=1\n",
      "https://sports.core.api.espn.com/v2/sports/football/leagues/nfl/seasons/2024/types/2/weeks/16/qbr/10000?page=1\n",
      "https://sports.core.api.espn.com/v2/sports/football/leagues/nfl/seasons/2024/types/2/weeks/17/qbr/10000?page=1\n",
      "https://sports.core.api.espn.com/v2/sports/football/leagues/nfl/seasons/2024/types/2/weeks/18/qbr/10000?page=1\n"
     ]
    }
   ],
   "source": [
    "pb = fetch.qb_epa(year = 2024)"
   ],
   "metadata": {
    "collapsed": false,
    "ExecuteTime": {
     "end_time": "2024-10-16T03:42:58.199557Z",
     "start_time": "2024-10-16T03:42:23.935261Z"
    }
   },
   "id": "2eea1dcc23f4134f"
  },
  {
   "cell_type": "code",
   "execution_count": 63,
   "outputs": [
    {
     "data": {
      "text/plain": "    athlete_id         id points_added pass_epa rush_epa sack_epa penalty_epa  \\\n0         8439  401671696         -0.3      1.4      0.0     -0.5         0.0   \n1        12483  401671792          1.8      5.8      0.0     -0.6         1.0   \n2        14880  401671744         -1.7      0.6      0.0     -0.5         0.2   \n3        15864  401671664          3.1      2.8      0.0     -0.6         0.7   \n4        16757  401671734          3.7      3.2      0.1     -0.2         0.3   \n..         ...        ...          ...      ...      ...      ...         ...   \n178    4426339  401671735         -2.8     -0.2      0.0     -1.8         0.3   \n179    4426348  401671625          3.3      6.1     -0.5     -1.2         0.3   \n180    4431452  401671619         -2.9     -0.3      0.0     -1.5        -0.3   \n181    4431611  401671802          7.4      7.6      0.5     -0.9         0.6   \n182    4432577  401671619          3.7      4.4      0.0     -0.5         1.1   \n\n    total_epa qb_plays  cwa  ... int_epa yac_epa run_epa scramble_epa  \\\n0         1.4       22  0.0  ...     0.0     0.2     0.0          0.0   \n1         6.8       56  0.0  ...     0.0     0.0     0.0          0.0   \n2         0.8       29  0.0  ...     0.0    -0.1     0.0          0.0   \n3         6.1       36  0.0  ...     0.0    -0.4     2.6          2.5   \n4         3.8       28  0.0  ...     0.0    -0.4     0.2          0.1   \n..        ...      ...  ...  ...     ...     ...     ...          ...   \n178       1.3       51  0.0  ...     0.0     0.0     1.3          1.3   \n179       7.0       47  0.0  ...     0.0    -0.1     0.6          0.8   \n180       0.8       46  0.0  ...     0.0     0.5     1.4          1.1   \n181       9.7       39  0.0  ...     0.0     0.2     1.5          0.9   \n182       6.2       37  0.0  ...     0.0    -0.4     0.7          0.6   \n\n    expected_sack_epa fumble_epa defense_faced_epa total_qbr unq_rank  \\\n0                 0.0        0.0              52.0      52.5       19   \n1                 0.0        0.0              54.1      65.5       15   \n2                 0.0        0.0              47.0      34.0       26   \n3                 0.0        0.0              48.8      78.8       10   \n4                 0.0        0.0              68.3      76.0       12   \n..                ...        ...               ...       ...      ...   \n178               0.0        0.0              55.6      27.9       27   \n179               0.0        0.0              56.5      74.4       10   \n180               0.0       -0.7              48.8      31.3       25   \n181               0.0        0.0              70.3      88.4        2   \n182               0.0        0.0              65.0      74.6        9   \n\n                 name  \n0       Aaron Rodgers  \n1    Matthew Stafford  \n2        Kirk Cousins  \n3          Geno Smith  \n4          Derek Carr  \n..                ...  \n178   Spencer Rattler  \n179    Jayden Daniels  \n180        Drake Maye  \n181    Caleb Williams  \n182       C.J. Stroud  \n\n[183 rows x 22 columns]",
      "text/html": "<div>\n<style scoped>\n    .dataframe tbody tr th:only-of-type {\n        vertical-align: middle;\n    }\n\n    .dataframe tbody tr th {\n        vertical-align: top;\n    }\n\n    .dataframe thead th {\n        text-align: right;\n    }\n</style>\n<table border=\"1\" class=\"dataframe\">\n  <thead>\n    <tr style=\"text-align: right;\">\n      <th></th>\n      <th>athlete_id</th>\n      <th>id</th>\n      <th>points_added</th>\n      <th>pass_epa</th>\n      <th>rush_epa</th>\n      <th>sack_epa</th>\n      <th>penalty_epa</th>\n      <th>total_epa</th>\n      <th>qb_plays</th>\n      <th>cwa</th>\n      <th>...</th>\n      <th>int_epa</th>\n      <th>yac_epa</th>\n      <th>run_epa</th>\n      <th>scramble_epa</th>\n      <th>expected_sack_epa</th>\n      <th>fumble_epa</th>\n      <th>defense_faced_epa</th>\n      <th>total_qbr</th>\n      <th>unq_rank</th>\n      <th>name</th>\n    </tr>\n  </thead>\n  <tbody>\n    <tr>\n      <th>0</th>\n      <td>8439</td>\n      <td>401671696</td>\n      <td>-0.3</td>\n      <td>1.4</td>\n      <td>0.0</td>\n      <td>-0.5</td>\n      <td>0.0</td>\n      <td>1.4</td>\n      <td>22</td>\n      <td>0.0</td>\n      <td>...</td>\n      <td>0.0</td>\n      <td>0.2</td>\n      <td>0.0</td>\n      <td>0.0</td>\n      <td>0.0</td>\n      <td>0.0</td>\n      <td>52.0</td>\n      <td>52.5</td>\n      <td>19</td>\n      <td>Aaron Rodgers</td>\n    </tr>\n    <tr>\n      <th>1</th>\n      <td>12483</td>\n      <td>401671792</td>\n      <td>1.8</td>\n      <td>5.8</td>\n      <td>0.0</td>\n      <td>-0.6</td>\n      <td>1.0</td>\n      <td>6.8</td>\n      <td>56</td>\n      <td>0.0</td>\n      <td>...</td>\n      <td>0.0</td>\n      <td>0.0</td>\n      <td>0.0</td>\n      <td>0.0</td>\n      <td>0.0</td>\n      <td>0.0</td>\n      <td>54.1</td>\n      <td>65.5</td>\n      <td>15</td>\n      <td>Matthew Stafford</td>\n    </tr>\n    <tr>\n      <th>2</th>\n      <td>14880</td>\n      <td>401671744</td>\n      <td>-1.7</td>\n      <td>0.6</td>\n      <td>0.0</td>\n      <td>-0.5</td>\n      <td>0.2</td>\n      <td>0.8</td>\n      <td>29</td>\n      <td>0.0</td>\n      <td>...</td>\n      <td>0.0</td>\n      <td>-0.1</td>\n      <td>0.0</td>\n      <td>0.0</td>\n      <td>0.0</td>\n      <td>0.0</td>\n      <td>47.0</td>\n      <td>34.0</td>\n      <td>26</td>\n      <td>Kirk Cousins</td>\n    </tr>\n    <tr>\n      <th>3</th>\n      <td>15864</td>\n      <td>401671664</td>\n      <td>3.1</td>\n      <td>2.8</td>\n      <td>0.0</td>\n      <td>-0.6</td>\n      <td>0.7</td>\n      <td>6.1</td>\n      <td>36</td>\n      <td>0.0</td>\n      <td>...</td>\n      <td>0.0</td>\n      <td>-0.4</td>\n      <td>2.6</td>\n      <td>2.5</td>\n      <td>0.0</td>\n      <td>0.0</td>\n      <td>48.8</td>\n      <td>78.8</td>\n      <td>10</td>\n      <td>Geno Smith</td>\n    </tr>\n    <tr>\n      <th>4</th>\n      <td>16757</td>\n      <td>401671734</td>\n      <td>3.7</td>\n      <td>3.2</td>\n      <td>0.1</td>\n      <td>-0.2</td>\n      <td>0.3</td>\n      <td>3.8</td>\n      <td>28</td>\n      <td>0.0</td>\n      <td>...</td>\n      <td>0.0</td>\n      <td>-0.4</td>\n      <td>0.2</td>\n      <td>0.1</td>\n      <td>0.0</td>\n      <td>0.0</td>\n      <td>68.3</td>\n      <td>76.0</td>\n      <td>12</td>\n      <td>Derek Carr</td>\n    </tr>\n    <tr>\n      <th>...</th>\n      <td>...</td>\n      <td>...</td>\n      <td>...</td>\n      <td>...</td>\n      <td>...</td>\n      <td>...</td>\n      <td>...</td>\n      <td>...</td>\n      <td>...</td>\n      <td>...</td>\n      <td>...</td>\n      <td>...</td>\n      <td>...</td>\n      <td>...</td>\n      <td>...</td>\n      <td>...</td>\n      <td>...</td>\n      <td>...</td>\n      <td>...</td>\n      <td>...</td>\n      <td>...</td>\n    </tr>\n    <tr>\n      <th>178</th>\n      <td>4426339</td>\n      <td>401671735</td>\n      <td>-2.8</td>\n      <td>-0.2</td>\n      <td>0.0</td>\n      <td>-1.8</td>\n      <td>0.3</td>\n      <td>1.3</td>\n      <td>51</td>\n      <td>0.0</td>\n      <td>...</td>\n      <td>0.0</td>\n      <td>0.0</td>\n      <td>1.3</td>\n      <td>1.3</td>\n      <td>0.0</td>\n      <td>0.0</td>\n      <td>55.6</td>\n      <td>27.9</td>\n      <td>27</td>\n      <td>Spencer Rattler</td>\n    </tr>\n    <tr>\n      <th>179</th>\n      <td>4426348</td>\n      <td>401671625</td>\n      <td>3.3</td>\n      <td>6.1</td>\n      <td>-0.5</td>\n      <td>-1.2</td>\n      <td>0.3</td>\n      <td>7.0</td>\n      <td>47</td>\n      <td>0.0</td>\n      <td>...</td>\n      <td>0.0</td>\n      <td>-0.1</td>\n      <td>0.6</td>\n      <td>0.8</td>\n      <td>0.0</td>\n      <td>0.0</td>\n      <td>56.5</td>\n      <td>74.4</td>\n      <td>10</td>\n      <td>Jayden Daniels</td>\n    </tr>\n    <tr>\n      <th>180</th>\n      <td>4431452</td>\n      <td>401671619</td>\n      <td>-2.9</td>\n      <td>-0.3</td>\n      <td>0.0</td>\n      <td>-1.5</td>\n      <td>-0.3</td>\n      <td>0.8</td>\n      <td>46</td>\n      <td>0.0</td>\n      <td>...</td>\n      <td>0.0</td>\n      <td>0.5</td>\n      <td>1.4</td>\n      <td>1.1</td>\n      <td>0.0</td>\n      <td>-0.7</td>\n      <td>48.8</td>\n      <td>31.3</td>\n      <td>25</td>\n      <td>Drake Maye</td>\n    </tr>\n    <tr>\n      <th>181</th>\n      <td>4431611</td>\n      <td>401671802</td>\n      <td>7.4</td>\n      <td>7.6</td>\n      <td>0.5</td>\n      <td>-0.9</td>\n      <td>0.6</td>\n      <td>9.7</td>\n      <td>39</td>\n      <td>0.0</td>\n      <td>...</td>\n      <td>0.0</td>\n      <td>0.2</td>\n      <td>1.5</td>\n      <td>0.9</td>\n      <td>0.0</td>\n      <td>0.0</td>\n      <td>70.3</td>\n      <td>88.4</td>\n      <td>2</td>\n      <td>Caleb Williams</td>\n    </tr>\n    <tr>\n      <th>182</th>\n      <td>4432577</td>\n      <td>401671619</td>\n      <td>3.7</td>\n      <td>4.4</td>\n      <td>0.0</td>\n      <td>-0.5</td>\n      <td>1.1</td>\n      <td>6.2</td>\n      <td>37</td>\n      <td>0.0</td>\n      <td>...</td>\n      <td>0.0</td>\n      <td>-0.4</td>\n      <td>0.7</td>\n      <td>0.6</td>\n      <td>0.0</td>\n      <td>0.0</td>\n      <td>65.0</td>\n      <td>74.6</td>\n      <td>9</td>\n      <td>C.J. Stroud</td>\n    </tr>\n  </tbody>\n</table>\n<p>183 rows × 22 columns</p>\n</div>"
     },
     "execution_count": 63,
     "metadata": {},
     "output_type": "execute_result"
    }
   ],
   "source": [
    "pb"
   ],
   "metadata": {
    "collapsed": false,
    "ExecuteTime": {
     "end_time": "2024-10-16T03:43:03.202370Z",
     "start_time": "2024-10-16T03:43:03.196209Z"
    }
   },
   "id": "5668b5b1e0692fad"
  },
  {
   "cell_type": "code",
   "execution_count": 9,
   "outputs": [
    {
     "data": {
      "text/plain": "       name                id\n0   4361741       Brock Purdy\n1     15864        Geno Smith\n2   4360310   Trevor Lawrence\n3   4241464         Mac Jones\n4   4431611    Caleb Williams\n..      ...               ...\n60  4241479    Tua Tagovailoa\n61  3916370          Jack Fox\n62  4242431       Ty Chandler\n63    14163      Tyrod Taylor\n64  3126486  Deebo Samuel Sr.\n\n[65 rows x 2 columns]",
      "text/html": "<div>\n<style scoped>\n    .dataframe tbody tr th:only-of-type {\n        vertical-align: middle;\n    }\n\n    .dataframe tbody tr th {\n        vertical-align: top;\n    }\n\n    .dataframe thead th {\n        text-align: right;\n    }\n</style>\n<table border=\"1\" class=\"dataframe\">\n  <thead>\n    <tr style=\"text-align: right;\">\n      <th></th>\n      <th>name</th>\n      <th>id</th>\n    </tr>\n  </thead>\n  <tbody>\n    <tr>\n      <th>0</th>\n      <td>4361741</td>\n      <td>Brock Purdy</td>\n    </tr>\n    <tr>\n      <th>1</th>\n      <td>15864</td>\n      <td>Geno Smith</td>\n    </tr>\n    <tr>\n      <th>2</th>\n      <td>4360310</td>\n      <td>Trevor Lawrence</td>\n    </tr>\n    <tr>\n      <th>3</th>\n      <td>4241464</td>\n      <td>Mac Jones</td>\n    </tr>\n    <tr>\n      <th>4</th>\n      <td>4431611</td>\n      <td>Caleb Williams</td>\n    </tr>\n    <tr>\n      <th>...</th>\n      <td>...</td>\n      <td>...</td>\n    </tr>\n    <tr>\n      <th>60</th>\n      <td>4241479</td>\n      <td>Tua Tagovailoa</td>\n    </tr>\n    <tr>\n      <th>61</th>\n      <td>3916370</td>\n      <td>Jack Fox</td>\n    </tr>\n    <tr>\n      <th>62</th>\n      <td>4242431</td>\n      <td>Ty Chandler</td>\n    </tr>\n    <tr>\n      <th>63</th>\n      <td>14163</td>\n      <td>Tyrod Taylor</td>\n    </tr>\n    <tr>\n      <th>64</th>\n      <td>3126486</td>\n      <td>Deebo Samuel Sr.</td>\n    </tr>\n  </tbody>\n</table>\n<p>65 rows × 2 columns</p>\n</div>"
     },
     "execution_count": 9,
     "metadata": {},
     "output_type": "execute_result"
    }
   ],
   "source": [
    "athlete_dict = {'name':[], 'id':[]}\n",
    "\n",
    "for id, name in zip(pb.name.unique(), pb.athlete_id.unique()):\n",
    "    athlete_dict['name'].append(name)\n",
    "    athlete_dict['id'].append(id)\n",
    "    \n",
    "athlete_df = pd.DataFrame(athlete_dict)\n",
    "athlete_df"
   ],
   "metadata": {
    "collapsed": false,
    "ExecuteTime": {
     "end_time": "2024-10-14T18:11:29.168672Z",
     "start_time": "2024-10-14T18:11:29.157180Z"
    }
   },
   "id": "f030cde5f6acf5ab"
  },
  {
   "cell_type": "code",
   "execution_count": 6,
   "outputs": [
    {
     "data": {
      "text/plain": "                  date                  team              name athlete_id  \\\n0    2024-10-11T00:15Z   San Francisco 49ers       Brock Purdy    4361741   \n1    2024-10-11T00:15Z      Seattle Seahawks        Geno Smith      15864   \n2    2024-10-13T13:30Z  Jacksonville Jaguars   Trevor Lawrence    4360310   \n3    2024-10-13T13:30Z  Jacksonville Jaguars         Mac Jones    4241464   \n4    2024-10-13T13:30Z         Chicago Bears    Caleb Williams    4431611   \n..                 ...                   ...               ...        ...   \n215  2024-09-09T00:20Z         Detroit Lions        Jared Goff    3046779   \n216  2024-09-10T00:15Z         New York Jets     Aaron Rodgers       8439   \n217  2024-09-10T00:15Z         New York Jets      Tyrod Taylor      14163   \n218  2024-09-10T00:15Z   San Francisco 49ers       Brock Purdy    4361741   \n219  2024-09-10T00:15Z   San Francisco 49ers  Deebo Samuel Sr.    3126486   \n\n    number  yards  yards_per_attempt  touchdowns  interceptions sacks  \\\n0       13    255                9.1           3              0   0-0   \n1        7    312                6.0           1              2   1-6   \n2       16    234                6.7           2              1  3-20   \n3       10      6                6.0           0              0  1-10   \n4       18    226                7.8           4              1   3-5   \n..     ...    ...                ...         ...            ...   ...   \n215     16    217                7.8           1              1  2-17   \n216      8    167                8.0           1              1   1-5   \n217      2     36                4.5           1              0   0-0   \n218     13    231                8.0           0              0   2-6   \n219      1      0                0.0           0              0   1-4   \n\n     adjusted_qbr  passer_rating  completions  attempts  times_sacked  \\\n0            90.5          129.3           18        28             0   \n1            53.1           65.5           30        52             1   \n2            66.6           91.8           23        35             3   \n3             8.1           91.7            1         1             1   \n4            88.4          124.4           23        29             3   \n..            ...            ...          ...       ...           ...   \n215          30.8           85.0           18        28             2   \n216          52.3           82.8           13        21             1   \n217          96.1          122.9            6         8             0   \n218          87.4           89.9           19        29             2   \n219           0.0            0.0            0         0             1   \n\n     sack_yards  completion_%  yards_per_completion  touchdown_%  \n0             0     64.285714             14.166667    10.714286  \n1             6     57.692308             10.400000     1.923077  \n2            20     65.714286             10.173913     5.714286  \n3            10    100.000000              6.000000     0.000000  \n4             5     79.310345              9.826087    13.793103  \n..          ...           ...                   ...          ...  \n215          17     64.285714             12.055556     3.571429  \n216           5     61.904762             12.846154     4.761905  \n217           0     75.000000              6.000000    12.500000  \n218           6     65.517241             12.157895     0.000000  \n219           4           NaN                   NaN          NaN  \n\n[220 rows x 19 columns]",
      "text/html": "<div>\n<style scoped>\n    .dataframe tbody tr th:only-of-type {\n        vertical-align: middle;\n    }\n\n    .dataframe tbody tr th {\n        vertical-align: top;\n    }\n\n    .dataframe thead th {\n        text-align: right;\n    }\n</style>\n<table border=\"1\" class=\"dataframe\">\n  <thead>\n    <tr style=\"text-align: right;\">\n      <th></th>\n      <th>date</th>\n      <th>team</th>\n      <th>name</th>\n      <th>athlete_id</th>\n      <th>number</th>\n      <th>yards</th>\n      <th>yards_per_attempt</th>\n      <th>touchdowns</th>\n      <th>interceptions</th>\n      <th>sacks</th>\n      <th>adjusted_qbr</th>\n      <th>passer_rating</th>\n      <th>completions</th>\n      <th>attempts</th>\n      <th>times_sacked</th>\n      <th>sack_yards</th>\n      <th>completion_%</th>\n      <th>yards_per_completion</th>\n      <th>touchdown_%</th>\n    </tr>\n  </thead>\n  <tbody>\n    <tr>\n      <th>0</th>\n      <td>2024-10-11T00:15Z</td>\n      <td>San Francisco 49ers</td>\n      <td>Brock Purdy</td>\n      <td>4361741</td>\n      <td>13</td>\n      <td>255</td>\n      <td>9.1</td>\n      <td>3</td>\n      <td>0</td>\n      <td>0-0</td>\n      <td>90.5</td>\n      <td>129.3</td>\n      <td>18</td>\n      <td>28</td>\n      <td>0</td>\n      <td>0</td>\n      <td>64.285714</td>\n      <td>14.166667</td>\n      <td>10.714286</td>\n    </tr>\n    <tr>\n      <th>1</th>\n      <td>2024-10-11T00:15Z</td>\n      <td>Seattle Seahawks</td>\n      <td>Geno Smith</td>\n      <td>15864</td>\n      <td>7</td>\n      <td>312</td>\n      <td>6.0</td>\n      <td>1</td>\n      <td>2</td>\n      <td>1-6</td>\n      <td>53.1</td>\n      <td>65.5</td>\n      <td>30</td>\n      <td>52</td>\n      <td>1</td>\n      <td>6</td>\n      <td>57.692308</td>\n      <td>10.400000</td>\n      <td>1.923077</td>\n    </tr>\n    <tr>\n      <th>2</th>\n      <td>2024-10-13T13:30Z</td>\n      <td>Jacksonville Jaguars</td>\n      <td>Trevor Lawrence</td>\n      <td>4360310</td>\n      <td>16</td>\n      <td>234</td>\n      <td>6.7</td>\n      <td>2</td>\n      <td>1</td>\n      <td>3-20</td>\n      <td>66.6</td>\n      <td>91.8</td>\n      <td>23</td>\n      <td>35</td>\n      <td>3</td>\n      <td>20</td>\n      <td>65.714286</td>\n      <td>10.173913</td>\n      <td>5.714286</td>\n    </tr>\n    <tr>\n      <th>3</th>\n      <td>2024-10-13T13:30Z</td>\n      <td>Jacksonville Jaguars</td>\n      <td>Mac Jones</td>\n      <td>4241464</td>\n      <td>10</td>\n      <td>6</td>\n      <td>6.0</td>\n      <td>0</td>\n      <td>0</td>\n      <td>1-10</td>\n      <td>8.1</td>\n      <td>91.7</td>\n      <td>1</td>\n      <td>1</td>\n      <td>1</td>\n      <td>10</td>\n      <td>100.000000</td>\n      <td>6.000000</td>\n      <td>0.000000</td>\n    </tr>\n    <tr>\n      <th>4</th>\n      <td>2024-10-13T13:30Z</td>\n      <td>Chicago Bears</td>\n      <td>Caleb Williams</td>\n      <td>4431611</td>\n      <td>18</td>\n      <td>226</td>\n      <td>7.8</td>\n      <td>4</td>\n      <td>1</td>\n      <td>3-5</td>\n      <td>88.4</td>\n      <td>124.4</td>\n      <td>23</td>\n      <td>29</td>\n      <td>3</td>\n      <td>5</td>\n      <td>79.310345</td>\n      <td>9.826087</td>\n      <td>13.793103</td>\n    </tr>\n    <tr>\n      <th>...</th>\n      <td>...</td>\n      <td>...</td>\n      <td>...</td>\n      <td>...</td>\n      <td>...</td>\n      <td>...</td>\n      <td>...</td>\n      <td>...</td>\n      <td>...</td>\n      <td>...</td>\n      <td>...</td>\n      <td>...</td>\n      <td>...</td>\n      <td>...</td>\n      <td>...</td>\n      <td>...</td>\n      <td>...</td>\n      <td>...</td>\n      <td>...</td>\n    </tr>\n    <tr>\n      <th>215</th>\n      <td>2024-09-09T00:20Z</td>\n      <td>Detroit Lions</td>\n      <td>Jared Goff</td>\n      <td>3046779</td>\n      <td>16</td>\n      <td>217</td>\n      <td>7.8</td>\n      <td>1</td>\n      <td>1</td>\n      <td>2-17</td>\n      <td>30.8</td>\n      <td>85.0</td>\n      <td>18</td>\n      <td>28</td>\n      <td>2</td>\n      <td>17</td>\n      <td>64.285714</td>\n      <td>12.055556</td>\n      <td>3.571429</td>\n    </tr>\n    <tr>\n      <th>216</th>\n      <td>2024-09-10T00:15Z</td>\n      <td>New York Jets</td>\n      <td>Aaron Rodgers</td>\n      <td>8439</td>\n      <td>8</td>\n      <td>167</td>\n      <td>8.0</td>\n      <td>1</td>\n      <td>1</td>\n      <td>1-5</td>\n      <td>52.3</td>\n      <td>82.8</td>\n      <td>13</td>\n      <td>21</td>\n      <td>1</td>\n      <td>5</td>\n      <td>61.904762</td>\n      <td>12.846154</td>\n      <td>4.761905</td>\n    </tr>\n    <tr>\n      <th>217</th>\n      <td>2024-09-10T00:15Z</td>\n      <td>New York Jets</td>\n      <td>Tyrod Taylor</td>\n      <td>14163</td>\n      <td>2</td>\n      <td>36</td>\n      <td>4.5</td>\n      <td>1</td>\n      <td>0</td>\n      <td>0-0</td>\n      <td>96.1</td>\n      <td>122.9</td>\n      <td>6</td>\n      <td>8</td>\n      <td>0</td>\n      <td>0</td>\n      <td>75.000000</td>\n      <td>6.000000</td>\n      <td>12.500000</td>\n    </tr>\n    <tr>\n      <th>218</th>\n      <td>2024-09-10T00:15Z</td>\n      <td>San Francisco 49ers</td>\n      <td>Brock Purdy</td>\n      <td>4361741</td>\n      <td>13</td>\n      <td>231</td>\n      <td>8.0</td>\n      <td>0</td>\n      <td>0</td>\n      <td>2-6</td>\n      <td>87.4</td>\n      <td>89.9</td>\n      <td>19</td>\n      <td>29</td>\n      <td>2</td>\n      <td>6</td>\n      <td>65.517241</td>\n      <td>12.157895</td>\n      <td>0.000000</td>\n    </tr>\n    <tr>\n      <th>219</th>\n      <td>2024-09-10T00:15Z</td>\n      <td>San Francisco 49ers</td>\n      <td>Deebo Samuel Sr.</td>\n      <td>3126486</td>\n      <td>1</td>\n      <td>0</td>\n      <td>0.0</td>\n      <td>0</td>\n      <td>0</td>\n      <td>1-4</td>\n      <td>0.0</td>\n      <td>0.0</td>\n      <td>0</td>\n      <td>0</td>\n      <td>1</td>\n      <td>4</td>\n      <td>NaN</td>\n      <td>NaN</td>\n      <td>NaN</td>\n    </tr>\n  </tbody>\n</table>\n<p>220 rows × 19 columns</p>\n</div>"
     },
     "execution_count": 6,
     "metadata": {},
     "output_type": "execute_result"
    }
   ],
   "source": [
    "\n",
    "pb"
   ],
   "metadata": {
    "collapsed": false,
    "ExecuteTime": {
     "end_time": "2024-10-14T18:09:12.789457Z",
     "start_time": "2024-10-14T18:09:12.764229Z"
    }
   },
   "id": "c0ffb5296df1ef9b"
  },
  {
   "cell_type": "code",
   "execution_count": 52,
   "outputs": [],
   "source": [],
   "metadata": {
    "collapsed": false,
    "ExecuteTime": {
     "end_time": "2024-10-13T04:45:30.291641Z",
     "start_time": "2024-10-13T04:45:30.286383Z"
    }
   },
   "id": "8cfbbba7da203ed5"
  },
  {
   "cell_type": "code",
   "execution_count": 5,
   "outputs": [
    {
     "name": "stdout",
     "output_type": "stream",
     "text": [
      "https://site.api.espn.com/apis/site/v2/sports/football/nfl/scoreboard?limit=1000&dates=2024&seasontype=2&week=1\n",
      "https://site.api.espn.com/apis/site/v2/sports/football/nfl/scoreboard?limit=1000&dates=2024&seasontype=2&week=2\n",
      "https://site.api.espn.com/apis/site/v2/sports/football/nfl/scoreboard?limit=1000&dates=2024&seasontype=2&week=3\n",
      "https://site.api.espn.com/apis/site/v2/sports/football/nfl/scoreboard?limit=1000&dates=2024&seasontype=2&week=4\n",
      "https://site.api.espn.com/apis/site/v2/sports/football/nfl/scoreboard?limit=1000&dates=2024&seasontype=2&week=5\n",
      "https://site.api.espn.com/apis/site/v2/sports/football/nfl/scoreboard?limit=1000&dates=2024&seasontype=2&week=6\n",
      "https://site.api.espn.com/apis/site/v2/sports/football/nfl/scoreboard?limit=1000&dates=2024&seasontype=2&week=7\n",
      "https://site.api.espn.com/apis/site/v2/sports/football/nfl/scoreboard?limit=1000&dates=2024&seasontype=2&week=8\n",
      "https://site.api.espn.com/apis/site/v2/sports/football/nfl/scoreboard?limit=1000&dates=2024&seasontype=2&week=9\n",
      "https://site.api.espn.com/apis/site/v2/sports/football/nfl/scoreboard?limit=1000&dates=2024&seasontype=2&week=10\n",
      "https://site.api.espn.com/apis/site/v2/sports/football/nfl/scoreboard?limit=1000&dates=2024&seasontype=2&week=11\n",
      "https://site.api.espn.com/apis/site/v2/sports/football/nfl/scoreboard?limit=1000&dates=2024&seasontype=2&week=12\n",
      "https://site.api.espn.com/apis/site/v2/sports/football/nfl/scoreboard?limit=1000&dates=2024&seasontype=2&week=13\n",
      "https://site.api.espn.com/apis/site/v2/sports/football/nfl/scoreboard?limit=1000&dates=2024&seasontype=2&week=14\n",
      "https://site.api.espn.com/apis/site/v2/sports/football/nfl/scoreboard?limit=1000&dates=2024&seasontype=2&week=15\n",
      "https://site.api.espn.com/apis/site/v2/sports/football/nfl/scoreboard?limit=1000&dates=2024&seasontype=2&week=16\n",
      "https://site.api.espn.com/apis/site/v2/sports/football/nfl/scoreboard?limit=1000&dates=2024&seasontype=2&week=17\n",
      "https://site.api.espn.com/apis/site/v2/sports/football/nfl/scoreboard?limit=1000&dates=2024&seasontype=2&week=18\n"
     ]
    },
    {
     "name": "stderr",
     "output_type": "stream",
     "text": [
      "100%|██████████| 91/91 [00:18<00:00,  4.97it/s]\n"
     ]
    },
    {
     "name": "stdout",
     "output_type": "stream",
     "text": [
      "https://sports.core.api.espn.com/v2/sports/football/leagues/nfl/seasons/2024/types/2/weeks/1/qbr/10000?page=1\n",
      "https://sports.core.api.espn.com/v2/sports/football/leagues/nfl/seasons/2024/types/2/weeks/1/qbr/10000?page=2\n",
      "https://sports.core.api.espn.com/v2/sports/football/leagues/nfl/seasons/2024/types/2/weeks/2/qbr/10000?page=1\n",
      "https://sports.core.api.espn.com/v2/sports/football/leagues/nfl/seasons/2024/types/2/weeks/2/qbr/10000?page=2\n",
      "https://sports.core.api.espn.com/v2/sports/football/leagues/nfl/seasons/2024/types/2/weeks/3/qbr/10000?page=1\n",
      "https://sports.core.api.espn.com/v2/sports/football/leagues/nfl/seasons/2024/types/2/weeks/3/qbr/10000?page=2\n",
      "https://sports.core.api.espn.com/v2/sports/football/leagues/nfl/seasons/2024/types/2/weeks/4/qbr/10000?page=1\n",
      "https://sports.core.api.espn.com/v2/sports/football/leagues/nfl/seasons/2024/types/2/weeks/4/qbr/10000?page=2\n",
      "https://sports.core.api.espn.com/v2/sports/football/leagues/nfl/seasons/2024/types/2/weeks/5/qbr/10000?page=1\n",
      "https://sports.core.api.espn.com/v2/sports/football/leagues/nfl/seasons/2024/types/2/weeks/5/qbr/10000?page=2\n",
      "https://sports.core.api.espn.com/v2/sports/football/leagues/nfl/seasons/2024/types/2/weeks/6/qbr/10000?page=1\n",
      "https://sports.core.api.espn.com/v2/sports/football/leagues/nfl/seasons/2024/types/2/weeks/6/qbr/10000?page=2\n",
      "https://sports.core.api.espn.com/v2/sports/football/leagues/nfl/seasons/2024/types/2/weeks/7/qbr/10000?page=1\n",
      "https://sports.core.api.espn.com/v2/sports/football/leagues/nfl/seasons/2024/types/2/weeks/8/qbr/10000?page=1\n",
      "https://sports.core.api.espn.com/v2/sports/football/leagues/nfl/seasons/2024/types/2/weeks/9/qbr/10000?page=1\n",
      "https://sports.core.api.espn.com/v2/sports/football/leagues/nfl/seasons/2024/types/2/weeks/10/qbr/10000?page=1\n",
      "https://sports.core.api.espn.com/v2/sports/football/leagues/nfl/seasons/2024/types/2/weeks/11/qbr/10000?page=1\n",
      "https://sports.core.api.espn.com/v2/sports/football/leagues/nfl/seasons/2024/types/2/weeks/12/qbr/10000?page=1\n",
      "https://sports.core.api.espn.com/v2/sports/football/leagues/nfl/seasons/2024/types/2/weeks/13/qbr/10000?page=1\n",
      "https://sports.core.api.espn.com/v2/sports/football/leagues/nfl/seasons/2024/types/2/weeks/14/qbr/10000?page=1\n",
      "https://sports.core.api.espn.com/v2/sports/football/leagues/nfl/seasons/2024/types/2/weeks/15/qbr/10000?page=1\n",
      "https://sports.core.api.espn.com/v2/sports/football/leagues/nfl/seasons/2024/types/2/weeks/16/qbr/10000?page=1\n",
      "https://sports.core.api.espn.com/v2/sports/football/leagues/nfl/seasons/2024/types/2/weeks/17/qbr/10000?page=1\n",
      "https://sports.core.api.espn.com/v2/sports/football/leagues/nfl/seasons/2024/types/2/weeks/18/qbr/10000?page=1\n"
     ]
    },
    {
     "data": {
      "text/plain": "    athlete_id         id points_added pass_epa rush_epa sack_epa penalty_epa  \\\n0         8439  401671696         -0.3      1.4      0.0     -0.5         0.0   \n1        12483  401671792          1.8      5.8      0.0     -0.6         1.0   \n2        14880  401671744         -1.7      0.6      0.0     -0.5         0.2   \n3        15864  401671664          3.1      2.8      0.0     -0.6         0.7   \n4        16757  401671734          3.7      3.2      0.1     -0.2         0.3   \n..         ...        ...          ...      ...      ...      ...         ...   \n176    4426339  401671735         -2.8     -0.2      0.0     -1.8         0.3   \n177    4426348  401671625          3.3      6.1     -0.5     -1.2         0.3   \n178    4431452  401671619         -2.9     -0.3      0.0     -1.5        -0.3   \n179    4431611  401671802          7.4      7.6      0.5     -0.9         0.6   \n180    4432577  401671619          3.7      4.4      0.0     -0.5         1.1   \n\n    total_epa qb_plays  cwa  ... int_epa yac_epa run_epa scramble_epa  \\\n0         1.4       22  0.0  ...     0.0     0.2     0.0          0.0   \n1         6.8       56  0.0  ...     0.0     0.0     0.0          0.0   \n2         0.8       29  0.0  ...     0.0    -0.1     0.0          0.0   \n3         6.1       36  0.0  ...     0.0    -0.4     2.6          2.5   \n4         3.8       28  0.0  ...     0.0    -0.4     0.2          0.1   \n..        ...      ...  ...  ...     ...     ...     ...          ...   \n176       1.3       51  0.0  ...     0.0     0.0     1.3          1.3   \n177       7.0       47  0.0  ...     0.0    -0.1     0.6          0.8   \n178       0.8       46  0.0  ...     0.0     0.5     1.4          1.1   \n179       9.7       39  0.0  ...     0.0     0.2     1.5          0.9   \n180       6.2       37  0.0  ...     0.0    -0.4     0.7          0.6   \n\n    expected_sack_epa fumble_epa defense_faced_epa total_qbr unq_rank  \\\n0                 0.0        0.0              52.0      52.3       19   \n1                 0.0        0.0              54.1      65.3       15   \n2                 0.0        0.0              47.0      33.8       26   \n3                 0.0        0.0              48.8      78.7       10   \n4                 0.0        0.0              68.3      75.9       12   \n..                ...        ...               ...       ...      ...   \n176               0.0        0.0              55.6      27.7       25   \n177               0.0        0.0              56.5      74.2        9   \n178               0.0       -0.7              48.8      31.1       23   \n179               0.0        0.0              70.3      88.4        2   \n180               0.0        0.0              65.0      74.5        8   \n\n                 name  \n0       Aaron Rodgers  \n1    Matthew Stafford  \n2        Kirk Cousins  \n3          Geno Smith  \n4          Derek Carr  \n..                ...  \n176   Spencer Rattler  \n177    Jayden Daniels  \n178        Drake Maye  \n179    Caleb Williams  \n180       C.J. Stroud  \n\n[181 rows x 22 columns]",
      "text/html": "<div>\n<style scoped>\n    .dataframe tbody tr th:only-of-type {\n        vertical-align: middle;\n    }\n\n    .dataframe tbody tr th {\n        vertical-align: top;\n    }\n\n    .dataframe thead th {\n        text-align: right;\n    }\n</style>\n<table border=\"1\" class=\"dataframe\">\n  <thead>\n    <tr style=\"text-align: right;\">\n      <th></th>\n      <th>athlete_id</th>\n      <th>id</th>\n      <th>points_added</th>\n      <th>pass_epa</th>\n      <th>rush_epa</th>\n      <th>sack_epa</th>\n      <th>penalty_epa</th>\n      <th>total_epa</th>\n      <th>qb_plays</th>\n      <th>cwa</th>\n      <th>...</th>\n      <th>int_epa</th>\n      <th>yac_epa</th>\n      <th>run_epa</th>\n      <th>scramble_epa</th>\n      <th>expected_sack_epa</th>\n      <th>fumble_epa</th>\n      <th>defense_faced_epa</th>\n      <th>total_qbr</th>\n      <th>unq_rank</th>\n      <th>name</th>\n    </tr>\n  </thead>\n  <tbody>\n    <tr>\n      <th>0</th>\n      <td>8439</td>\n      <td>401671696</td>\n      <td>-0.3</td>\n      <td>1.4</td>\n      <td>0.0</td>\n      <td>-0.5</td>\n      <td>0.0</td>\n      <td>1.4</td>\n      <td>22</td>\n      <td>0.0</td>\n      <td>...</td>\n      <td>0.0</td>\n      <td>0.2</td>\n      <td>0.0</td>\n      <td>0.0</td>\n      <td>0.0</td>\n      <td>0.0</td>\n      <td>52.0</td>\n      <td>52.3</td>\n      <td>19</td>\n      <td>Aaron Rodgers</td>\n    </tr>\n    <tr>\n      <th>1</th>\n      <td>12483</td>\n      <td>401671792</td>\n      <td>1.8</td>\n      <td>5.8</td>\n      <td>0.0</td>\n      <td>-0.6</td>\n      <td>1.0</td>\n      <td>6.8</td>\n      <td>56</td>\n      <td>0.0</td>\n      <td>...</td>\n      <td>0.0</td>\n      <td>0.0</td>\n      <td>0.0</td>\n      <td>0.0</td>\n      <td>0.0</td>\n      <td>0.0</td>\n      <td>54.1</td>\n      <td>65.3</td>\n      <td>15</td>\n      <td>Matthew Stafford</td>\n    </tr>\n    <tr>\n      <th>2</th>\n      <td>14880</td>\n      <td>401671744</td>\n      <td>-1.7</td>\n      <td>0.6</td>\n      <td>0.0</td>\n      <td>-0.5</td>\n      <td>0.2</td>\n      <td>0.8</td>\n      <td>29</td>\n      <td>0.0</td>\n      <td>...</td>\n      <td>0.0</td>\n      <td>-0.1</td>\n      <td>0.0</td>\n      <td>0.0</td>\n      <td>0.0</td>\n      <td>0.0</td>\n      <td>47.0</td>\n      <td>33.8</td>\n      <td>26</td>\n      <td>Kirk Cousins</td>\n    </tr>\n    <tr>\n      <th>3</th>\n      <td>15864</td>\n      <td>401671664</td>\n      <td>3.1</td>\n      <td>2.8</td>\n      <td>0.0</td>\n      <td>-0.6</td>\n      <td>0.7</td>\n      <td>6.1</td>\n      <td>36</td>\n      <td>0.0</td>\n      <td>...</td>\n      <td>0.0</td>\n      <td>-0.4</td>\n      <td>2.6</td>\n      <td>2.5</td>\n      <td>0.0</td>\n      <td>0.0</td>\n      <td>48.8</td>\n      <td>78.7</td>\n      <td>10</td>\n      <td>Geno Smith</td>\n    </tr>\n    <tr>\n      <th>4</th>\n      <td>16757</td>\n      <td>401671734</td>\n      <td>3.7</td>\n      <td>3.2</td>\n      <td>0.1</td>\n      <td>-0.2</td>\n      <td>0.3</td>\n      <td>3.8</td>\n      <td>28</td>\n      <td>0.0</td>\n      <td>...</td>\n      <td>0.0</td>\n      <td>-0.4</td>\n      <td>0.2</td>\n      <td>0.1</td>\n      <td>0.0</td>\n      <td>0.0</td>\n      <td>68.3</td>\n      <td>75.9</td>\n      <td>12</td>\n      <td>Derek Carr</td>\n    </tr>\n    <tr>\n      <th>...</th>\n      <td>...</td>\n      <td>...</td>\n      <td>...</td>\n      <td>...</td>\n      <td>...</td>\n      <td>...</td>\n      <td>...</td>\n      <td>...</td>\n      <td>...</td>\n      <td>...</td>\n      <td>...</td>\n      <td>...</td>\n      <td>...</td>\n      <td>...</td>\n      <td>...</td>\n      <td>...</td>\n      <td>...</td>\n      <td>...</td>\n      <td>...</td>\n      <td>...</td>\n      <td>...</td>\n    </tr>\n    <tr>\n      <th>176</th>\n      <td>4426339</td>\n      <td>401671735</td>\n      <td>-2.8</td>\n      <td>-0.2</td>\n      <td>0.0</td>\n      <td>-1.8</td>\n      <td>0.3</td>\n      <td>1.3</td>\n      <td>51</td>\n      <td>0.0</td>\n      <td>...</td>\n      <td>0.0</td>\n      <td>0.0</td>\n      <td>1.3</td>\n      <td>1.3</td>\n      <td>0.0</td>\n      <td>0.0</td>\n      <td>55.6</td>\n      <td>27.7</td>\n      <td>25</td>\n      <td>Spencer Rattler</td>\n    </tr>\n    <tr>\n      <th>177</th>\n      <td>4426348</td>\n      <td>401671625</td>\n      <td>3.3</td>\n      <td>6.1</td>\n      <td>-0.5</td>\n      <td>-1.2</td>\n      <td>0.3</td>\n      <td>7.0</td>\n      <td>47</td>\n      <td>0.0</td>\n      <td>...</td>\n      <td>0.0</td>\n      <td>-0.1</td>\n      <td>0.6</td>\n      <td>0.8</td>\n      <td>0.0</td>\n      <td>0.0</td>\n      <td>56.5</td>\n      <td>74.2</td>\n      <td>9</td>\n      <td>Jayden Daniels</td>\n    </tr>\n    <tr>\n      <th>178</th>\n      <td>4431452</td>\n      <td>401671619</td>\n      <td>-2.9</td>\n      <td>-0.3</td>\n      <td>0.0</td>\n      <td>-1.5</td>\n      <td>-0.3</td>\n      <td>0.8</td>\n      <td>46</td>\n      <td>0.0</td>\n      <td>...</td>\n      <td>0.0</td>\n      <td>0.5</td>\n      <td>1.4</td>\n      <td>1.1</td>\n      <td>0.0</td>\n      <td>-0.7</td>\n      <td>48.8</td>\n      <td>31.1</td>\n      <td>23</td>\n      <td>Drake Maye</td>\n    </tr>\n    <tr>\n      <th>179</th>\n      <td>4431611</td>\n      <td>401671802</td>\n      <td>7.4</td>\n      <td>7.6</td>\n      <td>0.5</td>\n      <td>-0.9</td>\n      <td>0.6</td>\n      <td>9.7</td>\n      <td>39</td>\n      <td>0.0</td>\n      <td>...</td>\n      <td>0.0</td>\n      <td>0.2</td>\n      <td>1.5</td>\n      <td>0.9</td>\n      <td>0.0</td>\n      <td>0.0</td>\n      <td>70.3</td>\n      <td>88.4</td>\n      <td>2</td>\n      <td>Caleb Williams</td>\n    </tr>\n    <tr>\n      <th>180</th>\n      <td>4432577</td>\n      <td>401671619</td>\n      <td>3.7</td>\n      <td>4.4</td>\n      <td>0.0</td>\n      <td>-0.5</td>\n      <td>1.1</td>\n      <td>6.2</td>\n      <td>37</td>\n      <td>0.0</td>\n      <td>...</td>\n      <td>0.0</td>\n      <td>-0.4</td>\n      <td>0.7</td>\n      <td>0.6</td>\n      <td>0.0</td>\n      <td>0.0</td>\n      <td>65.0</td>\n      <td>74.5</td>\n      <td>8</td>\n      <td>C.J. Stroud</td>\n    </tr>\n  </tbody>\n</table>\n<p>181 rows × 22 columns</p>\n</div>"
     },
     "execution_count": 5,
     "metadata": {},
     "output_type": "execute_result"
    }
   ],
   "source": [
    "fetch.qb_epa(year = 2024)"
   ],
   "metadata": {
    "collapsed": false,
    "ExecuteTime": {
     "end_time": "2024-10-14T18:25:16.905007Z",
     "start_time": "2024-10-14T18:24:45.401313Z"
    }
   },
   "id": "451640ce07a9e0cd"
  },
  {
   "cell_type": "code",
   "execution_count": 20,
   "outputs": [],
   "source": [
    "|"
   ],
   "metadata": {
    "collapsed": false,
    "ExecuteTime": {
     "end_time": "2024-10-12T22:29:07.606202Z",
     "start_time": "2024-10-12T22:29:07.601539Z"
    }
   },
   "id": "538306549c41f90"
  },
  {
   "cell_type": "code",
   "execution_count": 10,
   "outputs": [],
   "source": [
    "\n"
   ],
   "metadata": {
    "collapsed": false,
    "ExecuteTime": {
     "end_time": "2024-10-12T22:22:45.734399Z",
     "start_time": "2024-10-12T22:22:45.729859Z"
    }
   },
   "id": "3659d4dc0889b87d"
  },
  {
   "cell_type": "code",
   "execution_count": 10,
   "outputs": [],
   "source": [],
   "metadata": {
    "collapsed": false,
    "ExecuteTime": {
     "end_time": "2024-10-12T22:22:45.734486Z",
     "start_time": "2024-10-12T22:22:45.731528Z"
    }
   },
   "id": "786ad06c953129c"
  },
  {
   "cell_type": "code",
   "execution_count": 4,
   "outputs": [],
   "source": [],
   "metadata": {
    "collapsed": false,
    "ExecuteTime": {
     "end_time": "2024-10-12T21:36:00.607449Z",
     "start_time": "2024-10-12T21:36:00.604784Z"
    }
   },
   "id": "aba13dff0c3c7865"
  },
  {
   "cell_type": "code",
   "execution_count": 11,
   "outputs": [],
   "source": [],
   "metadata": {
    "collapsed": false,
    "ExecuteTime": {
     "end_time": "2024-10-12T21:18:33.392569Z",
     "start_time": "2024-10-12T21:18:33.379862Z"
    }
   },
   "id": "d6e3068182196ee2"
  },
  {
   "cell_type": "code",
   "execution_count": 1,
   "outputs": [],
   "source": [],
   "metadata": {
    "collapsed": false,
    "ExecuteTime": {
     "end_time": "2024-10-12T18:34:39.763988Z",
     "start_time": "2024-10-12T18:34:39.748200Z"
    }
   },
   "id": "2485d885eeb3950c"
  },
  {
   "cell_type": "code",
   "execution_count": 9,
   "outputs": [],
   "source": [
    "\n"
   ],
   "metadata": {
    "collapsed": false,
    "ExecuteTime": {
     "end_time": "2024-10-12T20:03:32.894229Z",
     "start_time": "2024-10-12T20:03:32.890420Z"
    }
   },
   "id": "7ccfcfb1834c30c7"
  },
  {
   "cell_type": "code",
   "execution_count": 11,
   "outputs": [],
   "source": [],
   "metadata": {
    "collapsed": false,
    "ExecuteTime": {
     "end_time": "2024-10-12T21:18:35.856916Z",
     "start_time": "2024-10-12T21:18:35.840933Z"
    }
   },
   "id": "573cda8dbfdd2b71"
  },
  {
   "cell_type": "code",
   "execution_count": 11,
   "outputs": [],
   "source": [
    "\n",
    "stat_dict = {'team':[], 'avg_point_differential':[], 'avg_margin_of_victory':[], 'avg_margin_of_defeat':[]}\n",
    "\n",
    "for team in boxscore.team.unique():\n",
    "    team_df = boxscore[boxscore['team'] == team]\n",
    "    wins_df = team_df[team_df['result'] == 'W']\n",
    "    loss_df = team_df[team_df['result'] == 'L']\n",
    "    avg_point_differential = team_df['point_differential'].mean()\n",
    "    avg_margin_of_victory = wins_df['point_differential'].mean()\n",
    "    avg_margin_of_defeat = loss_df['point_differential'].mean()\n",
    "    stat_dict['team'].append(team)\n",
    "    stat_dict['avg_point_differential'].append(avg_point_differential)\n",
    "    stat_dict['avg_margin_of_victory'].append(avg_margin_of_victory)\n",
    "    stat_dict['avg_margin_of_defeat'].append(avg_margin_of_defeat)\n",
    "\n",
    "stat_df = pd.DataFrame(stat_dict)\n",
    "stat_df\n"
   ],
   "metadata": {
    "collapsed": false,
    "ExecuteTime": {
     "end_time": "2024-10-14T16:32:03.543115Z",
     "start_time": "2024-10-14T16:32:03.534723Z"
    }
   },
   "id": "62e5c445bf9e090d"
  },
  {
   "cell_type": "code",
   "execution_count": 11,
   "outputs": [],
   "source": [
    "# Initialize the dictionary to store results\n",
    "\n",
    "epa_dict = {'athlete_id':[], 'id':[], 'points_added':[], 'pass_epa':[], 'rush_epa':[], 'sack_epa':[], \n",
    "            'penalty_epa':[], 'total_epa':[], 'qb_plays':[], 'cwa':[], 'raw_qbr':[], 'expected_pass_epa':[], \n",
    "            'int_epa':[], 'yac_epa':[], 'run_epa':[], 'scramble_epa':[], 'expected_sack_epa':[], 'fumble_epa':[],\n",
    "            'defense_faced_epa':[], 'total_qbr':[], 'unq_rank':[]}\n",
    "\n",
    "base_url = f'https://sports.core.api.espn.com/v2/sports/football/leagues/nfl/seasons/2024/types/2/weeks/5/qbr/10000'\n",
    "\n",
    "\n",
    "def extract_id(url):\n",
    "    match = re.search(r'/(\\d+)(?:\\?|$)', url)\n",
    "    if match:\n",
    "        return match.group(1)\n",
    "    return None\n",
    "\n",
    "\n",
    "page_index = 1 \n",
    "while True:\n",
    "    url = f\"{base_url}?page={page_index}\"\n",
    "    response = requests.get(url)\n",
    "    if response.status_code == 200:\n",
    "        data = response.json()\n",
    "\n",
    "        for x in data['items']:\n",
    "            athlete_url = x['athlete']['$ref']\n",
    "            event_url = x['event']['$ref']\n",
    "            athlete_id = extract_id(athlete_url)\n",
    "            id = extract_id(event_url)\n",
    "            points_added = x['splits']['categories'][0]['stats'][0]['displayValue']\n",
    "            pass_epa = x['splits']['categories'][0]['stats'][1]['displayValue']\n",
    "            rush_epa = x['splits']['categories'][0]['stats'][2]['displayValue']\n",
    "            sack_epa = x['splits']['categories'][0]['stats'][3]['displayValue']\n",
    "            penalty_epa = x['splits']['categories'][0]['stats'][4]['displayValue']\n",
    "            total_epa = x['splits']['categories'][0]['stats'][5]['displayValue']\n",
    "            qb_plays = x['splits']['categories'][0]['stats'][6]['displayValue']\n",
    "            cwa = x['splits']['categories'][0]['stats'][7]['displayValue']\n",
    "            raw_qbr = x['splits']['categories'][0]['stats'][8]['displayValue']\n",
    "            expected_pass_epa = x['splits']['categories'][0]['stats'][9]['displayValue']\n",
    "            int_epa = x['splits']['categories'][0]['stats'][10]['displayValue']\n",
    "            yac_epa = x['splits']['categories'][0]['stats'][11]['displayValue']\n",
    "            run_epa = x['splits']['categories'][0]['stats'][12]['displayValue']\n",
    "            scramble_epa = x['splits']['categories'][0]['stats'][13]['displayValue']\n",
    "            expected_sack_epa = x['splits']['categories'][0]['stats'][14]['displayValue']\n",
    "            fumble_epa = x['splits']['categories'][0]['stats'][15]['displayValue']\n",
    "            defense_faced_epa = x['splits']['categories'][0]['stats'][16]['displayValue']\n",
    "            total_qbr = x['splits']['categories'][0]['stats'][17]['displayValue']\n",
    "            unq_rank = x['splits']['categories'][0]['stats'][18]['displayValue']\n",
    "\n",
    "            epa_dict['athlete_id'].append(athlete_id)\n",
    "            epa_dict['id'].append(id)\n",
    "            epa_dict['points_added'].append(points_added)\n",
    "            epa_dict['pass_epa'].append(pass_epa)\n",
    "            epa_dict['rush_epa'].append(rush_epa)\n",
    "            epa_dict['sack_epa'].append(sack_epa)\n",
    "            epa_dict['penalty_epa'].append(penalty_epa)\n",
    "            epa_dict['total_epa'].append(total_epa)\n",
    "            epa_dict['qb_plays'].append(qb_plays)\n",
    "            epa_dict['cwa'].append(cwa)\n",
    "            epa_dict['raw_qbr'].append(raw_qbr)\n",
    "            epa_dict['expected_pass_epa'].append(expected_pass_epa)\n",
    "            epa_dict['int_epa'].append(int_epa)\n",
    "            epa_dict['yac_epa'].append(yac_epa)\n",
    "            epa_dict['run_epa'].append(run_epa)\n",
    "            epa_dict['scramble_epa'].append(scramble_epa)\n",
    "            epa_dict['expected_sack_epa'].append(expected_sack_epa)\n",
    "            epa_dict['fumble_epa'].append(fumble_epa)\n",
    "            epa_dict['defense_faced_epa'].append(defense_faced_epa)\n",
    "            epa_dict['total_qbr'].append(total_qbr)\n",
    "            epa_dict['unq_rank'].append(unq_rank)\n",
    "\n",
    "        if page_index >= data.get('pageCount', 1):\n",
    "            break \n",
    "        page_index += 1\n",
    "    \n",
    "    else:\n",
    "        print(f\"Failed to fetch data from {url}\")\n",
    "        break\n",
    "\n",
    "epa_df = pd.DataFrame(epa_dict)\n"
   ],
   "metadata": {
    "collapsed": false,
    "ExecuteTime": {
     "end_time": "2024-10-14T16:32:03.992589Z",
     "start_time": "2024-10-14T16:32:03.989888Z"
    }
   },
   "id": "bbc33fe60ac6a0a5"
  },
  {
   "cell_type": "code",
   "execution_count": 11,
   "outputs": [],
   "source": [
    "epa_d"
   ],
   "metadata": {
    "collapsed": false,
    "ExecuteTime": {
     "end_time": "2024-10-14T16:31:58.554419Z",
     "start_time": "2024-10-14T16:31:58.541337Z"
    }
   },
   "id": "247cac0ec9137bb5"
  },
  {
   "cell_type": "code",
   "execution_count": 11,
   "outputs": [],
   "source": [],
   "metadata": {
    "collapsed": false,
    "ExecuteTime": {
     "end_time": "2024-10-14T16:31:59.080835Z",
     "start_time": "2024-10-14T16:31:59.070375Z"
    }
   },
   "id": "88184997be9f2f9e"
  },
  {
   "cell_type": "code",
   "execution_count": 12,
   "outputs": [],
   "source": [],
   "metadata": {
    "collapsed": false,
    "ExecuteTime": {
     "end_time": "2024-10-08T03:26:11.520659Z",
     "start_time": "2024-10-08T03:26:11.496428Z"
    }
   },
   "id": "c06e207bd114ce68"
  },
  {
   "cell_type": "code",
   "execution_count": 24,
   "outputs": [],
   "source": [],
   "metadata": {
    "collapsed": false,
    "ExecuteTime": {
     "end_time": "2024-10-07T23:49:14.862142Z",
     "start_time": "2024-10-07T23:49:14.837809Z"
    }
   },
   "id": "6ee67305f8d9cd25"
  },
  {
   "cell_type": "code",
   "execution_count": 6,
   "outputs": [],
   "source": [],
   "metadata": {
    "collapsed": false,
    "ExecuteTime": {
     "end_time": "2024-10-05T14:16:23.260908Z",
     "start_time": "2024-10-05T14:16:23.254456Z"
    }
   },
   "id": "a4fe83b60321f83c"
  },
  {
   "cell_type": "markdown",
   "source": [],
   "metadata": {
    "collapsed": false
   },
   "id": "6e10abc99689289"
  },
  {
   "cell_type": "markdown",
   "source": [
    "    "
   ],
   "metadata": {
    "collapsed": false
   },
   "id": "a91e9209662b90a7"
  },
  {
   "cell_type": "code",
   "execution_count": 6,
   "outputs": [],
   "source": [],
   "metadata": {
    "collapsed": false,
    "ExecuteTime": {
     "end_time": "2024-10-05T14:16:18.274449Z",
     "start_time": "2024-10-05T14:16:18.271880Z"
    }
   },
   "id": "361f6053062a4b60"
  },
  {
   "cell_type": "code",
   "execution_count": 2,
   "outputs": [],
   "source": [],
   "metadata": {
    "collapsed": false,
    "ExecuteTime": {
     "end_time": "2024-10-03T19:50:55.764418Z",
     "start_time": "2024-10-03T19:50:55.757631Z"
    }
   },
   "id": "b25283740375e06b"
  },
  {
   "cell_type": "markdown",
   "source": [
    " "
   ],
   "metadata": {
    "collapsed": false
   },
   "id": "79d354ce0fd944e1"
  },
  {
   "cell_type": "code",
   "execution_count": 2,
   "outputs": [],
   "source": [],
   "metadata": {
    "collapsed": false,
    "ExecuteTime": {
     "end_time": "2024-10-03T19:50:59.753461Z",
     "start_time": "2024-10-03T19:50:59.742772Z"
    }
   },
   "id": "10712f09d0cffe03"
  },
  {
   "cell_type": "code",
   "execution_count": 1,
   "outputs": [],
   "source": [],
   "metadata": {
    "collapsed": false,
    "ExecuteTime": {
     "end_time": "2024-09-25T00:47:13.889717Z",
     "start_time": "2024-09-25T00:47:13.875425Z"
    }
   },
   "id": "4e220234adac7230"
  },
  {
   "cell_type": "code",
   "execution_count": 4,
   "outputs": [],
   "source": [],
   "metadata": {
    "collapsed": false,
    "ExecuteTime": {
     "end_time": "2024-09-25T00:50:53.156956Z",
     "start_time": "2024-09-25T00:50:53.139245Z"
    }
   },
   "id": "d9416f8526b1f4e6"
  },
  {
   "cell_type": "code",
   "execution_count": 4,
   "outputs": [],
   "source": [],
   "metadata": {
    "collapsed": false,
    "ExecuteTime": {
     "end_time": "2024-09-25T00:50:56.152345Z",
     "start_time": "2024-09-25T00:50:56.137888Z"
    }
   },
   "id": "13c65fcc74a78f60"
  },
  {
   "cell_type": "markdown",
   "source": [],
   "metadata": {
    "collapsed": false
   },
   "id": "13333f6b73df185b"
  },
  {
   "cell_type": "code",
   "execution_count": null,
   "outputs": [],
   "source": [],
   "metadata": {
    "collapsed": false
   },
   "id": "bbd06cd5dbb7fd55"
  },
  {
   "cell_type": "markdown",
   "source": [],
   "metadata": {
    "collapsed": false
   },
   "id": "cd6265fa45cd1f24"
  },
  {
   "cell_type": "markdown",
   "source": [],
   "metadata": {
    "collapsed": false
   },
   "id": "97bd8c6ebb380f1f"
  },
  {
   "cell_type": "code",
   "execution_count": 17,
   "outputs": [],
   "source": [],
   "metadata": {
    "collapsed": false,
    "ExecuteTime": {
     "end_time": "2024-09-20T03:49:17.737822Z",
     "start_time": "2024-09-20T03:49:17.708221Z"
    }
   },
   "id": "2bb6f3f919127843"
  },
  {
   "cell_type": "code",
   "execution_count": 17,
   "outputs": [],
   "source": [
    "\n"
   ],
   "metadata": {
    "collapsed": false,
    "ExecuteTime": {
     "end_time": "2024-09-20T03:49:17.738092Z",
     "start_time": "2024-09-20T03:49:17.714221Z"
    }
   },
   "id": "18d71cd4ab791960"
  },
  {
   "cell_type": "code",
   "execution_count": 3,
   "outputs": [],
   "source": [],
   "metadata": {
    "collapsed": false,
    "ExecuteTime": {
     "end_time": "2024-09-18T22:20:12.157898Z",
     "start_time": "2024-09-18T22:20:12.147192Z"
    }
   },
   "id": "7b91c464307da466"
  },
  {
   "cell_type": "code",
   "execution_count": 3,
   "outputs": [],
   "source": [],
   "metadata": {
    "collapsed": false,
    "ExecuteTime": {
     "end_time": "2024-09-18T22:20:12.379652Z",
     "start_time": "2024-09-18T22:20:12.370993Z"
    }
   },
   "id": "f9bfcca282d7537c"
  },
  {
   "cell_type": "code",
   "execution_count": 3,
   "outputs": [],
   "source": [],
   "metadata": {
    "collapsed": false,
    "ExecuteTime": {
     "end_time": "2024-09-18T22:20:12.596969Z",
     "start_time": "2024-09-18T22:20:12.556415Z"
    }
   },
   "id": "b912049296c01ed5"
  },
  {
   "cell_type": "code",
   "execution_count": 3,
   "outputs": [],
   "source": [],
   "metadata": {
    "collapsed": false,
    "ExecuteTime": {
     "end_time": "2024-09-18T22:20:12.942709Z",
     "start_time": "2024-09-18T22:20:12.907338Z"
    }
   },
   "id": "7311cfc949aaa8ac"
  },
  {
   "cell_type": "code",
   "execution_count": 3,
   "outputs": [],
   "source": [],
   "metadata": {
    "collapsed": false,
    "ExecuteTime": {
     "end_time": "2024-09-18T22:20:13.131142Z",
     "start_time": "2024-09-18T22:20:13.107989Z"
    }
   },
   "id": "f71e1b3bf3eab20a"
  },
  {
   "cell_type": "code",
   "execution_count": 3,
   "outputs": [],
   "source": [],
   "metadata": {
    "collapsed": false,
    "ExecuteTime": {
     "end_time": "2024-09-18T22:20:13.366260Z",
     "start_time": "2024-09-18T22:20:13.331571Z"
    }
   },
   "id": "25e1c8e4674f4f68"
  },
  {
   "cell_type": "code",
   "execution_count": 3,
   "outputs": [],
   "source": [],
   "metadata": {
    "collapsed": false,
    "ExecuteTime": {
     "end_time": "2024-09-18T22:20:13.545226Z",
     "start_time": "2024-09-18T22:20:13.514217Z"
    }
   },
   "id": "f6e442163c078cee"
  },
  {
   "cell_type": "code",
   "execution_count": 3,
   "outputs": [],
   "source": [],
   "metadata": {
    "collapsed": false,
    "ExecuteTime": {
     "end_time": "2024-09-18T22:20:13.713336Z",
     "start_time": "2024-09-18T22:20:13.681178Z"
    }
   },
   "id": "28e7905afd34ee3b"
  },
  {
   "cell_type": "code",
   "execution_count": null,
   "outputs": [],
   "source": [],
   "metadata": {
    "collapsed": false
   },
   "id": "edaed07d571eff52"
  }
 ],
 "metadata": {
  "kernelspec": {
   "display_name": "Python 3",
   "language": "python",
   "name": "python3"
  },
  "language_info": {
   "codemirror_mode": {
    "name": "ipython",
    "version": 2
   },
   "file_extension": ".py",
   "mimetype": "text/x-python",
   "name": "python",
   "nbconvert_exporter": "python",
   "pygments_lexer": "ipython2",
   "version": "2.7.6"
  }
 },
 "nbformat": 4,
 "nbformat_minor": 5
}
