{
 "cells": [
  {
   "cell_type": "code",
   "execution_count": 1,
   "outputs": [],
   "source": [
    "import pandas as pd\n",
    "import requests\n",
    "from pprint import pprint\n",
    "from fouronetwo import Fetch\n",
    "fetch = Fetch()\n",
    "\n"
   ],
   "metadata": {
    "collapsed": false,
    "ExecuteTime": {
     "end_time": "2024-09-20T04:40:44.514329Z",
     "start_time": "2024-09-20T04:40:43.640714Z"
    }
   },
   "id": "81466365851f1193"
  },
  {
   "cell_type": "code",
   "execution_count": 2,
   "id": "initial_id",
   "metadata": {
    "collapsed": true,
    "ExecuteTime": {
     "end_time": "2024-09-20T04:40:45.453165Z",
     "start_time": "2024-09-20T04:40:45.443029Z"
    }
   },
   "outputs": [],
   "source": [
    "# fetch.completed_games(year = 2024, week=1)\n",
    "# fetch.scheduled_games(year = 2024, week=18)\n",
    "# fetch.in_progress_games(year = 2024, week=1)\n",
    "#fetch.completed_games(year=2024, team = 'Pittsburgh Steelers')\n",
    "#data = fetch.boxscore(year=2023, team='Pittsburgh Steelers')\n",
    "#fetch.passing_boxscore(year=2024, pivot=True)\n",
    "#fetch.rushing_boxscore(year=2024, pivot=True)\n",
    "#fetch.receiving_boxscore(year=2024, pivot=True)\n",
    "#fetch.fumble_boxscore(year=2024, pivot=True)\n",
    "#fetch.defensive_boxscore(year=2024, pivot=True)\n",
    "#fetch.interception_boxscore(year=2024, pivot=True)\n",
    "#fetch.kick_return_boxscore(year=2024)\n"
   ]
  },
  {
   "cell_type": "markdown",
   "source": [],
   "metadata": {
    "collapsed": false
   },
   "id": "a91e9209662b90a7"
  },
  {
   "cell_type": "code",
   "execution_count": 3,
   "outputs": [
    {
     "name": "stderr",
     "output_type": "stream",
     "text": [
      "/Users/andrewpaladino/Documents/projects/412analytics/fouronetwo.py:94: FutureWarning: Behavior when concatenating bool-dtype and numeric-dtype arrays is deprecated; in a future version these will cast to object dtype (instead of coercing bools to numeric values). To retain the old behavior, explicitly cast bool-dtype arrays to numeric dtype.\n",
      "  total_completed = pd.concat([events_merged, total_completed])\n",
      "100%|██████████| 33/33 [00:10<00:00,  3.21it/s]\n"
     ]
    },
    {
     "data": {
      "text/plain": "                 name_  punt_returns_mean  punt_returns_sum  \\\n0       Avery Williams           1.500000                 3   \n1   Brandon Codrington           1.000000                 1   \n2       Brandon Powell           1.000000                 2   \n3      Braxton Berrios           2.000000                 2   \n4        Britain Covey           1.000000                 1   \n5    Calvin Austin III           4.500000                 9   \n6   Cedrick Wilson Jr.           1.000000                 1   \n7        Charlie Jones           2.500000                 5   \n8       Darius Slayton           1.000000                 1   \n9       DeAndre Carter           3.000000                 6   \n10        Dee Williams           1.500000                 3   \n11        Deonte Harty           1.000000                 2   \n12        Derius Davis           1.000000                 2   \n13      Devin Duvernay           1.000000                 2   \n14         Greg Dortch           1.500000                 3   \n15        Jacob Cowing           1.500000                 3   \n16       Jaelon Darden           5.000000                 5   \n17     James Proche II           3.000000                 3   \n18         Jayden Reed           1.000000                 1   \n19    Jha'Quan Jackson           4.500000                 9   \n20     KaVontae Turpin           5.000000                 5   \n21       Kalif Raymond           3.000000                 6   \n22      Kyren Williams           1.000000                 2   \n23        Marcus Jones           1.666667                 5   \n24     Marvin Mims Jr.           4.000000                 8   \n25      Mecole Hardman           2.000000                 2   \n26   Olamide Zaccheaus           1.000000                 1   \n27   Raheem Blackshear           1.000000                 1   \n28      Rashid Shaheed           3.000000                 3   \n29         Steven Sims           3.000000                 3   \n30          Tre Tucker           2.500000                 5   \n31         Trey Palmer           1.000000                 1   \n32         Tyreek Hill           1.000000                 1   \n33       Xavier Gipson           2.666667                 8   \n\n    punt_return_yards_mean  punt_return_yards_sum  yards_per_punt_return_mean  \\\n0                19.500000                     39                   12.500000   \n1                 7.000000                      7                    7.000000   \n2                 5.000000                     10                    5.000000   \n3                 2.000000                      2                    1.000000   \n4                 9.000000                      9                    9.000000   \n5                37.000000                     74                    8.600000   \n6                 0.000000                      0                    0.000000   \n7                15.500000                     31                    7.250000   \n8                 0.000000                      0                    0.000000   \n9                32.500000                     65                    6.900000   \n10               19.000000                     38                    9.500000   \n11                9.000000                     18                    9.000000   \n12               12.000000                     24                   12.000000   \n13                5.500000                     11                    5.500000   \n14               18.000000                     36                   10.500000   \n15                7.500000                     15                    3.750000   \n16               72.000000                     72                   14.400000   \n17               25.000000                     25                    8.300000   \n18                0.000000                      0                    0.000000   \n19               33.500000                     67                    7.450000   \n20               96.000000                     96                   19.200000   \n21               25.000000                     50                    8.350000   \n22                6.000000                     12                    6.000000   \n23               15.333333                     46                    9.333333   \n24               33.500000                     67                    8.050000   \n25               13.000000                     13                    6.500000   \n26               24.000000                     24                   24.000000   \n27               13.000000                     13                   13.000000   \n28               60.000000                     60                   20.000000   \n29               11.000000                     11                    3.700000   \n30               22.000000                     44                    9.650000   \n31               15.000000                     15                   15.000000   \n32               11.000000                     11                   11.000000   \n33               22.000000                     66                    7.500000   \n\n    longest_punt_return_mean  longest_punt_return_sum  \\\n0                  19.500000                       39   \n1                   7.000000                        7   \n2                   5.000000                       10   \n3                   7.000000                        7   \n4                   9.000000                        9   \n5                  15.000000                       30   \n6                   0.000000                        0   \n7                   9.500000                       19   \n8                   0.000000                        0   \n9                  10.500000                       21   \n10                 11.500000                       23   \n11                  9.000000                       18   \n12                 12.000000                       24   \n13                  5.500000                       11   \n14                 11.500000                       23   \n15                  4.000000                        8   \n16                 28.000000                       28   \n17                 14.000000                       14   \n18                  0.000000                        0   \n19                 15.000000                       30   \n20                 60.000000                       60   \n21                 12.000000                       24   \n22                  6.000000                       12   \n23                 11.000000                       33   \n24                 13.500000                       27   \n25                 11.000000                       11   \n26                 24.000000                       24   \n27                 13.000000                       13   \n28                 47.000000                       47   \n29                 11.000000                       11   \n30                 14.500000                       29   \n31                 15.000000                       15   \n32                 11.000000                       11   \n33                 14.666667                       44   \n\n    punt_return_touchdowns_mean  punt_return_touchdowns_sum  \n0                           0.0                           0  \n1                           0.0                           0  \n2                           0.0                           0  \n3                           0.0                           0  \n4                           0.0                           0  \n5                           0.0                           0  \n6                           0.0                           0  \n7                           0.0                           0  \n8                           0.0                           0  \n9                           0.0                           0  \n10                          0.0                           0  \n11                          0.0                           0  \n12                          0.0                           0  \n13                          0.0                           0  \n14                          0.0                           0  \n15                          0.0                           0  \n16                          0.0                           0  \n17                          0.0                           0  \n18                          0.0                           0  \n19                          0.0                           0  \n20                          1.0                           1  \n21                          0.0                           0  \n22                          0.0                           0  \n23                          0.0                           0  \n24                          0.0                           0  \n25                          0.0                           0  \n26                          0.0                           0  \n27                          0.0                           0  \n28                          0.0                           0  \n29                          0.0                           0  \n30                          0.0                           0  \n31                          0.0                           0  \n32                          0.0                           0  \n33                          0.0                           0  ",
      "text/html": "<div>\n<style scoped>\n    .dataframe tbody tr th:only-of-type {\n        vertical-align: middle;\n    }\n\n    .dataframe tbody tr th {\n        vertical-align: top;\n    }\n\n    .dataframe thead th {\n        text-align: right;\n    }\n</style>\n<table border=\"1\" class=\"dataframe\">\n  <thead>\n    <tr style=\"text-align: right;\">\n      <th></th>\n      <th>name_</th>\n      <th>punt_returns_mean</th>\n      <th>punt_returns_sum</th>\n      <th>punt_return_yards_mean</th>\n      <th>punt_return_yards_sum</th>\n      <th>yards_per_punt_return_mean</th>\n      <th>longest_punt_return_mean</th>\n      <th>longest_punt_return_sum</th>\n      <th>punt_return_touchdowns_mean</th>\n      <th>punt_return_touchdowns_sum</th>\n    </tr>\n  </thead>\n  <tbody>\n    <tr>\n      <th>0</th>\n      <td>Avery Williams</td>\n      <td>1.500000</td>\n      <td>3</td>\n      <td>19.500000</td>\n      <td>39</td>\n      <td>12.500000</td>\n      <td>19.500000</td>\n      <td>39</td>\n      <td>0.0</td>\n      <td>0</td>\n    </tr>\n    <tr>\n      <th>1</th>\n      <td>Brandon Codrington</td>\n      <td>1.000000</td>\n      <td>1</td>\n      <td>7.000000</td>\n      <td>7</td>\n      <td>7.000000</td>\n      <td>7.000000</td>\n      <td>7</td>\n      <td>0.0</td>\n      <td>0</td>\n    </tr>\n    <tr>\n      <th>2</th>\n      <td>Brandon Powell</td>\n      <td>1.000000</td>\n      <td>2</td>\n      <td>5.000000</td>\n      <td>10</td>\n      <td>5.000000</td>\n      <td>5.000000</td>\n      <td>10</td>\n      <td>0.0</td>\n      <td>0</td>\n    </tr>\n    <tr>\n      <th>3</th>\n      <td>Braxton Berrios</td>\n      <td>2.000000</td>\n      <td>2</td>\n      <td>2.000000</td>\n      <td>2</td>\n      <td>1.000000</td>\n      <td>7.000000</td>\n      <td>7</td>\n      <td>0.0</td>\n      <td>0</td>\n    </tr>\n    <tr>\n      <th>4</th>\n      <td>Britain Covey</td>\n      <td>1.000000</td>\n      <td>1</td>\n      <td>9.000000</td>\n      <td>9</td>\n      <td>9.000000</td>\n      <td>9.000000</td>\n      <td>9</td>\n      <td>0.0</td>\n      <td>0</td>\n    </tr>\n    <tr>\n      <th>5</th>\n      <td>Calvin Austin III</td>\n      <td>4.500000</td>\n      <td>9</td>\n      <td>37.000000</td>\n      <td>74</td>\n      <td>8.600000</td>\n      <td>15.000000</td>\n      <td>30</td>\n      <td>0.0</td>\n      <td>0</td>\n    </tr>\n    <tr>\n      <th>6</th>\n      <td>Cedrick Wilson Jr.</td>\n      <td>1.000000</td>\n      <td>1</td>\n      <td>0.000000</td>\n      <td>0</td>\n      <td>0.000000</td>\n      <td>0.000000</td>\n      <td>0</td>\n      <td>0.0</td>\n      <td>0</td>\n    </tr>\n    <tr>\n      <th>7</th>\n      <td>Charlie Jones</td>\n      <td>2.500000</td>\n      <td>5</td>\n      <td>15.500000</td>\n      <td>31</td>\n      <td>7.250000</td>\n      <td>9.500000</td>\n      <td>19</td>\n      <td>0.0</td>\n      <td>0</td>\n    </tr>\n    <tr>\n      <th>8</th>\n      <td>Darius Slayton</td>\n      <td>1.000000</td>\n      <td>1</td>\n      <td>0.000000</td>\n      <td>0</td>\n      <td>0.000000</td>\n      <td>0.000000</td>\n      <td>0</td>\n      <td>0.0</td>\n      <td>0</td>\n    </tr>\n    <tr>\n      <th>9</th>\n      <td>DeAndre Carter</td>\n      <td>3.000000</td>\n      <td>6</td>\n      <td>32.500000</td>\n      <td>65</td>\n      <td>6.900000</td>\n      <td>10.500000</td>\n      <td>21</td>\n      <td>0.0</td>\n      <td>0</td>\n    </tr>\n    <tr>\n      <th>10</th>\n      <td>Dee Williams</td>\n      <td>1.500000</td>\n      <td>3</td>\n      <td>19.000000</td>\n      <td>38</td>\n      <td>9.500000</td>\n      <td>11.500000</td>\n      <td>23</td>\n      <td>0.0</td>\n      <td>0</td>\n    </tr>\n    <tr>\n      <th>11</th>\n      <td>Deonte Harty</td>\n      <td>1.000000</td>\n      <td>2</td>\n      <td>9.000000</td>\n      <td>18</td>\n      <td>9.000000</td>\n      <td>9.000000</td>\n      <td>18</td>\n      <td>0.0</td>\n      <td>0</td>\n    </tr>\n    <tr>\n      <th>12</th>\n      <td>Derius Davis</td>\n      <td>1.000000</td>\n      <td>2</td>\n      <td>12.000000</td>\n      <td>24</td>\n      <td>12.000000</td>\n      <td>12.000000</td>\n      <td>24</td>\n      <td>0.0</td>\n      <td>0</td>\n    </tr>\n    <tr>\n      <th>13</th>\n      <td>Devin Duvernay</td>\n      <td>1.000000</td>\n      <td>2</td>\n      <td>5.500000</td>\n      <td>11</td>\n      <td>5.500000</td>\n      <td>5.500000</td>\n      <td>11</td>\n      <td>0.0</td>\n      <td>0</td>\n    </tr>\n    <tr>\n      <th>14</th>\n      <td>Greg Dortch</td>\n      <td>1.500000</td>\n      <td>3</td>\n      <td>18.000000</td>\n      <td>36</td>\n      <td>10.500000</td>\n      <td>11.500000</td>\n      <td>23</td>\n      <td>0.0</td>\n      <td>0</td>\n    </tr>\n    <tr>\n      <th>15</th>\n      <td>Jacob Cowing</td>\n      <td>1.500000</td>\n      <td>3</td>\n      <td>7.500000</td>\n      <td>15</td>\n      <td>3.750000</td>\n      <td>4.000000</td>\n      <td>8</td>\n      <td>0.0</td>\n      <td>0</td>\n    </tr>\n    <tr>\n      <th>16</th>\n      <td>Jaelon Darden</td>\n      <td>5.000000</td>\n      <td>5</td>\n      <td>72.000000</td>\n      <td>72</td>\n      <td>14.400000</td>\n      <td>28.000000</td>\n      <td>28</td>\n      <td>0.0</td>\n      <td>0</td>\n    </tr>\n    <tr>\n      <th>17</th>\n      <td>James Proche II</td>\n      <td>3.000000</td>\n      <td>3</td>\n      <td>25.000000</td>\n      <td>25</td>\n      <td>8.300000</td>\n      <td>14.000000</td>\n      <td>14</td>\n      <td>0.0</td>\n      <td>0</td>\n    </tr>\n    <tr>\n      <th>18</th>\n      <td>Jayden Reed</td>\n      <td>1.000000</td>\n      <td>1</td>\n      <td>0.000000</td>\n      <td>0</td>\n      <td>0.000000</td>\n      <td>0.000000</td>\n      <td>0</td>\n      <td>0.0</td>\n      <td>0</td>\n    </tr>\n    <tr>\n      <th>19</th>\n      <td>Jha'Quan Jackson</td>\n      <td>4.500000</td>\n      <td>9</td>\n      <td>33.500000</td>\n      <td>67</td>\n      <td>7.450000</td>\n      <td>15.000000</td>\n      <td>30</td>\n      <td>0.0</td>\n      <td>0</td>\n    </tr>\n    <tr>\n      <th>20</th>\n      <td>KaVontae Turpin</td>\n      <td>5.000000</td>\n      <td>5</td>\n      <td>96.000000</td>\n      <td>96</td>\n      <td>19.200000</td>\n      <td>60.000000</td>\n      <td>60</td>\n      <td>1.0</td>\n      <td>1</td>\n    </tr>\n    <tr>\n      <th>21</th>\n      <td>Kalif Raymond</td>\n      <td>3.000000</td>\n      <td>6</td>\n      <td>25.000000</td>\n      <td>50</td>\n      <td>8.350000</td>\n      <td>12.000000</td>\n      <td>24</td>\n      <td>0.0</td>\n      <td>0</td>\n    </tr>\n    <tr>\n      <th>22</th>\n      <td>Kyren Williams</td>\n      <td>1.000000</td>\n      <td>2</td>\n      <td>6.000000</td>\n      <td>12</td>\n      <td>6.000000</td>\n      <td>6.000000</td>\n      <td>12</td>\n      <td>0.0</td>\n      <td>0</td>\n    </tr>\n    <tr>\n      <th>23</th>\n      <td>Marcus Jones</td>\n      <td>1.666667</td>\n      <td>5</td>\n      <td>15.333333</td>\n      <td>46</td>\n      <td>9.333333</td>\n      <td>11.000000</td>\n      <td>33</td>\n      <td>0.0</td>\n      <td>0</td>\n    </tr>\n    <tr>\n      <th>24</th>\n      <td>Marvin Mims Jr.</td>\n      <td>4.000000</td>\n      <td>8</td>\n      <td>33.500000</td>\n      <td>67</td>\n      <td>8.050000</td>\n      <td>13.500000</td>\n      <td>27</td>\n      <td>0.0</td>\n      <td>0</td>\n    </tr>\n    <tr>\n      <th>25</th>\n      <td>Mecole Hardman</td>\n      <td>2.000000</td>\n      <td>2</td>\n      <td>13.000000</td>\n      <td>13</td>\n      <td>6.500000</td>\n      <td>11.000000</td>\n      <td>11</td>\n      <td>0.0</td>\n      <td>0</td>\n    </tr>\n    <tr>\n      <th>26</th>\n      <td>Olamide Zaccheaus</td>\n      <td>1.000000</td>\n      <td>1</td>\n      <td>24.000000</td>\n      <td>24</td>\n      <td>24.000000</td>\n      <td>24.000000</td>\n      <td>24</td>\n      <td>0.0</td>\n      <td>0</td>\n    </tr>\n    <tr>\n      <th>27</th>\n      <td>Raheem Blackshear</td>\n      <td>1.000000</td>\n      <td>1</td>\n      <td>13.000000</td>\n      <td>13</td>\n      <td>13.000000</td>\n      <td>13.000000</td>\n      <td>13</td>\n      <td>0.0</td>\n      <td>0</td>\n    </tr>\n    <tr>\n      <th>28</th>\n      <td>Rashid Shaheed</td>\n      <td>3.000000</td>\n      <td>3</td>\n      <td>60.000000</td>\n      <td>60</td>\n      <td>20.000000</td>\n      <td>47.000000</td>\n      <td>47</td>\n      <td>0.0</td>\n      <td>0</td>\n    </tr>\n    <tr>\n      <th>29</th>\n      <td>Steven Sims</td>\n      <td>3.000000</td>\n      <td>3</td>\n      <td>11.000000</td>\n      <td>11</td>\n      <td>3.700000</td>\n      <td>11.000000</td>\n      <td>11</td>\n      <td>0.0</td>\n      <td>0</td>\n    </tr>\n    <tr>\n      <th>30</th>\n      <td>Tre Tucker</td>\n      <td>2.500000</td>\n      <td>5</td>\n      <td>22.000000</td>\n      <td>44</td>\n      <td>9.650000</td>\n      <td>14.500000</td>\n      <td>29</td>\n      <td>0.0</td>\n      <td>0</td>\n    </tr>\n    <tr>\n      <th>31</th>\n      <td>Trey Palmer</td>\n      <td>1.000000</td>\n      <td>1</td>\n      <td>15.000000</td>\n      <td>15</td>\n      <td>15.000000</td>\n      <td>15.000000</td>\n      <td>15</td>\n      <td>0.0</td>\n      <td>0</td>\n    </tr>\n    <tr>\n      <th>32</th>\n      <td>Tyreek Hill</td>\n      <td>1.000000</td>\n      <td>1</td>\n      <td>11.000000</td>\n      <td>11</td>\n      <td>11.000000</td>\n      <td>11.000000</td>\n      <td>11</td>\n      <td>0.0</td>\n      <td>0</td>\n    </tr>\n    <tr>\n      <th>33</th>\n      <td>Xavier Gipson</td>\n      <td>2.666667</td>\n      <td>8</td>\n      <td>22.000000</td>\n      <td>66</td>\n      <td>7.500000</td>\n      <td>14.666667</td>\n      <td>44</td>\n      <td>0.0</td>\n      <td>0</td>\n    </tr>\n  </tbody>\n</table>\n</div>"
     },
     "execution_count": 3,
     "metadata": {},
     "output_type": "execute_result"
    }
   ],
   "source": [
    "fetch.punt_return_boxscore(year=2024, pivot=True)"
   ],
   "metadata": {
    "collapsed": false,
    "ExecuteTime": {
     "end_time": "2024-09-20T04:41:11.961895Z",
     "start_time": "2024-09-20T04:40:56.620707Z"
    }
   },
   "id": "361f6053062a4b60"
  },
  {
   "cell_type": "markdown",
   "source": [
    " "
   ],
   "metadata": {
    "collapsed": false
   },
   "id": "79d354ce0fd944e1"
  },
  {
   "cell_type": "code",
   "execution_count": 17,
   "outputs": [],
   "source": [],
   "metadata": {
    "collapsed": false,
    "ExecuteTime": {
     "end_time": "2024-09-20T03:49:17.694994Z",
     "start_time": "2024-09-20T03:49:17.688597Z"
    }
   },
   "id": "10712f09d0cffe03"
  },
  {
   "cell_type": "code",
   "execution_count": 17,
   "outputs": [],
   "source": [],
   "metadata": {
    "collapsed": false,
    "ExecuteTime": {
     "end_time": "2024-09-20T03:49:17.701173Z",
     "start_time": "2024-09-20T03:49:17.694493Z"
    }
   },
   "id": "d9416f8526b1f4e6"
  },
  {
   "cell_type": "code",
   "execution_count": 17,
   "outputs": [],
   "source": [],
   "metadata": {
    "collapsed": false,
    "ExecuteTime": {
     "end_time": "2024-09-20T03:49:17.737601Z",
     "start_time": "2024-09-20T03:49:17.703213Z"
    }
   },
   "id": "13c65fcc74a78f60"
  },
  {
   "cell_type": "markdown",
   "source": [],
   "metadata": {
    "collapsed": false
   },
   "id": "13333f6b73df185b"
  },
  {
   "cell_type": "markdown",
   "source": [],
   "metadata": {
    "collapsed": false
   },
   "id": "cd6265fa45cd1f24"
  },
  {
   "cell_type": "markdown",
   "source": [],
   "metadata": {
    "collapsed": false
   },
   "id": "97bd8c6ebb380f1f"
  },
  {
   "cell_type": "code",
   "execution_count": 17,
   "outputs": [],
   "source": [],
   "metadata": {
    "collapsed": false,
    "ExecuteTime": {
     "end_time": "2024-09-20T03:49:17.737822Z",
     "start_time": "2024-09-20T03:49:17.708221Z"
    }
   },
   "id": "2bb6f3f919127843"
  },
  {
   "cell_type": "code",
   "execution_count": 17,
   "outputs": [],
   "source": [
    "\n"
   ],
   "metadata": {
    "collapsed": false,
    "ExecuteTime": {
     "end_time": "2024-09-20T03:49:17.738092Z",
     "start_time": "2024-09-20T03:49:17.714221Z"
    }
   },
   "id": "18d71cd4ab791960"
  },
  {
   "cell_type": "code",
   "execution_count": 3,
   "outputs": [],
   "source": [],
   "metadata": {
    "collapsed": false,
    "ExecuteTime": {
     "end_time": "2024-09-18T22:20:12.157898Z",
     "start_time": "2024-09-18T22:20:12.147192Z"
    }
   },
   "id": "7b91c464307da466"
  },
  {
   "cell_type": "code",
   "execution_count": 3,
   "outputs": [],
   "source": [],
   "metadata": {
    "collapsed": false,
    "ExecuteTime": {
     "end_time": "2024-09-18T22:20:12.379652Z",
     "start_time": "2024-09-18T22:20:12.370993Z"
    }
   },
   "id": "f9bfcca282d7537c"
  },
  {
   "cell_type": "code",
   "execution_count": 3,
   "outputs": [],
   "source": [],
   "metadata": {
    "collapsed": false,
    "ExecuteTime": {
     "end_time": "2024-09-18T22:20:12.596969Z",
     "start_time": "2024-09-18T22:20:12.556415Z"
    }
   },
   "id": "b912049296c01ed5"
  },
  {
   "cell_type": "code",
   "execution_count": 3,
   "outputs": [],
   "source": [],
   "metadata": {
    "collapsed": false,
    "ExecuteTime": {
     "end_time": "2024-09-18T22:20:12.942709Z",
     "start_time": "2024-09-18T22:20:12.907338Z"
    }
   },
   "id": "7311cfc949aaa8ac"
  },
  {
   "cell_type": "code",
   "execution_count": 3,
   "outputs": [],
   "source": [],
   "metadata": {
    "collapsed": false,
    "ExecuteTime": {
     "end_time": "2024-09-18T22:20:13.131142Z",
     "start_time": "2024-09-18T22:20:13.107989Z"
    }
   },
   "id": "f71e1b3bf3eab20a"
  },
  {
   "cell_type": "code",
   "execution_count": 3,
   "outputs": [],
   "source": [],
   "metadata": {
    "collapsed": false,
    "ExecuteTime": {
     "end_time": "2024-09-18T22:20:13.366260Z",
     "start_time": "2024-09-18T22:20:13.331571Z"
    }
   },
   "id": "25e1c8e4674f4f68"
  },
  {
   "cell_type": "code",
   "execution_count": 3,
   "outputs": [],
   "source": [],
   "metadata": {
    "collapsed": false,
    "ExecuteTime": {
     "end_time": "2024-09-18T22:20:13.545226Z",
     "start_time": "2024-09-18T22:20:13.514217Z"
    }
   },
   "id": "f6e442163c078cee"
  },
  {
   "cell_type": "code",
   "execution_count": 3,
   "outputs": [],
   "source": [],
   "metadata": {
    "collapsed": false,
    "ExecuteTime": {
     "end_time": "2024-09-18T22:20:13.713336Z",
     "start_time": "2024-09-18T22:20:13.681178Z"
    }
   },
   "id": "28e7905afd34ee3b"
  },
  {
   "cell_type": "code",
   "execution_count": null,
   "outputs": [],
   "source": [],
   "metadata": {
    "collapsed": false
   },
   "id": "edaed07d571eff52"
  }
 ],
 "metadata": {
  "kernelspec": {
   "display_name": "Python 3",
   "language": "python",
   "name": "python3"
  },
  "language_info": {
   "codemirror_mode": {
    "name": "ipython",
    "version": 2
   },
   "file_extension": ".py",
   "mimetype": "text/x-python",
   "name": "python",
   "nbconvert_exporter": "python",
   "pygments_lexer": "ipython2",
   "version": "2.7.6"
  }
 },
 "nbformat": 4,
 "nbformat_minor": 5
}
