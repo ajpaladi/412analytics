{
 "cells": [
  {
   "cell_type": "code",
   "execution_count": 1,
   "outputs": [],
   "source": [
    "import pandas as pd\n",
    "import requests\n",
    "from pprint import pprint\n",
    "import plotly_express as px\n",
    "from fouronetwo import Fetch\n",
    "fetch = Fetch()\n",
    "import re\n",
    "from tqdm import tqdm"
   ],
   "metadata": {
    "collapsed": false,
    "ExecuteTime": {
     "end_time": "2024-11-21T05:46:35.462490Z",
     "start_time": "2024-11-21T05:46:34.868461Z"
    }
   },
   "id": "39e3449c13484393"
  },
  {
   "cell_type": "code",
   "execution_count": 2,
   "id": "initial_id",
   "metadata": {
    "collapsed": true,
    "ExecuteTime": {
     "end_time": "2024-11-21T05:48:28.346903Z",
     "start_time": "2024-11-21T05:46:35.469075Z"
    }
   },
   "outputs": [
    {
     "name": "stdout",
     "output_type": "stream",
     "text": [
      "https://site.api.espn.com/apis/site/v2/sports/football/nfl/scoreboard?limit=1000&dates=2024&seasontype=2&week=1\n",
      "https://site.api.espn.com/apis/site/v2/sports/football/nfl/scoreboard?limit=1000&dates=2024&seasontype=2&week=2\n",
      "https://site.api.espn.com/apis/site/v2/sports/football/nfl/scoreboard?limit=1000&dates=2024&seasontype=2&week=3\n",
      "https://site.api.espn.com/apis/site/v2/sports/football/nfl/scoreboard?limit=1000&dates=2024&seasontype=2&week=4\n",
      "https://site.api.espn.com/apis/site/v2/sports/football/nfl/scoreboard?limit=1000&dates=2024&seasontype=2&week=5\n",
      "https://site.api.espn.com/apis/site/v2/sports/football/nfl/scoreboard?limit=1000&dates=2024&seasontype=2&week=6\n",
      "https://site.api.espn.com/apis/site/v2/sports/football/nfl/scoreboard?limit=1000&dates=2024&seasontype=2&week=7\n",
      "https://site.api.espn.com/apis/site/v2/sports/football/nfl/scoreboard?limit=1000&dates=2024&seasontype=2&week=8\n",
      "https://site.api.espn.com/apis/site/v2/sports/football/nfl/scoreboard?limit=1000&dates=2024&seasontype=2&week=9\n",
      "https://site.api.espn.com/apis/site/v2/sports/football/nfl/scoreboard?limit=1000&dates=2024&seasontype=2&week=10\n",
      "https://site.api.espn.com/apis/site/v2/sports/football/nfl/scoreboard?limit=1000&dates=2024&seasontype=2&week=11\n",
      "https://site.api.espn.com/apis/site/v2/sports/football/nfl/scoreboard?limit=1000&dates=2024&seasontype=2&week=12\n",
      "https://site.api.espn.com/apis/site/v2/sports/football/nfl/scoreboard?limit=1000&dates=2024&seasontype=2&week=13\n",
      "https://site.api.espn.com/apis/site/v2/sports/football/nfl/scoreboard?limit=1000&dates=2024&seasontype=2&week=14\n",
      "https://site.api.espn.com/apis/site/v2/sports/football/nfl/scoreboard?limit=1000&dates=2024&seasontype=2&week=15\n",
      "https://site.api.espn.com/apis/site/v2/sports/football/nfl/scoreboard?limit=1000&dates=2024&seasontype=2&week=16\n",
      "https://site.api.espn.com/apis/site/v2/sports/football/nfl/scoreboard?limit=1000&dates=2024&seasontype=2&week=17\n",
      "https://site.api.espn.com/apis/site/v2/sports/football/nfl/scoreboard?limit=1000&dates=2024&seasontype=2&week=18\n"
     ]
    },
    {
     "name": "stderr",
     "output_type": "stream",
     "text": [
      "100%|██████████| 166/166 [00:48<00:00,  3.45it/s]\n"
     ]
    },
    {
     "name": "stdout",
     "output_type": "stream",
     "text": [
      "https://site.api.espn.com/apis/site/v2/sports/football/nfl/scoreboard?limit=1000&dates=2024&seasontype=2&week=1\n",
      "https://site.api.espn.com/apis/site/v2/sports/football/nfl/scoreboard?limit=1000&dates=2024&seasontype=2&week=2\n",
      "https://site.api.espn.com/apis/site/v2/sports/football/nfl/scoreboard?limit=1000&dates=2024&seasontype=2&week=3\n",
      "https://site.api.espn.com/apis/site/v2/sports/football/nfl/scoreboard?limit=1000&dates=2024&seasontype=2&week=4\n",
      "https://site.api.espn.com/apis/site/v2/sports/football/nfl/scoreboard?limit=1000&dates=2024&seasontype=2&week=5\n",
      "https://site.api.espn.com/apis/site/v2/sports/football/nfl/scoreboard?limit=1000&dates=2024&seasontype=2&week=6\n",
      "https://site.api.espn.com/apis/site/v2/sports/football/nfl/scoreboard?limit=1000&dates=2024&seasontype=2&week=7\n",
      "https://site.api.espn.com/apis/site/v2/sports/football/nfl/scoreboard?limit=1000&dates=2024&seasontype=2&week=8\n",
      "https://site.api.espn.com/apis/site/v2/sports/football/nfl/scoreboard?limit=1000&dates=2024&seasontype=2&week=9\n",
      "https://site.api.espn.com/apis/site/v2/sports/football/nfl/scoreboard?limit=1000&dates=2024&seasontype=2&week=10\n",
      "https://site.api.espn.com/apis/site/v2/sports/football/nfl/scoreboard?limit=1000&dates=2024&seasontype=2&week=11\n",
      "https://site.api.espn.com/apis/site/v2/sports/football/nfl/scoreboard?limit=1000&dates=2024&seasontype=2&week=12\n",
      "https://site.api.espn.com/apis/site/v2/sports/football/nfl/scoreboard?limit=1000&dates=2024&seasontype=2&week=13\n",
      "https://site.api.espn.com/apis/site/v2/sports/football/nfl/scoreboard?limit=1000&dates=2024&seasontype=2&week=14\n",
      "https://site.api.espn.com/apis/site/v2/sports/football/nfl/scoreboard?limit=1000&dates=2024&seasontype=2&week=15\n",
      "https://site.api.espn.com/apis/site/v2/sports/football/nfl/scoreboard?limit=1000&dates=2024&seasontype=2&week=16\n",
      "https://site.api.espn.com/apis/site/v2/sports/football/nfl/scoreboard?limit=1000&dates=2024&seasontype=2&week=17\n",
      "https://site.api.espn.com/apis/site/v2/sports/football/nfl/scoreboard?limit=1000&dates=2024&seasontype=2&week=18\n"
     ]
    },
    {
     "name": "stderr",
     "output_type": "stream",
     "text": [
      "100%|██████████| 166/166 [00:46<00:00,  3.53it/s]\n"
     ]
    }
   ],
   "source": [
    "drive_summary = fetch.drive_analysis(year = 2024, agg_method='weekly')"
   ]
  },
  {
   "cell_type": "code",
   "execution_count": 3,
   "outputs": [],
   "source": [
    "from itertools import combinations\n",
    "\n",
    "# Get all unique teams\n",
    "\n",
    "drive_summary['result'] = drive_summary['result'].map({'W': 1, 'L': 0})\n",
    "teams = drive_summary['team'].unique()\n",
    "\n",
    "# Generate all possible team matchups\n",
    "matchups = []\n",
    "for team_a, team_b in combinations(teams, 2):  # Pairwise combinations of teams\n",
    "    team_a_games = drive_summary[drive_summary['team'] == team_a]\n",
    "    team_b_games = drive_summary[drive_summary['team'] == team_b]\n",
    "\n",
    "    # Create pairwise matchups for all games between the two teams\n",
    "    for _, team_a_game in team_a_games.iterrows():\n",
    "        for _, team_b_game in team_b_games.iterrows():\n",
    "            matchup = {\n",
    "                **{f\"Team_A_{col}\": team_a_game[col] for col in drive_summary.columns if col not in ['team', 'opponent', 'date', 'result']},\n",
    "                **{f\"Team_B_{col}\": team_b_game[col] for col in drive_summary.columns if col not in ['team', 'opponent', 'date', 'result']},\n",
    "                \"Result\": 1 if team_a_game['result'] == 1 and team_b_game['result'] == 0 else 0\n",
    "            }\n",
    "            matchups.append(matchup)\n",
    "\n",
    "# Convert to DataFrame\n",
    "general_matchup_df = pd.DataFrame(matchups)\n"
   ],
   "metadata": {
    "collapsed": false,
    "ExecuteTime": {
     "end_time": "2024-11-21T05:49:27.825562Z",
     "start_time": "2024-11-21T05:49:24.034375Z"
    }
   },
   "id": "fce624486a173d6"
  },
  {
   "cell_type": "code",
   "execution_count": 4,
   "outputs": [
    {
     "name": "stdout",
     "output_type": "stream",
     "text": [
      "Accuracy: 1.00\n",
      "              precision    recall  f1-score   support\n",
      "\n",
      "           0       1.00      1.00      1.00      7838\n",
      "           1       1.00      1.00      1.00      2840\n",
      "\n",
      "    accuracy                           1.00     10678\n",
      "   macro avg       1.00      1.00      1.00     10678\n",
      "weighted avg       1.00      1.00      1.00     10678\n",
      "\n",
      "Model saved as 'random_forest_matchup_model.pkl'\n"
     ]
    }
   ],
   "source": [
    "# Prepare the data\n",
    "import joblib\n",
    "\n",
    "X = general_matchup_df.drop(columns=['Result'])  # Features\n",
    "y = general_matchup_df['Result']                # Target\n",
    "\n",
    "# Train-test split\n",
    "from sklearn.model_selection import train_test_split\n",
    "X_train, X_test, y_train, y_test = train_test_split(X, y, test_size=0.2, random_state=42)\n",
    "\n",
    "# Train the model\n",
    "from sklearn.ensemble import RandomForestClassifier\n",
    "model = RandomForestClassifier(n_estimators=100, random_state=42)\n",
    "model.fit(X_train, y_train)\n",
    "\n",
    "# Evaluate the model\n",
    "from sklearn.metrics import accuracy_score, classification_report\n",
    "y_pred = model.predict(X_test)\n",
    "print(f\"Accuracy: {accuracy_score(y_test, y_pred):.2f}\")\n",
    "print(classification_report(y_test, y_pred))\n",
    "\n",
    "# Step 4: Save the trained model\n",
    "joblib.dump(model, 'random_forest_matchup_model.pkl')\n",
    "print(\"Model saved as 'random_forest_matchup_model.pkl'\")\n"
   ],
   "metadata": {
    "collapsed": false,
    "ExecuteTime": {
     "end_time": "2024-11-21T05:49:36.141706Z",
     "start_time": "2024-11-21T05:49:30.781229Z"
    }
   },
   "id": "4c003aa9c3cf7a09"
  },
  {
   "cell_type": "code",
   "execution_count": 5,
   "outputs": [
    {
     "name": "stdout",
     "output_type": "stream",
     "text": [
      "\n",
      "Top Feature Importances:\n",
      "                                Feature  Importance\n",
      "25      Team_B_total_performance_metric    0.168865\n",
      "12      Team_A_total_performance_metric    0.157280\n",
      "24  Team_B_defensive_performance_metric    0.055635\n",
      "2                        Team_A_point_%    0.053132\n",
      "20            Team_B_point_prevention_%    0.053050\n",
      "1                    Team_A_touchdown_%    0.048969\n",
      "23  Team_B_offensive_performance_metric    0.046290\n",
      "11  Team_A_defensive_performance_metric    0.044206\n",
      "6         Team_A_touchdown_prevention_%    0.040381\n",
      "10  Team_A_offensive_performance_metric    0.040214\n"
     ]
    }
   ],
   "source": [
    "#### feature importance evaluation \n",
    "\n",
    "import pandas as pd\n",
    "\n",
    "# Get feature importances\n",
    "feature_importances = model.feature_importances_\n",
    "feature_names = X.columns\n",
    "importance_df = pd.DataFrame({'Feature': feature_names, 'Importance': feature_importances})\n",
    "importance_df = importance_df.sort_values(by='Importance', ascending=False)\n",
    "\n",
    "print(\"\\nTop Feature Importances:\")\n",
    "print(importance_df.head(10))  # Top 10 features"
   ],
   "metadata": {
    "collapsed": false,
    "ExecuteTime": {
     "end_time": "2024-11-21T06:09:30.388232Z",
     "start_time": "2024-11-21T06:09:30.307716Z"
    }
   },
   "id": "623578ca7defa25f"
  },
  {
   "cell_type": "code",
   "execution_count": 7,
   "outputs": [
    {
     "name": "stdout",
     "output_type": "stream",
     "text": [
      "Cross-Validation Scores: [0.94970968 0.91973401 0.95935188 0.96019481 0.95972651]\n",
      "Mean CV Accuracy: 0.95\n"
     ]
    }
   ],
   "source": [
    "#### cross validation ###\n",
    "\n",
    "from sklearn.model_selection import cross_val_scoree\n",
    "\n",
    "# Perform 5-fold cross-validation\n",
    "cv_scores = cross_val_score(model, X, y, cv=5)\n",
    "print(f\"Cross-Validation Scores: {cv_scores}\")\n",
    "print(f\"Mean CV Accuracy: {cv_scores.mean():.2f}\")"
   ],
   "metadata": {
    "collapsed": false,
    "ExecuteTime": {
     "end_time": "2024-11-21T06:25:51.937900Z",
     "start_time": "2024-11-21T06:25:32.536472Z"
    }
   },
   "id": "38b703a5bf0c81c4"
  },
  {
   "cell_type": "code",
   "execution_count": 14,
   "outputs": [
    {
     "name": "stdout",
     "output_type": "stream",
     "text": [
      "[1]\n"
     ]
    },
    {
     "data": {
      "text/plain": "'Team A Wins'"
     },
     "execution_count": 14,
     "metadata": {},
     "output_type": "execute_result"
    }
   ],
   "source": [
    "# Load the trained model\n",
    "import joblib\n",
    "model = joblib.load('random_forest_matchup_model.pkl')\n",
    "\n",
    "# Function to create a matchup for prediction\n",
    "def predict_matchup(team_a, team_b, drive_summary):\n",
    "\n",
    "    numeric_columns = [col for col in drive_summary.select_dtypes(include=['float64', 'int64']).columns if col != 'result']\n",
    "    team_a_stats = drive_summary[drive_summary['team'] == team_a][numeric_columns].mean()\n",
    "    team_b_stats = drive_summary[drive_summary['team'] == team_b][numeric_columns].mean()\n",
    "\n",
    "    matchup = {\n",
    "        **{f\"Team_A_{col}\": team_a_stats[col] for col in numeric_columns},\n",
    "        **{f\"Team_B_{col}\": team_b_stats[col] for col in numeric_columns}\n",
    "    }\n",
    "\n",
    "    matchup_df = pd.DataFrame([matchup])\n",
    "    prediction = model.predict(matchup_df)\n",
    "    print(prediction)\n",
    "    return \"Team A Wins\" if prediction[0] == 1 else \"Team B Wins\"\n",
    "\n",
    "\n",
    "matchup_1 = predict_matchup('Pittsburgh Steelers', 'Dallas Cowboys', drive_summary)\n",
    "matchup_1\n"
   ],
   "metadata": {
    "collapsed": false,
    "ExecuteTime": {
     "end_time": "2024-11-21T06:55:02.683542Z",
     "start_time": "2024-11-21T06:55:02.638544Z"
    }
   },
   "id": "314196862eeddff2"
  },
  {
   "cell_type": "code",
   "execution_count": null,
   "outputs": [],
   "source": [],
   "metadata": {
    "collapsed": false
   },
   "id": "27aa98b76b6dda6f"
  },
  {
   "cell_type": "code",
   "execution_count": null,
   "outputs": [],
   "source": [],
   "metadata": {
    "collapsed": false
   },
   "id": "13a1da336ec42b6a"
  },
  {
   "cell_type": "code",
   "execution_count": null,
   "outputs": [],
   "source": [],
   "metadata": {
    "collapsed": false
   },
   "id": "6a69c3fb598d0b54"
  },
  {
   "cell_type": "code",
   "execution_count": 3,
   "outputs": [
    {
     "data": {
      "text/plain": "                      team               opponent result  \\\n0        Arizona Cardinals          Buffalo Bills      L   \n1        Arizona Cardinals       Los Angeles Rams      W   \n2        Arizona Cardinals          Detroit Lions      L   \n3        Arizona Cardinals  Washington Commanders      L   \n4        Arizona Cardinals    San Francisco 49ers      W   \n..                     ...                    ...    ...   \n327  Washington Commanders      Carolina Panthers      W   \n328  Washington Commanders          Chicago Bears      W   \n329  Washington Commanders        New York Giants      W   \n330  Washington Commanders    Pittsburgh Steelers      L   \n331  Washington Commanders    Philadelphia Eagles      L   \n\n                         date    punt_%  touchdown_%   point_%  turnover_%  \\\n0   2024-09-08 17:00:00+00:00  0.200000     0.300000  0.500000    0.100000   \n1   2024-09-15 20:05:00+00:00  0.111111     0.555556  0.777778    0.111111   \n2   2024-09-22 20:25:00+00:00  0.454545     0.090909  0.272727    0.090909   \n3   2024-09-29 20:05:00+00:00  0.444444     0.222222  0.222222    0.111111   \n4   2024-10-06 20:05:00+00:00  0.200000     0.200000  0.500000    0.100000   \n..                        ...       ...          ...       ...         ...   \n327 2024-10-20 20:05:00+00:00  0.111111     0.333333  0.777778    0.000000   \n328 2024-10-27 20:25:00+00:00  0.416667     0.083333  0.416667    0.000000   \n329 2024-11-03 18:00:00+00:00  0.250000     0.375000  0.625000    0.000000   \n330 2024-11-10 18:00:00+00:00  0.500000     0.250000  0.416667    0.000000   \n331 2024-11-15 01:15:00+00:00  0.454545     0.181818  0.272727    0.090909   \n\n     splash_allowed_%  forced_punt_%  touchdown_prevention_%  \\\n0            0.100000       0.200000                0.600000   \n1            0.111111       0.400000                0.900000   \n2            0.090909       0.454545                0.727273   \n3            0.111111       0.111111                0.444444   \n4            0.200000       0.111111                0.888889   \n..                ...            ...                     ...   \n327          0.000000       0.500000                0.900000   \n328          0.000000       0.636364                0.818182   \n329          0.000000       0.250000                0.625000   \n330          0.000000       0.357143                0.714286   \n331          0.090909       0.272727                0.727273   \n\n     point_prevention_%  forced_turnover_%  splash_forced_%  \\\n0              0.400000           0.100000         0.100000   \n1              0.800000           0.100000         0.100000   \n2              0.727273           0.090909         0.090909   \n3              0.222222           0.111111         0.111111   \n4              0.555556           0.333333         0.333333   \n..                  ...                ...              ...   \n327            0.900000           0.200000         0.200000   \n328            0.818182           0.090909         0.090909   \n329            0.500000           0.125000         0.125000   \n330            0.714286           0.142857         0.142857   \n331            0.545455           0.000000         0.000000   \n\n     offensive_performance_metric  defensive_performance_metric  \\\n0                        0.500000                      1.300000   \n1                        1.111111                      2.200000   \n2                       -0.181818                      2.000000   \n3                       -0.111111                      0.888889   \n4                        0.300000                      1.888889   \n..                            ...                           ...   \n327                      1.000000                      2.500000   \n328                      0.083333                      2.363636   \n329                      0.750000                      1.500000   \n330                      0.166667                      1.928571   \n331                     -0.090909                      1.545455   \n\n     total_performance_metric  \n0                    1.800000  \n1                    3.311111  \n2                    1.818182  \n3                    0.777778  \n4                    2.188889  \n..                        ...  \n327                  3.500000  \n328                  2.446970  \n329                  2.250000  \n330                  2.095238  \n331                  1.454545  \n\n[332 rows x 17 columns]",
      "text/html": "<div>\n<style scoped>\n    .dataframe tbody tr th:only-of-type {\n        vertical-align: middle;\n    }\n\n    .dataframe tbody tr th {\n        vertical-align: top;\n    }\n\n    .dataframe thead th {\n        text-align: right;\n    }\n</style>\n<table border=\"1\" class=\"dataframe\">\n  <thead>\n    <tr style=\"text-align: right;\">\n      <th></th>\n      <th>team</th>\n      <th>opponent</th>\n      <th>result</th>\n      <th>date</th>\n      <th>punt_%</th>\n      <th>touchdown_%</th>\n      <th>point_%</th>\n      <th>turnover_%</th>\n      <th>splash_allowed_%</th>\n      <th>forced_punt_%</th>\n      <th>touchdown_prevention_%</th>\n      <th>point_prevention_%</th>\n      <th>forced_turnover_%</th>\n      <th>splash_forced_%</th>\n      <th>offensive_performance_metric</th>\n      <th>defensive_performance_metric</th>\n      <th>total_performance_metric</th>\n    </tr>\n  </thead>\n  <tbody>\n    <tr>\n      <th>0</th>\n      <td>Arizona Cardinals</td>\n      <td>Buffalo Bills</td>\n      <td>L</td>\n      <td>2024-09-08 17:00:00+00:00</td>\n      <td>0.200000</td>\n      <td>0.300000</td>\n      <td>0.500000</td>\n      <td>0.100000</td>\n      <td>0.100000</td>\n      <td>0.200000</td>\n      <td>0.600000</td>\n      <td>0.400000</td>\n      <td>0.100000</td>\n      <td>0.100000</td>\n      <td>0.500000</td>\n      <td>1.300000</td>\n      <td>1.800000</td>\n    </tr>\n    <tr>\n      <th>1</th>\n      <td>Arizona Cardinals</td>\n      <td>Los Angeles Rams</td>\n      <td>W</td>\n      <td>2024-09-15 20:05:00+00:00</td>\n      <td>0.111111</td>\n      <td>0.555556</td>\n      <td>0.777778</td>\n      <td>0.111111</td>\n      <td>0.111111</td>\n      <td>0.400000</td>\n      <td>0.900000</td>\n      <td>0.800000</td>\n      <td>0.100000</td>\n      <td>0.100000</td>\n      <td>1.111111</td>\n      <td>2.200000</td>\n      <td>3.311111</td>\n    </tr>\n    <tr>\n      <th>2</th>\n      <td>Arizona Cardinals</td>\n      <td>Detroit Lions</td>\n      <td>L</td>\n      <td>2024-09-22 20:25:00+00:00</td>\n      <td>0.454545</td>\n      <td>0.090909</td>\n      <td>0.272727</td>\n      <td>0.090909</td>\n      <td>0.090909</td>\n      <td>0.454545</td>\n      <td>0.727273</td>\n      <td>0.727273</td>\n      <td>0.090909</td>\n      <td>0.090909</td>\n      <td>-0.181818</td>\n      <td>2.000000</td>\n      <td>1.818182</td>\n    </tr>\n    <tr>\n      <th>3</th>\n      <td>Arizona Cardinals</td>\n      <td>Washington Commanders</td>\n      <td>L</td>\n      <td>2024-09-29 20:05:00+00:00</td>\n      <td>0.444444</td>\n      <td>0.222222</td>\n      <td>0.222222</td>\n      <td>0.111111</td>\n      <td>0.111111</td>\n      <td>0.111111</td>\n      <td>0.444444</td>\n      <td>0.222222</td>\n      <td>0.111111</td>\n      <td>0.111111</td>\n      <td>-0.111111</td>\n      <td>0.888889</td>\n      <td>0.777778</td>\n    </tr>\n    <tr>\n      <th>4</th>\n      <td>Arizona Cardinals</td>\n      <td>San Francisco 49ers</td>\n      <td>W</td>\n      <td>2024-10-06 20:05:00+00:00</td>\n      <td>0.200000</td>\n      <td>0.200000</td>\n      <td>0.500000</td>\n      <td>0.100000</td>\n      <td>0.200000</td>\n      <td>0.111111</td>\n      <td>0.888889</td>\n      <td>0.555556</td>\n      <td>0.333333</td>\n      <td>0.333333</td>\n      <td>0.300000</td>\n      <td>1.888889</td>\n      <td>2.188889</td>\n    </tr>\n    <tr>\n      <th>...</th>\n      <td>...</td>\n      <td>...</td>\n      <td>...</td>\n      <td>...</td>\n      <td>...</td>\n      <td>...</td>\n      <td>...</td>\n      <td>...</td>\n      <td>...</td>\n      <td>...</td>\n      <td>...</td>\n      <td>...</td>\n      <td>...</td>\n      <td>...</td>\n      <td>...</td>\n      <td>...</td>\n      <td>...</td>\n    </tr>\n    <tr>\n      <th>327</th>\n      <td>Washington Commanders</td>\n      <td>Carolina Panthers</td>\n      <td>W</td>\n      <td>2024-10-20 20:05:00+00:00</td>\n      <td>0.111111</td>\n      <td>0.333333</td>\n      <td>0.777778</td>\n      <td>0.000000</td>\n      <td>0.000000</td>\n      <td>0.500000</td>\n      <td>0.900000</td>\n      <td>0.900000</td>\n      <td>0.200000</td>\n      <td>0.200000</td>\n      <td>1.000000</td>\n      <td>2.500000</td>\n      <td>3.500000</td>\n    </tr>\n    <tr>\n      <th>328</th>\n      <td>Washington Commanders</td>\n      <td>Chicago Bears</td>\n      <td>W</td>\n      <td>2024-10-27 20:25:00+00:00</td>\n      <td>0.416667</td>\n      <td>0.083333</td>\n      <td>0.416667</td>\n      <td>0.000000</td>\n      <td>0.000000</td>\n      <td>0.636364</td>\n      <td>0.818182</td>\n      <td>0.818182</td>\n      <td>0.090909</td>\n      <td>0.090909</td>\n      <td>0.083333</td>\n      <td>2.363636</td>\n      <td>2.446970</td>\n    </tr>\n    <tr>\n      <th>329</th>\n      <td>Washington Commanders</td>\n      <td>New York Giants</td>\n      <td>W</td>\n      <td>2024-11-03 18:00:00+00:00</td>\n      <td>0.250000</td>\n      <td>0.375000</td>\n      <td>0.625000</td>\n      <td>0.000000</td>\n      <td>0.000000</td>\n      <td>0.250000</td>\n      <td>0.625000</td>\n      <td>0.500000</td>\n      <td>0.125000</td>\n      <td>0.125000</td>\n      <td>0.750000</td>\n      <td>1.500000</td>\n      <td>2.250000</td>\n    </tr>\n    <tr>\n      <th>330</th>\n      <td>Washington Commanders</td>\n      <td>Pittsburgh Steelers</td>\n      <td>L</td>\n      <td>2024-11-10 18:00:00+00:00</td>\n      <td>0.500000</td>\n      <td>0.250000</td>\n      <td>0.416667</td>\n      <td>0.000000</td>\n      <td>0.000000</td>\n      <td>0.357143</td>\n      <td>0.714286</td>\n      <td>0.714286</td>\n      <td>0.142857</td>\n      <td>0.142857</td>\n      <td>0.166667</td>\n      <td>1.928571</td>\n      <td>2.095238</td>\n    </tr>\n    <tr>\n      <th>331</th>\n      <td>Washington Commanders</td>\n      <td>Philadelphia Eagles</td>\n      <td>L</td>\n      <td>2024-11-15 01:15:00+00:00</td>\n      <td>0.454545</td>\n      <td>0.181818</td>\n      <td>0.272727</td>\n      <td>0.090909</td>\n      <td>0.090909</td>\n      <td>0.272727</td>\n      <td>0.727273</td>\n      <td>0.545455</td>\n      <td>0.000000</td>\n      <td>0.000000</td>\n      <td>-0.090909</td>\n      <td>1.545455</td>\n      <td>1.454545</td>\n    </tr>\n  </tbody>\n</table>\n<p>332 rows × 17 columns</p>\n</div>"
     },
     "execution_count": 3,
     "metadata": {},
     "output_type": "execute_result"
    }
   ],
   "source": [
    "drive_summary"
   ],
   "metadata": {
    "collapsed": false,
    "ExecuteTime": {
     "end_time": "2024-11-21T05:39:17.915368Z",
     "start_time": "2024-11-21T05:39:17.888039Z"
    }
   },
   "id": "cf8ca8c7d5db6b79"
  },
  {
   "cell_type": "code",
   "execution_count": 4,
   "outputs": [],
   "source": [
    "def generate_matchups(drive_summary, team_a_name, team_b_name):\n",
    "    \"\"\"\n",
    "    Generate game-by-game matchups between two specified teams.\n",
    "\n",
    "    Args:\n",
    "        drive_summary (pd.DataFrame): The full dataset containing game stats for all teams.\n",
    "        team_a_name (str): Name of Team A (e.g., \"Pittsburgh Steelers\").\n",
    "        team_b_name (str): Name of Team B (e.g., \"Baltimore Ravens\").\n",
    "\n",
    "    Returns:\n",
    "        pd.DataFrame: DataFrame of matchups with Team A and Team B stats, and a Result column.\n",
    "    \"\"\"\n",
    "    # Filter the dataframe for the two specified teams\n",
    "    drive_summary['result'] = drive_summary['result'].map({'W': 1, 'L': 0})\n",
    "    team_subset = drive_summary[drive_summary['team'].isin([team_a_name, team_b_name])]\n",
    "    \n",
    "    # Select only numerical stats for simplicity\n",
    "    numerical_stats = team_subset.drop(columns=['opponent', 'date', 'result', 'team']).select_dtypes(include=['float64', 'int64'])\n",
    "\n",
    "    # Split the data by team\n",
    "    team_a_stats = team_subset[team_subset['team'] == team_a_name]\n",
    "    team_b_stats = team_subset[team_subset['team'] == team_b_name]\n",
    "\n",
    "    matchups = []\n",
    "\n",
    "    # Pair each game for Team A with each game for Team B\n",
    "    for _, team_a_game in team_a_stats.iterrows():\n",
    "        for _, team_b_game in team_b_stats.iterrows():\n",
    "            matchup = {\n",
    "                **{f\"Team_A_{col}\": team_a_game[col] for col in numerical_stats.columns},\n",
    "                **{f\"Team_B_{col}\": team_b_game[col] for col in numerical_stats.columns},\n",
    "                # Result logic: Adjust based on how you define matchups\n",
    "                \"Result\": 1 if team_a_game['result'] == 1 and team_b_game['result'] == 0 else 0\n",
    "            }\n",
    "            matchups.append(matchup)\n",
    "\n",
    "    # Convert matchups into a DataFrame\n",
    "    matchup_df = pd.DataFrame(matchups)\n",
    "    return matchup_df\n",
    "\n"
   ],
   "metadata": {
    "collapsed": false,
    "ExecuteTime": {
     "end_time": "2024-11-18T05:44:17.623425Z",
     "start_time": "2024-11-18T05:44:17.615583Z"
    }
   },
   "id": "5d0b9fd3d23ee94d"
  },
  {
   "cell_type": "code",
   "execution_count": 5,
   "outputs": [
    {
     "data": {
      "text/plain": "     Team_A_punt_%  Team_A_touchdown_%  Team_A_point_%  Team_A_turnover_%  \\\n0         0.300000                 0.0        0.600000           0.000000   \n1         0.300000                 0.0        0.600000           0.000000   \n2         0.300000                 0.0        0.600000           0.000000   \n3         0.300000                 0.0        0.600000           0.000000   \n4         0.300000                 0.0        0.600000           0.000000   \n..             ...                 ...             ...                ...   \n105       0.307692                 0.0        0.461538           0.076923   \n106       0.307692                 0.0        0.461538           0.076923   \n107       0.307692                 0.0        0.461538           0.076923   \n108       0.307692                 0.0        0.461538           0.076923   \n109       0.307692                 0.0        0.461538           0.076923   \n\n     Team_A_splash_allowed_%  Team_A_forced_punt_%  \\\n0                   0.000000              0.400000   \n1                   0.000000              0.400000   \n2                   0.000000              0.400000   \n3                   0.000000              0.400000   \n4                   0.000000              0.400000   \n..                       ...                   ...   \n105                 0.076923              0.307692   \n106                 0.076923              0.307692   \n107                 0.076923              0.307692   \n108                 0.076923              0.307692   \n109                 0.076923              0.307692   \n\n     Team_A_touchdown_prevention_%  Team_A_point_prevention_%  \\\n0                         0.900000                   0.800000   \n1                         0.900000                   0.800000   \n2                         0.900000                   0.800000   \n3                         0.900000                   0.800000   \n4                         0.900000                   0.800000   \n..                             ...                        ...   \n105                       0.846154                   0.769231   \n106                       0.846154                   0.769231   \n107                       0.846154                   0.769231   \n108                       0.846154                   0.769231   \n109                       0.846154                   0.769231   \n\n     Team_A_forced_turnover_%  Team_A_splash_forced_%  ...  \\\n0                    0.300000                0.300000  ...   \n1                    0.300000                0.300000  ...   \n2                    0.300000                0.300000  ...   \n3                    0.300000                0.300000  ...   \n4                    0.300000                0.300000  ...   \n..                        ...                     ...  ...   \n105                  0.230769                0.230769  ...   \n106                  0.230769                0.230769  ...   \n107                  0.230769                0.230769  ...   \n108                  0.230769                0.230769  ...   \n109                  0.230769                0.230769  ...   \n\n     Team_B_splash_allowed_%  Team_B_forced_punt_%  \\\n0                   0.100000              0.300000   \n1                   0.083333              0.250000   \n2                   0.000000              0.363636   \n3                   0.090909              0.545455   \n4                   0.153846              0.416667   \n..                       ...                   ...   \n105                 0.100000              0.166667   \n106                 0.000000              0.272727   \n107                 0.000000              0.200000   \n108                 0.000000              0.272727   \n109                 0.230769              0.307692   \n\n     Team_B_touchdown_prevention_%  Team_B_point_prevention_%  \\\n0                         0.700000                   0.500000   \n1                         0.833333                   0.500000   \n2                         0.727273                   0.545455   \n3                         0.909091                   0.818182   \n4                         0.583333                   0.583333   \n..                             ...                        ...   \n105                       0.666667                   0.583333   \n106                       0.727273                   0.454545   \n107                       0.900000                   0.800000   \n108                       0.545455                   0.545455   \n109                       1.000000                   0.538462   \n\n     Team_B_forced_turnover_%  Team_B_splash_forced_%  \\\n0                    0.100000                0.100000   \n1                    0.083333                0.083333   \n2                    0.090909                0.090909   \n3                    0.090909                0.090909   \n4                    0.083333                0.083333   \n..                        ...                     ...   \n105                  0.166667                0.166667   \n106                  0.090909                0.090909   \n107                  0.100000                0.100000   \n108                  0.090909                0.090909   \n109                  0.076923                0.076923   \n\n     Team_B_offensive_performance_metric  Team_B_defensive_performance_metric  \\\n0                               0.300000                             1.600000   \n1                               0.166667                             1.666667   \n2                               0.363636                             1.727273   \n3                               0.454545                             2.363636   \n4                               0.538462                             1.666667   \n..                                   ...                                  ...   \n105                             0.900000                             1.583333   \n106                             0.272727                             1.545455   \n107                             1.000000                             2.000000   \n108                             0.416667                             1.454545   \n109                            -0.153846                             1.923077   \n\n     Team_B_total_performance_metric  Result  \n0                           1.900000       1  \n1                           1.833333       1  \n2                           2.090909       0  \n3                           2.818182       0  \n4                           2.205128       0  \n..                               ...     ...  \n105                         2.483333       0  \n106                         1.818182       1  \n107                         3.000000       0  \n108                         1.871212       0  \n109                         1.769231       1  \n\n[110 rows x 27 columns]",
      "text/html": "<div>\n<style scoped>\n    .dataframe tbody tr th:only-of-type {\n        vertical-align: middle;\n    }\n\n    .dataframe tbody tr th {\n        vertical-align: top;\n    }\n\n    .dataframe thead th {\n        text-align: right;\n    }\n</style>\n<table border=\"1\" class=\"dataframe\">\n  <thead>\n    <tr style=\"text-align: right;\">\n      <th></th>\n      <th>Team_A_punt_%</th>\n      <th>Team_A_touchdown_%</th>\n      <th>Team_A_point_%</th>\n      <th>Team_A_turnover_%</th>\n      <th>Team_A_splash_allowed_%</th>\n      <th>Team_A_forced_punt_%</th>\n      <th>Team_A_touchdown_prevention_%</th>\n      <th>Team_A_point_prevention_%</th>\n      <th>Team_A_forced_turnover_%</th>\n      <th>Team_A_splash_forced_%</th>\n      <th>...</th>\n      <th>Team_B_splash_allowed_%</th>\n      <th>Team_B_forced_punt_%</th>\n      <th>Team_B_touchdown_prevention_%</th>\n      <th>Team_B_point_prevention_%</th>\n      <th>Team_B_forced_turnover_%</th>\n      <th>Team_B_splash_forced_%</th>\n      <th>Team_B_offensive_performance_metric</th>\n      <th>Team_B_defensive_performance_metric</th>\n      <th>Team_B_total_performance_metric</th>\n      <th>Result</th>\n    </tr>\n  </thead>\n  <tbody>\n    <tr>\n      <th>0</th>\n      <td>0.300000</td>\n      <td>0.0</td>\n      <td>0.600000</td>\n      <td>0.000000</td>\n      <td>0.000000</td>\n      <td>0.400000</td>\n      <td>0.900000</td>\n      <td>0.800000</td>\n      <td>0.300000</td>\n      <td>0.300000</td>\n      <td>...</td>\n      <td>0.100000</td>\n      <td>0.300000</td>\n      <td>0.700000</td>\n      <td>0.500000</td>\n      <td>0.100000</td>\n      <td>0.100000</td>\n      <td>0.300000</td>\n      <td>1.600000</td>\n      <td>1.900000</td>\n      <td>1</td>\n    </tr>\n    <tr>\n      <th>1</th>\n      <td>0.300000</td>\n      <td>0.0</td>\n      <td>0.600000</td>\n      <td>0.000000</td>\n      <td>0.000000</td>\n      <td>0.400000</td>\n      <td>0.900000</td>\n      <td>0.800000</td>\n      <td>0.300000</td>\n      <td>0.300000</td>\n      <td>...</td>\n      <td>0.083333</td>\n      <td>0.250000</td>\n      <td>0.833333</td>\n      <td>0.500000</td>\n      <td>0.083333</td>\n      <td>0.083333</td>\n      <td>0.166667</td>\n      <td>1.666667</td>\n      <td>1.833333</td>\n      <td>1</td>\n    </tr>\n    <tr>\n      <th>2</th>\n      <td>0.300000</td>\n      <td>0.0</td>\n      <td>0.600000</td>\n      <td>0.000000</td>\n      <td>0.000000</td>\n      <td>0.400000</td>\n      <td>0.900000</td>\n      <td>0.800000</td>\n      <td>0.300000</td>\n      <td>0.300000</td>\n      <td>...</td>\n      <td>0.000000</td>\n      <td>0.363636</td>\n      <td>0.727273</td>\n      <td>0.545455</td>\n      <td>0.090909</td>\n      <td>0.090909</td>\n      <td>0.363636</td>\n      <td>1.727273</td>\n      <td>2.090909</td>\n      <td>0</td>\n    </tr>\n    <tr>\n      <th>3</th>\n      <td>0.300000</td>\n      <td>0.0</td>\n      <td>0.600000</td>\n      <td>0.000000</td>\n      <td>0.000000</td>\n      <td>0.400000</td>\n      <td>0.900000</td>\n      <td>0.800000</td>\n      <td>0.300000</td>\n      <td>0.300000</td>\n      <td>...</td>\n      <td>0.090909</td>\n      <td>0.545455</td>\n      <td>0.909091</td>\n      <td>0.818182</td>\n      <td>0.090909</td>\n      <td>0.090909</td>\n      <td>0.454545</td>\n      <td>2.363636</td>\n      <td>2.818182</td>\n      <td>0</td>\n    </tr>\n    <tr>\n      <th>4</th>\n      <td>0.300000</td>\n      <td>0.0</td>\n      <td>0.600000</td>\n      <td>0.000000</td>\n      <td>0.000000</td>\n      <td>0.400000</td>\n      <td>0.900000</td>\n      <td>0.800000</td>\n      <td>0.300000</td>\n      <td>0.300000</td>\n      <td>...</td>\n      <td>0.153846</td>\n      <td>0.416667</td>\n      <td>0.583333</td>\n      <td>0.583333</td>\n      <td>0.083333</td>\n      <td>0.083333</td>\n      <td>0.538462</td>\n      <td>1.666667</td>\n      <td>2.205128</td>\n      <td>0</td>\n    </tr>\n    <tr>\n      <th>...</th>\n      <td>...</td>\n      <td>...</td>\n      <td>...</td>\n      <td>...</td>\n      <td>...</td>\n      <td>...</td>\n      <td>...</td>\n      <td>...</td>\n      <td>...</td>\n      <td>...</td>\n      <td>...</td>\n      <td>...</td>\n      <td>...</td>\n      <td>...</td>\n      <td>...</td>\n      <td>...</td>\n      <td>...</td>\n      <td>...</td>\n      <td>...</td>\n      <td>...</td>\n      <td>...</td>\n    </tr>\n    <tr>\n      <th>105</th>\n      <td>0.307692</td>\n      <td>0.0</td>\n      <td>0.461538</td>\n      <td>0.076923</td>\n      <td>0.076923</td>\n      <td>0.307692</td>\n      <td>0.846154</td>\n      <td>0.769231</td>\n      <td>0.230769</td>\n      <td>0.230769</td>\n      <td>...</td>\n      <td>0.100000</td>\n      <td>0.166667</td>\n      <td>0.666667</td>\n      <td>0.583333</td>\n      <td>0.166667</td>\n      <td>0.166667</td>\n      <td>0.900000</td>\n      <td>1.583333</td>\n      <td>2.483333</td>\n      <td>0</td>\n    </tr>\n    <tr>\n      <th>106</th>\n      <td>0.307692</td>\n      <td>0.0</td>\n      <td>0.461538</td>\n      <td>0.076923</td>\n      <td>0.076923</td>\n      <td>0.307692</td>\n      <td>0.846154</td>\n      <td>0.769231</td>\n      <td>0.230769</td>\n      <td>0.230769</td>\n      <td>...</td>\n      <td>0.000000</td>\n      <td>0.272727</td>\n      <td>0.727273</td>\n      <td>0.454545</td>\n      <td>0.090909</td>\n      <td>0.090909</td>\n      <td>0.272727</td>\n      <td>1.545455</td>\n      <td>1.818182</td>\n      <td>1</td>\n    </tr>\n    <tr>\n      <th>107</th>\n      <td>0.307692</td>\n      <td>0.0</td>\n      <td>0.461538</td>\n      <td>0.076923</td>\n      <td>0.076923</td>\n      <td>0.307692</td>\n      <td>0.846154</td>\n      <td>0.769231</td>\n      <td>0.230769</td>\n      <td>0.230769</td>\n      <td>...</td>\n      <td>0.000000</td>\n      <td>0.200000</td>\n      <td>0.900000</td>\n      <td>0.800000</td>\n      <td>0.100000</td>\n      <td>0.100000</td>\n      <td>1.000000</td>\n      <td>2.000000</td>\n      <td>3.000000</td>\n      <td>0</td>\n    </tr>\n    <tr>\n      <th>108</th>\n      <td>0.307692</td>\n      <td>0.0</td>\n      <td>0.461538</td>\n      <td>0.076923</td>\n      <td>0.076923</td>\n      <td>0.307692</td>\n      <td>0.846154</td>\n      <td>0.769231</td>\n      <td>0.230769</td>\n      <td>0.230769</td>\n      <td>...</td>\n      <td>0.000000</td>\n      <td>0.272727</td>\n      <td>0.545455</td>\n      <td>0.545455</td>\n      <td>0.090909</td>\n      <td>0.090909</td>\n      <td>0.416667</td>\n      <td>1.454545</td>\n      <td>1.871212</td>\n      <td>0</td>\n    </tr>\n    <tr>\n      <th>109</th>\n      <td>0.307692</td>\n      <td>0.0</td>\n      <td>0.461538</td>\n      <td>0.076923</td>\n      <td>0.076923</td>\n      <td>0.307692</td>\n      <td>0.846154</td>\n      <td>0.769231</td>\n      <td>0.230769</td>\n      <td>0.230769</td>\n      <td>...</td>\n      <td>0.230769</td>\n      <td>0.307692</td>\n      <td>1.000000</td>\n      <td>0.538462</td>\n      <td>0.076923</td>\n      <td>0.076923</td>\n      <td>-0.153846</td>\n      <td>1.923077</td>\n      <td>1.769231</td>\n      <td>1</td>\n    </tr>\n  </tbody>\n</table>\n<p>110 rows × 27 columns</p>\n</div>"
     },
     "execution_count": 5,
     "metadata": {},
     "output_type": "execute_result"
    }
   ],
   "source": [
    "matchup_df = generate_matchups(drive_summary, \"Pittsburgh Steelers\", \"Baltimore Ravens\")\n",
    "matchup_df"
   ],
   "metadata": {
    "collapsed": false,
    "ExecuteTime": {
     "end_time": "2024-11-18T05:44:18.944767Z",
     "start_time": "2024-11-18T05:44:18.933998Z"
    }
   },
   "id": "f95f0d9450e280cb"
  },
  {
   "cell_type": "code",
   "execution_count": 6,
   "outputs": [
    {
     "name": "stdout",
     "output_type": "stream",
     "text": [
      "Model Accuracy: 1.00\n",
      "\n",
      "Classification Report:\n",
      "              precision    recall  f1-score   support\n",
      "\n",
      "           0       1.00      1.00      1.00        14\n",
      "           1       1.00      1.00      1.00         8\n",
      "\n",
      "    accuracy                           1.00        22\n",
      "   macro avg       1.00      1.00      1.00        22\n",
      "weighted avg       1.00      1.00      1.00        22\n",
      "\n",
      "Model saved as 'random_forest_matchup_model.pkl'\n"
     ]
    }
   ],
   "source": [
    "##### model ####\n",
    "\n",
    "\n",
    "from sklearn.model_selection import train_test_split\n",
    "from sklearn.ensemble import RandomForestClassifier\n",
    "from sklearn.metrics import accuracy_score, classification_report\n",
    "import joblib\n",
    "\n",
    "# Step 1: Prepare the data\n",
    "X = matchup_df.drop(columns=['Result']) \n",
    "y = matchup_df['Result']               \n",
    "\n",
    "# Split into training and testing sets\n",
    "X_train, X_test, y_train, y_test = train_test_split(X, y, test_size=0.2, random_state=42)\n",
    "\n",
    "# Step 2: Train the Random Forest model\n",
    "model = RandomForestClassifier(n_estimators=100, random_state=42)\n",
    "model.fit(X_train, y_train)\n",
    "\n",
    "# Step 3: Evaluate the model\n",
    "y_pred = model.predict(X_test)\n",
    "\n",
    "# Print evaluation metrics\n",
    "accuracy = accuracy_score(y_test, y_pred)\n",
    "print(f\"Model Accuracy: {accuracy:.2f}\")\n",
    "print(\"\\nClassification Report:\")\n",
    "print(classification_report(y_test, y_pred))\n",
    "\n",
    "# Step 4: Save the trained model\n",
    "joblib.dump(model, 'random_forest_matchup_model.pkl')\n",
    "print(\"Model saved as 'random_forest_matchup_model.pkl'\")\n",
    "\n",
    "\n"
   ],
   "metadata": {
    "collapsed": false,
    "ExecuteTime": {
     "end_time": "2024-11-18T05:44:38.721255Z",
     "start_time": "2024-11-18T05:44:37.603755Z"
    }
   },
   "id": "24c0e3e791364a4a"
  },
  {
   "cell_type": "code",
   "execution_count": 7,
   "outputs": [
    {
     "name": "stdout",
     "output_type": "stream",
     "text": [
      "\n",
      "Top Feature Importances:\n",
      "                                Feature  Importance\n",
      "14                   Team_B_touchdown_%    0.188212\n",
      "23  Team_B_offensive_performance_metric    0.171678\n",
      "20            Team_B_point_prevention_%    0.090767\n",
      "12      Team_A_total_performance_metric    0.078005\n",
      "25      Team_B_total_performance_metric    0.076490\n",
      "15                       Team_B_point_%    0.058229\n",
      "18                 Team_B_forced_punt_%    0.037356\n",
      "7             Team_A_point_prevention_%    0.035747\n",
      "6         Team_A_touchdown_prevention_%    0.032764\n",
      "11  Team_A_defensive_performance_metric    0.031925\n"
     ]
    }
   ],
   "source": [
    "#### feature importance evaluation \n",
    "\n",
    "import pandas as pd\n",
    "\n",
    "# Get feature importances\n",
    "feature_importances = model.feature_importances_\n",
    "feature_names = X.columns\n",
    "importance_df = pd.DataFrame({'Feature': feature_names, 'Importance': feature_importances})\n",
    "importance_df = importance_df.sort_values(by='Importance', ascending=False)\n",
    "\n",
    "print(\"\\nTop Feature Importances:\")\n",
    "print(importance_df.head(10))  # Top 10 features"
   ],
   "metadata": {
    "collapsed": false,
    "ExecuteTime": {
     "end_time": "2024-11-18T05:46:32.466924Z",
     "start_time": "2024-11-18T05:46:32.439132Z"
    }
   },
   "id": "7233e58cda06e264"
  },
  {
   "cell_type": "code",
   "execution_count": 9,
   "outputs": [
    {
     "name": "stdout",
     "output_type": "stream",
     "text": [
      "Cross-Validation Scores: [1.         1.         0.81818182 1.         1.        ]\n",
      "Mean CV Accuracy: 0.96\n"
     ]
    }
   ],
   "source": [
    "#### cross validation ###\n",
    "\n",
    "from sklearn.model_selection import cross_val_score\n",
    "\n",
    "# Perform 5-fold cross-validation\n",
    "cv_scores = cross_val_score(model, X, y, cv=5)\n",
    "print(f\"Cross-Validation Scores: {cv_scores}\")\n",
    "print(f\"Mean CV Accuracy: {cv_scores.mean():.2f}\")"
   ],
   "metadata": {
    "collapsed": false,
    "ExecuteTime": {
     "end_time": "2024-11-18T05:49:06.308228Z",
     "start_time": "2024-11-18T05:49:05.787120Z"
    }
   },
   "id": "ded6bd344b461c9f"
  },
  {
   "cell_type": "code",
   "execution_count": 53,
   "outputs": [
    {
     "name": "stdout",
     "output_type": "stream",
     "text": [
      "Predicted Result: Team B Wins\n"
     ]
    }
   ],
   "source": [
    "# Load the trained model\n",
    "import joblib\n",
    "model = joblib.load('random_forest_matchup_model.pkl')\n",
    "\n",
    "# Prepare the stats for the new teams\n",
    "# Prepare the stats for the new teams\n",
    "team_a_stats = drive_summary[drive_summary['team'] == 'Buffalo Bills'].select_dtypes(include=['float64', 'int64']).mean()\n",
    "team_b_stats = drive_summary[drive_summary['team'] == 'Pittsburgh Steelers'].select_dtypes(include=['float64', 'int64']).mean()\n",
    "\n",
    "# Create the new matchup dictionary\n",
    "new_matchup = {\n",
    "    **{f\"Team_A_{col}\": team_a_stats[col] for col in drive_summary.columns if col not in ['team', 'opponent', 'date', 'result']},\n",
    "    **{f\"Team_B_{col}\": team_b_stats[col] for col in drive_summary.columns if col not in ['team', 'opponent', 'date', 'result']}\n",
    "}\n",
    "\n",
    "# Convert to DataFrame\n",
    "new_matchup_df = pd.DataFrame([new_matchup])\n",
    "\n",
    "# Predict the outcome\n",
    "prediction = model.predict(new_matchup_df)\n",
    "print(\"Predicted Result:\", \"Team A Wins\" if prediction[0] == 1 else \"Team B Wins\")\n",
    "\n"
   ],
   "metadata": {
    "collapsed": false,
    "ExecuteTime": {
     "end_time": "2024-11-18T06:01:56.782041Z",
     "start_time": "2024-11-18T06:01:56.756692Z"
    }
   },
   "id": "b771b56a9dc73175"
  },
  {
   "cell_type": "code",
   "execution_count": 32,
   "outputs": [
    {
     "data": {
      "text/plain": "   Team_A_punt_%  Team_A_touchdown_%  Team_A_point_%  Team_A_turnover_%  \\\n0            0.3                 0.0             0.6                0.0   \n\n   Team_A_splash_allowed_%  Team_A_forced_punt_%  \\\n0                      0.0                   0.4   \n\n   Team_A_touchdown_prevention_%  Team_A_point_prevention_%  \\\n0                            0.9                        0.8   \n\n   Team_A_forced_turnover_%  Team_A_splash_forced_%  ...  Team_B_turnover_%  \\\n0                       0.3                     0.3  ...                0.0   \n\n   Team_B_splash_allowed_%  Team_B_forced_punt_%  \\\n0                      0.0              0.333333   \n\n   Team_B_touchdown_prevention_%  Team_B_point_prevention_%  \\\n0                       0.666667                   0.666667   \n\n   Team_B_forced_turnover_%  Team_B_splash_forced_%  \\\n0                       0.0                     0.0   \n\n   Team_B_offensive_performance_metric  Team_B_defensive_performance_metric  \\\n0                             1.111111                             1.666667   \n\n   Team_B_total_performance_metric  \n0                         2.777778  \n\n[1 rows x 26 columns]",
      "text/html": "<div>\n<style scoped>\n    .dataframe tbody tr th:only-of-type {\n        vertical-align: middle;\n    }\n\n    .dataframe tbody tr th {\n        vertical-align: top;\n    }\n\n    .dataframe thead th {\n        text-align: right;\n    }\n</style>\n<table border=\"1\" class=\"dataframe\">\n  <thead>\n    <tr style=\"text-align: right;\">\n      <th></th>\n      <th>Team_A_punt_%</th>\n      <th>Team_A_touchdown_%</th>\n      <th>Team_A_point_%</th>\n      <th>Team_A_turnover_%</th>\n      <th>Team_A_splash_allowed_%</th>\n      <th>Team_A_forced_punt_%</th>\n      <th>Team_A_touchdown_prevention_%</th>\n      <th>Team_A_point_prevention_%</th>\n      <th>Team_A_forced_turnover_%</th>\n      <th>Team_A_splash_forced_%</th>\n      <th>...</th>\n      <th>Team_B_turnover_%</th>\n      <th>Team_B_splash_allowed_%</th>\n      <th>Team_B_forced_punt_%</th>\n      <th>Team_B_touchdown_prevention_%</th>\n      <th>Team_B_point_prevention_%</th>\n      <th>Team_B_forced_turnover_%</th>\n      <th>Team_B_splash_forced_%</th>\n      <th>Team_B_offensive_performance_metric</th>\n      <th>Team_B_defensive_performance_metric</th>\n      <th>Team_B_total_performance_metric</th>\n    </tr>\n  </thead>\n  <tbody>\n    <tr>\n      <th>0</th>\n      <td>0.3</td>\n      <td>0.0</td>\n      <td>0.6</td>\n      <td>0.0</td>\n      <td>0.0</td>\n      <td>0.4</td>\n      <td>0.9</td>\n      <td>0.8</td>\n      <td>0.3</td>\n      <td>0.3</td>\n      <td>...</td>\n      <td>0.0</td>\n      <td>0.0</td>\n      <td>0.333333</td>\n      <td>0.666667</td>\n      <td>0.666667</td>\n      <td>0.0</td>\n      <td>0.0</td>\n      <td>1.111111</td>\n      <td>1.666667</td>\n      <td>2.777778</td>\n    </tr>\n  </tbody>\n</table>\n<p>1 rows × 26 columns</p>\n</div>"
     },
     "execution_count": 32,
     "metadata": {},
     "output_type": "execute_result"
    }
   ],
   "source": [
    "new_matchup_df"
   ],
   "metadata": {
    "collapsed": false,
    "ExecuteTime": {
     "end_time": "2024-11-18T05:53:38.024115Z",
     "start_time": "2024-11-18T05:53:38.002578Z"
    }
   },
   "id": "dfec3ccddf24b89e"
  },
  {
   "cell_type": "markdown",
   "source": [
    "# Attempt Two "
   ],
   "metadata": {
    "collapsed": false
   },
   "id": "7b4e553bf4f7a6e3"
  },
  {
   "cell_type": "code",
   "execution_count": 8,
   "outputs": [],
   "source": [],
   "metadata": {
    "collapsed": false,
    "ExecuteTime": {
     "end_time": "2024-11-21T05:41:44.517347Z",
     "start_time": "2024-11-21T05:41:37.890689Z"
    }
   },
   "id": "9a990434e4d48428"
  },
  {
   "cell_type": "code",
   "execution_count": 9,
   "outputs": [
    {
     "name": "stdout",
     "output_type": "stream",
     "text": [
      "Accuracy: 1.00\n",
      "              precision    recall  f1-score   support\n",
      "\n",
      "           0       1.00      1.00      1.00      7838\n",
      "           1       1.00      1.00      1.00      2840\n",
      "\n",
      "    accuracy                           1.00     10678\n",
      "   macro avg       1.00      1.00      1.00     10678\n",
      "weighted avg       1.00      1.00      1.00     10678\n",
      "\n",
      "Model saved as 'random_forest_matchup_model.pkl'\n"
     ]
    }
   ],
   "source": [],
   "metadata": {
    "collapsed": false,
    "ExecuteTime": {
     "end_time": "2024-11-21T05:41:51.034455Z",
     "start_time": "2024-11-21T05:41:46.405089Z"
    }
   },
   "id": "f4fddd92af5955c9"
  },
  {
   "cell_type": "code",
   "execution_count": 10,
   "outputs": [
    {
     "name": "stdout",
     "output_type": "stream",
     "text": [
      "\n",
      "Top Feature Importances:\n",
      "                                Feature  Importance\n",
      "25      Team_B_total_performance_metric    0.168865\n",
      "12      Team_A_total_performance_metric    0.157280\n",
      "24  Team_B_defensive_performance_metric    0.055635\n",
      "2                        Team_A_point_%    0.053132\n",
      "20            Team_B_point_prevention_%    0.053050\n",
      "1                    Team_A_touchdown_%    0.048969\n",
      "23  Team_B_offensive_performance_metric    0.046290\n",
      "11  Team_A_defensive_performance_metric    0.044206\n",
      "6         Team_A_touchdown_prevention_%    0.040381\n",
      "10  Team_A_offensive_performance_metric    0.040214\n"
     ]
    }
   ],
   "source": [
    "\n",
    "import pandas as pd\n",
    "\n",
    "# Get feature importances\n",
    "feature_importances = model.feature_importances_\n",
    "feature_names = X.columns\n",
    "importance_df = pd.DataFrame({'Feature': feature_names, 'Importance': feature_importances})\n",
    "importance_df = importance_df.sort_values(by='Importance', ascending=False)\n",
    "\n",
    "print(\"\\nTop Feature Importances:\")\n",
    "print(importance_df.head(10))  # Top 10 features"
   ],
   "metadata": {
    "collapsed": false,
    "ExecuteTime": {
     "end_time": "2024-11-21T05:42:08.996088Z",
     "start_time": "2024-11-21T05:42:08.973616Z"
    }
   },
   "id": "159fbc5fca4412a2"
  },
  {
   "cell_type": "code",
   "execution_count": 11,
   "outputs": [
    {
     "name": "stdout",
     "output_type": "stream",
     "text": [
      "Cross-Validation Scores: [0.94970968 0.91973401 0.95935188 0.96019481 0.95972651]\n",
      "Mean CV Accuracy: 0.95\n"
     ]
    }
   ],
   "source": [
    "#### cross validation ###\n",
    "\n",
    "from sklearn.model_selection import cross_val_score\n",
    "\n",
    "# Perform 5-fold cross-validation\n",
    "cv_scores = cross_val_score(model, X, y, cv=5)\n",
    "print(f\"Cross-Validation Scores: {cv_scores}\")\n",
    "print(f\"Mean CV Accuracy: {cv_scores.mean():.2f}\")"
   ],
   "metadata": {
    "collapsed": false,
    "ExecuteTime": {
     "end_time": "2024-11-21T05:42:36.912836Z",
     "start_time": "2024-11-21T05:42:17.607280Z"
    }
   },
   "id": "bb1f00a247f32e01"
  },
  {
   "cell_type": "code",
   "execution_count": 137,
   "outputs": [
    {
     "name": "stdout",
     "output_type": "stream",
     "text": [
      "[0]\n"
     ]
    },
    {
     "data": {
      "text/plain": "'Team B Wins'"
     },
     "execution_count": 137,
     "metadata": {},
     "output_type": "execute_result"
    }
   ],
   "source": [
    "# Load the trained model\n",
    "import joblib\n",
    "model = joblib.load('random_forest_matchup_model.pkl')\n",
    "\n",
    "# Function to create a matchup for prediction\n",
    "def predict_matchup(team_a, team_b, drive_summary):\n",
    "    # Ensure only numeric stats are used, explicitly excluding the 'result' column\n",
    "    numeric_columns = [col for col in drive_summary.select_dtypes(include=['float64', 'int64']).columns if col != 'result']\n",
    "\n",
    "    # Get stats for both teams\n",
    "    team_a_stats = drive_summary[drive_summary['team'] == team_a][numeric_columns].mean()\n",
    "    team_b_stats = drive_summary[drive_summary['team'] == team_b][numeric_columns].mean()\n",
    "\n",
    "    # Create the matchup dictionary\n",
    "    matchup = {\n",
    "        **{f\"Team_A_{col}\": team_a_stats[col] for col in numeric_columns},\n",
    "        **{f\"Team_B_{col}\": team_b_stats[col] for col in numeric_columns}\n",
    "    }\n",
    "\n",
    "    # Convert to DataFrame\n",
    "    matchup_df = pd.DataFrame([matchup])\n",
    "\n",
    "    # Predict the outcome\n",
    "    prediction = model.predict(matchup_df)\n",
    "    print(prediction)\n",
    "    return \"Team A Wins\" if prediction[0] == 1 else \"Team B Wins\"\n",
    "\n",
    "# Example: Predict a matchup\n",
    "#teams = drive_summary['team'].unique()\n",
    "matchup_1 = predict_matchup('Dallas Cowboys', 'Houston Texans', drive_summary)\n",
    "matchup_1\n"
   ],
   "metadata": {
    "collapsed": false,
    "ExecuteTime": {
     "end_time": "2024-11-19T03:39:45.497397Z",
     "start_time": "2024-11-19T03:39:45.357068Z"
    }
   },
   "id": "2eaa0c598b75bd10"
  },
  {
   "cell_type": "code",
   "execution_count": 132,
   "outputs": [
    {
     "data": {
      "text/plain": "array([0])"
     },
     "execution_count": 132,
     "metadata": {},
     "output_type": "execute_result"
    }
   ],
   "source": [
    "\n"
   ],
   "metadata": {
    "collapsed": false,
    "ExecuteTime": {
     "end_time": "2024-11-18T06:45:00.752975Z",
     "start_time": "2024-11-18T06:45:00.745317Z"
    }
   },
   "id": "f83ed1227e9ec5af"
  },
  {
   "cell_type": "code",
   "execution_count": null,
   "outputs": [],
   "source": [],
   "metadata": {
    "collapsed": false
   },
   "id": "f7a4bd3e9bffa0d9"
  },
  {
   "cell_type": "code",
   "execution_count": null,
   "outputs": [],
   "source": [],
   "metadata": {
    "collapsed": false
   },
   "id": "ace4e5fb093168b"
  },
  {
   "cell_type": "code",
   "execution_count": null,
   "outputs": [],
   "source": [],
   "metadata": {
    "collapsed": false
   },
   "id": "fea78f491734b438"
  }
 ],
 "metadata": {
  "kernelspec": {
   "display_name": "Python 3",
   "language": "python",
   "name": "python3"
  },
  "language_info": {
   "codemirror_mode": {
    "name": "ipython",
    "version": 2
   },
   "file_extension": ".py",
   "mimetype": "text/x-python",
   "name": "python",
   "nbconvert_exporter": "python",
   "pygments_lexer": "ipython2",
   "version": "2.7.6"
  }
 },
 "nbformat": 4,
 "nbformat_minor": 5
}
